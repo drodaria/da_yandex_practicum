{
 "cells": [
  {
   "cell_type": "markdown",
   "id": "genetic-credit",
   "metadata": {},
   "source": [
    "<b><font size=5><center>Сравнение тарифов мобильного оператора</center></font></b>"
   ]
  },
  {
   "cell_type": "markdown",
   "id": "generic-ethernet",
   "metadata": {},
   "source": [
    "### Описание проекта"
   ]
  },
  {
   "cell_type": "markdown",
   "id": "established-cedar",
   "metadata": {},
   "source": [
    "Вы аналитик компании «Мегалайн» — федерального оператора сотовой связи. Клиентам предлагают два тарифных плана: «Смарт» и «Ультра». Чтобы скорректировать рекламный бюджет, коммерческий департамент хочет понять, какой тариф приносит больше денег.\n",
    "Вам предстоит сделать предварительный анализ тарифов на небольшой выборке клиентов. В вашем распоряжении данные 500 пользователей «Мегалайна»: кто они, откуда, каким тарифом пользуются, сколько звонков и сообщений каждый отправил за 2018 год. Нужно проанализировать поведение клиентов и сделать вывод — какой тариф лучше."
   ]
  },
  {
   "cell_type": "markdown",
   "id": "close-wallet",
   "metadata": {},
   "source": [
    "### Описание тарифов"
   ]
  },
  {
   "cell_type": "markdown",
   "id": "promotional-commercial",
   "metadata": {},
   "source": [
    "- **Тариф «Смарт»**\n",
    "Ежемесячная плата: 550 рублей\n",
    "Включено 500 минут разговора, 50 сообщений и 15 Гб интернет-трафика\n",
    "Стоимость услуг сверх тарифного пакета:\n",
    "минута разговора: 3 рубля\n",
    "сообщение: 3 рубля\n",
    "1 Гб интернет-трафика: 200 рублей\n",
    "- **Тариф «Ультра»**\n",
    "Ежемесячная плата: 1950 рублей\n",
    "Включено 3000 минут разговора, 1000 сообщений и 30 Гб интернет-трафика\n",
    "Стоимость услуг сверх тарифного пакета:\n",
    "минута разговора: 1 рубль\n",
    "сообщение: 1 рубль\n",
    "1 Гб интернет-трафика: 150 рублей\n",
    "**Примечание**\n",
    "«Мегалайн» всегда округляет секунды до минут, а мегабайты — до гигабайт. Каждый звонок округляется отдельно: даже если он длился всего 1 секунду, будет засчитан как 1 минута.\n",
    "Для веб-трафика отдельные сессии не считаются. Вместо этого общая сумма за месяц округляется в бо́льшую сторону. Если абонент использует 1025 мегабайт в этом месяце, с него возьмут плату за 2 гигабайта. Примите, что неиспользованные за предыдущий месяц звонки, смс, интернет на следующий месяц не переносятся."
   ]
  },
  {
   "cell_type": "markdown",
   "id": "generic-approach",
   "metadata": {},
   "source": [
    "### Описание датасетов"
   ]
  },
  {
   "cell_type": "markdown",
   "id": "norwegian-momentum",
   "metadata": {},
   "source": [
    "- Таблица `users` (информация о пользователях):\n",
    "    - user_id — уникальный идентификатор пользователя\n",
    "    - first_name — имя пользователя\n",
    "    - last_name — фамилия пользователя\n",
    "    - age — возраст пользователя (годы)\n",
    "    - reg_date — дата подключения тарифа (день, месяц, год)\n",
    "    - churn_date — дата прекращения пользования тарифом (если значение пропущено, то тариф ещё действовал на момент выгрузки данных)\n",
    "    - city — город проживания пользователя\n",
    "    - tariff — название тарифного плана\n",
    "- Таблица `calls` (информация о звонках):\n",
    "    - id — уникальный номер звонка\n",
    "    - call_date — дата звонка\n",
    "    - duration — длительность звонка в минутах\n",
    "    - user_id — идентификатор пользователя, сделавшего звонок\n",
    "- Таблица `messages` (информация о сообщениях):\n",
    "    - id — уникальный номер сообщения\n",
    "    - message_date — дата сообщения\n",
    "    - user_id — идентификатор пользователя, отправившего сообщение\n",
    "- Таблица `internet` (информация об интернет-сессиях):\n",
    "    - id — уникальный номер сессии\n",
    "    - mb_used — объём потраченного за сессию интернет-трафика (в мегабайтах)\n",
    "    - session_date — дата интернет-сессии\n",
    "    - user_id — идентификатор пользователя\n",
    "- Таблица `tariffs` (информация о тарифах):\n",
    "    - tariff_name — название тарифа\n",
    "    - rub_monthly_fee — ежемесячная абонентская плата в рублях\n",
    "    - minutes_included — количество минут разговора в месяц, включённых в абонентскую плату\n",
    "    - messages_included — количество сообщений в месяц, включённых в абонентскую плату\n",
    "    - mb_per_month_included — объём интернет-трафика, включённого в абонентскую плату (в мегабайтах)\n",
    "    - rub_per_minute — стоимость минуты разговора сверх тарифного пакета (например, если в тарифе 100 минут разговора в месяц, то со 101 минуты будет взиматься плата)\n",
    "    - rub_per_message — стоимость отправки сообщения сверх тарифного пакета\n",
    "    - rub_per_gb — стоимость дополнительного гигабайта интернет-трафика сверх тарифного пакета (1 гигабайт = 1024 мегабайта)"
   ]
  },
  {
   "cell_type": "markdown",
   "id": "endless-geometry",
   "metadata": {},
   "source": [
    "### Введение"
   ]
  },
  {
   "cell_type": "markdown",
   "id": "working-librarian",
   "metadata": {},
   "source": [
    "В данном проекте я объединила полученные от \"Мегалайн\" датасеты в один. Привела типы данных в удобные для работы. \n",
    "Посчитала выручку с каждого пользователя в месяц.\n",
    "Далее я проанализировала сколько минут, сообщений и мегабайт в среднем тратят пользователи каждого тарифа и добавила визуализацию.\n",
    "Я проверила две гипотезы и сделала вывод - какой тариф лучше.\n"
   ]
  },
  {
   "cell_type": "markdown",
   "id": "electrical-membership",
   "metadata": {},
   "source": [
    "### Подготовка данных"
   ]
  },
  {
   "cell_type": "code",
   "execution_count": 1,
   "id": "related-softball",
   "metadata": {},
   "outputs": [],
   "source": [
    "import pandas as pd\n",
    "import matplotlib.pyplot as plt\n",
    "import scipy as sp\n",
    "import numpy as np\n",
    "import math\n",
    "import seaborn as sns\n",
    "import warnings\n",
    "warnings.filterwarnings('ignore')"
   ]
  },
  {
   "cell_type": "code",
   "execution_count": 2,
   "id": "center-designation",
   "metadata": {},
   "outputs": [
    {
     "data": {
      "text/html": [
       "<div>\n",
       "<style scoped>\n",
       "    .dataframe tbody tr th:only-of-type {\n",
       "        vertical-align: middle;\n",
       "    }\n",
       "\n",
       "    .dataframe tbody tr th {\n",
       "        vertical-align: top;\n",
       "    }\n",
       "\n",
       "    .dataframe thead th {\n",
       "        text-align: right;\n",
       "    }\n",
       "</style>\n",
       "<table border=\"1\" class=\"dataframe\">\n",
       "  <thead>\n",
       "    <tr style=\"text-align: right;\">\n",
       "      <th></th>\n",
       "      <th>user_id</th>\n",
       "      <th>age</th>\n",
       "      <th>churn_date</th>\n",
       "      <th>city</th>\n",
       "      <th>first_name</th>\n",
       "      <th>last_name</th>\n",
       "      <th>reg_date</th>\n",
       "      <th>tariff</th>\n",
       "    </tr>\n",
       "  </thead>\n",
       "  <tbody>\n",
       "    <tr>\n",
       "      <th>0</th>\n",
       "      <td>1000</td>\n",
       "      <td>52</td>\n",
       "      <td>NaN</td>\n",
       "      <td>Краснодар</td>\n",
       "      <td>Рафаил</td>\n",
       "      <td>Верещагин</td>\n",
       "      <td>2018-05-25</td>\n",
       "      <td>ultra</td>\n",
       "    </tr>\n",
       "    <tr>\n",
       "      <th>1</th>\n",
       "      <td>1001</td>\n",
       "      <td>41</td>\n",
       "      <td>NaN</td>\n",
       "      <td>Москва</td>\n",
       "      <td>Иван</td>\n",
       "      <td>Ежов</td>\n",
       "      <td>2018-11-01</td>\n",
       "      <td>smart</td>\n",
       "    </tr>\n",
       "    <tr>\n",
       "      <th>2</th>\n",
       "      <td>1002</td>\n",
       "      <td>59</td>\n",
       "      <td>NaN</td>\n",
       "      <td>Стерлитамак</td>\n",
       "      <td>Евгений</td>\n",
       "      <td>Абрамович</td>\n",
       "      <td>2018-06-17</td>\n",
       "      <td>smart</td>\n",
       "    </tr>\n",
       "    <tr>\n",
       "      <th>3</th>\n",
       "      <td>1003</td>\n",
       "      <td>23</td>\n",
       "      <td>NaN</td>\n",
       "      <td>Москва</td>\n",
       "      <td>Белла</td>\n",
       "      <td>Белякова</td>\n",
       "      <td>2018-08-17</td>\n",
       "      <td>ultra</td>\n",
       "    </tr>\n",
       "    <tr>\n",
       "      <th>4</th>\n",
       "      <td>1004</td>\n",
       "      <td>68</td>\n",
       "      <td>NaN</td>\n",
       "      <td>Новокузнецк</td>\n",
       "      <td>Татьяна</td>\n",
       "      <td>Авдеенко</td>\n",
       "      <td>2018-05-14</td>\n",
       "      <td>ultra</td>\n",
       "    </tr>\n",
       "  </tbody>\n",
       "</table>\n",
       "</div>"
      ],
      "text/plain": [
       "   user_id  age churn_date         city first_name  last_name    reg_date  \\\n",
       "0     1000   52        NaN    Краснодар     Рафаил  Верещагин  2018-05-25   \n",
       "1     1001   41        NaN       Москва       Иван       Ежов  2018-11-01   \n",
       "2     1002   59        NaN  Стерлитамак    Евгений  Абрамович  2018-06-17   \n",
       "3     1003   23        NaN       Москва      Белла   Белякова  2018-08-17   \n",
       "4     1004   68        NaN  Новокузнецк    Татьяна   Авдеенко  2018-05-14   \n",
       "\n",
       "  tariff  \n",
       "0  ultra  \n",
       "1  smart  \n",
       "2  smart  \n",
       "3  ultra  \n",
       "4  ultra  "
      ]
     },
     "metadata": {},
     "output_type": "display_data"
    },
    {
     "data": {
      "text/html": [
       "<div>\n",
       "<style scoped>\n",
       "    .dataframe tbody tr th:only-of-type {\n",
       "        vertical-align: middle;\n",
       "    }\n",
       "\n",
       "    .dataframe tbody tr th {\n",
       "        vertical-align: top;\n",
       "    }\n",
       "\n",
       "    .dataframe thead th {\n",
       "        text-align: right;\n",
       "    }\n",
       "</style>\n",
       "<table border=\"1\" class=\"dataframe\">\n",
       "  <thead>\n",
       "    <tr style=\"text-align: right;\">\n",
       "      <th></th>\n",
       "      <th>Unnamed: 0</th>\n",
       "      <th>id</th>\n",
       "      <th>mb_used</th>\n",
       "      <th>session_date</th>\n",
       "      <th>user_id</th>\n",
       "    </tr>\n",
       "  </thead>\n",
       "  <tbody>\n",
       "    <tr>\n",
       "      <th>0</th>\n",
       "      <td>0</td>\n",
       "      <td>1000_0</td>\n",
       "      <td>112.95</td>\n",
       "      <td>2018-11-25</td>\n",
       "      <td>1000</td>\n",
       "    </tr>\n",
       "    <tr>\n",
       "      <th>1</th>\n",
       "      <td>1</td>\n",
       "      <td>1000_1</td>\n",
       "      <td>1052.81</td>\n",
       "      <td>2018-09-07</td>\n",
       "      <td>1000</td>\n",
       "    </tr>\n",
       "    <tr>\n",
       "      <th>2</th>\n",
       "      <td>2</td>\n",
       "      <td>1000_2</td>\n",
       "      <td>1197.26</td>\n",
       "      <td>2018-06-25</td>\n",
       "      <td>1000</td>\n",
       "    </tr>\n",
       "    <tr>\n",
       "      <th>3</th>\n",
       "      <td>3</td>\n",
       "      <td>1000_3</td>\n",
       "      <td>550.27</td>\n",
       "      <td>2018-08-22</td>\n",
       "      <td>1000</td>\n",
       "    </tr>\n",
       "    <tr>\n",
       "      <th>4</th>\n",
       "      <td>4</td>\n",
       "      <td>1000_4</td>\n",
       "      <td>302.56</td>\n",
       "      <td>2018-09-24</td>\n",
       "      <td>1000</td>\n",
       "    </tr>\n",
       "  </tbody>\n",
       "</table>\n",
       "</div>"
      ],
      "text/plain": [
       "   Unnamed: 0      id  mb_used session_date  user_id\n",
       "0           0  1000_0   112.95   2018-11-25     1000\n",
       "1           1  1000_1  1052.81   2018-09-07     1000\n",
       "2           2  1000_2  1197.26   2018-06-25     1000\n",
       "3           3  1000_3   550.27   2018-08-22     1000\n",
       "4           4  1000_4   302.56   2018-09-24     1000"
      ]
     },
     "metadata": {},
     "output_type": "display_data"
    },
    {
     "data": {
      "text/html": [
       "<div>\n",
       "<style scoped>\n",
       "    .dataframe tbody tr th:only-of-type {\n",
       "        vertical-align: middle;\n",
       "    }\n",
       "\n",
       "    .dataframe tbody tr th {\n",
       "        vertical-align: top;\n",
       "    }\n",
       "\n",
       "    .dataframe thead th {\n",
       "        text-align: right;\n",
       "    }\n",
       "</style>\n",
       "<table border=\"1\" class=\"dataframe\">\n",
       "  <thead>\n",
       "    <tr style=\"text-align: right;\">\n",
       "      <th></th>\n",
       "      <th>id</th>\n",
       "      <th>message_date</th>\n",
       "      <th>user_id</th>\n",
       "    </tr>\n",
       "  </thead>\n",
       "  <tbody>\n",
       "    <tr>\n",
       "      <th>0</th>\n",
       "      <td>1000_0</td>\n",
       "      <td>2018-06-27</td>\n",
       "      <td>1000</td>\n",
       "    </tr>\n",
       "    <tr>\n",
       "      <th>1</th>\n",
       "      <td>1000_1</td>\n",
       "      <td>2018-10-08</td>\n",
       "      <td>1000</td>\n",
       "    </tr>\n",
       "    <tr>\n",
       "      <th>2</th>\n",
       "      <td>1000_2</td>\n",
       "      <td>2018-08-04</td>\n",
       "      <td>1000</td>\n",
       "    </tr>\n",
       "    <tr>\n",
       "      <th>3</th>\n",
       "      <td>1000_3</td>\n",
       "      <td>2018-06-16</td>\n",
       "      <td>1000</td>\n",
       "    </tr>\n",
       "    <tr>\n",
       "      <th>4</th>\n",
       "      <td>1000_4</td>\n",
       "      <td>2018-12-05</td>\n",
       "      <td>1000</td>\n",
       "    </tr>\n",
       "  </tbody>\n",
       "</table>\n",
       "</div>"
      ],
      "text/plain": [
       "       id message_date  user_id\n",
       "0  1000_0   2018-06-27     1000\n",
       "1  1000_1   2018-10-08     1000\n",
       "2  1000_2   2018-08-04     1000\n",
       "3  1000_3   2018-06-16     1000\n",
       "4  1000_4   2018-12-05     1000"
      ]
     },
     "metadata": {},
     "output_type": "display_data"
    },
    {
     "data": {
      "text/html": [
       "<div>\n",
       "<style scoped>\n",
       "    .dataframe tbody tr th:only-of-type {\n",
       "        vertical-align: middle;\n",
       "    }\n",
       "\n",
       "    .dataframe tbody tr th {\n",
       "        vertical-align: top;\n",
       "    }\n",
       "\n",
       "    .dataframe thead th {\n",
       "        text-align: right;\n",
       "    }\n",
       "</style>\n",
       "<table border=\"1\" class=\"dataframe\">\n",
       "  <thead>\n",
       "    <tr style=\"text-align: right;\">\n",
       "      <th></th>\n",
       "      <th>id</th>\n",
       "      <th>call_date</th>\n",
       "      <th>duration</th>\n",
       "      <th>user_id</th>\n",
       "    </tr>\n",
       "  </thead>\n",
       "  <tbody>\n",
       "    <tr>\n",
       "      <th>0</th>\n",
       "      <td>1000_0</td>\n",
       "      <td>2018-07-25</td>\n",
       "      <td>0.00</td>\n",
       "      <td>1000</td>\n",
       "    </tr>\n",
       "    <tr>\n",
       "      <th>1</th>\n",
       "      <td>1000_1</td>\n",
       "      <td>2018-08-17</td>\n",
       "      <td>0.00</td>\n",
       "      <td>1000</td>\n",
       "    </tr>\n",
       "    <tr>\n",
       "      <th>2</th>\n",
       "      <td>1000_2</td>\n",
       "      <td>2018-06-11</td>\n",
       "      <td>2.85</td>\n",
       "      <td>1000</td>\n",
       "    </tr>\n",
       "    <tr>\n",
       "      <th>3</th>\n",
       "      <td>1000_3</td>\n",
       "      <td>2018-09-21</td>\n",
       "      <td>13.80</td>\n",
       "      <td>1000</td>\n",
       "    </tr>\n",
       "    <tr>\n",
       "      <th>4</th>\n",
       "      <td>1000_4</td>\n",
       "      <td>2018-12-15</td>\n",
       "      <td>5.18</td>\n",
       "      <td>1000</td>\n",
       "    </tr>\n",
       "  </tbody>\n",
       "</table>\n",
       "</div>"
      ],
      "text/plain": [
       "       id   call_date  duration  user_id\n",
       "0  1000_0  2018-07-25      0.00     1000\n",
       "1  1000_1  2018-08-17      0.00     1000\n",
       "2  1000_2  2018-06-11      2.85     1000\n",
       "3  1000_3  2018-09-21     13.80     1000\n",
       "4  1000_4  2018-12-15      5.18     1000"
      ]
     },
     "metadata": {},
     "output_type": "display_data"
    }
   ],
   "source": [
    "users = pd.read_csv(r'C:\\Users\\mi\\Downloads\\users.csv')\n",
    "messages = pd.read_csv(r'C:\\Users\\mi\\Downloads\\messages.csv')\n",
    "tariffs = pd.read_csv(r'C:\\Users\\mi\\Downloads\\tariffs.csv')\n",
    "internet = pd.read_csv(r'C:\\Users\\mi\\Downloads\\internet.csv')\n",
    "calls = pd.read_csv(r'C:\\Users\\mi\\Downloads\\calls.csv')\n",
    "\n",
    "display(users.head())\n",
    "display(internet.head())\n",
    "display(messages.head())\n",
    "display(calls.head())"
   ]
  },
  {
   "cell_type": "markdown",
   "id": "incoming-arrangement",
   "metadata": {},
   "source": [
    "Добавим столбец с месяцем в датасеты звонков, сообщений и интернета. Сгруппируем данные в них по user_id и месяцу использования и просуммируем все показатели пользователя за определенный месяц. Объединим все в один большой датасет"
   ]
  },
  {
   "cell_type": "code",
   "execution_count": 3,
   "id": "competent-johnson",
   "metadata": {},
   "outputs": [
    {
     "data": {
      "text/html": [
       "<div>\n",
       "<style scoped>\n",
       "    .dataframe tbody tr th:only-of-type {\n",
       "        vertical-align: middle;\n",
       "    }\n",
       "\n",
       "    .dataframe tbody tr th {\n",
       "        vertical-align: top;\n",
       "    }\n",
       "\n",
       "    .dataframe thead th {\n",
       "        text-align: right;\n",
       "    }\n",
       "</style>\n",
       "<table border=\"1\" class=\"dataframe\">\n",
       "  <thead>\n",
       "    <tr style=\"text-align: right;\">\n",
       "      <th></th>\n",
       "      <th>user_id</th>\n",
       "      <th>month</th>\n",
       "      <th>duration</th>\n",
       "      <th>mb_used</th>\n",
       "      <th>messages</th>\n",
       "      <th>age</th>\n",
       "      <th>churn_date</th>\n",
       "      <th>city</th>\n",
       "      <th>first_name</th>\n",
       "      <th>last_name</th>\n",
       "      <th>reg_date</th>\n",
       "      <th>tariff</th>\n",
       "      <th>messages_included</th>\n",
       "      <th>mb_per_month_included</th>\n",
       "      <th>minutes_included</th>\n",
       "      <th>rub_monthly_fee</th>\n",
       "      <th>rub_per_gb</th>\n",
       "      <th>rub_per_message</th>\n",
       "      <th>rub_per_minute</th>\n",
       "      <th>tariff_name</th>\n",
       "    </tr>\n",
       "  </thead>\n",
       "  <tbody>\n",
       "    <tr>\n",
       "      <th>0</th>\n",
       "      <td>1000</td>\n",
       "      <td>5</td>\n",
       "      <td>159.0</td>\n",
       "      <td>2253.49</td>\n",
       "      <td>22.0</td>\n",
       "      <td>52</td>\n",
       "      <td>NaN</td>\n",
       "      <td>Краснодар</td>\n",
       "      <td>Рафаил</td>\n",
       "      <td>Верещагин</td>\n",
       "      <td>2018-05-25</td>\n",
       "      <td>ultra</td>\n",
       "      <td>1000</td>\n",
       "      <td>30720</td>\n",
       "      <td>3000</td>\n",
       "      <td>1950</td>\n",
       "      <td>150</td>\n",
       "      <td>1</td>\n",
       "      <td>1</td>\n",
       "      <td>ultra</td>\n",
       "    </tr>\n",
       "    <tr>\n",
       "      <th>1</th>\n",
       "      <td>1000</td>\n",
       "      <td>6</td>\n",
       "      <td>172.0</td>\n",
       "      <td>23233.77</td>\n",
       "      <td>60.0</td>\n",
       "      <td>52</td>\n",
       "      <td>NaN</td>\n",
       "      <td>Краснодар</td>\n",
       "      <td>Рафаил</td>\n",
       "      <td>Верещагин</td>\n",
       "      <td>2018-05-25</td>\n",
       "      <td>ultra</td>\n",
       "      <td>1000</td>\n",
       "      <td>30720</td>\n",
       "      <td>3000</td>\n",
       "      <td>1950</td>\n",
       "      <td>150</td>\n",
       "      <td>1</td>\n",
       "      <td>1</td>\n",
       "      <td>ultra</td>\n",
       "    </tr>\n",
       "    <tr>\n",
       "      <th>2</th>\n",
       "      <td>1000</td>\n",
       "      <td>7</td>\n",
       "      <td>340.0</td>\n",
       "      <td>14003.64</td>\n",
       "      <td>75.0</td>\n",
       "      <td>52</td>\n",
       "      <td>NaN</td>\n",
       "      <td>Краснодар</td>\n",
       "      <td>Рафаил</td>\n",
       "      <td>Верещагин</td>\n",
       "      <td>2018-05-25</td>\n",
       "      <td>ultra</td>\n",
       "      <td>1000</td>\n",
       "      <td>30720</td>\n",
       "      <td>3000</td>\n",
       "      <td>1950</td>\n",
       "      <td>150</td>\n",
       "      <td>1</td>\n",
       "      <td>1</td>\n",
       "      <td>ultra</td>\n",
       "    </tr>\n",
       "    <tr>\n",
       "      <th>3</th>\n",
       "      <td>1000</td>\n",
       "      <td>8</td>\n",
       "      <td>408.0</td>\n",
       "      <td>14055.93</td>\n",
       "      <td>81.0</td>\n",
       "      <td>52</td>\n",
       "      <td>NaN</td>\n",
       "      <td>Краснодар</td>\n",
       "      <td>Рафаил</td>\n",
       "      <td>Верещагин</td>\n",
       "      <td>2018-05-25</td>\n",
       "      <td>ultra</td>\n",
       "      <td>1000</td>\n",
       "      <td>30720</td>\n",
       "      <td>3000</td>\n",
       "      <td>1950</td>\n",
       "      <td>150</td>\n",
       "      <td>1</td>\n",
       "      <td>1</td>\n",
       "      <td>ultra</td>\n",
       "    </tr>\n",
       "    <tr>\n",
       "      <th>4</th>\n",
       "      <td>1000</td>\n",
       "      <td>9</td>\n",
       "      <td>466.0</td>\n",
       "      <td>14568.91</td>\n",
       "      <td>57.0</td>\n",
       "      <td>52</td>\n",
       "      <td>NaN</td>\n",
       "      <td>Краснодар</td>\n",
       "      <td>Рафаил</td>\n",
       "      <td>Верещагин</td>\n",
       "      <td>2018-05-25</td>\n",
       "      <td>ultra</td>\n",
       "      <td>1000</td>\n",
       "      <td>30720</td>\n",
       "      <td>3000</td>\n",
       "      <td>1950</td>\n",
       "      <td>150</td>\n",
       "      <td>1</td>\n",
       "      <td>1</td>\n",
       "      <td>ultra</td>\n",
       "    </tr>\n",
       "  </tbody>\n",
       "</table>\n",
       "</div>"
      ],
      "text/plain": [
       "   user_id  month  duration   mb_used  messages  age churn_date       city  \\\n",
       "0     1000      5     159.0   2253.49      22.0   52        NaN  Краснодар   \n",
       "1     1000      6     172.0  23233.77      60.0   52        NaN  Краснодар   \n",
       "2     1000      7     340.0  14003.64      75.0   52        NaN  Краснодар   \n",
       "3     1000      8     408.0  14055.93      81.0   52        NaN  Краснодар   \n",
       "4     1000      9     466.0  14568.91      57.0   52        NaN  Краснодар   \n",
       "\n",
       "  first_name  last_name    reg_date tariff  messages_included  \\\n",
       "0     Рафаил  Верещагин  2018-05-25  ultra               1000   \n",
       "1     Рафаил  Верещагин  2018-05-25  ultra               1000   \n",
       "2     Рафаил  Верещагин  2018-05-25  ultra               1000   \n",
       "3     Рафаил  Верещагин  2018-05-25  ultra               1000   \n",
       "4     Рафаил  Верещагин  2018-05-25  ultra               1000   \n",
       "\n",
       "   mb_per_month_included  minutes_included  rub_monthly_fee  rub_per_gb  \\\n",
       "0                  30720              3000             1950         150   \n",
       "1                  30720              3000             1950         150   \n",
       "2                  30720              3000             1950         150   \n",
       "3                  30720              3000             1950         150   \n",
       "4                  30720              3000             1950         150   \n",
       "\n",
       "   rub_per_message  rub_per_minute tariff_name  \n",
       "0                1               1       ultra  \n",
       "1                1               1       ultra  \n",
       "2                1               1       ultra  \n",
       "3                1               1       ultra  \n",
       "4                1               1       ultra  "
      ]
     },
     "metadata": {},
     "output_type": "display_data"
    }
   ],
   "source": [
    "calls['duration'] = [math.ceil(i) for i in calls['duration']] #округление длительности звонков до целой минуты в большую сторону по условиям тарифа\n",
    "\n",
    "calls['month'] = pd.DatetimeIndex(calls['call_date']).month\n",
    "messages['month'] = pd.DatetimeIndex(messages['message_date']).month\n",
    "internet['month'] = pd.DatetimeIndex(internet['session_date']).month\n",
    "\n",
    "calls = calls.groupby(['user_id', 'month']).agg({'duration': 'sum'}).reset_index()\n",
    "internet = internet.groupby(['user_id', 'month']).agg({'mb_used': 'sum'}).reset_index()\n",
    "messages = messages.groupby(['user_id', 'month']).agg({'id': 'count'}).rename(columns = {'id': 'messages'}).reset_index()\n",
    "\n",
    "data = calls.merge(internet, on = ['user_id', 'month'], how = 'outer')\\\n",
    "              .merge(messages, on = ['user_id', 'month'], how = 'outer').fillna(0)\n",
    "data = data.merge(users, on = 'user_id', how = 'left').merge(tariffs, left_on = 'tariff', \n",
    "                                                                 right_on = 'tariff_name', how = 'left')\n",
    "display(data.head())"
   ]
  },
  {
   "cell_type": "markdown",
   "id": "minimal-reservoir",
   "metadata": {},
   "source": [
    "Поработаем над типами данных. В столбцах с использованными минутами и мегабайтами приведет данные в целочисленный формат, округлив до целого вперед (как считается в тарифах). Количество сообщений также приведем в формат int64."
   ]
  },
  {
   "cell_type": "code",
   "execution_count": 4,
   "id": "suited-economy",
   "metadata": {},
   "outputs": [
    {
     "data": {
      "text/html": [
       "<div>\n",
       "<style scoped>\n",
       "    .dataframe tbody tr th:only-of-type {\n",
       "        vertical-align: middle;\n",
       "    }\n",
       "\n",
       "    .dataframe tbody tr th {\n",
       "        vertical-align: top;\n",
       "    }\n",
       "\n",
       "    .dataframe thead th {\n",
       "        text-align: right;\n",
       "    }\n",
       "</style>\n",
       "<table border=\"1\" class=\"dataframe\">\n",
       "  <thead>\n",
       "    <tr style=\"text-align: right;\">\n",
       "      <th></th>\n",
       "      <th>user_id</th>\n",
       "      <th>month</th>\n",
       "      <th>duration</th>\n",
       "      <th>gb_used</th>\n",
       "      <th>messages</th>\n",
       "      <th>age</th>\n",
       "      <th>churn_date</th>\n",
       "      <th>city</th>\n",
       "      <th>first_name</th>\n",
       "      <th>last_name</th>\n",
       "      <th>reg_date</th>\n",
       "      <th>tariff</th>\n",
       "      <th>messages_included</th>\n",
       "      <th>gb_per_month_included</th>\n",
       "      <th>minutes_included</th>\n",
       "      <th>rub_monthly_fee</th>\n",
       "      <th>rub_per_gb</th>\n",
       "      <th>rub_per_message</th>\n",
       "      <th>rub_per_minute</th>\n",
       "      <th>tariff_name</th>\n",
       "    </tr>\n",
       "  </thead>\n",
       "  <tbody>\n",
       "    <tr>\n",
       "      <th>0</th>\n",
       "      <td>1000</td>\n",
       "      <td>5</td>\n",
       "      <td>159</td>\n",
       "      <td>3</td>\n",
       "      <td>22</td>\n",
       "      <td>52</td>\n",
       "      <td>NaN</td>\n",
       "      <td>Краснодар</td>\n",
       "      <td>Рафаил</td>\n",
       "      <td>Верещагин</td>\n",
       "      <td>2018-05-25</td>\n",
       "      <td>ultra</td>\n",
       "      <td>1000</td>\n",
       "      <td>30</td>\n",
       "      <td>3000</td>\n",
       "      <td>1950</td>\n",
       "      <td>150</td>\n",
       "      <td>1</td>\n",
       "      <td>1</td>\n",
       "      <td>ultra</td>\n",
       "    </tr>\n",
       "    <tr>\n",
       "      <th>1</th>\n",
       "      <td>1000</td>\n",
       "      <td>6</td>\n",
       "      <td>172</td>\n",
       "      <td>23</td>\n",
       "      <td>60</td>\n",
       "      <td>52</td>\n",
       "      <td>NaN</td>\n",
       "      <td>Краснодар</td>\n",
       "      <td>Рафаил</td>\n",
       "      <td>Верещагин</td>\n",
       "      <td>2018-05-25</td>\n",
       "      <td>ultra</td>\n",
       "      <td>1000</td>\n",
       "      <td>30</td>\n",
       "      <td>3000</td>\n",
       "      <td>1950</td>\n",
       "      <td>150</td>\n",
       "      <td>1</td>\n",
       "      <td>1</td>\n",
       "      <td>ultra</td>\n",
       "    </tr>\n",
       "    <tr>\n",
       "      <th>2</th>\n",
       "      <td>1000</td>\n",
       "      <td>7</td>\n",
       "      <td>340</td>\n",
       "      <td>14</td>\n",
       "      <td>75</td>\n",
       "      <td>52</td>\n",
       "      <td>NaN</td>\n",
       "      <td>Краснодар</td>\n",
       "      <td>Рафаил</td>\n",
       "      <td>Верещагин</td>\n",
       "      <td>2018-05-25</td>\n",
       "      <td>ultra</td>\n",
       "      <td>1000</td>\n",
       "      <td>30</td>\n",
       "      <td>3000</td>\n",
       "      <td>1950</td>\n",
       "      <td>150</td>\n",
       "      <td>1</td>\n",
       "      <td>1</td>\n",
       "      <td>ultra</td>\n",
       "    </tr>\n",
       "    <tr>\n",
       "      <th>3</th>\n",
       "      <td>1000</td>\n",
       "      <td>8</td>\n",
       "      <td>408</td>\n",
       "      <td>14</td>\n",
       "      <td>81</td>\n",
       "      <td>52</td>\n",
       "      <td>NaN</td>\n",
       "      <td>Краснодар</td>\n",
       "      <td>Рафаил</td>\n",
       "      <td>Верещагин</td>\n",
       "      <td>2018-05-25</td>\n",
       "      <td>ultra</td>\n",
       "      <td>1000</td>\n",
       "      <td>30</td>\n",
       "      <td>3000</td>\n",
       "      <td>1950</td>\n",
       "      <td>150</td>\n",
       "      <td>1</td>\n",
       "      <td>1</td>\n",
       "      <td>ultra</td>\n",
       "    </tr>\n",
       "    <tr>\n",
       "      <th>4</th>\n",
       "      <td>1000</td>\n",
       "      <td>9</td>\n",
       "      <td>466</td>\n",
       "      <td>15</td>\n",
       "      <td>57</td>\n",
       "      <td>52</td>\n",
       "      <td>NaN</td>\n",
       "      <td>Краснодар</td>\n",
       "      <td>Рафаил</td>\n",
       "      <td>Верещагин</td>\n",
       "      <td>2018-05-25</td>\n",
       "      <td>ultra</td>\n",
       "      <td>1000</td>\n",
       "      <td>30</td>\n",
       "      <td>3000</td>\n",
       "      <td>1950</td>\n",
       "      <td>150</td>\n",
       "      <td>1</td>\n",
       "      <td>1</td>\n",
       "      <td>ultra</td>\n",
       "    </tr>\n",
       "  </tbody>\n",
       "</table>\n",
       "</div>"
      ],
      "text/plain": [
       "   user_id  month  duration  gb_used  messages  age churn_date       city  \\\n",
       "0     1000      5       159        3        22   52        NaN  Краснодар   \n",
       "1     1000      6       172       23        60   52        NaN  Краснодар   \n",
       "2     1000      7       340       14        75   52        NaN  Краснодар   \n",
       "3     1000      8       408       14        81   52        NaN  Краснодар   \n",
       "4     1000      9       466       15        57   52        NaN  Краснодар   \n",
       "\n",
       "  first_name  last_name    reg_date tariff  messages_included  \\\n",
       "0     Рафаил  Верещагин  2018-05-25  ultra               1000   \n",
       "1     Рафаил  Верещагин  2018-05-25  ultra               1000   \n",
       "2     Рафаил  Верещагин  2018-05-25  ultra               1000   \n",
       "3     Рафаил  Верещагин  2018-05-25  ultra               1000   \n",
       "4     Рафаил  Верещагин  2018-05-25  ultra               1000   \n",
       "\n",
       "   gb_per_month_included  minutes_included  rub_monthly_fee  rub_per_gb  \\\n",
       "0                     30              3000             1950         150   \n",
       "1                     30              3000             1950         150   \n",
       "2                     30              3000             1950         150   \n",
       "3                     30              3000             1950         150   \n",
       "4                     30              3000             1950         150   \n",
       "\n",
       "   rub_per_message  rub_per_minute tariff_name  \n",
       "0                1               1       ultra  \n",
       "1                1               1       ultra  \n",
       "2                1               1       ultra  \n",
       "3                1               1       ultra  \n",
       "4                1               1       ultra  "
      ]
     },
     "metadata": {},
     "output_type": "display_data"
    }
   ],
   "source": [
    "data['mb_used'] = data['mb_used'] / 1024 #перевод данных в гигабайты\n",
    "data['mb_per_month_included'] = data['mb_per_month_included'] / 1024\n",
    "\n",
    "data.rename(columns={'mb_used': 'gb_used', 'mb_per_month_included': 'gb_per_month_included'}, inplace=True) #переименуем столбцы для точности\n",
    "\n",
    "data['gb_used'] = [math.ceil(a) for a in data['gb_used']] #округление гигабайтов до целого в большую сторону по условиям тарифа\n",
    "\n",
    "data[['duration', 'gb_used', 'messages', 'gb_per_month_included']] = data[['duration', 'gb_used', 'messages', 'gb_per_month_included']].astype('int')\n",
    "display(data.head())"
   ]
  },
  {
   "cell_type": "markdown",
   "id": "prostate-reference",
   "metadata": {},
   "source": [
    "Зная наверняка, что мы не будем оперировать супер-большими числами в нашем дальнейшем анализе, можно перевести int64 в int32, для сокращения объема используемой памяти."
   ]
  },
  {
   "cell_type": "code",
   "execution_count": 5,
   "id": "foster-butler",
   "metadata": {},
   "outputs": [
    {
     "name": "stdout",
     "output_type": "stream",
     "text": [
      "<class 'pandas.core.frame.DataFrame'>\n",
      "Int64Index: 3214 entries, 0 to 3213\n",
      "Data columns (total 20 columns):\n",
      " #   Column                 Non-Null Count  Dtype \n",
      "---  ------                 --------------  ----- \n",
      " 0   user_id                3214 non-null   int32 \n",
      " 1   month                  3214 non-null   int32 \n",
      " 2   duration               3214 non-null   int32 \n",
      " 3   gb_used                3214 non-null   int32 \n",
      " 4   messages               3214 non-null   int32 \n",
      " 5   age                    3214 non-null   int32 \n",
      " 6   churn_date             187 non-null    object\n",
      " 7   city                   3214 non-null   object\n",
      " 8   first_name             3214 non-null   object\n",
      " 9   last_name              3214 non-null   object\n",
      " 10  reg_date               3214 non-null   object\n",
      " 11  tariff                 3214 non-null   object\n",
      " 12  messages_included      3214 non-null   int32 \n",
      " 13  gb_per_month_included  3214 non-null   int32 \n",
      " 14  minutes_included       3214 non-null   int32 \n",
      " 15  rub_monthly_fee        3214 non-null   int32 \n",
      " 16  rub_per_gb             3214 non-null   int32 \n",
      " 17  rub_per_message        3214 non-null   int32 \n",
      " 18  rub_per_minute         3214 non-null   int32 \n",
      " 19  tariff_name            3214 non-null   object\n",
      "dtypes: int32(13), object(7)\n",
      "memory usage: 364.1+ KB\n"
     ]
    }
   ],
   "source": [
    "data[['user_id', 'month', 'age', 'messages_included', 'gb_per_month_included', 'minutes_included', 'rub_monthly_fee', 'rub_per_gb', 'rub_per_message', 'rub_per_minute']] = data[['user_id', 'month', 'age', 'messages_included', 'gb_per_month_included', 'minutes_included', 'rub_monthly_fee', 'rub_per_gb', 'rub_per_message', 'rub_per_minute']].astype('int32')\n",
    "data.info()"
   ]
  },
  {
   "cell_type": "markdown",
   "id": "motivated-metabolism",
   "metadata": {},
   "source": [
    "Меня смущает столбец churn_date. Врядли мы будем использовать в дальнейшей работе с данными эти даты. Для нас, теоретически, может быть полезно посмотреть статистику - как часто отказываются отказываются и от какого тарифа. Поэтому я попробую перевести данные в булевы - просто укажем пользуется ли юзер еще данным тарифом или нет. Посмотрим, пригодится ли нам это. \n",
    "Мы знаем, что пропуск в данном столбце означает, что человек еще пользуется тарифом. От этого будем плясать."
   ]
  },
  {
   "cell_type": "code",
   "execution_count": 6,
   "id": "purple-prefix",
   "metadata": {},
   "outputs": [
    {
     "data": {
      "text/html": [
       "<div>\n",
       "<style scoped>\n",
       "    .dataframe tbody tr th:only-of-type {\n",
       "        vertical-align: middle;\n",
       "    }\n",
       "\n",
       "    .dataframe tbody tr th {\n",
       "        vertical-align: top;\n",
       "    }\n",
       "\n",
       "    .dataframe thead th {\n",
       "        text-align: right;\n",
       "    }\n",
       "</style>\n",
       "<table border=\"1\" class=\"dataframe\">\n",
       "  <thead>\n",
       "    <tr style=\"text-align: right;\">\n",
       "      <th></th>\n",
       "      <th>user_id</th>\n",
       "      <th>month</th>\n",
       "      <th>duration</th>\n",
       "      <th>gb_used</th>\n",
       "      <th>messages</th>\n",
       "      <th>age</th>\n",
       "      <th>still_using_tariff</th>\n",
       "      <th>city</th>\n",
       "      <th>first_name</th>\n",
       "      <th>last_name</th>\n",
       "      <th>reg_date</th>\n",
       "      <th>tariff</th>\n",
       "      <th>messages_included</th>\n",
       "      <th>gb_per_month_included</th>\n",
       "      <th>minutes_included</th>\n",
       "      <th>rub_monthly_fee</th>\n",
       "      <th>rub_per_gb</th>\n",
       "      <th>rub_per_message</th>\n",
       "      <th>rub_per_minute</th>\n",
       "      <th>tariff_name</th>\n",
       "    </tr>\n",
       "  </thead>\n",
       "  <tbody>\n",
       "    <tr>\n",
       "      <th>0</th>\n",
       "      <td>1000</td>\n",
       "      <td>5</td>\n",
       "      <td>159</td>\n",
       "      <td>3</td>\n",
       "      <td>22</td>\n",
       "      <td>52</td>\n",
       "      <td>True</td>\n",
       "      <td>Краснодар</td>\n",
       "      <td>Рафаил</td>\n",
       "      <td>Верещагин</td>\n",
       "      <td>2018-05-25</td>\n",
       "      <td>ultra</td>\n",
       "      <td>1000</td>\n",
       "      <td>30</td>\n",
       "      <td>3000</td>\n",
       "      <td>1950</td>\n",
       "      <td>150</td>\n",
       "      <td>1</td>\n",
       "      <td>1</td>\n",
       "      <td>ultra</td>\n",
       "    </tr>\n",
       "    <tr>\n",
       "      <th>1</th>\n",
       "      <td>1000</td>\n",
       "      <td>6</td>\n",
       "      <td>172</td>\n",
       "      <td>23</td>\n",
       "      <td>60</td>\n",
       "      <td>52</td>\n",
       "      <td>True</td>\n",
       "      <td>Краснодар</td>\n",
       "      <td>Рафаил</td>\n",
       "      <td>Верещагин</td>\n",
       "      <td>2018-05-25</td>\n",
       "      <td>ultra</td>\n",
       "      <td>1000</td>\n",
       "      <td>30</td>\n",
       "      <td>3000</td>\n",
       "      <td>1950</td>\n",
       "      <td>150</td>\n",
       "      <td>1</td>\n",
       "      <td>1</td>\n",
       "      <td>ultra</td>\n",
       "    </tr>\n",
       "    <tr>\n",
       "      <th>2</th>\n",
       "      <td>1000</td>\n",
       "      <td>7</td>\n",
       "      <td>340</td>\n",
       "      <td>14</td>\n",
       "      <td>75</td>\n",
       "      <td>52</td>\n",
       "      <td>True</td>\n",
       "      <td>Краснодар</td>\n",
       "      <td>Рафаил</td>\n",
       "      <td>Верещагин</td>\n",
       "      <td>2018-05-25</td>\n",
       "      <td>ultra</td>\n",
       "      <td>1000</td>\n",
       "      <td>30</td>\n",
       "      <td>3000</td>\n",
       "      <td>1950</td>\n",
       "      <td>150</td>\n",
       "      <td>1</td>\n",
       "      <td>1</td>\n",
       "      <td>ultra</td>\n",
       "    </tr>\n",
       "    <tr>\n",
       "      <th>3</th>\n",
       "      <td>1000</td>\n",
       "      <td>8</td>\n",
       "      <td>408</td>\n",
       "      <td>14</td>\n",
       "      <td>81</td>\n",
       "      <td>52</td>\n",
       "      <td>True</td>\n",
       "      <td>Краснодар</td>\n",
       "      <td>Рафаил</td>\n",
       "      <td>Верещагин</td>\n",
       "      <td>2018-05-25</td>\n",
       "      <td>ultra</td>\n",
       "      <td>1000</td>\n",
       "      <td>30</td>\n",
       "      <td>3000</td>\n",
       "      <td>1950</td>\n",
       "      <td>150</td>\n",
       "      <td>1</td>\n",
       "      <td>1</td>\n",
       "      <td>ultra</td>\n",
       "    </tr>\n",
       "    <tr>\n",
       "      <th>4</th>\n",
       "      <td>1000</td>\n",
       "      <td>9</td>\n",
       "      <td>466</td>\n",
       "      <td>15</td>\n",
       "      <td>57</td>\n",
       "      <td>52</td>\n",
       "      <td>True</td>\n",
       "      <td>Краснодар</td>\n",
       "      <td>Рафаил</td>\n",
       "      <td>Верещагин</td>\n",
       "      <td>2018-05-25</td>\n",
       "      <td>ultra</td>\n",
       "      <td>1000</td>\n",
       "      <td>30</td>\n",
       "      <td>3000</td>\n",
       "      <td>1950</td>\n",
       "      <td>150</td>\n",
       "      <td>1</td>\n",
       "      <td>1</td>\n",
       "      <td>ultra</td>\n",
       "    </tr>\n",
       "    <tr>\n",
       "      <th>5</th>\n",
       "      <td>1000</td>\n",
       "      <td>10</td>\n",
       "      <td>350</td>\n",
       "      <td>15</td>\n",
       "      <td>73</td>\n",
       "      <td>52</td>\n",
       "      <td>True</td>\n",
       "      <td>Краснодар</td>\n",
       "      <td>Рафаил</td>\n",
       "      <td>Верещагин</td>\n",
       "      <td>2018-05-25</td>\n",
       "      <td>ultra</td>\n",
       "      <td>1000</td>\n",
       "      <td>30</td>\n",
       "      <td>3000</td>\n",
       "      <td>1950</td>\n",
       "      <td>150</td>\n",
       "      <td>1</td>\n",
       "      <td>1</td>\n",
       "      <td>ultra</td>\n",
       "    </tr>\n",
       "    <tr>\n",
       "      <th>6</th>\n",
       "      <td>1000</td>\n",
       "      <td>11</td>\n",
       "      <td>338</td>\n",
       "      <td>15</td>\n",
       "      <td>58</td>\n",
       "      <td>52</td>\n",
       "      <td>True</td>\n",
       "      <td>Краснодар</td>\n",
       "      <td>Рафаил</td>\n",
       "      <td>Верещагин</td>\n",
       "      <td>2018-05-25</td>\n",
       "      <td>ultra</td>\n",
       "      <td>1000</td>\n",
       "      <td>30</td>\n",
       "      <td>3000</td>\n",
       "      <td>1950</td>\n",
       "      <td>150</td>\n",
       "      <td>1</td>\n",
       "      <td>1</td>\n",
       "      <td>ultra</td>\n",
       "    </tr>\n",
       "    <tr>\n",
       "      <th>7</th>\n",
       "      <td>1000</td>\n",
       "      <td>12</td>\n",
       "      <td>333</td>\n",
       "      <td>10</td>\n",
       "      <td>70</td>\n",
       "      <td>52</td>\n",
       "      <td>True</td>\n",
       "      <td>Краснодар</td>\n",
       "      <td>Рафаил</td>\n",
       "      <td>Верещагин</td>\n",
       "      <td>2018-05-25</td>\n",
       "      <td>ultra</td>\n",
       "      <td>1000</td>\n",
       "      <td>30</td>\n",
       "      <td>3000</td>\n",
       "      <td>1950</td>\n",
       "      <td>150</td>\n",
       "      <td>1</td>\n",
       "      <td>1</td>\n",
       "      <td>ultra</td>\n",
       "    </tr>\n",
       "    <tr>\n",
       "      <th>8</th>\n",
       "      <td>1001</td>\n",
       "      <td>11</td>\n",
       "      <td>430</td>\n",
       "      <td>18</td>\n",
       "      <td>0</td>\n",
       "      <td>41</td>\n",
       "      <td>True</td>\n",
       "      <td>Москва</td>\n",
       "      <td>Иван</td>\n",
       "      <td>Ежов</td>\n",
       "      <td>2018-11-01</td>\n",
       "      <td>smart</td>\n",
       "      <td>50</td>\n",
       "      <td>15</td>\n",
       "      <td>500</td>\n",
       "      <td>550</td>\n",
       "      <td>200</td>\n",
       "      <td>3</td>\n",
       "      <td>3</td>\n",
       "      <td>smart</td>\n",
       "    </tr>\n",
       "    <tr>\n",
       "      <th>9</th>\n",
       "      <td>1001</td>\n",
       "      <td>12</td>\n",
       "      <td>414</td>\n",
       "      <td>14</td>\n",
       "      <td>0</td>\n",
       "      <td>41</td>\n",
       "      <td>True</td>\n",
       "      <td>Москва</td>\n",
       "      <td>Иван</td>\n",
       "      <td>Ежов</td>\n",
       "      <td>2018-11-01</td>\n",
       "      <td>smart</td>\n",
       "      <td>50</td>\n",
       "      <td>15</td>\n",
       "      <td>500</td>\n",
       "      <td>550</td>\n",
       "      <td>200</td>\n",
       "      <td>3</td>\n",
       "      <td>3</td>\n",
       "      <td>smart</td>\n",
       "    </tr>\n",
       "  </tbody>\n",
       "</table>\n",
       "</div>"
      ],
      "text/plain": [
       "   user_id  month  duration  gb_used  messages  age still_using_tariff  \\\n",
       "0     1000      5       159        3        22   52               True   \n",
       "1     1000      6       172       23        60   52               True   \n",
       "2     1000      7       340       14        75   52               True   \n",
       "3     1000      8       408       14        81   52               True   \n",
       "4     1000      9       466       15        57   52               True   \n",
       "5     1000     10       350       15        73   52               True   \n",
       "6     1000     11       338       15        58   52               True   \n",
       "7     1000     12       333       10        70   52               True   \n",
       "8     1001     11       430       18         0   41               True   \n",
       "9     1001     12       414       14         0   41               True   \n",
       "\n",
       "        city first_name  last_name    reg_date tariff  messages_included  \\\n",
       "0  Краснодар     Рафаил  Верещагин  2018-05-25  ultra               1000   \n",
       "1  Краснодар     Рафаил  Верещагин  2018-05-25  ultra               1000   \n",
       "2  Краснодар     Рафаил  Верещагин  2018-05-25  ultra               1000   \n",
       "3  Краснодар     Рафаил  Верещагин  2018-05-25  ultra               1000   \n",
       "4  Краснодар     Рафаил  Верещагин  2018-05-25  ultra               1000   \n",
       "5  Краснодар     Рафаил  Верещагин  2018-05-25  ultra               1000   \n",
       "6  Краснодар     Рафаил  Верещагин  2018-05-25  ultra               1000   \n",
       "7  Краснодар     Рафаил  Верещагин  2018-05-25  ultra               1000   \n",
       "8     Москва       Иван       Ежов  2018-11-01  smart                 50   \n",
       "9     Москва       Иван       Ежов  2018-11-01  smart                 50   \n",
       "\n",
       "   gb_per_month_included  minutes_included  rub_monthly_fee  rub_per_gb  \\\n",
       "0                     30              3000             1950         150   \n",
       "1                     30              3000             1950         150   \n",
       "2                     30              3000             1950         150   \n",
       "3                     30              3000             1950         150   \n",
       "4                     30              3000             1950         150   \n",
       "5                     30              3000             1950         150   \n",
       "6                     30              3000             1950         150   \n",
       "7                     30              3000             1950         150   \n",
       "8                     15               500              550         200   \n",
       "9                     15               500              550         200   \n",
       "\n",
       "   rub_per_message  rub_per_minute tariff_name  \n",
       "0                1               1       ultra  \n",
       "1                1               1       ultra  \n",
       "2                1               1       ultra  \n",
       "3                1               1       ultra  \n",
       "4                1               1       ultra  \n",
       "5                1               1       ultra  \n",
       "6                1               1       ultra  \n",
       "7                1               1       ultra  \n",
       "8                3               3       smart  \n",
       "9                3               3       smart  "
      ]
     },
     "metadata": {},
     "output_type": "display_data"
    }
   ],
   "source": [
    "data['churn_date'] = data['churn_date'].fillna(True)\n",
    "data.loc[data['churn_date'] != True, 'churn_date'] = False\n",
    "data.rename(columns={'churn_date': 'still_using_tariff'}, inplace=True)\n",
    "display(data.head(10))"
   ]
  },
  {
   "cell_type": "markdown",
   "id": "included-remedy",
   "metadata": {},
   "source": [
    "Удалим столбец tariff_name, т.к. он дублируется со столбцом tariff"
   ]
  },
  {
   "cell_type": "code",
   "execution_count": 7,
   "id": "duplicate-oakland",
   "metadata": {},
   "outputs": [
    {
     "data": {
      "text/html": [
       "<div>\n",
       "<style scoped>\n",
       "    .dataframe tbody tr th:only-of-type {\n",
       "        vertical-align: middle;\n",
       "    }\n",
       "\n",
       "    .dataframe tbody tr th {\n",
       "        vertical-align: top;\n",
       "    }\n",
       "\n",
       "    .dataframe thead th {\n",
       "        text-align: right;\n",
       "    }\n",
       "</style>\n",
       "<table border=\"1\" class=\"dataframe\">\n",
       "  <thead>\n",
       "    <tr style=\"text-align: right;\">\n",
       "      <th></th>\n",
       "      <th>user_id</th>\n",
       "      <th>month</th>\n",
       "      <th>duration</th>\n",
       "      <th>gb_used</th>\n",
       "      <th>messages</th>\n",
       "      <th>age</th>\n",
       "      <th>still_using_tariff</th>\n",
       "      <th>city</th>\n",
       "      <th>first_name</th>\n",
       "      <th>last_name</th>\n",
       "      <th>reg_date</th>\n",
       "      <th>tariff</th>\n",
       "      <th>messages_included</th>\n",
       "      <th>gb_per_month_included</th>\n",
       "      <th>minutes_included</th>\n",
       "      <th>rub_monthly_fee</th>\n",
       "      <th>rub_per_gb</th>\n",
       "      <th>rub_per_message</th>\n",
       "      <th>rub_per_minute</th>\n",
       "    </tr>\n",
       "  </thead>\n",
       "  <tbody>\n",
       "    <tr>\n",
       "      <th>0</th>\n",
       "      <td>1000</td>\n",
       "      <td>5</td>\n",
       "      <td>159</td>\n",
       "      <td>3</td>\n",
       "      <td>22</td>\n",
       "      <td>52</td>\n",
       "      <td>True</td>\n",
       "      <td>Краснодар</td>\n",
       "      <td>Рафаил</td>\n",
       "      <td>Верещагин</td>\n",
       "      <td>2018-05-25</td>\n",
       "      <td>ultra</td>\n",
       "      <td>1000</td>\n",
       "      <td>30</td>\n",
       "      <td>3000</td>\n",
       "      <td>1950</td>\n",
       "      <td>150</td>\n",
       "      <td>1</td>\n",
       "      <td>1</td>\n",
       "    </tr>\n",
       "    <tr>\n",
       "      <th>1</th>\n",
       "      <td>1000</td>\n",
       "      <td>6</td>\n",
       "      <td>172</td>\n",
       "      <td>23</td>\n",
       "      <td>60</td>\n",
       "      <td>52</td>\n",
       "      <td>True</td>\n",
       "      <td>Краснодар</td>\n",
       "      <td>Рафаил</td>\n",
       "      <td>Верещагин</td>\n",
       "      <td>2018-05-25</td>\n",
       "      <td>ultra</td>\n",
       "      <td>1000</td>\n",
       "      <td>30</td>\n",
       "      <td>3000</td>\n",
       "      <td>1950</td>\n",
       "      <td>150</td>\n",
       "      <td>1</td>\n",
       "      <td>1</td>\n",
       "    </tr>\n",
       "    <tr>\n",
       "      <th>2</th>\n",
       "      <td>1000</td>\n",
       "      <td>7</td>\n",
       "      <td>340</td>\n",
       "      <td>14</td>\n",
       "      <td>75</td>\n",
       "      <td>52</td>\n",
       "      <td>True</td>\n",
       "      <td>Краснодар</td>\n",
       "      <td>Рафаил</td>\n",
       "      <td>Верещагин</td>\n",
       "      <td>2018-05-25</td>\n",
       "      <td>ultra</td>\n",
       "      <td>1000</td>\n",
       "      <td>30</td>\n",
       "      <td>3000</td>\n",
       "      <td>1950</td>\n",
       "      <td>150</td>\n",
       "      <td>1</td>\n",
       "      <td>1</td>\n",
       "    </tr>\n",
       "    <tr>\n",
       "      <th>3</th>\n",
       "      <td>1000</td>\n",
       "      <td>8</td>\n",
       "      <td>408</td>\n",
       "      <td>14</td>\n",
       "      <td>81</td>\n",
       "      <td>52</td>\n",
       "      <td>True</td>\n",
       "      <td>Краснодар</td>\n",
       "      <td>Рафаил</td>\n",
       "      <td>Верещагин</td>\n",
       "      <td>2018-05-25</td>\n",
       "      <td>ultra</td>\n",
       "      <td>1000</td>\n",
       "      <td>30</td>\n",
       "      <td>3000</td>\n",
       "      <td>1950</td>\n",
       "      <td>150</td>\n",
       "      <td>1</td>\n",
       "      <td>1</td>\n",
       "    </tr>\n",
       "    <tr>\n",
       "      <th>4</th>\n",
       "      <td>1000</td>\n",
       "      <td>9</td>\n",
       "      <td>466</td>\n",
       "      <td>15</td>\n",
       "      <td>57</td>\n",
       "      <td>52</td>\n",
       "      <td>True</td>\n",
       "      <td>Краснодар</td>\n",
       "      <td>Рафаил</td>\n",
       "      <td>Верещагин</td>\n",
       "      <td>2018-05-25</td>\n",
       "      <td>ultra</td>\n",
       "      <td>1000</td>\n",
       "      <td>30</td>\n",
       "      <td>3000</td>\n",
       "      <td>1950</td>\n",
       "      <td>150</td>\n",
       "      <td>1</td>\n",
       "      <td>1</td>\n",
       "    </tr>\n",
       "  </tbody>\n",
       "</table>\n",
       "</div>"
      ],
      "text/plain": [
       "   user_id  month  duration  gb_used  messages  age still_using_tariff  \\\n",
       "0     1000      5       159        3        22   52               True   \n",
       "1     1000      6       172       23        60   52               True   \n",
       "2     1000      7       340       14        75   52               True   \n",
       "3     1000      8       408       14        81   52               True   \n",
       "4     1000      9       466       15        57   52               True   \n",
       "\n",
       "        city first_name  last_name    reg_date tariff  messages_included  \\\n",
       "0  Краснодар     Рафаил  Верещагин  2018-05-25  ultra               1000   \n",
       "1  Краснодар     Рафаил  Верещагин  2018-05-25  ultra               1000   \n",
       "2  Краснодар     Рафаил  Верещагин  2018-05-25  ultra               1000   \n",
       "3  Краснодар     Рафаил  Верещагин  2018-05-25  ultra               1000   \n",
       "4  Краснодар     Рафаил  Верещагин  2018-05-25  ultra               1000   \n",
       "\n",
       "   gb_per_month_included  minutes_included  rub_monthly_fee  rub_per_gb  \\\n",
       "0                     30              3000             1950         150   \n",
       "1                     30              3000             1950         150   \n",
       "2                     30              3000             1950         150   \n",
       "3                     30              3000             1950         150   \n",
       "4                     30              3000             1950         150   \n",
       "\n",
       "   rub_per_message  rub_per_minute  \n",
       "0                1               1  \n",
       "1                1               1  \n",
       "2                1               1  \n",
       "3                1               1  \n",
       "4                1               1  "
      ]
     },
     "metadata": {},
     "output_type": "display_data"
    }
   ],
   "source": [
    "data = data.drop(columns='tariff_name')\n",
    "display(data.head())"
   ]
  },
  {
   "cell_type": "markdown",
   "id": "blond-promise",
   "metadata": {},
   "source": [
    "Посчитаем ежемесячную выручку с каждого пользователя."
   ]
  },
  {
   "cell_type": "code",
   "execution_count": 8,
   "id": "discrete-merchant",
   "metadata": {},
   "outputs": [
    {
     "data": {
      "text/html": [
       "<div>\n",
       "<style scoped>\n",
       "    .dataframe tbody tr th:only-of-type {\n",
       "        vertical-align: middle;\n",
       "    }\n",
       "\n",
       "    .dataframe tbody tr th {\n",
       "        vertical-align: top;\n",
       "    }\n",
       "\n",
       "    .dataframe thead th {\n",
       "        text-align: right;\n",
       "    }\n",
       "</style>\n",
       "<table border=\"1\" class=\"dataframe\">\n",
       "  <thead>\n",
       "    <tr style=\"text-align: right;\">\n",
       "      <th></th>\n",
       "      <th>user_id</th>\n",
       "      <th>month</th>\n",
       "      <th>duration</th>\n",
       "      <th>gb_used</th>\n",
       "      <th>messages</th>\n",
       "      <th>age</th>\n",
       "      <th>still_using_tariff</th>\n",
       "      <th>city</th>\n",
       "      <th>first_name</th>\n",
       "      <th>last_name</th>\n",
       "      <th>reg_date</th>\n",
       "      <th>tariff</th>\n",
       "      <th>messages_included</th>\n",
       "      <th>gb_per_month_included</th>\n",
       "      <th>minutes_included</th>\n",
       "      <th>rub_monthly_fee</th>\n",
       "      <th>rub_per_gb</th>\n",
       "      <th>rub_per_message</th>\n",
       "      <th>rub_per_minute</th>\n",
       "      <th>revenue</th>\n",
       "    </tr>\n",
       "  </thead>\n",
       "  <tbody>\n",
       "    <tr>\n",
       "      <th>0</th>\n",
       "      <td>1000</td>\n",
       "      <td>5</td>\n",
       "      <td>159</td>\n",
       "      <td>3</td>\n",
       "      <td>22</td>\n",
       "      <td>52</td>\n",
       "      <td>True</td>\n",
       "      <td>Краснодар</td>\n",
       "      <td>Рафаил</td>\n",
       "      <td>Верещагин</td>\n",
       "      <td>2018-05-25</td>\n",
       "      <td>ultra</td>\n",
       "      <td>1000</td>\n",
       "      <td>30</td>\n",
       "      <td>3000</td>\n",
       "      <td>1950</td>\n",
       "      <td>150</td>\n",
       "      <td>1</td>\n",
       "      <td>1</td>\n",
       "      <td>1950</td>\n",
       "    </tr>\n",
       "    <tr>\n",
       "      <th>1</th>\n",
       "      <td>1000</td>\n",
       "      <td>6</td>\n",
       "      <td>172</td>\n",
       "      <td>23</td>\n",
       "      <td>60</td>\n",
       "      <td>52</td>\n",
       "      <td>True</td>\n",
       "      <td>Краснодар</td>\n",
       "      <td>Рафаил</td>\n",
       "      <td>Верещагин</td>\n",
       "      <td>2018-05-25</td>\n",
       "      <td>ultra</td>\n",
       "      <td>1000</td>\n",
       "      <td>30</td>\n",
       "      <td>3000</td>\n",
       "      <td>1950</td>\n",
       "      <td>150</td>\n",
       "      <td>1</td>\n",
       "      <td>1</td>\n",
       "      <td>1950</td>\n",
       "    </tr>\n",
       "    <tr>\n",
       "      <th>2</th>\n",
       "      <td>1000</td>\n",
       "      <td>7</td>\n",
       "      <td>340</td>\n",
       "      <td>14</td>\n",
       "      <td>75</td>\n",
       "      <td>52</td>\n",
       "      <td>True</td>\n",
       "      <td>Краснодар</td>\n",
       "      <td>Рафаил</td>\n",
       "      <td>Верещагин</td>\n",
       "      <td>2018-05-25</td>\n",
       "      <td>ultra</td>\n",
       "      <td>1000</td>\n",
       "      <td>30</td>\n",
       "      <td>3000</td>\n",
       "      <td>1950</td>\n",
       "      <td>150</td>\n",
       "      <td>1</td>\n",
       "      <td>1</td>\n",
       "      <td>1950</td>\n",
       "    </tr>\n",
       "    <tr>\n",
       "      <th>3</th>\n",
       "      <td>1000</td>\n",
       "      <td>8</td>\n",
       "      <td>408</td>\n",
       "      <td>14</td>\n",
       "      <td>81</td>\n",
       "      <td>52</td>\n",
       "      <td>True</td>\n",
       "      <td>Краснодар</td>\n",
       "      <td>Рафаил</td>\n",
       "      <td>Верещагин</td>\n",
       "      <td>2018-05-25</td>\n",
       "      <td>ultra</td>\n",
       "      <td>1000</td>\n",
       "      <td>30</td>\n",
       "      <td>3000</td>\n",
       "      <td>1950</td>\n",
       "      <td>150</td>\n",
       "      <td>1</td>\n",
       "      <td>1</td>\n",
       "      <td>1950</td>\n",
       "    </tr>\n",
       "    <tr>\n",
       "      <th>4</th>\n",
       "      <td>1000</td>\n",
       "      <td>9</td>\n",
       "      <td>466</td>\n",
       "      <td>15</td>\n",
       "      <td>57</td>\n",
       "      <td>52</td>\n",
       "      <td>True</td>\n",
       "      <td>Краснодар</td>\n",
       "      <td>Рафаил</td>\n",
       "      <td>Верещагин</td>\n",
       "      <td>2018-05-25</td>\n",
       "      <td>ultra</td>\n",
       "      <td>1000</td>\n",
       "      <td>30</td>\n",
       "      <td>3000</td>\n",
       "      <td>1950</td>\n",
       "      <td>150</td>\n",
       "      <td>1</td>\n",
       "      <td>1</td>\n",
       "      <td>1950</td>\n",
       "    </tr>\n",
       "  </tbody>\n",
       "</table>\n",
       "</div>"
      ],
      "text/plain": [
       "   user_id  month  duration  gb_used  messages  age still_using_tariff  \\\n",
       "0     1000      5       159        3        22   52               True   \n",
       "1     1000      6       172       23        60   52               True   \n",
       "2     1000      7       340       14        75   52               True   \n",
       "3     1000      8       408       14        81   52               True   \n",
       "4     1000      9       466       15        57   52               True   \n",
       "\n",
       "        city first_name  last_name    reg_date tariff  messages_included  \\\n",
       "0  Краснодар     Рафаил  Верещагин  2018-05-25  ultra               1000   \n",
       "1  Краснодар     Рафаил  Верещагин  2018-05-25  ultra               1000   \n",
       "2  Краснодар     Рафаил  Верещагин  2018-05-25  ultra               1000   \n",
       "3  Краснодар     Рафаил  Верещагин  2018-05-25  ultra               1000   \n",
       "4  Краснодар     Рафаил  Верещагин  2018-05-25  ultra               1000   \n",
       "\n",
       "   gb_per_month_included  minutes_included  rub_monthly_fee  rub_per_gb  \\\n",
       "0                     30              3000             1950         150   \n",
       "1                     30              3000             1950         150   \n",
       "2                     30              3000             1950         150   \n",
       "3                     30              3000             1950         150   \n",
       "4                     30              3000             1950         150   \n",
       "\n",
       "   rub_per_message  rub_per_minute  revenue  \n",
       "0                1               1     1950  \n",
       "1                1               1     1950  \n",
       "2                1               1     1950  \n",
       "3                1               1     1950  \n",
       "4                1               1     1950  "
      ]
     },
     "metadata": {},
     "output_type": "display_data"
    }
   ],
   "source": [
    "mask_1 = data['duration'] > data['minutes_included']\n",
    "mask_2 = data['messages'] > data['messages_included']\n",
    "mask_3 = data['gb_used'] > data['gb_per_month_included']\n",
    "\n",
    "data['revenue'] = (\n",
    "    (data['duration'] - data['minutes_included']) * data['rub_per_minute'] * mask_1 + \n",
    "    (data['messages'] - data['messages_included']) * data['rub_per_message'] * mask_2 +\n",
    "    np.ceil((data['gb_used'] - data['gb_per_month_included'])) * data['rub_per_gb'] * mask_3 + \n",
    "    data['rub_monthly_fee']\n",
    ").astype('int')\n",
    "display(data.head())"
   ]
  },
  {
   "cell_type": "markdown",
   "id": "rapid-wales",
   "metadata": {},
   "source": [
    "### Анализ данных"
   ]
  },
  {
   "cell_type": "markdown",
   "id": "angry-garden",
   "metadata": {},
   "source": [
    "Проанализируем, сколько минут, сообщений и мегабайт в среднем тратят пользователи каждого тарифа"
   ]
  },
  {
   "cell_type": "code",
   "execution_count": 9,
   "id": "proved-victor",
   "metadata": {},
   "outputs": [
    {
     "name": "stdout",
     "output_type": "stream",
     "text": [
      "Дисперсия в совокупности по тарифу Ультра: \n",
      " duration    100771.223617\n",
      "gb_used         96.993116\n",
      "messages      2282.946075\n",
      "dtype: float64\n",
      "Дисперсия в совокупности по тарифу Смарт: \n",
      " duration    36203.066652\n",
      "gb_used        33.013887\n",
      "messages      796.455483\n",
      "dtype: float64\n",
      "Описание используемых параметров пользователями тарифа \"Ультра\" \n",
      "       duration gb_used messages\n",
      "count   985.00  985.00   985.00\n",
      "mean    526.62   19.49    49.36\n",
      "std     317.61    9.85    47.80\n",
      "min       0.00    0.00     0.00\n",
      "25%     284.00   12.00     6.00\n",
      "50%     518.00   19.00    38.00\n",
      "75%     752.00   27.00    79.00\n",
      "max    1673.00   49.00   224.00\n",
      "\n",
      "Описание используемых параметров пользователями тарифа \"Смарт\" \n",
      "       duration  gb_used messages\n",
      "count  2229.00  2229.00  2229.00\n",
      "mean    417.93    16.33    33.38\n",
      "std     190.31     5.75    28.23\n",
      "min       0.00     0.00     0.00\n",
      "25%     282.00    13.00    10.00\n",
      "50%     422.00    17.00    28.00\n",
      "75%     545.00    20.00    51.00\n",
      "max    1435.00    38.00   143.00\n"
     ]
    }
   ],
   "source": [
    "tariff_ultra = data[['tariff', 'duration', 'gb_used', 'messages']].query('tariff == \"ultra\"')\n",
    "tariff_smart = data[['tariff', 'duration', 'gb_used', 'messages']].query('tariff == \"smart\"')\n",
    "print('Дисперсия в совокупности по тарифу Ультра:', '\\n',np.var(tariff_ultra))\n",
    "print('Дисперсия в совокупности по тарифу Смарт:', '\\n',np.var(tariff_smart))\n",
    "print('Описание используемых параметров пользователями тарифа \"Ультра\"', '\\n', tariff_ultra.describe().applymap(\"{:.2f}\".format))\n",
    "print()\n",
    "print('Описание используемых параметров пользователями тарифа \"Смарт\"', '\\n', tariff_smart.describe().applymap(\"{:.2f}\".format))"
   ]
  },
  {
   "cell_type": "code",
   "execution_count": 10,
   "id": "departmental-billion",
   "metadata": {},
   "outputs": [
    {
     "data": {
      "image/png": "[encoded data removed]",
      "text/plain": [
       "<Figure size 1080x504 with 3 Axes>"
      ]
     },
     "metadata": {
      "needs_background": "light"
     },
     "output_type": "display_data"
    }
   ],
   "source": [
    "params = ['duration', 'gb_used', 'messages']\n",
    "col_count, row_count = 2, 2 #число рядов и столбцов в сетке графиков\n",
    "\n",
    "plt.figure(figsize = (15,7))\n",
    "\n",
    "for i, param in enumerate(params):\n",
    "    for tariff in data['tariff'].unique():\n",
    "        current = data.query('tariff == @tariff')\n",
    "        sns.distplot(current[param], label = tariff,\n",
    "                    ax=plt.subplot(row_count, col_count, i+1)\n",
    "                    )\n",
    "    plt.title(param)\n",
    "    plt.legend() \n",
    "plt.show()"
   ]
  },
  {
   "cell_type": "markdown",
   "id": "average-ethics",
   "metadata": {},
   "source": [
    "При анализе поведения пользователей разных тарифов мы видим, что стандратное отклонение, среднее и другие параметры по показателям тарифа Смарт выше, чем у тарифа Ультра. На графике это выливается в более \"размазанный\" график у тарифа Ультра, и более компактным распределением у тарифа Смарт. Можно предположить, что это связано с более жесткими рамками в тарифе Смарт - меньшим количеством включенных минут, мегабайт и сообщений в базовый пакет, чем у тарифа Ультра. Таким образов пользователи тарифа Смарт могт ужиматься в использовании, чтобы не входить за рамки тарифа."
   ]
  },
  {
   "cell_type": "markdown",
   "id": "brief-vehicle",
   "metadata": {},
   "source": [
    "### Проверка гипотез"
   ]
  },
  {
   "cell_type": "markdown",
   "id": "nominated-token",
   "metadata": {},
   "source": [
    "#### Гипотеза 1"
   ]
  },
  {
   "cell_type": "markdown",
   "id": "alike-subdivision",
   "metadata": {},
   "source": [
    "Нулевая гипотеза - средняя выручка пользователей тарифов «Ультра» и «Смарт» не отличается\n",
    "Альтернативная гипотеза - средняя выручка пользователей тарифов «Ультра» и «Смарт» отличается"
   ]
  },
  {
   "cell_type": "code",
   "execution_count": 11,
   "id": "occupied-consolidation",
   "metadata": {},
   "outputs": [
    {
     "name": "stdout",
     "output_type": "stream",
     "text": [
      "Средняя выручка в тарифе Смарт: 1289.9735307312696\n",
      "Средняя выручка в тарифе Ультра: 2070.1522842639592\n",
      "p-значение: 1.4229814360764067e-160\n",
      "Отвергаем нулевую гипотезу\n"
     ]
    }
   ],
   "source": [
    "alpha = .05\n",
    "\n",
    "results = sp.stats.ttest_ind(\n",
    "    data.loc[data['tariff'] == 'ultra', 'revenue'], \n",
    "    data.loc[data['tariff'] == 'smart', 'revenue'])\n",
    "print('Средняя выручка в тарифе Смарт:', data.loc[data['tariff'] == 'smart', 'revenue'].mean())\n",
    "print('Средняя выручка в тарифе Ультра:', data.loc[data['tariff'] == 'ultra', 'revenue'].mean())\n",
    "\n",
    "print('p-значение:', results.pvalue)\n",
    "if results.pvalue < alpha:\n",
    "    print(\"Отвергаем нулевую гипотезу\")\n",
    "else:\n",
    "    print(\"Не получилось отвергнуть нулевую гипотезу\")"
   ]
  },
  {
   "cell_type": "markdown",
   "id": "printable-minute",
   "metadata": {},
   "source": [
    "Нулевая гипотеза 1 опровергнута. Выручка у тарифа Ультра почти в 2 раза выше выручки тарифа Смарт."
   ]
  },
  {
   "cell_type": "markdown",
   "id": "ruled-creation",
   "metadata": {},
   "source": [
    "#### Гипотеза 2"
   ]
  },
  {
   "cell_type": "markdown",
   "id": "proper-olive",
   "metadata": {},
   "source": [
    "Нулевая гипотеза - средняя выручка пользователей из Москвы не отличается от выручки пользователей из других регионов.\n",
    "Альтернативная гипотеза - средняя выручка пользователей из Москвы отличается от выручки пользователей из других регионов."
   ]
  },
  {
   "cell_type": "code",
   "execution_count": 12,
   "id": "interpreted-federation",
   "metadata": {},
   "outputs": [
    {
     "name": "stdout",
     "output_type": "stream",
     "text": [
      "p-значение: 0.5440152911670223\n",
      "Не получилось отвергнуть нулевую гипотезу\n"
     ]
    }
   ],
   "source": [
    "alpha = .05\n",
    "\n",
    "results = sp.stats.ttest_ind(\n",
    "    data.loc[data['city'] == 'Москва', 'revenue'], \n",
    "    data.loc[data['city'] != 'Москва', 'revenue'])\n",
    "\n",
    "print('p-значение:', results.pvalue)\n",
    "if results.pvalue < alpha:\n",
    "    print(\"Отвергаем нулевую гипотезу\")\n",
    "else:\n",
    "    print(\"Не получилось отвергнуть нулевую гипотезу\")"
   ]
  },
  {
   "cell_type": "markdown",
   "id": "stock-creature",
   "metadata": {},
   "source": [
    "Нулевая гипотеза не опровергнута. В данной выборке выручка в Москве и других городах почти не отличается."
   ]
  },
  {
   "cell_type": "markdown",
   "id": "transparent-biology",
   "metadata": {},
   "source": [
    "Для проверки обеих гипотез я выбрала метод проверки гипотез о равенстве средних двух генеральных совокупностей, т.к. посчитала ее наиболее подходящей для них. "
   ]
  },
  {
   "cell_type": "markdown",
   "id": "clean-pillow",
   "metadata": {},
   "source": [
    "### Общий вывод"
   ]
  },
  {
   "cell_type": "markdown",
   "id": "velvet-economy",
   "metadata": {},
   "source": [
    "В ходе работы над проектом я объединила полученные от \"Мегалайн\" датасеты в один. Привела типы данных в удобные для работы. \n",
    "Посчитала выручку с каждого пользователя в месяц.\n",
    "Далее я проанализировала сколько минут, сообщений и мегабайт в среднем тратят пользователи каждого тарифа и добавила визуализацию.\n",
    "Я проверила две гипотезы и сделала вывод - какой тариф лучше.\n",
    "На основании анализа и проверки гипотез можно сделать вывод, что тариф Ультра лучше, т.к. приносит больше денег. Средняя выручка от этого тарифа почти в два раза больше средней выручки от тарифа Смарт. При этом, выручка в Москве и регионах почти не отличается. \n",
    "Также по графикам поведения пользователей видно, что пользователи тарифа Смарт менее охотно выходят за рамки базового пакета.\n",
    "Общий вывод - тариф Ультра лучше."
   ]
  }
 ],
 "metadata": {
  "ExecuteTimeLog": [
   {
    "duration": 1167,
    "start_time": "2022-04-28T16:11:29.253Z"
   },
   {
    "duration": 459,
    "start_time": "2022-04-28T16:11:30.422Z"
   },
   {
    "duration": 194,
    "start_time": "2022-04-28T16:11:30.883Z"
   },
   {
    "duration": 2576,
    "start_time": "2022-04-28T16:11:31.079Z"
   },
   {
    "duration": 16,
    "start_time": "2022-04-28T16:11:33.658Z"
   },
   {
    "duration": 17,
    "start_time": "2022-04-28T16:11:33.676Z"
   },
   {
    "duration": 16,
    "start_time": "2022-04-28T16:11:33.695Z"
   },
   {
    "duration": 48,
    "start_time": "2022-04-28T16:11:33.712Z"
   },
   {
    "duration": 39,
    "start_time": "2022-04-28T16:11:33.763Z"
   },
   {
    "duration": 747,
    "start_time": "2022-04-28T16:11:33.804Z"
   },
   {
    "duration": 11,
    "start_time": "2022-04-28T16:11:34.553Z"
   },
   {
    "duration": 13,
    "start_time": "2022-04-28T16:11:34.565Z"
   },
   {
    "duration": 1424,
    "start_time": "2022-04-28T16:47:49.363Z"
   },
   {
    "duration": 546,
    "start_time": "2022-04-28T16:47:50.790Z"
   },
   {
    "duration": 226,
    "start_time": "2022-04-28T16:47:51.338Z"
   },
   {
    "duration": 3433,
    "start_time": "2022-04-28T16:47:51.640Z"
   },
   {
    "duration": 3320,
    "start_time": "2022-04-28T16:48:47.271Z"
   },
   {
    "duration": 3329,
    "start_time": "2022-04-28T16:50:15.396Z"
   },
   {
    "duration": 558,
    "start_time": "2022-04-28T16:50:26.992Z"
   },
   {
    "duration": 209,
    "start_time": "2022-04-28T16:50:27.782Z"
   },
   {
    "duration": 3045,
    "start_time": "2022-04-28T16:50:29.186Z"
   },
   {
    "duration": 3300,
    "start_time": "2022-04-28T16:58:51.746Z"
   },
   {
    "duration": 2363,
    "start_time": "2022-04-28T17:02:16.275Z"
   },
   {
    "duration": 2590,
    "start_time": "2022-04-28T17:02:37.025Z"
   },
   {
    "duration": 523,
    "start_time": "2022-04-28T17:02:50.578Z"
   },
   {
    "duration": 204,
    "start_time": "2022-04-28T17:02:51.405Z"
   },
   {
    "duration": 2155,
    "start_time": "2022-04-28T17:02:54.669Z"
   },
   {
    "duration": 2551,
    "start_time": "2022-04-28T17:03:33.758Z"
   },
   {
    "duration": 2940,
    "start_time": "2022-04-28T17:04:18.296Z"
   },
   {
    "duration": 2417,
    "start_time": "2022-04-28T17:04:32.428Z"
   },
   {
    "duration": 523,
    "start_time": "2022-04-28T17:04:40.111Z"
   },
   {
    "duration": 198,
    "start_time": "2022-04-28T17:04:40.928Z"
   },
   {
    "duration": 2947,
    "start_time": "2022-04-28T17:04:42.682Z"
   },
   {
    "duration": 2488,
    "start_time": "2022-04-28T17:05:31.347Z"
   },
   {
    "duration": 539,
    "start_time": "2022-04-28T17:05:35.525Z"
   },
   {
    "duration": 203,
    "start_time": "2022-04-28T17:05:36.317Z"
   },
   {
    "duration": 2903,
    "start_time": "2022-04-28T17:05:37.205Z"
   },
   {
    "duration": 19,
    "start_time": "2022-04-28T18:20:30.862Z"
   },
   {
    "duration": 14,
    "start_time": "2022-04-28T18:20:49.920Z"
   },
   {
    "duration": 16,
    "start_time": "2022-04-28T18:22:11.722Z"
   },
   {
    "duration": 56,
    "start_time": "2022-04-28T18:22:36.474Z"
   },
   {
    "duration": 21,
    "start_time": "2022-04-28T18:23:30.996Z"
   },
   {
    "duration": 29,
    "start_time": "2022-04-28T18:23:40.774Z"
   },
   {
    "duration": 34,
    "start_time": "2022-04-28T18:24:31.198Z"
   },
   {
    "duration": 41,
    "start_time": "2022-04-28T18:24:43.648Z"
   },
   {
    "duration": 1188,
    "start_time": "2022-04-28T18:26:16.555Z"
   },
   {
    "duration": 541,
    "start_time": "2022-04-28T18:26:17.745Z"
   },
   {
    "duration": 226,
    "start_time": "2022-04-28T18:26:18.287Z"
   },
   {
    "duration": 3149,
    "start_time": "2022-04-28T18:26:18.516Z"
   },
   {
    "duration": 19,
    "start_time": "2022-04-28T18:26:21.667Z"
   },
   {
    "duration": 45,
    "start_time": "2022-04-28T18:26:21.688Z"
   },
   {
    "duration": 22,
    "start_time": "2022-04-28T18:26:21.736Z"
   },
   {
    "duration": 28,
    "start_time": "2022-04-28T18:26:21.760Z"
   },
   {
    "duration": 63,
    "start_time": "2022-04-28T18:26:21.790Z"
   },
   {
    "duration": 869,
    "start_time": "2022-04-28T18:26:21.856Z"
   },
   {
    "duration": 12,
    "start_time": "2022-04-28T18:26:22.727Z"
   },
   {
    "duration": 7,
    "start_time": "2022-04-28T18:26:22.741Z"
   },
   {
    "duration": 45,
    "start_time": "2022-04-28T18:29:15.576Z"
   },
   {
    "duration": 42,
    "start_time": "2022-04-28T18:29:50.598Z"
   },
   {
    "duration": 42,
    "start_time": "2022-04-28T18:30:11.524Z"
   },
   {
    "duration": 75,
    "start_time": "2022-04-29T08:31:50.295Z"
   },
   {
    "duration": 1845,
    "start_time": "2022-04-29T08:31:54.142Z"
   },
   {
    "duration": 608,
    "start_time": "2022-04-29T08:31:55.990Z"
   },
   {
    "duration": 316,
    "start_time": "2022-04-29T08:31:56.601Z"
   },
   {
    "duration": 5391,
    "start_time": "2022-04-29T08:31:56.923Z"
   },
   {
    "duration": 2446,
    "start_time": "2022-04-29T08:40:22.668Z"
   },
   {
    "duration": 625,
    "start_time": "2022-04-29T08:40:35.576Z"
   },
   {
    "duration": 288,
    "start_time": "2022-04-29T08:40:36.607Z"
   },
   {
    "duration": 1259,
    "start_time": "2022-05-01T09:00:14.478Z"
   },
   {
    "duration": 427,
    "start_time": "2022-05-01T09:00:16.637Z"
   },
   {
    "duration": 82,
    "start_time": "2022-05-01T09:00:23.255Z"
   },
   {
    "duration": 221,
    "start_time": "2022-05-01T09:00:54.927Z"
   },
   {
    "duration": 13,
    "start_time": "2022-05-01T09:37:00.889Z"
   },
   {
    "duration": 228,
    "start_time": "2022-05-01T09:38:15.961Z"
   },
   {
    "duration": 452,
    "start_time": "2022-05-01T09:38:43.111Z"
   },
   {
    "duration": 310,
    "start_time": "2022-05-01T09:38:46.118Z"
   },
   {
    "duration": 1522,
    "start_time": "2022-05-01T09:39:39.635Z"
   },
   {
    "duration": 410,
    "start_time": "2022-05-01T09:39:49.777Z"
   },
   {
    "duration": 214,
    "start_time": "2022-05-01T09:39:51.707Z"
   },
   {
    "duration": 11,
    "start_time": "2022-05-01T09:42:07.778Z"
   },
   {
    "duration": 11,
    "start_time": "2022-05-01T09:43:15.875Z"
   },
   {
    "duration": 3,
    "start_time": "2022-05-01T09:43:23.621Z"
   },
   {
    "duration": 1297,
    "start_time": "2022-05-01T09:43:28.420Z"
   },
   {
    "duration": 11,
    "start_time": "2022-05-01T09:43:29.719Z"
   },
   {
    "duration": 409,
    "start_time": "2022-05-01T09:44:27.942Z"
   },
   {
    "duration": 11,
    "start_time": "2022-05-01T09:44:28.786Z"
   },
   {
    "duration": 11,
    "start_time": "2022-05-01T09:44:45.453Z"
   },
   {
    "duration": 11,
    "start_time": "2022-05-01T09:45:07.813Z"
   },
   {
    "duration": 11,
    "start_time": "2022-05-01T09:45:14.310Z"
   },
   {
    "duration": 241,
    "start_time": "2022-05-01T09:47:05.416Z"
   },
   {
    "duration": 1037,
    "start_time": "2022-05-01T09:51:10.594Z"
   },
   {
    "duration": 457,
    "start_time": "2022-05-01T09:51:11.633Z"
   },
   {
    "duration": 260,
    "start_time": "2022-05-01T09:51:12.092Z"
   },
   {
    "duration": 2561,
    "start_time": "2022-05-01T09:51:12.354Z"
   },
   {
    "duration": 16,
    "start_time": "2022-05-01T09:51:14.917Z"
   },
   {
    "duration": 17,
    "start_time": "2022-05-01T09:51:14.947Z"
   },
   {
    "duration": 13,
    "start_time": "2022-05-01T09:51:14.966Z"
   },
   {
    "duration": 18,
    "start_time": "2022-05-01T09:51:14.981Z"
   },
   {
    "duration": 73,
    "start_time": "2022-05-01T09:51:15.001Z"
   },
   {
    "duration": 646,
    "start_time": "2022-05-01T09:51:15.076Z"
   },
   {
    "duration": 8,
    "start_time": "2022-05-01T09:51:15.724Z"
   },
   {
    "duration": 28,
    "start_time": "2022-05-01T09:51:15.733Z"
   },
   {
    "duration": 1359,
    "start_time": "2022-05-01T09:51:58.260Z"
   },
   {
    "duration": 1037,
    "start_time": "2022-05-01T09:52:06.293Z"
   },
   {
    "duration": 434,
    "start_time": "2022-05-01T09:52:07.332Z"
   },
   {
    "duration": 260,
    "start_time": "2022-05-01T09:52:07.767Z"
   },
   {
    "duration": 26,
    "start_time": "2022-05-01T09:52:08.029Z"
   },
   {
    "duration": 15,
    "start_time": "2022-05-01T09:52:08.057Z"
   },
   {
    "duration": 15,
    "start_time": "2022-05-01T09:52:08.073Z"
   },
   {
    "duration": 13,
    "start_time": "2022-05-01T09:52:08.090Z"
   },
   {
    "duration": 49,
    "start_time": "2022-05-01T09:52:08.105Z"
   },
   {
    "duration": 33,
    "start_time": "2022-05-01T09:52:08.155Z"
   },
   {
    "duration": 659,
    "start_time": "2022-05-01T09:52:08.190Z"
   },
   {
    "duration": 8,
    "start_time": "2022-05-01T09:52:08.851Z"
   },
   {
    "duration": 24,
    "start_time": "2022-05-01T09:52:08.861Z"
   },
   {
    "duration": 1117,
    "start_time": "2022-05-01T09:53:25.298Z"
   },
   {
    "duration": 418,
    "start_time": "2022-05-01T09:53:26.417Z"
   },
   {
    "duration": 249,
    "start_time": "2022-05-01T09:53:26.847Z"
   },
   {
    "duration": 19,
    "start_time": "2022-05-01T09:53:27.098Z"
   },
   {
    "duration": 32,
    "start_time": "2022-05-01T09:53:27.119Z"
   },
   {
    "duration": 17,
    "start_time": "2022-05-01T09:53:27.152Z"
   },
   {
    "duration": 14,
    "start_time": "2022-05-01T09:53:27.170Z"
   },
   {
    "duration": 18,
    "start_time": "2022-05-01T09:53:27.185Z"
   },
   {
    "duration": 66,
    "start_time": "2022-05-01T09:53:27.204Z"
   },
   {
    "duration": 622,
    "start_time": "2022-05-01T09:53:27.273Z"
   },
   {
    "duration": 9,
    "start_time": "2022-05-01T09:53:27.896Z"
   },
   {
    "duration": 26,
    "start_time": "2022-05-01T09:53:27.907Z"
   },
   {
    "duration": 1179,
    "start_time": "2022-05-01T09:56:48.688Z"
   },
   {
    "duration": 494,
    "start_time": "2022-05-01T09:56:49.869Z"
   },
   {
    "duration": 266,
    "start_time": "2022-05-01T09:56:50.365Z"
   },
   {
    "duration": 31,
    "start_time": "2022-05-01T09:56:50.633Z"
   },
   {
    "duration": 16,
    "start_time": "2022-05-01T09:56:50.666Z"
   },
   {
    "duration": 17,
    "start_time": "2022-05-01T09:56:50.683Z"
   },
   {
    "duration": 14,
    "start_time": "2022-05-01T09:56:50.702Z"
   },
   {
    "duration": 27,
    "start_time": "2022-05-01T09:56:50.749Z"
   },
   {
    "duration": 71,
    "start_time": "2022-05-01T09:56:50.778Z"
   },
   {
    "duration": 1710,
    "start_time": "2022-05-02T08:04:08.192Z"
   },
   {
    "duration": 645,
    "start_time": "2022-05-02T08:04:09.905Z"
   },
   {
    "duration": 375,
    "start_time": "2022-05-02T08:04:10.552Z"
   },
   {
    "duration": 32,
    "start_time": "2022-05-02T08:04:10.930Z"
   },
   {
    "duration": 44,
    "start_time": "2022-05-02T08:04:10.964Z"
   },
   {
    "duration": 28,
    "start_time": "2022-05-02T08:04:11.011Z"
   },
   {
    "duration": 32,
    "start_time": "2022-05-02T08:04:11.041Z"
   },
   {
    "duration": 46,
    "start_time": "2022-05-02T08:04:11.075Z"
   },
   {
    "duration": 78,
    "start_time": "2022-05-02T08:04:11.123Z"
   },
   {
    "duration": 1119,
    "start_time": "2022-05-02T08:04:11.204Z"
   },
   {
    "duration": 13,
    "start_time": "2022-05-02T08:04:12.325Z"
   },
   {
    "duration": 9,
    "start_time": "2022-05-02T08:04:12.340Z"
   }
  ],
  "kernelspec": {
   "display_name": "Python 3",
   "language": "python",
   "name": "python3"
  },
  "language_info": {
   "codemirror_mode": {
    "name": "ipython",
    "version": 3
   },
   "file_extension": ".py",
   "mimetype": "text/x-python",
   "name": "python",
   "nbconvert_exporter": "python",
   "pygments_lexer": "ipython3",
   "version": "3.8.7"
  },
  "toc": {
   "base_numbering": 1,
   "nav_menu": {},
   "number_sections": true,
   "sideBar": true,
   "skip_h1_title": true,
   "title_cell": "Table of Contents",
   "title_sidebar": "Contents",
   "toc_cell": false,
   "toc_position": {},
   "toc_section_display": true,
   "toc_window_display": false
  }
 },
 "nbformat": 4,
 "nbformat_minor": 5
}
