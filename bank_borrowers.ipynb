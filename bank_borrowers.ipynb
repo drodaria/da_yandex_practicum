{
 "cells": [
  {
   "cell_type": "markdown",
   "id": "cfcd94b6",
   "metadata": {},
   "source": [
    "<b><font size=5><center>Исследование надежности заёмщиков</center></font></b>"
   ]
  },
  {
   "cell_type": "markdown",
   "id": "competitive-swiss",
   "metadata": {},
   "source": [
    "### Суть проекта"
   ]
  },
  {
   "cell_type": "markdown",
   "id": "harmful-princess",
   "metadata": {},
   "source": [
    "Заказчик — кредитный отдел банка. Нужно разобраться, влияет ли семейное положение и количество детей клиента на факт погашения кредита в срок. Входные данные от банка — статистика о платёжеспособности клиентов.\n",
    "Результаты исследования будут учтены при построении модели кредитного скоринга — специальной системы, которая оценивает способность потенциального заёмщика вернуть кредит банку."
   ]
  },
  {
   "cell_type": "markdown",
   "id": "geological-better",
   "metadata": {},
   "source": [
    "### Описание данных"
   ]
  },
  {
   "cell_type": "markdown",
   "id": "worthy-affiliation",
   "metadata": {},
   "source": [
    "- `children` — количество детей в семье\n",
    "- `days_employed` — общий трудовой стаж в днях\n",
    "- `dob_years` — возраст клиента в годах\n",
    "- `education` — уровень образования клиента\n",
    "- `education_id` — идентификатор уровня образования\n",
    "- `family_status` — семейное положение\n",
    "- `family_status_id` — идентификатор семейного положения\n",
    "- `gender` — пол клиента\n",
    "- `income_type` — тип занятости\n",
    "- `debt` — имел ли задолженность по возврату кредитов\n",
    "- `total_income` — ежемесячный доход\n",
    "- `purpose` — цель получения кредита"
   ]
  },
  {
   "cell_type": "markdown",
   "id": "b50ac5b2",
   "metadata": {},
   "source": [
    "### Обзор данных"
   ]
  },
  {
   "cell_type": "code",
   "execution_count": 1,
   "id": "62cc946b",
   "metadata": {},
   "outputs": [
    {
     "name": "stdout",
     "output_type": "stream",
     "text": [
      "<class 'pandas.core.frame.DataFrame'>\n",
      "RangeIndex: 21525 entries, 0 to 21524\n",
      "Data columns (total 12 columns):\n",
      " #   Column            Non-Null Count  Dtype  \n",
      "---  ------            --------------  -----  \n",
      " 0   children          21525 non-null  int64  \n",
      " 1   days_employed     19351 non-null  float64\n",
      " 2   dob_years         21525 non-null  int64  \n",
      " 3   education         21525 non-null  object \n",
      " 4   education_id      21525 non-null  int64  \n",
      " 5   family_status     21525 non-null  object \n",
      " 6   family_status_id  21525 non-null  int64  \n",
      " 7   gender            21525 non-null  object \n",
      " 8   income_type       21525 non-null  object \n",
      " 9   debt              21525 non-null  int64  \n",
      " 10  total_income      19351 non-null  float64\n",
      " 11  purpose           21525 non-null  object \n",
      "dtypes: float64(2), int64(5), object(5)\n",
      "memory usage: 2.0+ MB\n"
     ]
    },
    {
     "data": {
      "text/html": [
       "<div>\n",
       "<style scoped>\n",
       "    .dataframe tbody tr th:only-of-type {\n",
       "        vertical-align: middle;\n",
       "    }\n",
       "\n",
       "    .dataframe tbody tr th {\n",
       "        vertical-align: top;\n",
       "    }\n",
       "\n",
       "    .dataframe thead th {\n",
       "        text-align: right;\n",
       "    }\n",
       "</style>\n",
       "<table border=\"1\" class=\"dataframe\">\n",
       "  <thead>\n",
       "    <tr style=\"text-align: right;\">\n",
       "      <th></th>\n",
       "      <th>children</th>\n",
       "      <th>days_employed</th>\n",
       "      <th>dob_years</th>\n",
       "      <th>education</th>\n",
       "      <th>education_id</th>\n",
       "      <th>family_status</th>\n",
       "      <th>family_status_id</th>\n",
       "      <th>gender</th>\n",
       "      <th>income_type</th>\n",
       "      <th>debt</th>\n",
       "      <th>total_income</th>\n",
       "      <th>purpose</th>\n",
       "    </tr>\n",
       "  </thead>\n",
       "  <tbody>\n",
       "    <tr>\n",
       "      <th>0</th>\n",
       "      <td>1</td>\n",
       "      <td>-8437.673028</td>\n",
       "      <td>42</td>\n",
       "      <td>высшее</td>\n",
       "      <td>0</td>\n",
       "      <td>женат / замужем</td>\n",
       "      <td>0</td>\n",
       "      <td>F</td>\n",
       "      <td>сотрудник</td>\n",
       "      <td>0</td>\n",
       "      <td>253875.639453</td>\n",
       "      <td>покупка жилья</td>\n",
       "    </tr>\n",
       "    <tr>\n",
       "      <th>1</th>\n",
       "      <td>1</td>\n",
       "      <td>-4024.803754</td>\n",
       "      <td>36</td>\n",
       "      <td>среднее</td>\n",
       "      <td>1</td>\n",
       "      <td>женат / замужем</td>\n",
       "      <td>0</td>\n",
       "      <td>F</td>\n",
       "      <td>сотрудник</td>\n",
       "      <td>0</td>\n",
       "      <td>112080.014102</td>\n",
       "      <td>приобретение автомобиля</td>\n",
       "    </tr>\n",
       "    <tr>\n",
       "      <th>2</th>\n",
       "      <td>0</td>\n",
       "      <td>-5623.422610</td>\n",
       "      <td>33</td>\n",
       "      <td>Среднее</td>\n",
       "      <td>1</td>\n",
       "      <td>женат / замужем</td>\n",
       "      <td>0</td>\n",
       "      <td>M</td>\n",
       "      <td>сотрудник</td>\n",
       "      <td>0</td>\n",
       "      <td>145885.952297</td>\n",
       "      <td>покупка жилья</td>\n",
       "    </tr>\n",
       "    <tr>\n",
       "      <th>3</th>\n",
       "      <td>3</td>\n",
       "      <td>-4124.747207</td>\n",
       "      <td>32</td>\n",
       "      <td>среднее</td>\n",
       "      <td>1</td>\n",
       "      <td>женат / замужем</td>\n",
       "      <td>0</td>\n",
       "      <td>M</td>\n",
       "      <td>сотрудник</td>\n",
       "      <td>0</td>\n",
       "      <td>267628.550329</td>\n",
       "      <td>дополнительное образование</td>\n",
       "    </tr>\n",
       "    <tr>\n",
       "      <th>4</th>\n",
       "      <td>0</td>\n",
       "      <td>340266.072047</td>\n",
       "      <td>53</td>\n",
       "      <td>среднее</td>\n",
       "      <td>1</td>\n",
       "      <td>гражданский брак</td>\n",
       "      <td>1</td>\n",
       "      <td>F</td>\n",
       "      <td>пенсионер</td>\n",
       "      <td>0</td>\n",
       "      <td>158616.077870</td>\n",
       "      <td>сыграть свадьбу</td>\n",
       "    </tr>\n",
       "    <tr>\n",
       "      <th>5</th>\n",
       "      <td>0</td>\n",
       "      <td>-926.185831</td>\n",
       "      <td>27</td>\n",
       "      <td>высшее</td>\n",
       "      <td>0</td>\n",
       "      <td>гражданский брак</td>\n",
       "      <td>1</td>\n",
       "      <td>M</td>\n",
       "      <td>компаньон</td>\n",
       "      <td>0</td>\n",
       "      <td>255763.565419</td>\n",
       "      <td>покупка жилья</td>\n",
       "    </tr>\n",
       "    <tr>\n",
       "      <th>6</th>\n",
       "      <td>0</td>\n",
       "      <td>-2879.202052</td>\n",
       "      <td>43</td>\n",
       "      <td>высшее</td>\n",
       "      <td>0</td>\n",
       "      <td>женат / замужем</td>\n",
       "      <td>0</td>\n",
       "      <td>F</td>\n",
       "      <td>компаньон</td>\n",
       "      <td>0</td>\n",
       "      <td>240525.971920</td>\n",
       "      <td>операции с жильем</td>\n",
       "    </tr>\n",
       "    <tr>\n",
       "      <th>7</th>\n",
       "      <td>0</td>\n",
       "      <td>-152.779569</td>\n",
       "      <td>50</td>\n",
       "      <td>СРЕДНЕЕ</td>\n",
       "      <td>1</td>\n",
       "      <td>женат / замужем</td>\n",
       "      <td>0</td>\n",
       "      <td>M</td>\n",
       "      <td>сотрудник</td>\n",
       "      <td>0</td>\n",
       "      <td>135823.934197</td>\n",
       "      <td>образование</td>\n",
       "    </tr>\n",
       "    <tr>\n",
       "      <th>8</th>\n",
       "      <td>2</td>\n",
       "      <td>-6929.865299</td>\n",
       "      <td>35</td>\n",
       "      <td>ВЫСШЕЕ</td>\n",
       "      <td>0</td>\n",
       "      <td>гражданский брак</td>\n",
       "      <td>1</td>\n",
       "      <td>F</td>\n",
       "      <td>сотрудник</td>\n",
       "      <td>0</td>\n",
       "      <td>95856.832424</td>\n",
       "      <td>на проведение свадьбы</td>\n",
       "    </tr>\n",
       "    <tr>\n",
       "      <th>9</th>\n",
       "      <td>0</td>\n",
       "      <td>-2188.756445</td>\n",
       "      <td>41</td>\n",
       "      <td>среднее</td>\n",
       "      <td>1</td>\n",
       "      <td>женат / замужем</td>\n",
       "      <td>0</td>\n",
       "      <td>M</td>\n",
       "      <td>сотрудник</td>\n",
       "      <td>0</td>\n",
       "      <td>144425.938277</td>\n",
       "      <td>покупка жилья для семьи</td>\n",
       "    </tr>\n",
       "  </tbody>\n",
       "</table>\n",
       "</div>"
      ],
      "text/plain": [
       "   children  days_employed  dob_years education  education_id  \\\n",
       "0         1   -8437.673028         42    высшее             0   \n",
       "1         1   -4024.803754         36   среднее             1   \n",
       "2         0   -5623.422610         33   Среднее             1   \n",
       "3         3   -4124.747207         32   среднее             1   \n",
       "4         0  340266.072047         53   среднее             1   \n",
       "5         0    -926.185831         27    высшее             0   \n",
       "6         0   -2879.202052         43    высшее             0   \n",
       "7         0    -152.779569         50   СРЕДНЕЕ             1   \n",
       "8         2   -6929.865299         35    ВЫСШЕЕ             0   \n",
       "9         0   -2188.756445         41   среднее             1   \n",
       "\n",
       "      family_status  family_status_id gender income_type  debt   total_income  \\\n",
       "0   женат / замужем                 0      F   сотрудник     0  253875.639453   \n",
       "1   женат / замужем                 0      F   сотрудник     0  112080.014102   \n",
       "2   женат / замужем                 0      M   сотрудник     0  145885.952297   \n",
       "3   женат / замужем                 0      M   сотрудник     0  267628.550329   \n",
       "4  гражданский брак                 1      F   пенсионер     0  158616.077870   \n",
       "5  гражданский брак                 1      M   компаньон     0  255763.565419   \n",
       "6   женат / замужем                 0      F   компаньон     0  240525.971920   \n",
       "7   женат / замужем                 0      M   сотрудник     0  135823.934197   \n",
       "8  гражданский брак                 1      F   сотрудник     0   95856.832424   \n",
       "9   женат / замужем                 0      M   сотрудник     0  144425.938277   \n",
       "\n",
       "                      purpose  \n",
       "0               покупка жилья  \n",
       "1     приобретение автомобиля  \n",
       "2               покупка жилья  \n",
       "3  дополнительное образование  \n",
       "4             сыграть свадьбу  \n",
       "5               покупка жилья  \n",
       "6           операции с жильем  \n",
       "7                 образование  \n",
       "8       на проведение свадьбы  \n",
       "9     покупка жилья для семьи  "
      ]
     },
     "execution_count": 1,
     "metadata": {},
     "output_type": "execute_result"
    }
   ],
   "source": [
    "#Чтение и первичный обзор данных. \n",
    "#При поверхностном знакомстве уже видны некоторые недочеты в данных - разный регистр, слишком большое количество знаков после запятой и т.д.\n",
    "import pandas as pd\n",
    "data = pd.read_csv(r\"C:\\Users\\mi\\Downloads\\data_borrowers.csv\")\n",
    "data.info()\n",
    "data.head(10)"
   ]
  },
  {
   "cell_type": "markdown",
   "id": "aa0c71aa",
   "metadata": {},
   "source": [
    "### Заполнение пропусков"
   ]
  },
  {
   "cell_type": "code",
   "execution_count": 2,
   "id": "87e7c14d",
   "metadata": {},
   "outputs": [
    {
     "data": {
      "text/plain": [
       "children               0\n",
       "days_employed       2174\n",
       "dob_years              0\n",
       "education              0\n",
       "education_id           0\n",
       "family_status          0\n",
       "family_status_id       0\n",
       "gender                 0\n",
       "income_type            0\n",
       "debt                   0\n",
       "total_income        2174\n",
       "purpose                0\n",
       "dtype: int64"
      ]
     },
     "metadata": {},
     "output_type": "display_data"
    },
    {
     "name": "stdout",
     "output_type": "stream",
     "text": [
      "Доля пропусков в столбце с длительностью трудоустройства 10%\n",
      "Доля пропусков в столбце с общим доходом 10%\n"
     ]
    },
    {
     "data": {
      "text/plain": [
       "children            0\n",
       "days_employed       0\n",
       "dob_years           0\n",
       "education           0\n",
       "education_id        0\n",
       "family_status       0\n",
       "family_status_id    0\n",
       "gender              0\n",
       "income_type         0\n",
       "debt                0\n",
       "total_income        0\n",
       "purpose             0\n",
       "dtype: int64"
      ]
     },
     "metadata": {},
     "output_type": "display_data"
    }
   ],
   "source": [
    "#При проверке пропусков видно, что в столбце с информацией о количестве дней трудоустройсва и общего дохода находятся одинаковое количество пропусков.\n",
    "#Я посчитала долю пропусков к общему числу данных в столбцах. \n",
    "#Учитывая, что количество пропусков одинаковое в обоих столбцах, можно предположить, что оно возникло не случайно.\n",
    "#В данном случае, т.к. это количественные данные, допустимо и разумно заменить пропуски на среднее значение, чтобы не искажать общую картину.\n",
    "\n",
    "display(data.isna().sum())\n",
    "print('Доля пропусков в столбце с длительностью трудоустройства {:.0%}'.format(data['days_employed'].isna().sum() / len(data['days_employed'])))\n",
    "print('Доля пропусков в столбце с общим доходом {:.0%}'.format(data['total_income'].isna().sum() / len(data['total_income'])))  \n",
    "data.loc[data['days_employed'].isna(),'days_employed'] = data['days_employed'].median()\n",
    "data.loc[data['total_income'].isna(),'total_income'] = data['total_income'].median()\n",
    "\n",
    "#Проверка:\n",
    "display(data.isna().sum())\n"
   ]
  },
  {
   "cell_type": "markdown",
   "id": "90e69bfe",
   "metadata": {},
   "source": [
    "### Проверка данных на аномалии и исправления."
   ]
  },
  {
   "cell_type": "code",
   "execution_count": 3,
   "id": "746e68b5",
   "metadata": {
    "scrolled": true
   },
   "outputs": [
    {
     "data": {
      "text/plain": [
       " 0     14149\n",
       " 1      4818\n",
       " 2      2055\n",
       " 3       330\n",
       " 20       76\n",
       "-1        47\n",
       " 4        41\n",
       " 5         9\n",
       "Name: children, dtype: int64"
      ]
     },
     "metadata": {},
     "output_type": "display_data"
    },
    {
     "data": {
      "text/plain": [
       "0    14149\n",
       "1     4865\n",
       "2     2131\n",
       "3      330\n",
       "4       41\n",
       "5        9\n",
       "Name: children, dtype: int64"
      ]
     },
     "metadata": {},
     "output_type": "display_data"
    }
   ],
   "source": [
    "#Вручную обработаем по очереди наиболее важные колонки и колонки с слишком аномальными данными.\n",
    "#Начнем с колонки дети. Здесь наблюдается присутствие аномальных данных = -1 и 20. Т.к. аномалий только 2, можно предположить, что это систематическая опечатка в виду близкого расположения клавиш. \n",
    "#Поэтому просто заменим их на наболее логичные данные = -1 на 1, а 20 на 2\n",
    "display(data['children'].value_counts())\n",
    "data.loc[data['children'] == -1, 'children'] = 1\n",
    "data.loc[data['children'] == 20, 'children'] = 2\n",
    "display(data['children'].value_counts())"
   ]
  },
  {
   "cell_type": "code",
   "execution_count": 4,
   "id": "a08ee1dd",
   "metadata": {
    "scrolled": false
   },
   "outputs": [
    {
     "data": {
      "text/plain": [
       "0      351.569709\n",
       "1      167.700156\n",
       "2      234.309275\n",
       "3      171.864467\n",
       "4    14177.753002\n",
       "5       38.591076\n",
       "6      119.966752\n",
       "7        6.365815\n",
       "8      288.744387\n",
       "9       91.198185\n",
       "Name: days_employed, dtype: float64"
      ]
     },
     "metadata": {},
     "output_type": "display_data"
    }
   ],
   "source": [
    "#В количестве дней трудойстройства встречается очень много отрицательных и сишком больших данных.\n",
    "#Предпоожим, что эта аномалия возникла в ходе слияния двух баз данных, и в одной из них данная колонка хранила информацию в часах. Сделаем данные пололжительными и приведем все к дням. \n",
    "\n",
    "data.loc[data['days_employed'] < 0, 'days_employed'] = abs((data.loc[data['days_employed'] < 0, 'days_employed']))\n",
    "data['days_employed'] = data['days_employed'] / 24\n",
    "display(data['days_employed'].head(10))"
   ]
  },
  {
   "cell_type": "code",
   "execution_count": 5,
   "id": "b45ca8cf",
   "metadata": {
    "scrolled": true
   },
   "outputs": [
    {
     "data": {
      "text/plain": [
       "35    617\n",
       "40    609\n",
       "41    607\n",
       "34    603\n",
       "38    598\n",
       "42    597\n",
       "33    581\n",
       "39    573\n",
       "31    560\n",
       "36    555\n",
       "44    547\n",
       "29    545\n",
       "30    540\n",
       "48    538\n",
       "37    537\n",
       "50    514\n",
       "43    513\n",
       "32    510\n",
       "49    508\n",
       "28    503\n",
       "45    497\n",
       "27    493\n",
       "56    487\n",
       "52    484\n",
       "47    480\n",
       "54    479\n",
       "46    475\n",
       "58    461\n",
       "57    460\n",
       "53    459\n",
       "51    448\n",
       "59    444\n",
       "55    443\n",
       "26    408\n",
       "60    377\n",
       "25    357\n",
       "61    355\n",
       "62    352\n",
       "63    269\n",
       "64    265\n",
       "24    264\n",
       "23    254\n",
       "65    194\n",
       "22    183\n",
       "66    183\n",
       "67    167\n",
       "21    111\n",
       "0     101\n",
       "68     99\n",
       "69     85\n",
       "70     65\n",
       "71     58\n",
       "20     51\n",
       "72     33\n",
       "19     14\n",
       "73      8\n",
       "74      6\n",
       "75      1\n",
       "Name: dob_years, dtype: int64"
      ]
     },
     "metadata": {},
     "output_type": "display_data"
    },
    {
     "data": {
      "text/plain": [
       "42    698\n",
       "35    617\n",
       "40    609\n",
       "41    607\n",
       "34    603\n",
       "38    598\n",
       "33    581\n",
       "39    573\n",
       "31    560\n",
       "36    555\n",
       "44    547\n",
       "29    545\n",
       "30    540\n",
       "48    538\n",
       "37    537\n",
       "50    514\n",
       "43    513\n",
       "32    510\n",
       "49    508\n",
       "28    503\n",
       "45    497\n",
       "27    493\n",
       "56    487\n",
       "52    484\n",
       "47    480\n",
       "54    479\n",
       "46    475\n",
       "58    461\n",
       "57    460\n",
       "53    459\n",
       "51    448\n",
       "59    444\n",
       "55    443\n",
       "26    408\n",
       "60    377\n",
       "25    357\n",
       "61    355\n",
       "62    352\n",
       "63    269\n",
       "64    265\n",
       "24    264\n",
       "23    254\n",
       "65    194\n",
       "22    183\n",
       "66    183\n",
       "67    167\n",
       "21    111\n",
       "68     99\n",
       "69     85\n",
       "70     65\n",
       "71     58\n",
       "20     51\n",
       "72     33\n",
       "19     14\n",
       "73      8\n",
       "74      6\n",
       "75      1\n",
       "Name: dob_years, dtype: int64"
      ]
     },
     "metadata": {},
     "output_type": "display_data"
    }
   ],
   "source": [
    "#если посмотреть на отдельные значения колонки возраста, то можно увидеть значение 0. Заменим это значение на среднее по столбцу, чтобы не искажать общую картину.\n",
    "display(data['dob_years'].value_counts())\n",
    "data.loc[data['dob_years'] == 0,'dob_years'] = int(data['dob_years'].median())\n",
    "display(data['dob_years'].value_counts())"
   ]
  },
  {
   "cell_type": "code",
   "execution_count": 6,
   "id": "61404b35",
   "metadata": {},
   "outputs": [
    {
     "data": {
      "text/plain": [
       "женат / замужем          12380\n",
       "гражданский брак          4177\n",
       "не женат / не замужем     2813\n",
       "в разводе                 1195\n",
       "вдовец / вдова             960\n",
       "Name: family_status, dtype: int64"
      ]
     },
     "execution_count": 6,
     "metadata": {},
     "output_type": "execute_result"
    }
   ],
   "source": [
    "#В столбце с семейным положением аномалий нет. Просто приведем его значения к нижнему регистру для красоты:)\n",
    "data['family_status'] = data['family_status'].str.lower()\n",
    "data['family_status'].value_counts()"
   ]
  },
  {
   "cell_type": "code",
   "execution_count": 7,
   "id": "1218ee9b",
   "metadata": {},
   "outputs": [
    {
     "data": {
      "text/plain": [
       "F      14236\n",
       "M       7288\n",
       "XNA        1\n",
       "Name: gender, dtype: int64"
      ]
     },
     "metadata": {},
     "output_type": "display_data"
    }
   ],
   "source": [
    "display(data['gender'].value_counts())"
   ]
  },
  {
   "cell_type": "markdown",
   "id": "cc055b81",
   "metadata": {},
   "source": [
    "### Изменение типов данных."
   ]
  },
  {
   "cell_type": "code",
   "execution_count": 8,
   "id": "23d04aa3",
   "metadata": {},
   "outputs": [
    {
     "data": {
      "text/plain": [
       "0    253875\n",
       "1    112080\n",
       "2    145885\n",
       "3    267628\n",
       "4    158616\n",
       "Name: total_income, dtype: int32"
      ]
     },
     "metadata": {},
     "output_type": "display_data"
    }
   ],
   "source": [
    "#Меняем вещественный тип данных в столбце с доходом на целочисленный.\n",
    "data['total_income'] = data['total_income'].astype('int')\n",
    "display(data['total_income'].head())"
   ]
  },
  {
   "cell_type": "markdown",
   "id": "8fe5eee5",
   "metadata": {},
   "source": [
    "### Удаление дубликатов."
   ]
  },
  {
   "cell_type": "code",
   "execution_count": 9,
   "id": "96a77ca3",
   "metadata": {},
   "outputs": [
    {
     "name": "stdout",
     "output_type": "stream",
     "text": [
      "Дубликатов до: 72\n",
      "Дубликатов после: 0\n"
     ]
    }
   ],
   "source": [
    "#Приведение к нижнему регистру столбца с образованием. Проверка на наличие дубликатов.\n",
    "#Т.к. дубликатов всего 72 из 21 тысячи, мы можем безболезненно их удалить из датафрейма без вреда для общей картины.\n",
    "#Можно предположить что некоторые дубликаты в столбцах с длительностью трудоустройства и доходом образовались на месте пропусков из-за заполнения медианным значением.\n",
    "\n",
    "data['education'] = data['education'].str.lower()\n",
    "print('Дубликатов до:', data.duplicated().sum())\n",
    "data = data.drop_duplicates().reset_index(drop=True)\n",
    "print('Дубликатов после:', data.duplicated().sum())"
   ]
  },
  {
   "cell_type": "markdown",
   "id": "b3f6fe35",
   "metadata": {},
   "source": [
    "### Формирование дополнительных датафреймов словарей, декомпозиция исходного датафрейма."
   ]
  },
  {
   "cell_type": "code",
   "execution_count": 10,
   "id": "af83b0c1",
   "metadata": {},
   "outputs": [
    {
     "data": {
      "text/html": [
       "<div>\n",
       "<style scoped>\n",
       "    .dataframe tbody tr th:only-of-type {\n",
       "        vertical-align: middle;\n",
       "    }\n",
       "\n",
       "    .dataframe tbody tr th {\n",
       "        vertical-align: top;\n",
       "    }\n",
       "\n",
       "    .dataframe thead th {\n",
       "        text-align: right;\n",
       "    }\n",
       "</style>\n",
       "<table border=\"1\" class=\"dataframe\">\n",
       "  <thead>\n",
       "    <tr style=\"text-align: right;\">\n",
       "      <th></th>\n",
       "      <th>children</th>\n",
       "      <th>days_employed</th>\n",
       "      <th>dob_years</th>\n",
       "      <th>education_id</th>\n",
       "      <th>family_status_id</th>\n",
       "      <th>gender</th>\n",
       "      <th>income_type</th>\n",
       "      <th>debt</th>\n",
       "      <th>total_income</th>\n",
       "      <th>purpose</th>\n",
       "    </tr>\n",
       "  </thead>\n",
       "  <tbody>\n",
       "    <tr>\n",
       "      <th>0</th>\n",
       "      <td>1</td>\n",
       "      <td>351.569709</td>\n",
       "      <td>42</td>\n",
       "      <td>0</td>\n",
       "      <td>0</td>\n",
       "      <td>F</td>\n",
       "      <td>сотрудник</td>\n",
       "      <td>0</td>\n",
       "      <td>253875</td>\n",
       "      <td>покупка жилья</td>\n",
       "    </tr>\n",
       "    <tr>\n",
       "      <th>1</th>\n",
       "      <td>1</td>\n",
       "      <td>167.700156</td>\n",
       "      <td>36</td>\n",
       "      <td>1</td>\n",
       "      <td>0</td>\n",
       "      <td>F</td>\n",
       "      <td>сотрудник</td>\n",
       "      <td>0</td>\n",
       "      <td>112080</td>\n",
       "      <td>приобретение автомобиля</td>\n",
       "    </tr>\n",
       "    <tr>\n",
       "      <th>2</th>\n",
       "      <td>0</td>\n",
       "      <td>234.309275</td>\n",
       "      <td>33</td>\n",
       "      <td>1</td>\n",
       "      <td>0</td>\n",
       "      <td>M</td>\n",
       "      <td>сотрудник</td>\n",
       "      <td>0</td>\n",
       "      <td>145885</td>\n",
       "      <td>покупка жилья</td>\n",
       "    </tr>\n",
       "    <tr>\n",
       "      <th>3</th>\n",
       "      <td>3</td>\n",
       "      <td>171.864467</td>\n",
       "      <td>32</td>\n",
       "      <td>1</td>\n",
       "      <td>0</td>\n",
       "      <td>M</td>\n",
       "      <td>сотрудник</td>\n",
       "      <td>0</td>\n",
       "      <td>267628</td>\n",
       "      <td>дополнительное образование</td>\n",
       "    </tr>\n",
       "    <tr>\n",
       "      <th>4</th>\n",
       "      <td>0</td>\n",
       "      <td>14177.753002</td>\n",
       "      <td>53</td>\n",
       "      <td>1</td>\n",
       "      <td>1</td>\n",
       "      <td>F</td>\n",
       "      <td>пенсионер</td>\n",
       "      <td>0</td>\n",
       "      <td>158616</td>\n",
       "      <td>сыграть свадьбу</td>\n",
       "    </tr>\n",
       "  </tbody>\n",
       "</table>\n",
       "</div>"
      ],
      "text/plain": [
       "   children  days_employed  dob_years  education_id  family_status_id gender  \\\n",
       "0         1     351.569709         42             0                 0      F   \n",
       "1         1     167.700156         36             1                 0      F   \n",
       "2         0     234.309275         33             1                 0      M   \n",
       "3         3     171.864467         32             1                 0      M   \n",
       "4         0   14177.753002         53             1                 1      F   \n",
       "\n",
       "  income_type  debt  total_income                     purpose  \n",
       "0   сотрудник     0        253875               покупка жилья  \n",
       "1   сотрудник     0        112080     приобретение автомобиля  \n",
       "2   сотрудник     0        145885               покупка жилья  \n",
       "3   сотрудник     0        267628  дополнительное образование  \n",
       "4   пенсионер     0        158616             сыграть свадьбу  "
      ]
     },
     "metadata": {},
     "output_type": "display_data"
    },
    {
     "data": {
      "text/html": [
       "<div>\n",
       "<style scoped>\n",
       "    .dataframe tbody tr th:only-of-type {\n",
       "        vertical-align: middle;\n",
       "    }\n",
       "\n",
       "    .dataframe tbody tr th {\n",
       "        vertical-align: top;\n",
       "    }\n",
       "\n",
       "    .dataframe thead th {\n",
       "        text-align: right;\n",
       "    }\n",
       "</style>\n",
       "<table border=\"1\" class=\"dataframe\">\n",
       "  <thead>\n",
       "    <tr style=\"text-align: right;\">\n",
       "      <th></th>\n",
       "      <th>education_id</th>\n",
       "      <th>education</th>\n",
       "    </tr>\n",
       "  </thead>\n",
       "  <tbody>\n",
       "    <tr>\n",
       "      <th>0</th>\n",
       "      <td>0</td>\n",
       "      <td>высшее</td>\n",
       "    </tr>\n",
       "    <tr>\n",
       "      <th>1</th>\n",
       "      <td>1</td>\n",
       "      <td>среднее</td>\n",
       "    </tr>\n",
       "    <tr>\n",
       "      <th>2</th>\n",
       "      <td>2</td>\n",
       "      <td>неоконченное высшее</td>\n",
       "    </tr>\n",
       "    <tr>\n",
       "      <th>3</th>\n",
       "      <td>3</td>\n",
       "      <td>начальное</td>\n",
       "    </tr>\n",
       "    <tr>\n",
       "      <th>4</th>\n",
       "      <td>4</td>\n",
       "      <td>ученая степень</td>\n",
       "    </tr>\n",
       "  </tbody>\n",
       "</table>\n",
       "</div>"
      ],
      "text/plain": [
       "   education_id            education\n",
       "0             0               высшее\n",
       "1             1              среднее\n",
       "2             2  неоконченное высшее\n",
       "3             3            начальное\n",
       "4             4       ученая степень"
      ]
     },
     "metadata": {},
     "output_type": "display_data"
    },
    {
     "data": {
      "text/html": [
       "<div>\n",
       "<style scoped>\n",
       "    .dataframe tbody tr th:only-of-type {\n",
       "        vertical-align: middle;\n",
       "    }\n",
       "\n",
       "    .dataframe tbody tr th {\n",
       "        vertical-align: top;\n",
       "    }\n",
       "\n",
       "    .dataframe thead th {\n",
       "        text-align: right;\n",
       "    }\n",
       "</style>\n",
       "<table border=\"1\" class=\"dataframe\">\n",
       "  <thead>\n",
       "    <tr style=\"text-align: right;\">\n",
       "      <th></th>\n",
       "      <th>family_status_id</th>\n",
       "      <th>family_status</th>\n",
       "    </tr>\n",
       "  </thead>\n",
       "  <tbody>\n",
       "    <tr>\n",
       "      <th>0</th>\n",
       "      <td>0</td>\n",
       "      <td>женат / замужем</td>\n",
       "    </tr>\n",
       "    <tr>\n",
       "      <th>1</th>\n",
       "      <td>1</td>\n",
       "      <td>гражданский брак</td>\n",
       "    </tr>\n",
       "    <tr>\n",
       "      <th>2</th>\n",
       "      <td>2</td>\n",
       "      <td>вдовец / вдова</td>\n",
       "    </tr>\n",
       "    <tr>\n",
       "      <th>3</th>\n",
       "      <td>3</td>\n",
       "      <td>в разводе</td>\n",
       "    </tr>\n",
       "    <tr>\n",
       "      <th>4</th>\n",
       "      <td>4</td>\n",
       "      <td>не женат / не замужем</td>\n",
       "    </tr>\n",
       "  </tbody>\n",
       "</table>\n",
       "</div>"
      ],
      "text/plain": [
       "   family_status_id          family_status\n",
       "0                 0        женат / замужем\n",
       "1                 1       гражданский брак\n",
       "2                 2         вдовец / вдова\n",
       "3                 3              в разводе\n",
       "4                 4  не женат / не замужем"
      ]
     },
     "metadata": {},
     "output_type": "display_data"
    }
   ],
   "source": [
    "#Формируем отдельные датафреймы со столбцами образования и семейного положения и их идентификаторами. \n",
    "#В исходном датафрейме удаляем столбцы образования и семейного положения. Проверяем выводом на экран.\n",
    "\n",
    "ed_df = data[['education_id', 'education']]\n",
    "ed_df = ed_df.drop_duplicates().reset_index(drop=True)\n",
    "fam_df = data[['family_status_id', 'family_status']]\n",
    "fam_df = fam_df.drop_duplicates().reset_index(drop=True)\n",
    "data = data.drop(columns = ['family_status', 'education'], axis = 1) \n",
    "display(data.head())\n",
    "display(ed_df.head())\n",
    "display(fam_df.head())"
   ]
  },
  {
   "cell_type": "markdown",
   "id": "72f340ab",
   "metadata": {},
   "source": [
    "### Шаг 2.6. Категоризация дохода."
   ]
  },
  {
   "cell_type": "code",
   "execution_count": 11,
   "id": "cde4b66a",
   "metadata": {},
   "outputs": [
    {
     "data": {
      "text/html": [
       "<div>\n",
       "<style scoped>\n",
       "    .dataframe tbody tr th:only-of-type {\n",
       "        vertical-align: middle;\n",
       "    }\n",
       "\n",
       "    .dataframe tbody tr th {\n",
       "        vertical-align: top;\n",
       "    }\n",
       "\n",
       "    .dataframe thead th {\n",
       "        text-align: right;\n",
       "    }\n",
       "</style>\n",
       "<table border=\"1\" class=\"dataframe\">\n",
       "  <thead>\n",
       "    <tr style=\"text-align: right;\">\n",
       "      <th></th>\n",
       "      <th>children</th>\n",
       "      <th>days_employed</th>\n",
       "      <th>dob_years</th>\n",
       "      <th>education_id</th>\n",
       "      <th>family_status_id</th>\n",
       "      <th>gender</th>\n",
       "      <th>income_type</th>\n",
       "      <th>debt</th>\n",
       "      <th>total_income</th>\n",
       "      <th>purpose</th>\n",
       "      <th>total_income_category</th>\n",
       "    </tr>\n",
       "  </thead>\n",
       "  <tbody>\n",
       "    <tr>\n",
       "      <th>0</th>\n",
       "      <td>1</td>\n",
       "      <td>351.569709</td>\n",
       "      <td>42</td>\n",
       "      <td>0</td>\n",
       "      <td>0</td>\n",
       "      <td>F</td>\n",
       "      <td>сотрудник</td>\n",
       "      <td>0</td>\n",
       "      <td>253875</td>\n",
       "      <td>покупка жилья</td>\n",
       "      <td>B</td>\n",
       "    </tr>\n",
       "    <tr>\n",
       "      <th>1</th>\n",
       "      <td>1</td>\n",
       "      <td>167.700156</td>\n",
       "      <td>36</td>\n",
       "      <td>1</td>\n",
       "      <td>0</td>\n",
       "      <td>F</td>\n",
       "      <td>сотрудник</td>\n",
       "      <td>0</td>\n",
       "      <td>112080</td>\n",
       "      <td>приобретение автомобиля</td>\n",
       "      <td>C</td>\n",
       "    </tr>\n",
       "    <tr>\n",
       "      <th>2</th>\n",
       "      <td>0</td>\n",
       "      <td>234.309275</td>\n",
       "      <td>33</td>\n",
       "      <td>1</td>\n",
       "      <td>0</td>\n",
       "      <td>M</td>\n",
       "      <td>сотрудник</td>\n",
       "      <td>0</td>\n",
       "      <td>145885</td>\n",
       "      <td>покупка жилья</td>\n",
       "      <td>C</td>\n",
       "    </tr>\n",
       "    <tr>\n",
       "      <th>3</th>\n",
       "      <td>3</td>\n",
       "      <td>171.864467</td>\n",
       "      <td>32</td>\n",
       "      <td>1</td>\n",
       "      <td>0</td>\n",
       "      <td>M</td>\n",
       "      <td>сотрудник</td>\n",
       "      <td>0</td>\n",
       "      <td>267628</td>\n",
       "      <td>дополнительное образование</td>\n",
       "      <td>B</td>\n",
       "    </tr>\n",
       "    <tr>\n",
       "      <th>4</th>\n",
       "      <td>0</td>\n",
       "      <td>14177.753002</td>\n",
       "      <td>53</td>\n",
       "      <td>1</td>\n",
       "      <td>1</td>\n",
       "      <td>F</td>\n",
       "      <td>пенсионер</td>\n",
       "      <td>0</td>\n",
       "      <td>158616</td>\n",
       "      <td>сыграть свадьбу</td>\n",
       "      <td>C</td>\n",
       "    </tr>\n",
       "    <tr>\n",
       "      <th>5</th>\n",
       "      <td>0</td>\n",
       "      <td>38.591076</td>\n",
       "      <td>27</td>\n",
       "      <td>0</td>\n",
       "      <td>1</td>\n",
       "      <td>M</td>\n",
       "      <td>компаньон</td>\n",
       "      <td>0</td>\n",
       "      <td>255763</td>\n",
       "      <td>покупка жилья</td>\n",
       "      <td>B</td>\n",
       "    </tr>\n",
       "    <tr>\n",
       "      <th>6</th>\n",
       "      <td>0</td>\n",
       "      <td>119.966752</td>\n",
       "      <td>43</td>\n",
       "      <td>0</td>\n",
       "      <td>0</td>\n",
       "      <td>F</td>\n",
       "      <td>компаньон</td>\n",
       "      <td>0</td>\n",
       "      <td>240525</td>\n",
       "      <td>операции с жильем</td>\n",
       "      <td>B</td>\n",
       "    </tr>\n",
       "    <tr>\n",
       "      <th>7</th>\n",
       "      <td>0</td>\n",
       "      <td>6.365815</td>\n",
       "      <td>50</td>\n",
       "      <td>1</td>\n",
       "      <td>0</td>\n",
       "      <td>M</td>\n",
       "      <td>сотрудник</td>\n",
       "      <td>0</td>\n",
       "      <td>135823</td>\n",
       "      <td>образование</td>\n",
       "      <td>C</td>\n",
       "    </tr>\n",
       "    <tr>\n",
       "      <th>8</th>\n",
       "      <td>2</td>\n",
       "      <td>288.744387</td>\n",
       "      <td>35</td>\n",
       "      <td>0</td>\n",
       "      <td>1</td>\n",
       "      <td>F</td>\n",
       "      <td>сотрудник</td>\n",
       "      <td>0</td>\n",
       "      <td>95856</td>\n",
       "      <td>на проведение свадьбы</td>\n",
       "      <td>C</td>\n",
       "    </tr>\n",
       "    <tr>\n",
       "      <th>9</th>\n",
       "      <td>0</td>\n",
       "      <td>91.198185</td>\n",
       "      <td>41</td>\n",
       "      <td>1</td>\n",
       "      <td>0</td>\n",
       "      <td>M</td>\n",
       "      <td>сотрудник</td>\n",
       "      <td>0</td>\n",
       "      <td>144425</td>\n",
       "      <td>покупка жилья для семьи</td>\n",
       "      <td>C</td>\n",
       "    </tr>\n",
       "  </tbody>\n",
       "</table>\n",
       "</div>"
      ],
      "text/plain": [
       "   children  days_employed  dob_years  education_id  family_status_id gender  \\\n",
       "0         1     351.569709         42             0                 0      F   \n",
       "1         1     167.700156         36             1                 0      F   \n",
       "2         0     234.309275         33             1                 0      M   \n",
       "3         3     171.864467         32             1                 0      M   \n",
       "4         0   14177.753002         53             1                 1      F   \n",
       "5         0      38.591076         27             0                 1      M   \n",
       "6         0     119.966752         43             0                 0      F   \n",
       "7         0       6.365815         50             1                 0      M   \n",
       "8         2     288.744387         35             0                 1      F   \n",
       "9         0      91.198185         41             1                 0      M   \n",
       "\n",
       "  income_type  debt  total_income                     purpose  \\\n",
       "0   сотрудник     0        253875               покупка жилья   \n",
       "1   сотрудник     0        112080     приобретение автомобиля   \n",
       "2   сотрудник     0        145885               покупка жилья   \n",
       "3   сотрудник     0        267628  дополнительное образование   \n",
       "4   пенсионер     0        158616             сыграть свадьбу   \n",
       "5   компаньон     0        255763               покупка жилья   \n",
       "6   компаньон     0        240525           операции с жильем   \n",
       "7   сотрудник     0        135823                 образование   \n",
       "8   сотрудник     0         95856       на проведение свадьбы   \n",
       "9   сотрудник     0        144425     покупка жилья для семьи   \n",
       "\n",
       "  total_income_category  \n",
       "0                     B  \n",
       "1                     C  \n",
       "2                     C  \n",
       "3                     B  \n",
       "4                     C  \n",
       "5                     B  \n",
       "6                     B  \n",
       "7                     C  \n",
       "8                     C  \n",
       "9                     C  "
      ]
     },
     "metadata": {},
     "output_type": "display_data"
    }
   ],
   "source": [
    "#Пишем функцию, которая присваивает категорию заемщикам на основании данных столбца дохода. \n",
    "#Применяем эту функцию и создаем новый сотлбец с категориями по доходу. Проверим выводом на экран.\n",
    "def total_income_category(income):\n",
    "    if income <= 30000:\n",
    "        return 'E'\n",
    "    if 30001 <= income <= 50000:\n",
    "        return 'D'\n",
    "    if 50001 <= income <= 200000:\n",
    "        return 'C'\n",
    "    if 200001 <= income <= 1000000:\n",
    "        return 'B'\n",
    "    return 'A'\n",
    "data['total_income_category'] = data['total_income'].apply(total_income_category)\n",
    "display(data.head(10))"
   ]
  },
  {
   "cell_type": "markdown",
   "id": "869c529b",
   "metadata": {},
   "source": [
    "### Категоризация целей кредита."
   ]
  },
  {
   "cell_type": "code",
   "execution_count": 12,
   "id": "878d7f30",
   "metadata": {},
   "outputs": [
    {
     "data": {
      "text/plain": [
       "свадьба                                   791\n",
       "на проведение свадьбы                     767\n",
       "сыграть свадьбу                           765\n",
       "операции с недвижимостью                  675\n",
       "покупка коммерческой недвижимости         661\n",
       "операции с жильем                         652\n",
       "покупка жилья для сдачи                   651\n",
       "операции с коммерческой недвижимостью     650\n",
       "покупка жилья                             646\n",
       "жилье                                     646\n",
       "покупка жилья для семьи                   638\n",
       "строительство собственной недвижимости    635\n",
       "недвижимость                              633\n",
       "операции со своей недвижимостью           627\n",
       "строительство жилой недвижимости          624\n",
       "покупка недвижимости                      621\n",
       "покупка своего жилья                      620\n",
       "строительство недвижимости                619\n",
       "ремонт жилью                              607\n",
       "покупка жилой недвижимости                606\n",
       "на покупку своего автомобиля              505\n",
       "заняться высшим образованием              496\n",
       "автомобиль                                494\n",
       "сделка с подержанным автомобилем          486\n",
       "свой автомобиль                           478\n",
       "на покупку подержанного автомобиля        478\n",
       "автомобили                                478\n",
       "на покупку автомобиля                     471\n",
       "приобретение автомобиля                   461\n",
       "дополнительное образование                460\n",
       "сделка с автомобилем                      455\n",
       "высшее образование                        452\n",
       "образование                               447\n",
       "получение дополнительного образования     446\n",
       "получение образования                     442\n",
       "профильное образование                    436\n",
       "получение высшего образования             426\n",
       "заняться образованием                     408\n",
       "Name: purpose, dtype: int64"
      ]
     },
     "metadata": {},
     "output_type": "display_data"
    }
   ],
   "source": [
    "#Для удобства выведу все возможные значения столбца цели\n",
    "display(data['purpose'].value_counts())"
   ]
  },
  {
   "cell_type": "code",
   "execution_count": 13,
   "id": "e32dab25",
   "metadata": {},
   "outputs": [
    {
     "data": {
      "text/html": [
       "<div>\n",
       "<style scoped>\n",
       "    .dataframe tbody tr th:only-of-type {\n",
       "        vertical-align: middle;\n",
       "    }\n",
       "\n",
       "    .dataframe tbody tr th {\n",
       "        vertical-align: top;\n",
       "    }\n",
       "\n",
       "    .dataframe thead th {\n",
       "        text-align: right;\n",
       "    }\n",
       "</style>\n",
       "<table border=\"1\" class=\"dataframe\">\n",
       "  <thead>\n",
       "    <tr style=\"text-align: right;\">\n",
       "      <th></th>\n",
       "      <th>children</th>\n",
       "      <th>days_employed</th>\n",
       "      <th>dob_years</th>\n",
       "      <th>education_id</th>\n",
       "      <th>family_status_id</th>\n",
       "      <th>gender</th>\n",
       "      <th>income_type</th>\n",
       "      <th>debt</th>\n",
       "      <th>total_income</th>\n",
       "      <th>purpose</th>\n",
       "      <th>total_income_category</th>\n",
       "      <th>purpose_category</th>\n",
       "    </tr>\n",
       "  </thead>\n",
       "  <tbody>\n",
       "    <tr>\n",
       "      <th>0</th>\n",
       "      <td>1</td>\n",
       "      <td>351.569709</td>\n",
       "      <td>42</td>\n",
       "      <td>0</td>\n",
       "      <td>0</td>\n",
       "      <td>F</td>\n",
       "      <td>сотрудник</td>\n",
       "      <td>0</td>\n",
       "      <td>253875</td>\n",
       "      <td>покупка жилья</td>\n",
       "      <td>B</td>\n",
       "      <td>операции с недвижимостью</td>\n",
       "    </tr>\n",
       "    <tr>\n",
       "      <th>1</th>\n",
       "      <td>1</td>\n",
       "      <td>167.700156</td>\n",
       "      <td>36</td>\n",
       "      <td>1</td>\n",
       "      <td>0</td>\n",
       "      <td>F</td>\n",
       "      <td>сотрудник</td>\n",
       "      <td>0</td>\n",
       "      <td>112080</td>\n",
       "      <td>приобретение автомобиля</td>\n",
       "      <td>C</td>\n",
       "      <td>операции с автомобилем</td>\n",
       "    </tr>\n",
       "    <tr>\n",
       "      <th>2</th>\n",
       "      <td>0</td>\n",
       "      <td>234.309275</td>\n",
       "      <td>33</td>\n",
       "      <td>1</td>\n",
       "      <td>0</td>\n",
       "      <td>M</td>\n",
       "      <td>сотрудник</td>\n",
       "      <td>0</td>\n",
       "      <td>145885</td>\n",
       "      <td>покупка жилья</td>\n",
       "      <td>C</td>\n",
       "      <td>операции с недвижимостью</td>\n",
       "    </tr>\n",
       "    <tr>\n",
       "      <th>3</th>\n",
       "      <td>3</td>\n",
       "      <td>171.864467</td>\n",
       "      <td>32</td>\n",
       "      <td>1</td>\n",
       "      <td>0</td>\n",
       "      <td>M</td>\n",
       "      <td>сотрудник</td>\n",
       "      <td>0</td>\n",
       "      <td>267628</td>\n",
       "      <td>дополнительное образование</td>\n",
       "      <td>B</td>\n",
       "      <td>получение образования</td>\n",
       "    </tr>\n",
       "    <tr>\n",
       "      <th>4</th>\n",
       "      <td>0</td>\n",
       "      <td>14177.753002</td>\n",
       "      <td>53</td>\n",
       "      <td>1</td>\n",
       "      <td>1</td>\n",
       "      <td>F</td>\n",
       "      <td>пенсионер</td>\n",
       "      <td>0</td>\n",
       "      <td>158616</td>\n",
       "      <td>сыграть свадьбу</td>\n",
       "      <td>C</td>\n",
       "      <td>проведение свадьбы</td>\n",
       "    </tr>\n",
       "    <tr>\n",
       "      <th>5</th>\n",
       "      <td>0</td>\n",
       "      <td>38.591076</td>\n",
       "      <td>27</td>\n",
       "      <td>0</td>\n",
       "      <td>1</td>\n",
       "      <td>M</td>\n",
       "      <td>компаньон</td>\n",
       "      <td>0</td>\n",
       "      <td>255763</td>\n",
       "      <td>покупка жилья</td>\n",
       "      <td>B</td>\n",
       "      <td>операции с недвижимостью</td>\n",
       "    </tr>\n",
       "    <tr>\n",
       "      <th>6</th>\n",
       "      <td>0</td>\n",
       "      <td>119.966752</td>\n",
       "      <td>43</td>\n",
       "      <td>0</td>\n",
       "      <td>0</td>\n",
       "      <td>F</td>\n",
       "      <td>компаньон</td>\n",
       "      <td>0</td>\n",
       "      <td>240525</td>\n",
       "      <td>операции с жильем</td>\n",
       "      <td>B</td>\n",
       "      <td>операции с недвижимостью</td>\n",
       "    </tr>\n",
       "    <tr>\n",
       "      <th>7</th>\n",
       "      <td>0</td>\n",
       "      <td>6.365815</td>\n",
       "      <td>50</td>\n",
       "      <td>1</td>\n",
       "      <td>0</td>\n",
       "      <td>M</td>\n",
       "      <td>сотрудник</td>\n",
       "      <td>0</td>\n",
       "      <td>135823</td>\n",
       "      <td>образование</td>\n",
       "      <td>C</td>\n",
       "      <td>получение образования</td>\n",
       "    </tr>\n",
       "    <tr>\n",
       "      <th>8</th>\n",
       "      <td>2</td>\n",
       "      <td>288.744387</td>\n",
       "      <td>35</td>\n",
       "      <td>0</td>\n",
       "      <td>1</td>\n",
       "      <td>F</td>\n",
       "      <td>сотрудник</td>\n",
       "      <td>0</td>\n",
       "      <td>95856</td>\n",
       "      <td>на проведение свадьбы</td>\n",
       "      <td>C</td>\n",
       "      <td>проведение свадьбы</td>\n",
       "    </tr>\n",
       "    <tr>\n",
       "      <th>9</th>\n",
       "      <td>0</td>\n",
       "      <td>91.198185</td>\n",
       "      <td>41</td>\n",
       "      <td>1</td>\n",
       "      <td>0</td>\n",
       "      <td>M</td>\n",
       "      <td>сотрудник</td>\n",
       "      <td>0</td>\n",
       "      <td>144425</td>\n",
       "      <td>покупка жилья для семьи</td>\n",
       "      <td>C</td>\n",
       "      <td>операции с недвижимостью</td>\n",
       "    </tr>\n",
       "  </tbody>\n",
       "</table>\n",
       "</div>"
      ],
      "text/plain": [
       "   children  days_employed  dob_years  education_id  family_status_id gender  \\\n",
       "0         1     351.569709         42             0                 0      F   \n",
       "1         1     167.700156         36             1                 0      F   \n",
       "2         0     234.309275         33             1                 0      M   \n",
       "3         3     171.864467         32             1                 0      M   \n",
       "4         0   14177.753002         53             1                 1      F   \n",
       "5         0      38.591076         27             0                 1      M   \n",
       "6         0     119.966752         43             0                 0      F   \n",
       "7         0       6.365815         50             1                 0      M   \n",
       "8         2     288.744387         35             0                 1      F   \n",
       "9         0      91.198185         41             1                 0      M   \n",
       "\n",
       "  income_type  debt  total_income                     purpose  \\\n",
       "0   сотрудник     0        253875               покупка жилья   \n",
       "1   сотрудник     0        112080     приобретение автомобиля   \n",
       "2   сотрудник     0        145885               покупка жилья   \n",
       "3   сотрудник     0        267628  дополнительное образование   \n",
       "4   пенсионер     0        158616             сыграть свадьбу   \n",
       "5   компаньон     0        255763               покупка жилья   \n",
       "6   компаньон     0        240525           операции с жильем   \n",
       "7   сотрудник     0        135823                 образование   \n",
       "8   сотрудник     0         95856       на проведение свадьбы   \n",
       "9   сотрудник     0        144425     покупка жилья для семьи   \n",
       "\n",
       "  total_income_category          purpose_category  \n",
       "0                     B  операции с недвижимостью  \n",
       "1                     C    операции с автомобилем  \n",
       "2                     C  операции с недвижимостью  \n",
       "3                     B     получение образования  \n",
       "4                     C        проведение свадьбы  \n",
       "5                     B  операции с недвижимостью  \n",
       "6                     B  операции с недвижимостью  \n",
       "7                     C     получение образования  \n",
       "8                     C        проведение свадьбы  \n",
       "9                     C  операции с недвижимостью  "
      ]
     },
     "metadata": {},
     "output_type": "display_data"
    }
   ],
   "source": [
    "#Пишем функцию, которая присваивает категорию заемщикам на основании данных столбца целей кредита. \n",
    "#Применяем эту функцию и создаем новый сотлбец с категориями по целям. Проверим выводом на экран.\n",
    "\n",
    "def purpose_category(purpose):\n",
    "    if 'автомобил' in purpose:\n",
    "        return 'операции с автомобилем'\n",
    "    if 'недвижимост' in purpose or 'жиль' in purpose:\n",
    "        return 'операции с недвижимостью'\n",
    "    if 'свадьб' in purpose:\n",
    "        return 'проведение свадьбы'\n",
    "    if 'образовани' in purpose:\n",
    "        return 'получение образования'\n",
    "    \n",
    "data['purpose_category'] = data['purpose'].apply(purpose_category)\n",
    "\n",
    "display(data.head(10))"
   ]
  },
  {
   "cell_type": "markdown",
   "id": "aec5a129",
   "metadata": {},
   "source": [
    "### Ответы на вопросы"
   ]
  },
  {
   "cell_type": "markdown",
   "id": "11e2b6a9",
   "metadata": {},
   "source": [
    "##### Вопрос 1:"
   ]
  },
  {
   "cell_type": "markdown",
   "id": "cf1010f4",
   "metadata": {},
   "source": [
    "Есть ли зависимость между количеством детей и возвратом кредита в срок?"
   ]
  },
  {
   "cell_type": "code",
   "execution_count": 14,
   "id": "8ec7920b",
   "metadata": {},
   "outputs": [
    {
     "data": {
      "text/html": [
       "<style type=\"text/css\">\n",
       "</style>\n",
       "<table id=\"T_750d4\">\n",
       "  <thead>\n",
       "    <tr>\n",
       "      <th class=\"blank level0\" >&nbsp;</th>\n",
       "      <th id=\"T_750d4_level0_col0\" class=\"col_heading level0 col0\" >Нет задолженности</th>\n",
       "      <th id=\"T_750d4_level0_col1\" class=\"col_heading level0 col1\" >Задолженность</th>\n",
       "      <th id=\"T_750d4_level0_col2\" class=\"col_heading level0 col2\" >% задолженности</th>\n",
       "    </tr>\n",
       "    <tr>\n",
       "      <th class=\"index_name level0\" >children</th>\n",
       "      <th class=\"blank col0\" >&nbsp;</th>\n",
       "      <th class=\"blank col1\" >&nbsp;</th>\n",
       "      <th class=\"blank col2\" >&nbsp;</th>\n",
       "    </tr>\n",
       "  </thead>\n",
       "  <tbody>\n",
       "    <tr>\n",
       "      <th id=\"T_750d4_level0_row0\" class=\"row_heading level0 row0\" >5</th>\n",
       "      <td id=\"T_750d4_row0_col0\" class=\"data row0 col0\" >9</td>\n",
       "      <td id=\"T_750d4_row0_col1\" class=\"data row0 col1\" >0</td>\n",
       "      <td id=\"T_750d4_row0_col2\" class=\"data row0 col2\" >0.00%</td>\n",
       "    </tr>\n",
       "    <tr>\n",
       "      <th id=\"T_750d4_level0_row1\" class=\"row_heading level0 row1\" >0</th>\n",
       "      <td id=\"T_750d4_row1_col0\" class=\"data row1 col0\" >13027</td>\n",
       "      <td id=\"T_750d4_row1_col1\" class=\"data row1 col1\" >1063</td>\n",
       "      <td id=\"T_750d4_row1_col2\" class=\"data row1 col2\" >8.16%</td>\n",
       "    </tr>\n",
       "    <tr>\n",
       "      <th id=\"T_750d4_level0_row2\" class=\"row_heading level0 row2\" >3</th>\n",
       "      <td id=\"T_750d4_row2_col0\" class=\"data row2 col0\" >303</td>\n",
       "      <td id=\"T_750d4_row2_col1\" class=\"data row2 col1\" >27</td>\n",
       "      <td id=\"T_750d4_row2_col2\" class=\"data row2 col2\" >8.91%</td>\n",
       "    </tr>\n",
       "    <tr>\n",
       "      <th id=\"T_750d4_level0_row3\" class=\"row_heading level0 row3\" >1</th>\n",
       "      <td id=\"T_750d4_row3_col0\" class=\"data row3 col0\" >4410</td>\n",
       "      <td id=\"T_750d4_row3_col1\" class=\"data row3 col1\" >445</td>\n",
       "      <td id=\"T_750d4_row3_col2\" class=\"data row3 col2\" >10.09%</td>\n",
       "    </tr>\n",
       "    <tr>\n",
       "      <th id=\"T_750d4_level0_row4\" class=\"row_heading level0 row4\" >2</th>\n",
       "      <td id=\"T_750d4_row4_col0\" class=\"data row4 col0\" >1926</td>\n",
       "      <td id=\"T_750d4_row4_col1\" class=\"data row4 col1\" >202</td>\n",
       "      <td id=\"T_750d4_row4_col2\" class=\"data row4 col2\" >10.49%</td>\n",
       "    </tr>\n",
       "    <tr>\n",
       "      <th id=\"T_750d4_level0_row5\" class=\"row_heading level0 row5\" >4</th>\n",
       "      <td id=\"T_750d4_row5_col0\" class=\"data row5 col0\" >37</td>\n",
       "      <td id=\"T_750d4_row5_col1\" class=\"data row5 col1\" >4</td>\n",
       "      <td id=\"T_750d4_row5_col2\" class=\"data row5 col2\" >10.81%</td>\n",
       "    </tr>\n",
       "  </tbody>\n",
       "</table>\n"
      ],
      "text/plain": [
       "<pandas.io.formats.style.Styler at 0x1fe4648b490>"
      ]
     },
     "metadata": {},
     "output_type": "display_data"
    }
   ],
   "source": [
    "report_children = data.pivot_table(index='children', columns='debt', values='total_income', aggfunc='count').fillna(0) #т.к. считаем строки, то не имеет значение, по какому сотолбцу. Поэтому считаем по total_income\n",
    "report_children.columns = ['Нет задолженности', 'Задолженность']\n",
    "report_children['% задолженности'] = report_children['Задолженность'] / report_children['Нет задолженности']\n",
    "report_children['% задолженности'] = report_children['% задолженности'].fillna(0)\n",
    "display(report_children.sort_values(by='% задолженности').style.format({'% задолженности': '{:.2%}', 'Задолженность': '{:.0f}', 'Нет задолженности': '{:.0f}'}))"
   ]
  },
  {
   "cell_type": "markdown",
   "id": "9996ebc9",
   "metadata": {},
   "source": [
    "##### Вывод 1:"
   ]
  },
  {
   "cell_type": "markdown",
   "id": "fba7f115",
   "metadata": {},
   "source": [
    "Можно сказать, что зависимость есть, но несущественная. Разброс процентов задолженности среди категорий совсем небольшой.\n",
    "Но смотря на имеющуюся картину, можно сказать, что у бездетных шанс не выплатить кредит меньше, чем у других заемщиков. Также можно заметить полное отсутствие задолженности у заемщиков с пятью детьми, но и выборка там меньше:)"
   ]
  },
  {
   "cell_type": "markdown",
   "id": "90b4bf5f",
   "metadata": {},
   "source": [
    "##### Вопрос 2:"
   ]
  },
  {
   "cell_type": "markdown",
   "id": "dc0fc3c3",
   "metadata": {},
   "source": [
    "Есть ли зависимость между семейным положением и возвратом кредита в срок?"
   ]
  },
  {
   "cell_type": "code",
   "execution_count": 15,
   "id": "71779910",
   "metadata": {},
   "outputs": [
    {
     "data": {
      "text/html": [
       "<style type=\"text/css\">\n",
       "</style>\n",
       "<table id=\"T_461a3\">\n",
       "  <thead>\n",
       "    <tr>\n",
       "      <th class=\"blank level0\" >&nbsp;</th>\n",
       "      <th id=\"T_461a3_level0_col0\" class=\"col_heading level0 col0\" >family_status_id</th>\n",
       "      <th id=\"T_461a3_level0_col1\" class=\"col_heading level0 col1\" >family_status</th>\n",
       "      <th id=\"T_461a3_level0_col2\" class=\"col_heading level0 col2\" >Нет задолженности</th>\n",
       "      <th id=\"T_461a3_level0_col3\" class=\"col_heading level0 col3\" >Задолженность</th>\n",
       "      <th id=\"T_461a3_level0_col4\" class=\"col_heading level0 col4\" >% задолженности</th>\n",
       "    </tr>\n",
       "  </thead>\n",
       "  <tbody>\n",
       "    <tr>\n",
       "      <th id=\"T_461a3_level0_row0\" class=\"row_heading level0 row0\" >2</th>\n",
       "      <td id=\"T_461a3_row0_col0\" class=\"data row0 col0\" >2</td>\n",
       "      <td id=\"T_461a3_row0_col1\" class=\"data row0 col1\" >вдовец / вдова</td>\n",
       "      <td id=\"T_461a3_row0_col2\" class=\"data row0 col2\" >896</td>\n",
       "      <td id=\"T_461a3_row0_col3\" class=\"data row0 col3\" >63</td>\n",
       "      <td id=\"T_461a3_row0_col4\" class=\"data row0 col4\" >7.03%</td>\n",
       "    </tr>\n",
       "    <tr>\n",
       "      <th id=\"T_461a3_level0_row1\" class=\"row_heading level0 row1\" >3</th>\n",
       "      <td id=\"T_461a3_row1_col0\" class=\"data row1 col0\" >3</td>\n",
       "      <td id=\"T_461a3_row1_col1\" class=\"data row1 col1\" >в разводе</td>\n",
       "      <td id=\"T_461a3_row1_col2\" class=\"data row1 col2\" >1110</td>\n",
       "      <td id=\"T_461a3_row1_col3\" class=\"data row1 col3\" >85</td>\n",
       "      <td id=\"T_461a3_row1_col4\" class=\"data row1 col4\" >7.66%</td>\n",
       "    </tr>\n",
       "    <tr>\n",
       "      <th id=\"T_461a3_level0_row2\" class=\"row_heading level0 row2\" >0</th>\n",
       "      <td id=\"T_461a3_row2_col0\" class=\"data row2 col0\" >0</td>\n",
       "      <td id=\"T_461a3_row2_col1\" class=\"data row2 col1\" >женат / замужем</td>\n",
       "      <td id=\"T_461a3_row2_col2\" class=\"data row2 col2\" >11408</td>\n",
       "      <td id=\"T_461a3_row2_col3\" class=\"data row2 col3\" >931</td>\n",
       "      <td id=\"T_461a3_row2_col4\" class=\"data row2 col4\" >8.16%</td>\n",
       "    </tr>\n",
       "    <tr>\n",
       "      <th id=\"T_461a3_level0_row3\" class=\"row_heading level0 row3\" >1</th>\n",
       "      <td id=\"T_461a3_row3_col0\" class=\"data row3 col0\" >1</td>\n",
       "      <td id=\"T_461a3_row3_col1\" class=\"data row3 col1\" >гражданский брак</td>\n",
       "      <td id=\"T_461a3_row3_col2\" class=\"data row3 col2\" >3762</td>\n",
       "      <td id=\"T_461a3_row3_col3\" class=\"data row3 col3\" >388</td>\n",
       "      <td id=\"T_461a3_row3_col4\" class=\"data row3 col4\" >10.31%</td>\n",
       "    </tr>\n",
       "    <tr>\n",
       "      <th id=\"T_461a3_level0_row4\" class=\"row_heading level0 row4\" >4</th>\n",
       "      <td id=\"T_461a3_row4_col0\" class=\"data row4 col0\" >4</td>\n",
       "      <td id=\"T_461a3_row4_col1\" class=\"data row4 col1\" >не женат / не замужем</td>\n",
       "      <td id=\"T_461a3_row4_col2\" class=\"data row4 col2\" >2536</td>\n",
       "      <td id=\"T_461a3_row4_col3\" class=\"data row4 col3\" >274</td>\n",
       "      <td id=\"T_461a3_row4_col4\" class=\"data row4 col4\" >10.80%</td>\n",
       "    </tr>\n",
       "  </tbody>\n",
       "</table>\n"
      ],
      "text/plain": [
       "<pandas.io.formats.style.Styler at 0x1fe4648b760>"
      ]
     },
     "metadata": {},
     "output_type": "display_data"
    }
   ],
   "source": [
    "report_fs = data.pivot_table(index='family_status_id', columns='debt', values='total_income', aggfunc='count').fillna(0)\n",
    "report_fs.columns = ['Нет задолженности', 'Задолженность']\n",
    "report_fs['% задолженности'] = report_fs['Задолженность'] / report_fs['Нет задолженности']\n",
    "report_fs['% задолженности'] = report_fs['% задолженности'].fillna(0)\n",
    "report_fs_merged = fam_df.merge(report_fs, on = 'family_status_id')\n",
    "display(report_fs_merged.sort_values(by='% задолженности').style.format({'% задолженности': '{:.2%}', 'Задолженность': '{:.0f}', 'Нет задолженности': '{:.0f}'}))"
   ]
  },
  {
   "cell_type": "markdown",
   "id": "8c6c2403",
   "metadata": {},
   "source": [
    "##### Вывод 2:"
   ]
  },
  {
   "cell_type": "markdown",
   "id": "e8cb0e1e",
   "metadata": {},
   "source": [
    "Здесь прослеживается четкая зависимость - у людей не в браке или в гражданском браке шанс не выплатить кредит возрастает.\n",
    "Самые надежные заемщики в данной выборке - вдовцы/вдовы или люди в разводе."
   ]
  },
  {
   "cell_type": "markdown",
   "id": "ddabee0d",
   "metadata": {},
   "source": [
    "##### Вопрос 3:"
   ]
  },
  {
   "cell_type": "markdown",
   "id": "4177dcc2",
   "metadata": {},
   "source": [
    "Есть ли зависимость между уровнем дохода и возвратом кредита в срок?"
   ]
  },
  {
   "cell_type": "code",
   "execution_count": 16,
   "id": "68df8138",
   "metadata": {},
   "outputs": [
    {
     "data": {
      "text/html": [
       "<style type=\"text/css\">\n",
       "</style>\n",
       "<table id=\"T_0313c\">\n",
       "  <thead>\n",
       "    <tr>\n",
       "      <th class=\"blank level0\" >&nbsp;</th>\n",
       "      <th id=\"T_0313c_level0_col0\" class=\"col_heading level0 col0\" >Нет задолженности</th>\n",
       "      <th id=\"T_0313c_level0_col1\" class=\"col_heading level0 col1\" >Задолженность</th>\n",
       "      <th id=\"T_0313c_level0_col2\" class=\"col_heading level0 col2\" >% задолженности</th>\n",
       "    </tr>\n",
       "    <tr>\n",
       "      <th class=\"index_name level0\" >total_income_category</th>\n",
       "      <th class=\"blank col0\" >&nbsp;</th>\n",
       "      <th class=\"blank col1\" >&nbsp;</th>\n",
       "      <th class=\"blank col2\" >&nbsp;</th>\n",
       "    </tr>\n",
       "  </thead>\n",
       "  <tbody>\n",
       "    <tr>\n",
       "      <th id=\"T_0313c_level0_row0\" class=\"row_heading level0 row0\" >D</th>\n",
       "      <td id=\"T_0313c_row0_col0\" class=\"data row0 col0\" >329</td>\n",
       "      <td id=\"T_0313c_row0_col1\" class=\"data row0 col1\" >21</td>\n",
       "      <td id=\"T_0313c_row0_col2\" class=\"data row0 col2\" >6.38%</td>\n",
       "    </tr>\n",
       "    <tr>\n",
       "      <th id=\"T_0313c_level0_row1\" class=\"row_heading level0 row1\" >B</th>\n",
       "      <td id=\"T_0313c_row1_col0\" class=\"data row1 col0\" >4685</td>\n",
       "      <td id=\"T_0313c_row1_col1\" class=\"data row1 col1\" >356</td>\n",
       "      <td id=\"T_0313c_row1_col2\" class=\"data row1 col2\" >7.60%</td>\n",
       "    </tr>\n",
       "    <tr>\n",
       "      <th id=\"T_0313c_level0_row2\" class=\"row_heading level0 row2\" >A</th>\n",
       "      <td id=\"T_0313c_row2_col0\" class=\"data row2 col0\" >23</td>\n",
       "      <td id=\"T_0313c_row2_col1\" class=\"data row2 col1\" >2</td>\n",
       "      <td id=\"T_0313c_row2_col2\" class=\"data row2 col2\" >8.70%</td>\n",
       "    </tr>\n",
       "    <tr>\n",
       "      <th id=\"T_0313c_level0_row3\" class=\"row_heading level0 row3\" >C</th>\n",
       "      <td id=\"T_0313c_row3_col0\" class=\"data row3 col0\" >14655</td>\n",
       "      <td id=\"T_0313c_row3_col1\" class=\"data row3 col1\" >1360</td>\n",
       "      <td id=\"T_0313c_row3_col2\" class=\"data row3 col2\" >9.28%</td>\n",
       "    </tr>\n",
       "    <tr>\n",
       "      <th id=\"T_0313c_level0_row4\" class=\"row_heading level0 row4\" >E</th>\n",
       "      <td id=\"T_0313c_row4_col0\" class=\"data row4 col0\" >20</td>\n",
       "      <td id=\"T_0313c_row4_col1\" class=\"data row4 col1\" >2</td>\n",
       "      <td id=\"T_0313c_row4_col2\" class=\"data row4 col2\" >10.00%</td>\n",
       "    </tr>\n",
       "  </tbody>\n",
       "</table>\n"
      ],
      "text/plain": [
       "<pandas.io.formats.style.Styler at 0x1fe4648b9d0>"
      ]
     },
     "metadata": {},
     "output_type": "display_data"
    }
   ],
   "source": [
    "report_income = data.pivot_table(index='total_income_category', columns='debt', values='total_income', aggfunc='count').fillna(0)\n",
    "report_income.columns = ['Нет задолженности', 'Задолженность']\n",
    "report_income['% задолженности'] = report_income['Задолженность'] / report_income['Нет задолженности']\n",
    "report_income['% задолженности'] = report_income['% задолженности'].fillna(0)\n",
    "display(report_income.sort_values(by='% задолженности').style.format({'% задолженности': '{:.2%}', 'Задолженность': '{:.0f}', 'Нет задолженности': '{:.0f}'}))"
   ]
  },
  {
   "cell_type": "markdown",
   "id": "aaeef194",
   "metadata": {},
   "source": [
    "##### Вывод 3:"
   ]
  },
  {
   "cell_type": "markdown",
   "id": "7195b41e",
   "metadata": {},
   "source": [
    "Однозначно можно сказать, что наименьшей платежеспособностью отличаются люди с наименьшим доходом (что вполне логично).\n",
    "Также логично было бы, если бы самый маленький процент задолженности был у людей с наибольшим доходом - но это не так.\n",
    "У данной категории заемщиков средняя платежеспособность.\n",
    "Самыми надежными оказались заемщики с доходом выше среднего (от 200 тыс до миллиона).\n",
    "В целом, сложно проследить какие-либо паттерны, поэтому скажу, что прямой зависимости возврата кредита от дохода нет."
   ]
  },
  {
   "cell_type": "markdown",
   "id": "15162a81",
   "metadata": {},
   "source": [
    "##### Вопрос 4:"
   ]
  },
  {
   "cell_type": "markdown",
   "id": "c84fd7c1",
   "metadata": {},
   "source": [
    "Как разные цели кредита влияют на его возврат в срок?"
   ]
  },
  {
   "cell_type": "code",
   "execution_count": 17,
   "id": "8e82d27e",
   "metadata": {},
   "outputs": [
    {
     "data": {
      "text/html": [
       "<style type=\"text/css\">\n",
       "</style>\n",
       "<table id=\"T_a9538\">\n",
       "  <thead>\n",
       "    <tr>\n",
       "      <th class=\"blank level0\" >&nbsp;</th>\n",
       "      <th id=\"T_a9538_level0_col0\" class=\"col_heading level0 col0\" >Нет задолженности</th>\n",
       "      <th id=\"T_a9538_level0_col1\" class=\"col_heading level0 col1\" >Задолженность</th>\n",
       "      <th id=\"T_a9538_level0_col2\" class=\"col_heading level0 col2\" >% задолженности</th>\n",
       "    </tr>\n",
       "    <tr>\n",
       "      <th class=\"index_name level0\" >purpose_category</th>\n",
       "      <th class=\"blank col0\" >&nbsp;</th>\n",
       "      <th class=\"blank col1\" >&nbsp;</th>\n",
       "      <th class=\"blank col2\" >&nbsp;</th>\n",
       "    </tr>\n",
       "  </thead>\n",
       "  <tbody>\n",
       "    <tr>\n",
       "      <th id=\"T_a9538_level0_row0\" class=\"row_heading level0 row0\" >операции с недвижимостью</th>\n",
       "      <td id=\"T_a9538_row0_col0\" class=\"data row0 col0\" >10029</td>\n",
       "      <td id=\"T_a9538_row0_col1\" class=\"data row0 col1\" >782</td>\n",
       "      <td id=\"T_a9538_row0_col2\" class=\"data row0 col2\" >7.80%</td>\n",
       "    </tr>\n",
       "    <tr>\n",
       "      <th id=\"T_a9538_level0_row1\" class=\"row_heading level0 row1\" >проведение свадьбы</th>\n",
       "      <td id=\"T_a9538_row1_col0\" class=\"data row1 col0\" >2137</td>\n",
       "      <td id=\"T_a9538_row1_col1\" class=\"data row1 col1\" >186</td>\n",
       "      <td id=\"T_a9538_row1_col2\" class=\"data row1 col2\" >8.70%</td>\n",
       "    </tr>\n",
       "    <tr>\n",
       "      <th id=\"T_a9538_level0_row2\" class=\"row_heading level0 row2\" >получение образования</th>\n",
       "      <td id=\"T_a9538_row2_col0\" class=\"data row2 col0\" >3643</td>\n",
       "      <td id=\"T_a9538_row2_col1\" class=\"data row2 col1\" >370</td>\n",
       "      <td id=\"T_a9538_row2_col2\" class=\"data row2 col2\" >10.16%</td>\n",
       "    </tr>\n",
       "    <tr>\n",
       "      <th id=\"T_a9538_level0_row3\" class=\"row_heading level0 row3\" >операции с автомобилем</th>\n",
       "      <td id=\"T_a9538_row3_col0\" class=\"data row3 col0\" >3903</td>\n",
       "      <td id=\"T_a9538_row3_col1\" class=\"data row3 col1\" >403</td>\n",
       "      <td id=\"T_a9538_row3_col2\" class=\"data row3 col2\" >10.33%</td>\n",
       "    </tr>\n",
       "  </tbody>\n",
       "</table>\n"
      ],
      "text/plain": [
       "<pandas.io.formats.style.Styler at 0x1fe47f1d880>"
      ]
     },
     "metadata": {},
     "output_type": "display_data"
    }
   ],
   "source": [
    "report_purpose = data.pivot_table(index='purpose_category', columns='debt', values='total_income', aggfunc='count').fillna(0)\n",
    "report_purpose.columns = ['Нет задолженности', 'Задолженность']\n",
    "report_purpose['% задолженности'] = report_purpose['Задолженность'] / report_purpose['Нет задолженности']\n",
    "report_purpose['% задолженности'] = report_purpose['% задолженности'].fillna(0)\n",
    "display(report_purpose.sort_values(by='% задолженности').style.format({'% задолженности': '{:.2%}', 'Задолженность': '{:.0f}', 'Нет задолженности': '{:.0f}'}))"
   ]
  },
  {
   "cell_type": "markdown",
   "id": "45878c77",
   "metadata": {},
   "source": [
    "##### Вывод 4:"
   ]
  },
  {
   "cell_type": "markdown",
   "id": "6fba2a77",
   "metadata": {},
   "source": [
    "Операции с недвижимостью - самая безопасная цель кредита. Заемщиков с данной целью в разы больше других, и они отличаются самым низких процентом задолженности.\n",
    "Самым высоким процентом задолженности отличаются операции с автомобилем."
   ]
  },
  {
   "cell_type": "markdown",
   "id": "59c513fc",
   "metadata": {},
   "source": [
    "## Общий вывод:"
   ]
  },
  {
   "cell_type": "markdown",
   "id": "38a655ca",
   "metadata": {},
   "source": [
    "В целом, можно сказать, что самые надежные заемщики - это люди, уже побывавшие в браке или находящиеся в нем, без детей, берущие займ для операций с недвижимостью и имеющие уровень дохода от 200 тыс до миллиона. \n",
    "Мне кажется, стоило бы еще включить в анализ сумму займов, чтобы найти зависимость между суммой займа, доходом и наличием просрочек. Такая картина была бы более точной. "
   ]
  },
  {
   "cell_type": "code",
   "execution_count": null,
   "id": "ee963eae",
   "metadata": {},
   "outputs": [],
   "source": []
  }
 ],
 "metadata": {
  "ExecuteTimeLog": [
   {
    "duration": 847,
    "start_time": "2022-02-14T17:12:57.430Z"
   },
   {
    "duration": 101,
    "start_time": "2022-02-14T17:14:31.024Z"
   },
   {
    "duration": 94,
    "start_time": "2022-02-14T17:15:10.933Z"
   },
   {
    "duration": 122,
    "start_time": "2022-02-14T17:15:40.962Z"
   },
   {
    "duration": 84,
    "start_time": "2022-02-14T17:20:04.974Z"
   },
   {
    "duration": 97,
    "start_time": "2022-02-14T17:20:47.494Z"
   },
   {
    "duration": 276,
    "start_time": "2022-02-15T15:45:51.048Z"
   },
   {
    "duration": 777,
    "start_time": "2022-02-15T15:45:56.166Z"
   },
   {
    "duration": 23,
    "start_time": "2022-02-15T15:45:58.305Z"
   },
   {
    "duration": 31,
    "start_time": "2022-02-15T15:47:14.210Z"
   },
   {
    "duration": 36,
    "start_time": "2022-02-15T15:47:52.736Z"
   },
   {
    "duration": 39,
    "start_time": "2022-02-15T15:50:34.785Z"
   },
   {
    "duration": 10,
    "start_time": "2022-02-15T15:52:43.195Z"
   },
   {
    "duration": 12,
    "start_time": "2022-02-15T15:57:56.155Z"
   },
   {
    "duration": 18,
    "start_time": "2022-02-15T16:00:27.054Z"
   },
   {
    "duration": 10,
    "start_time": "2022-02-15T16:00:50.561Z"
   },
   {
    "duration": 71,
    "start_time": "2022-02-15T16:01:00.926Z"
   },
   {
    "duration": 11,
    "start_time": "2022-02-15T16:01:03.097Z"
   },
   {
    "duration": 18,
    "start_time": "2022-02-15T16:01:14.286Z"
   },
   {
    "duration": 830,
    "start_time": "2022-02-18T09:01:03.355Z"
   },
   {
    "duration": 155,
    "start_time": "2022-02-18T09:01:07.482Z"
   },
   {
    "duration": 123,
    "start_time": "2022-02-18T09:01:42.053Z"
   },
   {
    "duration": 172,
    "start_time": "2022-02-18T09:02:41.158Z"
   },
   {
    "duration": 32,
    "start_time": "2022-02-18T09:03:02.712Z"
   },
   {
    "duration": 31,
    "start_time": "2022-02-18T09:05:41.897Z"
   },
   {
    "duration": 25,
    "start_time": "2022-02-18T09:05:59.353Z"
   },
   {
    "duration": 26,
    "start_time": "2022-02-18T09:06:07.062Z"
   },
   {
    "duration": 91,
    "start_time": "2022-02-18T09:06:14.491Z"
   },
   {
    "duration": 34,
    "start_time": "2022-02-18T09:06:16.099Z"
   },
   {
    "duration": 28,
    "start_time": "2022-02-18T09:07:19.325Z"
   },
   {
    "duration": 91,
    "start_time": "2022-02-18T09:07:25.434Z"
   },
   {
    "duration": 31,
    "start_time": "2022-02-18T09:07:27.514Z"
   },
   {
    "duration": 90,
    "start_time": "2022-02-18T09:11:52.336Z"
   },
   {
    "duration": 33,
    "start_time": "2022-02-18T09:11:54.489Z"
   },
   {
    "duration": 89,
    "start_time": "2022-02-18T09:16:02.563Z"
   },
   {
    "duration": 27,
    "start_time": "2022-02-18T09:16:05.124Z"
   },
   {
    "duration": 89,
    "start_time": "2022-02-18T09:21:54.286Z"
   },
   {
    "duration": 121,
    "start_time": "2022-02-18T09:21:55.930Z"
   },
   {
    "duration": 109,
    "start_time": "2022-02-18T09:22:25.338Z"
   },
   {
    "duration": 452,
    "start_time": "2022-02-18T09:23:06.003Z"
   },
   {
    "duration": 389,
    "start_time": "2022-02-18T09:25:04.981Z"
   },
   {
    "duration": 92,
    "start_time": "2022-02-18T09:34:09.987Z"
   },
   {
    "duration": 340,
    "start_time": "2022-02-18T09:34:11.670Z"
   },
   {
    "duration": 30,
    "start_time": "2022-02-18T09:36:28.262Z"
   },
   {
    "duration": 29,
    "start_time": "2022-02-18T09:36:53.961Z"
   },
   {
    "duration": 98,
    "start_time": "2022-02-18T09:37:02.981Z"
   },
   {
    "duration": 31,
    "start_time": "2022-02-18T09:37:04.890Z"
   },
   {
    "duration": 91,
    "start_time": "2022-02-18T09:37:23.484Z"
   },
   {
    "duration": 149,
    "start_time": "2022-02-18T09:37:24.424Z"
   },
   {
    "duration": 99,
    "start_time": "2022-02-18T09:37:47.188Z"
   },
   {
    "duration": 35,
    "start_time": "2022-02-18T09:37:49.007Z"
   },
   {
    "duration": 347,
    "start_time": "2022-02-18T09:39:23.517Z"
   },
   {
    "duration": 325,
    "start_time": "2022-02-18T09:39:32.753Z"
   },
   {
    "duration": 5,
    "start_time": "2022-02-18T09:40:26.230Z"
   },
   {
    "duration": 871,
    "start_time": "2022-02-18T09:40:35.555Z"
   },
   {
    "duration": 100,
    "start_time": "2022-02-18T09:42:46.899Z"
   },
   {
    "duration": 26,
    "start_time": "2022-02-18T09:42:50.231Z"
   },
   {
    "duration": 88,
    "start_time": "2022-02-18T10:22:50.326Z"
   },
   {
    "duration": 30,
    "start_time": "2022-02-18T10:22:52.123Z"
   },
   {
    "duration": 310,
    "start_time": "2022-02-18T10:29:26.930Z"
   },
   {
    "duration": 167,
    "start_time": "2022-02-18T10:30:07.051Z"
   },
   {
    "duration": 308,
    "start_time": "2022-02-18T10:30:10.443Z"
   },
   {
    "duration": 311,
    "start_time": "2022-02-18T10:30:37.129Z"
   },
   {
    "duration": 119,
    "start_time": "2022-02-18T10:31:01.870Z"
   },
   {
    "duration": 8,
    "start_time": "2022-02-18T10:31:05.195Z"
   },
   {
    "duration": 654,
    "start_time": "2022-02-18T10:36:01.841Z"
   },
   {
    "duration": 8,
    "start_time": "2022-02-18T10:36:35.341Z"
   },
   {
    "duration": 15,
    "start_time": "2022-02-18T10:39:37.790Z"
   },
   {
    "duration": 17,
    "start_time": "2022-02-18T10:43:38.920Z"
   },
   {
    "duration": 32,
    "start_time": "2022-02-18T10:44:22.545Z"
   },
   {
    "duration": 14,
    "start_time": "2022-02-18T10:44:24.077Z"
   },
   {
    "duration": 15,
    "start_time": "2022-02-18T10:44:43.161Z"
   },
   {
    "duration": 28,
    "start_time": "2022-02-18T10:44:51.308Z"
   },
   {
    "duration": 20,
    "start_time": "2022-02-18T10:44:53.169Z"
   },
   {
    "duration": 91,
    "start_time": "2022-02-18T10:45:00.382Z"
   },
   {
    "duration": 30,
    "start_time": "2022-02-18T10:45:01.208Z"
   },
   {
    "duration": 14,
    "start_time": "2022-02-18T10:45:02.628Z"
   },
   {
    "duration": 14,
    "start_time": "2022-02-18T10:47:08.231Z"
   },
   {
    "duration": 88,
    "start_time": "2022-02-18T10:48:05.531Z"
   },
   {
    "duration": 30,
    "start_time": "2022-02-18T10:48:07.748Z"
   },
   {
    "duration": 16,
    "start_time": "2022-02-18T10:48:11.272Z"
   },
   {
    "duration": 16,
    "start_time": "2022-02-18T10:50:29.989Z"
   },
   {
    "duration": 20,
    "start_time": "2022-02-18T10:53:14.233Z"
   },
   {
    "duration": 91,
    "start_time": "2022-02-18T10:53:27.812Z"
   },
   {
    "duration": 30,
    "start_time": "2022-02-18T10:53:28.780Z"
   },
   {
    "duration": 21,
    "start_time": "2022-02-18T10:53:30.176Z"
   },
   {
    "duration": -120,
    "start_time": "2022-02-18T13:12:58.523Z"
   },
   {
    "duration": 8744,
    "start_time": "2022-02-18T13:13:49.551Z"
   },
   {
    "duration": 18,
    "start_time": "2022-02-18T13:14:29.922Z"
   },
   {
    "duration": 103,
    "start_time": "2022-02-18T13:14:44.874Z"
   },
   {
    "duration": 31,
    "start_time": "2022-02-18T13:14:46.486Z"
   },
   {
    "duration": 19,
    "start_time": "2022-02-18T13:14:49.834Z"
   },
   {
    "duration": 12,
    "start_time": "2022-02-18T13:14:52.502Z"
   },
   {
    "duration": 12,
    "start_time": "2022-02-18T13:15:23.118Z"
   },
   {
    "duration": 12,
    "start_time": "2022-02-18T13:19:11.961Z"
   },
   {
    "duration": 11,
    "start_time": "2022-02-18T13:19:34.270Z"
   },
   {
    "duration": 93,
    "start_time": "2022-02-18T13:19:41.692Z"
   },
   {
    "duration": 28,
    "start_time": "2022-02-18T13:19:42.595Z"
   },
   {
    "duration": 20,
    "start_time": "2022-02-18T13:19:44.048Z"
   },
   {
    "duration": 11,
    "start_time": "2022-02-18T13:19:45.166Z"
   },
   {
    "duration": 134,
    "start_time": "2022-02-18T13:20:50.148Z"
   },
   {
    "duration": 16,
    "start_time": "2022-02-18T13:21:10.163Z"
   },
   {
    "duration": 31,
    "start_time": "2022-02-18T13:21:16.658Z"
   },
   {
    "duration": 20,
    "start_time": "2022-02-18T13:21:18.624Z"
   },
   {
    "duration": 12,
    "start_time": "2022-02-18T13:21:19.567Z"
   },
   {
    "duration": 91,
    "start_time": "2022-02-18T13:21:26.445Z"
   },
   {
    "duration": 28,
    "start_time": "2022-02-18T13:21:27.412Z"
   },
   {
    "duration": 19,
    "start_time": "2022-02-18T13:21:28.626Z"
   },
   {
    "duration": 14,
    "start_time": "2022-02-18T13:21:29.307Z"
   },
   {
    "duration": 9,
    "start_time": "2022-02-18T13:24:59.528Z"
   },
   {
    "duration": 17,
    "start_time": "2022-02-18T13:28:03.565Z"
   },
   {
    "duration": 21,
    "start_time": "2022-02-18T13:28:34.518Z"
   },
   {
    "duration": 93,
    "start_time": "2022-02-18T13:28:45.519Z"
   },
   {
    "duration": 39,
    "start_time": "2022-02-18T13:28:45.800Z"
   },
   {
    "duration": 19,
    "start_time": "2022-02-18T13:28:46.130Z"
   },
   {
    "duration": 12,
    "start_time": "2022-02-18T13:28:46.272Z"
   },
   {
    "duration": 18,
    "start_time": "2022-02-18T13:28:46.442Z"
   },
   {
    "duration": 92,
    "start_time": "2022-02-18T13:29:59.134Z"
   },
   {
    "duration": 30,
    "start_time": "2022-02-18T13:29:59.451Z"
   },
   {
    "duration": 18,
    "start_time": "2022-02-18T13:29:59.816Z"
   },
   {
    "duration": 14,
    "start_time": "2022-02-18T13:30:01.036Z"
   },
   {
    "duration": 17,
    "start_time": "2022-02-18T13:30:02.487Z"
   },
   {
    "duration": 89,
    "start_time": "2022-02-18T13:30:21.436Z"
   },
   {
    "duration": 29,
    "start_time": "2022-02-18T13:30:21.763Z"
   },
   {
    "duration": 16,
    "start_time": "2022-02-18T13:30:22.066Z"
   },
   {
    "duration": 12,
    "start_time": "2022-02-18T13:30:22.586Z"
   },
   {
    "duration": 17,
    "start_time": "2022-02-18T13:30:27.398Z"
   },
   {
    "duration": 12,
    "start_time": "2022-02-18T13:30:50.768Z"
   },
   {
    "duration": 10,
    "start_time": "2022-02-18T13:37:18.673Z"
   },
   {
    "duration": 348,
    "start_time": "2022-02-18T13:45:42.809Z"
   },
   {
    "duration": 368,
    "start_time": "2022-02-18T13:46:02.415Z"
   },
   {
    "duration": 92,
    "start_time": "2022-02-18T13:46:16.164Z"
   },
   {
    "duration": 33,
    "start_time": "2022-02-18T13:46:17.454Z"
   },
   {
    "duration": 17,
    "start_time": "2022-02-18T13:46:18.602Z"
   },
   {
    "duration": 12,
    "start_time": "2022-02-18T13:46:19.179Z"
   },
   {
    "duration": 12,
    "start_time": "2022-02-18T13:46:20.486Z"
   },
   {
    "duration": 349,
    "start_time": "2022-02-18T13:46:28.829Z"
   },
   {
    "duration": 14,
    "start_time": "2022-02-18T13:47:49.632Z"
   },
   {
    "duration": 333,
    "start_time": "2022-02-18T13:49:18.891Z"
   },
   {
    "duration": 35,
    "start_time": "2022-02-18T13:52:54.323Z"
   },
   {
    "duration": 92,
    "start_time": "2022-02-18T13:53:53.060Z"
   },
   {
    "duration": 30,
    "start_time": "2022-02-18T13:53:54.459Z"
   },
   {
    "duration": 20,
    "start_time": "2022-02-18T13:53:56.083Z"
   },
   {
    "duration": 14,
    "start_time": "2022-02-18T13:53:56.927Z"
   },
   {
    "duration": 17,
    "start_time": "2022-02-18T13:53:58.111Z"
   },
   {
    "duration": 32,
    "start_time": "2022-02-18T13:53:58.496Z"
   },
   {
    "duration": 7,
    "start_time": "2022-02-18T13:57:24.933Z"
   },
   {
    "duration": 7,
    "start_time": "2022-02-18T13:57:30.696Z"
   },
   {
    "duration": 57,
    "start_time": "2022-02-18T13:58:33.299Z"
   },
   {
    "duration": 54,
    "start_time": "2022-02-18T13:58:46.487Z"
   },
   {
    "duration": 57,
    "start_time": "2022-02-18T14:01:24.886Z"
   },
   {
    "duration": 565,
    "start_time": "2022-02-18T14:03:08.218Z"
   },
   {
    "duration": 69,
    "start_time": "2022-02-18T14:04:59.955Z"
   },
   {
    "duration": 86,
    "start_time": "2022-02-18T14:13:25.912Z"
   },
   {
    "duration": 78,
    "start_time": "2022-02-18T14:14:15.687Z"
   },
   {
    "duration": 92,
    "start_time": "2022-02-18T14:14:20.538Z"
   },
   {
    "duration": 30,
    "start_time": "2022-02-18T14:14:20.847Z"
   },
   {
    "duration": 17,
    "start_time": "2022-02-18T14:14:21.161Z"
   },
   {
    "duration": 12,
    "start_time": "2022-02-18T14:14:21.312Z"
   },
   {
    "duration": 15,
    "start_time": "2022-02-18T14:14:21.455Z"
   },
   {
    "duration": 40,
    "start_time": "2022-02-18T14:14:21.624Z"
   },
   {
    "duration": 6,
    "start_time": "2022-02-18T14:14:21.922Z"
   },
   {
    "duration": 81,
    "start_time": "2022-02-18T14:14:22.226Z"
   },
   {
    "duration": 939,
    "start_time": "2022-02-23T11:59:09.324Z"
   },
   {
    "duration": 34,
    "start_time": "2022-02-23T11:59:10.313Z"
   },
   {
    "duration": 19,
    "start_time": "2022-02-23T11:59:11.165Z"
   },
   {
    "duration": 18,
    "start_time": "2022-02-23T11:59:11.764Z"
   },
   {
    "duration": 17,
    "start_time": "2022-02-23T11:59:12.413Z"
   },
   {
    "duration": 26,
    "start_time": "2022-02-23T11:59:12.973Z"
   },
   {
    "duration": 7,
    "start_time": "2022-02-23T11:59:14.232Z"
   },
   {
    "duration": 83,
    "start_time": "2022-02-23T11:59:15.893Z"
   },
   {
    "duration": 20,
    "start_time": "2022-02-23T11:59:17.367Z"
   },
   {
    "duration": 394,
    "start_time": "2022-02-23T11:59:35.415Z"
   },
   {
    "duration": 87,
    "start_time": "2022-02-23T11:59:46.404Z"
   },
   {
    "duration": 30,
    "start_time": "2022-02-23T11:59:46.855Z"
   },
   {
    "duration": 17,
    "start_time": "2022-02-23T11:59:47.251Z"
   },
   {
    "duration": 11,
    "start_time": "2022-02-23T11:59:47.426Z"
   },
   {
    "duration": 15,
    "start_time": "2022-02-23T11:59:47.617Z"
   },
   {
    "duration": 28,
    "start_time": "2022-02-23T11:59:47.794Z"
   },
   {
    "duration": 8,
    "start_time": "2022-02-23T11:59:48.961Z"
   },
   {
    "duration": 85,
    "start_time": "2022-02-23T11:59:50.179Z"
   },
   {
    "duration": 11,
    "start_time": "2022-02-23T11:59:53.154Z"
   },
   {
    "duration": 299,
    "start_time": "2022-02-23T11:59:56.778Z"
   },
   {
    "duration": 92,
    "start_time": "2022-02-23T12:00:25.079Z"
   },
   {
    "duration": 30,
    "start_time": "2022-02-23T12:00:26.326Z"
   },
   {
    "duration": 17,
    "start_time": "2022-02-23T12:00:27.250Z"
   },
   {
    "duration": 12,
    "start_time": "2022-02-23T12:00:27.739Z"
   },
   {
    "duration": 17,
    "start_time": "2022-02-23T12:00:28.242Z"
   },
   {
    "duration": 26,
    "start_time": "2022-02-23T12:00:28.883Z"
   },
   {
    "duration": 7,
    "start_time": "2022-02-23T12:00:30.686Z"
   },
   {
    "duration": 78,
    "start_time": "2022-02-23T12:00:32.129Z"
   },
   {
    "duration": 83,
    "start_time": "2022-02-23T12:02:07.161Z"
   },
   {
    "duration": 31,
    "start_time": "2022-02-23T12:02:07.576Z"
   },
   {
    "duration": 19,
    "start_time": "2022-02-23T12:02:07.932Z"
   },
   {
    "duration": 11,
    "start_time": "2022-02-23T12:02:08.107Z"
   },
   {
    "duration": 16,
    "start_time": "2022-02-23T12:02:08.300Z"
   },
   {
    "duration": 25,
    "start_time": "2022-02-23T12:02:08.683Z"
   },
   {
    "duration": 8,
    "start_time": "2022-02-23T12:02:09.451Z"
   },
   {
    "duration": 81,
    "start_time": "2022-02-23T12:02:10.856Z"
   },
   {
    "duration": 22,
    "start_time": "2022-02-23T12:02:14.259Z"
   },
   {
    "duration": 30,
    "start_time": "2022-02-23T12:08:21.017Z"
   },
   {
    "duration": 88,
    "start_time": "2022-02-23T12:08:28.795Z"
   },
   {
    "duration": 32,
    "start_time": "2022-02-23T12:08:38.014Z"
   },
   {
    "duration": 16,
    "start_time": "2022-02-23T12:09:08.640Z"
   },
   {
    "duration": 28,
    "start_time": "2022-02-23T12:09:12.313Z"
   },
   {
    "duration": 19,
    "start_time": "2022-02-23T12:09:13.558Z"
   },
   {
    "duration": 15,
    "start_time": "2022-02-23T12:09:14.907Z"
   },
   {
    "duration": 17,
    "start_time": "2022-02-23T12:09:26.071Z"
   },
   {
    "duration": 17,
    "start_time": "2022-02-23T12:10:01.060Z"
   },
   {
    "duration": 13,
    "start_time": "2022-02-23T12:10:01.981Z"
   },
   {
    "duration": 16,
    "start_time": "2022-02-23T12:10:02.824Z"
   },
   {
    "duration": 75,
    "start_time": "2022-02-23T12:10:28.990Z"
   },
   {
    "duration": 32,
    "start_time": "2022-02-23T12:10:31.219Z"
   },
   {
    "duration": 86,
    "start_time": "2022-02-23T12:11:08.709Z"
   },
   {
    "duration": 33,
    "start_time": "2022-02-23T12:11:09.985Z"
   },
   {
    "duration": 83,
    "start_time": "2022-02-23T12:11:26.835Z"
   },
   {
    "duration": 32,
    "start_time": "2022-02-23T12:11:28.653Z"
   },
   {
    "duration": 83,
    "start_time": "2022-02-23T12:11:47.516Z"
   },
   {
    "duration": 31,
    "start_time": "2022-02-23T12:11:48.124Z"
   },
   {
    "duration": 18,
    "start_time": "2022-02-23T12:11:49.079Z"
   },
   {
    "duration": 14,
    "start_time": "2022-02-23T12:11:49.899Z"
   },
   {
    "duration": 15,
    "start_time": "2022-02-23T12:11:50.901Z"
   },
   {
    "duration": 27,
    "start_time": "2022-02-23T12:11:51.456Z"
   },
   {
    "duration": 8,
    "start_time": "2022-02-23T12:11:55.995Z"
   },
   {
    "duration": 91,
    "start_time": "2022-02-23T12:12:01.282Z"
   },
   {
    "duration": 15,
    "start_time": "2022-02-23T12:12:12.915Z"
   },
   {
    "duration": 17,
    "start_time": "2022-02-23T12:12:13.956Z"
   },
   {
    "duration": 83,
    "start_time": "2022-02-23T12:14:22.571Z"
   },
   {
    "duration": 34,
    "start_time": "2022-02-23T12:14:23.853Z"
   },
   {
    "duration": 21,
    "start_time": "2022-02-23T12:14:24.997Z"
   },
   {
    "duration": 15,
    "start_time": "2022-02-23T12:14:25.560Z"
   },
   {
    "duration": 19,
    "start_time": "2022-02-23T12:14:26.113Z"
   },
   {
    "duration": 31,
    "start_time": "2022-02-23T12:14:26.706Z"
   },
   {
    "duration": 9,
    "start_time": "2022-02-23T12:14:27.897Z"
   },
   {
    "duration": 83,
    "start_time": "2022-02-23T12:14:29.413Z"
   },
   {
    "duration": 31,
    "start_time": "2022-02-23T12:14:31.562Z"
   },
   {
    "duration": 84,
    "start_time": "2022-02-23T12:15:04.191Z"
   },
   {
    "duration": 38,
    "start_time": "2022-02-23T12:15:04.666Z"
   },
   {
    "duration": 22,
    "start_time": "2022-02-23T12:15:04.971Z"
   },
   {
    "duration": 13,
    "start_time": "2022-02-23T12:15:05.113Z"
   },
   {
    "duration": 45,
    "start_time": "2022-02-23T12:15:05.301Z"
   },
   {
    "duration": 64,
    "start_time": "2022-02-23T12:15:05.452Z"
   },
   {
    "duration": 8,
    "start_time": "2022-02-23T12:15:05.742Z"
   },
   {
    "duration": 83,
    "start_time": "2022-02-23T12:15:06.454Z"
   },
   {
    "duration": 36,
    "start_time": "2022-02-23T12:15:06.853Z"
   },
   {
    "duration": 30,
    "start_time": "2022-02-23T12:24:04.155Z"
   },
   {
    "duration": 10,
    "start_time": "2022-02-23T12:33:19.352Z"
   },
   {
    "duration": 11,
    "start_time": "2022-02-23T12:35:17.318Z"
   },
   {
    "duration": 116,
    "start_time": "2022-02-23T12:35:21.881Z"
   },
   {
    "duration": 1504,
    "start_time": "2022-02-23T12:42:44.135Z"
   },
   {
    "duration": 1419,
    "start_time": "2022-02-23T12:43:44.236Z"
   },
   {
    "duration": 88,
    "start_time": "2022-02-23T12:44:32.038Z"
   },
   {
    "duration": 37,
    "start_time": "2022-02-23T12:44:32.349Z"
   },
   {
    "duration": 20,
    "start_time": "2022-02-23T12:44:32.703Z"
   },
   {
    "duration": 13,
    "start_time": "2022-02-23T12:44:32.865Z"
   },
   {
    "duration": 20,
    "start_time": "2022-02-23T12:44:33.010Z"
   },
   {
    "duration": 28,
    "start_time": "2022-02-23T12:44:33.183Z"
   },
   {
    "duration": 8,
    "start_time": "2022-02-23T12:44:33.522Z"
   },
   {
    "duration": 86,
    "start_time": "2022-02-23T12:44:33.825Z"
   },
   {
    "duration": 36,
    "start_time": "2022-02-23T12:44:34.816Z"
   },
   {
    "duration": 33,
    "start_time": "2022-02-23T12:44:39.432Z"
   },
   {
    "duration": 9,
    "start_time": "2022-02-23T12:44:43.697Z"
   },
   {
    "duration": 1511,
    "start_time": "2022-02-23T12:44:45.053Z"
   },
   {
    "duration": 302,
    "start_time": "2022-02-23T12:47:47.083Z"
   },
   {
    "duration": 34,
    "start_time": "2022-02-23T12:47:54.438Z"
   },
   {
    "duration": 97,
    "start_time": "2022-02-23T13:15:27.303Z"
   },
   {
    "duration": 290,
    "start_time": "2022-02-23T13:15:52.878Z"
   },
   {
    "duration": 940,
    "start_time": "2022-02-23T13:16:20.826Z"
   },
   {
    "duration": 33,
    "start_time": "2022-02-23T13:16:40.527Z"
   },
   {
    "duration": 28,
    "start_time": "2022-02-23T13:18:34.532Z"
   },
   {
    "duration": 27,
    "start_time": "2022-02-23T13:19:47.780Z"
   },
   {
    "duration": 31,
    "start_time": "2022-02-23T13:19:54.936Z"
   },
   {
    "duration": 31,
    "start_time": "2022-02-23T13:19:57.628Z"
   },
   {
    "duration": 28,
    "start_time": "2022-02-23T13:21:27.710Z"
   },
   {
    "duration": 420,
    "start_time": "2022-02-23T13:22:05.881Z"
   },
   {
    "duration": 26,
    "start_time": "2022-02-23T13:22:51.698Z"
   },
   {
    "duration": 31,
    "start_time": "2022-02-23T13:25:27.960Z"
   },
   {
    "duration": 29,
    "start_time": "2022-02-23T13:26:13.252Z"
   },
   {
    "duration": 30,
    "start_time": "2022-02-23T13:28:48.166Z"
   },
   {
    "duration": 471,
    "start_time": "2022-02-23T13:31:43.697Z"
   },
   {
    "duration": 35,
    "start_time": "2022-02-23T13:31:55.501Z"
   },
   {
    "duration": 28,
    "start_time": "2022-02-23T13:32:13.059Z"
   },
   {
    "duration": 30,
    "start_time": "2022-02-23T13:32:17.351Z"
   },
   {
    "duration": 28,
    "start_time": "2022-02-23T13:34:11.689Z"
   },
   {
    "duration": 30,
    "start_time": "2022-02-23T13:34:36.915Z"
   },
   {
    "duration": 27,
    "start_time": "2022-02-23T13:38:00.946Z"
   },
   {
    "duration": 338,
    "start_time": "2022-02-23T15:08:32.553Z"
   },
   {
    "duration": 90,
    "start_time": "2022-02-23T15:10:11.207Z"
   },
   {
    "duration": 36,
    "start_time": "2022-02-23T15:10:11.774Z"
   },
   {
    "duration": 23,
    "start_time": "2022-02-23T15:10:12.242Z"
   },
   {
    "duration": 18,
    "start_time": "2022-02-23T15:10:12.457Z"
   },
   {
    "duration": 27,
    "start_time": "2022-02-23T15:10:12.661Z"
   },
   {
    "duration": 28,
    "start_time": "2022-02-23T15:10:12.850Z"
   },
   {
    "duration": 10,
    "start_time": "2022-02-23T15:10:13.283Z"
   },
   {
    "duration": 87,
    "start_time": "2022-02-23T15:10:13.731Z"
   },
   {
    "duration": 47,
    "start_time": "2022-02-23T15:10:14.677Z"
   },
   {
    "duration": 31,
    "start_time": "2022-02-23T15:10:16.063Z"
   },
   {
    "duration": 11,
    "start_time": "2022-02-23T15:10:16.966Z"
   },
   {
    "duration": 33,
    "start_time": "2022-02-23T15:10:17.358Z"
   },
   {
    "duration": 46,
    "start_time": "2022-02-23T15:10:20.230Z"
   },
   {
    "duration": 337,
    "start_time": "2022-02-23T15:10:23.498Z"
   },
   {
    "duration": 47,
    "start_time": "2022-02-23T15:11:55.030Z"
   },
   {
    "duration": 29,
    "start_time": "2022-02-23T15:20:16.121Z"
   },
   {
    "duration": 35,
    "start_time": "2022-02-23T15:32:44.207Z"
   },
   {
    "duration": 7746,
    "start_time": "2022-02-23T15:33:56.876Z"
   },
   {
    "duration": 7490,
    "start_time": "2022-02-23T15:34:05.506Z"
   },
   {
    "duration": 327,
    "start_time": "2022-02-23T15:40:13.155Z"
   },
   {
    "duration": 31,
    "start_time": "2022-02-23T15:41:05.980Z"
   },
   {
    "duration": 81,
    "start_time": "2022-02-23T15:41:18.454Z"
   },
   {
    "duration": 51,
    "start_time": "2022-02-23T15:41:19.110Z"
   },
   {
    "duration": 20,
    "start_time": "2022-02-23T15:41:19.478Z"
   },
   {
    "duration": 12,
    "start_time": "2022-02-23T15:41:19.654Z"
   },
   {
    "duration": 19,
    "start_time": "2022-02-23T15:41:19.846Z"
   },
   {
    "duration": 26,
    "start_time": "2022-02-23T15:41:20.514Z"
   },
   {
    "duration": 10,
    "start_time": "2022-02-23T15:41:21.414Z"
   },
   {
    "duration": 81,
    "start_time": "2022-02-23T15:41:21.770Z"
   },
   {
    "duration": 46,
    "start_time": "2022-02-23T15:41:22.470Z"
   },
   {
    "duration": 34,
    "start_time": "2022-02-23T15:41:29.982Z"
   },
   {
    "duration": 10,
    "start_time": "2022-02-23T15:41:30.352Z"
   },
   {
    "duration": 30,
    "start_time": "2022-02-23T15:41:30.526Z"
   },
   {
    "duration": 33,
    "start_time": "2022-02-23T15:41:34.278Z"
   },
   {
    "duration": 34,
    "start_time": "2022-02-23T15:41:53.386Z"
   },
   {
    "duration": 28,
    "start_time": "2022-02-23T15:50:23.060Z"
   },
   {
    "duration": 29,
    "start_time": "2022-02-23T15:51:50.806Z"
   },
   {
    "duration": 33,
    "start_time": "2022-02-23T15:52:10.170Z"
   },
   {
    "duration": 31,
    "start_time": "2022-02-23T15:52:26.216Z"
   },
   {
    "duration": 119,
    "start_time": "2022-02-23T15:59:00.352Z"
   },
   {
    "duration": 31,
    "start_time": "2022-02-23T16:07:21.503Z"
   },
   {
    "duration": 578,
    "start_time": "2022-03-06T08:40:59.210Z"
   },
   {
    "duration": 24,
    "start_time": "2022-03-06T08:40:59.790Z"
   },
   {
    "duration": 13,
    "start_time": "2022-03-06T08:40:59.817Z"
   },
   {
    "duration": 32,
    "start_time": "2022-03-06T08:40:59.832Z"
   },
   {
    "duration": 13,
    "start_time": "2022-03-06T08:40:59.866Z"
   },
   {
    "duration": 19,
    "start_time": "2022-03-06T08:40:59.881Z"
   },
   {
    "duration": 8,
    "start_time": "2022-03-06T08:40:59.902Z"
   },
   {
    "duration": 94,
    "start_time": "2022-03-06T08:40:59.913Z"
   },
   {
    "duration": 49,
    "start_time": "2022-03-06T08:41:00.009Z"
   },
   {
    "duration": 24,
    "start_time": "2022-03-06T08:41:00.060Z"
   },
   {
    "duration": 8,
    "start_time": "2022-03-06T08:41:00.086Z"
   },
   {
    "duration": 20,
    "start_time": "2022-03-06T08:41:00.096Z"
   },
   {
    "duration": 418,
    "start_time": "2022-03-06T08:41:00.118Z"
   },
   {
    "duration": 26,
    "start_time": "2022-03-06T08:41:00.537Z"
   },
   {
    "duration": 24,
    "start_time": "2022-03-06T08:41:00.564Z"
   },
   {
    "duration": 26,
    "start_time": "2022-03-06T08:41:00.590Z"
   },
   {
    "duration": 676,
    "start_time": "2022-03-06T08:59:30.761Z"
   },
   {
    "duration": 23,
    "start_time": "2022-03-06T08:59:31.439Z"
   },
   {
    "duration": 13,
    "start_time": "2022-03-06T08:59:31.464Z"
   },
   {
    "duration": 9,
    "start_time": "2022-03-06T08:59:31.478Z"
   },
   {
    "duration": 12,
    "start_time": "2022-03-06T08:59:31.489Z"
   },
   {
    "duration": 17,
    "start_time": "2022-03-06T08:59:31.502Z"
   },
   {
    "duration": 42,
    "start_time": "2022-03-06T08:59:31.521Z"
   },
   {
    "duration": 56,
    "start_time": "2022-03-06T08:59:31.564Z"
   },
   {
    "duration": 49,
    "start_time": "2022-03-06T08:59:31.622Z"
   },
   {
    "duration": 20,
    "start_time": "2022-03-06T08:59:31.672Z"
   },
   {
    "duration": 8,
    "start_time": "2022-03-06T08:59:31.694Z"
   },
   {
    "duration": 20,
    "start_time": "2022-03-06T08:59:31.703Z"
   },
   {
    "duration": 411,
    "start_time": "2022-03-06T08:59:31.724Z"
   },
   {
    "duration": 25,
    "start_time": "2022-03-06T08:59:32.137Z"
   },
   {
    "duration": 21,
    "start_time": "2022-03-06T08:59:32.163Z"
   },
   {
    "duration": 21,
    "start_time": "2022-03-06T08:59:32.186Z"
   },
   {
    "duration": 577,
    "start_time": "2022-03-07T08:36:27.858Z"
   },
   {
    "duration": 21,
    "start_time": "2022-03-07T08:36:28.982Z"
   },
   {
    "duration": 12,
    "start_time": "2022-03-07T08:36:30.418Z"
   },
   {
    "duration": 11,
    "start_time": "2022-03-07T08:36:31.165Z"
   },
   {
    "duration": 10,
    "start_time": "2022-03-07T08:36:32.018Z"
   },
   {
    "duration": 18,
    "start_time": "2022-03-07T08:36:32.832Z"
   },
   {
    "duration": 7,
    "start_time": "2022-03-07T08:36:34.730Z"
   },
   {
    "duration": 6,
    "start_time": "2022-03-07T08:37:32.565Z"
   },
   {
    "duration": 589,
    "start_time": "2022-03-07T09:06:30.817Z"
   },
   {
    "duration": 25,
    "start_time": "2022-03-07T09:06:31.408Z"
   },
   {
    "duration": 32,
    "start_time": "2022-03-07T09:06:31.436Z"
   },
   {
    "duration": 9,
    "start_time": "2022-03-07T09:06:31.470Z"
   },
   {
    "duration": 12,
    "start_time": "2022-03-07T09:06:31.480Z"
   },
   {
    "duration": 19,
    "start_time": "2022-03-07T09:06:31.494Z"
   },
   {
    "duration": 10,
    "start_time": "2022-03-07T09:06:31.515Z"
   },
   {
    "duration": 37,
    "start_time": "2022-03-07T09:06:31.526Z"
   },
   {
    "duration": 59,
    "start_time": "2022-03-07T09:06:31.566Z"
   },
   {
    "duration": 50,
    "start_time": "2022-03-07T09:06:31.627Z"
   },
   {
    "duration": 20,
    "start_time": "2022-03-07T09:06:31.679Z"
   },
   {
    "duration": 14,
    "start_time": "2022-03-07T09:06:31.701Z"
   },
   {
    "duration": 23,
    "start_time": "2022-03-07T09:06:31.717Z"
   },
   {
    "duration": 391,
    "start_time": "2022-03-07T09:06:31.758Z"
   },
   {
    "duration": 27,
    "start_time": "2022-03-07T09:06:32.151Z"
   },
   {
    "duration": 22,
    "start_time": "2022-03-07T09:06:32.180Z"
   },
   {
    "duration": 21,
    "start_time": "2022-03-07T09:06:32.204Z"
   }
  ],
  "kernelspec": {
   "display_name": "Python 3",
   "language": "python",
   "name": "python3"
  },
  "language_info": {
   "codemirror_mode": {
    "name": "ipython",
    "version": 3
   },
   "file_extension": ".py",
   "mimetype": "text/x-python",
   "name": "python",
   "nbconvert_exporter": "python",
   "pygments_lexer": "ipython3",
   "version": "3.8.7"
  },
  "toc": {
   "base_numbering": 1,
   "nav_menu": {},
   "number_sections": true,
   "sideBar": true,
   "skip_h1_title": true,
   "title_cell": "Table of Contents",
   "title_sidebar": "Contents",
   "toc_cell": false,
   "toc_position": {},
   "toc_section_display": true,
   "toc_window_display": true
  }
 },
 "nbformat": 4,
 "nbformat_minor": 5
}
