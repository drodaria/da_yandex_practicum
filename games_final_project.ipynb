{
 "cells": [
  {
   "cell_type": "markdown",
   "id": "external-excuse",
   "metadata": {},
   "source": [
    "<b><font size=5><center>Исследование и выявление зависимости поведения пользователей игры \"Космические братья\" от каналов привлечения.<br>Финальный проект.</center></font></b>"
   ]
  },
  {
   "cell_type": "markdown",
   "id": "advisory-blanket",
   "metadata": {},
   "source": [
    "Ссылка на дашборд: https://public.tableau.com/views/final_prj_games/Dashboard1?:language=en-US&publish=yes&:display_count=n&:origin=viz_share_link"
   ]
  },
  {
   "cell_type": "markdown",
   "id": "square-madison",
   "metadata": {},
   "source": [
    "Ссылка на презентацию: https://disk.yandex.ru/i/Dt7VaFmQMvhdVg"
   ]
  },
  {
   "cell_type": "markdown",
   "id": "sudden-creek",
   "metadata": {},
   "source": [
    "### Цель исследования"
   ]
  },
  {
   "cell_type": "markdown",
   "id": "similar-farming",
   "metadata": {},
   "source": [
    "Необходимо понять, как канал привлечения влияет на поведение игроков. Данное исследование - своего рода тестовая закупка. Основная монетизация игры — только планируется. Но предполагается, что в приложении будет происходить показ рекламы на экране с выбором типа объекта для постройки."
   ]
  },
  {
   "cell_type": "markdown",
   "id": "immediate-maximum",
   "metadata": {},
   "source": [
    "### Описание датасетов"
   ]
  },
  {
   "cell_type": "markdown",
   "id": "temporal-chancellor",
   "metadata": {},
   "source": [
    "Основной датасет содержит данные о событиях, совершенных в мобильной игре «Космические братья». В ней пользователи строят свою космическую программу и пытаются преуспеть в нелёгком деле колонизации галактики.\n",
    "\n",
    "В датасете представлены данные по игре пользователей на первом уровне. Завершение первого уровня требует от игрока выполнения одного из двух условий:\n",
    "\n",
    "- Победа над первым врагом\n",
    "- Реализация проекта - разработка орбитальной сборки спутников\n",
    "\n",
    "В датасете содержатся данные первых пользователей приложения — когорты пользователей, которые начали пользоваться приложением в период с 4 по 10 мая включительно.\n",
    "\n",
    "Датасет *game_actions.csv*:\n",
    "\n",
    "- `event_datetime` — время события;\n",
    "- `event` — одно из трёх событий:\n",
    "    1. `building` — объект построен,\n",
    "    2. `finished_stage_1` — первый уровень завершён,\n",
    "    3. `project` — проект завершён;\n",
    "- `building_type` — один из трёх типов здания:\n",
    "    1. `assembly_shop` — сборочный цех,\n",
    "    2. `spaceport` — космопорт,\n",
    "    3. `research_center` — исследовательский центр;\n",
    "- `user_id` — идентификатор пользователя;\n",
    "- `project_type` — тип реализованного проекта;\n",
    "\n",
    "Помимо основного датасета есть два датасета с информацией о рекламных активностях. \n",
    "\n",
    "Датасет *ad_cost.csv*:\n",
    "\n",
    "- `day` - день, в который был совершен клик по объявлению\n",
    "- `source` - источник трафика\n",
    "- `cost` - стоимость кликов\n",
    "\n",
    "Датасет user_source.csv содержит колонки:\n",
    "\n",
    "- `user_id` - идентификатор пользователя\n",
    "- `source` - источников, с которого пришёл пользователь, установивший приложение\n"
   ]
  },
  {
   "cell_type": "markdown",
   "id": "designing-static",
   "metadata": {},
   "source": [
    "### Описание проекта"
   ]
  },
  {
   "cell_type": "markdown",
   "id": "monetary-broadway",
   "metadata": {},
   "source": [
    "В ходе исследования мы изучили данные и привели к нужному виду, проверили на аномалии и очистили данные, построили и проанализировали воронку событий. Далее мы провели исследовательский анализ данных и анализ маркетинговых показатателей. В финале провели проверку статистических гипотез."
   ]
  },
  {
   "cell_type": "markdown",
   "id": "treated-plane",
   "metadata": {},
   "source": [
    "#### 1. Получение и подготовка данных"
   ]
  },
  {
   "cell_type": "code",
   "execution_count": 1,
   "id": "solar-grade",
   "metadata": {},
   "outputs": [],
   "source": [
    "import pandas as pd                     # импорт библиотек\n",
    "import numpy as np\n",
    "import matplotlib.pyplot as plt\n",
    "import seaborn as sns\n",
    "import scipy.stats as stats\n",
    "import datetime as dt\n",
    "import math\n",
    "import warnings\n",
    "from datetime import datetime, timedelta\n",
    "warnings.filterwarnings('ignore')"
   ]
  },
  {
   "cell_type": "code",
   "execution_count": 2,
   "id": "incomplete-father",
   "metadata": {},
   "outputs": [
    {
     "data": {
      "text/html": [
       "<div>\n",
       "<style scoped>\n",
       "    .dataframe tbody tr th:only-of-type {\n",
       "        vertical-align: middle;\n",
       "    }\n",
       "\n",
       "    .dataframe tbody tr th {\n",
       "        vertical-align: top;\n",
       "    }\n",
       "\n",
       "    .dataframe thead th {\n",
       "        text-align: right;\n",
       "    }\n",
       "</style>\n",
       "<table border=\"1\" class=\"dataframe\">\n",
       "  <thead>\n",
       "    <tr style=\"text-align: right;\">\n",
       "      <th></th>\n",
       "      <th>source</th>\n",
       "      <th>day</th>\n",
       "      <th>cost</th>\n",
       "    </tr>\n",
       "  </thead>\n",
       "  <tbody>\n",
       "    <tr>\n",
       "      <th>0</th>\n",
       "      <td>facebook_ads</td>\n",
       "      <td>2020-05-03</td>\n",
       "      <td>935.882786</td>\n",
       "    </tr>\n",
       "    <tr>\n",
       "      <th>1</th>\n",
       "      <td>facebook_ads</td>\n",
       "      <td>2020-05-04</td>\n",
       "      <td>548.354480</td>\n",
       "    </tr>\n",
       "    <tr>\n",
       "      <th>2</th>\n",
       "      <td>facebook_ads</td>\n",
       "      <td>2020-05-05</td>\n",
       "      <td>260.185754</td>\n",
       "    </tr>\n",
       "    <tr>\n",
       "      <th>3</th>\n",
       "      <td>facebook_ads</td>\n",
       "      <td>2020-05-06</td>\n",
       "      <td>177.982200</td>\n",
       "    </tr>\n",
       "    <tr>\n",
       "      <th>4</th>\n",
       "      <td>facebook_ads</td>\n",
       "      <td>2020-05-07</td>\n",
       "      <td>111.766796</td>\n",
       "    </tr>\n",
       "  </tbody>\n",
       "</table>\n",
       "</div>"
      ],
      "text/plain": [
       "         source         day        cost\n",
       "0  facebook_ads  2020-05-03  935.882786\n",
       "1  facebook_ads  2020-05-04  548.354480\n",
       "2  facebook_ads  2020-05-05  260.185754\n",
       "3  facebook_ads  2020-05-06  177.982200\n",
       "4  facebook_ads  2020-05-07  111.766796"
      ]
     },
     "metadata": {},
     "output_type": "display_data"
    },
    {
     "data": {
      "text/html": [
       "<div>\n",
       "<style scoped>\n",
       "    .dataframe tbody tr th:only-of-type {\n",
       "        vertical-align: middle;\n",
       "    }\n",
       "\n",
       "    .dataframe tbody tr th {\n",
       "        vertical-align: top;\n",
       "    }\n",
       "\n",
       "    .dataframe thead th {\n",
       "        text-align: right;\n",
       "    }\n",
       "</style>\n",
       "<table border=\"1\" class=\"dataframe\">\n",
       "  <thead>\n",
       "    <tr style=\"text-align: right;\">\n",
       "      <th></th>\n",
       "      <th>event_datetime</th>\n",
       "      <th>event</th>\n",
       "      <th>building_type</th>\n",
       "      <th>user_id</th>\n",
       "      <th>project_type</th>\n",
       "    </tr>\n",
       "  </thead>\n",
       "  <tbody>\n",
       "    <tr>\n",
       "      <th>0</th>\n",
       "      <td>2020-05-04 00:00:01</td>\n",
       "      <td>building</td>\n",
       "      <td>assembly_shop</td>\n",
       "      <td>55e92310-cb8e-4754-b622-597e124b03de</td>\n",
       "      <td>NaN</td>\n",
       "    </tr>\n",
       "    <tr>\n",
       "      <th>1</th>\n",
       "      <td>2020-05-04 00:00:03</td>\n",
       "      <td>building</td>\n",
       "      <td>assembly_shop</td>\n",
       "      <td>c07b1c10-f477-44dc-81dc-ec82254b1347</td>\n",
       "      <td>NaN</td>\n",
       "    </tr>\n",
       "    <tr>\n",
       "      <th>2</th>\n",
       "      <td>2020-05-04 00:00:16</td>\n",
       "      <td>building</td>\n",
       "      <td>assembly_shop</td>\n",
       "      <td>6edd42cc-e753-4ff6-a947-2107cd560710</td>\n",
       "      <td>NaN</td>\n",
       "    </tr>\n",
       "    <tr>\n",
       "      <th>3</th>\n",
       "      <td>2020-05-04 00:00:16</td>\n",
       "      <td>building</td>\n",
       "      <td>assembly_shop</td>\n",
       "      <td>92c69003-d60a-444a-827f-8cc51bf6bf4c</td>\n",
       "      <td>NaN</td>\n",
       "    </tr>\n",
       "    <tr>\n",
       "      <th>4</th>\n",
       "      <td>2020-05-04 00:00:35</td>\n",
       "      <td>building</td>\n",
       "      <td>assembly_shop</td>\n",
       "      <td>cdc6bb92-0ccb-4490-9866-ef142f09139d</td>\n",
       "      <td>NaN</td>\n",
       "    </tr>\n",
       "  </tbody>\n",
       "</table>\n",
       "</div>"
      ],
      "text/plain": [
       "        event_datetime     event  building_type  \\\n",
       "0  2020-05-04 00:00:01  building  assembly_shop   \n",
       "1  2020-05-04 00:00:03  building  assembly_shop   \n",
       "2  2020-05-04 00:00:16  building  assembly_shop   \n",
       "3  2020-05-04 00:00:16  building  assembly_shop   \n",
       "4  2020-05-04 00:00:35  building  assembly_shop   \n",
       "\n",
       "                                user_id project_type  \n",
       "0  55e92310-cb8e-4754-b622-597e124b03de          NaN  \n",
       "1  c07b1c10-f477-44dc-81dc-ec82254b1347          NaN  \n",
       "2  6edd42cc-e753-4ff6-a947-2107cd560710          NaN  \n",
       "3  92c69003-d60a-444a-827f-8cc51bf6bf4c          NaN  \n",
       "4  cdc6bb92-0ccb-4490-9866-ef142f09139d          NaN  "
      ]
     },
     "metadata": {},
     "output_type": "display_data"
    },
    {
     "data": {
      "text/html": [
       "<div>\n",
       "<style scoped>\n",
       "    .dataframe tbody tr th:only-of-type {\n",
       "        vertical-align: middle;\n",
       "    }\n",
       "\n",
       "    .dataframe tbody tr th {\n",
       "        vertical-align: top;\n",
       "    }\n",
       "\n",
       "    .dataframe thead th {\n",
       "        text-align: right;\n",
       "    }\n",
       "</style>\n",
       "<table border=\"1\" class=\"dataframe\">\n",
       "  <thead>\n",
       "    <tr style=\"text-align: right;\">\n",
       "      <th></th>\n",
       "      <th>user_id</th>\n",
       "      <th>source</th>\n",
       "    </tr>\n",
       "  </thead>\n",
       "  <tbody>\n",
       "    <tr>\n",
       "      <th>0</th>\n",
       "      <td>0001f83c-c6ac-4621-b7f0-8a28b283ac30</td>\n",
       "      <td>facebook_ads</td>\n",
       "    </tr>\n",
       "    <tr>\n",
       "      <th>1</th>\n",
       "      <td>00151b4f-ba38-44a8-a650-d7cf130a0105</td>\n",
       "      <td>yandex_direct</td>\n",
       "    </tr>\n",
       "    <tr>\n",
       "      <th>2</th>\n",
       "      <td>001aaea6-3d14-43f1-8ca8-7f48820f17aa</td>\n",
       "      <td>youtube_channel_reklama</td>\n",
       "    </tr>\n",
       "    <tr>\n",
       "      <th>3</th>\n",
       "      <td>001d39dc-366c-4021-9604-6a3b9ff01e25</td>\n",
       "      <td>instagram_new_adverts</td>\n",
       "    </tr>\n",
       "    <tr>\n",
       "      <th>4</th>\n",
       "      <td>002f508f-67b6-479f-814b-b05f00d4e995</td>\n",
       "      <td>facebook_ads</td>\n",
       "    </tr>\n",
       "  </tbody>\n",
       "</table>\n",
       "</div>"
      ],
      "text/plain": [
       "                                user_id                   source\n",
       "0  0001f83c-c6ac-4621-b7f0-8a28b283ac30             facebook_ads\n",
       "1  00151b4f-ba38-44a8-a650-d7cf130a0105            yandex_direct\n",
       "2  001aaea6-3d14-43f1-8ca8-7f48820f17aa  youtube_channel_reklama\n",
       "3  001d39dc-366c-4021-9604-6a3b9ff01e25    instagram_new_adverts\n",
       "4  002f508f-67b6-479f-814b-b05f00d4e995             facebook_ads"
      ]
     },
     "execution_count": 2,
     "metadata": {},
     "output_type": "execute_result"
    }
   ],
   "source": [
    "ad_costs = pd.read_csv(r\"C:\\Users\\mi\\Downloads\\ad_costs.csv\")\n",
    "game_actions = pd.read_csv(r\"C:\\Users\\mi\\Downloads\\game_actions.csv\")\n",
    "user_source = pd.read_csv(r\"C:\\Users\\mi\\Downloads\\user_source.csv\")\n",
    "    \n",
    "display(ad_costs.head())\n",
    "display(game_actions.head())\n",
    "user_source.head()"
   ]
  },
  {
   "cell_type": "markdown",
   "id": "cubic-fighter",
   "metadata": {},
   "source": [
    "Все типы данных в порядке. ТОлько приведем даты к формату datetime  и округлим данные в столбце `cost` датасета `ad_costs`"
   ]
  },
  {
   "cell_type": "code",
   "execution_count": 3,
   "id": "after-chance",
   "metadata": {},
   "outputs": [],
   "source": [
    "game_actions['event_datetime'] = pd.to_datetime(game_actions['event_datetime'])\n",
    "ad_costs['day'] = pd.to_datetime(ad_costs['day']).dt.date "
   ]
  },
  {
   "cell_type": "code",
   "execution_count": 4,
   "id": "chronic-original",
   "metadata": {},
   "outputs": [
    {
     "data": {
      "text/html": [
       "<div>\n",
       "<style scoped>\n",
       "    .dataframe tbody tr th:only-of-type {\n",
       "        vertical-align: middle;\n",
       "    }\n",
       "\n",
       "    .dataframe tbody tr th {\n",
       "        vertical-align: top;\n",
       "    }\n",
       "\n",
       "    .dataframe thead th {\n",
       "        text-align: right;\n",
       "    }\n",
       "</style>\n",
       "<table border=\"1\" class=\"dataframe\">\n",
       "  <thead>\n",
       "    <tr style=\"text-align: right;\">\n",
       "      <th></th>\n",
       "      <th>source</th>\n",
       "      <th>day</th>\n",
       "      <th>cost</th>\n",
       "    </tr>\n",
       "  </thead>\n",
       "  <tbody>\n",
       "    <tr>\n",
       "      <th>0</th>\n",
       "      <td>facebook_ads</td>\n",
       "      <td>2020-05-03</td>\n",
       "      <td>935.88</td>\n",
       "    </tr>\n",
       "    <tr>\n",
       "      <th>1</th>\n",
       "      <td>facebook_ads</td>\n",
       "      <td>2020-05-04</td>\n",
       "      <td>548.35</td>\n",
       "    </tr>\n",
       "    <tr>\n",
       "      <th>2</th>\n",
       "      <td>facebook_ads</td>\n",
       "      <td>2020-05-05</td>\n",
       "      <td>260.19</td>\n",
       "    </tr>\n",
       "    <tr>\n",
       "      <th>3</th>\n",
       "      <td>facebook_ads</td>\n",
       "      <td>2020-05-06</td>\n",
       "      <td>177.98</td>\n",
       "    </tr>\n",
       "    <tr>\n",
       "      <th>4</th>\n",
       "      <td>facebook_ads</td>\n",
       "      <td>2020-05-07</td>\n",
       "      <td>111.77</td>\n",
       "    </tr>\n",
       "  </tbody>\n",
       "</table>\n",
       "</div>"
      ],
      "text/plain": [
       "         source         day    cost\n",
       "0  facebook_ads  2020-05-03  935.88\n",
       "1  facebook_ads  2020-05-04  548.35\n",
       "2  facebook_ads  2020-05-05  260.19\n",
       "3  facebook_ads  2020-05-06  177.98\n",
       "4  facebook_ads  2020-05-07  111.77"
      ]
     },
     "execution_count": 4,
     "metadata": {},
     "output_type": "execute_result"
    }
   ],
   "source": [
    "ad_costs['cost'] = ad_costs['cost'].round(2)\n",
    "ad_costs.head()"
   ]
  },
  {
   "cell_type": "markdown",
   "id": "reflected-reflection",
   "metadata": {},
   "source": [
    "В столбце `day` датасета `ad_costs` указана дата клика, но оплата в этот день производится за предыдущий. Соответственно, чтобы заранее предотвратить путаницу, мы дату в столбце сдвинем на один день вперед. И тогда стоимость кликов  будет совпадать с нужным днем"
   ]
  },
  {
   "cell_type": "code",
   "execution_count": 5,
   "id": "turkish-rubber",
   "metadata": {},
   "outputs": [
    {
     "data": {
      "text/html": [
       "<div>\n",
       "<style scoped>\n",
       "    .dataframe tbody tr th:only-of-type {\n",
       "        vertical-align: middle;\n",
       "    }\n",
       "\n",
       "    .dataframe tbody tr th {\n",
       "        vertical-align: top;\n",
       "    }\n",
       "\n",
       "    .dataframe thead th {\n",
       "        text-align: right;\n",
       "    }\n",
       "</style>\n",
       "<table border=\"1\" class=\"dataframe\">\n",
       "  <thead>\n",
       "    <tr style=\"text-align: right;\">\n",
       "      <th></th>\n",
       "      <th>source</th>\n",
       "      <th>date</th>\n",
       "      <th>cost</th>\n",
       "    </tr>\n",
       "  </thead>\n",
       "  <tbody>\n",
       "    <tr>\n",
       "      <th>0</th>\n",
       "      <td>facebook_ads</td>\n",
       "      <td>2020-05-04</td>\n",
       "      <td>935.88</td>\n",
       "    </tr>\n",
       "    <tr>\n",
       "      <th>1</th>\n",
       "      <td>facebook_ads</td>\n",
       "      <td>2020-05-05</td>\n",
       "      <td>548.35</td>\n",
       "    </tr>\n",
       "    <tr>\n",
       "      <th>2</th>\n",
       "      <td>facebook_ads</td>\n",
       "      <td>2020-05-06</td>\n",
       "      <td>260.19</td>\n",
       "    </tr>\n",
       "    <tr>\n",
       "      <th>3</th>\n",
       "      <td>facebook_ads</td>\n",
       "      <td>2020-05-07</td>\n",
       "      <td>177.98</td>\n",
       "    </tr>\n",
       "    <tr>\n",
       "      <th>4</th>\n",
       "      <td>facebook_ads</td>\n",
       "      <td>2020-05-08</td>\n",
       "      <td>111.77</td>\n",
       "    </tr>\n",
       "  </tbody>\n",
       "</table>\n",
       "</div>"
      ],
      "text/plain": [
       "         source        date    cost\n",
       "0  facebook_ads  2020-05-04  935.88\n",
       "1  facebook_ads  2020-05-05  548.35\n",
       "2  facebook_ads  2020-05-06  260.19\n",
       "3  facebook_ads  2020-05-07  177.98\n",
       "4  facebook_ads  2020-05-08  111.77"
      ]
     },
     "execution_count": 5,
     "metadata": {},
     "output_type": "execute_result"
    }
   ],
   "source": [
    "ad_costs['day'] = ad_costs['day'] + pd.to_timedelta('1 day')\n",
    "ad_costs.columns = ['source', 'date', 'cost']\n",
    "ad_costs.head()"
   ]
  },
  {
   "cell_type": "markdown",
   "id": "induced-manchester",
   "metadata": {},
   "source": [
    "#### 2. Изучение и проверка данных"
   ]
  },
  {
   "cell_type": "code",
   "execution_count": 6,
   "id": "prompt-sunset",
   "metadata": {
    "scrolled": true
   },
   "outputs": [
    {
     "name": "stdout",
     "output_type": "stream",
     "text": [
      "<class 'pandas.core.frame.DataFrame'>\n",
      "RangeIndex: 28 entries, 0 to 27\n",
      "Data columns (total 3 columns):\n",
      " #   Column  Non-Null Count  Dtype  \n",
      "---  ------  --------------  -----  \n",
      " 0   source  28 non-null     object \n",
      " 1   date    28 non-null     object \n",
      " 2   cost    28 non-null     float64\n",
      "dtypes: float64(1), object(2)\n",
      "memory usage: 800.0+ bytes\n",
      "<class 'pandas.core.frame.DataFrame'>\n",
      "RangeIndex: 135640 entries, 0 to 135639\n",
      "Data columns (total 5 columns):\n",
      " #   Column          Non-Null Count   Dtype         \n",
      "---  ------          --------------   -----         \n",
      " 0   event_datetime  135640 non-null  datetime64[ns]\n",
      " 1   event           135640 non-null  object        \n",
      " 2   building_type   127957 non-null  object        \n",
      " 3   user_id         135640 non-null  object        \n",
      " 4   project_type    1866 non-null    object        \n",
      "dtypes: datetime64[ns](1), object(4)\n",
      "memory usage: 5.2+ MB\n",
      "<class 'pandas.core.frame.DataFrame'>\n",
      "RangeIndex: 13576 entries, 0 to 13575\n",
      "Data columns (total 2 columns):\n",
      " #   Column   Non-Null Count  Dtype \n",
      "---  ------   --------------  ----- \n",
      " 0   user_id  13576 non-null  object\n",
      " 1   source   13576 non-null  object\n",
      "dtypes: object(2)\n",
      "memory usage: 212.2+ KB\n"
     ]
    }
   ],
   "source": [
    "ad_costs.info()\n",
    "game_actions.info()\n",
    "user_source.info()"
   ]
  },
  {
   "cell_type": "markdown",
   "id": "saved-bloom",
   "metadata": {},
   "source": [
    "В столбцах `building_type` и `project_type` есть пропуски. Это связано с тем, что не все игроки завершили проект или построили все здания. С этими пропусками мы ничего делать не будем - наоборот, будем использовать их для анализа продвижения пользователей по игре"
   ]
  },
  {
   "cell_type": "code",
   "execution_count": 7,
   "id": "laden-pattern",
   "metadata": {},
   "outputs": [
    {
     "name": "stdout",
     "output_type": "stream",
     "text": [
      "0\n",
      "1\n"
     ]
    },
    {
     "data": {
      "text/plain": [
       "0"
      ]
     },
     "execution_count": 7,
     "metadata": {},
     "output_type": "execute_result"
    }
   ],
   "source": [
    "print(ad_costs.duplicated().sum()) #проверка на дубликаты\n",
    "print(game_actions.duplicated().sum())\n",
    "user_source.duplicated().sum()"
   ]
  },
  {
   "cell_type": "markdown",
   "id": "alleged-simple",
   "metadata": {},
   "source": [
    "В датасете `game_actions` есть один дубликат. Будем считать это багом и удалим"
   ]
  },
  {
   "cell_type": "code",
   "execution_count": 8,
   "id": "tight-failure",
   "metadata": {},
   "outputs": [
    {
     "data": {
      "text/plain": [
       "0"
      ]
     },
     "execution_count": 8,
     "metadata": {},
     "output_type": "execute_result"
    }
   ],
   "source": [
    "game_actions.drop_duplicates(inplace=True) #удаление дубликата\n",
    "game_actions.duplicated().sum() #проверка"
   ]
  },
  {
   "cell_type": "code",
   "execution_count": 9,
   "id": "vietnamese-procurement",
   "metadata": {},
   "outputs": [
    {
     "name": "stdout",
     "output_type": "stream",
     "text": [
      "Событий в логе: 135639\n",
      "Пользователей в логе: 13576\n",
      "В среднем событий приходится на пользователя: 9.991087212728344\n"
     ]
    }
   ],
   "source": [
    "print('Событий в логе:', len(game_actions))\n",
    "print('Пользователей в логе:', len(game_actions['user_id'].unique()))\n",
    "print('В среднем событий приходится на пользователя:', len(game_actions) / len(game_actions['user_id'].unique()))"
   ]
  },
  {
   "cell_type": "markdown",
   "id": "facial-spray",
   "metadata": {},
   "source": [
    "#### 3. Изучение воронки событий"
   ]
  },
  {
   "cell_type": "code",
   "execution_count": 10,
   "id": "brown-proposal",
   "metadata": {},
   "outputs": [
    {
     "data": {
      "text/plain": [
       "building            127956\n",
       "finished_stage_1      5817\n",
       "project               1866\n",
       "Name: event, dtype: int64"
      ]
     },
     "execution_count": 10,
     "metadata": {},
     "output_type": "execute_result"
    }
   ],
   "source": [
    "game_actions['event'].value_counts()  # проверка событий и их частоты появления в логах"
   ]
  },
  {
   "cell_type": "code",
   "execution_count": 11,
   "id": "alpha-celebrity",
   "metadata": {
    "scrolled": true
   },
   "outputs": [
    {
     "data": {
      "text/plain": [
       "spaceport          59325\n",
       "assembly_shop      54494\n",
       "research_center    14137\n",
       "Name: building_type, dtype: int64"
      ]
     },
     "execution_count": 11,
     "metadata": {},
     "output_type": "execute_result"
    }
   ],
   "source": [
    "game_actions['building_type'].value_counts()  # проверка количества построек"
   ]
  },
  {
   "cell_type": "markdown",
   "id": "sustained-stocks",
   "metadata": {},
   "source": [
    "Самое частое событие - постройка. Самая частая постройка - космопорт."
   ]
  },
  {
   "cell_type": "markdown",
   "id": "soviet-george",
   "metadata": {},
   "source": [
    "Посчитаем, сколько уникальных пользователей совершали каждое из событий "
   ]
  },
  {
   "cell_type": "code",
   "execution_count": 12,
   "id": "crazy-steps",
   "metadata": {},
   "outputs": [
    {
     "data": {
      "text/html": [
       "<div>\n",
       "<style scoped>\n",
       "    .dataframe tbody tr th:only-of-type {\n",
       "        vertical-align: middle;\n",
       "    }\n",
       "\n",
       "    .dataframe tbody tr th {\n",
       "        vertical-align: top;\n",
       "    }\n",
       "\n",
       "    .dataframe thead th {\n",
       "        text-align: right;\n",
       "    }\n",
       "</style>\n",
       "<table border=\"1\" class=\"dataframe\">\n",
       "  <thead>\n",
       "    <tr style=\"text-align: right;\">\n",
       "      <th></th>\n",
       "      <th>event</th>\n",
       "      <th>user_id</th>\n",
       "    </tr>\n",
       "  </thead>\n",
       "  <tbody>\n",
       "    <tr>\n",
       "      <th>0</th>\n",
       "      <td>building</td>\n",
       "      <td>13576</td>\n",
       "    </tr>\n",
       "    <tr>\n",
       "      <th>1</th>\n",
       "      <td>finished_stage_1</td>\n",
       "      <td>5817</td>\n",
       "    </tr>\n",
       "    <tr>\n",
       "      <th>2</th>\n",
       "      <td>project</td>\n",
       "      <td>1866</td>\n",
       "    </tr>\n",
       "  </tbody>\n",
       "</table>\n",
       "</div>"
      ],
      "text/plain": [
       "              event  user_id\n",
       "0          building    13576\n",
       "1  finished_stage_1     5817\n",
       "2           project     1866"
      ]
     },
     "execution_count": 12,
     "metadata": {},
     "output_type": "execute_result"
    }
   ],
   "source": [
    "funnel = game_actions.groupby('event').agg({'user_id': 'nunique'}).sort_values(by='user_id', ascending=False).reset_index()\n",
    "funnel"
   ]
  },
  {
   "cell_type": "code",
   "execution_count": 13,
   "id": "manual-belly",
   "metadata": {},
   "outputs": [
    {
     "data": {
      "text/html": [
       "<div>\n",
       "<style scoped>\n",
       "    .dataframe tbody tr th:only-of-type {\n",
       "        vertical-align: middle;\n",
       "    }\n",
       "\n",
       "    .dataframe tbody tr th {\n",
       "        vertical-align: top;\n",
       "    }\n",
       "\n",
       "    .dataframe thead th {\n",
       "        text-align: right;\n",
       "    }\n",
       "</style>\n",
       "<table border=\"1\" class=\"dataframe\">\n",
       "  <thead>\n",
       "    <tr style=\"text-align: right;\">\n",
       "      <th></th>\n",
       "      <th>event</th>\n",
       "      <th>user_id</th>\n",
       "      <th>conv</th>\n",
       "    </tr>\n",
       "  </thead>\n",
       "  <tbody>\n",
       "    <tr>\n",
       "      <th>0</th>\n",
       "      <td>building</td>\n",
       "      <td>13576</td>\n",
       "      <td>100.0</td>\n",
       "    </tr>\n",
       "    <tr>\n",
       "      <th>1</th>\n",
       "      <td>finished_stage_1</td>\n",
       "      <td>5817</td>\n",
       "      <td>42.8</td>\n",
       "    </tr>\n",
       "    <tr>\n",
       "      <th>2</th>\n",
       "      <td>project</td>\n",
       "      <td>1866</td>\n",
       "      <td>13.7</td>\n",
       "    </tr>\n",
       "  </tbody>\n",
       "</table>\n",
       "</div>"
      ],
      "text/plain": [
       "              event  user_id   conv\n",
       "0          building    13576  100.0\n",
       "1  finished_stage_1     5817   42.8\n",
       "2           project     1866   13.7"
      ]
     },
     "execution_count": 13,
     "metadata": {},
     "output_type": "execute_result"
    }
   ],
   "source": [
    "for i in range(len(funnel)):\n",
    "    funnel.loc[i, 'conv'] = round(funnel.iloc[i, 1] / funnel.iloc[0, 1] * 100, 1)\n",
    "funnel"
   ]
  },
  {
   "cell_type": "code",
   "execution_count": 14,
   "id": "7dba3ad0",
   "metadata": {},
   "outputs": [
    {
     "data": {
      "image/png": "[encoded data removed]",
      "text/plain": [
       "<Figure size 864x432 with 1 Axes>"
      ]
     },
     "metadata": {
      "needs_background": "light"
     },
     "output_type": "display_data"
    }
   ],
   "source": [
    "x_max = 110\n",
    "x_min = 0\n",
    "fig, ax = plt.subplots(1, figsize=(12,6))\n",
    "for idx, val in enumerate(funnel['conv']):\n",
    "    left = (x_max - val)/2\n",
    "    plt.barh(funnel['event'][idx], funnel['conv'][idx], left = left, color='grey', height=1, edgecolor='black')\n",
    "    # value\n",
    "    plt.text(55, funnel['event'][idx], funnel['conv'][idx], ha='center',\n",
    "             fontsize=16, color='#2A2A2A')\n",
    "plt.xlim(x_min, x_max)\n",
    "plt.title('Воронка событий');"
   ]
  },
  {
   "cell_type": "markdown",
   "id": "nonprofit-subscriber",
   "metadata": {},
   "source": [
    "До этапа завершения проекта добрались только 13%"
   ]
  },
  {
   "cell_type": "markdown",
   "id": "thermal-signal",
   "metadata": {},
   "source": [
    "##### Вывод"
   ]
  },
  {
   "cell_type": "markdown",
   "id": "failing-launch",
   "metadata": {},
   "source": [
    "Самое частое событие - постройка. В то время как, самая частая постройка - космопорт. На воронке событий видно, что проект завершили только 13% игроков."
   ]
  },
  {
   "cell_type": "markdown",
   "id": "blond-uganda",
   "metadata": {},
   "source": [
    "#### 4. Исследовательский анализ данных"
   ]
  },
  {
   "cell_type": "markdown",
   "id": "superior-greece",
   "metadata": {},
   "source": [
    "Создадим пользовательские профили"
   ]
  },
  {
   "cell_type": "code",
   "execution_count": 15,
   "id": "agreed-willow",
   "metadata": {},
   "outputs": [],
   "source": [
    "def get_profiles(sessions, source, ad_costs):  # функция для создания пользовательских профилей\n",
    "\n",
    "    # находим параметры первых посещений\n",
    "    profiles = (\n",
    "        sessions.sort_values(by=['user_id', 'event_datetime'])\n",
    "        .groupby('user_id')\n",
    "        .agg(\n",
    "            {\n",
    "                'event_datetime': 'first'\n",
    "            }\n",
    "        )\n",
    "        .rename(columns={'event_datetime': 'first_ts'})\n",
    "        .reset_index()\n",
    "    )\n",
    "\n",
    "    # для когортного анализа определяем дату первого посещения\n",
    "    profiles['date'] = profiles['first_ts'].dt.date\n",
    "\n",
    "    # присоединяем к данным о прохождении игры данные об источнике\n",
    "    profiles = profiles.merge(source, on=['user_id'], how='left')\n",
    "\n",
    "    # считаем количество уникальных пользователей\n",
    "    # с одинаковыми источником и датой привлечения\n",
    "    new_users = (\n",
    "        profiles.groupby(['date', 'source'])\n",
    "        .agg({'user_id': 'nunique'})\n",
    "        .rename(columns={'user_id': 'unique_users'})\n",
    "        .reset_index()\n",
    "    )\n",
    "\n",
    "    # объединяем траты на рекламу и число привлечённых пользователей\n",
    "    ad_costs = ad_costs.merge(new_users, on=['date', 'source'], how='left')\n",
    "\n",
    "    # делим рекламные расходы на число привлечённых пользователей\n",
    "    ad_costs['acquisition_cost'] = ad_costs['cost'] / ad_costs['unique_users']\n",
    "\n",
    "    # добавляем стоимость привлечения в профили\n",
    "    profiles = profiles.merge(\n",
    "        ad_costs[['date', 'source', 'acquisition_cost']],\n",
    "        on=['date', 'source'],\n",
    "        how='left',\n",
    "    )\n",
    "\n",
    "    return profiles"
   ]
  },
  {
   "cell_type": "code",
   "execution_count": 16,
   "id": "infinite-aurora",
   "metadata": {
    "scrolled": true
   },
   "outputs": [
    {
     "data": {
      "text/html": [
       "<div>\n",
       "<style scoped>\n",
       "    .dataframe tbody tr th:only-of-type {\n",
       "        vertical-align: middle;\n",
       "    }\n",
       "\n",
       "    .dataframe tbody tr th {\n",
       "        vertical-align: top;\n",
       "    }\n",
       "\n",
       "    .dataframe thead th {\n",
       "        text-align: right;\n",
       "    }\n",
       "</style>\n",
       "<table border=\"1\" class=\"dataframe\">\n",
       "  <thead>\n",
       "    <tr style=\"text-align: right;\">\n",
       "      <th></th>\n",
       "      <th>user_id</th>\n",
       "      <th>first_ts</th>\n",
       "      <th>date</th>\n",
       "      <th>source</th>\n",
       "      <th>acquisition_cost</th>\n",
       "    </tr>\n",
       "  </thead>\n",
       "  <tbody>\n",
       "    <tr>\n",
       "      <th>0</th>\n",
       "      <td>0001f83c-c6ac-4621-b7f0-8a28b283ac30</td>\n",
       "      <td>2020-05-06 01:07:37</td>\n",
       "      <td>2020-05-06</td>\n",
       "      <td>facebook_ads</td>\n",
       "      <td>0.754174</td>\n",
       "    </tr>\n",
       "    <tr>\n",
       "      <th>1</th>\n",
       "      <td>00151b4f-ba38-44a8-a650-d7cf130a0105</td>\n",
       "      <td>2020-05-06 03:09:12</td>\n",
       "      <td>2020-05-06</td>\n",
       "      <td>yandex_direct</td>\n",
       "      <td>0.464202</td>\n",
       "    </tr>\n",
       "    <tr>\n",
       "      <th>2</th>\n",
       "      <td>001aaea6-3d14-43f1-8ca8-7f48820f17aa</td>\n",
       "      <td>2020-05-05 18:08:52</td>\n",
       "      <td>2020-05-05</td>\n",
       "      <td>youtube_channel_reklama</td>\n",
       "      <td>0.390754</td>\n",
       "    </tr>\n",
       "    <tr>\n",
       "      <th>3</th>\n",
       "      <td>001d39dc-366c-4021-9604-6a3b9ff01e25</td>\n",
       "      <td>2020-05-05 21:02:05</td>\n",
       "      <td>2020-05-05</td>\n",
       "      <td>instagram_new_adverts</td>\n",
       "      <td>0.631822</td>\n",
       "    </tr>\n",
       "    <tr>\n",
       "      <th>4</th>\n",
       "      <td>002f508f-67b6-479f-814b-b05f00d4e995</td>\n",
       "      <td>2020-05-05 13:49:58</td>\n",
       "      <td>2020-05-05</td>\n",
       "      <td>facebook_ads</td>\n",
       "      <td>0.790130</td>\n",
       "    </tr>\n",
       "  </tbody>\n",
       "</table>\n",
       "</div>"
      ],
      "text/plain": [
       "                                user_id            first_ts        date  \\\n",
       "0  0001f83c-c6ac-4621-b7f0-8a28b283ac30 2020-05-06 01:07:37  2020-05-06   \n",
       "1  00151b4f-ba38-44a8-a650-d7cf130a0105 2020-05-06 03:09:12  2020-05-06   \n",
       "2  001aaea6-3d14-43f1-8ca8-7f48820f17aa 2020-05-05 18:08:52  2020-05-05   \n",
       "3  001d39dc-366c-4021-9604-6a3b9ff01e25 2020-05-05 21:02:05  2020-05-05   \n",
       "4  002f508f-67b6-479f-814b-b05f00d4e995 2020-05-05 13:49:58  2020-05-05   \n",
       "\n",
       "                    source  acquisition_cost  \n",
       "0             facebook_ads          0.754174  \n",
       "1            yandex_direct          0.464202  \n",
       "2  youtube_channel_reklama          0.390754  \n",
       "3    instagram_new_adverts          0.631822  \n",
       "4             facebook_ads          0.790130  "
      ]
     },
     "metadata": {},
     "output_type": "display_data"
    }
   ],
   "source": [
    "profiles = get_profiles(game_actions, user_source, ad_costs)  #профили пользователей\n",
    "display(profiles.head()) "
   ]
  },
  {
   "cell_type": "markdown",
   "id": "original-ultimate",
   "metadata": {},
   "source": [
    "Изучим рекламные источники привлечения и определим каналы, из которых пришло больше всего пользователей"
   ]
  },
  {
   "cell_type": "code",
   "execution_count": 17,
   "id": "voluntary-castle",
   "metadata": {},
   "outputs": [
    {
     "data": {
      "text/html": [
       "<div>\n",
       "<style scoped>\n",
       "    .dataframe tbody tr th:only-of-type {\n",
       "        vertical-align: middle;\n",
       "    }\n",
       "\n",
       "    .dataframe tbody tr th {\n",
       "        vertical-align: top;\n",
       "    }\n",
       "\n",
       "    .dataframe thead th {\n",
       "        text-align: right;\n",
       "    }\n",
       "</style>\n",
       "<table border=\"1\" class=\"dataframe\">\n",
       "  <thead>\n",
       "    <tr style=\"text-align: right;\">\n",
       "      <th></th>\n",
       "      <th>user_id</th>\n",
       "    </tr>\n",
       "    <tr>\n",
       "      <th>source</th>\n",
       "      <th></th>\n",
       "    </tr>\n",
       "  </thead>\n",
       "  <tbody>\n",
       "    <tr>\n",
       "      <th>facebook_ads</th>\n",
       "      <td>2726</td>\n",
       "    </tr>\n",
       "    <tr>\n",
       "      <th>instagram_new_adverts</th>\n",
       "      <td>3347</td>\n",
       "    </tr>\n",
       "    <tr>\n",
       "      <th>yandex_direct</th>\n",
       "      <td>4817</td>\n",
       "    </tr>\n",
       "    <tr>\n",
       "      <th>youtube_channel_reklama</th>\n",
       "      <td>2686</td>\n",
       "    </tr>\n",
       "  </tbody>\n",
       "</table>\n",
       "</div>"
      ],
      "text/plain": [
       "                         user_id\n",
       "source                          \n",
       "facebook_ads                2726\n",
       "instagram_new_adverts       3347\n",
       "yandex_direct               4817\n",
       "youtube_channel_reklama     2686"
      ]
     },
     "metadata": {},
     "output_type": "display_data"
    },
    {
     "data": {
      "image/png": "[encoded data removed]",
      "text/plain": [
       "<Figure size 432x288 with 1 Axes>"
      ]
     },
     "metadata": {},
     "output_type": "display_data"
    }
   ],
   "source": [
    "players_by_source = profiles.groupby('source').agg({'user_id': 'nunique'})\n",
    "display(players_by_source)\n",
    "players_by_source.plot(kind='pie', subplots=True, legend=False, title='Пользователи по источникам привлечения');"
   ]
  },
  {
   "cell_type": "markdown",
   "id": "atlantic-glenn",
   "metadata": {},
   "source": [
    "Распределение пользователей по источникам привлечения примерно равномерное. Но yandex_direct все же чуть вырывается вперед. На втором месте - instagram_new_adverts"
   ]
  },
  {
   "cell_type": "markdown",
   "id": "attached-helping",
   "metadata": {},
   "source": [
    "Посчитаем время прохождения уровня игроками, завершившими проект. Добавим в датафрейм с профилями некоторые столбцы из game_actions для удобства. Добавим колонку с временем, которое прошло с начала игры до совершения действия."
   ]
  },
  {
   "cell_type": "code",
   "execution_count": 18,
   "id": "widespread-technical",
   "metadata": {},
   "outputs": [],
   "source": [
    "profiles_with_actions = profiles.merge(\n",
    "        game_actions[['event_datetime', 'event', 'user_id', 'project_type']],\n",
    "        on=['user_id'],\n",
    "        how='left',\n",
    "    )"
   ]
  },
  {
   "cell_type": "code",
   "execution_count": 19,
   "id": "sublime-click",
   "metadata": {},
   "outputs": [
    {
     "data": {
      "text/html": [
       "<div>\n",
       "<style scoped>\n",
       "    .dataframe tbody tr th:only-of-type {\n",
       "        vertical-align: middle;\n",
       "    }\n",
       "\n",
       "    .dataframe tbody tr th {\n",
       "        vertical-align: top;\n",
       "    }\n",
       "\n",
       "    .dataframe thead th {\n",
       "        text-align: right;\n",
       "    }\n",
       "</style>\n",
       "<table border=\"1\" class=\"dataframe\">\n",
       "  <thead>\n",
       "    <tr style=\"text-align: right;\">\n",
       "      <th></th>\n",
       "      <th>user_id</th>\n",
       "      <th>first_ts</th>\n",
       "      <th>date</th>\n",
       "      <th>source</th>\n",
       "      <th>acquisition_cost</th>\n",
       "      <th>event_datetime</th>\n",
       "      <th>event</th>\n",
       "      <th>project_type</th>\n",
       "      <th>time_on_event</th>\n",
       "    </tr>\n",
       "  </thead>\n",
       "  <tbody>\n",
       "    <tr>\n",
       "      <th>0</th>\n",
       "      <td>0001f83c-c6ac-4621-b7f0-8a28b283ac30</td>\n",
       "      <td>2020-05-06 01:07:37</td>\n",
       "      <td>2020-05-06</td>\n",
       "      <td>facebook_ads</td>\n",
       "      <td>0.754174</td>\n",
       "      <td>2020-05-06 01:07:37</td>\n",
       "      <td>building</td>\n",
       "      <td>NaN</td>\n",
       "      <td>0</td>\n",
       "    </tr>\n",
       "    <tr>\n",
       "      <th>1</th>\n",
       "      <td>0001f83c-c6ac-4621-b7f0-8a28b283ac30</td>\n",
       "      <td>2020-05-06 01:07:37</td>\n",
       "      <td>2020-05-06</td>\n",
       "      <td>facebook_ads</td>\n",
       "      <td>0.754174</td>\n",
       "      <td>2020-05-06 11:31:56</td>\n",
       "      <td>building</td>\n",
       "      <td>NaN</td>\n",
       "      <td>0</td>\n",
       "    </tr>\n",
       "    <tr>\n",
       "      <th>2</th>\n",
       "      <td>0001f83c-c6ac-4621-b7f0-8a28b283ac30</td>\n",
       "      <td>2020-05-06 01:07:37</td>\n",
       "      <td>2020-05-06</td>\n",
       "      <td>facebook_ads</td>\n",
       "      <td>0.754174</td>\n",
       "      <td>2020-05-06 15:11:50</td>\n",
       "      <td>building</td>\n",
       "      <td>NaN</td>\n",
       "      <td>0</td>\n",
       "    </tr>\n",
       "    <tr>\n",
       "      <th>3</th>\n",
       "      <td>0001f83c-c6ac-4621-b7f0-8a28b283ac30</td>\n",
       "      <td>2020-05-06 01:07:37</td>\n",
       "      <td>2020-05-06</td>\n",
       "      <td>facebook_ads</td>\n",
       "      <td>0.754174</td>\n",
       "      <td>2020-05-09 05:59:57</td>\n",
       "      <td>building</td>\n",
       "      <td>NaN</td>\n",
       "      <td>3</td>\n",
       "    </tr>\n",
       "    <tr>\n",
       "      <th>4</th>\n",
       "      <td>0001f83c-c6ac-4621-b7f0-8a28b283ac30</td>\n",
       "      <td>2020-05-06 01:07:37</td>\n",
       "      <td>2020-05-06</td>\n",
       "      <td>facebook_ads</td>\n",
       "      <td>0.754174</td>\n",
       "      <td>2020-05-09 07:35:40</td>\n",
       "      <td>building</td>\n",
       "      <td>NaN</td>\n",
       "      <td>3</td>\n",
       "    </tr>\n",
       "  </tbody>\n",
       "</table>\n",
       "</div>"
      ],
      "text/plain": [
       "                                user_id            first_ts        date  \\\n",
       "0  0001f83c-c6ac-4621-b7f0-8a28b283ac30 2020-05-06 01:07:37  2020-05-06   \n",
       "1  0001f83c-c6ac-4621-b7f0-8a28b283ac30 2020-05-06 01:07:37  2020-05-06   \n",
       "2  0001f83c-c6ac-4621-b7f0-8a28b283ac30 2020-05-06 01:07:37  2020-05-06   \n",
       "3  0001f83c-c6ac-4621-b7f0-8a28b283ac30 2020-05-06 01:07:37  2020-05-06   \n",
       "4  0001f83c-c6ac-4621-b7f0-8a28b283ac30 2020-05-06 01:07:37  2020-05-06   \n",
       "\n",
       "         source  acquisition_cost      event_datetime     event project_type  \\\n",
       "0  facebook_ads          0.754174 2020-05-06 01:07:37  building          NaN   \n",
       "1  facebook_ads          0.754174 2020-05-06 11:31:56  building          NaN   \n",
       "2  facebook_ads          0.754174 2020-05-06 15:11:50  building          NaN   \n",
       "3  facebook_ads          0.754174 2020-05-09 05:59:57  building          NaN   \n",
       "4  facebook_ads          0.754174 2020-05-09 07:35:40  building          NaN   \n",
       "\n",
       "   time_on_event  \n",
       "0              0  \n",
       "1              0  \n",
       "2              0  \n",
       "3              3  \n",
       "4              3  "
      ]
     },
     "execution_count": 19,
     "metadata": {},
     "output_type": "execute_result"
    }
   ],
   "source": [
    "profiles_with_actions['time_on_event'] = (profiles_with_actions['event_datetime'] - profiles_with_actions['first_ts']).dt.days\n",
    "profiles_with_actions.head()"
   ]
  },
  {
   "cell_type": "markdown",
   "id": "norwegian-garden",
   "metadata": {},
   "source": [
    "Отсортируем пользователей по признаку завершения проекта. Добавим колонку со временем прохождения игры"
   ]
  },
  {
   "cell_type": "code",
   "execution_count": 20,
   "id": "excessive-patio",
   "metadata": {},
   "outputs": [
    {
     "data": {
      "text/html": [
       "<div>\n",
       "<style scoped>\n",
       "    .dataframe tbody tr th:only-of-type {\n",
       "        vertical-align: middle;\n",
       "    }\n",
       "\n",
       "    .dataframe tbody tr th {\n",
       "        vertical-align: top;\n",
       "    }\n",
       "\n",
       "    .dataframe thead th {\n",
       "        text-align: right;\n",
       "    }\n",
       "</style>\n",
       "<table border=\"1\" class=\"dataframe\">\n",
       "  <thead>\n",
       "    <tr style=\"text-align: right;\">\n",
       "      <th></th>\n",
       "      <th>user_id</th>\n",
       "      <th>first_ts</th>\n",
       "      <th>date</th>\n",
       "      <th>source</th>\n",
       "      <th>acquisition_cost</th>\n",
       "      <th>event_datetime</th>\n",
       "      <th>event</th>\n",
       "      <th>project_type</th>\n",
       "      <th>days_on_event</th>\n",
       "      <th>days_on_level</th>\n",
       "    </tr>\n",
       "  </thead>\n",
       "  <tbody>\n",
       "    <tr>\n",
       "      <th>0</th>\n",
       "      <td>001d39dc-366c-4021-9604-6a3b9ff01e25</td>\n",
       "      <td>2020-05-05 21:02:05</td>\n",
       "      <td>2020-05-05</td>\n",
       "      <td>instagram_new_adverts</td>\n",
       "      <td>0.631822</td>\n",
       "      <td>2020-05-05 21:02:05</td>\n",
       "      <td>building</td>\n",
       "      <td>NaN</td>\n",
       "      <td>0</td>\n",
       "      <td>6</td>\n",
       "    </tr>\n",
       "    <tr>\n",
       "      <th>1</th>\n",
       "      <td>001d39dc-366c-4021-9604-6a3b9ff01e25</td>\n",
       "      <td>2020-05-05 21:02:05</td>\n",
       "      <td>2020-05-05</td>\n",
       "      <td>instagram_new_adverts</td>\n",
       "      <td>0.631822</td>\n",
       "      <td>2020-05-06 10:52:38</td>\n",
       "      <td>building</td>\n",
       "      <td>NaN</td>\n",
       "      <td>0</td>\n",
       "      <td>6</td>\n",
       "    </tr>\n",
       "    <tr>\n",
       "      <th>2</th>\n",
       "      <td>001d39dc-366c-4021-9604-6a3b9ff01e25</td>\n",
       "      <td>2020-05-05 21:02:05</td>\n",
       "      <td>2020-05-05</td>\n",
       "      <td>instagram_new_adverts</td>\n",
       "      <td>0.631822</td>\n",
       "      <td>2020-05-06 16:54:55</td>\n",
       "      <td>building</td>\n",
       "      <td>NaN</td>\n",
       "      <td>0</td>\n",
       "      <td>6</td>\n",
       "    </tr>\n",
       "    <tr>\n",
       "      <th>3</th>\n",
       "      <td>001d39dc-366c-4021-9604-6a3b9ff01e25</td>\n",
       "      <td>2020-05-05 21:02:05</td>\n",
       "      <td>2020-05-05</td>\n",
       "      <td>instagram_new_adverts</td>\n",
       "      <td>0.631822</td>\n",
       "      <td>2020-05-07 14:58:27</td>\n",
       "      <td>building</td>\n",
       "      <td>NaN</td>\n",
       "      <td>1</td>\n",
       "      <td>6</td>\n",
       "    </tr>\n",
       "    <tr>\n",
       "      <th>4</th>\n",
       "      <td>001d39dc-366c-4021-9604-6a3b9ff01e25</td>\n",
       "      <td>2020-05-05 21:02:05</td>\n",
       "      <td>2020-05-05</td>\n",
       "      <td>instagram_new_adverts</td>\n",
       "      <td>0.631822</td>\n",
       "      <td>2020-05-07 23:26:08</td>\n",
       "      <td>building</td>\n",
       "      <td>NaN</td>\n",
       "      <td>2</td>\n",
       "      <td>6</td>\n",
       "    </tr>\n",
       "  </tbody>\n",
       "</table>\n",
       "</div>"
      ],
      "text/plain": [
       "                                user_id            first_ts        date  \\\n",
       "0  001d39dc-366c-4021-9604-6a3b9ff01e25 2020-05-05 21:02:05  2020-05-05   \n",
       "1  001d39dc-366c-4021-9604-6a3b9ff01e25 2020-05-05 21:02:05  2020-05-05   \n",
       "2  001d39dc-366c-4021-9604-6a3b9ff01e25 2020-05-05 21:02:05  2020-05-05   \n",
       "3  001d39dc-366c-4021-9604-6a3b9ff01e25 2020-05-05 21:02:05  2020-05-05   \n",
       "4  001d39dc-366c-4021-9604-6a3b9ff01e25 2020-05-05 21:02:05  2020-05-05   \n",
       "\n",
       "                  source  acquisition_cost      event_datetime     event  \\\n",
       "0  instagram_new_adverts          0.631822 2020-05-05 21:02:05  building   \n",
       "1  instagram_new_adverts          0.631822 2020-05-06 10:52:38  building   \n",
       "2  instagram_new_adverts          0.631822 2020-05-06 16:54:55  building   \n",
       "3  instagram_new_adverts          0.631822 2020-05-07 14:58:27  building   \n",
       "4  instagram_new_adverts          0.631822 2020-05-07 23:26:08  building   \n",
       "\n",
       "  project_type  days_on_event  days_on_level  \n",
       "0          NaN              0              6  \n",
       "1          NaN              0              6  \n",
       "2          NaN              0              6  \n",
       "3          NaN              1              6  \n",
       "4          NaN              2              6  "
      ]
     },
     "execution_count": 20,
     "metadata": {},
     "output_type": "execute_result"
    }
   ],
   "source": [
    "winners = profiles_with_actions.query('event == [\"project\", \"finished_stage_1\"]')\n",
    "finished_level = profiles_with_actions[profiles_with_actions[\"user_id\"].isin(winners['user_id'])] # создаем датафрейм с пользователями, прошедшими уровень\n",
    "finished_level = finished_level.merge(winners[['time_on_event', 'user_id']], on=['user_id'], how='left')\n",
    "finished_level = finished_level.rename(columns={'time_on_event_x': 'days_on_event', 'time_on_event_y': 'days_on_level'})\n",
    "finished_level.head()"
   ]
  },
  {
   "cell_type": "code",
   "execution_count": 21,
   "id": "sustained-squad",
   "metadata": {},
   "outputs": [
    {
     "name": "stdout",
     "output_type": "stream",
     "text": [
      "В среднем ушло на прохождение уровня игроками: 12.0 дней\n"
     ]
    }
   ],
   "source": [
    "print('В среднем ушло на прохождение уровня игроками:', finished_level['days_on_level'].mean().round(), 'дней')"
   ]
  },
  {
   "cell_type": "markdown",
   "id": "greek-candle",
   "metadata": {},
   "source": [
    "##### Вывод"
   ]
  },
  {
   "cell_type": "markdown",
   "id": "least-armor",
   "metadata": {},
   "source": [
    "Больше всего пользователей пришло через yandex_direct, хотя отрыв незначитальный. На втором месте - instagram_new_adverts. Меньше всего пришло через youtube_channel_reklama. По времени - в среднем на прохождение уровня у пользователей ушло 12 дней."
   ]
  },
  {
   "cell_type": "markdown",
   "id": "hearing-transaction",
   "metadata": {},
   "source": [
    "#### 5. Маркетинг"
   ]
  },
  {
   "cell_type": "code",
   "execution_count": 22,
   "id": "challenging-constant",
   "metadata": {},
   "outputs": [
    {
     "name": "stdout",
     "output_type": "stream",
     "text": [
      "Всего денег потрачено: 7603.57\n"
     ]
    }
   ],
   "source": [
    "print('Всего денег потрачено:', sum(ad_costs['cost']))"
   ]
  },
  {
   "cell_type": "markdown",
   "id": "artificial-journalism",
   "metadata": {},
   "source": [
    "Посмотрим на распределение затрат по источникам привлечения"
   ]
  },
  {
   "cell_type": "code",
   "execution_count": 23,
   "id": "attractive-wellington",
   "metadata": {},
   "outputs": [
    {
     "data": {
      "text/html": [
       "<div>\n",
       "<style scoped>\n",
       "    .dataframe tbody tr th:only-of-type {\n",
       "        vertical-align: middle;\n",
       "    }\n",
       "\n",
       "    .dataframe tbody tr th {\n",
       "        vertical-align: top;\n",
       "    }\n",
       "\n",
       "    .dataframe thead th {\n",
       "        text-align: right;\n",
       "    }\n",
       "</style>\n",
       "<table border=\"1\" class=\"dataframe\">\n",
       "  <thead>\n",
       "    <tr style=\"text-align: right;\">\n",
       "      <th></th>\n",
       "      <th>cost</th>\n",
       "    </tr>\n",
       "    <tr>\n",
       "      <th>source</th>\n",
       "      <th></th>\n",
       "    </tr>\n",
       "  </thead>\n",
       "  <tbody>\n",
       "    <tr>\n",
       "      <th>facebook_ads</th>\n",
       "      <td>2140.90</td>\n",
       "    </tr>\n",
       "    <tr>\n",
       "      <th>instagram_new_adverts</th>\n",
       "      <td>2161.45</td>\n",
       "    </tr>\n",
       "    <tr>\n",
       "      <th>yandex_direct</th>\n",
       "      <td>2233.11</td>\n",
       "    </tr>\n",
       "    <tr>\n",
       "      <th>youtube_channel_reklama</th>\n",
       "      <td>1068.11</td>\n",
       "    </tr>\n",
       "  </tbody>\n",
       "</table>\n",
       "</div>"
      ],
      "text/plain": [
       "                            cost\n",
       "source                          \n",
       "facebook_ads             2140.90\n",
       "instagram_new_adverts    2161.45\n",
       "yandex_direct            2233.11\n",
       "youtube_channel_reklama  1068.11"
      ]
     },
     "metadata": {},
     "output_type": "display_data"
    },
    {
     "data": {
      "image/png": "[encoded data removed]",
      "text/plain": [
       "<Figure size 432x288 with 1 Axes>"
      ]
     },
     "metadata": {},
     "output_type": "display_data"
    }
   ],
   "source": [
    "costs_by_source = ad_costs.groupby('source').agg({'cost': 'sum'})\n",
    "display(costs_by_source)\n",
    "costs_by_source.plot(kind='pie', subplots=True, legend=False, title='Распределение затрат по источникам привлечения');"
   ]
  },
  {
   "cell_type": "markdown",
   "id": "multiple-establishment",
   "metadata": {},
   "source": [
    "Затраты на рекламу распределяются примерно также, как количество переходов - более-менее равномерно. Опять же выделяется yandex_direct - на него потратили чуть больше денег. Самый дешевый - youtube_channel_reklama"
   ]
  },
  {
   "cell_type": "markdown",
   "id": "republican-gothic",
   "metadata": {},
   "source": [
    "Выясним, сколько в среднем стоило привлечение одного пользователя из каждого источника. Рассчитаем средний CAC на одного пользователя для всего проекта и для каждого источника трафика."
   ]
  },
  {
   "cell_type": "code",
   "execution_count": 24,
   "id": "several-profit",
   "metadata": {},
   "outputs": [
    {
     "name": "stdout",
     "output_type": "stream",
     "text": [
      "Средняя стоимость привлечения одного пользователя в общем: 0.5600743959929286\n"
     ]
    },
    {
     "data": {
      "text/html": [
       "<div>\n",
       "<style scoped>\n",
       "    .dataframe tbody tr th:only-of-type {\n",
       "        vertical-align: middle;\n",
       "    }\n",
       "\n",
       "    .dataframe tbody tr th {\n",
       "        vertical-align: top;\n",
       "    }\n",
       "\n",
       "    .dataframe thead th {\n",
       "        text-align: right;\n",
       "    }\n",
       "</style>\n",
       "<table border=\"1\" class=\"dataframe\">\n",
       "  <thead>\n",
       "    <tr style=\"text-align: right;\">\n",
       "      <th></th>\n",
       "      <th>source</th>\n",
       "      <th>acquisition_cost</th>\n",
       "    </tr>\n",
       "  </thead>\n",
       "  <tbody>\n",
       "    <tr>\n",
       "      <th>0</th>\n",
       "      <td>facebook_ads</td>\n",
       "      <td>0.79</td>\n",
       "    </tr>\n",
       "    <tr>\n",
       "      <th>1</th>\n",
       "      <td>instagram_new_adverts</td>\n",
       "      <td>0.65</td>\n",
       "    </tr>\n",
       "    <tr>\n",
       "      <th>2</th>\n",
       "      <td>yandex_direct</td>\n",
       "      <td>0.46</td>\n",
       "    </tr>\n",
       "    <tr>\n",
       "      <th>3</th>\n",
       "      <td>youtube_channel_reklama</td>\n",
       "      <td>0.40</td>\n",
       "    </tr>\n",
       "  </tbody>\n",
       "</table>\n",
       "</div>"
      ],
      "text/plain": [
       "                    source  acquisition_cost\n",
       "0             facebook_ads              0.79\n",
       "1    instagram_new_adverts              0.65\n",
       "2            yandex_direct              0.46\n",
       "3  youtube_channel_reklama              0.40"
      ]
     },
     "execution_count": 24,
     "metadata": {},
     "output_type": "execute_result"
    }
   ],
   "source": [
    "print('Средняя стоимость привлечения одного пользователя в общем:', profiles['acquisition_cost'].mean())\n",
    "profiles.pivot_table(index='source', \n",
    "                     values='acquisition_cost', \n",
    "                     aggfunc='mean').reset_index().sort_values(by='acquisition_cost', \n",
    "                                                               ascending=False).round(2) \n",
    "# сколько в среднем стоит привлечение одного покупателя из разных источников"
   ]
  },
  {
   "cell_type": "code",
   "execution_count": 25,
   "id": "soviet-excerpt",
   "metadata": {
    "scrolled": true
   },
   "outputs": [
    {
     "data": {
      "image/png": "[encoded data removed]",
      "text/plain": [
       "<Figure size 720x504 with 1 Axes>"
      ]
     },
     "metadata": {
      "needs_background": "light"
     },
     "output_type": "display_data"
    },
    {
     "data": {
      "image/png": "[encoded data removed]",
      "text/plain": [
       "<Figure size 720x504 with 1 Axes>"
      ]
     },
     "metadata": {
      "needs_background": "light"
     },
     "output_type": "display_data"
    }
   ],
   "source": [
    "# первый график - динамика стоимости кликов по каналам продвижения\n",
    "ax1 = plt.subplot(2, 1, 1)\n",
    "ad_costs.pivot_table(\n",
    "    index='date', columns='source', values='cost', aggfunc='mean'\n",
    ").plot(grid=True, figsize=(10, 7), ax=ax1)\n",
    "plt.ylabel('стоимость, $')\n",
    "plt.xlabel('Дата привлечения')\n",
    "plt.title('Динамика стоимости кликов по каналам')\n",
    "plt.show()\n",
    "\n",
    "# второй график - динамика стоимости кликов по времени\n",
    "ax2 = plt.subplot(2, 1, 2)\n",
    "ad_costs.pivot_table(\n",
    "    index='date', values='cost', aggfunc='mean'\n",
    ").plot(grid=True, figsize=(10, 7), ax=ax2)\n",
    "plt.ylabel('стоимость, $')\n",
    "plt.xlabel('Дата привлечения')\n",
    "plt.title('Динамика стоимости кликов по времени')\n",
    "plt.show()"
   ]
  },
  {
   "cell_type": "markdown",
   "id": "suffering-concentration",
   "metadata": {},
   "source": [
    "##### Вывод"
   ]
  },
  {
   "cell_type": "markdown",
   "id": "guilty-exhibition",
   "metadata": {},
   "source": [
    "Самый дешевый источник - youtube_channel_reklama. Но через него пришло и меньше всего пользователей. Графики стоимости у остальных источников почти одинаковые. В целом динамика отрицательная - со временем на привлечение тратится все меньше средств. Это может быть связано с отсутствием рекламы в целом."
   ]
  },
  {
   "cell_type": "markdown",
   "id": "informed-absence",
   "metadata": {},
   "source": [
    "#### 6. Проверка статистических гипотез\n",
    "    "
   ]
  },
  {
   "cell_type": "markdown",
   "id": "sealed-terror",
   "metadata": {},
   "source": [
    "H0: время завершения уровня различается в зависимости способа прохождения;\n",
    "H1: время завершения уровня не зависит от способа прохождения.\n",
    "Проверку будем осуществлять методом сравнения средних двух генеральных совокупностей. Критический уровнь значимости обозначим на уровне 0.05."
   ]
  },
  {
   "cell_type": "code",
   "execution_count": 26,
   "id": "studied-pathology",
   "metadata": {},
   "outputs": [
    {
     "name": "stdout",
     "output_type": "stream",
     "text": [
      "p-значение: 1.9775007984859473e-25\n",
      "Отвергаем нулевую гипотезу\n"
     ]
    }
   ],
   "source": [
    "alpha = .05\n",
    "\n",
    "results = stats.ttest_ind(\n",
    "    finished_level.loc[finished_level['event'] == 'project', 'days_on_level'], \n",
    "    finished_level.loc[finished_level['event'] == 'finished_stage_1', 'days_on_level'])\n",
    "\n",
    "print('p-значение:', results.pvalue)\n",
    "if results.pvalue < alpha:\n",
    "    print(\"Отвергаем нулевую гипотезу\")\n",
    "else:\n",
    "    print(\"Не получилось отвергнуть нулевую гипотезу\")"
   ]
  },
  {
   "cell_type": "markdown",
   "id": "successful-sector",
   "metadata": {},
   "source": [
    "Проверка первой гипотезы показала, что время завершения уровня не зависит от способа прохождения игры"
   ]
  },
  {
   "cell_type": "markdown",
   "id": "precise-disabled",
   "metadata": {},
   "source": [
    "Авторская гипотеза: \n",
    "    Н0 - достижение этапа исследования спутниковой станции не зависит от источника привлечения,\n",
    "    Н1 - между достижением этапа исследования спутниковой станции и источником привлечения прослеживается зависимость\n",
    "Посчитаем статистическую значимость методом проверки гипотезы о равенстве долей (z-test). Критический уровнь значимости обозначим на уровне 0.002 с учетом поправки Бонферрони на последующие 24 теста."
   ]
  },
  {
   "cell_type": "code",
   "execution_count": 27,
   "id": "incorrect-candy",
   "metadata": {},
   "outputs": [
    {
     "data": {
      "text/html": [
       "<div>\n",
       "<style scoped>\n",
       "    .dataframe tbody tr th:only-of-type {\n",
       "        vertical-align: middle;\n",
       "    }\n",
       "\n",
       "    .dataframe tbody tr th {\n",
       "        vertical-align: top;\n",
       "    }\n",
       "\n",
       "    .dataframe thead th {\n",
       "        text-align: right;\n",
       "    }\n",
       "</style>\n",
       "<table border=\"1\" class=\"dataframe\">\n",
       "  <thead>\n",
       "    <tr style=\"text-align: right;\">\n",
       "      <th></th>\n",
       "      <th>user_id</th>\n",
       "    </tr>\n",
       "    <tr>\n",
       "      <th>source</th>\n",
       "      <th></th>\n",
       "    </tr>\n",
       "  </thead>\n",
       "  <tbody>\n",
       "    <tr>\n",
       "      <th>facebook_ads</th>\n",
       "      <td>2726</td>\n",
       "    </tr>\n",
       "    <tr>\n",
       "      <th>instagram_new_adverts</th>\n",
       "      <td>3347</td>\n",
       "    </tr>\n",
       "    <tr>\n",
       "      <th>yandex_direct</th>\n",
       "      <td>4817</td>\n",
       "    </tr>\n",
       "    <tr>\n",
       "      <th>youtube_channel_reklama</th>\n",
       "      <td>2686</td>\n",
       "    </tr>\n",
       "  </tbody>\n",
       "</table>\n",
       "</div>"
      ],
      "text/plain": [
       "                         user_id\n",
       "source                          \n",
       "facebook_ads                2726\n",
       "instagram_new_adverts       3347\n",
       "yandex_direct               4817\n",
       "youtube_channel_reklama     2686"
      ]
     },
     "metadata": {},
     "output_type": "display_data"
    },
    {
     "data": {
      "text/html": [
       "<div>\n",
       "<style scoped>\n",
       "    .dataframe tbody tr th:only-of-type {\n",
       "        vertical-align: middle;\n",
       "    }\n",
       "\n",
       "    .dataframe tbody tr th {\n",
       "        vertical-align: top;\n",
       "    }\n",
       "\n",
       "    .dataframe thead th {\n",
       "        text-align: right;\n",
       "    }\n",
       "</style>\n",
       "<table border=\"1\" class=\"dataframe\">\n",
       "  <thead>\n",
       "    <tr style=\"text-align: right;\">\n",
       "      <th>source</th>\n",
       "      <th>facebook_ads</th>\n",
       "      <th>instagram_new_adverts</th>\n",
       "      <th>yandex_direct</th>\n",
       "      <th>youtube_channel_reklama</th>\n",
       "    </tr>\n",
       "    <tr>\n",
       "      <th>project_type</th>\n",
       "      <th></th>\n",
       "      <th></th>\n",
       "      <th></th>\n",
       "      <th></th>\n",
       "    </tr>\n",
       "  </thead>\n",
       "  <tbody>\n",
       "    <tr>\n",
       "      <th>satellite_orbital_assembly</th>\n",
       "      <td>391</td>\n",
       "      <td>476</td>\n",
       "      <td>620</td>\n",
       "      <td>379</td>\n",
       "    </tr>\n",
       "  </tbody>\n",
       "</table>\n",
       "</div>"
      ],
      "text/plain": [
       "source                      facebook_ads  instagram_new_adverts  \\\n",
       "project_type                                                      \n",
       "satellite_orbital_assembly           391                    476   \n",
       "\n",
       "source                      yandex_direct  youtube_channel_reklama  \n",
       "project_type                                                        \n",
       "satellite_orbital_assembly            620                      379  "
      ]
     },
     "metadata": {},
     "output_type": "display_data"
    }
   ],
   "source": [
    "def check_hypothesis(successes1, successes2, trials1, trials2):   # функция для проверки статистической значимости различий в прохождении игры\n",
    "    p1 = successes1/trials1\n",
    "    p2 = successes2/trials2\n",
    "    p_combined = (successes1 + successes2) / (trials1 + trials2)\n",
    "    difference = p1 - p2\n",
    "    z_value = difference / math.sqrt(p_combined * (1 - p_combined) * (1/trials1 + 1/trials2))\n",
    "    distr = stats.norm(0, 1)\n",
    "    p_value = (1 - distr.cdf(abs(z_value))) * 2\n",
    "    return p_value\n",
    "\n",
    "trials = profiles_with_actions.groupby('source').agg({'user_id': 'nunique'})\n",
    "display(trials)\n",
    "funnel_by_groups = profiles_with_actions.pivot_table(index='project_type', columns = 'source', values = 'user_id', aggfunc='nunique')\n",
    "display(funnel_by_groups)"
   ]
  },
  {
   "cell_type": "code",
   "execution_count": 28,
   "id": "geographic-format",
   "metadata": {},
   "outputs": [
    {
     "data": {
      "text/html": [
       "<div>\n",
       "<style scoped>\n",
       "    .dataframe tbody tr th:only-of-type {\n",
       "        vertical-align: middle;\n",
       "    }\n",
       "\n",
       "    .dataframe tbody tr th {\n",
       "        vertical-align: top;\n",
       "    }\n",
       "\n",
       "    .dataframe thead th {\n",
       "        text-align: right;\n",
       "    }\n",
       "</style>\n",
       "<table border=\"1\" class=\"dataframe\">\n",
       "  <thead>\n",
       "    <tr style=\"text-align: right;\">\n",
       "      <th>source</th>\n",
       "      <th>facebook_ads</th>\n",
       "      <th>instagram_new_adverts</th>\n",
       "      <th>yandex_direct</th>\n",
       "      <th>youtube_channel_reklama</th>\n",
       "      <th>p_value_fb/insta</th>\n",
       "      <th>p_value_fb/ya</th>\n",
       "      <th>p_value_fb/yout</th>\n",
       "      <th>p_value_insta/ya</th>\n",
       "      <th>p_value_insta/yout</th>\n",
       "      <th>p_value_ya/yout</th>\n",
       "    </tr>\n",
       "    <tr>\n",
       "      <th>project_type</th>\n",
       "      <th></th>\n",
       "      <th></th>\n",
       "      <th></th>\n",
       "      <th></th>\n",
       "      <th></th>\n",
       "      <th></th>\n",
       "      <th></th>\n",
       "      <th></th>\n",
       "      <th></th>\n",
       "      <th></th>\n",
       "    </tr>\n",
       "  </thead>\n",
       "  <tbody>\n",
       "    <tr>\n",
       "      <th>satellite_orbital_assembly</th>\n",
       "      <td>391</td>\n",
       "      <td>476</td>\n",
       "      <td>620</td>\n",
       "      <td>379</td>\n",
       "      <td>0.892765</td>\n",
       "      <td>0.071376</td>\n",
       "      <td>0.80607</td>\n",
       "      <td>0.078318</td>\n",
       "      <td>0.901789</td>\n",
       "      <td>0.129873</td>\n",
       "    </tr>\n",
       "  </tbody>\n",
       "</table>\n",
       "</div>"
      ],
      "text/plain": [
       "source                      facebook_ads  instagram_new_adverts  \\\n",
       "project_type                                                      \n",
       "satellite_orbital_assembly           391                    476   \n",
       "\n",
       "source                      yandex_direct  youtube_channel_reklama  \\\n",
       "project_type                                                         \n",
       "satellite_orbital_assembly            620                      379   \n",
       "\n",
       "source                      p_value_fb/insta  p_value_fb/ya  p_value_fb/yout  \\\n",
       "project_type                                                                   \n",
       "satellite_orbital_assembly          0.892765       0.071376          0.80607   \n",
       "\n",
       "source                      p_value_insta/ya  p_value_insta/yout  \\\n",
       "project_type                                                       \n",
       "satellite_orbital_assembly          0.078318            0.901789   \n",
       "\n",
       "source                      p_value_ya/yout  \n",
       "project_type                                 \n",
       "satellite_orbital_assembly         0.129873  "
      ]
     },
     "execution_count": 28,
     "metadata": {},
     "output_type": "execute_result"
    }
   ],
   "source": [
    "funnel_by_groups.loc['satellite_orbital_assembly', 'p_value_fb/insta'] = check_hypothesis(funnel_by_groups.loc['satellite_orbital_assembly', 'facebook_ads'], funnel_by_groups.loc['satellite_orbital_assembly', 'instagram_new_adverts'],\n",
    "                                       trials.loc['facebook_ads'].values[0], trials.loc['instagram_new_adverts'].values[0])\n",
    "funnel_by_groups.loc['satellite_orbital_assembly', 'p_value_fb/ya'] =  check_hypothesis(funnel_by_groups.loc['satellite_orbital_assembly', 'facebook_ads'], funnel_by_groups.loc['satellite_orbital_assembly', 'yandex_direct'],\n",
    "                                       trials.loc['facebook_ads'].values[0], trials.loc['yandex_direct'].values[0])\n",
    "funnel_by_groups.loc['satellite_orbital_assembly', 'p_value_fb/yout'] =  check_hypothesis(funnel_by_groups.loc['satellite_orbital_assembly', 'facebook_ads'], funnel_by_groups.loc['satellite_orbital_assembly', 'youtube_channel_reklama'],\n",
    "                                       trials.loc['facebook_ads'].values[0], trials.loc['youtube_channel_reklama'].values[0])\n",
    "funnel_by_groups.loc['satellite_orbital_assembly', 'p_value_insta/ya'] =  check_hypothesis(funnel_by_groups.loc['satellite_orbital_assembly', 'instagram_new_adverts'], funnel_by_groups.loc['satellite_orbital_assembly', 'yandex_direct'],\n",
    "                                       trials.loc['instagram_new_adverts'].values[0], trials.loc['yandex_direct'].values[0]) \n",
    "funnel_by_groups.loc['satellite_orbital_assembly', 'p_value_insta/yout'] =  check_hypothesis(funnel_by_groups.loc['satellite_orbital_assembly', 'instagram_new_adverts'], funnel_by_groups.loc['satellite_orbital_assembly', 'youtube_channel_reklama'],\n",
    "                                       trials.loc['instagram_new_adverts'].values[0], trials.loc['youtube_channel_reklama'].values[0])    \n",
    "funnel_by_groups.loc['satellite_orbital_assembly', 'p_value_ya/yout'] =  check_hypothesis(funnel_by_groups.loc['satellite_orbital_assembly', 'yandex_direct'], funnel_by_groups.loc['satellite_orbital_assembly', 'youtube_channel_reklama'],\n",
    "                                       trials.loc['yandex_direct'].values[0], trials.loc['youtube_channel_reklama'].values[0])\n",
    "funnel_by_groups   "
   ]
  },
  {
   "cell_type": "code",
   "execution_count": 29,
   "id": "dietary-night",
   "metadata": {},
   "outputs": [
    {
     "data": {
      "text/html": [
       "<div>\n",
       "<style scoped>\n",
       "    .dataframe tbody tr th:only-of-type {\n",
       "        vertical-align: middle;\n",
       "    }\n",
       "\n",
       "    .dataframe tbody tr th {\n",
       "        vertical-align: top;\n",
       "    }\n",
       "\n",
       "    .dataframe thead th {\n",
       "        text-align: right;\n",
       "    }\n",
       "</style>\n",
       "<table border=\"1\" class=\"dataframe\">\n",
       "  <thead>\n",
       "    <tr style=\"text-align: right;\">\n",
       "      <th>source</th>\n",
       "      <th>facebook_ads</th>\n",
       "      <th>instagram_new_adverts</th>\n",
       "      <th>yandex_direct</th>\n",
       "      <th>youtube_channel_reklama</th>\n",
       "      <th>fb/insta/yout</th>\n",
       "      <th>p_value</th>\n",
       "    </tr>\n",
       "    <tr>\n",
       "      <th>project_type</th>\n",
       "      <th></th>\n",
       "      <th></th>\n",
       "      <th></th>\n",
       "      <th></th>\n",
       "      <th></th>\n",
       "      <th></th>\n",
       "    </tr>\n",
       "  </thead>\n",
       "  <tbody>\n",
       "    <tr>\n",
       "      <th>satellite_orbital_assembly</th>\n",
       "      <td>391</td>\n",
       "      <td>476</td>\n",
       "      <td>620</td>\n",
       "      <td>379</td>\n",
       "      <td>1246</td>\n",
       "      <td>0.02833</td>\n",
       "    </tr>\n",
       "  </tbody>\n",
       "</table>\n",
       "</div>"
      ],
      "text/plain": [
       "source                      facebook_ads  instagram_new_adverts  \\\n",
       "project_type                                                      \n",
       "satellite_orbital_assembly           391                    476   \n",
       "\n",
       "source                      yandex_direct  youtube_channel_reklama  \\\n",
       "project_type                                                         \n",
       "satellite_orbital_assembly            620                      379   \n",
       "\n",
       "source                      fb/insta/yout  p_value  \n",
       "project_type                                        \n",
       "satellite_orbital_assembly           1246  0.02833  "
      ]
     },
     "execution_count": 29,
     "metadata": {},
     "output_type": "execute_result"
    }
   ],
   "source": [
    "funnel_comb = profiles_with_actions.pivot_table(index='project_type', columns = 'source', values = 'user_id', aggfunc='nunique')\n",
    "funnel_comb['fb/insta/yout'] = funnel_comb['facebook_ads'] + funnel_comb['instagram_new_adverts'] + funnel_comb['youtube_channel_reklama']\n",
    "\n",
    "funnel_comb.loc['satellite_orbital_assembly', 'p_value'] = check_hypothesis(funnel_comb.loc['satellite_orbital_assembly', 'yandex_direct'], funnel_comb.loc['satellite_orbital_assembly', 'fb/insta/yout'],\n",
    "                                       trials.loc['yandex_direct'].values[0], (trials.loc['facebook_ads'].values[0] + trials.loc['instagram_new_adverts'].values[0] + trials.loc['youtube_channel_reklama'].values[0]))\n",
    "\n",
    "funnel_comb"
   ]
  },
  {
   "cell_type": "markdown",
   "id": "touched-sector",
   "metadata": {},
   "source": [
    "Нулевая гипотеза не опровергнута - достижение этапа исследования спутниковой станции не зависит от источника привлечения.\n",
    "По выведенной выше таблице видно, что больше всего \"побед\" наблюдается у тех, кто пришел через yandex_direct."
   ]
  },
  {
   "cell_type": "markdown",
   "id": "refined-tract",
   "metadata": {},
   "source": [
    "#### 8. Общий вывод. Подготовка дашборда и презентации."
   ]
  },
  {
   "cell_type": "markdown",
   "id": "ambient-atlas",
   "metadata": {},
   "source": [
    "В ходе исследования мы изучили данные и привели к нужному виду, проверили на аномалии и очистили данные, построили и проанализировали воронку событий. Далее мы провели исследовательский анализ данных и анализ маркетинговых показатателей. В финале провели проверку статистических гипотез.\n",
    "\n",
    "В процессе мы выяснили, что:\n",
    "\n",
    "    - самое частое событие в игре - постройка. В то время как, самая частая постройка - космопорт;\n",
    "    - На воронке событий видно, что проект завершили только 13% игроков;\n",
    "    - Самый дешевый источник - youtube_channel_reklama. Но через него пришло и меньше всего пользователей. Графики стоимости у остальных источников почти одинаковые. В целом динамика отрицательная - со временем на привлечение тратится все меньше средств. Это может быть связано с отсутствием рекламы в целом.\n",
    "    - Проверка гипотез показала, что время завершения уровня не зависит от способа прохождения игры и что достижение этапа исследования спутниковой станции не зависит от источника привлечения (больше всего \"побед\" наблюдается у тех, кто пришел через yandex_direct).\n",
    "    \n",
    "Подытожив, можно сказать, что самый удачный источник привлечения - yandex_direct. Не смотря на то, что он чуть дороже все остальных, он самый результативный и приводит самых активных игроков (нацеленных на победу)."
   ]
  },
  {
   "cell_type": "code",
   "execution_count": null,
   "id": "ed41f875",
   "metadata": {},
   "outputs": [],
   "source": []
  }
 ],
 "metadata": {
  "ExecuteTimeLog": [
   {
    "duration": 1504,
    "start_time": "2022-08-19T14:54:55.763Z"
   },
   {
    "duration": 1103,
    "start_time": "2022-08-19T14:54:57.269Z"
   },
   {
    "duration": 40,
    "start_time": "2022-08-19T14:54:58.374Z"
   },
   {
    "duration": 9,
    "start_time": "2022-08-19T14:54:58.415Z"
   },
   {
    "duration": 34,
    "start_time": "2022-08-19T14:54:58.426Z"
   },
   {
    "duration": 49,
    "start_time": "2022-08-19T14:54:58.462Z"
   },
   {
    "duration": 78,
    "start_time": "2022-08-19T14:54:58.513Z"
   },
   {
    "duration": 126,
    "start_time": "2022-08-19T14:54:58.593Z"
   },
   {
    "duration": 56,
    "start_time": "2022-08-19T14:54:58.721Z"
   },
   {
    "duration": 16,
    "start_time": "2022-08-19T14:54:58.779Z"
   },
   {
    "duration": 22,
    "start_time": "2022-08-19T14:54:58.796Z"
   },
   {
    "duration": 79,
    "start_time": "2022-08-19T14:54:58.820Z"
   },
   {
    "duration": 13,
    "start_time": "2022-08-19T14:54:58.901Z"
   },
   {
    "duration": 7,
    "start_time": "2022-08-19T14:54:58.917Z"
   },
   {
    "duration": 230,
    "start_time": "2022-08-19T14:54:58.925Z"
   },
   {
    "duration": 143,
    "start_time": "2022-08-19T14:54:59.157Z"
   },
   {
    "duration": 69,
    "start_time": "2022-08-19T14:54:59.302Z"
   },
   {
    "duration": 19,
    "start_time": "2022-08-19T14:54:59.373Z"
   },
   {
    "duration": 114,
    "start_time": "2022-08-19T14:54:59.394Z"
   },
   {
    "duration": 5,
    "start_time": "2022-08-19T14:54:59.509Z"
   },
   {
    "duration": 43,
    "start_time": "2022-08-19T14:54:59.515Z"
   },
   {
    "duration": 3,
    "start_time": "2022-08-19T14:54:59.560Z"
   },
   {
    "duration": 134,
    "start_time": "2022-08-19T14:54:59.565Z"
   },
   {
    "duration": 20,
    "start_time": "2022-08-19T14:54:59.701Z"
   },
   {
    "duration": 552,
    "start_time": "2022-08-19T14:54:59.723Z"
   },
   {
    "duration": 17,
    "start_time": "2022-08-19T14:55:00.277Z"
   },
   {
    "duration": 122,
    "start_time": "2022-08-19T14:55:00.295Z"
   },
   {
    "duration": 44,
    "start_time": "2022-08-19T14:55:00.419Z"
   },
   {
    "duration": 64,
    "start_time": "2022-08-19T14:55:00.465Z"
   },
   {
    "duration": 31,
    "start_time": "2022-08-19T14:55:10.446Z"
   },
   {
    "duration": 141,
    "start_time": "2022-08-19T14:55:23.669Z"
   },
   {
    "duration": 23,
    "start_time": "2022-08-19T14:55:28.815Z"
   },
   {
    "duration": 58,
    "start_time": "2022-08-19T15:54:38.942Z"
   },
   {
    "duration": 10,
    "start_time": "2022-08-19T16:06:04.023Z"
   },
   {
    "duration": 1323,
    "start_time": "2022-08-19T16:06:09.605Z"
   },
   {
    "duration": 893,
    "start_time": "2022-08-19T16:06:10.930Z"
   },
   {
    "duration": 38,
    "start_time": "2022-08-19T16:06:11.825Z"
   },
   {
    "duration": 9,
    "start_time": "2022-08-19T16:06:11.865Z"
   },
   {
    "duration": 17,
    "start_time": "2022-08-19T16:06:11.876Z"
   },
   {
    "duration": 45,
    "start_time": "2022-08-19T16:06:11.895Z"
   },
   {
    "duration": 82,
    "start_time": "2022-08-19T16:06:11.942Z"
   },
   {
    "duration": 145,
    "start_time": "2022-08-19T16:06:12.026Z"
   },
   {
    "duration": 60,
    "start_time": "2022-08-19T16:06:12.175Z"
   },
   {
    "duration": 22,
    "start_time": "2022-08-19T16:06:12.239Z"
   },
   {
    "duration": 43,
    "start_time": "2022-08-19T16:06:12.262Z"
   },
   {
    "duration": 66,
    "start_time": "2022-08-19T16:06:12.307Z"
   },
   {
    "duration": 135,
    "start_time": "2022-08-19T16:06:12.380Z"
   },
   {
    "duration": 9,
    "start_time": "2022-08-19T16:06:12.517Z"
   },
   {
    "duration": 172,
    "start_time": "2022-08-19T16:06:12.528Z"
   },
   {
    "duration": 120,
    "start_time": "2022-08-19T16:06:12.702Z"
   },
   {
    "duration": 69,
    "start_time": "2022-08-19T16:06:12.824Z"
   },
   {
    "duration": 18,
    "start_time": "2022-08-19T16:06:12.895Z"
   },
   {
    "duration": 99,
    "start_time": "2022-08-19T16:06:12.914Z"
   },
   {
    "duration": 4,
    "start_time": "2022-08-19T16:06:13.015Z"
   },
   {
    "duration": 6,
    "start_time": "2022-08-19T16:06:13.021Z"
   },
   {
    "duration": 162,
    "start_time": "2022-08-19T16:06:13.029Z"
   },
   {
    "duration": 26,
    "start_time": "2022-08-19T16:06:13.193Z"
   },
   {
    "duration": 501,
    "start_time": "2022-08-19T16:06:13.222Z"
   },
   {
    "duration": 15,
    "start_time": "2022-08-19T16:06:13.725Z"
   },
   {
    "duration": 118,
    "start_time": "2022-08-19T16:06:13.757Z"
   },
   {
    "duration": 28,
    "start_time": "2022-08-19T16:06:13.877Z"
   },
   {
    "duration": 78,
    "start_time": "2022-08-19T16:06:13.909Z"
   },
   {
    "duration": 375,
    "start_time": "2022-08-19T16:06:58.855Z"
   },
   {
    "duration": 80,
    "start_time": "2022-08-19T16:07:36.350Z"
   },
   {
    "duration": 144,
    "start_time": "2022-08-19T16:08:10.927Z"
   },
   {
    "duration": 149,
    "start_time": "2022-08-19T16:09:00.898Z"
   },
   {
    "duration": 10,
    "start_time": "2022-08-19T16:10:32.582Z"
   },
   {
    "duration": 134,
    "start_time": "2022-08-19T16:12:52.204Z"
   },
   {
    "duration": 120,
    "start_time": "2022-08-19T16:13:13.268Z"
   },
   {
    "duration": 100,
    "start_time": "2022-08-19T16:13:30.227Z"
   },
   {
    "duration": 73,
    "start_time": "2022-08-19T16:14:14.283Z"
   },
   {
    "duration": 73,
    "start_time": "2022-08-19T16:18:08.969Z"
   },
   {
    "duration": 72,
    "start_time": "2022-08-19T16:18:17.581Z"
   },
   {
    "duration": 76,
    "start_time": "2022-08-19T16:18:22.243Z"
   },
   {
    "duration": 81,
    "start_time": "2022-08-19T16:18:50.101Z"
   },
   {
    "duration": 84,
    "start_time": "2022-08-19T16:20:42.935Z"
   },
   {
    "duration": 77,
    "start_time": "2022-08-19T16:20:57.794Z"
   },
   {
    "duration": 123,
    "start_time": "2022-08-19T16:21:26.098Z"
   },
   {
    "duration": 144,
    "start_time": "2022-08-19T16:21:53.023Z"
   },
   {
    "duration": 118,
    "start_time": "2022-08-19T16:22:38.882Z"
   },
   {
    "duration": 519,
    "start_time": "2022-08-19T16:32:30.526Z"
   },
   {
    "duration": 1197,
    "start_time": "2022-08-19T16:46:30.889Z"
   },
   {
    "duration": 320,
    "start_time": "2022-08-19T16:46:32.089Z"
   },
   {
    "duration": 41,
    "start_time": "2022-08-19T16:46:32.410Z"
   },
   {
    "duration": 31,
    "start_time": "2022-08-19T16:46:32.453Z"
   },
   {
    "duration": 67,
    "start_time": "2022-08-19T16:46:32.485Z"
   },
   {
    "duration": 65,
    "start_time": "2022-08-19T16:46:32.554Z"
   },
   {
    "duration": 106,
    "start_time": "2022-08-19T16:46:32.621Z"
   },
   {
    "duration": 118,
    "start_time": "2022-08-19T16:46:32.729Z"
   },
   {
    "duration": 42,
    "start_time": "2022-08-19T16:46:32.849Z"
   },
   {
    "duration": 13,
    "start_time": "2022-08-19T16:46:32.894Z"
   },
   {
    "duration": 34,
    "start_time": "2022-08-19T16:46:32.909Z"
   },
   {
    "duration": 67,
    "start_time": "2022-08-19T16:46:32.945Z"
   },
   {
    "duration": 10,
    "start_time": "2022-08-19T16:46:33.014Z"
   },
   {
    "duration": 165,
    "start_time": "2022-08-19T16:46:33.025Z"
   },
   {
    "duration": 6,
    "start_time": "2022-08-19T16:46:33.191Z"
   },
   {
    "duration": 183,
    "start_time": "2022-08-19T16:46:33.198Z"
   },
   {
    "duration": 116,
    "start_time": "2022-08-19T16:46:33.383Z"
   },
   {
    "duration": 65,
    "start_time": "2022-08-19T16:46:33.500Z"
   },
   {
    "duration": 18,
    "start_time": "2022-08-19T16:46:33.566Z"
   },
   {
    "duration": 90,
    "start_time": "2022-08-19T16:46:33.585Z"
   },
   {
    "duration": 4,
    "start_time": "2022-08-19T16:46:33.677Z"
   },
   {
    "duration": 28,
    "start_time": "2022-08-19T16:46:33.682Z"
   },
   {
    "duration": 139,
    "start_time": "2022-08-19T16:46:33.712Z"
   },
   {
    "duration": 23,
    "start_time": "2022-08-19T16:46:33.858Z"
   },
   {
    "duration": 470,
    "start_time": "2022-08-19T16:46:33.883Z"
   },
   {
    "duration": 22,
    "start_time": "2022-08-19T16:46:34.357Z"
   },
   {
    "duration": 107,
    "start_time": "2022-08-19T16:46:34.381Z"
   },
   {
    "duration": 30,
    "start_time": "2022-08-19T16:46:34.492Z"
   },
   {
    "duration": 83,
    "start_time": "2022-08-19T16:46:34.523Z"
   }
  ],
  "kernelspec": {
   "display_name": "Python 3",
   "language": "python",
   "name": "python3"
  },
  "language_info": {
   "codemirror_mode": {
    "name": "ipython",
    "version": 3
   },
   "file_extension": ".py",
   "mimetype": "text/x-python",
   "name": "python",
   "nbconvert_exporter": "python",
   "pygments_lexer": "ipython3",
   "version": "3.8.7"
  },
  "toc": {
   "base_numbering": 1,
   "nav_menu": {},
   "number_sections": true,
   "sideBar": true,
   "skip_h1_title": true,
   "title_cell": "Table of Contents",
   "title_sidebar": "Contents",
   "toc_cell": false,
   "toc_position": {},
   "toc_section_display": true,
   "toc_window_display": true
  }
 },
 "nbformat": 4,
 "nbformat_minor": 5
}
