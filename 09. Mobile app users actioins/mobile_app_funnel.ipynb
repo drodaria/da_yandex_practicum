{
 "cells": [
  {
   "cell_type": "markdown",
   "id": "da7d10c2-4742-4732-9fd6-8d380a309ac9",
   "metadata": {},
   "source": [
    "<b><font size=5><center>Исследование поведения пользователей мобильного приложения.<br>Сборный проект-2</center></font></b>"
   ]
  },
  {
   "cell_type": "markdown",
   "id": "84aeb842-2b7f-4616-aa11-e00fc019fa5f",
   "metadata": {},
   "source": [
    "### Суть проекта"
   ]
  },
  {
   "cell_type": "markdown",
   "id": "ef0719fe-5d70-4540-8df6-87a55d127d7b",
   "metadata": {},
   "source": [
    "Вы работаете в стартапе, который продаёт продукты питания. Нужно разобраться, как ведут себя пользователи вашего мобильного приложения.\n",
    "Изучите воронку продаж. Узнайте, как пользователи доходят до покупки. Сколько пользователей доходит до покупки, а сколько — «застревает» на предыдущих шагах? На каких именно?\n",
    "После этого исследуйте результаты A/A/B-эксперимента. Дизайнеры захотели поменять шрифты во всём приложении, а менеджеры испугались, что пользователям будет непривычно. Договорились принять решение по результатам A/A/B-теста. Пользователей разбили на 3 группы: 2 контрольные со старыми шрифтами и одну экспериментальную — с новыми. Выясните, какой шрифт лучше.\n",
    "Создание двух групп A вместо одной имеет определённые преимущества. Если две контрольные группы окажутся равны, вы можете быть уверены в точности проведенного тестирования. Если же между значениями A и A будут существенные различия, это поможет обнаружить факторы, которые привели к искажению результатов. Сравнение контрольных групп также помогает понять, сколько времени и данных потребуется для дальнейших тестов.\n",
    "В случае общей аналитики и A/A/B-эксперимента работайте с одними и теми же данными. В реальных проектах всегда идут эксперименты. Аналитики исследуют качество работы приложения по общим данным, не учитывая принадлежность пользователей к экспериментам."
   ]
  },
  {
   "cell_type": "markdown",
   "id": "261b1b3b-ec2e-4ecc-811e-332ebd5feb9c",
   "metadata": {},
   "source": [
    "### Описание проекта"
   ]
  },
  {
   "cell_type": "markdown",
   "id": "c0ece9cc-642b-4c1c-bbc3-1ca104a8b565",
   "metadata": {},
   "source": [
    "В ходе данного проекта мы получили и подготовили данные, изучили и проверили их на аномалии. Далее мы построили и изучили воронку событий и изучили результаты эксперимента с помощью проверки гипотез о равенстве долей."
   ]
  },
  {
   "cell_type": "markdown",
   "id": "64b946d5-982a-49f9-a548-4575102f427d",
   "metadata": {},
   "source": [
    "### Получение данных"
   ]
  },
  {
   "cell_type": "code",
   "execution_count": 1,
   "id": "f1752479-6df8-47f4-ab8a-2d0298539a6e",
   "metadata": {},
   "outputs": [],
   "source": [
    "import pandas as pd                     # импорт библиотек\n",
    "import numpy as np\n",
    "import matplotlib.pyplot as plt\n",
    "import seaborn as sns\n",
    "import scipy.stats as stats\n",
    "import datetime as dt\n",
    "import math\n",
    "import warnings\n",
    "warnings.filterwarnings('ignore')"
   ]
  },
  {
   "cell_type": "code",
   "execution_count": 2,
   "id": "d9010eb6-a38e-4222-8081-4ac03d87f94b",
   "metadata": {},
   "outputs": [
    {
     "data": {
      "text/html": [
       "<div>\n",
       "<style scoped>\n",
       "    .dataframe tbody tr th:only-of-type {\n",
       "        vertical-align: middle;\n",
       "    }\n",
       "\n",
       "    .dataframe tbody tr th {\n",
       "        vertical-align: top;\n",
       "    }\n",
       "\n",
       "    .dataframe thead th {\n",
       "        text-align: right;\n",
       "    }\n",
       "</style>\n",
       "<table border=\"1\" class=\"dataframe\">\n",
       "  <thead>\n",
       "    <tr style=\"text-align: right;\">\n",
       "      <th></th>\n",
       "      <th>EventName</th>\n",
       "      <th>DeviceIDHash</th>\n",
       "      <th>EventTimestamp</th>\n",
       "      <th>ExpId</th>\n",
       "    </tr>\n",
       "  </thead>\n",
       "  <tbody>\n",
       "    <tr>\n",
       "      <th>0</th>\n",
       "      <td>MainScreenAppear</td>\n",
       "      <td>4575588528974610257</td>\n",
       "      <td>1564029816</td>\n",
       "      <td>246</td>\n",
       "    </tr>\n",
       "    <tr>\n",
       "      <th>1</th>\n",
       "      <td>MainScreenAppear</td>\n",
       "      <td>7416695313311560658</td>\n",
       "      <td>1564053102</td>\n",
       "      <td>246</td>\n",
       "    </tr>\n",
       "    <tr>\n",
       "      <th>2</th>\n",
       "      <td>PaymentScreenSuccessful</td>\n",
       "      <td>3518123091307005509</td>\n",
       "      <td>1564054127</td>\n",
       "      <td>248</td>\n",
       "    </tr>\n",
       "    <tr>\n",
       "      <th>3</th>\n",
       "      <td>CartScreenAppear</td>\n",
       "      <td>3518123091307005509</td>\n",
       "      <td>1564054127</td>\n",
       "      <td>248</td>\n",
       "    </tr>\n",
       "    <tr>\n",
       "      <th>4</th>\n",
       "      <td>PaymentScreenSuccessful</td>\n",
       "      <td>6217807653094995999</td>\n",
       "      <td>1564055322</td>\n",
       "      <td>248</td>\n",
       "    </tr>\n",
       "    <tr>\n",
       "      <th>5</th>\n",
       "      <td>CartScreenAppear</td>\n",
       "      <td>6217807653094995999</td>\n",
       "      <td>1564055323</td>\n",
       "      <td>248</td>\n",
       "    </tr>\n",
       "    <tr>\n",
       "      <th>6</th>\n",
       "      <td>OffersScreenAppear</td>\n",
       "      <td>8351860793733343758</td>\n",
       "      <td>1564066242</td>\n",
       "      <td>246</td>\n",
       "    </tr>\n",
       "    <tr>\n",
       "      <th>7</th>\n",
       "      <td>MainScreenAppear</td>\n",
       "      <td>5682100281902512875</td>\n",
       "      <td>1564085677</td>\n",
       "      <td>246</td>\n",
       "    </tr>\n",
       "    <tr>\n",
       "      <th>8</th>\n",
       "      <td>MainScreenAppear</td>\n",
       "      <td>1850981295691852772</td>\n",
       "      <td>1564086702</td>\n",
       "      <td>247</td>\n",
       "    </tr>\n",
       "    <tr>\n",
       "      <th>9</th>\n",
       "      <td>MainScreenAppear</td>\n",
       "      <td>5407636962369102641</td>\n",
       "      <td>1564112112</td>\n",
       "      <td>246</td>\n",
       "    </tr>\n",
       "  </tbody>\n",
       "</table>\n",
       "</div>"
      ],
      "text/plain": [
       "                 EventName         DeviceIDHash  EventTimestamp  ExpId\n",
       "0         MainScreenAppear  4575588528974610257      1564029816    246\n",
       "1         MainScreenAppear  7416695313311560658      1564053102    246\n",
       "2  PaymentScreenSuccessful  3518123091307005509      1564054127    248\n",
       "3         CartScreenAppear  3518123091307005509      1564054127    248\n",
       "4  PaymentScreenSuccessful  6217807653094995999      1564055322    248\n",
       "5         CartScreenAppear  6217807653094995999      1564055323    248\n",
       "6       OffersScreenAppear  8351860793733343758      1564066242    246\n",
       "7         MainScreenAppear  5682100281902512875      1564085677    246\n",
       "8         MainScreenAppear  1850981295691852772      1564086702    247\n",
       "9         MainScreenAppear  5407636962369102641      1564112112    246"
      ]
     },
     "execution_count": 2,
     "metadata": {},
     "output_type": "execute_result"
    }
   ],
   "source": [
    "data = pd.read_csv(r\"C:\\Users\\mi\\Downloads\\logs_exp.csv\", sep='\\t')    # извлечение данных\n",
    "\n",
    "data.head(10)    "
   ]
  },
  {
   "cell_type": "markdown",
   "id": "22849850-77ea-48dd-93b5-e196d9cb029b",
   "metadata": {},
   "source": [
    "### Подготовка данных"
   ]
  },
  {
   "cell_type": "code",
   "execution_count": 3,
   "id": "5d9a20e3-a84d-4c30-9345-f9611162d604",
   "metadata": {},
   "outputs": [
    {
     "data": {
      "text/html": [
       "<div>\n",
       "<style scoped>\n",
       "    .dataframe tbody tr th:only-of-type {\n",
       "        vertical-align: middle;\n",
       "    }\n",
       "\n",
       "    .dataframe tbody tr th {\n",
       "        vertical-align: top;\n",
       "    }\n",
       "\n",
       "    .dataframe thead th {\n",
       "        text-align: right;\n",
       "    }\n",
       "</style>\n",
       "<table border=\"1\" class=\"dataframe\">\n",
       "  <thead>\n",
       "    <tr style=\"text-align: right;\">\n",
       "      <th></th>\n",
       "      <th>event_name</th>\n",
       "      <th>user_id</th>\n",
       "      <th>event_timestamp</th>\n",
       "      <th>group</th>\n",
       "    </tr>\n",
       "  </thead>\n",
       "  <tbody>\n",
       "    <tr>\n",
       "      <th>0</th>\n",
       "      <td>MainScreenAppear</td>\n",
       "      <td>4575588528974610257</td>\n",
       "      <td>1564029816</td>\n",
       "      <td>246</td>\n",
       "    </tr>\n",
       "    <tr>\n",
       "      <th>1</th>\n",
       "      <td>MainScreenAppear</td>\n",
       "      <td>7416695313311560658</td>\n",
       "      <td>1564053102</td>\n",
       "      <td>246</td>\n",
       "    </tr>\n",
       "    <tr>\n",
       "      <th>2</th>\n",
       "      <td>PaymentScreenSuccessful</td>\n",
       "      <td>3518123091307005509</td>\n",
       "      <td>1564054127</td>\n",
       "      <td>248</td>\n",
       "    </tr>\n",
       "    <tr>\n",
       "      <th>3</th>\n",
       "      <td>CartScreenAppear</td>\n",
       "      <td>3518123091307005509</td>\n",
       "      <td>1564054127</td>\n",
       "      <td>248</td>\n",
       "    </tr>\n",
       "    <tr>\n",
       "      <th>4</th>\n",
       "      <td>PaymentScreenSuccessful</td>\n",
       "      <td>6217807653094995999</td>\n",
       "      <td>1564055322</td>\n",
       "      <td>248</td>\n",
       "    </tr>\n",
       "  </tbody>\n",
       "</table>\n",
       "</div>"
      ],
      "text/plain": [
       "                event_name              user_id  event_timestamp  group\n",
       "0         MainScreenAppear  4575588528974610257       1564029816    246\n",
       "1         MainScreenAppear  7416695313311560658       1564053102    246\n",
       "2  PaymentScreenSuccessful  3518123091307005509       1564054127    248\n",
       "3         CartScreenAppear  3518123091307005509       1564054127    248\n",
       "4  PaymentScreenSuccessful  6217807653094995999       1564055322    248"
      ]
     },
     "execution_count": 3,
     "metadata": {},
     "output_type": "execute_result"
    }
   ],
   "source": [
    "data.columns = ['event_name', 'user_id', 'event_timestamp', 'group']   # переименование столбцов\n",
    "data.head()"
   ]
  },
  {
   "cell_type": "code",
   "execution_count": 4,
   "id": "542d30a7-336d-4f84-b96b-c0491b3751ff",
   "metadata": {},
   "outputs": [
    {
     "name": "stdout",
     "output_type": "stream",
     "text": [
      "<class 'pandas.core.frame.DataFrame'>\n",
      "RangeIndex: 244126 entries, 0 to 244125\n",
      "Data columns (total 4 columns):\n",
      " #   Column           Non-Null Count   Dtype \n",
      "---  ------           --------------   ----- \n",
      " 0   event_name       244126 non-null  object\n",
      " 1   user_id          244126 non-null  int64 \n",
      " 2   event_timestamp  244126 non-null  int64 \n",
      " 3   group            244126 non-null  int64 \n",
      "dtypes: int64(3), object(1)\n",
      "memory usage: 7.5+ MB\n"
     ]
    }
   ],
   "source": [
    "data.info()   # проверка на тип данных"
   ]
  },
  {
   "cell_type": "code",
   "execution_count": 5,
   "id": "a445a77e-7faf-4cae-97dd-88adb0280f5f",
   "metadata": {},
   "outputs": [
    {
     "data": {
      "text/html": [
       "<div>\n",
       "<style scoped>\n",
       "    .dataframe tbody tr th:only-of-type {\n",
       "        vertical-align: middle;\n",
       "    }\n",
       "\n",
       "    .dataframe tbody tr th {\n",
       "        vertical-align: top;\n",
       "    }\n",
       "\n",
       "    .dataframe thead th {\n",
       "        text-align: right;\n",
       "    }\n",
       "</style>\n",
       "<table border=\"1\" class=\"dataframe\">\n",
       "  <thead>\n",
       "    <tr style=\"text-align: right;\">\n",
       "      <th></th>\n",
       "      <th>event_name</th>\n",
       "      <th>user_id</th>\n",
       "      <th>event_timestamp</th>\n",
       "      <th>group</th>\n",
       "    </tr>\n",
       "  </thead>\n",
       "  <tbody>\n",
       "    <tr>\n",
       "      <th>0</th>\n",
       "      <td>MainScreenAppear</td>\n",
       "      <td>4575588528974610257</td>\n",
       "      <td>2019-07-25 04:43:36</td>\n",
       "      <td>246</td>\n",
       "    </tr>\n",
       "    <tr>\n",
       "      <th>1</th>\n",
       "      <td>MainScreenAppear</td>\n",
       "      <td>7416695313311560658</td>\n",
       "      <td>2019-07-25 11:11:42</td>\n",
       "      <td>246</td>\n",
       "    </tr>\n",
       "    <tr>\n",
       "      <th>2</th>\n",
       "      <td>PaymentScreenSuccessful</td>\n",
       "      <td>3518123091307005509</td>\n",
       "      <td>2019-07-25 11:28:47</td>\n",
       "      <td>248</td>\n",
       "    </tr>\n",
       "    <tr>\n",
       "      <th>3</th>\n",
       "      <td>CartScreenAppear</td>\n",
       "      <td>3518123091307005509</td>\n",
       "      <td>2019-07-25 11:28:47</td>\n",
       "      <td>248</td>\n",
       "    </tr>\n",
       "    <tr>\n",
       "      <th>4</th>\n",
       "      <td>PaymentScreenSuccessful</td>\n",
       "      <td>6217807653094995999</td>\n",
       "      <td>2019-07-25 11:48:42</td>\n",
       "      <td>248</td>\n",
       "    </tr>\n",
       "  </tbody>\n",
       "</table>\n",
       "</div>"
      ],
      "text/plain": [
       "                event_name              user_id     event_timestamp  group\n",
       "0         MainScreenAppear  4575588528974610257 2019-07-25 04:43:36    246\n",
       "1         MainScreenAppear  7416695313311560658 2019-07-25 11:11:42    246\n",
       "2  PaymentScreenSuccessful  3518123091307005509 2019-07-25 11:28:47    248\n",
       "3         CartScreenAppear  3518123091307005509 2019-07-25 11:28:47    248\n",
       "4  PaymentScreenSuccessful  6217807653094995999 2019-07-25 11:48:42    248"
      ]
     },
     "execution_count": 5,
     "metadata": {},
     "output_type": "execute_result"
    }
   ],
   "source": [
    "data['event_timestamp'] = pd.to_datetime(data['event_timestamp'], unit='s') # преобразование типа данныз в столбце со временем \n",
    "data.head()"
   ]
  },
  {
   "cell_type": "code",
   "execution_count": 6,
   "id": "de38d026-cd4f-496a-8876-bc5c598901f8",
   "metadata": {},
   "outputs": [
    {
     "data": {
      "text/plain": [
       "event_name         0\n",
       "user_id            0\n",
       "event_timestamp    0\n",
       "group              0\n",
       "dtype: int64"
      ]
     },
     "execution_count": 6,
     "metadata": {},
     "output_type": "execute_result"
    }
   ],
   "source": [
    "data.isna().sum() # проверка на пропуски"
   ]
  },
  {
   "cell_type": "code",
   "execution_count": 7,
   "id": "1289a4dc-0167-46f9-b3cd-f9079863f90e",
   "metadata": {},
   "outputs": [
    {
     "data": {
      "text/plain": [
       "413"
      ]
     },
     "execution_count": 7,
     "metadata": {},
     "output_type": "execute_result"
    }
   ],
   "source": [
    "data.duplicated().sum()   # проверка на дубликаты"
   ]
  },
  {
   "cell_type": "code",
   "execution_count": 8,
   "id": "d3e886c5-bf0f-4751-97a4-68fcafcba476",
   "metadata": {},
   "outputs": [
    {
     "data": {
      "text/plain": [
       "0"
      ]
     },
     "execution_count": 8,
     "metadata": {},
     "output_type": "execute_result"
    }
   ],
   "source": [
    "data.drop_duplicates(inplace=True)  # удаление дубликатов\n",
    "data.duplicated().sum()"
   ]
  },
  {
   "cell_type": "code",
   "execution_count": 9,
   "id": "7db87000-681f-474d-923a-88fddcb685a1",
   "metadata": {},
   "outputs": [
    {
     "data": {
      "text/html": [
       "<div>\n",
       "<style scoped>\n",
       "    .dataframe tbody tr th:only-of-type {\n",
       "        vertical-align: middle;\n",
       "    }\n",
       "\n",
       "    .dataframe tbody tr th {\n",
       "        vertical-align: top;\n",
       "    }\n",
       "\n",
       "    .dataframe thead th {\n",
       "        text-align: right;\n",
       "    }\n",
       "</style>\n",
       "<table border=\"1\" class=\"dataframe\">\n",
       "  <thead>\n",
       "    <tr style=\"text-align: right;\">\n",
       "      <th></th>\n",
       "      <th>event_name</th>\n",
       "      <th>user_id</th>\n",
       "      <th>event_timestamp</th>\n",
       "      <th>group</th>\n",
       "      <th>date</th>\n",
       "    </tr>\n",
       "  </thead>\n",
       "  <tbody>\n",
       "    <tr>\n",
       "      <th>0</th>\n",
       "      <td>MainScreenAppear</td>\n",
       "      <td>4575588528974610257</td>\n",
       "      <td>2019-07-25 04:43:36</td>\n",
       "      <td>246</td>\n",
       "      <td>2019-07-25</td>\n",
       "    </tr>\n",
       "    <tr>\n",
       "      <th>1</th>\n",
       "      <td>MainScreenAppear</td>\n",
       "      <td>7416695313311560658</td>\n",
       "      <td>2019-07-25 11:11:42</td>\n",
       "      <td>246</td>\n",
       "      <td>2019-07-25</td>\n",
       "    </tr>\n",
       "    <tr>\n",
       "      <th>2</th>\n",
       "      <td>PaymentScreenSuccessful</td>\n",
       "      <td>3518123091307005509</td>\n",
       "      <td>2019-07-25 11:28:47</td>\n",
       "      <td>248</td>\n",
       "      <td>2019-07-25</td>\n",
       "    </tr>\n",
       "    <tr>\n",
       "      <th>3</th>\n",
       "      <td>CartScreenAppear</td>\n",
       "      <td>3518123091307005509</td>\n",
       "      <td>2019-07-25 11:28:47</td>\n",
       "      <td>248</td>\n",
       "      <td>2019-07-25</td>\n",
       "    </tr>\n",
       "    <tr>\n",
       "      <th>4</th>\n",
       "      <td>PaymentScreenSuccessful</td>\n",
       "      <td>6217807653094995999</td>\n",
       "      <td>2019-07-25 11:48:42</td>\n",
       "      <td>248</td>\n",
       "      <td>2019-07-25</td>\n",
       "    </tr>\n",
       "  </tbody>\n",
       "</table>\n",
       "</div>"
      ],
      "text/plain": [
       "                event_name              user_id     event_timestamp  group  \\\n",
       "0         MainScreenAppear  4575588528974610257 2019-07-25 04:43:36    246   \n",
       "1         MainScreenAppear  7416695313311560658 2019-07-25 11:11:42    246   \n",
       "2  PaymentScreenSuccessful  3518123091307005509 2019-07-25 11:28:47    248   \n",
       "3         CartScreenAppear  3518123091307005509 2019-07-25 11:28:47    248   \n",
       "4  PaymentScreenSuccessful  6217807653094995999 2019-07-25 11:48:42    248   \n",
       "\n",
       "         date  \n",
       "0  2019-07-25  \n",
       "1  2019-07-25  \n",
       "2  2019-07-25  \n",
       "3  2019-07-25  \n",
       "4  2019-07-25  "
      ]
     },
     "execution_count": 9,
     "metadata": {},
     "output_type": "execute_result"
    }
   ],
   "source": [
    "data['date'] = data['event_timestamp'].dt.date  # добавление отдельного столбца с датой\n",
    "data.head() "
   ]
  },
  {
   "cell_type": "markdown",
   "id": "cd93f650-1716-4f66-adde-ad1f795f3c68",
   "metadata": {},
   "source": [
    "#### Вывод"
   ]
  },
  {
   "cell_type": "markdown",
   "id": "f765a517-0988-4b7c-bf6a-708be0fd8ea1",
   "metadata": {},
   "source": [
    "В нашем распоряжении датафрейм с информацией о действиях пользователей в мобильном приложении. Каждая строка в нем - это действие пользователя или событие. Столбцы: event_name - название события, user_id - уникальный идентификатор пользователя, event_timestamp - дата и время события, group - номер экспериментальной группы, date - дата события.\n",
    "Пропусков в данных нет. Дубликаты в количестве 413 штук удалены."
   ]
  },
  {
   "cell_type": "markdown",
   "id": "02f238ba-35e5-4c34-876b-2996a371d976",
   "metadata": {},
   "source": [
    "### Изучение и проверка данных"
   ]
  },
  {
   "cell_type": "code",
   "execution_count": 10,
   "id": "ae900469-52f6-401f-b7a7-959bba5988d8",
   "metadata": {},
   "outputs": [
    {
     "name": "stdout",
     "output_type": "stream",
     "text": [
      "Событий в логе: 243713\n",
      "Пользователей в логе: 7551\n",
      "В среднем событий приходится на пользователя: 32.27559263673685\n"
     ]
    }
   ],
   "source": [
    "print('Событий в логе:', len(data))\n",
    "print('Пользователей в логе:', len(data['user_id'].unique()))\n",
    "print('В среднем событий приходится на пользователя:', len(data) / len(data['user_id'].unique()))"
   ]
  },
  {
   "cell_type": "code",
   "execution_count": 11,
   "id": "a7c75789-d16b-4faa-97bd-205ce287e9ea",
   "metadata": {},
   "outputs": [
    {
     "name": "stdout",
     "output_type": "stream",
     "text": [
      "2019-07-25 04:43:36\n",
      "2019-08-07 21:15:17\n"
     ]
    }
   ],
   "source": [
    "print(data['event_timestamp'].min())  # даты начала и окончания теста\n",
    "print(data['event_timestamp'].max()) "
   ]
  },
  {
   "cell_type": "code",
   "execution_count": 12,
   "id": "ee0b1d0e-d937-46c5-85e7-2afc2bc60005",
   "metadata": {},
   "outputs": [
    {
     "data": {
      "image/png": "[encoded data removed]",
      "text/plain": [
       "<Figure size 432x288 with 1 Axes>"
      ]
     },
     "metadata": {
      "needs_background": "light"
     },
     "output_type": "display_data"
    }
   ],
   "source": [
    "sns.histplot(data['event_timestamp'])\n",
    "plt.xticks(rotation=45)\n",
    "plt.show()"
   ]
  },
  {
   "cell_type": "markdown",
   "id": "2606682f-7b45-492d-b571-f5fbe4e4ef44",
   "metadata": {},
   "source": [
    "На гистограмме видно, что почти все действия приходятся на период с 01.08.2019 по 07.08.2019. Технически в логи новых дней по некоторым пользователям могут «доезжать» события из прошлого — это может «перекашивать данные». Поэтому будем считать, что до 01.08.2019 у нас в датафрейме данные старые. Оставим для анализа только полные данные периода с 01.08.2019 по 07.08.2019"
   ]
  },
  {
   "cell_type": "code",
   "execution_count": 13,
   "id": "e4ef2d5a-3c19-4274-b929-529ff28dca35",
   "metadata": {},
   "outputs": [
    {
     "data": {
      "text/html": [
       "<div>\n",
       "<style scoped>\n",
       "    .dataframe tbody tr th:only-of-type {\n",
       "        vertical-align: middle;\n",
       "    }\n",
       "\n",
       "    .dataframe tbody tr th {\n",
       "        vertical-align: top;\n",
       "    }\n",
       "\n",
       "    .dataframe thead th {\n",
       "        text-align: right;\n",
       "    }\n",
       "</style>\n",
       "<table border=\"1\" class=\"dataframe\">\n",
       "  <thead>\n",
       "    <tr style=\"text-align: right;\">\n",
       "      <th></th>\n",
       "      <th>event_name</th>\n",
       "      <th>user_id</th>\n",
       "      <th>event_timestamp</th>\n",
       "      <th>group</th>\n",
       "      <th>date</th>\n",
       "    </tr>\n",
       "  </thead>\n",
       "  <tbody>\n",
       "    <tr>\n",
       "      <th>2828</th>\n",
       "      <td>Tutorial</td>\n",
       "      <td>3737462046622621720</td>\n",
       "      <td>2019-08-01 00:07:28</td>\n",
       "      <td>246</td>\n",
       "      <td>2019-08-01</td>\n",
       "    </tr>\n",
       "    <tr>\n",
       "      <th>2829</th>\n",
       "      <td>MainScreenAppear</td>\n",
       "      <td>3737462046622621720</td>\n",
       "      <td>2019-08-01 00:08:00</td>\n",
       "      <td>246</td>\n",
       "      <td>2019-08-01</td>\n",
       "    </tr>\n",
       "    <tr>\n",
       "      <th>2830</th>\n",
       "      <td>MainScreenAppear</td>\n",
       "      <td>3737462046622621720</td>\n",
       "      <td>2019-08-01 00:08:55</td>\n",
       "      <td>246</td>\n",
       "      <td>2019-08-01</td>\n",
       "    </tr>\n",
       "    <tr>\n",
       "      <th>2831</th>\n",
       "      <td>OffersScreenAppear</td>\n",
       "      <td>3737462046622621720</td>\n",
       "      <td>2019-08-01 00:08:58</td>\n",
       "      <td>246</td>\n",
       "      <td>2019-08-01</td>\n",
       "    </tr>\n",
       "    <tr>\n",
       "      <th>2832</th>\n",
       "      <td>MainScreenAppear</td>\n",
       "      <td>1433840883824088890</td>\n",
       "      <td>2019-08-01 00:08:59</td>\n",
       "      <td>247</td>\n",
       "      <td>2019-08-01</td>\n",
       "    </tr>\n",
       "  </tbody>\n",
       "</table>\n",
       "</div>"
      ],
      "text/plain": [
       "              event_name              user_id     event_timestamp  group  \\\n",
       "2828            Tutorial  3737462046622621720 2019-08-01 00:07:28    246   \n",
       "2829    MainScreenAppear  3737462046622621720 2019-08-01 00:08:00    246   \n",
       "2830    MainScreenAppear  3737462046622621720 2019-08-01 00:08:55    246   \n",
       "2831  OffersScreenAppear  3737462046622621720 2019-08-01 00:08:58    246   \n",
       "2832    MainScreenAppear  1433840883824088890 2019-08-01 00:08:59    247   \n",
       "\n",
       "            date  \n",
       "2828  2019-08-01  \n",
       "2829  2019-08-01  \n",
       "2830  2019-08-01  \n",
       "2831  2019-08-01  \n",
       "2832  2019-08-01  "
      ]
     },
     "execution_count": 13,
     "metadata": {},
     "output_type": "execute_result"
    }
   ],
   "source": [
    "moment = dt.date(2019, 8, 1)\n",
    "actual_data = data.query('date >= @moment')\n",
    "actual_data.head()"
   ]
  },
  {
   "cell_type": "code",
   "execution_count": 14,
   "id": "ba078012-60ed-468b-aef7-c3c423f97281",
   "metadata": {},
   "outputs": [
    {
     "name": "stdout",
     "output_type": "stream",
     "text": [
      "<class 'pandas.core.frame.DataFrame'>\n",
      "Int64Index: 240887 entries, 2828 to 244125\n",
      "Data columns (total 5 columns):\n",
      " #   Column           Non-Null Count   Dtype         \n",
      "---  ------           --------------   -----         \n",
      " 0   event_name       240887 non-null  object        \n",
      " 1   user_id          240887 non-null  int64         \n",
      " 2   event_timestamp  240887 non-null  datetime64[ns]\n",
      " 3   group            240887 non-null  int64         \n",
      " 4   date             240887 non-null  object        \n",
      "dtypes: datetime64[ns](1), int64(2), object(2)\n",
      "memory usage: 11.0+ MB\n"
     ]
    }
   ],
   "source": [
    "actual_data.info()"
   ]
  },
  {
   "cell_type": "code",
   "execution_count": 15,
   "id": "1a2f5d27",
   "metadata": {},
   "outputs": [
    {
     "name": "stdout",
     "output_type": "stream",
     "text": [
      "Количество потерянных логов: 2826\n",
      "Процент потерянных логов: 1.159560630741897\n"
     ]
    }
   ],
   "source": [
    "print('Количество потерянных логов:', len(data) - len(actual_data))\n",
    "print('Процент потерянных логов:', (len(data) - len(actual_data)) / len(data) * 100)"
   ]
  },
  {
   "cell_type": "markdown",
   "id": "e56c4eb9-8f9b-4f6d-aba7-8b877c8ad890",
   "metadata": {},
   "source": [
    "При очистке данных от старых мы потеряли 2826 логов. Это всего лишь 1,16 процента."
   ]
  },
  {
   "cell_type": "code",
   "execution_count": 16,
   "id": "592441e2-96a7-4141-aec9-852e1c48dbf8",
   "metadata": {},
   "outputs": [
    {
     "data": {
      "text/plain": [
       "array([246, 247, 248], dtype=int64)"
      ]
     },
     "execution_count": 16,
     "metadata": {},
     "output_type": "execute_result"
    }
   ],
   "source": [
    "actual_data['group'].unique()"
   ]
  },
  {
   "cell_type": "markdown",
   "id": "7d7fa1bc-8144-41c0-a2d8-4a5442cbf655",
   "metadata": {},
   "source": [
    "#### Вывод"
   ]
  },
  {
   "cell_type": "markdown",
   "id": "2071a61f-ab9a-42b8-ac43-8d4c2b9fac50",
   "metadata": {},
   "source": [
    "При анализе гистограммы дат мы выяснили, что данные до 1 августа - не полные, и откинули их. В новых данных остались пользователи из всех трех экспериментальных групп."
   ]
  },
  {
   "cell_type": "markdown",
   "id": "bc202313-2a1d-43de-a6da-685329fbe157",
   "metadata": {},
   "source": [
    "### Изучение воронки событий"
   ]
  },
  {
   "cell_type": "code",
   "execution_count": 17,
   "id": "79e038b7-64fe-435f-ae7f-cdf9c5e8d42d",
   "metadata": {},
   "outputs": [
    {
     "data": {
      "text/plain": [
       "MainScreenAppear           117328\n",
       "OffersScreenAppear          46333\n",
       "CartScreenAppear            42303\n",
       "PaymentScreenSuccessful     33918\n",
       "Tutorial                     1005\n",
       "Name: event_name, dtype: int64"
      ]
     },
     "execution_count": 17,
     "metadata": {},
     "output_type": "execute_result"
    }
   ],
   "source": [
    "actual_data['event_name'].value_counts()  # проверка событий и их частоты появления в логах"
   ]
  },
  {
   "cell_type": "markdown",
   "id": "6a309c6e-5e85-40a4-853d-b1d53e1bb759",
   "metadata": {},
   "source": [
    "Самое частое событие - демонстрация главного экрана, самое редкое - обучение"
   ]
  },
  {
   "cell_type": "markdown",
   "id": "9c5c5f9c-6235-40b6-9636-a2658950e2ee",
   "metadata": {},
   "source": [
    "Посчитаем, сколько уникальных пользователей совершали каждое из событий "
   ]
  },
  {
   "cell_type": "code",
   "execution_count": 18,
   "id": "696ec2ff-9286-4810-ae0a-f5711f586d6d",
   "metadata": {},
   "outputs": [
    {
     "data": {
      "text/html": [
       "<div>\n",
       "<style scoped>\n",
       "    .dataframe tbody tr th:only-of-type {\n",
       "        vertical-align: middle;\n",
       "    }\n",
       "\n",
       "    .dataframe tbody tr th {\n",
       "        vertical-align: top;\n",
       "    }\n",
       "\n",
       "    .dataframe thead th {\n",
       "        text-align: right;\n",
       "    }\n",
       "</style>\n",
       "<table border=\"1\" class=\"dataframe\">\n",
       "  <thead>\n",
       "    <tr style=\"text-align: right;\">\n",
       "      <th></th>\n",
       "      <th>event_name</th>\n",
       "      <th>user_id</th>\n",
       "    </tr>\n",
       "  </thead>\n",
       "  <tbody>\n",
       "    <tr>\n",
       "      <th>0</th>\n",
       "      <td>MainScreenAppear</td>\n",
       "      <td>7419</td>\n",
       "    </tr>\n",
       "    <tr>\n",
       "      <th>1</th>\n",
       "      <td>OffersScreenAppear</td>\n",
       "      <td>4593</td>\n",
       "    </tr>\n",
       "    <tr>\n",
       "      <th>2</th>\n",
       "      <td>CartScreenAppear</td>\n",
       "      <td>3734</td>\n",
       "    </tr>\n",
       "    <tr>\n",
       "      <th>3</th>\n",
       "      <td>PaymentScreenSuccessful</td>\n",
       "      <td>3539</td>\n",
       "    </tr>\n",
       "    <tr>\n",
       "      <th>4</th>\n",
       "      <td>Tutorial</td>\n",
       "      <td>840</td>\n",
       "    </tr>\n",
       "  </tbody>\n",
       "</table>\n",
       "</div>"
      ],
      "text/plain": [
       "                event_name  user_id\n",
       "0         MainScreenAppear     7419\n",
       "1       OffersScreenAppear     4593\n",
       "2         CartScreenAppear     3734\n",
       "3  PaymentScreenSuccessful     3539\n",
       "4                 Tutorial      840"
      ]
     },
     "execution_count": 18,
     "metadata": {},
     "output_type": "execute_result"
    }
   ],
   "source": [
    "funnel = actual_data.groupby('event_name').agg({'user_id': 'nunique'}).sort_values(by='user_id', ascending=False).reset_index()\n",
    "funnel"
   ]
  },
  {
   "cell_type": "code",
   "execution_count": 19,
   "id": "82d13f7f-c4b1-4de7-9b9b-0292cf63ab48",
   "metadata": {},
   "outputs": [
    {
     "data": {
      "text/html": [
       "<div>\n",
       "<style scoped>\n",
       "    .dataframe tbody tr th:only-of-type {\n",
       "        vertical-align: middle;\n",
       "    }\n",
       "\n",
       "    .dataframe tbody tr th {\n",
       "        vertical-align: top;\n",
       "    }\n",
       "\n",
       "    .dataframe thead th {\n",
       "        text-align: right;\n",
       "    }\n",
       "</style>\n",
       "<table border=\"1\" class=\"dataframe\">\n",
       "  <thead>\n",
       "    <tr style=\"text-align: right;\">\n",
       "      <th></th>\n",
       "      <th>event_name</th>\n",
       "      <th>user_id</th>\n",
       "      <th>conv</th>\n",
       "    </tr>\n",
       "  </thead>\n",
       "  <tbody>\n",
       "    <tr>\n",
       "      <th>0</th>\n",
       "      <td>MainScreenAppear</td>\n",
       "      <td>7419</td>\n",
       "      <td>100.0</td>\n",
       "    </tr>\n",
       "    <tr>\n",
       "      <th>1</th>\n",
       "      <td>OffersScreenAppear</td>\n",
       "      <td>4593</td>\n",
       "      <td>61.9</td>\n",
       "    </tr>\n",
       "    <tr>\n",
       "      <th>2</th>\n",
       "      <td>CartScreenAppear</td>\n",
       "      <td>3734</td>\n",
       "      <td>50.3</td>\n",
       "    </tr>\n",
       "    <tr>\n",
       "      <th>3</th>\n",
       "      <td>PaymentScreenSuccessful</td>\n",
       "      <td>3539</td>\n",
       "      <td>47.7</td>\n",
       "    </tr>\n",
       "    <tr>\n",
       "      <th>4</th>\n",
       "      <td>Tutorial</td>\n",
       "      <td>840</td>\n",
       "      <td>11.3</td>\n",
       "    </tr>\n",
       "  </tbody>\n",
       "</table>\n",
       "</div>"
      ],
      "text/plain": [
       "                event_name  user_id   conv\n",
       "0         MainScreenAppear     7419  100.0\n",
       "1       OffersScreenAppear     4593   61.9\n",
       "2         CartScreenAppear     3734   50.3\n",
       "3  PaymentScreenSuccessful     3539   47.7\n",
       "4                 Tutorial      840   11.3"
      ]
     },
     "execution_count": 19,
     "metadata": {},
     "output_type": "execute_result"
    }
   ],
   "source": [
    "for i in range(len(funnel)):\n",
    "    funnel.loc[i, 'conv'] = round(funnel.iloc[i, 1] / funnel.iloc[0, 1] * 100, 1)\n",
    "funnel"
   ]
  },
  {
   "cell_type": "markdown",
   "id": "64ef6f10-ae9e-4baa-8ced-e1939ea759f1",
   "metadata": {},
   "source": [
    "Предположим, что события выстраиваются в таком порядке: обучение, демонстрация главного экрана, корзины, экрана оплаты, заказов. Из данной цепочки можно логически выделить действие обучения. Оно редковыполняемое и не влияет на совершение покупки. Обучение чаще всего просто пропускают. Уберем его из воронки."
   ]
  },
  {
   "cell_type": "code",
   "execution_count": 20,
   "id": "16819ea4-510a-4633-80c4-b1e0b1a78d24",
   "metadata": {},
   "outputs": [
    {
     "data": {
      "text/html": [
       "<div>\n",
       "<style scoped>\n",
       "    .dataframe tbody tr th:only-of-type {\n",
       "        vertical-align: middle;\n",
       "    }\n",
       "\n",
       "    .dataframe tbody tr th {\n",
       "        vertical-align: top;\n",
       "    }\n",
       "\n",
       "    .dataframe thead th {\n",
       "        text-align: right;\n",
       "    }\n",
       "</style>\n",
       "<table border=\"1\" class=\"dataframe\">\n",
       "  <thead>\n",
       "    <tr style=\"text-align: right;\">\n",
       "      <th></th>\n",
       "      <th>event_name</th>\n",
       "      <th>user_id</th>\n",
       "      <th>conv</th>\n",
       "    </tr>\n",
       "  </thead>\n",
       "  <tbody>\n",
       "    <tr>\n",
       "      <th>0</th>\n",
       "      <td>MainScreenAppear</td>\n",
       "      <td>7419</td>\n",
       "      <td>100.0</td>\n",
       "    </tr>\n",
       "    <tr>\n",
       "      <th>1</th>\n",
       "      <td>OffersScreenAppear</td>\n",
       "      <td>4593</td>\n",
       "      <td>61.9</td>\n",
       "    </tr>\n",
       "    <tr>\n",
       "      <th>2</th>\n",
       "      <td>CartScreenAppear</td>\n",
       "      <td>3734</td>\n",
       "      <td>50.3</td>\n",
       "    </tr>\n",
       "    <tr>\n",
       "      <th>3</th>\n",
       "      <td>PaymentScreenSuccessful</td>\n",
       "      <td>3539</td>\n",
       "      <td>47.7</td>\n",
       "    </tr>\n",
       "  </tbody>\n",
       "</table>\n",
       "</div>"
      ],
      "text/plain": [
       "                event_name  user_id   conv\n",
       "0         MainScreenAppear     7419  100.0\n",
       "1       OffersScreenAppear     4593   61.9\n",
       "2         CartScreenAppear     3734   50.3\n",
       "3  PaymentScreenSuccessful     3539   47.7"
      ]
     },
     "execution_count": 20,
     "metadata": {},
     "output_type": "execute_result"
    }
   ],
   "source": [
    "clear_funnel = funnel.query('event_name == [\"MainScreenAppear\", \"OffersScreenAppear\", \"CartScreenAppear\", \"PaymentScreenSuccessful\"]').reset_index().drop(columns='index')\n",
    "clear_funnel"
   ]
  },
  {
   "cell_type": "markdown",
   "id": "c7b231a9-3a2e-4d11-942f-76b183595781",
   "metadata": {},
   "source": [
    "Посчитаем конверсию каждого шага "
   ]
  },
  {
   "cell_type": "code",
   "execution_count": 21,
   "id": "528ae3fe-43ae-476c-8041-21d02eb49fd3",
   "metadata": {},
   "outputs": [
    {
     "data": {
      "text/html": [
       "<div>\n",
       "<style scoped>\n",
       "    .dataframe tbody tr th:only-of-type {\n",
       "        vertical-align: middle;\n",
       "    }\n",
       "\n",
       "    .dataframe tbody tr th {\n",
       "        vertical-align: top;\n",
       "    }\n",
       "\n",
       "    .dataframe thead th {\n",
       "        text-align: right;\n",
       "    }\n",
       "</style>\n",
       "<table border=\"1\" class=\"dataframe\">\n",
       "  <thead>\n",
       "    <tr style=\"text-align: right;\">\n",
       "      <th></th>\n",
       "      <th>event_name</th>\n",
       "      <th>user_id</th>\n",
       "      <th>conv</th>\n",
       "      <th>step_conv</th>\n",
       "    </tr>\n",
       "  </thead>\n",
       "  <tbody>\n",
       "    <tr>\n",
       "      <th>0</th>\n",
       "      <td>MainScreenAppear</td>\n",
       "      <td>7419</td>\n",
       "      <td>100.0</td>\n",
       "      <td>100.0</td>\n",
       "    </tr>\n",
       "    <tr>\n",
       "      <th>1</th>\n",
       "      <td>OffersScreenAppear</td>\n",
       "      <td>4593</td>\n",
       "      <td>61.9</td>\n",
       "      <td>61.9</td>\n",
       "    </tr>\n",
       "    <tr>\n",
       "      <th>2</th>\n",
       "      <td>CartScreenAppear</td>\n",
       "      <td>3734</td>\n",
       "      <td>50.3</td>\n",
       "      <td>81.3</td>\n",
       "    </tr>\n",
       "    <tr>\n",
       "      <th>3</th>\n",
       "      <td>PaymentScreenSuccessful</td>\n",
       "      <td>3539</td>\n",
       "      <td>47.7</td>\n",
       "      <td>94.8</td>\n",
       "    </tr>\n",
       "  </tbody>\n",
       "</table>\n",
       "</div>"
      ],
      "text/plain": [
       "                event_name  user_id   conv  step_conv\n",
       "0         MainScreenAppear     7419  100.0      100.0\n",
       "1       OffersScreenAppear     4593   61.9       61.9\n",
       "2         CartScreenAppear     3734   50.3       81.3\n",
       "3  PaymentScreenSuccessful     3539   47.7       94.8"
      ]
     },
     "execution_count": 21,
     "metadata": {},
     "output_type": "execute_result"
    }
   ],
   "source": [
    "for i in range(len(clear_funnel)):\n",
    "    if i >= 1:\n",
    "        clear_funnel.loc[i, 'step_conv'] = round(clear_funnel.iloc[i, 1] / clear_funnel.iloc[i-1, 1] * 100, 1)\n",
    "    elif i == 0:\n",
    "        clear_funnel.loc[i, 'step_conv'] = 100.0\n",
    "clear_funnel"
   ]
  },
  {
   "cell_type": "markdown",
   "id": "32800c65-377f-4d81-ac30-7dcf4877c9bc",
   "metadata": {},
   "source": [
    "#### Вывод"
   ]
  },
  {
   "cell_type": "markdown",
   "id": "39e06140-97d3-4d9c-b4ab-157a90e22688",
   "metadata": {},
   "source": [
    "Мы откинули событие \"Tutorial\", т.к. большиство людей пропускает обучение и этот шаг не является обязательным для совершения покупки. При анализе воронки событий, выяснилось, что больше всего покупателей теряется на шаге перехода к заказам. До оплаты доходит только 47,7%."
   ]
  },
  {
   "cell_type": "markdown",
   "id": "f372b570-edcf-424c-a9ec-2749b0174f02",
   "metadata": {},
   "source": [
    "### Изучение результатов эксперимента"
   ]
  },
  {
   "cell_type": "markdown",
   "id": "6b9f1713",
   "metadata": {},
   "source": [
    "Проверим, есть ли пользователи, попавшие сразу в несколько групп"
   ]
  },
  {
   "cell_type": "code",
   "execution_count": 22,
   "id": "a75f1d3d",
   "metadata": {},
   "outputs": [
    {
     "data": {
      "text/html": [
       "<div>\n",
       "<style scoped>\n",
       "    .dataframe tbody tr th:only-of-type {\n",
       "        vertical-align: middle;\n",
       "    }\n",
       "\n",
       "    .dataframe tbody tr th {\n",
       "        vertical-align: top;\n",
       "    }\n",
       "\n",
       "    .dataframe thead th {\n",
       "        text-align: right;\n",
       "    }\n",
       "</style>\n",
       "<table border=\"1\" class=\"dataframe\">\n",
       "  <thead>\n",
       "    <tr style=\"text-align: right;\">\n",
       "      <th></th>\n",
       "      <th>groups</th>\n",
       "      <th>group_names</th>\n",
       "    </tr>\n",
       "    <tr>\n",
       "      <th>user_id</th>\n",
       "      <th></th>\n",
       "      <th></th>\n",
       "    </tr>\n",
       "  </thead>\n",
       "  <tbody>\n",
       "  </tbody>\n",
       "</table>\n",
       "</div>"
      ],
      "text/plain": [
       "Empty DataFrame\n",
       "Columns: [groups, group_names]\n",
       "Index: []"
      ]
     },
     "metadata": {},
     "output_type": "display_data"
    }
   ],
   "source": [
    "duplicated_users = actual_data.groupby('user_id').agg({'group': ['nunique', 'unique']})\n",
    "duplicated_users.columns = ['groups', 'group_names']\n",
    "duplicated_users = duplicated_users.query('groups > 1')\n",
    "display(duplicated_users.head())\n"
   ]
  },
  {
   "cell_type": "markdown",
   "id": "d21c4ced",
   "metadata": {},
   "source": [
    "Таких пользователей не оказалось - все в порядке."
   ]
  },
  {
   "cell_type": "markdown",
   "id": "ea848b4f-ccfc-4af4-bc65-51bc61d5363a",
   "metadata": {},
   "source": [
    "Узнаем, сколько уникальных пользователей в каждой группе. Сравним конверсии по шагам воронки в двух контрольных группах"
   ]
  },
  {
   "cell_type": "code",
   "execution_count": 23,
   "id": "d35a2262-5015-4b60-ad11-3a473603b240",
   "metadata": {},
   "outputs": [
    {
     "data": {
      "text/html": [
       "<div>\n",
       "<style scoped>\n",
       "    .dataframe tbody tr th:only-of-type {\n",
       "        vertical-align: middle;\n",
       "    }\n",
       "\n",
       "    .dataframe tbody tr th {\n",
       "        vertical-align: top;\n",
       "    }\n",
       "\n",
       "    .dataframe thead th {\n",
       "        text-align: right;\n",
       "    }\n",
       "</style>\n",
       "<table border=\"1\" class=\"dataframe\">\n",
       "  <thead>\n",
       "    <tr style=\"text-align: right;\">\n",
       "      <th></th>\n",
       "      <th>user_id</th>\n",
       "    </tr>\n",
       "    <tr>\n",
       "      <th>group</th>\n",
       "      <th></th>\n",
       "    </tr>\n",
       "  </thead>\n",
       "  <tbody>\n",
       "    <tr>\n",
       "      <th>246</th>\n",
       "      <td>2484</td>\n",
       "    </tr>\n",
       "    <tr>\n",
       "      <th>247</th>\n",
       "      <td>2513</td>\n",
       "    </tr>\n",
       "    <tr>\n",
       "      <th>248</th>\n",
       "      <td>2537</td>\n",
       "    </tr>\n",
       "  </tbody>\n",
       "</table>\n",
       "</div>"
      ],
      "text/plain": [
       "       user_id\n",
       "group         \n",
       "246       2484\n",
       "247       2513\n",
       "248       2537"
      ]
     },
     "metadata": {},
     "output_type": "display_data"
    },
    {
     "data": {
      "text/html": [
       "<div>\n",
       "<style scoped>\n",
       "    .dataframe tbody tr th:only-of-type {\n",
       "        vertical-align: middle;\n",
       "    }\n",
       "\n",
       "    .dataframe tbody tr th {\n",
       "        vertical-align: top;\n",
       "    }\n",
       "\n",
       "    .dataframe thead th {\n",
       "        text-align: right;\n",
       "    }\n",
       "</style>\n",
       "<table border=\"1\" class=\"dataframe\">\n",
       "  <thead>\n",
       "    <tr style=\"text-align: right;\">\n",
       "      <th>group</th>\n",
       "      <th>246</th>\n",
       "      <th>247</th>\n",
       "      <th>248</th>\n",
       "    </tr>\n",
       "    <tr>\n",
       "      <th>event_name</th>\n",
       "      <th></th>\n",
       "      <th></th>\n",
       "      <th></th>\n",
       "    </tr>\n",
       "  </thead>\n",
       "  <tbody>\n",
       "    <tr>\n",
       "      <th>MainScreenAppear</th>\n",
       "      <td>2450</td>\n",
       "      <td>2476</td>\n",
       "      <td>2493</td>\n",
       "    </tr>\n",
       "    <tr>\n",
       "      <th>OffersScreenAppear</th>\n",
       "      <td>1542</td>\n",
       "      <td>1520</td>\n",
       "      <td>1531</td>\n",
       "    </tr>\n",
       "    <tr>\n",
       "      <th>CartScreenAppear</th>\n",
       "      <td>1266</td>\n",
       "      <td>1238</td>\n",
       "      <td>1230</td>\n",
       "    </tr>\n",
       "    <tr>\n",
       "      <th>PaymentScreenSuccessful</th>\n",
       "      <td>1200</td>\n",
       "      <td>1158</td>\n",
       "      <td>1181</td>\n",
       "    </tr>\n",
       "    <tr>\n",
       "      <th>Tutorial</th>\n",
       "      <td>278</td>\n",
       "      <td>283</td>\n",
       "      <td>279</td>\n",
       "    </tr>\n",
       "  </tbody>\n",
       "</table>\n",
       "</div>"
      ],
      "text/plain": [
       "group                     246   247   248\n",
       "event_name                               \n",
       "MainScreenAppear         2450  2476  2493\n",
       "OffersScreenAppear       1542  1520  1531\n",
       "CartScreenAppear         1266  1238  1230\n",
       "PaymentScreenSuccessful  1200  1158  1181\n",
       "Tutorial                  278   283   279"
      ]
     },
     "metadata": {},
     "output_type": "display_data"
    }
   ],
   "source": [
    "def check_hypothesis(successes1, successes2, trials1, trials2):   # функция для проверки статистической значимости различий в конверсиях\n",
    "    p1 = successes1/trials1\n",
    "    p2 = successes2/trials2\n",
    "    p_combined = (successes1 + successes2) / (trials1 + trials2)\n",
    "    difference = p1 - p2\n",
    "    z_value = difference / math.sqrt(p_combined * (1 - p_combined) * (1/trials1 + 1/trials2))\n",
    "    distr = stats.norm(0, 1)\n",
    "    p_value = (1 - distr.cdf(abs(z_value))) * 2\n",
    "    return p_value\n",
    "\n",
    "trials = actual_data.groupby('group').agg({'user_id': 'nunique'})\n",
    "display(trials)\n",
    "funnel_by_groups = actual_data.pivot_table(index='event_name', columns = 'group', values = 'user_id', aggfunc='nunique').sort_values(by=246, ascending=False) # отсортируем по убыванию количества в одной из групп, потому что распределение в группах по событиям идет примерно одинаковое\n",
    "display(funnel_by_groups)"
   ]
  },
  {
   "cell_type": "markdown",
   "id": "ea1b8018-1e4e-4326-81dd-0dfc473f2f1c",
   "metadata": {},
   "source": [
    "Посчитаем статистическую значимость методом проверки гипотезы о равенстве долей (z-test). Критический уровнь значимости обозначим на уровне 0.05. Сформулируем гипотезы:\n",
    "    нулевая гипотеза - различий между выборками на данном шаге нет, альтернативная - различия есть"
   ]
  },
  {
   "cell_type": "code",
   "execution_count": 24,
   "id": "8a8e4c0b-363c-4d1a-ad98-9551110112b7",
   "metadata": {},
   "outputs": [
    {
     "data": {
      "text/html": [
       "<div>\n",
       "<style scoped>\n",
       "    .dataframe tbody tr th:only-of-type {\n",
       "        vertical-align: middle;\n",
       "    }\n",
       "\n",
       "    .dataframe tbody tr th {\n",
       "        vertical-align: top;\n",
       "    }\n",
       "\n",
       "    .dataframe thead th {\n",
       "        text-align: right;\n",
       "    }\n",
       "</style>\n",
       "<table border=\"1\" class=\"dataframe\">\n",
       "  <thead>\n",
       "    <tr style=\"text-align: right;\">\n",
       "      <th>group</th>\n",
       "      <th>246</th>\n",
       "      <th>247</th>\n",
       "      <th>248</th>\n",
       "      <th>p_value_246/247</th>\n",
       "      <th>p_value_247/248</th>\n",
       "      <th>p_value_246/248</th>\n",
       "    </tr>\n",
       "    <tr>\n",
       "      <th>event_name</th>\n",
       "      <th></th>\n",
       "      <th></th>\n",
       "      <th></th>\n",
       "      <th></th>\n",
       "      <th></th>\n",
       "      <th></th>\n",
       "    </tr>\n",
       "  </thead>\n",
       "  <tbody>\n",
       "    <tr>\n",
       "      <th>MainScreenAppear</th>\n",
       "      <td>2450</td>\n",
       "      <td>2476</td>\n",
       "      <td>2493</td>\n",
       "      <td>0.757060</td>\n",
       "      <td>0.458705</td>\n",
       "      <td>0.294972</td>\n",
       "    </tr>\n",
       "    <tr>\n",
       "      <th>OffersScreenAppear</th>\n",
       "      <td>1542</td>\n",
       "      <td>1520</td>\n",
       "      <td>1531</td>\n",
       "      <td>0.248095</td>\n",
       "      <td>0.919782</td>\n",
       "      <td>0.208362</td>\n",
       "    </tr>\n",
       "    <tr>\n",
       "      <th>CartScreenAppear</th>\n",
       "      <td>1266</td>\n",
       "      <td>1238</td>\n",
       "      <td>1230</td>\n",
       "      <td>0.228834</td>\n",
       "      <td>0.578620</td>\n",
       "      <td>0.078429</td>\n",
       "    </tr>\n",
       "    <tr>\n",
       "      <th>PaymentScreenSuccessful</th>\n",
       "      <td>1200</td>\n",
       "      <td>1158</td>\n",
       "      <td>1181</td>\n",
       "      <td>0.114567</td>\n",
       "      <td>0.737342</td>\n",
       "      <td>0.212255</td>\n",
       "    </tr>\n",
       "    <tr>\n",
       "      <th>Tutorial</th>\n",
       "      <td>278</td>\n",
       "      <td>283</td>\n",
       "      <td>279</td>\n",
       "      <td>0.937700</td>\n",
       "      <td>0.765324</td>\n",
       "      <td>0.826429</td>\n",
       "    </tr>\n",
       "  </tbody>\n",
       "</table>\n",
       "</div>"
      ],
      "text/plain": [
       "group                     246   247   248  p_value_246/247  p_value_247/248  \\\n",
       "event_name                                                                    \n",
       "MainScreenAppear         2450  2476  2493         0.757060         0.458705   \n",
       "OffersScreenAppear       1542  1520  1531         0.248095         0.919782   \n",
       "CartScreenAppear         1266  1238  1230         0.228834         0.578620   \n",
       "PaymentScreenSuccessful  1200  1158  1181         0.114567         0.737342   \n",
       "Tutorial                  278   283   279         0.937700         0.765324   \n",
       "\n",
       "group                    p_value_246/248  \n",
       "event_name                                \n",
       "MainScreenAppear                0.294972  \n",
       "OffersScreenAppear              0.208362  \n",
       "CartScreenAppear                0.078429  \n",
       "PaymentScreenSuccessful         0.212255  \n",
       "Tutorial                        0.826429  "
      ]
     },
     "execution_count": 24,
     "metadata": {},
     "output_type": "execute_result"
    }
   ],
   "source": [
    "for event in data['event_name'].unique():\n",
    "    funnel_by_groups.loc[event, 'p_value_246/247'] = check_hypothesis(funnel_by_groups.loc[event, 246], funnel_by_groups.loc[event, 247],\n",
    "                                       trials.loc[246].values[0], trials.loc[247].values[0])\n",
    "    funnel_by_groups.loc[event, 'p_value_247/248'] =  check_hypothesis(funnel_by_groups.loc[event, 247], funnel_by_groups.loc[event, 248],\n",
    "                                       trials.loc[247].values[0], trials.loc[248].values[0])\n",
    "    funnel_by_groups.loc[event, 'p_value_246/248'] =  check_hypothesis(funnel_by_groups.loc[event, 246], funnel_by_groups.loc[event, 248],\n",
    "                                       trials.loc[246].values[0], trials.loc[248].values[0])\n",
    "funnel_by_groups   "
   ]
  },
  {
   "cell_type": "markdown",
   "id": "8ab1c9d6-7974-40f2-9a8e-65489ad9df37",
   "metadata": {},
   "source": [
    "Как видно, все значения p_value в датафрейме существенно превышают критический уровень значимости - значит различий между выборками нет и все механизмы и расчеты корректны. Можно сказать, что разбиение на группы работает корректно."
   ]
  },
  {
   "cell_type": "markdown",
   "id": "a13a6775-d571-4ce4-9dc9-2b0e1367031b",
   "metadata": {},
   "source": [
    "Объединим контрольные группы  в одну и сравним ее результаты с экспериментальной. Критический уровень значимости оставим прежний - 0,05. Повторно сформулируем гипотезы: нулевая гипотеза - различий между выборками на данном шаге нет, альтернативная - различия есть"
   ]
  },
  {
   "cell_type": "code",
   "execution_count": 25,
   "id": "bf97c9ac-8e44-48e0-9078-d6e1cb935aee",
   "metadata": {},
   "outputs": [
    {
     "data": {
      "text/html": [
       "<div>\n",
       "<style scoped>\n",
       "    .dataframe tbody tr th:only-of-type {\n",
       "        vertical-align: middle;\n",
       "    }\n",
       "\n",
       "    .dataframe tbody tr th {\n",
       "        vertical-align: top;\n",
       "    }\n",
       "\n",
       "    .dataframe thead th {\n",
       "        text-align: right;\n",
       "    }\n",
       "</style>\n",
       "<table border=\"1\" class=\"dataframe\">\n",
       "  <thead>\n",
       "    <tr style=\"text-align: right;\">\n",
       "      <th>group</th>\n",
       "      <th>246</th>\n",
       "      <th>247</th>\n",
       "      <th>248</th>\n",
       "      <th>246_and_247</th>\n",
       "      <th>p_value</th>\n",
       "    </tr>\n",
       "    <tr>\n",
       "      <th>event_name</th>\n",
       "      <th></th>\n",
       "      <th></th>\n",
       "      <th></th>\n",
       "      <th></th>\n",
       "      <th></th>\n",
       "    </tr>\n",
       "  </thead>\n",
       "  <tbody>\n",
       "    <tr>\n",
       "      <th>MainScreenAppear</th>\n",
       "      <td>2450</td>\n",
       "      <td>2476</td>\n",
       "      <td>2493</td>\n",
       "      <td>4926</td>\n",
       "      <td>0.294245</td>\n",
       "    </tr>\n",
       "    <tr>\n",
       "      <th>OffersScreenAppear</th>\n",
       "      <td>1542</td>\n",
       "      <td>1520</td>\n",
       "      <td>1531</td>\n",
       "      <td>3062</td>\n",
       "      <td>0.434255</td>\n",
       "    </tr>\n",
       "    <tr>\n",
       "      <th>CartScreenAppear</th>\n",
       "      <td>1266</td>\n",
       "      <td>1238</td>\n",
       "      <td>1230</td>\n",
       "      <td>2504</td>\n",
       "      <td>0.181759</td>\n",
       "    </tr>\n",
       "    <tr>\n",
       "      <th>PaymentScreenSuccessful</th>\n",
       "      <td>1200</td>\n",
       "      <td>1158</td>\n",
       "      <td>1181</td>\n",
       "      <td>2358</td>\n",
       "      <td>0.600429</td>\n",
       "    </tr>\n",
       "    <tr>\n",
       "      <th>Tutorial</th>\n",
       "      <td>278</td>\n",
       "      <td>283</td>\n",
       "      <td>279</td>\n",
       "      <td>561</td>\n",
       "      <td>0.764862</td>\n",
       "    </tr>\n",
       "  </tbody>\n",
       "</table>\n",
       "</div>"
      ],
      "text/plain": [
       "group                     246   247   248  246_and_247   p_value\n",
       "event_name                                                      \n",
       "MainScreenAppear         2450  2476  2493         4926  0.294245\n",
       "OffersScreenAppear       1542  1520  1531         3062  0.434255\n",
       "CartScreenAppear         1266  1238  1230         2504  0.181759\n",
       "PaymentScreenSuccessful  1200  1158  1181         2358  0.600429\n",
       "Tutorial                  278   283   279          561  0.764862"
      ]
     },
     "execution_count": 25,
     "metadata": {},
     "output_type": "execute_result"
    }
   ],
   "source": [
    "funnel_comb = actual_data.pivot_table(index='event_name', columns = 'group', values = 'user_id', aggfunc='nunique').sort_values(by=246, ascending=False) # отсортируем по убыванию количества в одной из групп, потому что распределение в группах по событиям идет примерно одинаковое\n",
    "funnel_comb['246_and_247'] = funnel_comb[246] + funnel_comb[247]\n",
    "\n",
    "for event in data['event_name'].unique():\n",
    "    funnel_comb.loc[event, 'p_value'] = check_hypothesis(funnel_comb.loc[event, 248], funnel_comb.loc[event, '246_and_247'],\n",
    "                                       trials.loc[248].values[0], (trials.loc[246].values[0] + trials.loc[247].values[0]))\n",
    "\n",
    "funnel_comb"
   ]
  },
  {
   "cell_type": "markdown",
   "id": "eaeac8bb-4a05-4c9b-8529-486c3909d4d5",
   "metadata": {},
   "source": [
    "Нулевая гипотеза снова не опровергнута - статистических различий в выборках нет"
   ]
  },
  {
   "cell_type": "markdown",
   "id": "6060ce4d-7859-40c7-b0a7-2a4ffb4d8684",
   "metadata": {},
   "source": [
    "### Вывод"
   ]
  },
  {
   "cell_type": "markdown",
   "id": "d41d27a8-f595-4a87-8a9e-930a5215f0df",
   "metadata": {},
   "source": [
    "В ходе данного проекта мы получили и подготовили данные, изучили и проверили их на аномалии. Далее мы построили и изучили воронку событий и изучили результаты эксперимента с помощью проверки гипотез о равенстве долей.\n",
    "В ходе проверки дат и анализа гистограммы дат мы выяснили, что данные до 1 августа - не полные, и откинули их. В новых данных остались пользователи из всех трех экспериментальных групп.\n",
    "При анализе воронки отбросили событие \"Tutorial\", т.к. большиство людей пропускает обучение и этот шаг не является обязательным для совершения покупки. А также выяснили, что больше всего покупателей теряется на шаге перехода к заказам. До оплаты доходит только 47,7%.\n",
    "При изучении результатов эксперимента различий между выборками не выявлено. Это значит, что все механизмы и расчеты корректны, разбиение на группы работает правильно. Мы брали критический уровень значимости 0.05. Даже если бы взяли меньше, например 0.1, то гипотезы была бы опровергнута только в одном из 20 сравнений. "
   ]
  }
 ],
 "metadata": {
  "ExecuteTimeLog": [
   {
    "duration": 1494,
    "start_time": "2022-06-05T09:18:04.592Z"
   },
   {
    "duration": 771,
    "start_time": "2022-06-05T09:18:06.088Z"
   },
   {
    "duration": 8,
    "start_time": "2022-06-05T09:18:06.861Z"
   },
   {
    "duration": 32,
    "start_time": "2022-06-05T09:18:06.871Z"
   },
   {
    "duration": 20,
    "start_time": "2022-06-05T09:18:06.905Z"
   },
   {
    "duration": 17,
    "start_time": "2022-06-05T09:18:06.927Z"
   },
   {
    "duration": 91,
    "start_time": "2022-06-05T09:18:06.946Z"
   },
   {
    "duration": 141,
    "start_time": "2022-06-05T09:18:07.039Z"
   },
   {
    "duration": 92,
    "start_time": "2022-06-05T09:18:07.182Z"
   },
   {
    "duration": 25,
    "start_time": "2022-06-05T09:18:07.277Z"
   },
   {
    "duration": 12,
    "start_time": "2022-06-05T09:18:07.303Z"
   },
   {
    "duration": 1407,
    "start_time": "2022-06-05T09:18:07.317Z"
   },
   {
    "duration": 41,
    "start_time": "2022-06-05T09:18:08.726Z"
   },
   {
    "duration": 53,
    "start_time": "2022-06-05T09:18:08.769Z"
   },
   {
    "duration": 5,
    "start_time": "2022-06-05T09:18:08.824Z"
   },
   {
    "duration": 26,
    "start_time": "2022-06-05T09:18:08.831Z"
   },
   {
    "duration": 89,
    "start_time": "2022-06-05T09:18:08.859Z"
   },
   {
    "duration": 12,
    "start_time": "2022-06-05T09:18:08.949Z"
   },
   {
    "duration": 42,
    "start_time": "2022-06-05T09:18:08.963Z"
   },
   {
    "duration": 14,
    "start_time": "2022-06-05T09:18:09.006Z"
   },
   {
    "duration": 148,
    "start_time": "2022-06-05T09:18:09.021Z"
   },
   {
    "duration": 68,
    "start_time": "2022-06-05T09:18:09.173Z"
   },
   {
    "duration": 160,
    "start_time": "2022-06-05T09:18:09.243Z"
   },
   {
    "duration": 1694,
    "start_time": "2022-06-05T11:23:58.151Z"
   },
   {
    "duration": 715,
    "start_time": "2022-06-05T11:23:59.848Z"
   },
   {
    "duration": 10,
    "start_time": "2022-06-05T11:24:00.564Z"
   },
   {
    "duration": 71,
    "start_time": "2022-06-05T11:24:00.576Z"
   },
   {
    "duration": 53,
    "start_time": "2022-06-05T11:24:00.652Z"
   },
   {
    "duration": 16,
    "start_time": "2022-06-05T11:24:00.707Z"
   },
   {
    "duration": 138,
    "start_time": "2022-06-05T11:24:00.725Z"
   },
   {
    "duration": 143,
    "start_time": "2022-06-05T11:24:00.868Z"
   },
   {
    "duration": 103,
    "start_time": "2022-06-05T11:24:01.013Z"
   },
   {
    "duration": 62,
    "start_time": "2022-06-05T11:24:01.118Z"
   },
   {
    "duration": 11,
    "start_time": "2022-06-05T11:24:01.182Z"
   },
   {
    "duration": 1995,
    "start_time": "2022-06-05T11:24:01.195Z"
   },
   {
    "duration": 72,
    "start_time": "2022-06-05T11:24:03.192Z"
   },
   {
    "duration": 44,
    "start_time": "2022-06-05T11:24:03.268Z"
   },
   {
    "duration": 20,
    "start_time": "2022-06-05T11:24:03.313Z"
   },
   {
    "duration": 68,
    "start_time": "2022-06-05T11:24:03.335Z"
   },
   {
    "duration": 53,
    "start_time": "2022-06-05T11:24:03.405Z"
   },
   {
    "duration": 127,
    "start_time": "2022-06-05T11:24:03.460Z"
   },
   {
    "duration": 23,
    "start_time": "2022-06-05T11:24:03.590Z"
   },
   {
    "duration": 30,
    "start_time": "2022-06-05T11:24:03.617Z"
   },
   {
    "duration": 27,
    "start_time": "2022-06-05T11:24:03.649Z"
   },
   {
    "duration": 190,
    "start_time": "2022-06-05T11:24:03.678Z"
   },
   {
    "duration": 78,
    "start_time": "2022-06-05T11:24:03.869Z"
   },
   {
    "duration": 143,
    "start_time": "2022-06-05T11:24:03.949Z"
   },
   {
    "duration": 810,
    "start_time": "2022-06-05T11:27:01.446Z"
   }
  ],
  "kernelspec": {
   "display_name": "Python 3",
   "language": "python",
   "name": "python3"
  },
  "language_info": {
   "codemirror_mode": {
    "name": "ipython",
    "version": 3
   },
   "file_extension": ".py",
   "mimetype": "text/x-python",
   "name": "python",
   "nbconvert_exporter": "python",
   "pygments_lexer": "ipython3",
   "version": "3.8.7"
  },
  "toc": {
   "base_numbering": 1,
   "nav_menu": {},
   "number_sections": true,
   "sideBar": true,
   "skip_h1_title": true,
   "title_cell": "Table of Contents",
   "title_sidebar": "Contents",
   "toc_cell": false,
   "toc_position": {
    "height": "calc(100% - 180px)",
    "left": "10px",
    "top": "150px",
    "width": "319.188px"
   },
   "toc_section_display": true,
   "toc_window_display": true
  }
 },
 "nbformat": 4,
 "nbformat_minor": 5
}
