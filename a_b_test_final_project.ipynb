{
 "cells": [
  {
   "cell_type": "markdown",
   "id": "bored-belle",
   "metadata": {},
   "source": [
    "<b><font size=5><center>Оценка результатов А/В теста, связанного с внедрением улучшенной рекомендательной системы. Финальный проект.</center></font></b>"
   ]
  },
  {
   "cell_type": "markdown",
   "id": "medieval-brooklyn",
   "metadata": {},
   "source": [
    "### Цель исследования"
   ]
  },
  {
   "cell_type": "markdown",
   "id": "proof-height",
   "metadata": {},
   "source": [
    "Изучить результаты тестирования изменений, связанных с внедрением улучшенной рекомендательной системы.\n",
    "Для этого мы проведем:\n",
    "- Оценка корректности проведения теста;\n",
    "- Анализ результатов теста\n",
    "\n",
    "Чтобы оценить корректность проведения теста, проверим:\n",
    "\n",
    "- пересечение тестовой аудитории с конкурирующим тестом,\n",
    "- совпадение теста и маркетинговых событий, другие проблемы временных границ теста."
   ]
  },
  {
   "cell_type": "markdown",
   "id": "individual-myrtle",
   "metadata": {},
   "source": [
    "### Техническое задание"
   ]
  },
  {
   "cell_type": "markdown",
   "id": "authentic-lawyer",
   "metadata": {},
   "source": [
    "- Название теста: `recommender_system_test`;\n",
    "- группы: А — контрольная, B — новая платёжная воронка;\n",
    "- дата запуска: 2020-12-07;\n",
    "- дата остановки набора новых пользователей: 2020-12-21;\n",
    "- дата остановки: 2021-01-04;\n",
    "- аудитория: 15% новых пользователей из региона EU;\n",
    "- назначение теста: тестирование изменений, связанных с внедрением улучшенной рекомендательной системы;\n",
    "- ожидаемое количество участников теста: 6000.\n",
    "- ожидаемый эффект: за 14 дней с момента регистрации пользователи покажут улучшение каждой метрики не менее, чем на 10%:\n",
    "    - конверсии в просмотр карточек товаров — событие `product_page`,\n",
    "    - просмотры корзины — `product_cart`,\n",
    "    - покупки — `purchase`."
   ]
  },
  {
   "cell_type": "markdown",
   "id": "coordinated-lottery",
   "metadata": {},
   "source": [
    "### Описание данных"
   ]
  },
  {
   "cell_type": "markdown",
   "id": "solved-federation",
   "metadata": {},
   "source": [
    "`ab_project_marketing_events.csv` — календарь маркетинговых событий на 2020 год.\n",
    "\n",
    "Структура файла:\n",
    "\n",
    "- `name` — название маркетингового события;\n",
    "- `regions` — регионы, в которых будет проводиться рекламная кампания;\n",
    "- `start_dt` — дата начала кампании;\n",
    "- `finish_dt` — дата завершения кампании.\n",
    "\n",
    "`final_ab_new_users.csv` — пользователи, зарегистрировавшиеся с 7 по 21 декабря 2020 года.\n",
    "\n",
    "Структура файла:\n",
    "\n",
    "- `user_id` — идентификатор пользователя;\n",
    "- `first_date` — дата регистрации;\n",
    "- `region` — регион пользователя;\n",
    "- `device` — устройство, с которого происходила регистрация.\n",
    "\n",
    "`final_ab_events.csv` — действия новых пользователей в период с 7 декабря 2020 по 4 января 2021 года.\n",
    "\n",
    "Структура файла:\n",
    "\n",
    "- `user_id` — идентификатор пользователя;\n",
    "- `event_dt` — дата и время покупки;\n",
    "- `event_name` — тип события;\n",
    "- `details` — дополнительные данные о событии. Например, для покупок, `purchase,` в этом поле хранится стоимость покупки в долларах.\n",
    "\n",
    "`final_ab_participants.csv` — таблица участников тестов.\n",
    "\n",
    "Структура файла:\n",
    "\n",
    "- `user_id` — идентификатор пользователя;\n",
    "- `ab_test` — название теста;\n",
    "- `group` — группа пользователя."
   ]
  },
  {
   "cell_type": "markdown",
   "id": "interesting-deviation",
   "metadata": {},
   "source": [
    "### Описание проекта"
   ]
  },
  {
   "cell_type": "markdown",
   "id": "violent-comparison",
   "metadata": {},
   "source": [
    "Мы получили данные проведения А/В теста, проверили их на аномалии, проработали типы данных. Также мы проверили корректность проведения теста и почистили данные. Построили графики распределения и воронку событий с конверсией. Провели оценку результатов теста с помощью z-критерия. "
   ]
  },
  {
   "cell_type": "markdown",
   "id": "iraqi-stranger",
   "metadata": {},
   "source": [
    "### Получение, проверка и подготовка данных"
   ]
  },
  {
   "cell_type": "code",
   "execution_count": 1,
   "id": "engaging-settlement",
   "metadata": {},
   "outputs": [],
   "source": [
    "import pandas as pd                     # импорт библиотек\n",
    "import numpy as np\n",
    "import matplotlib.pyplot as plt\n",
    "import seaborn as sns\n",
    "import scipy.stats as stats\n",
    "import datetime as dt\n",
    "import math\n",
    "import warnings\n",
    "warnings.filterwarnings('ignore')"
   ]
  },
  {
   "cell_type": "code",
   "execution_count": 2,
   "id": "floppy-polish",
   "metadata": {
    "scrolled": true
   },
   "outputs": [
    {
     "data": {
      "text/html": [
       "<div>\n",
       "<style scoped>\n",
       "    .dataframe tbody tr th:only-of-type {\n",
       "        vertical-align: middle;\n",
       "    }\n",
       "\n",
       "    .dataframe tbody tr th {\n",
       "        vertical-align: top;\n",
       "    }\n",
       "\n",
       "    .dataframe thead th {\n",
       "        text-align: right;\n",
       "    }\n",
       "</style>\n",
       "<table border=\"1\" class=\"dataframe\">\n",
       "  <thead>\n",
       "    <tr style=\"text-align: right;\">\n",
       "      <th></th>\n",
       "      <th>user_id</th>\n",
       "      <th>event_dt</th>\n",
       "      <th>event_name</th>\n",
       "      <th>details</th>\n",
       "    </tr>\n",
       "  </thead>\n",
       "  <tbody>\n",
       "    <tr>\n",
       "      <th>0</th>\n",
       "      <td>E1BDDCE0DAFA2679</td>\n",
       "      <td>2020-12-07 20:22:03</td>\n",
       "      <td>purchase</td>\n",
       "      <td>99.99</td>\n",
       "    </tr>\n",
       "    <tr>\n",
       "      <th>1</th>\n",
       "      <td>7B6452F081F49504</td>\n",
       "      <td>2020-12-07 09:22:53</td>\n",
       "      <td>purchase</td>\n",
       "      <td>9.99</td>\n",
       "    </tr>\n",
       "    <tr>\n",
       "      <th>2</th>\n",
       "      <td>9CD9F34546DF254C</td>\n",
       "      <td>2020-12-07 12:59:29</td>\n",
       "      <td>purchase</td>\n",
       "      <td>4.99</td>\n",
       "    </tr>\n",
       "    <tr>\n",
       "      <th>3</th>\n",
       "      <td>96F27A054B191457</td>\n",
       "      <td>2020-12-07 04:02:40</td>\n",
       "      <td>purchase</td>\n",
       "      <td>4.99</td>\n",
       "    </tr>\n",
       "    <tr>\n",
       "      <th>4</th>\n",
       "      <td>1FD7660FDF94CA1F</td>\n",
       "      <td>2020-12-07 10:15:09</td>\n",
       "      <td>purchase</td>\n",
       "      <td>4.99</td>\n",
       "    </tr>\n",
       "  </tbody>\n",
       "</table>\n",
       "</div>"
      ],
      "text/plain": [
       "            user_id             event_dt event_name  details\n",
       "0  E1BDDCE0DAFA2679  2020-12-07 20:22:03   purchase    99.99\n",
       "1  7B6452F081F49504  2020-12-07 09:22:53   purchase     9.99\n",
       "2  9CD9F34546DF254C  2020-12-07 12:59:29   purchase     4.99\n",
       "3  96F27A054B191457  2020-12-07 04:02:40   purchase     4.99\n",
       "4  1FD7660FDF94CA1F  2020-12-07 10:15:09   purchase     4.99"
      ]
     },
     "metadata": {},
     "output_type": "display_data"
    },
    {
     "data": {
      "text/html": [
       "<div>\n",
       "<style scoped>\n",
       "    .dataframe tbody tr th:only-of-type {\n",
       "        vertical-align: middle;\n",
       "    }\n",
       "\n",
       "    .dataframe tbody tr th {\n",
       "        vertical-align: top;\n",
       "    }\n",
       "\n",
       "    .dataframe thead th {\n",
       "        text-align: right;\n",
       "    }\n",
       "</style>\n",
       "<table border=\"1\" class=\"dataframe\">\n",
       "  <thead>\n",
       "    <tr style=\"text-align: right;\">\n",
       "      <th></th>\n",
       "      <th>name</th>\n",
       "      <th>regions</th>\n",
       "      <th>start_dt</th>\n",
       "      <th>finish_dt</th>\n",
       "    </tr>\n",
       "  </thead>\n",
       "  <tbody>\n",
       "    <tr>\n",
       "      <th>0</th>\n",
       "      <td>Christmas&amp;New Year Promo</td>\n",
       "      <td>EU, N.America</td>\n",
       "      <td>2020-12-25</td>\n",
       "      <td>2021-01-03</td>\n",
       "    </tr>\n",
       "    <tr>\n",
       "      <th>1</th>\n",
       "      <td>St. Valentine's Day Giveaway</td>\n",
       "      <td>EU, CIS, APAC, N.America</td>\n",
       "      <td>2020-02-14</td>\n",
       "      <td>2020-02-16</td>\n",
       "    </tr>\n",
       "    <tr>\n",
       "      <th>2</th>\n",
       "      <td>St. Patric's Day Promo</td>\n",
       "      <td>EU, N.America</td>\n",
       "      <td>2020-03-17</td>\n",
       "      <td>2020-03-19</td>\n",
       "    </tr>\n",
       "    <tr>\n",
       "      <th>3</th>\n",
       "      <td>Easter Promo</td>\n",
       "      <td>EU, CIS, APAC, N.America</td>\n",
       "      <td>2020-04-12</td>\n",
       "      <td>2020-04-19</td>\n",
       "    </tr>\n",
       "    <tr>\n",
       "      <th>4</th>\n",
       "      <td>4th of July Promo</td>\n",
       "      <td>N.America</td>\n",
       "      <td>2020-07-04</td>\n",
       "      <td>2020-07-11</td>\n",
       "    </tr>\n",
       "  </tbody>\n",
       "</table>\n",
       "</div>"
      ],
      "text/plain": [
       "                           name                   regions    start_dt  \\\n",
       "0      Christmas&New Year Promo             EU, N.America  2020-12-25   \n",
       "1  St. Valentine's Day Giveaway  EU, CIS, APAC, N.America  2020-02-14   \n",
       "2        St. Patric's Day Promo             EU, N.America  2020-03-17   \n",
       "3                  Easter Promo  EU, CIS, APAC, N.America  2020-04-12   \n",
       "4             4th of July Promo                 N.America  2020-07-04   \n",
       "\n",
       "    finish_dt  \n",
       "0  2021-01-03  \n",
       "1  2020-02-16  \n",
       "2  2020-03-19  \n",
       "3  2020-04-19  \n",
       "4  2020-07-11  "
      ]
     },
     "metadata": {},
     "output_type": "display_data"
    },
    {
     "data": {
      "text/html": [
       "<div>\n",
       "<style scoped>\n",
       "    .dataframe tbody tr th:only-of-type {\n",
       "        vertical-align: middle;\n",
       "    }\n",
       "\n",
       "    .dataframe tbody tr th {\n",
       "        vertical-align: top;\n",
       "    }\n",
       "\n",
       "    .dataframe thead th {\n",
       "        text-align: right;\n",
       "    }\n",
       "</style>\n",
       "<table border=\"1\" class=\"dataframe\">\n",
       "  <thead>\n",
       "    <tr style=\"text-align: right;\">\n",
       "      <th></th>\n",
       "      <th>user_id</th>\n",
       "      <th>first_date</th>\n",
       "      <th>region</th>\n",
       "      <th>device</th>\n",
       "    </tr>\n",
       "  </thead>\n",
       "  <tbody>\n",
       "    <tr>\n",
       "      <th>0</th>\n",
       "      <td>D72A72121175D8BE</td>\n",
       "      <td>2020-12-07</td>\n",
       "      <td>EU</td>\n",
       "      <td>PC</td>\n",
       "    </tr>\n",
       "    <tr>\n",
       "      <th>1</th>\n",
       "      <td>F1C668619DFE6E65</td>\n",
       "      <td>2020-12-07</td>\n",
       "      <td>N.America</td>\n",
       "      <td>Android</td>\n",
       "    </tr>\n",
       "    <tr>\n",
       "      <th>2</th>\n",
       "      <td>2E1BF1D4C37EA01F</td>\n",
       "      <td>2020-12-07</td>\n",
       "      <td>EU</td>\n",
       "      <td>PC</td>\n",
       "    </tr>\n",
       "    <tr>\n",
       "      <th>3</th>\n",
       "      <td>50734A22C0C63768</td>\n",
       "      <td>2020-12-07</td>\n",
       "      <td>EU</td>\n",
       "      <td>iPhone</td>\n",
       "    </tr>\n",
       "    <tr>\n",
       "      <th>4</th>\n",
       "      <td>E1BDDCE0DAFA2679</td>\n",
       "      <td>2020-12-07</td>\n",
       "      <td>N.America</td>\n",
       "      <td>iPhone</td>\n",
       "    </tr>\n",
       "  </tbody>\n",
       "</table>\n",
       "</div>"
      ],
      "text/plain": [
       "            user_id  first_date     region   device\n",
       "0  D72A72121175D8BE  2020-12-07         EU       PC\n",
       "1  F1C668619DFE6E65  2020-12-07  N.America  Android\n",
       "2  2E1BF1D4C37EA01F  2020-12-07         EU       PC\n",
       "3  50734A22C0C63768  2020-12-07         EU   iPhone\n",
       "4  E1BDDCE0DAFA2679  2020-12-07  N.America   iPhone"
      ]
     },
     "metadata": {},
     "output_type": "display_data"
    },
    {
     "data": {
      "text/html": [
       "<div>\n",
       "<style scoped>\n",
       "    .dataframe tbody tr th:only-of-type {\n",
       "        vertical-align: middle;\n",
       "    }\n",
       "\n",
       "    .dataframe tbody tr th {\n",
       "        vertical-align: top;\n",
       "    }\n",
       "\n",
       "    .dataframe thead th {\n",
       "        text-align: right;\n",
       "    }\n",
       "</style>\n",
       "<table border=\"1\" class=\"dataframe\">\n",
       "  <thead>\n",
       "    <tr style=\"text-align: right;\">\n",
       "      <th></th>\n",
       "      <th>user_id</th>\n",
       "      <th>group</th>\n",
       "      <th>ab_test</th>\n",
       "    </tr>\n",
       "  </thead>\n",
       "  <tbody>\n",
       "    <tr>\n",
       "      <th>0</th>\n",
       "      <td>D1ABA3E2887B6A73</td>\n",
       "      <td>A</td>\n",
       "      <td>recommender_system_test</td>\n",
       "    </tr>\n",
       "    <tr>\n",
       "      <th>1</th>\n",
       "      <td>A7A3664BD6242119</td>\n",
       "      <td>A</td>\n",
       "      <td>recommender_system_test</td>\n",
       "    </tr>\n",
       "    <tr>\n",
       "      <th>2</th>\n",
       "      <td>DABC14FDDFADD29E</td>\n",
       "      <td>A</td>\n",
       "      <td>recommender_system_test</td>\n",
       "    </tr>\n",
       "    <tr>\n",
       "      <th>3</th>\n",
       "      <td>04988C5DF189632E</td>\n",
       "      <td>A</td>\n",
       "      <td>recommender_system_test</td>\n",
       "    </tr>\n",
       "    <tr>\n",
       "      <th>4</th>\n",
       "      <td>482F14783456D21B</td>\n",
       "      <td>B</td>\n",
       "      <td>recommender_system_test</td>\n",
       "    </tr>\n",
       "  </tbody>\n",
       "</table>\n",
       "</div>"
      ],
      "text/plain": [
       "            user_id group                  ab_test\n",
       "0  D1ABA3E2887B6A73     A  recommender_system_test\n",
       "1  A7A3664BD6242119     A  recommender_system_test\n",
       "2  DABC14FDDFADD29E     A  recommender_system_test\n",
       "3  04988C5DF189632E     A  recommender_system_test\n",
       "4  482F14783456D21B     B  recommender_system_test"
      ]
     },
     "execution_count": 2,
     "metadata": {},
     "output_type": "execute_result"
    }
   ],
   "source": [
    "participants = pd.read_csv(r\"C:\\Users\\mi\\Downloads\\final_ab_participants.csv\")\n",
    "new_users = pd.read_csv(r\"C:\\Users\\mi\\Downloads\\final_ab_new_users.csv\")\n",
    "marketing_events = pd.read_csv(r\"C:\\Users\\mi\\Downloads\\ab_project_marketing_events.csv\")\n",
    "data = pd.read_csv(r\"C:\\Users\\mi\\Downloads\\final_ab_events.csv\")\n",
    "\n",
    "    \n",
    "display(data.head())\n",
    "display(marketing_events.head())\n",
    "display(new_users.head())\n",
    "participants.head()"
   ]
  },
  {
   "cell_type": "code",
   "execution_count": 3,
   "id": "selected-lucas",
   "metadata": {
    "scrolled": true
   },
   "outputs": [
    {
     "name": "stdout",
     "output_type": "stream",
     "text": [
      "<class 'pandas.core.frame.DataFrame'>\n",
      "RangeIndex: 440317 entries, 0 to 440316\n",
      "Data columns (total 4 columns):\n",
      " #   Column      Non-Null Count   Dtype  \n",
      "---  ------      --------------   -----  \n",
      " 0   user_id     440317 non-null  object \n",
      " 1   event_dt    440317 non-null  object \n",
      " 2   event_name  440317 non-null  object \n",
      " 3   details     62740 non-null   float64\n",
      "dtypes: float64(1), object(3)\n",
      "memory usage: 13.4+ MB\n",
      "<class 'pandas.core.frame.DataFrame'>\n",
      "RangeIndex: 14 entries, 0 to 13\n",
      "Data columns (total 4 columns):\n",
      " #   Column     Non-Null Count  Dtype \n",
      "---  ------     --------------  ----- \n",
      " 0   name       14 non-null     object\n",
      " 1   regions    14 non-null     object\n",
      " 2   start_dt   14 non-null     object\n",
      " 3   finish_dt  14 non-null     object\n",
      "dtypes: object(4)\n",
      "memory usage: 576.0+ bytes\n",
      "<class 'pandas.core.frame.DataFrame'>\n",
      "RangeIndex: 61733 entries, 0 to 61732\n",
      "Data columns (total 4 columns):\n",
      " #   Column      Non-Null Count  Dtype \n",
      "---  ------      --------------  ----- \n",
      " 0   user_id     61733 non-null  object\n",
      " 1   first_date  61733 non-null  object\n",
      " 2   region      61733 non-null  object\n",
      " 3   device      61733 non-null  object\n",
      "dtypes: object(4)\n",
      "memory usage: 1.9+ MB\n",
      "<class 'pandas.core.frame.DataFrame'>\n",
      "RangeIndex: 18268 entries, 0 to 18267\n",
      "Data columns (total 3 columns):\n",
      " #   Column   Non-Null Count  Dtype \n",
      "---  ------   --------------  ----- \n",
      " 0   user_id  18268 non-null  object\n",
      " 1   group    18268 non-null  object\n",
      " 2   ab_test  18268 non-null  object\n",
      "dtypes: object(3)\n",
      "memory usage: 428.3+ KB\n"
     ]
    }
   ],
   "source": [
    "data.info()\n",
    "marketing_events.info()\n",
    "new_users.info()\n",
    "participants.info()"
   ]
  },
  {
   "cell_type": "markdown",
   "id": "limited-worth",
   "metadata": {},
   "source": [
    "Сразу разберемся со временем"
   ]
  },
  {
   "cell_type": "code",
   "execution_count": 4,
   "id": "clear-plaintiff",
   "metadata": {},
   "outputs": [],
   "source": [
    "data['event_dt'] = pd.to_datetime(data['event_dt']).dt.date #timestamp тоже приведем в формат даты для удобства, т.к. время в дальнейшем анализе мы не используем\n",
    "marketing_events['start_dt'] = pd.to_datetime(marketing_events['start_dt']).dt.date\n",
    "marketing_events['finish_dt'] = pd.to_datetime(marketing_events['finish_dt']).dt.date\n",
    "new_users['first_date'] = pd.to_datetime(new_users['first_date']).dt.date"
   ]
  },
  {
   "cell_type": "markdown",
   "id": "historical-ambassador",
   "metadata": {},
   "source": [
    "Пропуски есть только в колонке `details` датасета `data` потому, что в ней отображены только суммы покупок - конкретного события из столбца `event_name`. Заменим их заглушкой \"0\" для упрощения дальнейших подсчетов."
   ]
  },
  {
   "cell_type": "code",
   "execution_count": 5,
   "id": "accomplished-indianapolis",
   "metadata": {},
   "outputs": [],
   "source": [
    "data['details'].fillna(0, inplace=True)"
   ]
  },
  {
   "cell_type": "code",
   "execution_count": 6,
   "id": "distant-rouge",
   "metadata": {},
   "outputs": [
    {
     "name": "stdout",
     "output_type": "stream",
     "text": [
      "2\n",
      "0\n",
      "0\n"
     ]
    },
    {
     "data": {
      "text/plain": [
       "0"
      ]
     },
     "execution_count": 6,
     "metadata": {},
     "output_type": "execute_result"
    }
   ],
   "source": [
    "print(data.duplicated().sum())\n",
    "print(marketing_events.duplicated().sum())\n",
    "print(new_users.duplicated().sum())\n",
    "participants.duplicated().sum()"
   ]
  },
  {
   "cell_type": "markdown",
   "id": "fresh-estate",
   "metadata": {},
   "source": [
    "Явных дубликатов нет"
   ]
  },
  {
   "cell_type": "markdown",
   "id": "exterior-league",
   "metadata": {},
   "source": [
    "### Оценка корректности проведения теста"
   ]
  },
  {
   "cell_type": "markdown",
   "id": "03bb645b",
   "metadata": {},
   "source": [
    "Объединим датасеты для удобства проверок и работы"
   ]
  },
  {
   "cell_type": "code",
   "execution_count": 7,
   "id": "a7324fe4",
   "metadata": {},
   "outputs": [
    {
     "name": "stdout",
     "output_type": "stream",
     "text": [
      "106625\n"
     ]
    },
    {
     "data": {
      "text/html": [
       "<div>\n",
       "<style scoped>\n",
       "    .dataframe tbody tr th:only-of-type {\n",
       "        vertical-align: middle;\n",
       "    }\n",
       "\n",
       "    .dataframe tbody tr th {\n",
       "        vertical-align: top;\n",
       "    }\n",
       "\n",
       "    .dataframe thead th {\n",
       "        text-align: right;\n",
       "    }\n",
       "</style>\n",
       "<table border=\"1\" class=\"dataframe\">\n",
       "  <thead>\n",
       "    <tr style=\"text-align: right;\">\n",
       "      <th></th>\n",
       "      <th>user_id</th>\n",
       "      <th>event_dt</th>\n",
       "      <th>event_name</th>\n",
       "      <th>details</th>\n",
       "      <th>first_date</th>\n",
       "      <th>region</th>\n",
       "      <th>device</th>\n",
       "      <th>group</th>\n",
       "      <th>ab_test</th>\n",
       "    </tr>\n",
       "  </thead>\n",
       "  <tbody>\n",
       "    <tr>\n",
       "      <th>0</th>\n",
       "      <td>96F27A054B191457</td>\n",
       "      <td>2020-12-07</td>\n",
       "      <td>purchase</td>\n",
       "      <td>4.99</td>\n",
       "      <td>2020-12-07</td>\n",
       "      <td>EU</td>\n",
       "      <td>iPhone</td>\n",
       "      <td>B</td>\n",
       "      <td>interface_eu_test</td>\n",
       "    </tr>\n",
       "    <tr>\n",
       "      <th>1</th>\n",
       "      <td>96F27A054B191457</td>\n",
       "      <td>2020-12-08</td>\n",
       "      <td>purchase</td>\n",
       "      <td>4.99</td>\n",
       "      <td>2020-12-07</td>\n",
       "      <td>EU</td>\n",
       "      <td>iPhone</td>\n",
       "      <td>B</td>\n",
       "      <td>interface_eu_test</td>\n",
       "    </tr>\n",
       "    <tr>\n",
       "      <th>2</th>\n",
       "      <td>96F27A054B191457</td>\n",
       "      <td>2020-12-09</td>\n",
       "      <td>purchase</td>\n",
       "      <td>4.99</td>\n",
       "      <td>2020-12-07</td>\n",
       "      <td>EU</td>\n",
       "      <td>iPhone</td>\n",
       "      <td>B</td>\n",
       "      <td>interface_eu_test</td>\n",
       "    </tr>\n",
       "    <tr>\n",
       "      <th>3</th>\n",
       "      <td>96F27A054B191457</td>\n",
       "      <td>2020-12-26</td>\n",
       "      <td>purchase</td>\n",
       "      <td>9.99</td>\n",
       "      <td>2020-12-07</td>\n",
       "      <td>EU</td>\n",
       "      <td>iPhone</td>\n",
       "      <td>B</td>\n",
       "      <td>interface_eu_test</td>\n",
       "    </tr>\n",
       "    <tr>\n",
       "      <th>4</th>\n",
       "      <td>96F27A054B191457</td>\n",
       "      <td>2020-12-07</td>\n",
       "      <td>product_page</td>\n",
       "      <td>0.00</td>\n",
       "      <td>2020-12-07</td>\n",
       "      <td>EU</td>\n",
       "      <td>iPhone</td>\n",
       "      <td>B</td>\n",
       "      <td>interface_eu_test</td>\n",
       "    </tr>\n",
       "  </tbody>\n",
       "</table>\n",
       "</div>"
      ],
      "text/plain": [
       "            user_id    event_dt    event_name  details  first_date region  \\\n",
       "0  96F27A054B191457  2020-12-07      purchase     4.99  2020-12-07     EU   \n",
       "1  96F27A054B191457  2020-12-08      purchase     4.99  2020-12-07     EU   \n",
       "2  96F27A054B191457  2020-12-09      purchase     4.99  2020-12-07     EU   \n",
       "3  96F27A054B191457  2020-12-26      purchase     9.99  2020-12-07     EU   \n",
       "4  96F27A054B191457  2020-12-07  product_page     0.00  2020-12-07     EU   \n",
       "\n",
       "   device group            ab_test  \n",
       "0  iPhone     B  interface_eu_test  \n",
       "1  iPhone     B  interface_eu_test  \n",
       "2  iPhone     B  interface_eu_test  \n",
       "3  iPhone     B  interface_eu_test  \n",
       "4  iPhone     B  interface_eu_test  "
      ]
     },
     "execution_count": 7,
     "metadata": {},
     "output_type": "execute_result"
    }
   ],
   "source": [
    "all_data = data.merge(new_users, on='user_id', how='inner')\n",
    "all_data = all_data.merge(participants, on='user_id', how='inner')\n",
    "print(len(all_data))\n",
    "all_data.head()"
   ]
  },
  {
   "cell_type": "markdown",
   "id": "a10f63f2",
   "metadata": {},
   "source": [
    "Очистим сначала данные нашего теста от других тестов"
   ]
  },
  {
   "cell_type": "code",
   "execution_count": 8,
   "id": "5cc19471",
   "metadata": {},
   "outputs": [
    {
     "name": "stdout",
     "output_type": "stream",
     "text": [
      "24698\n"
     ]
    }
   ],
   "source": [
    "all_data['ab_test'].value_counts()\n",
    "all_data = all_data.query('ab_test == \"recommender_system_test\"')\n",
    "print(len(all_data))"
   ]
  },
  {
   "cell_type": "markdown",
   "id": "lesser-crown",
   "metadata": {},
   "source": [
    "Проверим, не задвоились ли участники групп теста"
   ]
  },
  {
   "cell_type": "code",
   "execution_count": 9,
   "id": "enclosed-soccer",
   "metadata": {},
   "outputs": [
    {
     "data": {
      "text/html": [
       "<div>\n",
       "<style scoped>\n",
       "    .dataframe tbody tr th:only-of-type {\n",
       "        vertical-align: middle;\n",
       "    }\n",
       "\n",
       "    .dataframe tbody tr th {\n",
       "        vertical-align: top;\n",
       "    }\n",
       "\n",
       "    .dataframe thead th {\n",
       "        text-align: right;\n",
       "    }\n",
       "</style>\n",
       "<table border=\"1\" class=\"dataframe\">\n",
       "  <thead>\n",
       "    <tr style=\"text-align: right;\">\n",
       "      <th></th>\n",
       "      <th>groups</th>\n",
       "      <th>group_names</th>\n",
       "    </tr>\n",
       "    <tr>\n",
       "      <th>user_id</th>\n",
       "      <th></th>\n",
       "      <th></th>\n",
       "    </tr>\n",
       "  </thead>\n",
       "  <tbody>\n",
       "  </tbody>\n",
       "</table>\n",
       "</div>"
      ],
      "text/plain": [
       "Empty DataFrame\n",
       "Columns: [groups, group_names]\n",
       "Index: []"
      ]
     },
     "metadata": {},
     "output_type": "display_data"
    }
   ],
   "source": [
    "duplicated_users = all_data.groupby('user_id').agg({'group': ['nunique', 'unique']})\n",
    "duplicated_users.columns = ['groups', 'group_names']\n",
    "duplicated_users = duplicated_users.query('groups > 1')\n",
    "display(duplicated_users.head())"
   ]
  },
  {
   "cell_type": "markdown",
   "id": "complex-insert",
   "metadata": {},
   "source": [
    "Пользователей, попавших в обе группы нашего теста нет."
   ]
  },
  {
   "cell_type": "code",
   "execution_count": 10,
   "id": "ordered-complaint",
   "metadata": {},
   "outputs": [
    {
     "data": {
      "text/html": [
       "<div>\n",
       "<style scoped>\n",
       "    .dataframe tbody tr th:only-of-type {\n",
       "        vertical-align: middle;\n",
       "    }\n",
       "\n",
       "    .dataframe tbody tr th {\n",
       "        vertical-align: top;\n",
       "    }\n",
       "\n",
       "    .dataframe thead th {\n",
       "        text-align: right;\n",
       "    }\n",
       "</style>\n",
       "<table border=\"1\" class=\"dataframe\">\n",
       "  <thead>\n",
       "    <tr style=\"text-align: right;\">\n",
       "      <th></th>\n",
       "      <th>user_id</th>\n",
       "    </tr>\n",
       "    <tr>\n",
       "      <th>group</th>\n",
       "      <th></th>\n",
       "    </tr>\n",
       "  </thead>\n",
       "  <tbody>\n",
       "    <tr>\n",
       "      <th>A</th>\n",
       "      <td>2747</td>\n",
       "    </tr>\n",
       "    <tr>\n",
       "      <th>B</th>\n",
       "      <td>928</td>\n",
       "    </tr>\n",
       "  </tbody>\n",
       "</table>\n",
       "</div>"
      ],
      "text/plain": [
       "       user_id\n",
       "group         \n",
       "A         2747\n",
       "B          928"
      ]
     },
     "execution_count": 10,
     "metadata": {},
     "output_type": "execute_result"
    }
   ],
   "source": [
    "all_data.groupby('group').agg({'user_id': 'nunique'}) # проверка количества людей в группах"
   ]
  },
  {
   "cell_type": "markdown",
   "id": "assured-there",
   "metadata": {},
   "source": [
    "Проверим время тестов"
   ]
  },
  {
   "cell_type": "code",
   "execution_count": 11,
   "id": "welsh-diagram",
   "metadata": {},
   "outputs": [
    {
     "name": "stdout",
     "output_type": "stream",
     "text": [
      "2020-12-07\n",
      "2020-12-21\n"
     ]
    }
   ],
   "source": [
    "print(all_data['first_date'].min())  # даты начала и окончания привлечения новых пользователей\n",
    "print(all_data['first_date'].max())"
   ]
  },
  {
   "cell_type": "code",
   "execution_count": 12,
   "id": "third-revision",
   "metadata": {},
   "outputs": [
    {
     "name": "stdout",
     "output_type": "stream",
     "text": [
      "2020-12-07\n",
      "2020-12-30\n"
     ]
    }
   ],
   "source": [
    "print(all_data['event_dt'].min())  # даты начала и окончания теста\n",
    "print(all_data['event_dt'].max()) "
   ]
  },
  {
   "cell_type": "markdown",
   "id": "engaged-viking",
   "metadata": {},
   "source": [
    "Судя по выводу в датасете с действиями данные заканчиваются 30.12.2020 года, вместо запланированного 04.01.2021. Возможно, по каким-то причинам тест остановили раньше. Посчитаем lifetime"
   ]
  },
  {
   "cell_type": "code",
   "execution_count": 13,
   "id": "potential-container",
   "metadata": {},
   "outputs": [
    {
     "name": "stdout",
     "output_type": "stream",
     "text": [
      "Количество действий: 24698\n",
      "Количество уникальных пользователей: 3675\n"
     ]
    }
   ],
   "source": [
    "print('Количество действий:', len(all_data))\n",
    "print('Количество уникальных пользователей:', all_data['user_id'].nunique())"
   ]
  },
  {
   "cell_type": "code",
   "execution_count": 14,
   "id": "chubby-falls",
   "metadata": {},
   "outputs": [
    {
     "data": {
      "text/html": [
       "<div>\n",
       "<style scoped>\n",
       "    .dataframe tbody tr th:only-of-type {\n",
       "        vertical-align: middle;\n",
       "    }\n",
       "\n",
       "    .dataframe tbody tr th {\n",
       "        vertical-align: top;\n",
       "    }\n",
       "\n",
       "    .dataframe thead th {\n",
       "        text-align: right;\n",
       "    }\n",
       "</style>\n",
       "<table border=\"1\" class=\"dataframe\">\n",
       "  <thead>\n",
       "    <tr style=\"text-align: right;\">\n",
       "      <th></th>\n",
       "      <th>user_id</th>\n",
       "      <th>event_dt</th>\n",
       "      <th>event_name</th>\n",
       "      <th>details</th>\n",
       "      <th>first_date</th>\n",
       "      <th>region</th>\n",
       "      <th>device</th>\n",
       "      <th>group</th>\n",
       "      <th>ab_test</th>\n",
       "      <th>lifetime</th>\n",
       "    </tr>\n",
       "  </thead>\n",
       "  <tbody>\n",
       "    <tr>\n",
       "      <th>12</th>\n",
       "      <td>831887FE7F2D6CBA</td>\n",
       "      <td>2020-12-07</td>\n",
       "      <td>purchase</td>\n",
       "      <td>4.99</td>\n",
       "      <td>2020-12-07</td>\n",
       "      <td>EU</td>\n",
       "      <td>Android</td>\n",
       "      <td>A</td>\n",
       "      <td>recommender_system_test</td>\n",
       "      <td>0</td>\n",
       "    </tr>\n",
       "    <tr>\n",
       "      <th>13</th>\n",
       "      <td>831887FE7F2D6CBA</td>\n",
       "      <td>2020-12-09</td>\n",
       "      <td>purchase</td>\n",
       "      <td>99.99</td>\n",
       "      <td>2020-12-07</td>\n",
       "      <td>EU</td>\n",
       "      <td>Android</td>\n",
       "      <td>A</td>\n",
       "      <td>recommender_system_test</td>\n",
       "      <td>2</td>\n",
       "    </tr>\n",
       "    <tr>\n",
       "      <th>14</th>\n",
       "      <td>831887FE7F2D6CBA</td>\n",
       "      <td>2020-12-07</td>\n",
       "      <td>product_cart</td>\n",
       "      <td>0.00</td>\n",
       "      <td>2020-12-07</td>\n",
       "      <td>EU</td>\n",
       "      <td>Android</td>\n",
       "      <td>A</td>\n",
       "      <td>recommender_system_test</td>\n",
       "      <td>0</td>\n",
       "    </tr>\n",
       "    <tr>\n",
       "      <th>15</th>\n",
       "      <td>831887FE7F2D6CBA</td>\n",
       "      <td>2020-12-08</td>\n",
       "      <td>product_cart</td>\n",
       "      <td>0.00</td>\n",
       "      <td>2020-12-07</td>\n",
       "      <td>EU</td>\n",
       "      <td>Android</td>\n",
       "      <td>A</td>\n",
       "      <td>recommender_system_test</td>\n",
       "      <td>1</td>\n",
       "    </tr>\n",
       "    <tr>\n",
       "      <th>16</th>\n",
       "      <td>831887FE7F2D6CBA</td>\n",
       "      <td>2020-12-09</td>\n",
       "      <td>product_cart</td>\n",
       "      <td>0.00</td>\n",
       "      <td>2020-12-07</td>\n",
       "      <td>EU</td>\n",
       "      <td>Android</td>\n",
       "      <td>A</td>\n",
       "      <td>recommender_system_test</td>\n",
       "      <td>2</td>\n",
       "    </tr>\n",
       "  </tbody>\n",
       "</table>\n",
       "</div>"
      ],
      "text/plain": [
       "             user_id    event_dt    event_name  details  first_date region  \\\n",
       "12  831887FE7F2D6CBA  2020-12-07      purchase     4.99  2020-12-07     EU   \n",
       "13  831887FE7F2D6CBA  2020-12-09      purchase    99.99  2020-12-07     EU   \n",
       "14  831887FE7F2D6CBA  2020-12-07  product_cart     0.00  2020-12-07     EU   \n",
       "15  831887FE7F2D6CBA  2020-12-08  product_cart     0.00  2020-12-07     EU   \n",
       "16  831887FE7F2D6CBA  2020-12-09  product_cart     0.00  2020-12-07     EU   \n",
       "\n",
       "     device group                  ab_test  lifetime  \n",
       "12  Android     A  recommender_system_test         0  \n",
       "13  Android     A  recommender_system_test         2  \n",
       "14  Android     A  recommender_system_test         0  \n",
       "15  Android     A  recommender_system_test         1  \n",
       "16  Android     A  recommender_system_test         2  "
      ]
     },
     "execution_count": 14,
     "metadata": {},
     "output_type": "execute_result"
    }
   ],
   "source": [
    "all_data['lifetime'] = (all_data['event_dt'] - all_data['first_date']).dt.days\n",
    "\n",
    "all_data.head()"
   ]
  },
  {
   "cell_type": "code",
   "execution_count": 15,
   "id": "south-sullivan",
   "metadata": {},
   "outputs": [],
   "source": [
    "all_data = all_data.query('lifetime <= 14') # отсеим по лайфтайму в 14 дней по ТЗ"
   ]
  },
  {
   "cell_type": "code",
   "execution_count": 16,
   "id": "southern-belgium",
   "metadata": {
    "scrolled": true
   },
   "outputs": [
    {
     "name": "stdout",
     "output_type": "stream",
     "text": [
      "Количество действий после фильтрации по лайфтайму: 24070\n",
      "Количество уникальных пользователей после фильтрации по лайфтайму: 3675\n"
     ]
    }
   ],
   "source": [
    "print('Количество действий после фильтрации по лайфтайму:', len(all_data))\n",
    "print('Количество уникальных пользователей после фильтрации по лайфтайму:', all_data['user_id'].nunique())"
   ]
  },
  {
   "cell_type": "markdown",
   "id": "greenhouse-movement",
   "metadata": {},
   "source": [
    "Еще раз проверим границы дат после фильтрации"
   ]
  },
  {
   "cell_type": "code",
   "execution_count": 17,
   "id": "declared-going",
   "metadata": {},
   "outputs": [
    {
     "name": "stdout",
     "output_type": "stream",
     "text": [
      "2020-12-07\n",
      "2020-12-21\n"
     ]
    }
   ],
   "source": [
    "print(all_data['first_date'].min())  # даты начала и окончания привлечения новых пользователей\n",
    "print(all_data['first_date'].max())"
   ]
  },
  {
   "cell_type": "code",
   "execution_count": 18,
   "id": "asian-courage",
   "metadata": {},
   "outputs": [
    {
     "name": "stdout",
     "output_type": "stream",
     "text": [
      "2020-12-07\n",
      "2020-12-29\n"
     ]
    }
   ],
   "source": [
    "print(all_data['event_dt'].min())  # даты начала и окончания теста\n",
    "print(all_data['event_dt'].max()) "
   ]
  },
  {
   "cell_type": "markdown",
   "id": "third-scholar",
   "metadata": {},
   "source": [
    "Таким образом наш тест проводился с 07.12.2020 по 29.12.2020. Здесь наблюдается несоответствие ТЗ."
   ]
  },
  {
   "cell_type": "markdown",
   "id": "american-myanmar",
   "metadata": {},
   "source": [
    "Убедимся, что время проведения теста не совпадает с маркетинговыми и другими активностями."
   ]
  },
  {
   "cell_type": "code",
   "execution_count": 19,
   "id": "flush-wallpaper",
   "metadata": {},
   "outputs": [
    {
     "data": {
      "text/html": [
       "<div>\n",
       "<style scoped>\n",
       "    .dataframe tbody tr th:only-of-type {\n",
       "        vertical-align: middle;\n",
       "    }\n",
       "\n",
       "    .dataframe tbody tr th {\n",
       "        vertical-align: top;\n",
       "    }\n",
       "\n",
       "    .dataframe thead th {\n",
       "        text-align: right;\n",
       "    }\n",
       "</style>\n",
       "<table border=\"1\" class=\"dataframe\">\n",
       "  <thead>\n",
       "    <tr style=\"text-align: right;\">\n",
       "      <th></th>\n",
       "      <th>name</th>\n",
       "      <th>regions</th>\n",
       "      <th>start_dt</th>\n",
       "      <th>finish_dt</th>\n",
       "    </tr>\n",
       "  </thead>\n",
       "  <tbody>\n",
       "    <tr>\n",
       "      <th>0</th>\n",
       "      <td>Christmas&amp;New Year Promo</td>\n",
       "      <td>EU, N.America</td>\n",
       "      <td>2020-12-25</td>\n",
       "      <td>2021-01-03</td>\n",
       "    </tr>\n",
       "  </tbody>\n",
       "</table>\n",
       "</div>"
      ],
      "text/plain": [
       "                       name        regions    start_dt   finish_dt\n",
       "0  Christmas&New Year Promo  EU, N.America  2020-12-25  2021-01-03"
      ]
     },
     "execution_count": 19,
     "metadata": {},
     "output_type": "execute_result"
    }
   ],
   "source": [
    "marketing_events[(marketing_events['start_dt'] <= dt.date(2020, 12, 29)) \n",
    "                 & (marketing_events['finish_dt'] >= dt.date(2020, 12, 7))]"
   ]
  },
  {
   "cell_type": "markdown",
   "id": "portable-commodity",
   "metadata": {},
   "source": [
    "На время проведения теста попадает рождество и преддверие нового года в Европе и Северной Америке. Чистить пользователей, пришедших во время маркетинговых мероприятий смысла нет - они в любом случае скорее всего попали в обе группы, так что существенного влияния именно на результаты теста оказать не должны. При расчете маркетинговых метрик будем иметь в виду факт наличия дополнительного стимула покупок извне."
   ]
  },
  {
   "cell_type": "markdown",
   "id": "assured-contributor",
   "metadata": {},
   "source": [
    "Проверим данные на соответствие пункту ТЗ - `аудитория: 15% новых пользователей из региона EU`"
   ]
  },
  {
   "cell_type": "code",
   "execution_count": 20,
   "id": "promising-heart",
   "metadata": {},
   "outputs": [
    {
     "data": {
      "text/plain": [
       "3481"
      ]
     },
     "execution_count": 20,
     "metadata": {},
     "output_type": "execute_result"
    }
   ],
   "source": [
    "all_data.query('region == \"EU\"')['user_id'].nunique() #количество пользователей из Европы в тесте"
   ]
  },
  {
   "cell_type": "code",
   "execution_count": 21,
   "id": "capable-patent",
   "metadata": {},
   "outputs": [
    {
     "data": {
      "text/plain": [
       "0.07523233196455587"
      ]
     },
     "execution_count": 21,
     "metadata": {},
     "output_type": "execute_result"
    }
   ],
   "source": [
    "all_data.query('region == \"EU\"')['user_id'].nunique() / new_users.query('region == \"EU\"')['user_id'].nunique()"
   ]
  },
  {
   "cell_type": "code",
   "execution_count": 22,
   "id": "biological-violin",
   "metadata": {},
   "outputs": [
    {
     "name": "stdout",
     "output_type": "stream",
     "text": [
      "Финальное количество пользователей в тесте: 3675\n",
      "Финальное количество логов в тесте: 24070\n"
     ]
    },
    {
     "data": {
      "text/html": [
       "<div>\n",
       "<style scoped>\n",
       "    .dataframe tbody tr th:only-of-type {\n",
       "        vertical-align: middle;\n",
       "    }\n",
       "\n",
       "    .dataframe tbody tr th {\n",
       "        vertical-align: top;\n",
       "    }\n",
       "\n",
       "    .dataframe thead th {\n",
       "        text-align: right;\n",
       "    }\n",
       "</style>\n",
       "<table border=\"1\" class=\"dataframe\">\n",
       "  <thead>\n",
       "    <tr style=\"text-align: right;\">\n",
       "      <th></th>\n",
       "      <th>user_id</th>\n",
       "      <th>event_dt</th>\n",
       "      <th>event_name</th>\n",
       "      <th>details</th>\n",
       "      <th>first_date</th>\n",
       "      <th>region</th>\n",
       "      <th>device</th>\n",
       "      <th>group</th>\n",
       "      <th>ab_test</th>\n",
       "      <th>lifetime</th>\n",
       "    </tr>\n",
       "  </thead>\n",
       "  <tbody>\n",
       "    <tr>\n",
       "      <th>12</th>\n",
       "      <td>831887FE7F2D6CBA</td>\n",
       "      <td>2020-12-07</td>\n",
       "      <td>purchase</td>\n",
       "      <td>4.99</td>\n",
       "      <td>2020-12-07</td>\n",
       "      <td>EU</td>\n",
       "      <td>Android</td>\n",
       "      <td>A</td>\n",
       "      <td>recommender_system_test</td>\n",
       "      <td>0</td>\n",
       "    </tr>\n",
       "    <tr>\n",
       "      <th>13</th>\n",
       "      <td>831887FE7F2D6CBA</td>\n",
       "      <td>2020-12-09</td>\n",
       "      <td>purchase</td>\n",
       "      <td>99.99</td>\n",
       "      <td>2020-12-07</td>\n",
       "      <td>EU</td>\n",
       "      <td>Android</td>\n",
       "      <td>A</td>\n",
       "      <td>recommender_system_test</td>\n",
       "      <td>2</td>\n",
       "    </tr>\n",
       "    <tr>\n",
       "      <th>14</th>\n",
       "      <td>831887FE7F2D6CBA</td>\n",
       "      <td>2020-12-07</td>\n",
       "      <td>product_cart</td>\n",
       "      <td>0.00</td>\n",
       "      <td>2020-12-07</td>\n",
       "      <td>EU</td>\n",
       "      <td>Android</td>\n",
       "      <td>A</td>\n",
       "      <td>recommender_system_test</td>\n",
       "      <td>0</td>\n",
       "    </tr>\n",
       "    <tr>\n",
       "      <th>15</th>\n",
       "      <td>831887FE7F2D6CBA</td>\n",
       "      <td>2020-12-08</td>\n",
       "      <td>product_cart</td>\n",
       "      <td>0.00</td>\n",
       "      <td>2020-12-07</td>\n",
       "      <td>EU</td>\n",
       "      <td>Android</td>\n",
       "      <td>A</td>\n",
       "      <td>recommender_system_test</td>\n",
       "      <td>1</td>\n",
       "    </tr>\n",
       "    <tr>\n",
       "      <th>16</th>\n",
       "      <td>831887FE7F2D6CBA</td>\n",
       "      <td>2020-12-09</td>\n",
       "      <td>product_cart</td>\n",
       "      <td>0.00</td>\n",
       "      <td>2020-12-07</td>\n",
       "      <td>EU</td>\n",
       "      <td>Android</td>\n",
       "      <td>A</td>\n",
       "      <td>recommender_system_test</td>\n",
       "      <td>2</td>\n",
       "    </tr>\n",
       "  </tbody>\n",
       "</table>\n",
       "</div>"
      ],
      "text/plain": [
       "             user_id    event_dt    event_name  details  first_date region  \\\n",
       "12  831887FE7F2D6CBA  2020-12-07      purchase     4.99  2020-12-07     EU   \n",
       "13  831887FE7F2D6CBA  2020-12-09      purchase    99.99  2020-12-07     EU   \n",
       "14  831887FE7F2D6CBA  2020-12-07  product_cart     0.00  2020-12-07     EU   \n",
       "15  831887FE7F2D6CBA  2020-12-08  product_cart     0.00  2020-12-07     EU   \n",
       "16  831887FE7F2D6CBA  2020-12-09  product_cart     0.00  2020-12-07     EU   \n",
       "\n",
       "     device group                  ab_test  lifetime  \n",
       "12  Android     A  recommender_system_test         0  \n",
       "13  Android     A  recommender_system_test         2  \n",
       "14  Android     A  recommender_system_test         0  \n",
       "15  Android     A  recommender_system_test         1  \n",
       "16  Android     A  recommender_system_test         2  "
      ]
     },
     "execution_count": 22,
     "metadata": {},
     "output_type": "execute_result"
    }
   ],
   "source": [
    "print('Финальное количество пользователей в тесте:', all_data['user_id'].nunique())\n",
    "print('Финальное количество логов в тесте:', len(all_data))\n",
    "all_data.head()"
   ]
  },
  {
   "cell_type": "markdown",
   "id": "connected-understanding",
   "metadata": {},
   "source": [
    "#### Вывод"
   ]
  },
  {
   "cell_type": "markdown",
   "id": "dependent-gross",
   "metadata": {},
   "source": [
    "Данные по многим параметрам не соответствуют ТЗ:\n",
    "\n",
    "- Дата остановки теста - тест завершили на 5 дней раньше;\n",
    "- Количество участников теста почти вдвое меньше ожидаемых 6000;\n",
    "- Ожидаемая аудитория - 15% новых пользователей из региона EU, составляет всего 7,5%;\n",
    "- В данных были участники других тестов, а во время проведения теста также проводилось маркетинговое мероприятие, которое может сказаться на метриках;\n",
    "- Пользователи по группам теста распределены очень неравномерно, даже после очистки - контрольная группа сильно больше тестовой (75/25%). \n",
    "    \n",
    "Данные по необходимости очищены и приведены в нужный вид. "
   ]
  },
  {
   "cell_type": "markdown",
   "id": "raised-district",
   "metadata": {},
   "source": [
    "### Исследовательский анализ данных"
   ]
  },
  {
   "cell_type": "markdown",
   "id": "rural-stanford",
   "metadata": {},
   "source": [
    "Посмотрим, одинаково ли распределены в выборках количество событий на пользователя"
   ]
  },
  {
   "cell_type": "code",
   "execution_count": 23,
   "id": "obvious-volunteer",
   "metadata": {},
   "outputs": [
    {
     "data": {
      "image/png": "[encoded data removed]",
      "text/plain": [
       "<Figure size 432x288 with 1 Axes>"
      ]
     },
     "metadata": {
      "needs_background": "light"
     },
     "output_type": "display_data"
    }
   ],
   "source": [
    "for group in all_data['group'].unique():\n",
    "    current = all_data.query('group == @group')\n",
    "    sns.distplot(current.groupby('user_id').agg({'event_name': 'count'}), label = group)\n",
    "    plt.title('Распределение событий на пользователя')\n",
    "    plt.legend() \n",
    "plt.show()"
   ]
  },
  {
   "cell_type": "markdown",
   "id": "indian-circle",
   "metadata": {},
   "source": [
    "У группы А распределение больше похоже на нормальное. У группы В распределение асимметричное, смещенное влево, с выбросами"
   ]
  },
  {
   "cell_type": "markdown",
   "id": "dimensional-tobacco",
   "metadata": {},
   "source": [
    "Посмотрим, как число событий в выборках распределено по дням"
   ]
  },
  {
   "cell_type": "code",
   "execution_count": 24,
   "id": "brief-honey",
   "metadata": {},
   "outputs": [
    {
     "data": {
      "image/png": "[encoded data removed]",
      "text/plain": [
       "<Figure size 432x288 with 1 Axes>"
      ]
     },
     "metadata": {
      "needs_background": "light"
     },
     "output_type": "display_data"
    }
   ],
   "source": [
    "for group in all_data['group'].unique():\n",
    "    current = all_data.query('group == @group')\n",
    "    sns.distplot(current.groupby('event_dt').agg({'event_name': 'count'}), label = group)\n",
    "    plt.title('Распределение событий по дням')\n",
    "    plt.legend() \n",
    "plt.show()"
   ]
  },
  {
   "cell_type": "markdown",
   "id": "judicial-cloud",
   "metadata": {},
   "source": [
    "Распределение по дням группы А - плавное и нормальное. У группы В набллюдается разкий пик около 0. Это может быть связано с неравномерным распределением количества пользователей по группам - в группу В попало гораздо меньше людей. "
   ]
  },
  {
   "cell_type": "markdown",
   "id": "expanded-laptop",
   "metadata": {},
   "source": [
    "Посмотрим, как меняется конверсия в воронке в выборках на разных этапах\n"
   ]
  },
  {
   "cell_type": "code",
   "execution_count": 25,
   "id": "second-mauritius",
   "metadata": {},
   "outputs": [
    {
     "data": {
      "text/html": [
       "<div>\n",
       "<style scoped>\n",
       "    .dataframe tbody tr th:only-of-type {\n",
       "        vertical-align: middle;\n",
       "    }\n",
       "\n",
       "    .dataframe tbody tr th {\n",
       "        vertical-align: top;\n",
       "    }\n",
       "\n",
       "    .dataframe thead th {\n",
       "        text-align: right;\n",
       "    }\n",
       "</style>\n",
       "<table border=\"1\" class=\"dataframe\">\n",
       "  <thead>\n",
       "    <tr style=\"text-align: right;\">\n",
       "      <th>group</th>\n",
       "      <th>event_name</th>\n",
       "      <th>A</th>\n",
       "      <th>B</th>\n",
       "    </tr>\n",
       "  </thead>\n",
       "  <tbody>\n",
       "    <tr>\n",
       "      <th>0</th>\n",
       "      <td>login</td>\n",
       "      <td>2747</td>\n",
       "      <td>927</td>\n",
       "    </tr>\n",
       "    <tr>\n",
       "      <th>1</th>\n",
       "      <td>product_page</td>\n",
       "      <td>1780</td>\n",
       "      <td>523</td>\n",
       "    </tr>\n",
       "    <tr>\n",
       "      <th>2</th>\n",
       "      <td>purchase</td>\n",
       "      <td>872</td>\n",
       "      <td>256</td>\n",
       "    </tr>\n",
       "    <tr>\n",
       "      <th>3</th>\n",
       "      <td>product_cart</td>\n",
       "      <td>824</td>\n",
       "      <td>255</td>\n",
       "    </tr>\n",
       "  </tbody>\n",
       "</table>\n",
       "</div>"
      ],
      "text/plain": [
       "group    event_name     A    B\n",
       "0             login  2747  927\n",
       "1      product_page  1780  523\n",
       "2          purchase   872  256\n",
       "3      product_cart   824  255"
      ]
     },
     "execution_count": 25,
     "metadata": {},
     "output_type": "execute_result"
    }
   ],
   "source": [
    "funnel = all_data.pivot_table(index='event_name', columns='group', values='user_id', aggfunc='nunique').sort_values(by='A', ascending=False).reset_index()\n",
    "funnel"
   ]
  },
  {
   "cell_type": "code",
   "execution_count": 26,
   "id": "elegant-classification",
   "metadata": {},
   "outputs": [
    {
     "data": {
      "text/html": [
       "<div>\n",
       "<style scoped>\n",
       "    .dataframe tbody tr th:only-of-type {\n",
       "        vertical-align: middle;\n",
       "    }\n",
       "\n",
       "    .dataframe tbody tr th {\n",
       "        vertical-align: top;\n",
       "    }\n",
       "\n",
       "    .dataframe thead th {\n",
       "        text-align: right;\n",
       "    }\n",
       "</style>\n",
       "<table border=\"1\" class=\"dataframe\">\n",
       "  <thead>\n",
       "    <tr style=\"text-align: right;\">\n",
       "      <th>group</th>\n",
       "      <th>event_name</th>\n",
       "      <th>A</th>\n",
       "      <th>B</th>\n",
       "      <th>convA</th>\n",
       "      <th>convB</th>\n",
       "    </tr>\n",
       "  </thead>\n",
       "  <tbody>\n",
       "    <tr>\n",
       "      <th>0</th>\n",
       "      <td>login</td>\n",
       "      <td>2747</td>\n",
       "      <td>927</td>\n",
       "      <td>100.0</td>\n",
       "      <td>100.0</td>\n",
       "    </tr>\n",
       "    <tr>\n",
       "      <th>1</th>\n",
       "      <td>product_page</td>\n",
       "      <td>1780</td>\n",
       "      <td>523</td>\n",
       "      <td>64.8</td>\n",
       "      <td>56.4</td>\n",
       "    </tr>\n",
       "    <tr>\n",
       "      <th>2</th>\n",
       "      <td>purchase</td>\n",
       "      <td>872</td>\n",
       "      <td>256</td>\n",
       "      <td>31.7</td>\n",
       "      <td>27.6</td>\n",
       "    </tr>\n",
       "    <tr>\n",
       "      <th>3</th>\n",
       "      <td>product_cart</td>\n",
       "      <td>824</td>\n",
       "      <td>255</td>\n",
       "      <td>30.0</td>\n",
       "      <td>27.5</td>\n",
       "    </tr>\n",
       "  </tbody>\n",
       "</table>\n",
       "</div>"
      ],
      "text/plain": [
       "group    event_name     A    B  convA  convB\n",
       "0             login  2747  927  100.0  100.0\n",
       "1      product_page  1780  523   64.8   56.4\n",
       "2          purchase   872  256   31.7   27.6\n",
       "3      product_cart   824  255   30.0   27.5"
      ]
     },
     "execution_count": 26,
     "metadata": {},
     "output_type": "execute_result"
    }
   ],
   "source": [
    "for i in range(len(funnel)):\n",
    "    funnel.loc[i, 'convA'] = round(funnel.iloc[i, 1] / funnel.iloc[0, 1] * 100, 1)\n",
    "    funnel.loc[i, 'convB'] = round(funnel.iloc[i, 2] / funnel.iloc[0, 2] * 100, 1)\n",
    "funnel"
   ]
  },
  {
   "cell_type": "code",
   "execution_count": 27,
   "id": "streaming-identifier",
   "metadata": {},
   "outputs": [
    {
     "data": {
      "image/png": "[encoded data removed]",
      "text/plain": [
       "<Figure size 864x432 with 1 Axes>"
      ]
     },
     "metadata": {
      "needs_background": "light"
     },
     "output_type": "display_data"
    }
   ],
   "source": [
    "x_max = 110\n",
    "x_min = 0\n",
    "fig, ax = plt.subplots(1, figsize=(12,6))\n",
    "for idx, val in enumerate(funnel['convA']):\n",
    "    left = (x_max - val)/2\n",
    "    plt.barh(funnel['event_name'][idx], funnel['convA'][idx], left = left, color='grey', height=1, edgecolor='black')\n",
    "    # value\n",
    "    plt.text(55, funnel['event_name'][idx], funnel['convA'][idx], ha='center',\n",
    "             fontsize=16, color='#2A2A2A')\n",
    "plt.xlim(x_min, x_max)\n",
    "plt.title('Конверсия в воронке событий группы А');"
   ]
  },
  {
   "cell_type": "code",
   "execution_count": 28,
   "id": "scenic-entity",
   "metadata": {},
   "outputs": [
    {
     "data": {
      "image/png": "[encoded data removed]",
      "text/plain": [
       "<Figure size 864x432 with 1 Axes>"
      ]
     },
     "metadata": {
      "needs_background": "light"
     },
     "output_type": "display_data"
    }
   ],
   "source": [
    "x_max = 110\n",
    "x_min = 0\n",
    "fig, ax = plt.subplots(1, figsize=(12,6))\n",
    "for idx, val in enumerate(funnel['convB']):\n",
    "    left = (x_max - val)/2\n",
    "    plt.barh(funnel['event_name'][idx], funnel['convB'][idx], left = left, color='grey', height=1, edgecolor='black')\n",
    "    # value\n",
    "    plt.text(55, funnel['event_name'][idx], funnel['convB'][idx], ha='center',\n",
    "             fontsize=16, color='#2A2A2A')\n",
    "plt.xlim(x_min, x_max)\n",
    "plt.title('Конверсия в воронке событий группы B');"
   ]
  },
  {
   "cell_type": "markdown",
   "id": "phantom-workplace",
   "metadata": {},
   "source": [
    "В воронках событий различия между группами очень малы: в группе А 32 % пользователей переходят к покупкам, а в группе В - 28%."
   ]
  },
  {
   "cell_type": "markdown",
   "id": "leading-labor",
   "metadata": {},
   "source": [
    "#### Вывод"
   ]
  },
  {
   "cell_type": "markdown",
   "id": "respected-exclusion",
   "metadata": {},
   "source": [
    "Прежде чем приступать к A/B-тестированию, нужно принять во внимание тот факт, что распределение пользователей по группам перекошено, это может сделать выборку нерепрезентативной и дать неправильные результаты при проверке гипотез.\n",
    "Также надо принять во внимание, что на время проведения теста выпало маркетинговое мероприятие, посвященное рождеству и новому году, что также может влиять на метрики. Предполагается, что это мероприятие одинаково влияет на обе группы.\n",
    "В целом, по показателям распределений и воронки событий данные обеих групп имеют одинаковые паттерны. Только распределение событий по времени в группе В немного отличается и имеет довольно сжатый график распределения по времени. Спишем это на малое количество пользователей в группе В."
   ]
  },
  {
   "cell_type": "markdown",
   "id": "constant-michigan",
   "metadata": {},
   "source": [
    "### Оценка результатов А/В тестирования"
   ]
  },
  {
   "cell_type": "markdown",
   "id": "appointed-sentence",
   "metadata": {},
   "source": [
    "Проверим статистическую разницу долей z-критерием. Критический уровень значимости установим на уровне 0.006 с учетом поправки Бонферрони на 8 последующих проверок.\n",
    "\n",
    "    H0: доли уникальных посетителей, побывавших на этапе воронки, не имеют статистически значимых различий\n",
    "    Н1: между долями уникальных посетителей, побывавших на этапе воронки, есть статистически значимые различия"
   ]
  },
  {
   "cell_type": "code",
   "execution_count": 29,
   "id": "fallen-posting",
   "metadata": {},
   "outputs": [
    {
     "data": {
      "text/html": [
       "<div>\n",
       "<style scoped>\n",
       "    .dataframe tbody tr th:only-of-type {\n",
       "        vertical-align: middle;\n",
       "    }\n",
       "\n",
       "    .dataframe tbody tr th {\n",
       "        vertical-align: top;\n",
       "    }\n",
       "\n",
       "    .dataframe thead th {\n",
       "        text-align: right;\n",
       "    }\n",
       "</style>\n",
       "<table border=\"1\" class=\"dataframe\">\n",
       "  <thead>\n",
       "    <tr style=\"text-align: right;\">\n",
       "      <th></th>\n",
       "      <th>user_id</th>\n",
       "    </tr>\n",
       "    <tr>\n",
       "      <th>group</th>\n",
       "      <th></th>\n",
       "    </tr>\n",
       "  </thead>\n",
       "  <tbody>\n",
       "    <tr>\n",
       "      <th>A</th>\n",
       "      <td>2747</td>\n",
       "    </tr>\n",
       "    <tr>\n",
       "      <th>B</th>\n",
       "      <td>928</td>\n",
       "    </tr>\n",
       "  </tbody>\n",
       "</table>\n",
       "</div>"
      ],
      "text/plain": [
       "       user_id\n",
       "group         \n",
       "A         2747\n",
       "B          928"
      ]
     },
     "metadata": {},
     "output_type": "display_data"
    },
    {
     "data": {
      "text/html": [
       "<div>\n",
       "<style scoped>\n",
       "    .dataframe tbody tr th:only-of-type {\n",
       "        vertical-align: middle;\n",
       "    }\n",
       "\n",
       "    .dataframe tbody tr th {\n",
       "        vertical-align: top;\n",
       "    }\n",
       "\n",
       "    .dataframe thead th {\n",
       "        text-align: right;\n",
       "    }\n",
       "</style>\n",
       "<table border=\"1\" class=\"dataframe\">\n",
       "  <thead>\n",
       "    <tr style=\"text-align: right;\">\n",
       "      <th>group</th>\n",
       "      <th>A</th>\n",
       "      <th>B</th>\n",
       "    </tr>\n",
       "    <tr>\n",
       "      <th>event_name</th>\n",
       "      <th></th>\n",
       "      <th></th>\n",
       "    </tr>\n",
       "  </thead>\n",
       "  <tbody>\n",
       "    <tr>\n",
       "      <th>login</th>\n",
       "      <td>2747</td>\n",
       "      <td>927</td>\n",
       "    </tr>\n",
       "    <tr>\n",
       "      <th>product_page</th>\n",
       "      <td>1780</td>\n",
       "      <td>523</td>\n",
       "    </tr>\n",
       "    <tr>\n",
       "      <th>purchase</th>\n",
       "      <td>872</td>\n",
       "      <td>256</td>\n",
       "    </tr>\n",
       "    <tr>\n",
       "      <th>product_cart</th>\n",
       "      <td>824</td>\n",
       "      <td>255</td>\n",
       "    </tr>\n",
       "  </tbody>\n",
       "</table>\n",
       "</div>"
      ],
      "text/plain": [
       "group            A    B\n",
       "event_name             \n",
       "login         2747  927\n",
       "product_page  1780  523\n",
       "purchase       872  256\n",
       "product_cart   824  255"
      ]
     },
     "metadata": {},
     "output_type": "display_data"
    }
   ],
   "source": [
    "def check_hypothesis(successes1, successes2, trials1, trials2):   # функция для проверки статистической значимости различий в конверсиях\n",
    "    p1 = successes1/trials1\n",
    "    p2 = successes2/trials2\n",
    "    p_combined = (successes1 + successes2) / (trials1 + trials2)\n",
    "    difference = p1 - p2\n",
    "    z_value = difference / math.sqrt(p_combined * (1 - p_combined) * (1/trials1 + 1/trials2))\n",
    "    distr = stats.norm(0, 1)\n",
    "    p_value = (1 - distr.cdf(abs(z_value))) * 2\n",
    "    return p_value\n",
    "\n",
    "trials = all_data.groupby('group').agg({'user_id': 'nunique'})\n",
    "display(trials)\n",
    "funnel_by_groups = all_data.pivot_table(index='event_name', columns = 'group', values = 'user_id', aggfunc='nunique').sort_values(by='A', ascending=False)\n",
    "display(funnel_by_groups)"
   ]
  },
  {
   "cell_type": "code",
   "execution_count": 30,
   "id": "recreational-federal",
   "metadata": {},
   "outputs": [
    {
     "data": {
      "text/html": [
       "<div>\n",
       "<style scoped>\n",
       "    .dataframe tbody tr th:only-of-type {\n",
       "        vertical-align: middle;\n",
       "    }\n",
       "\n",
       "    .dataframe tbody tr th {\n",
       "        vertical-align: top;\n",
       "    }\n",
       "\n",
       "    .dataframe thead th {\n",
       "        text-align: right;\n",
       "    }\n",
       "</style>\n",
       "<table border=\"1\" class=\"dataframe\">\n",
       "  <thead>\n",
       "    <tr style=\"text-align: right;\">\n",
       "      <th>group</th>\n",
       "      <th>A</th>\n",
       "      <th>B</th>\n",
       "      <th>p_value</th>\n",
       "    </tr>\n",
       "    <tr>\n",
       "      <th>event_name</th>\n",
       "      <th></th>\n",
       "      <th></th>\n",
       "      <th></th>\n",
       "    </tr>\n",
       "  </thead>\n",
       "  <tbody>\n",
       "    <tr>\n",
       "      <th>login</th>\n",
       "      <td>2747</td>\n",
       "      <td>927</td>\n",
       "      <td>0.085299</td>\n",
       "    </tr>\n",
       "    <tr>\n",
       "      <th>product_page</th>\n",
       "      <td>1780</td>\n",
       "      <td>523</td>\n",
       "      <td>0.000004</td>\n",
       "    </tr>\n",
       "    <tr>\n",
       "      <th>purchase</th>\n",
       "      <td>872</td>\n",
       "      <td>256</td>\n",
       "      <td>0.017592</td>\n",
       "    </tr>\n",
       "    <tr>\n",
       "      <th>product_cart</th>\n",
       "      <td>824</td>\n",
       "      <td>255</td>\n",
       "      <td>0.145348</td>\n",
       "    </tr>\n",
       "  </tbody>\n",
       "</table>\n",
       "</div>"
      ],
      "text/plain": [
       "group            A    B   p_value\n",
       "event_name                       \n",
       "login         2747  927  0.085299\n",
       "product_page  1780  523  0.000004\n",
       "purchase       872  256  0.017592\n",
       "product_cart   824  255  0.145348"
      ]
     },
     "execution_count": 30,
     "metadata": {},
     "output_type": "execute_result"
    }
   ],
   "source": [
    "for event in all_data['event_name'].unique():\n",
    "    funnel_by_groups.loc[event, 'p_value'] = check_hypothesis(funnel_by_groups.loc[event, 'A'], funnel_by_groups.loc[event, 'B'],\n",
    "                                       trials.loc['A'].values[0],  trials.loc['B'].values[0])\n",
    "\n",
    "funnel_by_groups"
   ]
  },
  {
   "cell_type": "markdown",
   "id": "saved-retail",
   "metadata": {},
   "source": [
    "Нулевую гипотезу подтвердить не получилось - по итогу проверки одно из значений p-value не превысило критический уровень (даже с поправкой). Таким образом можно сказать, что между долями уникальных посетителей, побывавших на этапе воронки, есть статистически значимые различия"
   ]
  },
  {
   "cell_type": "markdown",
   "id": "muslim-arizona",
   "metadata": {},
   "source": [
    "### Общий вывод"
   ]
  },
  {
   "cell_type": "markdown",
   "id": "antique-dispute",
   "metadata": {},
   "source": [
    "Мы получили данные проведения А/В теста, проверили их на аномалии, проработали типы данных. Также мы проверили корректность проведения теста и почистили данные. Построили графики распределения и воронку событий с конверсией. Провели оценку результатов теста с помощью z-критерия.\n",
    "\n",
    "Изучение данных для теста и результатов теста показало, что данные теста по многим параметрам не соответствуют ТЗ:\n",
    "\n",
    "- Дата остановки теста - тест завершили на 5 дней раньше;\n",
    "- Количество участников теста почти вдвое меньше ожидаемых 6000;\n",
    "- Ожидаемая аудитория - 15% новых пользователей из региона EU, составляет всего 7,5%;\n",
    "- В данных были участники других тестов, а во время проведения теста также проводилось маркетинговое мероприятие, которое может сказаться на метриках;\n",
    "- Пользователи по группам теста распределены очень неравномерно, даже после очистки - контрольная группа сильно больше тестовой (75/25%). \n",
    "    \n",
    "Мы провели тест на статистическую разницу долей z-критерием и нулевая гипотеза была опровергнута. \n",
    "Все вышеприведенное показывает, что тест был проведен неверно - данные перекошены и не соответствуют ТЗ, и лучше провести тест еще раз, так как его результаты нерепрезентативны."
   ]
  },
  {
   "cell_type": "code",
   "execution_count": null,
   "id": "b6fe1dfc",
   "metadata": {},
   "outputs": [],
   "source": []
  }
 ],
 "metadata": {
  "ExecuteTimeLog": [
   {
    "duration": 1325,
    "start_time": "2022-08-23T09:22:32.361Z"
   },
   {
    "duration": 943,
    "start_time": "2022-08-23T09:22:33.688Z"
   },
   {
    "duration": 0,
    "start_time": "2022-08-23T09:22:34.633Z"
   },
   {
    "duration": 0,
    "start_time": "2022-08-23T09:22:34.634Z"
   },
   {
    "duration": 0,
    "start_time": "2022-08-23T09:22:34.635Z"
   },
   {
    "duration": 0,
    "start_time": "2022-08-23T09:22:34.637Z"
   },
   {
    "duration": 0,
    "start_time": "2022-08-23T09:22:34.638Z"
   },
   {
    "duration": 0,
    "start_time": "2022-08-23T09:22:34.639Z"
   },
   {
    "duration": 0,
    "start_time": "2022-08-23T09:22:34.640Z"
   },
   {
    "duration": 0,
    "start_time": "2022-08-23T09:22:34.641Z"
   },
   {
    "duration": 0,
    "start_time": "2022-08-23T09:22:34.642Z"
   },
   {
    "duration": 0,
    "start_time": "2022-08-23T09:22:34.643Z"
   },
   {
    "duration": 0,
    "start_time": "2022-08-23T09:22:34.644Z"
   },
   {
    "duration": 0,
    "start_time": "2022-08-23T09:22:34.645Z"
   },
   {
    "duration": 0,
    "start_time": "2022-08-23T09:22:34.646Z"
   },
   {
    "duration": 0,
    "start_time": "2022-08-23T09:22:34.647Z"
   },
   {
    "duration": 0,
    "start_time": "2022-08-23T09:22:34.647Z"
   },
   {
    "duration": 0,
    "start_time": "2022-08-23T09:22:34.648Z"
   },
   {
    "duration": 0,
    "start_time": "2022-08-23T09:22:34.649Z"
   },
   {
    "duration": 0,
    "start_time": "2022-08-23T09:22:34.650Z"
   },
   {
    "duration": 0,
    "start_time": "2022-08-23T09:22:34.651Z"
   },
   {
    "duration": 0,
    "start_time": "2022-08-23T09:22:34.652Z"
   },
   {
    "duration": 0,
    "start_time": "2022-08-23T09:22:34.653Z"
   },
   {
    "duration": 0,
    "start_time": "2022-08-23T09:22:34.653Z"
   },
   {
    "duration": 0,
    "start_time": "2022-08-23T09:22:34.655Z"
   },
   {
    "duration": 0,
    "start_time": "2022-08-23T09:22:34.655Z"
   },
   {
    "duration": 0,
    "start_time": "2022-08-23T09:22:34.656Z"
   },
   {
    "duration": 0,
    "start_time": "2022-08-23T09:22:34.657Z"
   },
   {
    "duration": 0,
    "start_time": "2022-08-23T09:22:34.658Z"
   },
   {
    "duration": 0,
    "start_time": "2022-08-23T09:22:34.659Z"
   },
   {
    "duration": 0,
    "start_time": "2022-08-23T09:22:34.660Z"
   },
   {
    "duration": 541,
    "start_time": "2022-08-23T09:23:13.557Z"
   },
   {
    "duration": 1056,
    "start_time": "2022-08-23T09:23:18.427Z"
   },
   {
    "duration": 593,
    "start_time": "2022-08-23T09:23:19.484Z"
   },
   {
    "duration": 79,
    "start_time": "2022-08-23T09:23:20.079Z"
   },
   {
    "duration": 213,
    "start_time": "2022-08-23T09:23:20.160Z"
   },
   {
    "duration": 3,
    "start_time": "2022-08-23T09:23:20.375Z"
   },
   {
    "duration": 208,
    "start_time": "2022-08-23T09:23:20.379Z"
   },
   {
    "duration": 50,
    "start_time": "2022-08-23T09:23:20.588Z"
   },
   {
    "duration": 0,
    "start_time": "2022-08-23T09:23:20.639Z"
   },
   {
    "duration": 0,
    "start_time": "2022-08-23T09:23:20.640Z"
   },
   {
    "duration": 0,
    "start_time": "2022-08-23T09:23:20.641Z"
   },
   {
    "duration": 0,
    "start_time": "2022-08-23T09:23:20.642Z"
   },
   {
    "duration": 0,
    "start_time": "2022-08-23T09:23:20.643Z"
   },
   {
    "duration": 0,
    "start_time": "2022-08-23T09:23:20.644Z"
   },
   {
    "duration": 0,
    "start_time": "2022-08-23T09:23:20.645Z"
   },
   {
    "duration": 0,
    "start_time": "2022-08-23T09:23:20.645Z"
   },
   {
    "duration": 0,
    "start_time": "2022-08-23T09:23:20.646Z"
   },
   {
    "duration": 0,
    "start_time": "2022-08-23T09:23:20.647Z"
   },
   {
    "duration": 0,
    "start_time": "2022-08-23T09:23:20.647Z"
   },
   {
    "duration": 0,
    "start_time": "2022-08-23T09:23:20.648Z"
   },
   {
    "duration": 0,
    "start_time": "2022-08-23T09:23:20.649Z"
   },
   {
    "duration": 0,
    "start_time": "2022-08-23T09:23:20.649Z"
   },
   {
    "duration": 0,
    "start_time": "2022-08-23T09:23:20.651Z"
   },
   {
    "duration": 0,
    "start_time": "2022-08-23T09:23:20.651Z"
   },
   {
    "duration": 0,
    "start_time": "2022-08-23T09:23:20.652Z"
   },
   {
    "duration": 0,
    "start_time": "2022-08-23T09:23:20.653Z"
   },
   {
    "duration": 0,
    "start_time": "2022-08-23T09:23:20.654Z"
   },
   {
    "duration": 0,
    "start_time": "2022-08-23T09:23:20.655Z"
   },
   {
    "duration": 0,
    "start_time": "2022-08-23T09:23:20.656Z"
   },
   {
    "duration": 0,
    "start_time": "2022-08-23T09:23:20.657Z"
   },
   {
    "duration": 0,
    "start_time": "2022-08-23T09:23:20.658Z"
   },
   {
    "duration": 0,
    "start_time": "2022-08-23T09:23:20.659Z"
   },
   {
    "duration": 205,
    "start_time": "2022-08-23T09:23:36.992Z"
   },
   {
    "duration": 32,
    "start_time": "2022-08-23T09:23:43.654Z"
   },
   {
    "duration": 12,
    "start_time": "2022-08-23T09:23:59.596Z"
   },
   {
    "duration": 959,
    "start_time": "2022-08-23T09:24:03.589Z"
   },
   {
    "duration": 226,
    "start_time": "2022-08-23T09:24:36.843Z"
   },
   {
    "duration": 1085,
    "start_time": "2022-08-23T09:24:48.908Z"
   },
   {
    "duration": 551,
    "start_time": "2022-08-23T09:24:49.994Z"
   },
   {
    "duration": 82,
    "start_time": "2022-08-23T09:24:50.547Z"
   },
   {
    "duration": 224,
    "start_time": "2022-08-23T09:24:50.631Z"
   },
   {
    "duration": 3,
    "start_time": "2022-08-23T09:24:50.857Z"
   },
   {
    "duration": 204,
    "start_time": "2022-08-23T09:24:50.861Z"
   },
   {
    "duration": 216,
    "start_time": "2022-08-23T09:24:51.067Z"
   },
   {
    "duration": 38,
    "start_time": "2022-08-23T09:24:51.284Z"
   },
   {
    "duration": 241,
    "start_time": "2022-08-23T09:24:51.324Z"
   },
   {
    "duration": 10,
    "start_time": "2022-08-23T09:24:51.568Z"
   },
   {
    "duration": 14,
    "start_time": "2022-08-23T09:24:51.579Z"
   },
   {
    "duration": 19,
    "start_time": "2022-08-23T09:24:51.594Z"
   },
   {
    "duration": 38,
    "start_time": "2022-08-23T09:24:51.614Z"
   },
   {
    "duration": 62,
    "start_time": "2022-08-23T09:24:51.654Z"
   },
   {
    "duration": 34,
    "start_time": "2022-08-23T09:24:51.718Z"
   },
   {
    "duration": 26,
    "start_time": "2022-08-23T09:24:51.753Z"
   },
   {
    "duration": 12,
    "start_time": "2022-08-23T09:24:51.780Z"
   },
   {
    "duration": 16,
    "start_time": "2022-08-23T09:24:51.794Z"
   },
   {
    "duration": 24,
    "start_time": "2022-08-23T09:24:51.812Z"
   },
   {
    "duration": 21,
    "start_time": "2022-08-23T09:24:51.838Z"
   },
   {
    "duration": 47,
    "start_time": "2022-08-23T09:24:51.860Z"
   },
   {
    "duration": 17,
    "start_time": "2022-08-23T09:24:51.908Z"
   },
   {
    "duration": 268,
    "start_time": "2022-08-23T09:24:51.927Z"
   },
   {
    "duration": 191,
    "start_time": "2022-08-23T09:24:52.197Z"
   },
   {
    "duration": 37,
    "start_time": "2022-08-23T09:24:52.389Z"
   },
   {
    "duration": 16,
    "start_time": "2022-08-23T09:24:52.428Z"
   },
   {
    "duration": 168,
    "start_time": "2022-08-23T09:24:52.446Z"
   },
   {
    "duration": 163,
    "start_time": "2022-08-23T09:24:52.618Z"
   },
   {
    "duration": 54,
    "start_time": "2022-08-23T09:24:52.783Z"
   },
   {
    "duration": 18,
    "start_time": "2022-08-23T09:24:52.839Z"
   },
   {
    "duration": 224,
    "start_time": "2022-08-23T09:25:27.919Z"
   },
   {
    "duration": 13,
    "start_time": "2022-08-23T09:26:30.678Z"
   },
   {
    "duration": 14,
    "start_time": "2022-08-23T09:26:40.409Z"
   },
   {
    "duration": 12,
    "start_time": "2022-08-23T09:26:57.656Z"
   },
   {
    "duration": 1080,
    "start_time": "2022-08-23T09:27:05.028Z"
   },
   {
    "duration": 594,
    "start_time": "2022-08-23T09:27:06.111Z"
   },
   {
    "duration": 82,
    "start_time": "2022-08-23T09:27:06.714Z"
   },
   {
    "duration": 236,
    "start_time": "2022-08-23T09:27:06.798Z"
   },
   {
    "duration": 3,
    "start_time": "2022-08-23T09:27:07.035Z"
   },
   {
    "duration": 210,
    "start_time": "2022-08-23T09:27:07.040Z"
   },
   {
    "duration": 215,
    "start_time": "2022-08-23T09:27:07.252Z"
   },
   {
    "duration": 33,
    "start_time": "2022-08-23T09:27:07.469Z"
   },
   {
    "duration": 240,
    "start_time": "2022-08-23T09:27:07.510Z"
   },
   {
    "duration": 12,
    "start_time": "2022-08-23T09:27:07.752Z"
   },
   {
    "duration": 8,
    "start_time": "2022-08-23T09:27:07.766Z"
   },
   {
    "duration": 11,
    "start_time": "2022-08-23T09:27:07.776Z"
   },
   {
    "duration": 28,
    "start_time": "2022-08-23T09:27:07.788Z"
   },
   {
    "duration": 59,
    "start_time": "2022-08-23T09:27:07.817Z"
   },
   {
    "duration": 7,
    "start_time": "2022-08-23T09:27:07.878Z"
   },
   {
    "duration": 25,
    "start_time": "2022-08-23T09:27:07.886Z"
   },
   {
    "duration": 6,
    "start_time": "2022-08-23T09:27:07.913Z"
   },
   {
    "duration": 10,
    "start_time": "2022-08-23T09:27:07.921Z"
   },
   {
    "duration": 11,
    "start_time": "2022-08-23T09:27:07.932Z"
   },
   {
    "duration": 14,
    "start_time": "2022-08-23T09:27:07.944Z"
   },
   {
    "duration": 55,
    "start_time": "2022-08-23T09:27:07.959Z"
   },
   {
    "duration": 17,
    "start_time": "2022-08-23T09:27:08.016Z"
   },
   {
    "duration": 269,
    "start_time": "2022-08-23T09:27:08.034Z"
   },
   {
    "duration": 185,
    "start_time": "2022-08-23T09:27:08.305Z"
   },
   {
    "duration": 28,
    "start_time": "2022-08-23T09:27:08.491Z"
   },
   {
    "duration": 16,
    "start_time": "2022-08-23T09:27:08.522Z"
   },
   {
    "duration": 147,
    "start_time": "2022-08-23T09:27:08.541Z"
   },
   {
    "duration": 143,
    "start_time": "2022-08-23T09:27:08.690Z"
   },
   {
    "duration": 35,
    "start_time": "2022-08-23T09:27:08.835Z"
   },
   {
    "duration": 17,
    "start_time": "2022-08-23T09:27:08.871Z"
   },
   {
    "duration": 8,
    "start_time": "2022-08-23T09:27:51.049Z"
   },
   {
    "duration": 53,
    "start_time": "2022-08-23T09:27:56.996Z"
   },
   {
    "duration": 7,
    "start_time": "2022-08-23T09:27:59.842Z"
   },
   {
    "duration": 9,
    "start_time": "2022-08-23T09:28:01.918Z"
   },
   {
    "duration": 7,
    "start_time": "2022-08-23T09:28:09.628Z"
   },
   {
    "duration": 9,
    "start_time": "2022-08-23T09:28:11.058Z"
   },
   {
    "duration": 16,
    "start_time": "2022-08-23T09:30:19.272Z"
   }
  ],
  "kernelspec": {
   "display_name": "Python 3",
   "language": "python",
   "name": "python3"
  },
  "language_info": {
   "codemirror_mode": {
    "name": "ipython",
    "version": 3
   },
   "file_extension": ".py",
   "mimetype": "text/x-python",
   "name": "python",
   "nbconvert_exporter": "python",
   "pygments_lexer": "ipython3",
   "version": "3.8.7"
  },
  "toc": {
   "base_numbering": 1,
   "nav_menu": {},
   "number_sections": true,
   "sideBar": true,
   "skip_h1_title": true,
   "title_cell": "Table of Contents",
   "title_sidebar": "Contents",
   "toc_cell": false,
   "toc_position": {},
   "toc_section_display": true,
   "toc_window_display": false
  }
 },
 "nbformat": 4,
 "nbformat_minor": 5
}
