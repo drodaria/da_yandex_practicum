{
 "cells": [
  {
   "cell_type": "markdown",
   "metadata": {},
   "source": [
    "<b><font size=5><center>Исследование объявлений о продаже квартир</center></font></b>"
   ]
  },
  {
   "cell_type": "markdown",
   "metadata": {},
   "source": [
    "### Суть проекта"
   ]
  },
  {
   "cell_type": "markdown",
   "metadata": {},
   "source": [
    "В вашем распоряжении данные сервиса Яндекc Недвижимость — архив объявлений о продаже квартир в Санкт-Петербурге и соседних населённых пунктах за несколько лет. Нужно научиться определять рыночную стоимость объектов недвижимости. Ваша задача — установить параметры. Это позволит построить автоматизированную систему: она отследит аномалии и мошенническую деятельность. \n",
    "\n",
    "По каждой квартире на продажу доступны два вида данных. Первые вписаны пользователем, вторые получены автоматически на основе картографических данных. Например, расстояние до центра, аэропорта, ближайшего парка и водоёма. "
   ]
  },
  {
   "cell_type": "markdown",
   "metadata": {},
   "source": [
    "### Описание проекта"
   ]
  },
  {
   "cell_type": "markdown",
   "metadata": {},
   "source": [
    "Мы проанализировали данные из объявлений о продаже кварир в Санкт-Петербурге и Ленинградской области. Для начала мы изучили данные на аномалии, пропуски, провели предобработку данных, поработали над типами данных и добавили еще несколько нужных столбцов. Затем мы проанализировали некоторые наиболее важные столбцы на распределение данных и избавились от выбросов, которые могли исказить итог. Мы выявили взаимосвязи между ценой и некоторыми показателями. А также проанализировали отдельно данные в центре Санкт-Петербурга и сравнили с общей картиной."
   ]
  },
  {
   "cell_type": "markdown",
   "metadata": {},
   "source": [
    "### Изучение данных из файла"
   ]
  },
  {
   "cell_type": "code",
   "execution_count": 1,
   "metadata": {},
   "outputs": [],
   "source": [
    "import pandas as pd               #импорт библиотек\n",
    "import matplotlib.pyplot as plt\n",
    "import seaborn as sns\n",
    "import warnings\n",
    "warnings.filterwarnings('ignore')"
   ]
  },
  {
   "cell_type": "code",
   "execution_count": 2,
   "metadata": {},
   "outputs": [
    {
     "name": "stdout",
     "output_type": "stream",
     "text": [
      "<class 'pandas.core.frame.DataFrame'>\n",
      "RangeIndex: 23699 entries, 0 to 23698\n",
      "Data columns (total 22 columns):\n",
      " #   Column                Non-Null Count  Dtype  \n",
      "---  ------                --------------  -----  \n",
      " 0   total_images          23699 non-null  int64  \n",
      " 1   last_price            23699 non-null  float64\n",
      " 2   total_area            23699 non-null  float64\n",
      " 3   first_day_exposition  23699 non-null  object \n",
      " 4   rooms                 23699 non-null  int64  \n",
      " 5   ceiling_height        14504 non-null  float64\n",
      " 6   floors_total          23613 non-null  float64\n",
      " 7   living_area           21796 non-null  float64\n",
      " 8   floor                 23699 non-null  int64  \n",
      " 9   is_apartment          2775 non-null   object \n",
      " 10  studio                23699 non-null  bool   \n",
      " 11  open_plan             23699 non-null  bool   \n",
      " 12  kitchen_area          21421 non-null  float64\n",
      " 13  balcony               12180 non-null  float64\n",
      " 14  locality_name         23650 non-null  object \n",
      " 15  airports_nearest      18157 non-null  float64\n",
      " 16  cityCenters_nearest   18180 non-null  float64\n",
      " 17  parks_around3000      18181 non-null  float64\n",
      " 18  parks_nearest         8079 non-null   float64\n",
      " 19  ponds_around3000      18181 non-null  float64\n",
      " 20  ponds_nearest         9110 non-null   float64\n",
      " 21  days_exposition       20518 non-null  float64\n",
      "dtypes: bool(2), float64(14), int64(3), object(3)\n",
      "memory usage: 3.7+ MB\n"
     ]
    },
    {
     "data": {
      "text/plain": [
       "None"
      ]
     },
     "metadata": {},
     "output_type": "display_data"
    },
    {
     "data": {
      "text/html": [
       "<div>\n",
       "<style scoped>\n",
       "    .dataframe tbody tr th:only-of-type {\n",
       "        vertical-align: middle;\n",
       "    }\n",
       "\n",
       "    .dataframe tbody tr th {\n",
       "        vertical-align: top;\n",
       "    }\n",
       "\n",
       "    .dataframe thead th {\n",
       "        text-align: right;\n",
       "    }\n",
       "</style>\n",
       "<table border=\"1\" class=\"dataframe\">\n",
       "  <thead>\n",
       "    <tr style=\"text-align: right;\">\n",
       "      <th></th>\n",
       "      <th>total_images</th>\n",
       "      <th>last_price</th>\n",
       "      <th>total_area</th>\n",
       "      <th>first_day_exposition</th>\n",
       "      <th>rooms</th>\n",
       "      <th>ceiling_height</th>\n",
       "      <th>floors_total</th>\n",
       "      <th>living_area</th>\n",
       "      <th>floor</th>\n",
       "      <th>is_apartment</th>\n",
       "      <th>...</th>\n",
       "      <th>kitchen_area</th>\n",
       "      <th>balcony</th>\n",
       "      <th>locality_name</th>\n",
       "      <th>airports_nearest</th>\n",
       "      <th>cityCenters_nearest</th>\n",
       "      <th>parks_around3000</th>\n",
       "      <th>parks_nearest</th>\n",
       "      <th>ponds_around3000</th>\n",
       "      <th>ponds_nearest</th>\n",
       "      <th>days_exposition</th>\n",
       "    </tr>\n",
       "  </thead>\n",
       "  <tbody>\n",
       "    <tr>\n",
       "      <th>0</th>\n",
       "      <td>20</td>\n",
       "      <td>13000000.0</td>\n",
       "      <td>108.00</td>\n",
       "      <td>2019-03-07T00:00:00</td>\n",
       "      <td>3</td>\n",
       "      <td>2.70</td>\n",
       "      <td>16.0</td>\n",
       "      <td>51.00</td>\n",
       "      <td>8</td>\n",
       "      <td>NaN</td>\n",
       "      <td>...</td>\n",
       "      <td>25.00</td>\n",
       "      <td>NaN</td>\n",
       "      <td>Санкт-Петербург</td>\n",
       "      <td>18863.0</td>\n",
       "      <td>16028.0</td>\n",
       "      <td>1.0</td>\n",
       "      <td>482.0</td>\n",
       "      <td>2.0</td>\n",
       "      <td>755.0</td>\n",
       "      <td>NaN</td>\n",
       "    </tr>\n",
       "    <tr>\n",
       "      <th>1</th>\n",
       "      <td>7</td>\n",
       "      <td>3350000.0</td>\n",
       "      <td>40.40</td>\n",
       "      <td>2018-12-04T00:00:00</td>\n",
       "      <td>1</td>\n",
       "      <td>NaN</td>\n",
       "      <td>11.0</td>\n",
       "      <td>18.60</td>\n",
       "      <td>1</td>\n",
       "      <td>NaN</td>\n",
       "      <td>...</td>\n",
       "      <td>11.00</td>\n",
       "      <td>2.0</td>\n",
       "      <td>посёлок Шушары</td>\n",
       "      <td>12817.0</td>\n",
       "      <td>18603.0</td>\n",
       "      <td>0.0</td>\n",
       "      <td>NaN</td>\n",
       "      <td>0.0</td>\n",
       "      <td>NaN</td>\n",
       "      <td>81.0</td>\n",
       "    </tr>\n",
       "    <tr>\n",
       "      <th>2</th>\n",
       "      <td>10</td>\n",
       "      <td>5196000.0</td>\n",
       "      <td>56.00</td>\n",
       "      <td>2015-08-20T00:00:00</td>\n",
       "      <td>2</td>\n",
       "      <td>NaN</td>\n",
       "      <td>5.0</td>\n",
       "      <td>34.30</td>\n",
       "      <td>4</td>\n",
       "      <td>NaN</td>\n",
       "      <td>...</td>\n",
       "      <td>8.30</td>\n",
       "      <td>0.0</td>\n",
       "      <td>Санкт-Петербург</td>\n",
       "      <td>21741.0</td>\n",
       "      <td>13933.0</td>\n",
       "      <td>1.0</td>\n",
       "      <td>90.0</td>\n",
       "      <td>2.0</td>\n",
       "      <td>574.0</td>\n",
       "      <td>558.0</td>\n",
       "    </tr>\n",
       "    <tr>\n",
       "      <th>3</th>\n",
       "      <td>0</td>\n",
       "      <td>64900000.0</td>\n",
       "      <td>159.00</td>\n",
       "      <td>2015-07-24T00:00:00</td>\n",
       "      <td>3</td>\n",
       "      <td>NaN</td>\n",
       "      <td>14.0</td>\n",
       "      <td>NaN</td>\n",
       "      <td>9</td>\n",
       "      <td>NaN</td>\n",
       "      <td>...</td>\n",
       "      <td>NaN</td>\n",
       "      <td>0.0</td>\n",
       "      <td>Санкт-Петербург</td>\n",
       "      <td>28098.0</td>\n",
       "      <td>6800.0</td>\n",
       "      <td>2.0</td>\n",
       "      <td>84.0</td>\n",
       "      <td>3.0</td>\n",
       "      <td>234.0</td>\n",
       "      <td>424.0</td>\n",
       "    </tr>\n",
       "    <tr>\n",
       "      <th>4</th>\n",
       "      <td>2</td>\n",
       "      <td>10000000.0</td>\n",
       "      <td>100.00</td>\n",
       "      <td>2018-06-19T00:00:00</td>\n",
       "      <td>2</td>\n",
       "      <td>3.03</td>\n",
       "      <td>14.0</td>\n",
       "      <td>32.00</td>\n",
       "      <td>13</td>\n",
       "      <td>NaN</td>\n",
       "      <td>...</td>\n",
       "      <td>41.00</td>\n",
       "      <td>NaN</td>\n",
       "      <td>Санкт-Петербург</td>\n",
       "      <td>31856.0</td>\n",
       "      <td>8098.0</td>\n",
       "      <td>2.0</td>\n",
       "      <td>112.0</td>\n",
       "      <td>1.0</td>\n",
       "      <td>48.0</td>\n",
       "      <td>121.0</td>\n",
       "    </tr>\n",
       "    <tr>\n",
       "      <th>5</th>\n",
       "      <td>10</td>\n",
       "      <td>2890000.0</td>\n",
       "      <td>30.40</td>\n",
       "      <td>2018-09-10T00:00:00</td>\n",
       "      <td>1</td>\n",
       "      <td>NaN</td>\n",
       "      <td>12.0</td>\n",
       "      <td>14.40</td>\n",
       "      <td>5</td>\n",
       "      <td>NaN</td>\n",
       "      <td>...</td>\n",
       "      <td>9.10</td>\n",
       "      <td>NaN</td>\n",
       "      <td>городской посёлок Янино-1</td>\n",
       "      <td>NaN</td>\n",
       "      <td>NaN</td>\n",
       "      <td>NaN</td>\n",
       "      <td>NaN</td>\n",
       "      <td>NaN</td>\n",
       "      <td>NaN</td>\n",
       "      <td>55.0</td>\n",
       "    </tr>\n",
       "    <tr>\n",
       "      <th>6</th>\n",
       "      <td>6</td>\n",
       "      <td>3700000.0</td>\n",
       "      <td>37.30</td>\n",
       "      <td>2017-11-02T00:00:00</td>\n",
       "      <td>1</td>\n",
       "      <td>NaN</td>\n",
       "      <td>26.0</td>\n",
       "      <td>10.60</td>\n",
       "      <td>6</td>\n",
       "      <td>NaN</td>\n",
       "      <td>...</td>\n",
       "      <td>14.40</td>\n",
       "      <td>1.0</td>\n",
       "      <td>посёлок Парголово</td>\n",
       "      <td>52996.0</td>\n",
       "      <td>19143.0</td>\n",
       "      <td>0.0</td>\n",
       "      <td>NaN</td>\n",
       "      <td>0.0</td>\n",
       "      <td>NaN</td>\n",
       "      <td>155.0</td>\n",
       "    </tr>\n",
       "    <tr>\n",
       "      <th>7</th>\n",
       "      <td>5</td>\n",
       "      <td>7915000.0</td>\n",
       "      <td>71.60</td>\n",
       "      <td>2019-04-18T00:00:00</td>\n",
       "      <td>2</td>\n",
       "      <td>NaN</td>\n",
       "      <td>24.0</td>\n",
       "      <td>NaN</td>\n",
       "      <td>22</td>\n",
       "      <td>NaN</td>\n",
       "      <td>...</td>\n",
       "      <td>18.90</td>\n",
       "      <td>2.0</td>\n",
       "      <td>Санкт-Петербург</td>\n",
       "      <td>23982.0</td>\n",
       "      <td>11634.0</td>\n",
       "      <td>0.0</td>\n",
       "      <td>NaN</td>\n",
       "      <td>0.0</td>\n",
       "      <td>NaN</td>\n",
       "      <td>NaN</td>\n",
       "    </tr>\n",
       "    <tr>\n",
       "      <th>8</th>\n",
       "      <td>20</td>\n",
       "      <td>2900000.0</td>\n",
       "      <td>33.16</td>\n",
       "      <td>2018-05-23T00:00:00</td>\n",
       "      <td>1</td>\n",
       "      <td>NaN</td>\n",
       "      <td>27.0</td>\n",
       "      <td>15.43</td>\n",
       "      <td>26</td>\n",
       "      <td>NaN</td>\n",
       "      <td>...</td>\n",
       "      <td>8.81</td>\n",
       "      <td>NaN</td>\n",
       "      <td>посёлок Мурино</td>\n",
       "      <td>NaN</td>\n",
       "      <td>NaN</td>\n",
       "      <td>NaN</td>\n",
       "      <td>NaN</td>\n",
       "      <td>NaN</td>\n",
       "      <td>NaN</td>\n",
       "      <td>189.0</td>\n",
       "    </tr>\n",
       "    <tr>\n",
       "      <th>9</th>\n",
       "      <td>18</td>\n",
       "      <td>5400000.0</td>\n",
       "      <td>61.00</td>\n",
       "      <td>2017-02-26T00:00:00</td>\n",
       "      <td>3</td>\n",
       "      <td>2.50</td>\n",
       "      <td>9.0</td>\n",
       "      <td>43.60</td>\n",
       "      <td>7</td>\n",
       "      <td>NaN</td>\n",
       "      <td>...</td>\n",
       "      <td>6.50</td>\n",
       "      <td>2.0</td>\n",
       "      <td>Санкт-Петербург</td>\n",
       "      <td>50898.0</td>\n",
       "      <td>15008.0</td>\n",
       "      <td>0.0</td>\n",
       "      <td>NaN</td>\n",
       "      <td>0.0</td>\n",
       "      <td>NaN</td>\n",
       "      <td>289.0</td>\n",
       "    </tr>\n",
       "  </tbody>\n",
       "</table>\n",
       "<p>10 rows × 22 columns</p>\n",
       "</div>"
      ],
      "text/plain": [
       "   total_images  last_price  total_area first_day_exposition  rooms  \\\n",
       "0            20  13000000.0      108.00  2019-03-07T00:00:00      3   \n",
       "1             7   3350000.0       40.40  2018-12-04T00:00:00      1   \n",
       "2            10   5196000.0       56.00  2015-08-20T00:00:00      2   \n",
       "3             0  64900000.0      159.00  2015-07-24T00:00:00      3   \n",
       "4             2  10000000.0      100.00  2018-06-19T00:00:00      2   \n",
       "5            10   2890000.0       30.40  2018-09-10T00:00:00      1   \n",
       "6             6   3700000.0       37.30  2017-11-02T00:00:00      1   \n",
       "7             5   7915000.0       71.60  2019-04-18T00:00:00      2   \n",
       "8            20   2900000.0       33.16  2018-05-23T00:00:00      1   \n",
       "9            18   5400000.0       61.00  2017-02-26T00:00:00      3   \n",
       "\n",
       "   ceiling_height  floors_total  living_area  floor is_apartment  ...  \\\n",
       "0            2.70          16.0        51.00      8          NaN  ...   \n",
       "1             NaN          11.0        18.60      1          NaN  ...   \n",
       "2             NaN           5.0        34.30      4          NaN  ...   \n",
       "3             NaN          14.0          NaN      9          NaN  ...   \n",
       "4            3.03          14.0        32.00     13          NaN  ...   \n",
       "5             NaN          12.0        14.40      5          NaN  ...   \n",
       "6             NaN          26.0        10.60      6          NaN  ...   \n",
       "7             NaN          24.0          NaN     22          NaN  ...   \n",
       "8             NaN          27.0        15.43     26          NaN  ...   \n",
       "9            2.50           9.0        43.60      7          NaN  ...   \n",
       "\n",
       "   kitchen_area  balcony              locality_name  airports_nearest  \\\n",
       "0         25.00      NaN            Санкт-Петербург           18863.0   \n",
       "1         11.00      2.0             посёлок Шушары           12817.0   \n",
       "2          8.30      0.0            Санкт-Петербург           21741.0   \n",
       "3           NaN      0.0            Санкт-Петербург           28098.0   \n",
       "4         41.00      NaN            Санкт-Петербург           31856.0   \n",
       "5          9.10      NaN  городской посёлок Янино-1               NaN   \n",
       "6         14.40      1.0          посёлок Парголово           52996.0   \n",
       "7         18.90      2.0            Санкт-Петербург           23982.0   \n",
       "8          8.81      NaN             посёлок Мурино               NaN   \n",
       "9          6.50      2.0            Санкт-Петербург           50898.0   \n",
       "\n",
       "  cityCenters_nearest  parks_around3000  parks_nearest  ponds_around3000  \\\n",
       "0             16028.0               1.0          482.0               2.0   \n",
       "1             18603.0               0.0            NaN               0.0   \n",
       "2             13933.0               1.0           90.0               2.0   \n",
       "3              6800.0               2.0           84.0               3.0   \n",
       "4              8098.0               2.0          112.0               1.0   \n",
       "5                 NaN               NaN            NaN               NaN   \n",
       "6             19143.0               0.0            NaN               0.0   \n",
       "7             11634.0               0.0            NaN               0.0   \n",
       "8                 NaN               NaN            NaN               NaN   \n",
       "9             15008.0               0.0            NaN               0.0   \n",
       "\n",
       "   ponds_nearest  days_exposition  \n",
       "0          755.0              NaN  \n",
       "1            NaN             81.0  \n",
       "2          574.0            558.0  \n",
       "3          234.0            424.0  \n",
       "4           48.0            121.0  \n",
       "5            NaN             55.0  \n",
       "6            NaN            155.0  \n",
       "7            NaN              NaN  \n",
       "8            NaN            189.0  \n",
       "9            NaN            289.0  \n",
       "\n",
       "[10 rows x 22 columns]"
      ]
     },
     "metadata": {},
     "output_type": "display_data"
    }
   ],
   "source": [
    "data = pd.read_csv(r'C:\\Users\\mi\\Downloads\\real_estate_data.csv', sep='\\t') #извлечение данных\n",
    "\n",
    "display(data.info())\n",
    "display(data.head(10))"
   ]
  },
  {
   "cell_type": "markdown",
   "metadata": {},
   "source": [
    "Изучим отдельные столбцы на пропуски и аномалии, и логически обработаем их. Первый столбец, в котором были выявлены пропуски - высота потолков. При выводе количества уникальных значений в столбце была обнаружена квартира с потолками в 100 метров. Многовато. Надо проверить - есть ли еще подобные выдающиеся значения. "
   ]
  },
  {
   "cell_type": "code",
   "execution_count": 3,
   "metadata": {},
   "outputs": [
    {
     "name": "stdout",
     "output_type": "stream",
     "text": [
      "Количество пропусков в столбце - 9195\n",
      "2.50    3515\n",
      "2.60    1646\n",
      "2.70    1574\n",
      "3.00    1112\n",
      "2.80     993\n",
      "        ... \n",
      "5.00       1\n",
      "2.20       1\n",
      "2.34       1\n",
      "3.93       1\n",
      "3.59       1\n",
      "Name: ceiling_height, Length: 183, dtype: int64\n"
     ]
    }
   ],
   "source": [
    "print('Количество пропусков в столбце -', data['ceiling_height'].isna().sum())\n",
    "print(data['ceiling_height'].value_counts())"
   ]
  },
  {
   "cell_type": "markdown",
   "metadata": {},
   "source": [
    "Отсеем значения стобца больше 10 (теоретическая максимально возможная высота потолков в квартире). Заодно проверим значения высоты потолков меньше 2 метров (мало ли). \n",
    "Действительно, таких значений оказалось много. И окинув взглядом, можно предположить, что данная путаница возникла из-за неправильной расстановки запятых. Обратим внимание на значения высоты 1.20, 1.75, 14.0 и 10.3. Предположим, что минимальные и максимальное значение высоты потолков 2 метра и 10 метров. Куда бы мы не перенесли запятую в этих значених, они выходят из ряда вон. Тогда в значении больше 20 перенесем запятую на один знак влево. В значении высоты потолка 1 метр та же ситуация - перенесем запятую на одно значение вправо. Остальные \"из ряда вон\" строки наверняка логически обработать не получится - проcто безболезненно их удалим."
   ]
  },
  {
   "cell_type": "code",
   "execution_count": 4,
   "metadata": {
    "scrolled": true
   },
   "outputs": [
    {
     "data": {
      "text/html": [
       "<div>\n",
       "<style scoped>\n",
       "    .dataframe tbody tr th:only-of-type {\n",
       "        vertical-align: middle;\n",
       "    }\n",
       "\n",
       "    .dataframe tbody tr th {\n",
       "        vertical-align: top;\n",
       "    }\n",
       "\n",
       "    .dataframe thead th {\n",
       "        text-align: right;\n",
       "    }\n",
       "</style>\n",
       "<table border=\"1\" class=\"dataframe\">\n",
       "  <thead>\n",
       "    <tr style=\"text-align: right;\">\n",
       "      <th></th>\n",
       "      <th>total_images</th>\n",
       "      <th>last_price</th>\n",
       "      <th>total_area</th>\n",
       "      <th>first_day_exposition</th>\n",
       "      <th>rooms</th>\n",
       "      <th>ceiling_height</th>\n",
       "      <th>floors_total</th>\n",
       "      <th>living_area</th>\n",
       "      <th>floor</th>\n",
       "      <th>is_apartment</th>\n",
       "      <th>...</th>\n",
       "      <th>kitchen_area</th>\n",
       "      <th>balcony</th>\n",
       "      <th>locality_name</th>\n",
       "      <th>airports_nearest</th>\n",
       "      <th>cityCenters_nearest</th>\n",
       "      <th>parks_around3000</th>\n",
       "      <th>parks_nearest</th>\n",
       "      <th>ponds_around3000</th>\n",
       "      <th>ponds_nearest</th>\n",
       "      <th>days_exposition</th>\n",
       "    </tr>\n",
       "  </thead>\n",
       "  <tbody>\n",
       "    <tr>\n",
       "      <th>5712</th>\n",
       "      <td>5</td>\n",
       "      <td>1500000.0</td>\n",
       "      <td>42.8</td>\n",
       "      <td>2017-08-14T00:00:00</td>\n",
       "      <td>2</td>\n",
       "      <td>1.20</td>\n",
       "      <td>2.0</td>\n",
       "      <td>27.5</td>\n",
       "      <td>1</td>\n",
       "      <td>NaN</td>\n",
       "      <td>...</td>\n",
       "      <td>5.20</td>\n",
       "      <td>NaN</td>\n",
       "      <td>городской посёлок Мга</td>\n",
       "      <td>NaN</td>\n",
       "      <td>NaN</td>\n",
       "      <td>NaN</td>\n",
       "      <td>NaN</td>\n",
       "      <td>NaN</td>\n",
       "      <td>NaN</td>\n",
       "      <td>248.0</td>\n",
       "    </tr>\n",
       "    <tr>\n",
       "      <th>16934</th>\n",
       "      <td>5</td>\n",
       "      <td>4100000.0</td>\n",
       "      <td>40.0</td>\n",
       "      <td>2017-10-17T00:00:00</td>\n",
       "      <td>1</td>\n",
       "      <td>1.75</td>\n",
       "      <td>37.0</td>\n",
       "      <td>17.4</td>\n",
       "      <td>5</td>\n",
       "      <td>NaN</td>\n",
       "      <td>...</td>\n",
       "      <td>8.34</td>\n",
       "      <td>NaN</td>\n",
       "      <td>Санкт-Петербург</td>\n",
       "      <td>18732.0</td>\n",
       "      <td>20444.0</td>\n",
       "      <td>0.0</td>\n",
       "      <td>NaN</td>\n",
       "      <td>3.0</td>\n",
       "      <td>80.0</td>\n",
       "      <td>71.0</td>\n",
       "    </tr>\n",
       "    <tr>\n",
       "      <th>22590</th>\n",
       "      <td>16</td>\n",
       "      <td>6000000.0</td>\n",
       "      <td>55.0</td>\n",
       "      <td>2018-10-31T00:00:00</td>\n",
       "      <td>2</td>\n",
       "      <td>1.00</td>\n",
       "      <td>12.0</td>\n",
       "      <td>32.4</td>\n",
       "      <td>7</td>\n",
       "      <td>NaN</td>\n",
       "      <td>...</td>\n",
       "      <td>10.00</td>\n",
       "      <td>NaN</td>\n",
       "      <td>Санкт-Петербург</td>\n",
       "      <td>33053.0</td>\n",
       "      <td>14217.0</td>\n",
       "      <td>2.0</td>\n",
       "      <td>293.0</td>\n",
       "      <td>2.0</td>\n",
       "      <td>289.0</td>\n",
       "      <td>13.0</td>\n",
       "    </tr>\n",
       "  </tbody>\n",
       "</table>\n",
       "<p>3 rows × 22 columns</p>\n",
       "</div>"
      ],
      "text/plain": [
       "       total_images  last_price  total_area first_day_exposition  rooms  \\\n",
       "5712              5   1500000.0        42.8  2017-08-14T00:00:00      2   \n",
       "16934             5   4100000.0        40.0  2017-10-17T00:00:00      1   \n",
       "22590            16   6000000.0        55.0  2018-10-31T00:00:00      2   \n",
       "\n",
       "       ceiling_height  floors_total  living_area  floor is_apartment  ...  \\\n",
       "5712             1.20           2.0         27.5      1          NaN  ...   \n",
       "16934            1.75          37.0         17.4      5          NaN  ...   \n",
       "22590            1.00          12.0         32.4      7          NaN  ...   \n",
       "\n",
       "       kitchen_area  balcony          locality_name  airports_nearest  \\\n",
       "5712           5.20      NaN  городской посёлок Мга               NaN   \n",
       "16934          8.34      NaN        Санкт-Петербург           18732.0   \n",
       "22590         10.00      NaN        Санкт-Петербург           33053.0   \n",
       "\n",
       "      cityCenters_nearest  parks_around3000  parks_nearest  ponds_around3000  \\\n",
       "5712                  NaN               NaN            NaN               NaN   \n",
       "16934             20444.0               0.0            NaN               3.0   \n",
       "22590             14217.0               2.0          293.0               2.0   \n",
       "\n",
       "       ponds_nearest  days_exposition  \n",
       "5712             NaN            248.0  \n",
       "16934           80.0             71.0  \n",
       "22590          289.0             13.0  \n",
       "\n",
       "[3 rows x 22 columns]"
      ]
     },
     "metadata": {},
     "output_type": "display_data"
    },
    {
     "data": {
      "text/html": [
       "<div>\n",
       "<style scoped>\n",
       "    .dataframe tbody tr th:only-of-type {\n",
       "        vertical-align: middle;\n",
       "    }\n",
       "\n",
       "    .dataframe tbody tr th {\n",
       "        vertical-align: top;\n",
       "    }\n",
       "\n",
       "    .dataframe thead th {\n",
       "        text-align: right;\n",
       "    }\n",
       "</style>\n",
       "<table border=\"1\" class=\"dataframe\">\n",
       "  <thead>\n",
       "    <tr style=\"text-align: right;\">\n",
       "      <th></th>\n",
       "      <th>total_images</th>\n",
       "      <th>last_price</th>\n",
       "      <th>total_area</th>\n",
       "      <th>first_day_exposition</th>\n",
       "      <th>rooms</th>\n",
       "      <th>ceiling_height</th>\n",
       "      <th>floors_total</th>\n",
       "      <th>living_area</th>\n",
       "      <th>floor</th>\n",
       "      <th>is_apartment</th>\n",
       "      <th>...</th>\n",
       "      <th>kitchen_area</th>\n",
       "      <th>balcony</th>\n",
       "      <th>locality_name</th>\n",
       "      <th>airports_nearest</th>\n",
       "      <th>cityCenters_nearest</th>\n",
       "      <th>parks_around3000</th>\n",
       "      <th>parks_nearest</th>\n",
       "      <th>ponds_around3000</th>\n",
       "      <th>ponds_nearest</th>\n",
       "      <th>days_exposition</th>\n",
       "    </tr>\n",
       "  </thead>\n",
       "  <tbody>\n",
       "    <tr>\n",
       "      <th>355</th>\n",
       "      <td>17</td>\n",
       "      <td>3600000.0</td>\n",
       "      <td>55.2</td>\n",
       "      <td>2018-07-12T00:00:00</td>\n",
       "      <td>2</td>\n",
       "      <td>25.0</td>\n",
       "      <td>5.0</td>\n",
       "      <td>32.0</td>\n",
       "      <td>2</td>\n",
       "      <td>False</td>\n",
       "      <td>...</td>\n",
       "      <td>NaN</td>\n",
       "      <td>2.0</td>\n",
       "      <td>Гатчина</td>\n",
       "      <td>NaN</td>\n",
       "      <td>NaN</td>\n",
       "      <td>NaN</td>\n",
       "      <td>NaN</td>\n",
       "      <td>NaN</td>\n",
       "      <td>NaN</td>\n",
       "      <td>259.0</td>\n",
       "    </tr>\n",
       "    <tr>\n",
       "      <th>3148</th>\n",
       "      <td>14</td>\n",
       "      <td>2900000.0</td>\n",
       "      <td>75.0</td>\n",
       "      <td>2018-11-12T00:00:00</td>\n",
       "      <td>3</td>\n",
       "      <td>32.0</td>\n",
       "      <td>3.0</td>\n",
       "      <td>53.0</td>\n",
       "      <td>2</td>\n",
       "      <td>NaN</td>\n",
       "      <td>...</td>\n",
       "      <td>8.0</td>\n",
       "      <td>NaN</td>\n",
       "      <td>Волхов</td>\n",
       "      <td>NaN</td>\n",
       "      <td>NaN</td>\n",
       "      <td>NaN</td>\n",
       "      <td>NaN</td>\n",
       "      <td>NaN</td>\n",
       "      <td>NaN</td>\n",
       "      <td>NaN</td>\n",
       "    </tr>\n",
       "    <tr>\n",
       "      <th>4643</th>\n",
       "      <td>0</td>\n",
       "      <td>4300000.0</td>\n",
       "      <td>45.0</td>\n",
       "      <td>2018-02-01T00:00:00</td>\n",
       "      <td>2</td>\n",
       "      <td>25.0</td>\n",
       "      <td>9.0</td>\n",
       "      <td>30.0</td>\n",
       "      <td>2</td>\n",
       "      <td>NaN</td>\n",
       "      <td>...</td>\n",
       "      <td>7.0</td>\n",
       "      <td>1.0</td>\n",
       "      <td>Санкт-Петербург</td>\n",
       "      <td>12016.0</td>\n",
       "      <td>13256.0</td>\n",
       "      <td>1.0</td>\n",
       "      <td>658.0</td>\n",
       "      <td>1.0</td>\n",
       "      <td>331.0</td>\n",
       "      <td>181.0</td>\n",
       "    </tr>\n",
       "    <tr>\n",
       "      <th>4876</th>\n",
       "      <td>7</td>\n",
       "      <td>3000000.0</td>\n",
       "      <td>25.0</td>\n",
       "      <td>2017-09-27T00:00:00</td>\n",
       "      <td>0</td>\n",
       "      <td>27.0</td>\n",
       "      <td>25.0</td>\n",
       "      <td>17.0</td>\n",
       "      <td>17</td>\n",
       "      <td>NaN</td>\n",
       "      <td>...</td>\n",
       "      <td>NaN</td>\n",
       "      <td>2.0</td>\n",
       "      <td>посёлок Мурино</td>\n",
       "      <td>NaN</td>\n",
       "      <td>NaN</td>\n",
       "      <td>NaN</td>\n",
       "      <td>NaN</td>\n",
       "      <td>NaN</td>\n",
       "      <td>NaN</td>\n",
       "      <td>28.0</td>\n",
       "    </tr>\n",
       "    <tr>\n",
       "      <th>5076</th>\n",
       "      <td>0</td>\n",
       "      <td>3850000.0</td>\n",
       "      <td>30.5</td>\n",
       "      <td>2018-10-03T00:00:00</td>\n",
       "      <td>1</td>\n",
       "      <td>24.0</td>\n",
       "      <td>5.0</td>\n",
       "      <td>19.5</td>\n",
       "      <td>1</td>\n",
       "      <td>True</td>\n",
       "      <td>...</td>\n",
       "      <td>5.5</td>\n",
       "      <td>NaN</td>\n",
       "      <td>Санкт-Петербург</td>\n",
       "      <td>29686.0</td>\n",
       "      <td>8389.0</td>\n",
       "      <td>3.0</td>\n",
       "      <td>397.0</td>\n",
       "      <td>1.0</td>\n",
       "      <td>578.0</td>\n",
       "      <td>7.0</td>\n",
       "    </tr>\n",
       "    <tr>\n",
       "      <th>5246</th>\n",
       "      <td>0</td>\n",
       "      <td>2500000.0</td>\n",
       "      <td>54.0</td>\n",
       "      <td>2017-10-13T00:00:00</td>\n",
       "      <td>2</td>\n",
       "      <td>27.0</td>\n",
       "      <td>5.0</td>\n",
       "      <td>30.0</td>\n",
       "      <td>3</td>\n",
       "      <td>NaN</td>\n",
       "      <td>...</td>\n",
       "      <td>9.0</td>\n",
       "      <td>2.0</td>\n",
       "      <td>деревня Мины</td>\n",
       "      <td>NaN</td>\n",
       "      <td>NaN</td>\n",
       "      <td>NaN</td>\n",
       "      <td>NaN</td>\n",
       "      <td>NaN</td>\n",
       "      <td>NaN</td>\n",
       "      <td>540.0</td>\n",
       "    </tr>\n",
       "    <tr>\n",
       "      <th>5669</th>\n",
       "      <td>4</td>\n",
       "      <td>4400000.0</td>\n",
       "      <td>50.0</td>\n",
       "      <td>2017-08-08T00:00:00</td>\n",
       "      <td>2</td>\n",
       "      <td>26.0</td>\n",
       "      <td>9.0</td>\n",
       "      <td>21.3</td>\n",
       "      <td>3</td>\n",
       "      <td>NaN</td>\n",
       "      <td>...</td>\n",
       "      <td>7.0</td>\n",
       "      <td>2.0</td>\n",
       "      <td>Санкт-Петербург</td>\n",
       "      <td>28981.0</td>\n",
       "      <td>10912.0</td>\n",
       "      <td>1.0</td>\n",
       "      <td>305.0</td>\n",
       "      <td>0.0</td>\n",
       "      <td>NaN</td>\n",
       "      <td>267.0</td>\n",
       "    </tr>\n",
       "    <tr>\n",
       "      <th>5807</th>\n",
       "      <td>17</td>\n",
       "      <td>8150000.0</td>\n",
       "      <td>80.0</td>\n",
       "      <td>2019-01-09T00:00:00</td>\n",
       "      <td>2</td>\n",
       "      <td>27.0</td>\n",
       "      <td>36.0</td>\n",
       "      <td>41.0</td>\n",
       "      <td>13</td>\n",
       "      <td>NaN</td>\n",
       "      <td>...</td>\n",
       "      <td>12.0</td>\n",
       "      <td>5.0</td>\n",
       "      <td>Санкт-Петербург</td>\n",
       "      <td>18732.0</td>\n",
       "      <td>20444.0</td>\n",
       "      <td>0.0</td>\n",
       "      <td>NaN</td>\n",
       "      <td>3.0</td>\n",
       "      <td>80.0</td>\n",
       "      <td>38.0</td>\n",
       "    </tr>\n",
       "    <tr>\n",
       "      <th>6246</th>\n",
       "      <td>6</td>\n",
       "      <td>3300000.0</td>\n",
       "      <td>44.4</td>\n",
       "      <td>2019-03-25T00:00:00</td>\n",
       "      <td>2</td>\n",
       "      <td>25.0</td>\n",
       "      <td>5.0</td>\n",
       "      <td>31.3</td>\n",
       "      <td>5</td>\n",
       "      <td>NaN</td>\n",
       "      <td>...</td>\n",
       "      <td>5.7</td>\n",
       "      <td>NaN</td>\n",
       "      <td>Кронштадт</td>\n",
       "      <td>68923.0</td>\n",
       "      <td>50649.0</td>\n",
       "      <td>1.0</td>\n",
       "      <td>417.0</td>\n",
       "      <td>2.0</td>\n",
       "      <td>73.0</td>\n",
       "      <td>NaN</td>\n",
       "    </tr>\n",
       "    <tr>\n",
       "      <th>9379</th>\n",
       "      <td>5</td>\n",
       "      <td>3950000.0</td>\n",
       "      <td>42.0</td>\n",
       "      <td>2017-03-26T00:00:00</td>\n",
       "      <td>3</td>\n",
       "      <td>25.0</td>\n",
       "      <td>5.0</td>\n",
       "      <td>30.0</td>\n",
       "      <td>2</td>\n",
       "      <td>NaN</td>\n",
       "      <td>...</td>\n",
       "      <td>5.2</td>\n",
       "      <td>NaN</td>\n",
       "      <td>Санкт-Петербург</td>\n",
       "      <td>11647.0</td>\n",
       "      <td>13581.0</td>\n",
       "      <td>0.0</td>\n",
       "      <td>NaN</td>\n",
       "      <td>0.0</td>\n",
       "      <td>NaN</td>\n",
       "      <td>NaN</td>\n",
       "    </tr>\n",
       "    <tr>\n",
       "      <th>10773</th>\n",
       "      <td>8</td>\n",
       "      <td>3800000.0</td>\n",
       "      <td>58.0</td>\n",
       "      <td>2017-10-13T00:00:00</td>\n",
       "      <td>2</td>\n",
       "      <td>27.0</td>\n",
       "      <td>10.0</td>\n",
       "      <td>30.1</td>\n",
       "      <td>3</td>\n",
       "      <td>False</td>\n",
       "      <td>...</td>\n",
       "      <td>8.1</td>\n",
       "      <td>2.0</td>\n",
       "      <td>посёлок Мурино</td>\n",
       "      <td>NaN</td>\n",
       "      <td>NaN</td>\n",
       "      <td>NaN</td>\n",
       "      <td>NaN</td>\n",
       "      <td>NaN</td>\n",
       "      <td>NaN</td>\n",
       "      <td>71.0</td>\n",
       "    </tr>\n",
       "    <tr>\n",
       "      <th>11285</th>\n",
       "      <td>0</td>\n",
       "      <td>1950000.0</td>\n",
       "      <td>37.0</td>\n",
       "      <td>2019-03-20T00:00:00</td>\n",
       "      <td>1</td>\n",
       "      <td>25.0</td>\n",
       "      <td>5.0</td>\n",
       "      <td>17.0</td>\n",
       "      <td>4</td>\n",
       "      <td>False</td>\n",
       "      <td>...</td>\n",
       "      <td>9.0</td>\n",
       "      <td>2.0</td>\n",
       "      <td>Луга</td>\n",
       "      <td>NaN</td>\n",
       "      <td>NaN</td>\n",
       "      <td>NaN</td>\n",
       "      <td>NaN</td>\n",
       "      <td>NaN</td>\n",
       "      <td>NaN</td>\n",
       "      <td>18.0</td>\n",
       "    </tr>\n",
       "    <tr>\n",
       "      <th>14382</th>\n",
       "      <td>9</td>\n",
       "      <td>1700000.0</td>\n",
       "      <td>35.0</td>\n",
       "      <td>2015-12-04T00:00:00</td>\n",
       "      <td>1</td>\n",
       "      <td>25.0</td>\n",
       "      <td>5.0</td>\n",
       "      <td>20.0</td>\n",
       "      <td>2</td>\n",
       "      <td>False</td>\n",
       "      <td>...</td>\n",
       "      <td>8.0</td>\n",
       "      <td>1.0</td>\n",
       "      <td>поселок Новый Свет</td>\n",
       "      <td>NaN</td>\n",
       "      <td>NaN</td>\n",
       "      <td>NaN</td>\n",
       "      <td>NaN</td>\n",
       "      <td>NaN</td>\n",
       "      <td>NaN</td>\n",
       "      <td>206.0</td>\n",
       "    </tr>\n",
       "    <tr>\n",
       "      <th>15061</th>\n",
       "      <td>19</td>\n",
       "      <td>5600000.0</td>\n",
       "      <td>56.4</td>\n",
       "      <td>2018-05-11T00:00:00</td>\n",
       "      <td>2</td>\n",
       "      <td>14.0</td>\n",
       "      <td>14.0</td>\n",
       "      <td>32.4</td>\n",
       "      <td>5</td>\n",
       "      <td>NaN</td>\n",
       "      <td>...</td>\n",
       "      <td>9.1</td>\n",
       "      <td>2.0</td>\n",
       "      <td>Санкт-Петербург</td>\n",
       "      <td>14814.0</td>\n",
       "      <td>13610.0</td>\n",
       "      <td>0.0</td>\n",
       "      <td>NaN</td>\n",
       "      <td>0.0</td>\n",
       "      <td>NaN</td>\n",
       "      <td>315.0</td>\n",
       "    </tr>\n",
       "    <tr>\n",
       "      <th>17496</th>\n",
       "      <td>15</td>\n",
       "      <td>6700000.0</td>\n",
       "      <td>92.9</td>\n",
       "      <td>2019-02-19T00:00:00</td>\n",
       "      <td>3</td>\n",
       "      <td>20.0</td>\n",
       "      <td>17.0</td>\n",
       "      <td>53.2</td>\n",
       "      <td>14</td>\n",
       "      <td>NaN</td>\n",
       "      <td>...</td>\n",
       "      <td>12.0</td>\n",
       "      <td>5.0</td>\n",
       "      <td>Санкт-Петербург</td>\n",
       "      <td>16295.0</td>\n",
       "      <td>15092.0</td>\n",
       "      <td>1.0</td>\n",
       "      <td>967.0</td>\n",
       "      <td>0.0</td>\n",
       "      <td>NaN</td>\n",
       "      <td>NaN</td>\n",
       "    </tr>\n",
       "    <tr>\n",
       "      <th>17857</th>\n",
       "      <td>1</td>\n",
       "      <td>3900000.0</td>\n",
       "      <td>56.0</td>\n",
       "      <td>2017-12-22T00:00:00</td>\n",
       "      <td>3</td>\n",
       "      <td>27.0</td>\n",
       "      <td>5.0</td>\n",
       "      <td>33.0</td>\n",
       "      <td>4</td>\n",
       "      <td>False</td>\n",
       "      <td>...</td>\n",
       "      <td>NaN</td>\n",
       "      <td>NaN</td>\n",
       "      <td>Санкт-Петербург</td>\n",
       "      <td>41030.0</td>\n",
       "      <td>15543.0</td>\n",
       "      <td>0.0</td>\n",
       "      <td>NaN</td>\n",
       "      <td>0.0</td>\n",
       "      <td>NaN</td>\n",
       "      <td>73.0</td>\n",
       "    </tr>\n",
       "    <tr>\n",
       "      <th>18545</th>\n",
       "      <td>6</td>\n",
       "      <td>3750000.0</td>\n",
       "      <td>43.0</td>\n",
       "      <td>2019-03-18T00:00:00</td>\n",
       "      <td>2</td>\n",
       "      <td>25.0</td>\n",
       "      <td>5.0</td>\n",
       "      <td>29.0</td>\n",
       "      <td>3</td>\n",
       "      <td>False</td>\n",
       "      <td>...</td>\n",
       "      <td>NaN</td>\n",
       "      <td>NaN</td>\n",
       "      <td>Санкт-Петербург</td>\n",
       "      <td>27054.0</td>\n",
       "      <td>8033.0</td>\n",
       "      <td>1.0</td>\n",
       "      <td>540.0</td>\n",
       "      <td>0.0</td>\n",
       "      <td>NaN</td>\n",
       "      <td>12.0</td>\n",
       "    </tr>\n",
       "    <tr>\n",
       "      <th>20478</th>\n",
       "      <td>11</td>\n",
       "      <td>8000000.0</td>\n",
       "      <td>45.0</td>\n",
       "      <td>2017-07-18T00:00:00</td>\n",
       "      <td>1</td>\n",
       "      <td>27.0</td>\n",
       "      <td>4.0</td>\n",
       "      <td>22.0</td>\n",
       "      <td>2</td>\n",
       "      <td>NaN</td>\n",
       "      <td>...</td>\n",
       "      <td>10.0</td>\n",
       "      <td>1.0</td>\n",
       "      <td>Санкт-Петербург</td>\n",
       "      <td>18975.0</td>\n",
       "      <td>3246.0</td>\n",
       "      <td>0.0</td>\n",
       "      <td>NaN</td>\n",
       "      <td>3.0</td>\n",
       "      <td>449.0</td>\n",
       "      <td>429.0</td>\n",
       "    </tr>\n",
       "    <tr>\n",
       "      <th>20507</th>\n",
       "      <td>12</td>\n",
       "      <td>5950000.0</td>\n",
       "      <td>60.0</td>\n",
       "      <td>2018-02-19T00:00:00</td>\n",
       "      <td>2</td>\n",
       "      <td>22.6</td>\n",
       "      <td>14.0</td>\n",
       "      <td>35.0</td>\n",
       "      <td>11</td>\n",
       "      <td>NaN</td>\n",
       "      <td>...</td>\n",
       "      <td>13.0</td>\n",
       "      <td>1.0</td>\n",
       "      <td>Санкт-Петербург</td>\n",
       "      <td>27028.0</td>\n",
       "      <td>12570.0</td>\n",
       "      <td>0.0</td>\n",
       "      <td>NaN</td>\n",
       "      <td>0.0</td>\n",
       "      <td>NaN</td>\n",
       "      <td>40.0</td>\n",
       "    </tr>\n",
       "    <tr>\n",
       "      <th>21377</th>\n",
       "      <td>19</td>\n",
       "      <td>4900000.0</td>\n",
       "      <td>42.0</td>\n",
       "      <td>2017-04-18T00:00:00</td>\n",
       "      <td>1</td>\n",
       "      <td>27.5</td>\n",
       "      <td>24.0</td>\n",
       "      <td>37.7</td>\n",
       "      <td>19</td>\n",
       "      <td>False</td>\n",
       "      <td>...</td>\n",
       "      <td>11.0</td>\n",
       "      <td>2.0</td>\n",
       "      <td>Санкт-Петербург</td>\n",
       "      <td>42742.0</td>\n",
       "      <td>9760.0</td>\n",
       "      <td>0.0</td>\n",
       "      <td>NaN</td>\n",
       "      <td>0.0</td>\n",
       "      <td>NaN</td>\n",
       "      <td>61.0</td>\n",
       "    </tr>\n",
       "    <tr>\n",
       "      <th>21824</th>\n",
       "      <td>20</td>\n",
       "      <td>2450000.0</td>\n",
       "      <td>44.0</td>\n",
       "      <td>2019-02-12T00:00:00</td>\n",
       "      <td>2</td>\n",
       "      <td>27.0</td>\n",
       "      <td>2.0</td>\n",
       "      <td>38.0</td>\n",
       "      <td>2</td>\n",
       "      <td>False</td>\n",
       "      <td>...</td>\n",
       "      <td>8.6</td>\n",
       "      <td>2.0</td>\n",
       "      <td>городской поселок Большая Ижора</td>\n",
       "      <td>NaN</td>\n",
       "      <td>NaN</td>\n",
       "      <td>NaN</td>\n",
       "      <td>NaN</td>\n",
       "      <td>NaN</td>\n",
       "      <td>NaN</td>\n",
       "      <td>NaN</td>\n",
       "    </tr>\n",
       "    <tr>\n",
       "      <th>22309</th>\n",
       "      <td>20</td>\n",
       "      <td>5300000.0</td>\n",
       "      <td>45.0</td>\n",
       "      <td>2017-09-30T00:00:00</td>\n",
       "      <td>1</td>\n",
       "      <td>10.3</td>\n",
       "      <td>16.0</td>\n",
       "      <td>15.5</td>\n",
       "      <td>15</td>\n",
       "      <td>NaN</td>\n",
       "      <td>...</td>\n",
       "      <td>NaN</td>\n",
       "      <td>NaN</td>\n",
       "      <td>Санкт-Петербург</td>\n",
       "      <td>36353.0</td>\n",
       "      <td>11936.0</td>\n",
       "      <td>2.0</td>\n",
       "      <td>440.0</td>\n",
       "      <td>2.0</td>\n",
       "      <td>450.0</td>\n",
       "      <td>136.0</td>\n",
       "    </tr>\n",
       "    <tr>\n",
       "      <th>22336</th>\n",
       "      <td>19</td>\n",
       "      <td>9999000.0</td>\n",
       "      <td>92.4</td>\n",
       "      <td>2019-04-05T00:00:00</td>\n",
       "      <td>2</td>\n",
       "      <td>32.0</td>\n",
       "      <td>6.0</td>\n",
       "      <td>55.5</td>\n",
       "      <td>5</td>\n",
       "      <td>False</td>\n",
       "      <td>...</td>\n",
       "      <td>16.5</td>\n",
       "      <td>4.0</td>\n",
       "      <td>Санкт-Петербург</td>\n",
       "      <td>18838.0</td>\n",
       "      <td>3506.0</td>\n",
       "      <td>0.0</td>\n",
       "      <td>NaN</td>\n",
       "      <td>3.0</td>\n",
       "      <td>511.0</td>\n",
       "      <td>NaN</td>\n",
       "    </tr>\n",
       "    <tr>\n",
       "      <th>22869</th>\n",
       "      <td>0</td>\n",
       "      <td>15000000.0</td>\n",
       "      <td>25.0</td>\n",
       "      <td>2018-07-25T00:00:00</td>\n",
       "      <td>1</td>\n",
       "      <td>100.0</td>\n",
       "      <td>5.0</td>\n",
       "      <td>14.0</td>\n",
       "      <td>5</td>\n",
       "      <td>True</td>\n",
       "      <td>...</td>\n",
       "      <td>11.0</td>\n",
       "      <td>5.0</td>\n",
       "      <td>Санкт-Петербург</td>\n",
       "      <td>34963.0</td>\n",
       "      <td>8283.0</td>\n",
       "      <td>1.0</td>\n",
       "      <td>223.0</td>\n",
       "      <td>3.0</td>\n",
       "      <td>30.0</td>\n",
       "      <td>19.0</td>\n",
       "    </tr>\n",
       "    <tr>\n",
       "      <th>22938</th>\n",
       "      <td>14</td>\n",
       "      <td>4000000.0</td>\n",
       "      <td>98.0</td>\n",
       "      <td>2018-03-15T00:00:00</td>\n",
       "      <td>4</td>\n",
       "      <td>27.0</td>\n",
       "      <td>2.0</td>\n",
       "      <td>73.0</td>\n",
       "      <td>2</td>\n",
       "      <td>True</td>\n",
       "      <td>...</td>\n",
       "      <td>9.0</td>\n",
       "      <td>1.0</td>\n",
       "      <td>деревня Нижняя</td>\n",
       "      <td>NaN</td>\n",
       "      <td>NaN</td>\n",
       "      <td>NaN</td>\n",
       "      <td>NaN</td>\n",
       "      <td>NaN</td>\n",
       "      <td>NaN</td>\n",
       "      <td>27.0</td>\n",
       "    </tr>\n",
       "  </tbody>\n",
       "</table>\n",
       "<p>25 rows × 22 columns</p>\n",
       "</div>"
      ],
      "text/plain": [
       "       total_images  last_price  total_area first_day_exposition  rooms  \\\n",
       "355              17   3600000.0        55.2  2018-07-12T00:00:00      2   \n",
       "3148             14   2900000.0        75.0  2018-11-12T00:00:00      3   \n",
       "4643              0   4300000.0        45.0  2018-02-01T00:00:00      2   \n",
       "4876              7   3000000.0        25.0  2017-09-27T00:00:00      0   \n",
       "5076              0   3850000.0        30.5  2018-10-03T00:00:00      1   \n",
       "5246              0   2500000.0        54.0  2017-10-13T00:00:00      2   \n",
       "5669              4   4400000.0        50.0  2017-08-08T00:00:00      2   \n",
       "5807             17   8150000.0        80.0  2019-01-09T00:00:00      2   \n",
       "6246              6   3300000.0        44.4  2019-03-25T00:00:00      2   \n",
       "9379              5   3950000.0        42.0  2017-03-26T00:00:00      3   \n",
       "10773             8   3800000.0        58.0  2017-10-13T00:00:00      2   \n",
       "11285             0   1950000.0        37.0  2019-03-20T00:00:00      1   \n",
       "14382             9   1700000.0        35.0  2015-12-04T00:00:00      1   \n",
       "15061            19   5600000.0        56.4  2018-05-11T00:00:00      2   \n",
       "17496            15   6700000.0        92.9  2019-02-19T00:00:00      3   \n",
       "17857             1   3900000.0        56.0  2017-12-22T00:00:00      3   \n",
       "18545             6   3750000.0        43.0  2019-03-18T00:00:00      2   \n",
       "20478            11   8000000.0        45.0  2017-07-18T00:00:00      1   \n",
       "20507            12   5950000.0        60.0  2018-02-19T00:00:00      2   \n",
       "21377            19   4900000.0        42.0  2017-04-18T00:00:00      1   \n",
       "21824            20   2450000.0        44.0  2019-02-12T00:00:00      2   \n",
       "22309            20   5300000.0        45.0  2017-09-30T00:00:00      1   \n",
       "22336            19   9999000.0        92.4  2019-04-05T00:00:00      2   \n",
       "22869             0  15000000.0        25.0  2018-07-25T00:00:00      1   \n",
       "22938            14   4000000.0        98.0  2018-03-15T00:00:00      4   \n",
       "\n",
       "       ceiling_height  floors_total  living_area  floor is_apartment  ...  \\\n",
       "355              25.0           5.0         32.0      2        False  ...   \n",
       "3148             32.0           3.0         53.0      2          NaN  ...   \n",
       "4643             25.0           9.0         30.0      2          NaN  ...   \n",
       "4876             27.0          25.0         17.0     17          NaN  ...   \n",
       "5076             24.0           5.0         19.5      1         True  ...   \n",
       "5246             27.0           5.0         30.0      3          NaN  ...   \n",
       "5669             26.0           9.0         21.3      3          NaN  ...   \n",
       "5807             27.0          36.0         41.0     13          NaN  ...   \n",
       "6246             25.0           5.0         31.3      5          NaN  ...   \n",
       "9379             25.0           5.0         30.0      2          NaN  ...   \n",
       "10773            27.0          10.0         30.1      3        False  ...   \n",
       "11285            25.0           5.0         17.0      4        False  ...   \n",
       "14382            25.0           5.0         20.0      2        False  ...   \n",
       "15061            14.0          14.0         32.4      5          NaN  ...   \n",
       "17496            20.0          17.0         53.2     14          NaN  ...   \n",
       "17857            27.0           5.0         33.0      4        False  ...   \n",
       "18545            25.0           5.0         29.0      3        False  ...   \n",
       "20478            27.0           4.0         22.0      2          NaN  ...   \n",
       "20507            22.6          14.0         35.0     11          NaN  ...   \n",
       "21377            27.5          24.0         37.7     19        False  ...   \n",
       "21824            27.0           2.0         38.0      2        False  ...   \n",
       "22309            10.3          16.0         15.5     15          NaN  ...   \n",
       "22336            32.0           6.0         55.5      5        False  ...   \n",
       "22869           100.0           5.0         14.0      5         True  ...   \n",
       "22938            27.0           2.0         73.0      2         True  ...   \n",
       "\n",
       "       kitchen_area  balcony                    locality_name  \\\n",
       "355             NaN      2.0                          Гатчина   \n",
       "3148            8.0      NaN                           Волхов   \n",
       "4643            7.0      1.0                  Санкт-Петербург   \n",
       "4876            NaN      2.0                   посёлок Мурино   \n",
       "5076            5.5      NaN                  Санкт-Петербург   \n",
       "5246            9.0      2.0                     деревня Мины   \n",
       "5669            7.0      2.0                  Санкт-Петербург   \n",
       "5807           12.0      5.0                  Санкт-Петербург   \n",
       "6246            5.7      NaN                        Кронштадт   \n",
       "9379            5.2      NaN                  Санкт-Петербург   \n",
       "10773           8.1      2.0                   посёлок Мурино   \n",
       "11285           9.0      2.0                             Луга   \n",
       "14382           8.0      1.0               поселок Новый Свет   \n",
       "15061           9.1      2.0                  Санкт-Петербург   \n",
       "17496          12.0      5.0                  Санкт-Петербург   \n",
       "17857           NaN      NaN                  Санкт-Петербург   \n",
       "18545           NaN      NaN                  Санкт-Петербург   \n",
       "20478          10.0      1.0                  Санкт-Петербург   \n",
       "20507          13.0      1.0                  Санкт-Петербург   \n",
       "21377          11.0      2.0                  Санкт-Петербург   \n",
       "21824           8.6      2.0  городской поселок Большая Ижора   \n",
       "22309           NaN      NaN                  Санкт-Петербург   \n",
       "22336          16.5      4.0                  Санкт-Петербург   \n",
       "22869          11.0      5.0                  Санкт-Петербург   \n",
       "22938           9.0      1.0                   деревня Нижняя   \n",
       "\n",
       "       airports_nearest cityCenters_nearest  parks_around3000  parks_nearest  \\\n",
       "355                 NaN                 NaN               NaN            NaN   \n",
       "3148                NaN                 NaN               NaN            NaN   \n",
       "4643            12016.0             13256.0               1.0          658.0   \n",
       "4876                NaN                 NaN               NaN            NaN   \n",
       "5076            29686.0              8389.0               3.0          397.0   \n",
       "5246                NaN                 NaN               NaN            NaN   \n",
       "5669            28981.0             10912.0               1.0          305.0   \n",
       "5807            18732.0             20444.0               0.0            NaN   \n",
       "6246            68923.0             50649.0               1.0          417.0   \n",
       "9379            11647.0             13581.0               0.0            NaN   \n",
       "10773               NaN                 NaN               NaN            NaN   \n",
       "11285               NaN                 NaN               NaN            NaN   \n",
       "14382               NaN                 NaN               NaN            NaN   \n",
       "15061           14814.0             13610.0               0.0            NaN   \n",
       "17496           16295.0             15092.0               1.0          967.0   \n",
       "17857           41030.0             15543.0               0.0            NaN   \n",
       "18545           27054.0              8033.0               1.0          540.0   \n",
       "20478           18975.0              3246.0               0.0            NaN   \n",
       "20507           27028.0             12570.0               0.0            NaN   \n",
       "21377           42742.0              9760.0               0.0            NaN   \n",
       "21824               NaN                 NaN               NaN            NaN   \n",
       "22309           36353.0             11936.0               2.0          440.0   \n",
       "22336           18838.0              3506.0               0.0            NaN   \n",
       "22869           34963.0              8283.0               1.0          223.0   \n",
       "22938               NaN                 NaN               NaN            NaN   \n",
       "\n",
       "       ponds_around3000  ponds_nearest  days_exposition  \n",
       "355                 NaN            NaN            259.0  \n",
       "3148                NaN            NaN              NaN  \n",
       "4643                1.0          331.0            181.0  \n",
       "4876                NaN            NaN             28.0  \n",
       "5076                1.0          578.0              7.0  \n",
       "5246                NaN            NaN            540.0  \n",
       "5669                0.0            NaN            267.0  \n",
       "5807                3.0           80.0             38.0  \n",
       "6246                2.0           73.0              NaN  \n",
       "9379                0.0            NaN              NaN  \n",
       "10773               NaN            NaN             71.0  \n",
       "11285               NaN            NaN             18.0  \n",
       "14382               NaN            NaN            206.0  \n",
       "15061               0.0            NaN            315.0  \n",
       "17496               0.0            NaN              NaN  \n",
       "17857               0.0            NaN             73.0  \n",
       "18545               0.0            NaN             12.0  \n",
       "20478               3.0          449.0            429.0  \n",
       "20507               0.0            NaN             40.0  \n",
       "21377               0.0            NaN             61.0  \n",
       "21824               NaN            NaN              NaN  \n",
       "22309               2.0          450.0            136.0  \n",
       "22336               3.0          511.0              NaN  \n",
       "22869               3.0           30.0             19.0  \n",
       "22938               NaN            NaN             27.0  \n",
       "\n",
       "[25 rows x 22 columns]"
      ]
     },
     "metadata": {},
     "output_type": "display_data"
    },
    {
     "name": "stdout",
     "output_type": "stream",
     "text": [
      "2.50    3522\n",
      "2.60    1647\n",
      "2.70    1582\n",
      "3.00    1112\n",
      "2.80     993\n",
      "        ... \n",
      "3.84       1\n",
      "3.43       1\n",
      "4.30       1\n",
      "3.39       1\n",
      "3.59       1\n",
      "Name: ceiling_height, Length: 169, dtype: int64\n"
     ]
    }
   ],
   "source": [
    "display(data.query('ceiling_height < 2'))\n",
    "data.loc[data['ceiling_height'] == 1.00, 'ceiling_height'] *=10\n",
    "display(data.query('ceiling_height > 10'))\n",
    "data.loc[data['ceiling_height'] > 20, 'ceiling_height'] /= 10\n",
    "data = data.loc[data['ceiling_height'] > 2].reset_index(drop=True)\n",
    "data = data.loc[data['ceiling_height'] < 10].reset_index(drop=True)\n",
    "#Проверка\n",
    "print(data['ceiling_height'].value_counts())"
   ]
  },
  {
   "cell_type": "markdown",
   "metadata": {},
   "source": [
    "Теперь можно почистить пропуски. Судя по матрице корелляции, между высотой потолков и другими параметрами в таблице нет сильной взаимосвязи, чтобы можно было экстраполировать данные на пропуски. Поэтому просто заменим пропуски медианным значением по столбцу."
   ]
  },
  {
   "cell_type": "code",
   "execution_count": 5,
   "metadata": {},
   "outputs": [
    {
     "data": {
      "text/html": [
       "<div>\n",
       "<style scoped>\n",
       "    .dataframe tbody tr th:only-of-type {\n",
       "        vertical-align: middle;\n",
       "    }\n",
       "\n",
       "    .dataframe tbody tr th {\n",
       "        vertical-align: top;\n",
       "    }\n",
       "\n",
       "    .dataframe thead th {\n",
       "        text-align: right;\n",
       "    }\n",
       "</style>\n",
       "<table border=\"1\" class=\"dataframe\">\n",
       "  <thead>\n",
       "    <tr style=\"text-align: right;\">\n",
       "      <th></th>\n",
       "      <th>total_images</th>\n",
       "      <th>last_price</th>\n",
       "      <th>total_area</th>\n",
       "      <th>rooms</th>\n",
       "      <th>ceiling_height</th>\n",
       "      <th>floors_total</th>\n",
       "      <th>living_area</th>\n",
       "      <th>floor</th>\n",
       "      <th>studio</th>\n",
       "      <th>open_plan</th>\n",
       "      <th>kitchen_area</th>\n",
       "      <th>balcony</th>\n",
       "      <th>airports_nearest</th>\n",
       "      <th>cityCenters_nearest</th>\n",
       "      <th>parks_around3000</th>\n",
       "      <th>parks_nearest</th>\n",
       "      <th>ponds_around3000</th>\n",
       "      <th>ponds_nearest</th>\n",
       "      <th>days_exposition</th>\n",
       "    </tr>\n",
       "  </thead>\n",
       "  <tbody>\n",
       "    <tr>\n",
       "      <th>total_images</th>\n",
       "      <td>1.000000</td>\n",
       "      <td>0.117708</td>\n",
       "      <td>0.111385</td>\n",
       "      <td>0.089234</td>\n",
       "      <td>0.044077</td>\n",
       "      <td>0.029300</td>\n",
       "      <td>0.095931</td>\n",
       "      <td>0.043615</td>\n",
       "      <td>-0.029487</td>\n",
       "      <td>-0.018239</td>\n",
       "      <td>0.117611</td>\n",
       "      <td>0.108031</td>\n",
       "      <td>-0.000900</td>\n",
       "      <td>-0.045336</td>\n",
       "      <td>0.018020</td>\n",
       "      <td>0.005513</td>\n",
       "      <td>-0.011603</td>\n",
       "      <td>0.000209</td>\n",
       "      <td>-0.036809</td>\n",
       "    </tr>\n",
       "    <tr>\n",
       "      <th>last_price</th>\n",
       "      <td>0.117708</td>\n",
       "      <td>1.000000</td>\n",
       "      <td>0.713045</td>\n",
       "      <td>0.401564</td>\n",
       "      <td>0.379410</td>\n",
       "      <td>0.003425</td>\n",
       "      <td>0.615495</td>\n",
       "      <td>0.037727</td>\n",
       "      <td>-0.025243</td>\n",
       "      <td>0.004607</td>\n",
       "      <td>0.535928</td>\n",
       "      <td>0.014136</td>\n",
       "      <td>-0.027633</td>\n",
       "      <td>-0.227163</td>\n",
       "      <td>0.181628</td>\n",
       "      <td>-0.024303</td>\n",
       "      <td>0.174769</td>\n",
       "      <td>-0.121871</td>\n",
       "      <td>0.094298</td>\n",
       "    </tr>\n",
       "    <tr>\n",
       "      <th>total_area</th>\n",
       "      <td>0.111385</td>\n",
       "      <td>0.713045</td>\n",
       "      <td>1.000000</td>\n",
       "      <td>0.760895</td>\n",
       "      <td>0.458354</td>\n",
       "      <td>-0.058044</td>\n",
       "      <td>0.942677</td>\n",
       "      <td>-0.007054</td>\n",
       "      <td>-0.065306</td>\n",
       "      <td>-0.000118</td>\n",
       "      <td>0.612443</td>\n",
       "      <td>0.046450</td>\n",
       "      <td>-0.029770</td>\n",
       "      <td>-0.239617</td>\n",
       "      <td>0.186421</td>\n",
       "      <td>-0.030230</td>\n",
       "      <td>0.160692</td>\n",
       "      <td>-0.127968</td>\n",
       "      <td>0.159605</td>\n",
       "    </tr>\n",
       "    <tr>\n",
       "      <th>rooms</th>\n",
       "      <td>0.089234</td>\n",
       "      <td>0.401564</td>\n",
       "      <td>0.760895</td>\n",
       "      <td>1.000000</td>\n",
       "      <td>0.280672</td>\n",
       "      <td>-0.209097</td>\n",
       "      <td>0.846737</td>\n",
       "      <td>-0.136763</td>\n",
       "      <td>-0.137862</td>\n",
       "      <td>-0.037234</td>\n",
       "      <td>0.282744</td>\n",
       "      <td>0.035423</td>\n",
       "      <td>-0.058008</td>\n",
       "      <td>-0.189632</td>\n",
       "      <td>0.144640</td>\n",
       "      <td>-0.046245</td>\n",
       "      <td>0.094295</td>\n",
       "      <td>-0.087050</td>\n",
       "      <td>0.143799</td>\n",
       "    </tr>\n",
       "    <tr>\n",
       "      <th>ceiling_height</th>\n",
       "      <td>0.044077</td>\n",
       "      <td>0.379410</td>\n",
       "      <td>0.458354</td>\n",
       "      <td>0.280672</td>\n",
       "      <td>1.000000</td>\n",
       "      <td>-0.090379</td>\n",
       "      <td>0.436287</td>\n",
       "      <td>-0.045818</td>\n",
       "      <td>0.017956</td>\n",
       "      <td>0.010954</td>\n",
       "      <td>0.401283</td>\n",
       "      <td>-0.079128</td>\n",
       "      <td>-0.102306</td>\n",
       "      <td>-0.350059</td>\n",
       "      <td>0.259928</td>\n",
       "      <td>-0.055376</td>\n",
       "      <td>0.226061</td>\n",
       "      <td>-0.137030</td>\n",
       "      <td>0.125047</td>\n",
       "    </tr>\n",
       "    <tr>\n",
       "      <th>floors_total</th>\n",
       "      <td>0.029300</td>\n",
       "      <td>0.003425</td>\n",
       "      <td>-0.058044</td>\n",
       "      <td>-0.209097</td>\n",
       "      <td>-0.090379</td>\n",
       "      <td>1.000000</td>\n",
       "      <td>-0.151414</td>\n",
       "      <td>0.675139</td>\n",
       "      <td>0.057416</td>\n",
       "      <td>0.022660</td>\n",
       "      <td>0.168558</td>\n",
       "      <td>0.191887</td>\n",
       "      <td>0.113744</td>\n",
       "      <td>0.008387</td>\n",
       "      <td>-0.233031</td>\n",
       "      <td>0.090050</td>\n",
       "      <td>-0.129744</td>\n",
       "      <td>0.062166</td>\n",
       "      <td>-0.056324</td>\n",
       "    </tr>\n",
       "    <tr>\n",
       "      <th>living_area</th>\n",
       "      <td>0.095931</td>\n",
       "      <td>0.615495</td>\n",
       "      <td>0.942677</td>\n",
       "      <td>0.846737</td>\n",
       "      <td>0.436287</td>\n",
       "      <td>-0.151414</td>\n",
       "      <td>1.000000</td>\n",
       "      <td>-0.080678</td>\n",
       "      <td>-0.050412</td>\n",
       "      <td>-0.011989</td>\n",
       "      <td>0.439161</td>\n",
       "      <td>0.017384</td>\n",
       "      <td>-0.053809</td>\n",
       "      <td>-0.238603</td>\n",
       "      <td>0.195833</td>\n",
       "      <td>-0.050035</td>\n",
       "      <td>0.145603</td>\n",
       "      <td>-0.111567</td>\n",
       "      <td>0.150363</td>\n",
       "    </tr>\n",
       "    <tr>\n",
       "      <th>floor</th>\n",
       "      <td>0.043615</td>\n",
       "      <td>0.037727</td>\n",
       "      <td>-0.007054</td>\n",
       "      <td>-0.136763</td>\n",
       "      <td>-0.045818</td>\n",
       "      <td>0.675139</td>\n",
       "      <td>-0.080678</td>\n",
       "      <td>1.000000</td>\n",
       "      <td>0.032262</td>\n",
       "      <td>0.019816</td>\n",
       "      <td>0.142801</td>\n",
       "      <td>0.167781</td>\n",
       "      <td>0.077310</td>\n",
       "      <td>-0.002077</td>\n",
       "      <td>-0.148284</td>\n",
       "      <td>0.065690</td>\n",
       "      <td>-0.074210</td>\n",
       "      <td>0.033905</td>\n",
       "      <td>-0.035097</td>\n",
       "    </tr>\n",
       "    <tr>\n",
       "      <th>studio</th>\n",
       "      <td>-0.029487</td>\n",
       "      <td>-0.025243</td>\n",
       "      <td>-0.065306</td>\n",
       "      <td>-0.137862</td>\n",
       "      <td>0.017956</td>\n",
       "      <td>0.057416</td>\n",
       "      <td>-0.050412</td>\n",
       "      <td>0.032262</td>\n",
       "      <td>1.000000</td>\n",
       "      <td>-0.002354</td>\n",
       "      <td>NaN</td>\n",
       "      <td>0.017128</td>\n",
       "      <td>-0.020190</td>\n",
       "      <td>-0.012781</td>\n",
       "      <td>-0.028572</td>\n",
       "      <td>-0.006498</td>\n",
       "      <td>0.000218</td>\n",
       "      <td>0.006792</td>\n",
       "      <td>-0.013167</td>\n",
       "    </tr>\n",
       "    <tr>\n",
       "      <th>open_plan</th>\n",
       "      <td>-0.018239</td>\n",
       "      <td>0.004607</td>\n",
       "      <td>-0.000118</td>\n",
       "      <td>-0.037234</td>\n",
       "      <td>0.010954</td>\n",
       "      <td>0.022660</td>\n",
       "      <td>-0.011989</td>\n",
       "      <td>0.019816</td>\n",
       "      <td>-0.002354</td>\n",
       "      <td>1.000000</td>\n",
       "      <td>NaN</td>\n",
       "      <td>0.002231</td>\n",
       "      <td>-0.006402</td>\n",
       "      <td>-0.002761</td>\n",
       "      <td>-0.000433</td>\n",
       "      <td>0.003172</td>\n",
       "      <td>0.006234</td>\n",
       "      <td>-0.004602</td>\n",
       "      <td>-0.013522</td>\n",
       "    </tr>\n",
       "    <tr>\n",
       "      <th>kitchen_area</th>\n",
       "      <td>0.117611</td>\n",
       "      <td>0.535928</td>\n",
       "      <td>0.612443</td>\n",
       "      <td>0.282744</td>\n",
       "      <td>0.401283</td>\n",
       "      <td>0.168558</td>\n",
       "      <td>0.439161</td>\n",
       "      <td>0.142801</td>\n",
       "      <td>NaN</td>\n",
       "      <td>NaN</td>\n",
       "      <td>1.000000</td>\n",
       "      <td>0.087567</td>\n",
       "      <td>-0.000644</td>\n",
       "      <td>-0.199086</td>\n",
       "      <td>0.113815</td>\n",
       "      <td>0.011800</td>\n",
       "      <td>0.151164</td>\n",
       "      <td>-0.119372</td>\n",
       "      <td>0.113442</td>\n",
       "    </tr>\n",
       "    <tr>\n",
       "      <th>balcony</th>\n",
       "      <td>0.108031</td>\n",
       "      <td>0.014136</td>\n",
       "      <td>0.046450</td>\n",
       "      <td>0.035423</td>\n",
       "      <td>-0.079128</td>\n",
       "      <td>0.191887</td>\n",
       "      <td>0.017384</td>\n",
       "      <td>0.167781</td>\n",
       "      <td>0.017128</td>\n",
       "      <td>0.002231</td>\n",
       "      <td>0.087567</td>\n",
       "      <td>1.000000</td>\n",
       "      <td>0.071538</td>\n",
       "      <td>0.052217</td>\n",
       "      <td>-0.102228</td>\n",
       "      <td>0.054321</td>\n",
       "      <td>-0.057264</td>\n",
       "      <td>0.009634</td>\n",
       "      <td>-0.037488</td>\n",
       "    </tr>\n",
       "    <tr>\n",
       "      <th>airports_nearest</th>\n",
       "      <td>-0.000900</td>\n",
       "      <td>-0.027633</td>\n",
       "      <td>-0.029770</td>\n",
       "      <td>-0.058008</td>\n",
       "      <td>-0.102306</td>\n",
       "      <td>0.113744</td>\n",
       "      <td>-0.053809</td>\n",
       "      <td>0.077310</td>\n",
       "      <td>-0.020190</td>\n",
       "      <td>-0.006402</td>\n",
       "      <td>-0.000644</td>\n",
       "      <td>0.071538</td>\n",
       "      <td>1.000000</td>\n",
       "      <td>0.290710</td>\n",
       "      <td>0.011186</td>\n",
       "      <td>-0.060855</td>\n",
       "      <td>-0.044338</td>\n",
       "      <td>0.010734</td>\n",
       "      <td>-0.019211</td>\n",
       "    </tr>\n",
       "    <tr>\n",
       "      <th>cityCenters_nearest</th>\n",
       "      <td>-0.045336</td>\n",
       "      <td>-0.227163</td>\n",
       "      <td>-0.239617</td>\n",
       "      <td>-0.189632</td>\n",
       "      <td>-0.350059</td>\n",
       "      <td>0.008387</td>\n",
       "      <td>-0.238603</td>\n",
       "      <td>-0.002077</td>\n",
       "      <td>-0.012781</td>\n",
       "      <td>-0.002761</td>\n",
       "      <td>-0.199086</td>\n",
       "      <td>0.052217</td>\n",
       "      <td>0.290710</td>\n",
       "      <td>1.000000</td>\n",
       "      <td>-0.162041</td>\n",
       "      <td>-0.038059</td>\n",
       "      <td>-0.072942</td>\n",
       "      <td>0.045713</td>\n",
       "      <td>-0.057618</td>\n",
       "    </tr>\n",
       "    <tr>\n",
       "      <th>parks_around3000</th>\n",
       "      <td>0.018020</td>\n",
       "      <td>0.181628</td>\n",
       "      <td>0.186421</td>\n",
       "      <td>0.144640</td>\n",
       "      <td>0.259928</td>\n",
       "      <td>-0.233031</td>\n",
       "      <td>0.195833</td>\n",
       "      <td>-0.148284</td>\n",
       "      <td>-0.028572</td>\n",
       "      <td>-0.000433</td>\n",
       "      <td>0.113815</td>\n",
       "      <td>-0.102228</td>\n",
       "      <td>0.011186</td>\n",
       "      <td>-0.162041</td>\n",
       "      <td>1.000000</td>\n",
       "      <td>-0.244307</td>\n",
       "      <td>0.319957</td>\n",
       "      <td>-0.192788</td>\n",
       "      <td>0.065990</td>\n",
       "    </tr>\n",
       "    <tr>\n",
       "      <th>parks_nearest</th>\n",
       "      <td>0.005513</td>\n",
       "      <td>-0.024303</td>\n",
       "      <td>-0.030230</td>\n",
       "      <td>-0.046245</td>\n",
       "      <td>-0.055376</td>\n",
       "      <td>0.090050</td>\n",
       "      <td>-0.050035</td>\n",
       "      <td>0.065690</td>\n",
       "      <td>-0.006498</td>\n",
       "      <td>0.003172</td>\n",
       "      <td>0.011800</td>\n",
       "      <td>0.054321</td>\n",
       "      <td>-0.060855</td>\n",
       "      <td>-0.038059</td>\n",
       "      <td>-0.244307</td>\n",
       "      <td>1.000000</td>\n",
       "      <td>0.054619</td>\n",
       "      <td>0.012774</td>\n",
       "      <td>0.016659</td>\n",
       "    </tr>\n",
       "    <tr>\n",
       "      <th>ponds_around3000</th>\n",
       "      <td>-0.011603</td>\n",
       "      <td>0.174769</td>\n",
       "      <td>0.160692</td>\n",
       "      <td>0.094295</td>\n",
       "      <td>0.226061</td>\n",
       "      <td>-0.129744</td>\n",
       "      <td>0.145603</td>\n",
       "      <td>-0.074210</td>\n",
       "      <td>0.000218</td>\n",
       "      <td>0.006234</td>\n",
       "      <td>0.151164</td>\n",
       "      <td>-0.057264</td>\n",
       "      <td>-0.044338</td>\n",
       "      <td>-0.072942</td>\n",
       "      <td>0.319957</td>\n",
       "      <td>0.054619</td>\n",
       "      <td>1.000000</td>\n",
       "      <td>-0.350447</td>\n",
       "      <td>0.068952</td>\n",
       "    </tr>\n",
       "    <tr>\n",
       "      <th>ponds_nearest</th>\n",
       "      <td>0.000209</td>\n",
       "      <td>-0.121871</td>\n",
       "      <td>-0.127968</td>\n",
       "      <td>-0.087050</td>\n",
       "      <td>-0.137030</td>\n",
       "      <td>0.062166</td>\n",
       "      <td>-0.111567</td>\n",
       "      <td>0.033905</td>\n",
       "      <td>0.006792</td>\n",
       "      <td>-0.004602</td>\n",
       "      <td>-0.119372</td>\n",
       "      <td>0.009634</td>\n",
       "      <td>0.010734</td>\n",
       "      <td>0.045713</td>\n",
       "      <td>-0.192788</td>\n",
       "      <td>0.012774</td>\n",
       "      <td>-0.350447</td>\n",
       "      <td>1.000000</td>\n",
       "      <td>-0.090484</td>\n",
       "    </tr>\n",
       "    <tr>\n",
       "      <th>days_exposition</th>\n",
       "      <td>-0.036809</td>\n",
       "      <td>0.094298</td>\n",
       "      <td>0.159605</td>\n",
       "      <td>0.143799</td>\n",
       "      <td>0.125047</td>\n",
       "      <td>-0.056324</td>\n",
       "      <td>0.150363</td>\n",
       "      <td>-0.035097</td>\n",
       "      <td>-0.013167</td>\n",
       "      <td>-0.013522</td>\n",
       "      <td>0.113442</td>\n",
       "      <td>-0.037488</td>\n",
       "      <td>-0.019211</td>\n",
       "      <td>-0.057618</td>\n",
       "      <td>0.065990</td>\n",
       "      <td>0.016659</td>\n",
       "      <td>0.068952</td>\n",
       "      <td>-0.090484</td>\n",
       "      <td>1.000000</td>\n",
       "    </tr>\n",
       "  </tbody>\n",
       "</table>\n",
       "</div>"
      ],
      "text/plain": [
       "                     total_images  last_price  total_area     rooms  \\\n",
       "total_images             1.000000    0.117708    0.111385  0.089234   \n",
       "last_price               0.117708    1.000000    0.713045  0.401564   \n",
       "total_area               0.111385    0.713045    1.000000  0.760895   \n",
       "rooms                    0.089234    0.401564    0.760895  1.000000   \n",
       "ceiling_height           0.044077    0.379410    0.458354  0.280672   \n",
       "floors_total             0.029300    0.003425   -0.058044 -0.209097   \n",
       "living_area              0.095931    0.615495    0.942677  0.846737   \n",
       "floor                    0.043615    0.037727   -0.007054 -0.136763   \n",
       "studio                  -0.029487   -0.025243   -0.065306 -0.137862   \n",
       "open_plan               -0.018239    0.004607   -0.000118 -0.037234   \n",
       "kitchen_area             0.117611    0.535928    0.612443  0.282744   \n",
       "balcony                  0.108031    0.014136    0.046450  0.035423   \n",
       "airports_nearest        -0.000900   -0.027633   -0.029770 -0.058008   \n",
       "cityCenters_nearest     -0.045336   -0.227163   -0.239617 -0.189632   \n",
       "parks_around3000         0.018020    0.181628    0.186421  0.144640   \n",
       "parks_nearest            0.005513   -0.024303   -0.030230 -0.046245   \n",
       "ponds_around3000        -0.011603    0.174769    0.160692  0.094295   \n",
       "ponds_nearest            0.000209   -0.121871   -0.127968 -0.087050   \n",
       "days_exposition         -0.036809    0.094298    0.159605  0.143799   \n",
       "\n",
       "                     ceiling_height  floors_total  living_area     floor  \\\n",
       "total_images               0.044077      0.029300     0.095931  0.043615   \n",
       "last_price                 0.379410      0.003425     0.615495  0.037727   \n",
       "total_area                 0.458354     -0.058044     0.942677 -0.007054   \n",
       "rooms                      0.280672     -0.209097     0.846737 -0.136763   \n",
       "ceiling_height             1.000000     -0.090379     0.436287 -0.045818   \n",
       "floors_total              -0.090379      1.000000    -0.151414  0.675139   \n",
       "living_area                0.436287     -0.151414     1.000000 -0.080678   \n",
       "floor                     -0.045818      0.675139    -0.080678  1.000000   \n",
       "studio                     0.017956      0.057416    -0.050412  0.032262   \n",
       "open_plan                  0.010954      0.022660    -0.011989  0.019816   \n",
       "kitchen_area               0.401283      0.168558     0.439161  0.142801   \n",
       "balcony                   -0.079128      0.191887     0.017384  0.167781   \n",
       "airports_nearest          -0.102306      0.113744    -0.053809  0.077310   \n",
       "cityCenters_nearest       -0.350059      0.008387    -0.238603 -0.002077   \n",
       "parks_around3000           0.259928     -0.233031     0.195833 -0.148284   \n",
       "parks_nearest             -0.055376      0.090050    -0.050035  0.065690   \n",
       "ponds_around3000           0.226061     -0.129744     0.145603 -0.074210   \n",
       "ponds_nearest             -0.137030      0.062166    -0.111567  0.033905   \n",
       "days_exposition            0.125047     -0.056324     0.150363 -0.035097   \n",
       "\n",
       "                       studio  open_plan  kitchen_area   balcony  \\\n",
       "total_images        -0.029487  -0.018239      0.117611  0.108031   \n",
       "last_price          -0.025243   0.004607      0.535928  0.014136   \n",
       "total_area          -0.065306  -0.000118      0.612443  0.046450   \n",
       "rooms               -0.137862  -0.037234      0.282744  0.035423   \n",
       "ceiling_height       0.017956   0.010954      0.401283 -0.079128   \n",
       "floors_total         0.057416   0.022660      0.168558  0.191887   \n",
       "living_area         -0.050412  -0.011989      0.439161  0.017384   \n",
       "floor                0.032262   0.019816      0.142801  0.167781   \n",
       "studio               1.000000  -0.002354           NaN  0.017128   \n",
       "open_plan           -0.002354   1.000000           NaN  0.002231   \n",
       "kitchen_area              NaN        NaN      1.000000  0.087567   \n",
       "balcony              0.017128   0.002231      0.087567  1.000000   \n",
       "airports_nearest    -0.020190  -0.006402     -0.000644  0.071538   \n",
       "cityCenters_nearest -0.012781  -0.002761     -0.199086  0.052217   \n",
       "parks_around3000    -0.028572  -0.000433      0.113815 -0.102228   \n",
       "parks_nearest       -0.006498   0.003172      0.011800  0.054321   \n",
       "ponds_around3000     0.000218   0.006234      0.151164 -0.057264   \n",
       "ponds_nearest        0.006792  -0.004602     -0.119372  0.009634   \n",
       "days_exposition     -0.013167  -0.013522      0.113442 -0.037488   \n",
       "\n",
       "                     airports_nearest  cityCenters_nearest  parks_around3000  \\\n",
       "total_images                -0.000900            -0.045336          0.018020   \n",
       "last_price                  -0.027633            -0.227163          0.181628   \n",
       "total_area                  -0.029770            -0.239617          0.186421   \n",
       "rooms                       -0.058008            -0.189632          0.144640   \n",
       "ceiling_height              -0.102306            -0.350059          0.259928   \n",
       "floors_total                 0.113744             0.008387         -0.233031   \n",
       "living_area                 -0.053809            -0.238603          0.195833   \n",
       "floor                        0.077310            -0.002077         -0.148284   \n",
       "studio                      -0.020190            -0.012781         -0.028572   \n",
       "open_plan                   -0.006402            -0.002761         -0.000433   \n",
       "kitchen_area                -0.000644            -0.199086          0.113815   \n",
       "balcony                      0.071538             0.052217         -0.102228   \n",
       "airports_nearest             1.000000             0.290710          0.011186   \n",
       "cityCenters_nearest          0.290710             1.000000         -0.162041   \n",
       "parks_around3000             0.011186            -0.162041          1.000000   \n",
       "parks_nearest               -0.060855            -0.038059         -0.244307   \n",
       "ponds_around3000            -0.044338            -0.072942          0.319957   \n",
       "ponds_nearest                0.010734             0.045713         -0.192788   \n",
       "days_exposition             -0.019211            -0.057618          0.065990   \n",
       "\n",
       "                     parks_nearest  ponds_around3000  ponds_nearest  \\\n",
       "total_images              0.005513         -0.011603       0.000209   \n",
       "last_price               -0.024303          0.174769      -0.121871   \n",
       "total_area               -0.030230          0.160692      -0.127968   \n",
       "rooms                    -0.046245          0.094295      -0.087050   \n",
       "ceiling_height           -0.055376          0.226061      -0.137030   \n",
       "floors_total              0.090050         -0.129744       0.062166   \n",
       "living_area              -0.050035          0.145603      -0.111567   \n",
       "floor                     0.065690         -0.074210       0.033905   \n",
       "studio                   -0.006498          0.000218       0.006792   \n",
       "open_plan                 0.003172          0.006234      -0.004602   \n",
       "kitchen_area              0.011800          0.151164      -0.119372   \n",
       "balcony                   0.054321         -0.057264       0.009634   \n",
       "airports_nearest         -0.060855         -0.044338       0.010734   \n",
       "cityCenters_nearest      -0.038059         -0.072942       0.045713   \n",
       "parks_around3000         -0.244307          0.319957      -0.192788   \n",
       "parks_nearest             1.000000          0.054619       0.012774   \n",
       "ponds_around3000          0.054619          1.000000      -0.350447   \n",
       "ponds_nearest             0.012774         -0.350447       1.000000   \n",
       "days_exposition           0.016659          0.068952      -0.090484   \n",
       "\n",
       "                     days_exposition  \n",
       "total_images               -0.036809  \n",
       "last_price                  0.094298  \n",
       "total_area                  0.159605  \n",
       "rooms                       0.143799  \n",
       "ceiling_height              0.125047  \n",
       "floors_total               -0.056324  \n",
       "living_area                 0.150363  \n",
       "floor                      -0.035097  \n",
       "studio                     -0.013167  \n",
       "open_plan                  -0.013522  \n",
       "kitchen_area                0.113442  \n",
       "balcony                    -0.037488  \n",
       "airports_nearest           -0.019211  \n",
       "cityCenters_nearest        -0.057618  \n",
       "parks_around3000            0.065990  \n",
       "parks_nearest               0.016659  \n",
       "ponds_around3000            0.068952  \n",
       "ponds_nearest              -0.090484  \n",
       "days_exposition             1.000000  "
      ]
     },
     "metadata": {},
     "output_type": "display_data"
    },
    {
     "name": "stdout",
     "output_type": "stream",
     "text": [
      "Количество пропусков в столбце - 0\n"
     ]
    }
   ],
   "source": [
    "display(data.corr())\n",
    "data['ceiling_height'].fillna(data['ceiling_height'].median(), inplace=True)\n",
    "#Проверка\n",
    "print('Количество пропусков в столбце -', data['ceiling_height'].isna().sum())"
   ]
  },
  {
   "cell_type": "markdown",
   "metadata": {},
   "source": [
    "В столбце floors_total есть 9 пропусков - это несущественно и не повияет на дальнейший анализ. Заменим их на медиану.\n",
    "Теперь обработаем столбец living_area. Здесь 795 пропусков. Можно отсортировать квартиры по количеству комнат и заменить пропуски на медиану в соответствующей категории. Так медиана получится более точной, а данные не размазанными."
   ]
  },
  {
   "cell_type": "code",
   "execution_count": 6,
   "metadata": {},
   "outputs": [
    {
     "name": "stdout",
     "output_type": "stream",
     "text": [
      "Количество пропусков в столбце floors_total до - 9\n",
      "Количество пропусков в столбце floors_total после - 0\n",
      "Количество пропусков в столбце living_area до - 795\n",
      "Количество пропусков в столбце living_area после - 0\n"
     ]
    }
   ],
   "source": [
    "print('Количество пропусков в столбце floors_total до -', data['floors_total'].isna().sum())\n",
    "data['floors_total'].fillna(data['floors_total'].median(), inplace=True)\n",
    "print('Количество пропусков в столбце floors_total после -', data['floors_total'].isna().sum())\n",
    "print('Количество пропусков в столбце living_area до -', data['living_area'].isna().sum())\n",
    "def fill_nans(group_param, fill_param):\n",
    "    for item in data[group_param].unique():\n",
    "        median = data.loc[data[group_param] == item, fill_param].median()\n",
    "        data.loc[(data[fill_param].isna()) & (data[group_param] == item), fill_param] = median\n",
    "fill_nans('rooms', 'living_area')\n",
    "print('Количество пропусков в столбце living_area после -', data['living_area'].isna().sum())"
   ]
  },
  {
   "cell_type": "markdown",
   "metadata": {},
   "source": [
    "В столбце is_apartment обнаружено очень много пропусков. В силу того, что значения столбца могут принимать только положительное или отрицательное значение, предположим, что это человеческий фактор. Люди, когда заполняли форму, в ответ на вопрос - аппартаменты ли это, просто пропускали данный вопрос (потому что не апартаменты). По логике - человек, который продает именно апартаменты, укажет, что жилье имеет именно данную категорию. Поэтому пропуски можно заменить на False."
   ]
  },
  {
   "cell_type": "code",
   "execution_count": 7,
   "metadata": {},
   "outputs": [
    {
     "name": "stdout",
     "output_type": "stream",
     "text": [
      "Количество пропусков в столбце is_apartment до - 12626\n",
      "False    1817\n",
      "True       43\n",
      "Name: is_apartment, dtype: int64\n",
      "Количество пропусков в столбце is_apartment после - 0\n"
     ]
    }
   ],
   "source": [
    "print('Количество пропусков в столбце is_apartment до -', data['is_apartment'].isna().sum())\n",
    "print(data['is_apartment'].value_counts())\n",
    "data['is_apartment'].fillna(False, inplace=True)\n",
    "print('Количество пропусков в столбце is_apartment после -', data['is_apartment'].isna().sum())"
   ]
  },
  {
   "cell_type": "markdown",
   "metadata": {},
   "source": [
    "Следующий столбец, в котором встречаются пропуски - kitchen_area. Данный показатель не зависит от остальных. Заменим пропуски на медианное значение по столбцу."
   ]
  },
  {
   "cell_type": "code",
   "execution_count": 8,
   "metadata": {},
   "outputs": [
    {
     "name": "stdout",
     "output_type": "stream",
     "text": [
      "Количество пропусков в столбце kitchen_area до- 937\n",
      "Количество пропусков в столбце kitchen_area после - 0\n"
     ]
    }
   ],
   "source": [
    "print('Количество пропусков в столбце kitchen_area до-', data['kitchen_area'].isna().sum())\n",
    "data['kitchen_area'].fillna(data['kitchen_area'].median(), inplace=True)\n",
    "print('Количество пропусков в столбце kitchen_area после -', data['kitchen_area'].isna().sum())"
   ]
  },
  {
   "cell_type": "markdown",
   "metadata": {},
   "source": [
    "Пропуски в столбце balcony могут иметь такие же причины, как и в is_apartment. Люди скорее всего просто пропускали ответ, вместо того, чтобы ответить, что балкона нет. Заменим пропуски на 0."
   ]
  },
  {
   "cell_type": "code",
   "execution_count": 9,
   "metadata": {},
   "outputs": [
    {
     "name": "stdout",
     "output_type": "stream",
     "text": [
      "Количество пропусков в столбце balcony до- 7236\n",
      "Количество пропусков в столбце balcony после - 0\n"
     ]
    }
   ],
   "source": [
    "print('Количество пропусков в столбце balcony до-', data['balcony'].isna().sum())\n",
    "data['balcony'].fillna(0, inplace=True)\n",
    "print('Количество пропусков в столбце balcony после -', data['balcony'].isna().sum())"
   ]
  },
  {
   "cell_type": "markdown",
   "metadata": {},
   "source": [
    "В столбце locality_name есть 14 пропусков. Обработать логически мы их не сможем, поэтому просто заменим пропуски на пустую строку."
   ]
  },
  {
   "cell_type": "code",
   "execution_count": 10,
   "metadata": {},
   "outputs": [
    {
     "name": "stdout",
     "output_type": "stream",
     "text": [
      "Количество пропусков в столбце locality_name до - 14\n",
      "Количество пропусков в столбце locality_name после - 0\n"
     ]
    }
   ],
   "source": [
    "print('Количество пропусков в столбце locality_name до -', data['locality_name'].isna().sum())\n",
    "data['locality_name'].fillna('', inplace=True)\n",
    "print('Количество пропусков в столбце locality_name после -', data['locality_name'].isna().sum())"
   ]
  },
  {
   "cell_type": "markdown",
   "metadata": {},
   "source": [
    "Пропусков в столбцах airports_nearest, cityCenters_nearest, parks_around3000, parks_nearest, ponds_around3000, ponds_nearest очень много и просто выкинуть мы их не можем. Не идеальным, но беспроигрышным методом будет заменить данные на медину по столбцу."
   ]
  },
  {
   "cell_type": "code",
   "execution_count": 11,
   "metadata": {},
   "outputs": [
    {
     "name": "stdout",
     "output_type": "stream",
     "text": [
      "Количество пропусков в столбце airports_nearest до - 2955\n",
      "Количество пропусков в столбце airports_nearest после - 0\n",
      "Количество пропусков в столбце cityCenters_nearest до - 2935\n",
      "Количество пропусков в столбце cityCenters_nearest после - 0\n",
      "Количество пропусков в столбце parks_around3000 до - 2934\n",
      "Количество пропусков в столбце parks_around3000 после - 0\n",
      "Количество пропусков в столбце parks_nearest до - 9198\n",
      "Количество пропусков в столбце parks_nearest после - 0\n",
      "Количество пропусков в столбце ponds_around3000 до - 2934\n",
      "Количество пропусков в столбце ponds_around3000 после - 0\n",
      "Количество пропусков в столбце ponds_nearest до - 8760\n",
      "Количество пропусков в столбце ponds_nearest после - 0\n"
     ]
    }
   ],
   "source": [
    "nan_cols = ['airports_nearest', 'cityCenters_nearest', 'parks_around3000', 'parks_nearest', 'ponds_around3000', 'ponds_nearest']\n",
    "for col in nan_cols:\n",
    "    print(f'Количество пропусков в столбце {col} до -', data[col].isna().sum())\n",
    "    data[col].fillna(data[col].median(), inplace=True)\n",
    "    print(f'Количество пропусков в столбце {col} после -', data[col].isna().sum())\n"
   ]
  },
  {
   "cell_type": "markdown",
   "metadata": {},
   "source": [
    "В столбце days_exposition удобнее применить способ, который работает всегда - заменить пропуски на медиану. Данный столбец не сильно участвует в дальнейшем анализе, а для необоходимого уровня анализа медианой данные не исказятся."
   ]
  },
  {
   "cell_type": "code",
   "execution_count": 12,
   "metadata": {},
   "outputs": [
    {
     "name": "stdout",
     "output_type": "stream",
     "text": [
      "Количество пропусков в столбце days_exposition до - 2449\n",
      "Количество пропусков в столбце days_exposition после - 0\n"
     ]
    }
   ],
   "source": [
    "print('Количество пропусков в столбце days_exposition до -', data['days_exposition'].isna().sum())\n",
    "data['days_exposition'].fillna(data['days_exposition'].median(), inplace=True)\n",
    "print('Количество пропусков в столбце days_exposition после -', data['days_exposition'].isna().sum())"
   ]
  },
  {
   "cell_type": "markdown",
   "metadata": {},
   "source": [
    "### Вывод"
   ]
  },
  {
   "cell_type": "markdown",
   "metadata": {},
   "source": [
    "Проведя предобработку данных, можно сказать, что многие пропуски и выбросы, с большой вероятностью, образовались по причине человеческого фактора. Пропущенный ответ или запятая не в том месте, и данные уже не дадут точного результата при анализе.\n",
    "Многие пропуски мы заменили на медианы по стобцу или сгруппировав по определенному показателю - это самый простой и рабочий вариант замены, когда пропущенных данных много, а зависимости наверняка найти сложно."
   ]
  },
  {
   "cell_type": "markdown",
   "metadata": {},
   "source": [
    "### Предобработка данных"
   ]
  },
  {
   "cell_type": "markdown",
   "metadata": {},
   "source": [
    "Для начала я бы хотела переименовать столбцы cityCenters_nearest, parks_around3000, ponds_around3000 на более эстетичный вариант в змеином регистре."
   ]
  },
  {
   "cell_type": "code",
   "execution_count": 13,
   "metadata": {},
   "outputs": [
    {
     "name": "stdout",
     "output_type": "stream",
     "text": [
      "Index(['total_images', 'last_price', 'total_area', 'first_day_exposition',\n",
      "       'rooms', 'ceiling_height', 'floors_total', 'living_area', 'floor',\n",
      "       'is_apartment', 'studio', 'open_plan', 'kitchen_area', 'balcony',\n",
      "       'locality_name', 'airports_nearest', 'city_centers_nearest',\n",
      "       'parks_around_3000', 'parks_nearest', 'ponds_around_3000',\n",
      "       'ponds_nearest', 'days_exposition'],\n",
      "      dtype='object')\n"
     ]
    }
   ],
   "source": [
    "data.rename(columns={'cityCenters_nearest': 'city_centers_nearest', 'ponds_around3000': 'ponds_around_3000', 'parks_around3000': 'parks_around_3000'}, inplace=True)\n",
    "print(data.columns)"
   ]
  },
  {
   "cell_type": "markdown",
   "metadata": {},
   "source": [
    "Данные в столбцах last_price, floors_total, balcony, airports_nearest, city_сenters_nearest, parks_around_3000, parks_nearest, ponds_around_3000, ponds_nearest, days_exposition имеют вещественный тип данных. Основываясь на содержимом этих столбцов, удобнее было бы записать их в формате int. "
   ]
  },
  {
   "cell_type": "code",
   "execution_count": 14,
   "metadata": {},
   "outputs": [
    {
     "data": {
      "text/html": [
       "<div>\n",
       "<style scoped>\n",
       "    .dataframe tbody tr th:only-of-type {\n",
       "        vertical-align: middle;\n",
       "    }\n",
       "\n",
       "    .dataframe tbody tr th {\n",
       "        vertical-align: top;\n",
       "    }\n",
       "\n",
       "    .dataframe thead th {\n",
       "        text-align: right;\n",
       "    }\n",
       "</style>\n",
       "<table border=\"1\" class=\"dataframe\">\n",
       "  <thead>\n",
       "    <tr style=\"text-align: right;\">\n",
       "      <th></th>\n",
       "      <th>total_images</th>\n",
       "      <th>last_price</th>\n",
       "      <th>total_area</th>\n",
       "      <th>first_day_exposition</th>\n",
       "      <th>rooms</th>\n",
       "      <th>ceiling_height</th>\n",
       "      <th>floors_total</th>\n",
       "      <th>living_area</th>\n",
       "      <th>floor</th>\n",
       "      <th>is_apartment</th>\n",
       "      <th>...</th>\n",
       "      <th>kitchen_area</th>\n",
       "      <th>balcony</th>\n",
       "      <th>locality_name</th>\n",
       "      <th>airports_nearest</th>\n",
       "      <th>city_centers_nearest</th>\n",
       "      <th>parks_around_3000</th>\n",
       "      <th>parks_nearest</th>\n",
       "      <th>ponds_around_3000</th>\n",
       "      <th>ponds_nearest</th>\n",
       "      <th>days_exposition</th>\n",
       "    </tr>\n",
       "  </thead>\n",
       "  <tbody>\n",
       "    <tr>\n",
       "      <th>0</th>\n",
       "      <td>20</td>\n",
       "      <td>13000000</td>\n",
       "      <td>108.0</td>\n",
       "      <td>2019-03-07T00:00:00</td>\n",
       "      <td>3</td>\n",
       "      <td>2.70</td>\n",
       "      <td>16</td>\n",
       "      <td>51.0</td>\n",
       "      <td>8</td>\n",
       "      <td>False</td>\n",
       "      <td>...</td>\n",
       "      <td>25.0</td>\n",
       "      <td>0</td>\n",
       "      <td>Санкт-Петербург</td>\n",
       "      <td>18863</td>\n",
       "      <td>16028</td>\n",
       "      <td>1</td>\n",
       "      <td>482</td>\n",
       "      <td>2</td>\n",
       "      <td>755</td>\n",
       "      <td>103</td>\n",
       "    </tr>\n",
       "    <tr>\n",
       "      <th>1</th>\n",
       "      <td>2</td>\n",
       "      <td>10000000</td>\n",
       "      <td>100.0</td>\n",
       "      <td>2018-06-19T00:00:00</td>\n",
       "      <td>2</td>\n",
       "      <td>3.03</td>\n",
       "      <td>14</td>\n",
       "      <td>32.0</td>\n",
       "      <td>13</td>\n",
       "      <td>False</td>\n",
       "      <td>...</td>\n",
       "      <td>41.0</td>\n",
       "      <td>0</td>\n",
       "      <td>Санкт-Петербург</td>\n",
       "      <td>31856</td>\n",
       "      <td>8098</td>\n",
       "      <td>2</td>\n",
       "      <td>112</td>\n",
       "      <td>1</td>\n",
       "      <td>48</td>\n",
       "      <td>121</td>\n",
       "    </tr>\n",
       "    <tr>\n",
       "      <th>2</th>\n",
       "      <td>18</td>\n",
       "      <td>5400000</td>\n",
       "      <td>61.0</td>\n",
       "      <td>2017-02-26T00:00:00</td>\n",
       "      <td>3</td>\n",
       "      <td>2.50</td>\n",
       "      <td>9</td>\n",
       "      <td>43.6</td>\n",
       "      <td>7</td>\n",
       "      <td>False</td>\n",
       "      <td>...</td>\n",
       "      <td>6.5</td>\n",
       "      <td>2</td>\n",
       "      <td>Санкт-Петербург</td>\n",
       "      <td>50898</td>\n",
       "      <td>15008</td>\n",
       "      <td>0</td>\n",
       "      <td>449</td>\n",
       "      <td>0</td>\n",
       "      <td>504</td>\n",
       "      <td>289</td>\n",
       "    </tr>\n",
       "    <tr>\n",
       "      <th>3</th>\n",
       "      <td>5</td>\n",
       "      <td>5050000</td>\n",
       "      <td>39.6</td>\n",
       "      <td>2017-11-16T00:00:00</td>\n",
       "      <td>1</td>\n",
       "      <td>2.67</td>\n",
       "      <td>12</td>\n",
       "      <td>20.3</td>\n",
       "      <td>3</td>\n",
       "      <td>False</td>\n",
       "      <td>...</td>\n",
       "      <td>8.5</td>\n",
       "      <td>0</td>\n",
       "      <td>Санкт-Петербург</td>\n",
       "      <td>38357</td>\n",
       "      <td>13878</td>\n",
       "      <td>1</td>\n",
       "      <td>310</td>\n",
       "      <td>2</td>\n",
       "      <td>553</td>\n",
       "      <td>137</td>\n",
       "    </tr>\n",
       "    <tr>\n",
       "      <th>4</th>\n",
       "      <td>20</td>\n",
       "      <td>3550000</td>\n",
       "      <td>42.8</td>\n",
       "      <td>2017-07-01T00:00:00</td>\n",
       "      <td>2</td>\n",
       "      <td>2.56</td>\n",
       "      <td>5</td>\n",
       "      <td>27.0</td>\n",
       "      <td>5</td>\n",
       "      <td>False</td>\n",
       "      <td>...</td>\n",
       "      <td>5.2</td>\n",
       "      <td>1</td>\n",
       "      <td>Петергоф</td>\n",
       "      <td>37868</td>\n",
       "      <td>33058</td>\n",
       "      <td>1</td>\n",
       "      <td>294</td>\n",
       "      <td>3</td>\n",
       "      <td>298</td>\n",
       "      <td>366</td>\n",
       "    </tr>\n",
       "  </tbody>\n",
       "</table>\n",
       "<p>5 rows × 22 columns</p>\n",
       "</div>"
      ],
      "text/plain": [
       "   total_images  last_price  total_area first_day_exposition  rooms  \\\n",
       "0            20    13000000       108.0  2019-03-07T00:00:00      3   \n",
       "1             2    10000000       100.0  2018-06-19T00:00:00      2   \n",
       "2            18     5400000        61.0  2017-02-26T00:00:00      3   \n",
       "3             5     5050000        39.6  2017-11-16T00:00:00      1   \n",
       "4            20     3550000        42.8  2017-07-01T00:00:00      2   \n",
       "\n",
       "   ceiling_height  floors_total  living_area  floor  is_apartment  ...  \\\n",
       "0            2.70            16         51.0      8         False  ...   \n",
       "1            3.03            14         32.0     13         False  ...   \n",
       "2            2.50             9         43.6      7         False  ...   \n",
       "3            2.67            12         20.3      3         False  ...   \n",
       "4            2.56             5         27.0      5         False  ...   \n",
       "\n",
       "   kitchen_area  balcony    locality_name  airports_nearest  \\\n",
       "0          25.0        0  Санкт-Петербург             18863   \n",
       "1          41.0        0  Санкт-Петербург             31856   \n",
       "2           6.5        2  Санкт-Петербург             50898   \n",
       "3           8.5        0  Санкт-Петербург             38357   \n",
       "4           5.2        1         Петергоф             37868   \n",
       "\n",
       "  city_centers_nearest  parks_around_3000  parks_nearest  ponds_around_3000  \\\n",
       "0                16028                  1            482                  2   \n",
       "1                 8098                  2            112                  1   \n",
       "2                15008                  0            449                  0   \n",
       "3                13878                  1            310                  2   \n",
       "4                33058                  1            294                  3   \n",
       "\n",
       "   ponds_nearest  days_exposition  \n",
       "0            755              103  \n",
       "1             48              121  \n",
       "2            504              289  \n",
       "3            553              137  \n",
       "4            298              366  \n",
       "\n",
       "[5 rows x 22 columns]"
      ]
     },
     "metadata": {},
     "output_type": "display_data"
    }
   ],
   "source": [
    "float_to_int_cols = ['last_price', 'floors_total', 'balcony', 'airports_nearest', 'city_centers_nearest', 'parks_around_3000', 'parks_nearest', 'ponds_around_3000', 'ponds_nearest', 'days_exposition']\n",
    "for col in float_to_int_cols:\n",
    "    data[col] = data[col].astype('int')\n",
    "display(data.head())"
   ]
  },
  {
   "cell_type": "markdown",
   "metadata": {},
   "source": [
    "### Расчёты и добавление результатов в таблицу"
   ]
  },
  {
   "cell_type": "markdown",
   "metadata": {},
   "source": [
    "Добавим столбец с расчетами цены за квадратный метр"
   ]
  },
  {
   "cell_type": "code",
   "execution_count": 15,
   "metadata": {},
   "outputs": [
    {
     "data": {
      "text/html": [
       "<div>\n",
       "<style scoped>\n",
       "    .dataframe tbody tr th:only-of-type {\n",
       "        vertical-align: middle;\n",
       "    }\n",
       "\n",
       "    .dataframe tbody tr th {\n",
       "        vertical-align: top;\n",
       "    }\n",
       "\n",
       "    .dataframe thead th {\n",
       "        text-align: right;\n",
       "    }\n",
       "</style>\n",
       "<table border=\"1\" class=\"dataframe\">\n",
       "  <thead>\n",
       "    <tr style=\"text-align: right;\">\n",
       "      <th></th>\n",
       "      <th>total_images</th>\n",
       "      <th>last_price</th>\n",
       "      <th>total_area</th>\n",
       "      <th>first_day_exposition</th>\n",
       "      <th>rooms</th>\n",
       "      <th>ceiling_height</th>\n",
       "      <th>floors_total</th>\n",
       "      <th>living_area</th>\n",
       "      <th>floor</th>\n",
       "      <th>is_apartment</th>\n",
       "      <th>...</th>\n",
       "      <th>balcony</th>\n",
       "      <th>locality_name</th>\n",
       "      <th>airports_nearest</th>\n",
       "      <th>city_centers_nearest</th>\n",
       "      <th>parks_around_3000</th>\n",
       "      <th>parks_nearest</th>\n",
       "      <th>ponds_around_3000</th>\n",
       "      <th>ponds_nearest</th>\n",
       "      <th>days_exposition</th>\n",
       "      <th>price_per_sqmeter</th>\n",
       "    </tr>\n",
       "  </thead>\n",
       "  <tbody>\n",
       "    <tr>\n",
       "      <th>0</th>\n",
       "      <td>20</td>\n",
       "      <td>13000000</td>\n",
       "      <td>108.0</td>\n",
       "      <td>2019-03-07T00:00:00</td>\n",
       "      <td>3</td>\n",
       "      <td>2.70</td>\n",
       "      <td>16</td>\n",
       "      <td>51.0</td>\n",
       "      <td>8</td>\n",
       "      <td>False</td>\n",
       "      <td>...</td>\n",
       "      <td>0</td>\n",
       "      <td>Санкт-Петербург</td>\n",
       "      <td>18863</td>\n",
       "      <td>16028</td>\n",
       "      <td>1</td>\n",
       "      <td>482</td>\n",
       "      <td>2</td>\n",
       "      <td>755</td>\n",
       "      <td>103</td>\n",
       "      <td>120370.37</td>\n",
       "    </tr>\n",
       "    <tr>\n",
       "      <th>1</th>\n",
       "      <td>2</td>\n",
       "      <td>10000000</td>\n",
       "      <td>100.0</td>\n",
       "      <td>2018-06-19T00:00:00</td>\n",
       "      <td>2</td>\n",
       "      <td>3.03</td>\n",
       "      <td>14</td>\n",
       "      <td>32.0</td>\n",
       "      <td>13</td>\n",
       "      <td>False</td>\n",
       "      <td>...</td>\n",
       "      <td>0</td>\n",
       "      <td>Санкт-Петербург</td>\n",
       "      <td>31856</td>\n",
       "      <td>8098</td>\n",
       "      <td>2</td>\n",
       "      <td>112</td>\n",
       "      <td>1</td>\n",
       "      <td>48</td>\n",
       "      <td>121</td>\n",
       "      <td>100000.00</td>\n",
       "    </tr>\n",
       "    <tr>\n",
       "      <th>2</th>\n",
       "      <td>18</td>\n",
       "      <td>5400000</td>\n",
       "      <td>61.0</td>\n",
       "      <td>2017-02-26T00:00:00</td>\n",
       "      <td>3</td>\n",
       "      <td>2.50</td>\n",
       "      <td>9</td>\n",
       "      <td>43.6</td>\n",
       "      <td>7</td>\n",
       "      <td>False</td>\n",
       "      <td>...</td>\n",
       "      <td>2</td>\n",
       "      <td>Санкт-Петербург</td>\n",
       "      <td>50898</td>\n",
       "      <td>15008</td>\n",
       "      <td>0</td>\n",
       "      <td>449</td>\n",
       "      <td>0</td>\n",
       "      <td>504</td>\n",
       "      <td>289</td>\n",
       "      <td>88524.59</td>\n",
       "    </tr>\n",
       "    <tr>\n",
       "      <th>3</th>\n",
       "      <td>5</td>\n",
       "      <td>5050000</td>\n",
       "      <td>39.6</td>\n",
       "      <td>2017-11-16T00:00:00</td>\n",
       "      <td>1</td>\n",
       "      <td>2.67</td>\n",
       "      <td>12</td>\n",
       "      <td>20.3</td>\n",
       "      <td>3</td>\n",
       "      <td>False</td>\n",
       "      <td>...</td>\n",
       "      <td>0</td>\n",
       "      <td>Санкт-Петербург</td>\n",
       "      <td>38357</td>\n",
       "      <td>13878</td>\n",
       "      <td>1</td>\n",
       "      <td>310</td>\n",
       "      <td>2</td>\n",
       "      <td>553</td>\n",
       "      <td>137</td>\n",
       "      <td>127525.25</td>\n",
       "    </tr>\n",
       "    <tr>\n",
       "      <th>4</th>\n",
       "      <td>20</td>\n",
       "      <td>3550000</td>\n",
       "      <td>42.8</td>\n",
       "      <td>2017-07-01T00:00:00</td>\n",
       "      <td>2</td>\n",
       "      <td>2.56</td>\n",
       "      <td>5</td>\n",
       "      <td>27.0</td>\n",
       "      <td>5</td>\n",
       "      <td>False</td>\n",
       "      <td>...</td>\n",
       "      <td>1</td>\n",
       "      <td>Петергоф</td>\n",
       "      <td>37868</td>\n",
       "      <td>33058</td>\n",
       "      <td>1</td>\n",
       "      <td>294</td>\n",
       "      <td>3</td>\n",
       "      <td>298</td>\n",
       "      <td>366</td>\n",
       "      <td>82943.93</td>\n",
       "    </tr>\n",
       "  </tbody>\n",
       "</table>\n",
       "<p>5 rows × 23 columns</p>\n",
       "</div>"
      ],
      "text/plain": [
       "   total_images  last_price  total_area first_day_exposition  rooms  \\\n",
       "0            20    13000000       108.0  2019-03-07T00:00:00      3   \n",
       "1             2    10000000       100.0  2018-06-19T00:00:00      2   \n",
       "2            18     5400000        61.0  2017-02-26T00:00:00      3   \n",
       "3             5     5050000        39.6  2017-11-16T00:00:00      1   \n",
       "4            20     3550000        42.8  2017-07-01T00:00:00      2   \n",
       "\n",
       "   ceiling_height  floors_total  living_area  floor  is_apartment  ...  \\\n",
       "0            2.70            16         51.0      8         False  ...   \n",
       "1            3.03            14         32.0     13         False  ...   \n",
       "2            2.50             9         43.6      7         False  ...   \n",
       "3            2.67            12         20.3      3         False  ...   \n",
       "4            2.56             5         27.0      5         False  ...   \n",
       "\n",
       "   balcony    locality_name  airports_nearest  city_centers_nearest  \\\n",
       "0        0  Санкт-Петербург             18863                 16028   \n",
       "1        0  Санкт-Петербург             31856                  8098   \n",
       "2        2  Санкт-Петербург             50898                 15008   \n",
       "3        0  Санкт-Петербург             38357                 13878   \n",
       "4        1         Петергоф             37868                 33058   \n",
       "\n",
       "  parks_around_3000  parks_nearest  ponds_around_3000  ponds_nearest  \\\n",
       "0                 1            482                  2            755   \n",
       "1                 2            112                  1             48   \n",
       "2                 0            449                  0            504   \n",
       "3                 1            310                  2            553   \n",
       "4                 1            294                  3            298   \n",
       "\n",
       "   days_exposition  price_per_sqmeter  \n",
       "0              103          120370.37  \n",
       "1              121          100000.00  \n",
       "2              289           88524.59  \n",
       "3              137          127525.25  \n",
       "4              366           82943.93  \n",
       "\n",
       "[5 rows x 23 columns]"
      ]
     },
     "metadata": {},
     "output_type": "display_data"
    }
   ],
   "source": [
    "data['price_per_sqmeter'] = (data['last_price'] / data['total_area']).round(2)\n",
    "display(data.head())"
   ]
  },
  {
   "cell_type": "markdown",
   "metadata": {},
   "source": [
    "Добавим столбцы с днем недели, месяцем и годом публикации объявления."
   ]
  },
  {
   "cell_type": "code",
   "execution_count": 16,
   "metadata": {},
   "outputs": [
    {
     "data": {
      "text/html": [
       "<div>\n",
       "<style scoped>\n",
       "    .dataframe tbody tr th:only-of-type {\n",
       "        vertical-align: middle;\n",
       "    }\n",
       "\n",
       "    .dataframe tbody tr th {\n",
       "        vertical-align: top;\n",
       "    }\n",
       "\n",
       "    .dataframe thead th {\n",
       "        text-align: right;\n",
       "    }\n",
       "</style>\n",
       "<table border=\"1\" class=\"dataframe\">\n",
       "  <thead>\n",
       "    <tr style=\"text-align: right;\">\n",
       "      <th></th>\n",
       "      <th>total_images</th>\n",
       "      <th>last_price</th>\n",
       "      <th>total_area</th>\n",
       "      <th>first_day_exposition</th>\n",
       "      <th>rooms</th>\n",
       "      <th>ceiling_height</th>\n",
       "      <th>floors_total</th>\n",
       "      <th>living_area</th>\n",
       "      <th>floor</th>\n",
       "      <th>is_apartment</th>\n",
       "      <th>...</th>\n",
       "      <th>city_centers_nearest</th>\n",
       "      <th>parks_around_3000</th>\n",
       "      <th>parks_nearest</th>\n",
       "      <th>ponds_around_3000</th>\n",
       "      <th>ponds_nearest</th>\n",
       "      <th>days_exposition</th>\n",
       "      <th>price_per_sqmeter</th>\n",
       "      <th>expo_weekday</th>\n",
       "      <th>expo_month</th>\n",
       "      <th>expo_year</th>\n",
       "    </tr>\n",
       "  </thead>\n",
       "  <tbody>\n",
       "    <tr>\n",
       "      <th>0</th>\n",
       "      <td>20</td>\n",
       "      <td>13000000</td>\n",
       "      <td>108.0</td>\n",
       "      <td>2019-03-07T00:00:00</td>\n",
       "      <td>3</td>\n",
       "      <td>2.70</td>\n",
       "      <td>16</td>\n",
       "      <td>51.0</td>\n",
       "      <td>8</td>\n",
       "      <td>False</td>\n",
       "      <td>...</td>\n",
       "      <td>16028</td>\n",
       "      <td>1</td>\n",
       "      <td>482</td>\n",
       "      <td>2</td>\n",
       "      <td>755</td>\n",
       "      <td>103</td>\n",
       "      <td>120370.37</td>\n",
       "      <td>3</td>\n",
       "      <td>3</td>\n",
       "      <td>2019</td>\n",
       "    </tr>\n",
       "    <tr>\n",
       "      <th>1</th>\n",
       "      <td>2</td>\n",
       "      <td>10000000</td>\n",
       "      <td>100.0</td>\n",
       "      <td>2018-06-19T00:00:00</td>\n",
       "      <td>2</td>\n",
       "      <td>3.03</td>\n",
       "      <td>14</td>\n",
       "      <td>32.0</td>\n",
       "      <td>13</td>\n",
       "      <td>False</td>\n",
       "      <td>...</td>\n",
       "      <td>8098</td>\n",
       "      <td>2</td>\n",
       "      <td>112</td>\n",
       "      <td>1</td>\n",
       "      <td>48</td>\n",
       "      <td>121</td>\n",
       "      <td>100000.00</td>\n",
       "      <td>1</td>\n",
       "      <td>6</td>\n",
       "      <td>2018</td>\n",
       "    </tr>\n",
       "    <tr>\n",
       "      <th>2</th>\n",
       "      <td>18</td>\n",
       "      <td>5400000</td>\n",
       "      <td>61.0</td>\n",
       "      <td>2017-02-26T00:00:00</td>\n",
       "      <td>3</td>\n",
       "      <td>2.50</td>\n",
       "      <td>9</td>\n",
       "      <td>43.6</td>\n",
       "      <td>7</td>\n",
       "      <td>False</td>\n",
       "      <td>...</td>\n",
       "      <td>15008</td>\n",
       "      <td>0</td>\n",
       "      <td>449</td>\n",
       "      <td>0</td>\n",
       "      <td>504</td>\n",
       "      <td>289</td>\n",
       "      <td>88524.59</td>\n",
       "      <td>6</td>\n",
       "      <td>2</td>\n",
       "      <td>2017</td>\n",
       "    </tr>\n",
       "    <tr>\n",
       "      <th>3</th>\n",
       "      <td>5</td>\n",
       "      <td>5050000</td>\n",
       "      <td>39.6</td>\n",
       "      <td>2017-11-16T00:00:00</td>\n",
       "      <td>1</td>\n",
       "      <td>2.67</td>\n",
       "      <td>12</td>\n",
       "      <td>20.3</td>\n",
       "      <td>3</td>\n",
       "      <td>False</td>\n",
       "      <td>...</td>\n",
       "      <td>13878</td>\n",
       "      <td>1</td>\n",
       "      <td>310</td>\n",
       "      <td>2</td>\n",
       "      <td>553</td>\n",
       "      <td>137</td>\n",
       "      <td>127525.25</td>\n",
       "      <td>3</td>\n",
       "      <td>11</td>\n",
       "      <td>2017</td>\n",
       "    </tr>\n",
       "    <tr>\n",
       "      <th>4</th>\n",
       "      <td>20</td>\n",
       "      <td>3550000</td>\n",
       "      <td>42.8</td>\n",
       "      <td>2017-07-01T00:00:00</td>\n",
       "      <td>2</td>\n",
       "      <td>2.56</td>\n",
       "      <td>5</td>\n",
       "      <td>27.0</td>\n",
       "      <td>5</td>\n",
       "      <td>False</td>\n",
       "      <td>...</td>\n",
       "      <td>33058</td>\n",
       "      <td>1</td>\n",
       "      <td>294</td>\n",
       "      <td>3</td>\n",
       "      <td>298</td>\n",
       "      <td>366</td>\n",
       "      <td>82943.93</td>\n",
       "      <td>5</td>\n",
       "      <td>7</td>\n",
       "      <td>2017</td>\n",
       "    </tr>\n",
       "  </tbody>\n",
       "</table>\n",
       "<p>5 rows × 26 columns</p>\n",
       "</div>"
      ],
      "text/plain": [
       "   total_images  last_price  total_area first_day_exposition  rooms  \\\n",
       "0            20    13000000       108.0  2019-03-07T00:00:00      3   \n",
       "1             2    10000000       100.0  2018-06-19T00:00:00      2   \n",
       "2            18     5400000        61.0  2017-02-26T00:00:00      3   \n",
       "3             5     5050000        39.6  2017-11-16T00:00:00      1   \n",
       "4            20     3550000        42.8  2017-07-01T00:00:00      2   \n",
       "\n",
       "   ceiling_height  floors_total  living_area  floor  is_apartment  ...  \\\n",
       "0            2.70            16         51.0      8         False  ...   \n",
       "1            3.03            14         32.0     13         False  ...   \n",
       "2            2.50             9         43.6      7         False  ...   \n",
       "3            2.67            12         20.3      3         False  ...   \n",
       "4            2.56             5         27.0      5         False  ...   \n",
       "\n",
       "   city_centers_nearest  parks_around_3000  parks_nearest  ponds_around_3000  \\\n",
       "0                 16028                  1            482                  2   \n",
       "1                  8098                  2            112                  1   \n",
       "2                 15008                  0            449                  0   \n",
       "3                 13878                  1            310                  2   \n",
       "4                 33058                  1            294                  3   \n",
       "\n",
       "  ponds_nearest  days_exposition  price_per_sqmeter  expo_weekday  expo_month  \\\n",
       "0           755              103          120370.37             3           3   \n",
       "1            48              121          100000.00             1           6   \n",
       "2           504              289           88524.59             6           2   \n",
       "3           553              137          127525.25             3          11   \n",
       "4           298              366           82943.93             5           7   \n",
       "\n",
       "   expo_year  \n",
       "0       2019  \n",
       "1       2018  \n",
       "2       2017  \n",
       "3       2017  \n",
       "4       2017  \n",
       "\n",
       "[5 rows x 26 columns]"
      ]
     },
     "metadata": {},
     "output_type": "display_data"
    }
   ],
   "source": [
    "data['expo_weekday'] = pd.DatetimeIndex(data['first_day_exposition']).weekday\n",
    "data['expo_month'] = pd.DatetimeIndex(data['first_day_exposition']).month\n",
    "data['expo_year'] = pd.DatetimeIndex(data['first_day_exposition']).year\n",
    "display(data.head())"
   ]
  },
  {
   "cell_type": "markdown",
   "metadata": {},
   "source": [
    "Добавим столбец с категоризацией по этажу. Обозначим первый - 1, последний -1, и другой - 0 (для приведения к формату int и удобства вычислений в дальнейшем)."
   ]
  },
  {
   "cell_type": "code",
   "execution_count": 17,
   "metadata": {},
   "outputs": [
    {
     "data": {
      "text/html": [
       "<div>\n",
       "<style scoped>\n",
       "    .dataframe tbody tr th:only-of-type {\n",
       "        vertical-align: middle;\n",
       "    }\n",
       "\n",
       "    .dataframe tbody tr th {\n",
       "        vertical-align: top;\n",
       "    }\n",
       "\n",
       "    .dataframe thead th {\n",
       "        text-align: right;\n",
       "    }\n",
       "</style>\n",
       "<table border=\"1\" class=\"dataframe\">\n",
       "  <thead>\n",
       "    <tr style=\"text-align: right;\">\n",
       "      <th></th>\n",
       "      <th>total_images</th>\n",
       "      <th>last_price</th>\n",
       "      <th>total_area</th>\n",
       "      <th>first_day_exposition</th>\n",
       "      <th>rooms</th>\n",
       "      <th>ceiling_height</th>\n",
       "      <th>floors_total</th>\n",
       "      <th>living_area</th>\n",
       "      <th>floor</th>\n",
       "      <th>is_apartment</th>\n",
       "      <th>...</th>\n",
       "      <th>parks_around_3000</th>\n",
       "      <th>parks_nearest</th>\n",
       "      <th>ponds_around_3000</th>\n",
       "      <th>ponds_nearest</th>\n",
       "      <th>days_exposition</th>\n",
       "      <th>price_per_sqmeter</th>\n",
       "      <th>expo_weekday</th>\n",
       "      <th>expo_month</th>\n",
       "      <th>expo_year</th>\n",
       "      <th>floor_category</th>\n",
       "    </tr>\n",
       "  </thead>\n",
       "  <tbody>\n",
       "    <tr>\n",
       "      <th>0</th>\n",
       "      <td>20</td>\n",
       "      <td>13000000</td>\n",
       "      <td>108.0</td>\n",
       "      <td>2019-03-07T00:00:00</td>\n",
       "      <td>3</td>\n",
       "      <td>2.70</td>\n",
       "      <td>16</td>\n",
       "      <td>51.0</td>\n",
       "      <td>8</td>\n",
       "      <td>False</td>\n",
       "      <td>...</td>\n",
       "      <td>1</td>\n",
       "      <td>482</td>\n",
       "      <td>2</td>\n",
       "      <td>755</td>\n",
       "      <td>103</td>\n",
       "      <td>120370.37</td>\n",
       "      <td>3</td>\n",
       "      <td>3</td>\n",
       "      <td>2019</td>\n",
       "      <td>0</td>\n",
       "    </tr>\n",
       "    <tr>\n",
       "      <th>1</th>\n",
       "      <td>2</td>\n",
       "      <td>10000000</td>\n",
       "      <td>100.0</td>\n",
       "      <td>2018-06-19T00:00:00</td>\n",
       "      <td>2</td>\n",
       "      <td>3.03</td>\n",
       "      <td>14</td>\n",
       "      <td>32.0</td>\n",
       "      <td>13</td>\n",
       "      <td>False</td>\n",
       "      <td>...</td>\n",
       "      <td>2</td>\n",
       "      <td>112</td>\n",
       "      <td>1</td>\n",
       "      <td>48</td>\n",
       "      <td>121</td>\n",
       "      <td>100000.00</td>\n",
       "      <td>1</td>\n",
       "      <td>6</td>\n",
       "      <td>2018</td>\n",
       "      <td>0</td>\n",
       "    </tr>\n",
       "    <tr>\n",
       "      <th>2</th>\n",
       "      <td>18</td>\n",
       "      <td>5400000</td>\n",
       "      <td>61.0</td>\n",
       "      <td>2017-02-26T00:00:00</td>\n",
       "      <td>3</td>\n",
       "      <td>2.50</td>\n",
       "      <td>9</td>\n",
       "      <td>43.6</td>\n",
       "      <td>7</td>\n",
       "      <td>False</td>\n",
       "      <td>...</td>\n",
       "      <td>0</td>\n",
       "      <td>449</td>\n",
       "      <td>0</td>\n",
       "      <td>504</td>\n",
       "      <td>289</td>\n",
       "      <td>88524.59</td>\n",
       "      <td>6</td>\n",
       "      <td>2</td>\n",
       "      <td>2017</td>\n",
       "      <td>0</td>\n",
       "    </tr>\n",
       "    <tr>\n",
       "      <th>3</th>\n",
       "      <td>5</td>\n",
       "      <td>5050000</td>\n",
       "      <td>39.6</td>\n",
       "      <td>2017-11-16T00:00:00</td>\n",
       "      <td>1</td>\n",
       "      <td>2.67</td>\n",
       "      <td>12</td>\n",
       "      <td>20.3</td>\n",
       "      <td>3</td>\n",
       "      <td>False</td>\n",
       "      <td>...</td>\n",
       "      <td>1</td>\n",
       "      <td>310</td>\n",
       "      <td>2</td>\n",
       "      <td>553</td>\n",
       "      <td>137</td>\n",
       "      <td>127525.25</td>\n",
       "      <td>3</td>\n",
       "      <td>11</td>\n",
       "      <td>2017</td>\n",
       "      <td>0</td>\n",
       "    </tr>\n",
       "    <tr>\n",
       "      <th>4</th>\n",
       "      <td>20</td>\n",
       "      <td>3550000</td>\n",
       "      <td>42.8</td>\n",
       "      <td>2017-07-01T00:00:00</td>\n",
       "      <td>2</td>\n",
       "      <td>2.56</td>\n",
       "      <td>5</td>\n",
       "      <td>27.0</td>\n",
       "      <td>5</td>\n",
       "      <td>False</td>\n",
       "      <td>...</td>\n",
       "      <td>1</td>\n",
       "      <td>294</td>\n",
       "      <td>3</td>\n",
       "      <td>298</td>\n",
       "      <td>366</td>\n",
       "      <td>82943.93</td>\n",
       "      <td>5</td>\n",
       "      <td>7</td>\n",
       "      <td>2017</td>\n",
       "      <td>-1</td>\n",
       "    </tr>\n",
       "  </tbody>\n",
       "</table>\n",
       "<p>5 rows × 27 columns</p>\n",
       "</div>"
      ],
      "text/plain": [
       "   total_images  last_price  total_area first_day_exposition  rooms  \\\n",
       "0            20    13000000       108.0  2019-03-07T00:00:00      3   \n",
       "1             2    10000000       100.0  2018-06-19T00:00:00      2   \n",
       "2            18     5400000        61.0  2017-02-26T00:00:00      3   \n",
       "3             5     5050000        39.6  2017-11-16T00:00:00      1   \n",
       "4            20     3550000        42.8  2017-07-01T00:00:00      2   \n",
       "\n",
       "   ceiling_height  floors_total  living_area  floor  is_apartment  ...  \\\n",
       "0            2.70            16         51.0      8         False  ...   \n",
       "1            3.03            14         32.0     13         False  ...   \n",
       "2            2.50             9         43.6      7         False  ...   \n",
       "3            2.67            12         20.3      3         False  ...   \n",
       "4            2.56             5         27.0      5         False  ...   \n",
       "\n",
       "   parks_around_3000  parks_nearest  ponds_around_3000  ponds_nearest  \\\n",
       "0                  1            482                  2            755   \n",
       "1                  2            112                  1             48   \n",
       "2                  0            449                  0            504   \n",
       "3                  1            310                  2            553   \n",
       "4                  1            294                  3            298   \n",
       "\n",
       "  days_exposition  price_per_sqmeter  expo_weekday  expo_month  expo_year  \\\n",
       "0             103          120370.37             3           3       2019   \n",
       "1             121          100000.00             1           6       2018   \n",
       "2             289           88524.59             6           2       2017   \n",
       "3             137          127525.25             3          11       2017   \n",
       "4             366           82943.93             5           7       2017   \n",
       "\n",
       "   floor_category  \n",
       "0               0  \n",
       "1               0  \n",
       "2               0  \n",
       "3               0  \n",
       "4              -1  \n",
       "\n",
       "[5 rows x 27 columns]"
      ]
     },
     "metadata": {},
     "output_type": "display_data"
    }
   ],
   "source": [
    "def floor_category(row):\n",
    "    if row['floor'] == 1: \n",
    "        return '1'\n",
    "    if row['floor'] == row['floors_total']: \n",
    "        return '-1'\n",
    "    return '0'\n",
    "data['floor_category'] = data.apply(floor_category, axis = 1)\n",
    "data['floor_category'] = data['floor_category'].astype('int')\n",
    "display(data.head())"
   ]
  },
  {
   "cell_type": "markdown",
   "metadata": {},
   "source": [
    "Добавим столбец с посчитанным соотношением жилой и общей площади, и столбец с отношением площади кухни к общей."
   ]
  },
  {
   "cell_type": "code",
   "execution_count": 18,
   "metadata": {},
   "outputs": [
    {
     "data": {
      "text/html": [
       "<div>\n",
       "<style scoped>\n",
       "    .dataframe tbody tr th:only-of-type {\n",
       "        vertical-align: middle;\n",
       "    }\n",
       "\n",
       "    .dataframe tbody tr th {\n",
       "        vertical-align: top;\n",
       "    }\n",
       "\n",
       "    .dataframe thead th {\n",
       "        text-align: right;\n",
       "    }\n",
       "</style>\n",
       "<table border=\"1\" class=\"dataframe\">\n",
       "  <thead>\n",
       "    <tr style=\"text-align: right;\">\n",
       "      <th></th>\n",
       "      <th>total_images</th>\n",
       "      <th>last_price</th>\n",
       "      <th>total_area</th>\n",
       "      <th>first_day_exposition</th>\n",
       "      <th>rooms</th>\n",
       "      <th>ceiling_height</th>\n",
       "      <th>floors_total</th>\n",
       "      <th>living_area</th>\n",
       "      <th>floor</th>\n",
       "      <th>is_apartment</th>\n",
       "      <th>...</th>\n",
       "      <th>ponds_around_3000</th>\n",
       "      <th>ponds_nearest</th>\n",
       "      <th>days_exposition</th>\n",
       "      <th>price_per_sqmeter</th>\n",
       "      <th>expo_weekday</th>\n",
       "      <th>expo_month</th>\n",
       "      <th>expo_year</th>\n",
       "      <th>floor_category</th>\n",
       "      <th>living_area_%</th>\n",
       "      <th>kitchen_area_%</th>\n",
       "    </tr>\n",
       "  </thead>\n",
       "  <tbody>\n",
       "    <tr>\n",
       "      <th>0</th>\n",
       "      <td>20</td>\n",
       "      <td>13000000</td>\n",
       "      <td>108.0</td>\n",
       "      <td>2019-03-07T00:00:00</td>\n",
       "      <td>3</td>\n",
       "      <td>2.70</td>\n",
       "      <td>16</td>\n",
       "      <td>51.0</td>\n",
       "      <td>8</td>\n",
       "      <td>False</td>\n",
       "      <td>...</td>\n",
       "      <td>2</td>\n",
       "      <td>755</td>\n",
       "      <td>103</td>\n",
       "      <td>120370.37</td>\n",
       "      <td>3</td>\n",
       "      <td>3</td>\n",
       "      <td>2019</td>\n",
       "      <td>0</td>\n",
       "      <td>47</td>\n",
       "      <td>23</td>\n",
       "    </tr>\n",
       "    <tr>\n",
       "      <th>1</th>\n",
       "      <td>2</td>\n",
       "      <td>10000000</td>\n",
       "      <td>100.0</td>\n",
       "      <td>2018-06-19T00:00:00</td>\n",
       "      <td>2</td>\n",
       "      <td>3.03</td>\n",
       "      <td>14</td>\n",
       "      <td>32.0</td>\n",
       "      <td>13</td>\n",
       "      <td>False</td>\n",
       "      <td>...</td>\n",
       "      <td>1</td>\n",
       "      <td>48</td>\n",
       "      <td>121</td>\n",
       "      <td>100000.00</td>\n",
       "      <td>1</td>\n",
       "      <td>6</td>\n",
       "      <td>2018</td>\n",
       "      <td>0</td>\n",
       "      <td>32</td>\n",
       "      <td>41</td>\n",
       "    </tr>\n",
       "    <tr>\n",
       "      <th>2</th>\n",
       "      <td>18</td>\n",
       "      <td>5400000</td>\n",
       "      <td>61.0</td>\n",
       "      <td>2017-02-26T00:00:00</td>\n",
       "      <td>3</td>\n",
       "      <td>2.50</td>\n",
       "      <td>9</td>\n",
       "      <td>43.6</td>\n",
       "      <td>7</td>\n",
       "      <td>False</td>\n",
       "      <td>...</td>\n",
       "      <td>0</td>\n",
       "      <td>504</td>\n",
       "      <td>289</td>\n",
       "      <td>88524.59</td>\n",
       "      <td>6</td>\n",
       "      <td>2</td>\n",
       "      <td>2017</td>\n",
       "      <td>0</td>\n",
       "      <td>71</td>\n",
       "      <td>10</td>\n",
       "    </tr>\n",
       "    <tr>\n",
       "      <th>3</th>\n",
       "      <td>5</td>\n",
       "      <td>5050000</td>\n",
       "      <td>39.6</td>\n",
       "      <td>2017-11-16T00:00:00</td>\n",
       "      <td>1</td>\n",
       "      <td>2.67</td>\n",
       "      <td>12</td>\n",
       "      <td>20.3</td>\n",
       "      <td>3</td>\n",
       "      <td>False</td>\n",
       "      <td>...</td>\n",
       "      <td>2</td>\n",
       "      <td>553</td>\n",
       "      <td>137</td>\n",
       "      <td>127525.25</td>\n",
       "      <td>3</td>\n",
       "      <td>11</td>\n",
       "      <td>2017</td>\n",
       "      <td>0</td>\n",
       "      <td>51</td>\n",
       "      <td>21</td>\n",
       "    </tr>\n",
       "    <tr>\n",
       "      <th>4</th>\n",
       "      <td>20</td>\n",
       "      <td>3550000</td>\n",
       "      <td>42.8</td>\n",
       "      <td>2017-07-01T00:00:00</td>\n",
       "      <td>2</td>\n",
       "      <td>2.56</td>\n",
       "      <td>5</td>\n",
       "      <td>27.0</td>\n",
       "      <td>5</td>\n",
       "      <td>False</td>\n",
       "      <td>...</td>\n",
       "      <td>3</td>\n",
       "      <td>298</td>\n",
       "      <td>366</td>\n",
       "      <td>82943.93</td>\n",
       "      <td>5</td>\n",
       "      <td>7</td>\n",
       "      <td>2017</td>\n",
       "      <td>-1</td>\n",
       "      <td>63</td>\n",
       "      <td>12</td>\n",
       "    </tr>\n",
       "  </tbody>\n",
       "</table>\n",
       "<p>5 rows × 29 columns</p>\n",
       "</div>"
      ],
      "text/plain": [
       "   total_images  last_price  total_area first_day_exposition  rooms  \\\n",
       "0            20    13000000       108.0  2019-03-07T00:00:00      3   \n",
       "1             2    10000000       100.0  2018-06-19T00:00:00      2   \n",
       "2            18     5400000        61.0  2017-02-26T00:00:00      3   \n",
       "3             5     5050000        39.6  2017-11-16T00:00:00      1   \n",
       "4            20     3550000        42.8  2017-07-01T00:00:00      2   \n",
       "\n",
       "   ceiling_height  floors_total  living_area  floor  is_apartment  ...  \\\n",
       "0            2.70            16         51.0      8         False  ...   \n",
       "1            3.03            14         32.0     13         False  ...   \n",
       "2            2.50             9         43.6      7         False  ...   \n",
       "3            2.67            12         20.3      3         False  ...   \n",
       "4            2.56             5         27.0      5         False  ...   \n",
       "\n",
       "   ponds_around_3000  ponds_nearest  days_exposition  price_per_sqmeter  \\\n",
       "0                  2            755              103          120370.37   \n",
       "1                  1             48              121          100000.00   \n",
       "2                  0            504              289           88524.59   \n",
       "3                  2            553              137          127525.25   \n",
       "4                  3            298              366           82943.93   \n",
       "\n",
       "  expo_weekday  expo_month  expo_year  floor_category  living_area_%  \\\n",
       "0            3           3       2019               0             47   \n",
       "1            1           6       2018               0             32   \n",
       "2            6           2       2017               0             71   \n",
       "3            3          11       2017               0             51   \n",
       "4            5           7       2017              -1             63   \n",
       "\n",
       "   kitchen_area_%  \n",
       "0              23  \n",
       "1              41  \n",
       "2              10  \n",
       "3              21  \n",
       "4              12  \n",
       "\n",
       "[5 rows x 29 columns]"
      ]
     },
     "metadata": {},
     "output_type": "display_data"
    }
   ],
   "source": [
    "data['living_area_%'] = (data['living_area'] * 100 / data['total_area']).astype('int')\n",
    "data['kitchen_area_%'] = (data['kitchen_area'] * 100 / data['total_area']).astype('int')\n",
    "display(data.head())"
   ]
  },
  {
   "cell_type": "markdown",
   "metadata": {},
   "source": [
    "### Исследовательский анализ данных"
   ]
  },
  {
   "cell_type": "markdown",
   "metadata": {},
   "source": [
    "##### Вопрос 1:"
   ]
  },
  {
   "cell_type": "markdown",
   "metadata": {},
   "source": [
    "Изучим следующие параметры: площадь, цена, число комнат, высота потолков. Построим гистограммы для каждого параметра."
   ]
  },
  {
   "cell_type": "code",
   "execution_count": 19,
   "metadata": {},
   "outputs": [
    {
     "name": "stdout",
     "output_type": "stream",
     "text": [
      "count    14486.000000\n",
      "mean        61.907883\n",
      "std         37.002568\n",
      "min         12.000000\n",
      "25%         41.000000\n",
      "50%         53.400000\n",
      "75%         71.392500\n",
      "max        900.000000\n",
      "Name: total_area, dtype: float64\n",
      "AxesSubplot(0.125,0.125;0.775x0.755)\n"
     ]
    },
    {
     "data": {
      "image/png": "[encoded data removed]",
      "text/plain": [
       "<Figure size 432x288 with 1 Axes>"
      ]
     },
     "metadata": {
      "needs_background": "light"
     },
     "output_type": "display_data"
    }
   ],
   "source": [
    "print(data['total_area'].describe())\n",
    "print(data['total_area'].plot.hist(bins=len(data['total_area'].unique()), title='Гистограмма площади', grid=True))\n"
   ]
  },
  {
   "cell_type": "markdown",
   "metadata": {},
   "source": [
    "Значения столбца цен оказались слишком большие для анализа и даже для отображения. Поэтому сначала отформатируем единицу измерения в столбце и перезапишем данные в тысячах рублей.  "
   ]
  },
  {
   "cell_type": "code",
   "execution_count": 20,
   "metadata": {},
   "outputs": [
    {
     "name": "stdout",
     "output_type": "stream",
     "text": [
      "count     14486.000000\n",
      "mean       6838.615521\n",
      "std       10187.144437\n",
      "min          12.190000\n",
      "25%        3571.250000\n",
      "50%        4850.000000\n",
      "75%        7000.000000\n",
      "max      420000.000000\n",
      "Name: last_price, dtype: float64\n",
      "AxesSubplot(0.125,0.125;0.775x0.755)\n"
     ]
    },
    {
     "data": {
      "image/png": "[encoded data removed]",
      "text/plain": [
       "<Figure size 432x288 with 1 Axes>"
      ]
     },
     "metadata": {
      "needs_background": "light"
     },
     "output_type": "display_data"
    }
   ],
   "source": [
    "data['last_price'] = (data['last_price'] / 1000).round(2)\n",
    "print(data['last_price'].describe())\n",
    "print(data['last_price'].plot.hist(bins=len(data['last_price'].unique()), title='Гистограмма цены', grid=True))"
   ]
  },
  {
   "cell_type": "code",
   "execution_count": 21,
   "metadata": {},
   "outputs": [
    {
     "name": "stdout",
     "output_type": "stream",
     "text": [
      "count    14486.000000\n",
      "mean         2.137857\n",
      "std          1.099210\n",
      "min          0.000000\n",
      "25%          1.000000\n",
      "50%          2.000000\n",
      "75%          3.000000\n",
      "max         16.000000\n",
      "Name: rooms, dtype: float64\n",
      "AxesSubplot(0.125,0.125;0.775x0.755)\n"
     ]
    },
    {
     "data": {
      "image/png": "[encoded data removed]",
      "text/plain": [
       "<Figure size 432x288 with 1 Axes>"
      ]
     },
     "metadata": {
      "needs_background": "light"
     },
     "output_type": "display_data"
    }
   ],
   "source": [
    "print(data['rooms'].describe())\n",
    "print(data['rooms'].plot.hist(bins=len(data['rooms'].unique()), title='Гистограмма числа комнат', grid=True))"
   ]
  },
  {
   "cell_type": "code",
   "execution_count": 22,
   "metadata": {},
   "outputs": [
    {
     "name": "stdout",
     "output_type": "stream",
     "text": [
      "count    14486.000000\n",
      "mean         2.728702\n",
      "std          0.291856\n",
      "min          2.200000\n",
      "25%          2.520000\n",
      "50%          2.650000\n",
      "75%          2.800000\n",
      "max          8.300000\n",
      "Name: ceiling_height, dtype: float64\n",
      "AxesSubplot(0.125,0.125;0.775x0.755)\n"
     ]
    },
    {
     "data": {
      "image/png": "[encoded data removed]",
      "text/plain": [
       "<Figure size 432x288 with 1 Axes>"
      ]
     },
     "metadata": {
      "needs_background": "light"
     },
     "output_type": "display_data"
    }
   ],
   "source": [
    "print(data['ceiling_height'].describe())\n",
    "print(data['ceiling_height'].plot.hist(bins=len(data['ceiling_height'].unique()), range=(2, 5), title='Гистограмма высоты потолков', grid=True))"
   ]
  },
  {
   "cell_type": "markdown",
   "metadata": {},
   "source": [
    "##### Вывод 1:"
   ]
  },
  {
   "cell_type": "markdown",
   "metadata": {},
   "source": [
    "В целом, можно сказать, что распределение везде выглядит нормальным - есть явные пики в начале и плавный спад. По графикам и стандартному отклонению в описании видно, что в столбцах с ценами и площадью есть выбросы. В то время как, в столбцах с высотой потолков и количеством комнат данные распределены более-менее равномерно."
   ]
  },
  {
   "cell_type": "markdown",
   "metadata": {},
   "source": [
    "##### Вопрос 2:"
   ]
  },
  {
   "cell_type": "markdown",
   "metadata": {},
   "source": [
    "Изучим время продажи квартиры. Построим гистограмму. Посчитаем среднее и медиану. \n",
    "Сколько обычно занимает продажа. Когда можно считать, что продажи прошли очень быстро, а когда необычно долго?"
   ]
  },
  {
   "cell_type": "code",
   "execution_count": 23,
   "metadata": {},
   "outputs": [
    {
     "name": "stdout",
     "output_type": "stream",
     "text": [
      "AxesSubplot(0.125,0.125;0.775x0.755)\n"
     ]
    },
    {
     "data": {
      "image/png": "[encoded data removed]",
      "text/plain": [
       "<Figure size 432x288 with 1 Axes>"
      ]
     },
     "metadata": {
      "needs_background": "light"
     },
     "output_type": "display_data"
    }
   ],
   "source": [
    "plt.ylim(-1, 250)\n",
    "print(data.boxplot(figsize=(15, 8), rot=90)) #ничего не понятно, сделаем чуть крупнее"
   ]
  },
  {
   "cell_type": "code",
   "execution_count": 24,
   "metadata": {},
   "outputs": [
    {
     "name": "stdout",
     "output_type": "stream",
     "text": [
      "count    14486.000000\n",
      "mean       175.716692\n",
      "std        211.114460\n",
      "min          1.000000\n",
      "25%         53.000000\n",
      "50%        103.000000\n",
      "75%        202.000000\n",
      "max       1580.000000\n",
      "Name: days_exposition, dtype: float64\n",
      "103.0\n",
      "AxesSubplot(0.125,0.125;0.775x0.755)\n"
     ]
    },
    {
     "data": {
      "image/png": "[encoded data removed]",
      "text/plain": [
       "<Figure size 432x288 with 1 Axes>"
      ]
     },
     "metadata": {
      "needs_background": "light"
     },
     "output_type": "display_data"
    }
   ],
   "source": [
    "print(data['days_exposition'].describe())\n",
    "print(data['days_exposition'].median())\n",
    "print(data['days_exposition'].plot.hist(range=(0, len(data['days_exposition'].unique())), title='Гистограмма времени продажи', grid=True))"
   ]
  },
  {
   "cell_type": "markdown",
   "metadata": {},
   "source": [
    "##### Вывод 2:"
   ]
  },
  {
   "cell_type": "markdown",
   "metadata": {},
   "source": [
    "По полученным данным видно, что обычно продажа занимает от 17 до 202 дней. Очень быстрыми будут продажи, которые совершились за менее чем 17 дней. А слишком долгими - за более чем 202 дня. Здесь также стандартное отклонение слишком велико, что сигнализирует о наличии выбросов."
   ]
  },
  {
   "cell_type": "markdown",
   "metadata": {},
   "source": [
    "##### Вопрос 3:"
   ]
  },
  {
   "cell_type": "markdown",
   "metadata": {},
   "source": [
    "Уберем редкие и выбивающиеся значения. \n",
    "Для удобства построим отдельный график для столбца цены (потому что данные в нем сильно отличаются от других столбцов)"
   ]
  },
  {
   "cell_type": "code",
   "execution_count": 25,
   "metadata": {},
   "outputs": [
    {
     "name": "stdout",
     "output_type": "stream",
     "text": [
      "AxesSubplot(0.125,0.125;0.775x0.755)\n"
     ]
    },
    {
     "data": {
      "image/png": "[encoded data removed]",
      "text/plain": [
       "<Figure size 432x288 with 1 Axes>"
      ]
     },
     "metadata": {
      "needs_background": "light"
     },
     "output_type": "display_data"
    }
   ],
   "source": [
    "plt.ylim(-1, 250)\n",
    "print(data.boxplot(column=['total_area', 'rooms', 'ceiling_height','days_exposition'],rot=45))"
   ]
  },
  {
   "cell_type": "code",
   "execution_count": 26,
   "metadata": {},
   "outputs": [
    {
     "name": "stdout",
     "output_type": "stream",
     "text": [
      "AxesSubplot(0.125,0.125;0.775x0.755)\n"
     ]
    },
    {
     "data": {
      "image/png": "[encoded data removed]",
      "text/plain": [
       "<Figure size 432x288 with 1 Axes>"
      ]
     },
     "metadata": {
      "needs_background": "light"
     },
     "output_type": "display_data"
    }
   ],
   "source": [
    "plt.ylim(-1, 8000)\n",
    "print(data.boxplot(column='last_price'))"
   ]
  },
  {
   "cell_type": "markdown",
   "metadata": {},
   "source": [
    "Избавимся от выбросов в каждом из этих столбцов методом составной фильтрации по срезам."
   ]
  },
  {
   "cell_type": "code",
   "execution_count": 27,
   "metadata": {},
   "outputs": [
    {
     "name": "stdout",
     "output_type": "stream",
     "text": [
      "<class 'pandas.core.frame.DataFrame'>\n",
      "Int64Index: 11433 entries, 1 to 14485\n",
      "Data columns (total 29 columns):\n",
      " #   Column                Non-Null Count  Dtype  \n",
      "---  ------                --------------  -----  \n",
      " 0   total_images          11433 non-null  int64  \n",
      " 1   last_price            11433 non-null  float64\n",
      " 2   total_area            11433 non-null  float64\n",
      " 3   first_day_exposition  11433 non-null  object \n",
      " 4   rooms                 11433 non-null  int64  \n",
      " 5   ceiling_height        11433 non-null  float64\n",
      " 6   floors_total          11433 non-null  int32  \n",
      " 7   living_area           11433 non-null  float64\n",
      " 8   floor                 11433 non-null  int64  \n",
      " 9   is_apartment          11433 non-null  bool   \n",
      " 10  studio                11433 non-null  bool   \n",
      " 11  open_plan             11433 non-null  bool   \n",
      " 12  kitchen_area          11433 non-null  float64\n",
      " 13  balcony               11433 non-null  int32  \n",
      " 14  locality_name         11433 non-null  object \n",
      " 15  airports_nearest      11433 non-null  int32  \n",
      " 16  city_centers_nearest  11433 non-null  int32  \n",
      " 17  parks_around_3000     11433 non-null  int32  \n",
      " 18  parks_nearest         11433 non-null  int32  \n",
      " 19  ponds_around_3000     11433 non-null  int32  \n",
      " 20  ponds_nearest         11433 non-null  int32  \n",
      " 21  days_exposition       11433 non-null  int32  \n",
      " 22  price_per_sqmeter     11433 non-null  float64\n",
      " 23  expo_weekday          11433 non-null  int64  \n",
      " 24  expo_month            11433 non-null  int64  \n",
      " 25  expo_year             11433 non-null  int64  \n",
      " 26  floor_category        11433 non-null  int32  \n",
      " 27  living_area_%         11433 non-null  int32  \n",
      " 28  kitchen_area_%        11433 non-null  int32  \n",
      "dtypes: bool(3), float64(6), int32(12), int64(6), object(2)\n",
      "memory usage: 1.9+ MB\n"
     ]
    }
   ],
   "source": [
    "total_area_q1 = data['total_area'].quantile(0.25)  #Простите за этот ужас, перепробовала все, что могла - ничего не сработало. Пришлось пилить вручную.       \n",
    "total_area_q3 = data['total_area'].quantile(0.75)\n",
    "total_area_iqr = total_area_q3 - total_area_q1\n",
    "rooms_q1 = data['rooms'].quantile(0.25)  \n",
    "rooms_q3 = data['rooms'].quantile(0.75)\n",
    "rooms_iqr = rooms_q3 - rooms_q1\n",
    "ceiling_height_q1 = data['ceiling_height'].quantile(0.25)  \n",
    "ceiling_height_q3 = data['ceiling_height'].quantile(0.75)\n",
    "ceiling_height_iqr = ceiling_height_q3 - ceiling_height_q1\n",
    "days_exposition_q1 = data['days_exposition'].quantile(0.25)  \n",
    "days_exposition_q3 = data['days_exposition'].quantile(0.75)\n",
    "days_exposition_iqr = days_exposition_q3 - days_exposition_q1\n",
    "last_price_q1 = data['last_price'].quantile(0.25)  \n",
    "last_price_q3 = data['last_price'].quantile(0.75)\n",
    "last_price_iqr = last_price_q3 - last_price_q1\n",
    "data_iqr = data.query(\"@total_area_q1 - 1.5*@total_area_iqr < total_area < @total_area_q3 + 1.5*@total_area_iqr \" \\\n",
    "\"& @rooms_q1 - 1.5*@rooms_iqr < rooms < @rooms_q3 + 1.5*@rooms_iqr \" \\\n",
    "\"& @ceiling_height_q1 - 1.5*@ceiling_height_iqr < ceiling_height < @ceiling_height_q3 + 1.5*@ceiling_height_iqr \" \\\n",
    "\"& @days_exposition_q1 - 1.5*@days_exposition_iqr < days_exposition < @days_exposition_q3 + 1.5*@days_exposition_iqr \" \\\n",
    "\"& @last_price_q1 - 1.5*@last_price_iqr < last_price < @last_price_q3 + 1.5*@last_price_iqr\")\n",
    "data_iqr.info() # в итоге у нас осталось 11656 объектов"
   ]
  },
  {
   "cell_type": "markdown",
   "metadata": {},
   "source": [
    "##### Вывод 3:"
   ]
  },
  {
   "cell_type": "markdown",
   "metadata": {},
   "source": [
    "В столбцах с количетсвом комнат и высотой потолков выбросов меньше, т.к. у данных показателей все же есть внешние ограничения, которые влияют на разброс данных.\n",
    "В то время как столбцы с ценой и количеством дней продажи ограничений почти не имеют и показывают большой интерквартильный размах и большое количество выбросов."
   ]
  },
  {
   "cell_type": "markdown",
   "metadata": {},
   "source": [
    "##### Вопрос 4:"
   ]
  },
  {
   "cell_type": "markdown",
   "metadata": {},
   "source": [
    "Какие факторы больше всего влияют на стоимость квартиры? Изучите, зависит ли цена от площади, числа комнат, удалённости от центра. Изучите зависимость цены от того, на каком этаже расположена квартира: первом, последнем или другом. Также изучите зависимость от даты размещения: дня недели, месяца и года."
   ]
  },
  {
   "cell_type": "code",
   "execution_count": 28,
   "metadata": {},
   "outputs": [
    {
     "name": "stdout",
     "output_type": "stream",
     "text": [
      "                      last_price  total_area     rooms  city_centers_nearest\n",
      "last_price              1.000000    0.692419  0.430559             -0.198226\n",
      "total_area              0.692419    1.000000  0.801710             -0.076868\n",
      "rooms                   0.430559    0.801710  1.000000             -0.040804\n",
      "city_centers_nearest   -0.198226   -0.076868 -0.040804              1.000000\n",
      "<seaborn.axisgrid.PairGrid object at 0x000001AB539A33D0>\n",
      "AxesSubplot(0.125,0.125;0.775x0.755)\n",
      "AxesSubplot(0.125,0.125;0.775x0.755)\n"
     ]
    },
    {
     "data": {
      "image/png": "[encoded data removed]",
      "text/plain": [
       "<Figure size 720x720 with 20 Axes>"
      ]
     },
     "metadata": {
      "needs_background": "light"
     },
     "output_type": "display_data"
    },
    {
     "data": {
      "image/png": "[encoded data removed]",
      "text/plain": [
       "<Figure size 432x288 with 1 Axes>"
      ]
     },
     "metadata": {
      "needs_background": "light"
     },
     "output_type": "display_data"
    },
    {
     "data": {
      "image/png": "[encoded data removed]",
      "text/plain": [
       "<Figure size 432x288 with 1 Axes>"
      ]
     },
     "metadata": {
      "needs_background": "light"
     },
     "output_type": "display_data"
    }
   ],
   "source": [
    "corr_data = data_iqr[['last_price', 'total_area', 'rooms', 'city_centers_nearest']]\n",
    "print(corr_data.corr())\n",
    "print(sns.pairplot(corr_data))\n",
    "print(data_iqr.pivot_table(index='expo_month', values='last_price', aggfunc='mean').plot(style='o-', grid=True, title='Зависимость средней цены от месяца публикации объявления'))\n",
    "print(data_iqr.pivot_table(index='expo_year', values='last_price', aggfunc='mean').plot(style='o-', grid=True, title='Зависимость средней цены от года публикации объявления'))"
   ]
  },
  {
   "cell_type": "markdown",
   "metadata": {},
   "source": [
    "##### Вывод 4:"
   ]
  },
  {
   "cell_type": "markdown",
   "metadata": {},
   "source": [
    "Больше всего цена зависит от общей площади и количества комнат. Влияние удаленности от центра в данной выборке очень мало, но все же показывает небольшую обратную взаимосвязь - чем меньше расстояние до центра, тем больше цена. Остальные показатели на цену не влияют. На графике распределения средних цен по месяцам есть пик на апреле и понижения цен в марте и мае. Сложно сделать какой-то логический вывод в данной ситуации. Предположим, что это особенность данной выборки. Явной закономерности на графиках распределения средней цены по месяцам и годам не обнаружено."
   ]
  },
  {
   "cell_type": "markdown",
   "metadata": {},
   "source": [
    "##### Вопрос 5:"
   ]
  },
  {
   "cell_type": "markdown",
   "metadata": {},
   "source": [
    "Выберите 10 населённых пунктов с наибольшим числом объявлений. Посчитайте среднюю цену квадратного метра в этих населённых пунктах. Выделите населённые пункты с самой высокой и низкой стоимостью жилья. Эти данные можно найти по имени в столбце locality_name."
   ]
  },
  {
   "cell_type": "code",
   "execution_count": 29,
   "metadata": {},
   "outputs": [
    {
     "data": {
      "text/html": [
       "<div>\n",
       "<style scoped>\n",
       "    .dataframe tbody tr th:only-of-type {\n",
       "        vertical-align: middle;\n",
       "    }\n",
       "\n",
       "    .dataframe tbody tr th {\n",
       "        vertical-align: top;\n",
       "    }\n",
       "\n",
       "    .dataframe thead th {\n",
       "        text-align: right;\n",
       "    }\n",
       "</style>\n",
       "<table border=\"1\" class=\"dataframe\">\n",
       "  <thead>\n",
       "    <tr style=\"text-align: right;\">\n",
       "      <th></th>\n",
       "      <th>floor</th>\n",
       "      <th>price_per_sqmeter</th>\n",
       "    </tr>\n",
       "    <tr>\n",
       "      <th>locality_name</th>\n",
       "      <th></th>\n",
       "      <th></th>\n",
       "    </tr>\n",
       "  </thead>\n",
       "  <tbody>\n",
       "    <tr>\n",
       "      <th>Санкт-Петербург</th>\n",
       "      <td>7606</td>\n",
       "      <td>106416.117374</td>\n",
       "    </tr>\n",
       "    <tr>\n",
       "      <th>Всеволожск</th>\n",
       "      <td>237</td>\n",
       "      <td>67270.988059</td>\n",
       "    </tr>\n",
       "    <tr>\n",
       "      <th>посёлок Шушары</th>\n",
       "      <td>197</td>\n",
       "      <td>79812.381168</td>\n",
       "    </tr>\n",
       "    <tr>\n",
       "      <th>Колпино</th>\n",
       "      <td>186</td>\n",
       "      <td>75647.819785</td>\n",
       "    </tr>\n",
       "    <tr>\n",
       "      <th>Пушкин</th>\n",
       "      <td>182</td>\n",
       "      <td>100302.531923</td>\n",
       "    </tr>\n",
       "    <tr>\n",
       "      <th>посёлок Мурино</th>\n",
       "      <td>175</td>\n",
       "      <td>88079.777829</td>\n",
       "    </tr>\n",
       "    <tr>\n",
       "      <th>Гатчина</th>\n",
       "      <td>131</td>\n",
       "      <td>70291.157710</td>\n",
       "    </tr>\n",
       "    <tr>\n",
       "      <th>посёлок Парголово</th>\n",
       "      <td>129</td>\n",
       "      <td>90479.114186</td>\n",
       "    </tr>\n",
       "    <tr>\n",
       "      <th>Петергоф</th>\n",
       "      <td>118</td>\n",
       "      <td>84320.929915</td>\n",
       "    </tr>\n",
       "    <tr>\n",
       "      <th>деревня Кудрово</th>\n",
       "      <td>105</td>\n",
       "      <td>91261.289143</td>\n",
       "    </tr>\n",
       "  </tbody>\n",
       "</table>\n",
       "</div>"
      ],
      "text/plain": [
       "                   floor  price_per_sqmeter\n",
       "locality_name                              \n",
       "Санкт-Петербург     7606      106416.117374\n",
       "Всеволожск           237       67270.988059\n",
       "посёлок Шушары       197       79812.381168\n",
       "Колпино              186       75647.819785\n",
       "Пушкин               182      100302.531923\n",
       "посёлок Мурино       175       88079.777829\n",
       "Гатчина              131       70291.157710\n",
       "посёлок Парголово    129       90479.114186\n",
       "Петергоф             118       84320.929915\n",
       "деревня Кудрово      105       91261.289143"
      ]
     },
     "metadata": {},
     "output_type": "display_data"
    },
    {
     "data": {
      "text/html": [
       "<div>\n",
       "<style scoped>\n",
       "    .dataframe tbody tr th:only-of-type {\n",
       "        vertical-align: middle;\n",
       "    }\n",
       "\n",
       "    .dataframe tbody tr th {\n",
       "        vertical-align: top;\n",
       "    }\n",
       "\n",
       "    .dataframe thead th {\n",
       "        text-align: right;\n",
       "    }\n",
       "</style>\n",
       "<table border=\"1\" class=\"dataframe\">\n",
       "  <thead>\n",
       "    <tr style=\"text-align: right;\">\n",
       "      <th></th>\n",
       "      <th>floor</th>\n",
       "      <th>price_per_sqmeter</th>\n",
       "    </tr>\n",
       "    <tr>\n",
       "      <th>locality_name</th>\n",
       "      <th></th>\n",
       "      <th></th>\n",
       "    </tr>\n",
       "  </thead>\n",
       "  <tbody>\n",
       "    <tr>\n",
       "      <th>деревня Мистолово</th>\n",
       "      <td>3</td>\n",
       "      <td>107121.683333</td>\n",
       "    </tr>\n",
       "    <tr>\n",
       "      <th>Санкт-Петербург</th>\n",
       "      <td>7606</td>\n",
       "      <td>106416.117374</td>\n",
       "    </tr>\n",
       "    <tr>\n",
       "      <th>Кудрово</th>\n",
       "      <td>68</td>\n",
       "      <td>104432.660000</td>\n",
       "    </tr>\n",
       "    <tr>\n",
       "      <th>Зеленогорск</th>\n",
       "      <td>17</td>\n",
       "      <td>104144.450588</td>\n",
       "    </tr>\n",
       "    <tr>\n",
       "      <th>Сестрорецк</th>\n",
       "      <td>102</td>\n",
       "      <td>101263.542255</td>\n",
       "    </tr>\n",
       "  </tbody>\n",
       "</table>\n",
       "</div>"
      ],
      "text/plain": [
       "                   floor  price_per_sqmeter\n",
       "locality_name                              \n",
       "деревня Мистолово      3      107121.683333\n",
       "Санкт-Петербург     7606      106416.117374\n",
       "Кудрово               68      104432.660000\n",
       "Зеленогорск           17      104144.450588\n",
       "Сестрорецк           102      101263.542255"
      ]
     },
     "metadata": {},
     "output_type": "display_data"
    },
    {
     "data": {
      "text/html": [
       "<div>\n",
       "<style scoped>\n",
       "    .dataframe tbody tr th:only-of-type {\n",
       "        vertical-align: middle;\n",
       "    }\n",
       "\n",
       "    .dataframe tbody tr th {\n",
       "        vertical-align: top;\n",
       "    }\n",
       "\n",
       "    .dataframe thead th {\n",
       "        text-align: right;\n",
       "    }\n",
       "</style>\n",
       "<table border=\"1\" class=\"dataframe\">\n",
       "  <thead>\n",
       "    <tr style=\"text-align: right;\">\n",
       "      <th></th>\n",
       "      <th>floor</th>\n",
       "      <th>price_per_sqmeter</th>\n",
       "    </tr>\n",
       "    <tr>\n",
       "      <th>locality_name</th>\n",
       "      <th></th>\n",
       "      <th></th>\n",
       "    </tr>\n",
       "  </thead>\n",
       "  <tbody>\n",
       "    <tr>\n",
       "      <th>поселок Почап</th>\n",
       "      <td>1</td>\n",
       "      <td>16037.74</td>\n",
       "    </tr>\n",
       "    <tr>\n",
       "      <th>деревня Фалилеево</th>\n",
       "      <td>1</td>\n",
       "      <td>13303.77</td>\n",
       "    </tr>\n",
       "    <tr>\n",
       "      <th>поселок городского типа Ефимовский</th>\n",
       "      <td>1</td>\n",
       "      <td>12686.57</td>\n",
       "    </tr>\n",
       "    <tr>\n",
       "      <th>поселок Совхозный</th>\n",
       "      <td>1</td>\n",
       "      <td>12555.56</td>\n",
       "    </tr>\n",
       "    <tr>\n",
       "      <th>деревня Вахнова Кара</th>\n",
       "      <td>1</td>\n",
       "      <td>11688.31</td>\n",
       "    </tr>\n",
       "  </tbody>\n",
       "</table>\n",
       "</div>"
      ],
      "text/plain": [
       "                                    floor  price_per_sqmeter\n",
       "locality_name                                               \n",
       "поселок Почап                           1           16037.74\n",
       "деревня Фалилеево                       1           13303.77\n",
       "поселок городского типа Ефимовский      1           12686.57\n",
       "поселок Совхозный                       1           12555.56\n",
       "деревня Вахнова Кара                    1           11688.31"
      ]
     },
     "metadata": {},
     "output_type": "display_data"
    }
   ],
   "source": [
    "locality_sorted_data = data_iqr.groupby('locality_name').agg({'floor': 'count', 'price_per_sqmeter': 'mean'}).sort_values(by='floor', ascending=False)\n",
    "display(locality_sorted_data.head(10)) #10 населённых пунктов с наибольшим числом объявлений\n",
    "display(locality_sorted_data.sort_values(by='price_per_sqmeter', ascending=False).head()) #населённые пункты с самой высокой стоимостью жилья\n",
    "display(locality_sorted_data.sort_values(by='price_per_sqmeter', ascending=False).tail()) #населённые пункты с самой низкой стоимостью жилья"
   ]
  },
  {
   "cell_type": "markdown",
   "metadata": {},
   "source": [
    "##### Вопрос 6:"
   ]
  },
  {
   "cell_type": "markdown",
   "metadata": {},
   "source": [
    "Изучите предложения квартир: для каждой квартиры есть информация о расстоянии до центра. Выделите квартиры в Санкт-Петербурге (locality_name). Ваша задача — выяснить, какая область входит в центр. Создайте столбец с расстоянием до центра в километрах: округлите до целых значений. После этого посчитайте среднюю цену для каждого километра. Постройте график: он должен показывать, как цена зависит от удалённости от центра. Определите границу, где график сильно меняется, — это и будет центральная зона."
   ]
  },
  {
   "cell_type": "code",
   "execution_count": 30,
   "metadata": {},
   "outputs": [
    {
     "data": {
      "text/plain": [
       "<AxesSubplot:xlabel='city_centers_nearest_kilo'>"
      ]
     },
     "execution_count": 30,
     "metadata": {},
     "output_type": "execute_result"
    },
    {
     "data": {
      "image/png": "[encoded data removed]",
      "text/plain": [
       "<Figure size 432x432 with 1 Axes>"
      ]
     },
     "metadata": {
      "needs_background": "light"
     },
     "output_type": "display_data"
    }
   ],
   "source": [
    "data_iqr['city_centers_nearest_kilo'] = (data_iqr['city_centers_nearest'] / 1000).astype('int')\n",
    "spb_data = data_iqr.query('locality_name == \"Санкт-Петербург\"').groupby('city_centers_nearest_kilo').agg({'price_per_sqmeter': 'mean'})\n",
    "spb_data.plot(figsize=(6,6), grid=True)\n",
    "\n"
   ]
  },
  {
   "cell_type": "markdown",
   "metadata": {},
   "source": [
    "##### Вывод 6:"
   ]
  },
  {
   "cell_type": "markdown",
   "metadata": {},
   "source": [
    "По графику видно, что примерно в районе 6-7 мн то центра идет резкий спад цены за кв. метр. Можно предположить, что это и есть граница центральной зоны."
   ]
  },
  {
   "cell_type": "markdown",
   "metadata": {},
   "source": [
    "##### Вопрос 7:"
   ]
  },
  {
   "cell_type": "markdown",
   "metadata": {},
   "source": [
    "Выделите сегмент квартир в центре. Проанализируйте эту территорию и изучите следующие параметры: площадь, цена, число комнат, высота потолков. Также выделите факторы, которые влияют на стоимость квартиры (число комнат, этаж, удалённость от центра, дата размещения объявления). Сделайте выводы. Отличаются ли они от общих выводов по всей базе?"
   ]
  },
  {
   "cell_type": "code",
   "execution_count": 31,
   "metadata": {},
   "outputs": [
    {
     "name": "stdout",
     "output_type": "stream",
     "text": [
      "count    882.000000\n",
      "mean      63.564909\n",
      "std       20.878019\n",
      "min       12.000000\n",
      "25%       47.000000\n",
      "50%       62.000000\n",
      "75%       78.000000\n",
      "max      115.100000\n",
      "Name: total_area, dtype: float64\n",
      "AxesSubplot(0.125,0.125;0.775x0.755)\n"
     ]
    },
    {
     "data": {
      "image/png": "[encoded data removed]",
      "text/plain": [
       "<Figure size 432x288 with 1 Axes>"
      ]
     },
     "metadata": {
      "needs_background": "light"
     },
     "output_type": "display_data"
    }
   ],
   "source": [
    "spb_center = data_iqr.query('locality_name == \"Санкт-Петербург\" & city_centers_nearest_kilo < 7')\n",
    "print(spb_center['total_area'].describe())\n",
    "print(spb_center['total_area'].plot.hist(bins=len(spb_center['total_area'].unique()), title='Гистограмма площади', grid=True))"
   ]
  },
  {
   "cell_type": "code",
   "execution_count": 32,
   "metadata": {},
   "outputs": [
    {
     "name": "stdout",
     "output_type": "stream",
     "text": [
      "count    882.000000\n",
      "mean       2.272109\n",
      "std        0.942558\n",
      "min        0.000000\n",
      "25%        2.000000\n",
      "50%        2.000000\n",
      "75%        3.000000\n",
      "max        5.000000\n",
      "Name: rooms, dtype: float64\n",
      "AxesSubplot(0.125,0.125;0.775x0.755)\n"
     ]
    },
    {
     "data": {
      "image/png": "[encoded data removed]",
      "text/plain": [
       "<Figure size 432x288 with 1 Axes>"
      ]
     },
     "metadata": {
      "needs_background": "light"
     },
     "output_type": "display_data"
    }
   ],
   "source": [
    "print(spb_center['rooms'].describe())\n",
    "print(spb_center['rooms'].plot.hist(bins=len(spb_center['rooms'].unique()), title='Гистограмма числа комнат', grid=True))"
   ]
  },
  {
   "cell_type": "code",
   "execution_count": 33,
   "metadata": {},
   "outputs": [
    {
     "name": "stdout",
     "output_type": "stream",
     "text": [
      "count      882.000000\n",
      "mean      7299.842642\n",
      "std       2150.410769\n",
      "min       1600.000000\n",
      "25%       5701.250000\n",
      "50%       7200.000000\n",
      "75%       8743.812500\n",
      "max      12100.000000\n",
      "Name: last_price, dtype: float64\n",
      "AxesSubplot(0.125,0.125;0.775x0.755)\n"
     ]
    },
    {
     "data": {
      "image/png": "[encoded data removed]",
      "text/plain": [
       "<Figure size 432x288 with 1 Axes>"
      ]
     },
     "metadata": {
      "needs_background": "light"
     },
     "output_type": "display_data"
    }
   ],
   "source": [
    "print(spb_center['last_price'].describe())\n",
    "print(spb_center['last_price'].plot.hist(bins=len(spb_center['last_price'].unique()), title='Гистограмма цены', grid=True))"
   ]
  },
  {
   "cell_type": "code",
   "execution_count": 34,
   "metadata": {},
   "outputs": [
    {
     "name": "stdout",
     "output_type": "stream",
     "text": [
      "count    882.000000\n",
      "mean       2.895374\n",
      "std        0.208638\n",
      "min        2.400000\n",
      "25%        2.750000\n",
      "50%        2.950000\n",
      "75%        3.027500\n",
      "max        3.210000\n",
      "Name: ceiling_height, dtype: float64\n",
      "AxesSubplot(0.125,0.125;0.775x0.755)\n"
     ]
    },
    {
     "data": {
      "image/png": "[encoded data removed]",
      "text/plain": [
       "<Figure size 432x288 with 1 Axes>"
      ]
     },
     "metadata": {
      "needs_background": "light"
     },
     "output_type": "display_data"
    }
   ],
   "source": [
    "print(spb_center['ceiling_height'].describe())\n",
    "print(spb_center['ceiling_height'].plot.hist(bins=len(spb_center['ceiling_height'].unique()), title='Гистограмма высоты потолков', grid=True))"
   ]
  },
  {
   "cell_type": "code",
   "execution_count": 35,
   "metadata": {},
   "outputs": [
    {
     "name": "stdout",
     "output_type": "stream",
     "text": [
      "rooms                   0.457120\n",
      "city_centers_nearest   -0.188357\n",
      "floor_category         -0.124219\n",
      "expo_weekday           -0.033100\n",
      "expo_month             -0.025816\n",
      "expo_year               0.036526\n",
      "dtype: float64\n"
     ]
    },
    {
     "data": {
      "text/plain": [
       "<AxesSubplot:xlabel='last_price', ylabel='rooms'>"
      ]
     },
     "execution_count": 35,
     "metadata": {},
     "output_type": "execute_result"
    },
    {
     "data": {
      "image/png": "[encoded data removed]",
      "text/plain": [
       "<Figure size 576x432 with 2 Axes>"
      ]
     },
     "metadata": {
      "needs_background": "light"
     },
     "output_type": "display_data"
    }
   ],
   "source": [
    "corr_data_spb = spb_center[['rooms', 'city_centers_nearest', 'floor_category', 'expo_weekday', 'expo_month', 'expo_year']]\n",
    "print(corr_data_spb.corrwith(spb_center['last_price']))\n",
    "spb_center.plot(x='last_price', y='rooms', kind='hexbin', gridsize=20, figsize=(8, 6), sharex=False, grid=True)"
   ]
  },
  {
   "cell_type": "markdown",
   "metadata": {},
   "source": [
    "##### Вывод 7:"
   ]
  },
  {
   "cell_type": "markdown",
   "metadata": {},
   "source": [
    "При анализе квартир в центре Петербурга (в радиусе 7 км) можно отметить нормальное распределение почти по всем параметрам, кроме высоты потолков. Тут явно выбивается показатель в 3 метра:) \n",
    "При подсчете корелляции данные не отличаются от общей картины до этого - примерно 0,4 кореляция с количеством комнат. С другими показателями взаимосвязи также не выявлено."
   ]
  },
  {
   "cell_type": "markdown",
   "metadata": {},
   "source": [
    "### Общий вывод"
   ]
  },
  {
   "cell_type": "markdown",
   "metadata": {},
   "source": [
    "Мы проанализировали данные из объявлений о продаже кварир в Санкт-Петербурге и Ленинградской области. Для начала мы изучили данные на аномалии, пропуски, провели предобработку данных, поработали над типами данных и добавили еще несколько нужных столбцов. Затем мы проанализировали некоторые наиболее важные столбцы на распределение данных и избавились от выбросов, которые могли исказить итог. Мы выявили взаимосвязи между ценой и некоторыми показателями. А также проанализировали отдельно данные в центре Санкт-Петербурга и сравнили с общей картиной.\n",
    "В ходе анализа мы выяснили, что из всех присутствующих показателей на цену вляют больше всего площадь и количество комнат. Такие показатели, как высота потолков или дата пубикации объявления на цену не вляют.\n",
    "Это просеживается и при выделении отдельно сегмента квартир в центре Санкт-Петербурга. Единственным влияющим на цену фактором является количество комнат.\n",
    "Близость к центру или этаж квартиры влияют в намного меньшей степени.\n",
    "Таким образом, можно сказать, что рыночное ценообразование в основном строится на количестве комнат и площади квартиры."
   ]
  },
  {
   "cell_type": "code",
   "execution_count": null,
   "metadata": {},
   "outputs": [],
   "source": []
  }
 ],
 "metadata": {
  "ExecuteTimeLog": [
   {
    "duration": 880,
    "start_time": "2022-03-10T16:30:18.185Z"
   },
   {
    "duration": 66,
    "start_time": "2022-03-10T16:30:29.377Z"
   },
   {
    "duration": 75,
    "start_time": "2022-03-10T16:33:55.959Z"
   },
   {
    "duration": 90,
    "start_time": "2022-03-10T16:34:10.343Z"
   },
   {
    "duration": 69,
    "start_time": "2022-03-10T16:34:14.886Z"
   },
   {
    "duration": 827,
    "start_time": "2022-03-12T12:50:01.735Z"
   },
   {
    "duration": 6,
    "start_time": "2022-03-12T13:02:16.196Z"
   },
   {
    "duration": 8,
    "start_time": "2022-03-12T13:02:39.807Z"
   },
   {
    "duration": 6,
    "start_time": "2022-03-12T13:02:49.981Z"
   },
   {
    "duration": 9,
    "start_time": "2022-03-12T13:05:25.057Z"
   },
   {
    "duration": 6,
    "start_time": "2022-03-12T13:05:47.755Z"
   },
   {
    "duration": 6,
    "start_time": "2022-03-12T13:06:00.180Z"
   },
   {
    "duration": 6,
    "start_time": "2022-03-12T13:06:11.800Z"
   },
   {
    "duration": 7,
    "start_time": "2022-03-12T13:06:39.324Z"
   },
   {
    "duration": 6,
    "start_time": "2022-03-12T13:07:00.418Z"
   },
   {
    "duration": 6,
    "start_time": "2022-03-12T13:07:33.210Z"
   },
   {
    "duration": 5,
    "start_time": "2022-03-12T13:07:43.729Z"
   },
   {
    "duration": 7,
    "start_time": "2022-03-12T13:07:54.251Z"
   },
   {
    "duration": -3552,
    "start_time": "2022-03-12T13:08:34.495Z"
   },
   {
    "duration": 19,
    "start_time": "2022-03-12T13:08:32.743Z"
   },
   {
    "duration": 7,
    "start_time": "2022-03-12T13:08:45.115Z"
   },
   {
    "duration": 5,
    "start_time": "2022-03-12T13:08:56.432Z"
   },
   {
    "duration": 10,
    "start_time": "2022-03-12T13:17:49.736Z"
   },
   {
    "duration": 8,
    "start_time": "2022-03-12T13:19:26.123Z"
   },
   {
    "duration": 9,
    "start_time": "2022-03-12T13:25:38.446Z"
   },
   {
    "duration": 280,
    "start_time": "2022-03-12T13:26:09.611Z"
   },
   {
    "duration": 13,
    "start_time": "2022-03-12T13:26:37.536Z"
   },
   {
    "duration": 11,
    "start_time": "2022-03-12T13:26:51.800Z"
   },
   {
    "duration": 9,
    "start_time": "2022-03-12T13:29:50.172Z"
   },
   {
    "duration": 82,
    "start_time": "2022-03-12T13:30:50.245Z"
   },
   {
    "duration": 9,
    "start_time": "2022-03-12T13:31:04.070Z"
   },
   {
    "duration": 9,
    "start_time": "2022-03-12T13:31:28.640Z"
   },
   {
    "duration": 9,
    "start_time": "2022-03-12T13:34:00.830Z"
   },
   {
    "duration": 38,
    "start_time": "2022-03-12T13:34:35.213Z"
   },
   {
    "duration": 225,
    "start_time": "2022-03-12T13:34:42.826Z"
   },
   {
    "duration": 57,
    "start_time": "2022-03-12T13:34:49.501Z"
   },
   {
    "duration": 10,
    "start_time": "2022-03-12T13:40:01.628Z"
   },
   {
    "duration": 55,
    "start_time": "2022-03-12T13:40:46.695Z"
   },
   {
    "duration": 6,
    "start_time": "2022-03-12T13:42:05.333Z"
   },
   {
    "duration": 6,
    "start_time": "2022-03-12T13:42:17.322Z"
   },
   {
    "duration": 145,
    "start_time": "2022-03-12T13:44:13.727Z"
   },
   {
    "duration": 560,
    "start_time": "2022-03-12T13:46:59.210Z"
   },
   {
    "duration": 26,
    "start_time": "2022-03-12T13:47:08.911Z"
   },
   {
    "duration": 56,
    "start_time": "2022-03-12T13:48:03.096Z"
   },
   {
    "duration": 85,
    "start_time": "2022-03-12T13:48:56.819Z"
   },
   {
    "duration": 82,
    "start_time": "2022-03-12T13:52:17.789Z"
   },
   {
    "duration": 6693,
    "start_time": "2022-03-12T14:09:40.615Z"
   },
   {
    "duration": 266,
    "start_time": "2022-03-12T14:14:03.354Z"
   },
   {
    "duration": 250,
    "start_time": "2022-03-12T14:16:25.088Z"
   },
   {
    "duration": 91,
    "start_time": "2022-03-12T14:16:31.473Z"
   },
   {
    "duration": 88,
    "start_time": "2022-03-12T14:17:47.536Z"
   },
   {
    "duration": 95,
    "start_time": "2022-03-12T14:19:01.637Z"
   },
   {
    "duration": 94,
    "start_time": "2022-03-12T14:19:54.459Z"
   },
   {
    "duration": 103,
    "start_time": "2022-03-12T14:22:07.985Z"
   },
   {
    "duration": 237,
    "start_time": "2022-03-12T14:22:58.575Z"
   },
   {
    "duration": 226,
    "start_time": "2022-03-12T14:23:03.334Z"
   },
   {
    "duration": 9,
    "start_time": "2022-03-12T14:23:18.892Z"
   },
   {
    "duration": 125,
    "start_time": "2022-03-12T14:23:29.633Z"
   },
   {
    "duration": 9,
    "start_time": "2022-03-12T14:23:30.908Z"
   },
   {
    "duration": 10,
    "start_time": "2022-03-12T14:24:07.641Z"
   },
   {
    "duration": 9,
    "start_time": "2022-03-12T14:24:19.407Z"
   },
   {
    "duration": 122,
    "start_time": "2022-03-12T14:28:12.132Z"
   },
   {
    "duration": 9,
    "start_time": "2022-03-12T14:28:13.006Z"
   },
   {
    "duration": 311,
    "start_time": "2022-03-12T14:28:14.321Z"
   },
   {
    "duration": 360,
    "start_time": "2022-03-12T14:29:22.192Z"
   },
   {
    "duration": 130,
    "start_time": "2022-03-12T14:29:45.871Z"
   },
   {
    "duration": 8,
    "start_time": "2022-03-12T14:29:46.712Z"
   },
   {
    "duration": 348,
    "start_time": "2022-03-12T14:29:49.228Z"
   },
   {
    "duration": 74,
    "start_time": "2022-03-12T14:30:08.311Z"
   },
   {
    "duration": 335,
    "start_time": "2022-03-12T14:30:17.180Z"
   },
   {
    "duration": 75,
    "start_time": "2022-03-12T14:32:33.092Z"
   },
   {
    "duration": 109,
    "start_time": "2022-03-12T14:32:36.286Z"
   },
   {
    "duration": 88,
    "start_time": "2022-03-12T14:33:45.512Z"
   },
   {
    "duration": 135,
    "start_time": "2022-03-12T14:33:55.151Z"
   },
   {
    "duration": 9,
    "start_time": "2022-03-12T14:33:56.045Z"
   },
   {
    "duration": 124,
    "start_time": "2022-03-12T14:33:56.962Z"
   },
   {
    "duration": 30,
    "start_time": "2022-03-12T14:33:57.887Z"
   },
   {
    "duration": 194,
    "start_time": "2022-03-12T14:34:08.735Z"
   },
   {
    "duration": 10,
    "start_time": "2022-03-12T14:34:29.235Z"
   },
   {
    "duration": 99,
    "start_time": "2022-03-12T14:34:30.635Z"
   },
   {
    "duration": 19,
    "start_time": "2022-03-12T14:34:31.870Z"
   },
   {
    "duration": 146,
    "start_time": "2022-03-12T14:34:53.882Z"
   },
   {
    "duration": 8,
    "start_time": "2022-03-12T14:34:54.630Z"
   },
   {
    "duration": 94,
    "start_time": "2022-03-12T14:34:57.931Z"
   },
   {
    "duration": 20,
    "start_time": "2022-03-12T14:34:59.793Z"
   },
   {
    "duration": 127,
    "start_time": "2022-03-12T14:35:54.274Z"
   },
   {
    "duration": 11,
    "start_time": "2022-03-12T14:35:57.141Z"
   },
   {
    "duration": 112,
    "start_time": "2022-03-12T14:36:00.587Z"
   },
   {
    "duration": 118,
    "start_time": "2022-03-12T14:38:45.588Z"
   },
   {
    "duration": 9,
    "start_time": "2022-03-12T14:38:46.603Z"
   },
   {
    "duration": 106,
    "start_time": "2022-03-12T14:38:48.184Z"
   },
   {
    "duration": 21,
    "start_time": "2022-03-12T14:38:54.968Z"
   },
   {
    "duration": 90,
    "start_time": "2022-03-12T14:51:04.411Z"
   },
   {
    "duration": 119,
    "start_time": "2022-03-12T14:54:16.886Z"
   },
   {
    "duration": 290,
    "start_time": "2022-03-12T14:55:03.291Z"
   },
   {
    "duration": 51,
    "start_time": "2022-03-12T15:07:54.866Z"
   },
   {
    "duration": 48,
    "start_time": "2022-03-12T15:10:07.921Z"
   },
   {
    "duration": 267,
    "start_time": "2022-03-12T15:10:32.993Z"
   },
   {
    "duration": 47,
    "start_time": "2022-03-12T15:10:38.211Z"
   },
   {
    "duration": 271,
    "start_time": "2022-03-12T15:20:37.824Z"
   },
   {
    "duration": 284,
    "start_time": "2022-03-12T15:21:11.514Z"
   },
   {
    "duration": 120,
    "start_time": "2022-03-12T15:21:21.125Z"
   },
   {
    "duration": 10,
    "start_time": "2022-03-12T15:21:22.098Z"
   },
   {
    "duration": 310,
    "start_time": "2022-03-12T15:21:23.614Z"
   },
   {
    "duration": 82,
    "start_time": "2022-03-12T15:22:27.250Z"
   },
   {
    "duration": 133,
    "start_time": "2022-03-12T15:22:36.954Z"
   },
   {
    "duration": 9,
    "start_time": "2022-03-12T15:22:37.596Z"
   },
   {
    "duration": 102,
    "start_time": "2022-03-12T15:22:38.746Z"
   },
   {
    "duration": 63,
    "start_time": "2022-03-12T15:24:00.324Z"
   },
   {
    "duration": 50,
    "start_time": "2022-03-12T15:24:17.042Z"
   },
   {
    "duration": 58,
    "start_time": "2022-03-12T15:24:38.955Z"
   },
   {
    "duration": 82,
    "start_time": "2022-03-12T15:24:50.317Z"
   },
   {
    "duration": 223,
    "start_time": "2022-03-12T15:25:26.146Z"
   },
   {
    "duration": 72,
    "start_time": "2022-03-12T15:25:42.688Z"
   },
   {
    "duration": 244,
    "start_time": "2022-03-12T15:26:50.887Z"
   },
   {
    "duration": 124,
    "start_time": "2022-03-12T15:26:57.066Z"
   },
   {
    "duration": 9,
    "start_time": "2022-03-12T15:26:57.778Z"
   },
   {
    "duration": 97,
    "start_time": "2022-03-12T15:26:58.544Z"
   },
   {
    "duration": 253,
    "start_time": "2022-03-12T15:26:59.932Z"
   },
   {
    "duration": 81,
    "start_time": "2022-03-12T15:27:08.024Z"
   },
   {
    "duration": 569,
    "start_time": "2022-03-14T15:54:22.182Z"
   },
   {
    "duration": 931,
    "start_time": "2022-03-14T15:54:27.427Z"
   },
   {
    "duration": 9,
    "start_time": "2022-03-14T15:54:28.361Z"
   },
   {
    "duration": 118,
    "start_time": "2022-03-14T15:54:29.136Z"
   },
   {
    "duration": 77,
    "start_time": "2022-03-14T15:54:29.382Z"
   },
   {
    "duration": 6,
    "start_time": "2022-03-14T15:54:32.048Z"
   },
   {
    "duration": 8,
    "start_time": "2022-03-14T15:54:53.475Z"
   },
   {
    "duration": 7,
    "start_time": "2022-03-14T15:55:10.743Z"
   },
   {
    "duration": 6,
    "start_time": "2022-03-14T15:57:32.332Z"
   },
   {
    "duration": 7,
    "start_time": "2022-03-14T15:57:51.098Z"
   },
   {
    "duration": 7,
    "start_time": "2022-03-14T16:02:57.586Z"
   },
   {
    "duration": 450,
    "start_time": "2022-03-14T16:26:09.496Z"
   },
   {
    "duration": 23,
    "start_time": "2022-03-14T16:26:18.228Z"
   },
   {
    "duration": 665,
    "start_time": "2022-03-14T16:27:47.366Z"
   },
   {
    "duration": 29,
    "start_time": "2022-03-14T16:28:20.559Z"
   },
   {
    "duration": 23,
    "start_time": "2022-03-14T17:01:22.752Z"
   },
   {
    "duration": 2042,
    "start_time": "2022-03-14T17:07:59.687Z"
   },
   {
    "duration": 1665,
    "start_time": "2022-03-14T17:09:16.628Z"
   },
   {
    "duration": 1382,
    "start_time": "2022-03-14T17:09:53.649Z"
   },
   {
    "duration": 2248,
    "start_time": "2022-03-14T17:10:43.964Z"
   },
   {
    "duration": 728,
    "start_time": "2022-03-14T17:10:59.079Z"
   },
   {
    "duration": 23,
    "start_time": "2022-03-14T17:11:42.525Z"
   },
   {
    "duration": 31601,
    "start_time": "2022-03-14T17:23:01.202Z"
   },
   {
    "duration": 619,
    "start_time": "2022-03-16T13:44:24.864Z"
   },
   {
    "duration": 6,
    "start_time": "2022-03-16T13:44:26.630Z"
   },
   {
    "duration": 66,
    "start_time": "2022-03-16T13:44:27.549Z"
   },
   {
    "duration": 54,
    "start_time": "2022-03-16T13:44:28.593Z"
   },
   {
    "duration": 49,
    "start_time": "2022-03-16T13:44:31.861Z"
   },
   {
    "duration": 49,
    "start_time": "2022-03-16T13:44:37.343Z"
   },
   {
    "duration": 93,
    "start_time": "2022-03-16T13:44:56.935Z"
   },
   {
    "duration": 7,
    "start_time": "2022-03-16T13:44:57.949Z"
   },
   {
    "duration": 60,
    "start_time": "2022-03-16T13:44:59.010Z"
   },
   {
    "duration": 57,
    "start_time": "2022-03-16T13:45:00.884Z"
   },
   {
    "duration": 51,
    "start_time": "2022-03-16T13:45:05.199Z"
   },
   {
    "duration": 50,
    "start_time": "2022-03-16T13:45:15.332Z"
   },
   {
    "duration": 92,
    "start_time": "2022-03-16T13:45:22.172Z"
   },
   {
    "duration": 7,
    "start_time": "2022-03-16T13:45:22.793Z"
   },
   {
    "duration": 60,
    "start_time": "2022-03-16T13:45:23.420Z"
   },
   {
    "duration": 54,
    "start_time": "2022-03-16T13:45:24.279Z"
   },
   {
    "duration": 50,
    "start_time": "2022-03-16T13:45:27.621Z"
   },
   {
    "duration": 4,
    "start_time": "2022-03-16T13:48:56.491Z"
   },
   {
    "duration": 4,
    "start_time": "2022-03-16T13:49:10.916Z"
   },
   {
    "duration": 3,
    "start_time": "2022-03-16T13:49:25.959Z"
   },
   {
    "duration": 4,
    "start_time": "2022-03-16T13:49:40.484Z"
   },
   {
    "duration": 7,
    "start_time": "2022-03-16T13:55:49.863Z"
   },
   {
    "duration": 9,
    "start_time": "2022-03-16T13:56:02.077Z"
   },
   {
    "duration": 189,
    "start_time": "2022-03-16T13:56:28.106Z"
   },
   {
    "duration": 6,
    "start_time": "2022-03-16T13:56:50.833Z"
   },
   {
    "duration": 5,
    "start_time": "2022-03-16T13:58:23.305Z"
   },
   {
    "duration": 6,
    "start_time": "2022-03-16T13:59:01.170Z"
   },
   {
    "duration": 52,
    "start_time": "2022-03-16T13:59:30.515Z"
   },
   {
    "duration": 91,
    "start_time": "2022-03-16T13:59:35.746Z"
   },
   {
    "duration": 7,
    "start_time": "2022-03-16T13:59:36.417Z"
   },
   {
    "duration": 64,
    "start_time": "2022-03-16T13:59:37.070Z"
   },
   {
    "duration": 73,
    "start_time": "2022-03-16T13:59:37.755Z"
   },
   {
    "duration": 51,
    "start_time": "2022-03-16T13:59:39.315Z"
   },
   {
    "duration": 6,
    "start_time": "2022-03-16T13:59:47.043Z"
   },
   {
    "duration": 6,
    "start_time": "2022-03-16T14:00:48.613Z"
   },
   {
    "duration": 5,
    "start_time": "2022-03-16T14:03:53.375Z"
   },
   {
    "duration": 3647,
    "start_time": "2022-03-16T14:04:22.105Z"
   },
   {
    "duration": 3371,
    "start_time": "2022-03-16T14:04:30.052Z"
   },
   {
    "duration": 8,
    "start_time": "2022-03-16T14:04:46.144Z"
   },
   {
    "duration": 11,
    "start_time": "2022-03-16T14:09:49.084Z"
   },
   {
    "duration": 98,
    "start_time": "2022-03-16T14:11:15.801Z"
   },
   {
    "duration": 7,
    "start_time": "2022-03-16T14:11:16.936Z"
   },
   {
    "duration": 60,
    "start_time": "2022-03-16T14:11:17.785Z"
   },
   {
    "duration": 54,
    "start_time": "2022-03-16T14:11:19.383Z"
   },
   {
    "duration": 45,
    "start_time": "2022-03-16T14:11:23.220Z"
   },
   {
    "duration": 10,
    "start_time": "2022-03-16T14:11:28.447Z"
   },
   {
    "duration": 91,
    "start_time": "2022-03-16T14:11:36.895Z"
   },
   {
    "duration": 7,
    "start_time": "2022-03-16T14:11:37.863Z"
   },
   {
    "duration": 101,
    "start_time": "2022-03-16T14:11:38.976Z"
   },
   {
    "duration": 85,
    "start_time": "2022-03-16T14:11:44.016Z"
   },
   {
    "duration": 9,
    "start_time": "2022-03-16T14:11:49.279Z"
   },
   {
    "duration": 6,
    "start_time": "2022-03-16T14:11:51.738Z"
   },
   {
    "duration": 95,
    "start_time": "2022-03-16T14:13:39.614Z"
   },
   {
    "duration": 6,
    "start_time": "2022-03-16T14:13:40.428Z"
   },
   {
    "duration": 62,
    "start_time": "2022-03-16T14:13:41.509Z"
   },
   {
    "duration": 55,
    "start_time": "2022-03-16T14:13:42.684Z"
   },
   {
    "duration": 44,
    "start_time": "2022-03-16T14:13:43.661Z"
   },
   {
    "duration": 9,
    "start_time": "2022-03-16T14:13:44.567Z"
   },
   {
    "duration": 5,
    "start_time": "2022-03-16T14:13:45.796Z"
   },
   {
    "duration": 641,
    "start_time": "2022-03-16T14:15:11.969Z"
   },
   {
    "duration": 6,
    "start_time": "2022-03-16T14:15:12.611Z"
   },
   {
    "duration": 69,
    "start_time": "2022-03-16T14:15:12.635Z"
   },
   {
    "duration": 82,
    "start_time": "2022-03-16T14:15:12.706Z"
   },
   {
    "duration": 70,
    "start_time": "2022-03-16T14:15:12.790Z"
   },
   {
    "duration": 10,
    "start_time": "2022-03-16T14:15:12.862Z"
   },
   {
    "duration": 9,
    "start_time": "2022-03-16T14:15:12.874Z"
   },
   {
    "duration": 105,
    "start_time": "2022-03-16T14:17:52.668Z"
   },
   {
    "duration": 7,
    "start_time": "2022-03-16T14:17:53.267Z"
   },
   {
    "duration": 67,
    "start_time": "2022-03-16T14:17:54.038Z"
   },
   {
    "duration": 67,
    "start_time": "2022-03-16T14:17:54.725Z"
   },
   {
    "duration": 60,
    "start_time": "2022-03-16T14:17:55.514Z"
   },
   {
    "duration": 13,
    "start_time": "2022-03-16T14:18:01.364Z"
   },
   {
    "duration": 95,
    "start_time": "2022-03-16T14:18:44.604Z"
   },
   {
    "duration": 7,
    "start_time": "2022-03-16T14:18:45.996Z"
   },
   {
    "duration": 89,
    "start_time": "2022-03-16T14:18:59.682Z"
   },
   {
    "duration": 91,
    "start_time": "2022-03-16T14:20:09.990Z"
   },
   {
    "duration": 91,
    "start_time": "2022-03-16T14:24:12.959Z"
   },
   {
    "duration": 6,
    "start_time": "2022-03-16T14:24:14.118Z"
   },
   {
    "duration": 59,
    "start_time": "2022-03-16T14:24:16.872Z"
   },
   {
    "duration": 55,
    "start_time": "2022-03-16T14:24:21.209Z"
   },
   {
    "duration": 610,
    "start_time": "2022-03-16T14:25:45.059Z"
   },
   {
    "duration": 6,
    "start_time": "2022-03-16T14:25:45.671Z"
   },
   {
    "duration": 81,
    "start_time": "2022-03-16T14:25:45.679Z"
   },
   {
    "duration": 54,
    "start_time": "2022-03-16T14:25:45.762Z"
   },
   {
    "duration": 48,
    "start_time": "2022-03-16T14:25:45.833Z"
   },
   {
    "duration": 8,
    "start_time": "2022-03-16T14:25:45.883Z"
   },
   {
    "duration": 9,
    "start_time": "2022-03-16T14:25:45.893Z"
   },
   {
    "duration": 52,
    "start_time": "2022-03-16T14:26:45.763Z"
   },
   {
    "duration": 10,
    "start_time": "2022-03-16T14:27:07.897Z"
   },
   {
    "duration": 7,
    "start_time": "2022-03-16T14:27:17.818Z"
   },
   {
    "duration": 4,
    "start_time": "2022-03-16T14:29:12.048Z"
   },
   {
    "duration": 6,
    "start_time": "2022-03-16T14:34:22.740Z"
   },
   {
    "duration": 5,
    "start_time": "2022-03-16T14:35:17.743Z"
   },
   {
    "duration": 215,
    "start_time": "2022-03-16T14:38:04.753Z"
   },
   {
    "duration": 12,
    "start_time": "2022-03-16T14:39:25.364Z"
   },
   {
    "duration": 11,
    "start_time": "2022-03-16T14:41:14.397Z"
   },
   {
    "duration": 10,
    "start_time": "2022-03-16T14:42:08.111Z"
   },
   {
    "duration": 264,
    "start_time": "2022-03-16T14:52:09.647Z"
   },
   {
    "duration": 344,
    "start_time": "2022-03-16T14:52:29.162Z"
   },
   {
    "duration": 287,
    "start_time": "2022-03-16T14:53:18.754Z"
   },
   {
    "duration": 92,
    "start_time": "2022-03-16T14:53:33.378Z"
   },
   {
    "duration": 7,
    "start_time": "2022-03-16T14:53:34.024Z"
   },
   {
    "duration": 64,
    "start_time": "2022-03-16T14:53:34.649Z"
   },
   {
    "duration": 65,
    "start_time": "2022-03-16T14:53:35.306Z"
   },
   {
    "duration": 45,
    "start_time": "2022-03-16T14:53:35.970Z"
   },
   {
    "duration": 9,
    "start_time": "2022-03-16T14:53:36.850Z"
   },
   {
    "duration": 7,
    "start_time": "2022-03-16T14:53:38.095Z"
   },
   {
    "duration": 6,
    "start_time": "2022-03-16T14:53:38.915Z"
   },
   {
    "duration": 7,
    "start_time": "2022-03-16T14:53:40.715Z"
   },
   {
    "duration": 264,
    "start_time": "2022-03-16T14:53:43.215Z"
   },
   {
    "duration": 412,
    "start_time": "2022-03-16T14:54:46.254Z"
   },
   {
    "duration": 426,
    "start_time": "2022-03-16T14:55:06.301Z"
   },
   {
    "duration": 465,
    "start_time": "2022-03-16T14:55:14.534Z"
   },
   {
    "duration": 467,
    "start_time": "2022-03-16T14:55:29.140Z"
   },
   {
    "duration": 326,
    "start_time": "2022-03-16T14:55:43.074Z"
   },
   {
    "duration": 335,
    "start_time": "2022-03-16T14:56:42.227Z"
   },
   {
    "duration": 799,
    "start_time": "2022-03-16T14:57:42.119Z"
   },
   {
    "duration": 15,
    "start_time": "2022-03-16T14:57:42.920Z"
   },
   {
    "duration": 94,
    "start_time": "2022-03-16T14:57:42.939Z"
   },
   {
    "duration": 67,
    "start_time": "2022-03-16T14:57:43.035Z"
   },
   {
    "duration": 79,
    "start_time": "2022-03-16T14:57:43.104Z"
   },
   {
    "duration": 10,
    "start_time": "2022-03-16T14:57:43.185Z"
   },
   {
    "duration": 9,
    "start_time": "2022-03-16T14:57:43.198Z"
   },
   {
    "duration": 24,
    "start_time": "2022-03-16T14:57:43.209Z"
   },
   {
    "duration": 8,
    "start_time": "2022-03-16T14:57:43.235Z"
   },
   {
    "duration": 6478,
    "start_time": "2022-03-16T14:57:43.245Z"
   },
   {
    "duration": 47,
    "start_time": "2022-03-16T14:58:57.448Z"
   },
   {
    "duration": 666,
    "start_time": "2022-03-16T14:59:10.935Z"
   },
   {
    "duration": 6,
    "start_time": "2022-03-16T14:59:11.603Z"
   },
   {
    "duration": 83,
    "start_time": "2022-03-16T14:59:11.611Z"
   },
   {
    "duration": 69,
    "start_time": "2022-03-16T14:59:11.695Z"
   },
   {
    "duration": 48,
    "start_time": "2022-03-16T14:59:11.765Z"
   },
   {
    "duration": 26,
    "start_time": "2022-03-16T14:59:11.814Z"
   },
   {
    "duration": 16,
    "start_time": "2022-03-16T14:59:11.841Z"
   },
   {
    "duration": 5,
    "start_time": "2022-03-16T14:59:11.860Z"
   },
   {
    "duration": 10,
    "start_time": "2022-03-16T14:59:11.866Z"
   },
   {
    "duration": 5793,
    "start_time": "2022-03-16T14:59:11.878Z"
   },
   {
    "duration": 629,
    "start_time": "2022-03-16T15:01:21.163Z"
   },
   {
    "duration": 6,
    "start_time": "2022-03-16T15:01:21.794Z"
   },
   {
    "duration": 99,
    "start_time": "2022-03-16T15:01:21.802Z"
   },
   {
    "duration": 71,
    "start_time": "2022-03-16T15:01:21.903Z"
   },
   {
    "duration": 61,
    "start_time": "2022-03-16T15:01:21.976Z"
   },
   {
    "duration": 9,
    "start_time": "2022-03-16T15:01:22.039Z"
   },
   {
    "duration": 10,
    "start_time": "2022-03-16T15:01:22.050Z"
   },
   {
    "duration": 6,
    "start_time": "2022-03-16T15:01:22.062Z"
   },
   {
    "duration": 8,
    "start_time": "2022-03-16T15:01:22.070Z"
   },
   {
    "duration": 5802,
    "start_time": "2022-03-16T15:01:22.080Z"
   },
   {
    "duration": 637,
    "start_time": "2022-03-16T15:11:38.591Z"
   },
   {
    "duration": 9,
    "start_time": "2022-03-16T15:11:39.233Z"
   },
   {
    "duration": 66,
    "start_time": "2022-03-16T15:11:39.244Z"
   },
   {
    "duration": 81,
    "start_time": "2022-03-16T15:11:39.312Z"
   },
   {
    "duration": 77,
    "start_time": "2022-03-16T15:11:39.395Z"
   },
   {
    "duration": 9,
    "start_time": "2022-03-16T15:11:39.474Z"
   },
   {
    "duration": 8,
    "start_time": "2022-03-16T15:11:39.485Z"
   },
   {
    "duration": 8,
    "start_time": "2022-03-16T15:11:39.495Z"
   },
   {
    "duration": 33,
    "start_time": "2022-03-16T15:11:39.504Z"
   },
   {
    "duration": 28,
    "start_time": "2022-03-16T15:11:39.540Z"
   },
   {
    "duration": 36,
    "start_time": "2022-03-16T15:37:05.866Z"
   },
   {
    "duration": 1213,
    "start_time": "2022-03-16T15:42:35.626Z"
   },
   {
    "duration": 8,
    "start_time": "2022-03-16T15:45:31.192Z"
   },
   {
    "duration": 5,
    "start_time": "2022-03-16T15:46:08.363Z"
   },
   {
    "duration": 3085,
    "start_time": "2022-03-16T16:06:30.139Z"
   },
   {
    "duration": 132,
    "start_time": "2022-03-16T16:07:56.015Z"
   },
   {
    "duration": 141,
    "start_time": "2022-03-16T16:10:08.310Z"
   },
   {
    "duration": 155,
    "start_time": "2022-03-16T16:13:46.984Z"
   },
   {
    "duration": 3833,
    "start_time": "2022-03-16T16:15:01.864Z"
   },
   {
    "duration": 134,
    "start_time": "2022-03-16T16:16:33.463Z"
   },
   {
    "duration": 50,
    "start_time": "2022-03-16T16:21:03.042Z"
   },
   {
    "duration": 3220,
    "start_time": "2022-03-16T16:21:09.747Z"
   },
   {
    "duration": 3144,
    "start_time": "2022-03-16T16:21:20.652Z"
   },
   {
    "duration": 55,
    "start_time": "2022-03-16T16:21:30.129Z"
   },
   {
    "duration": 693,
    "start_time": "2022-03-16T16:21:58.927Z"
   },
   {
    "duration": 18,
    "start_time": "2022-03-16T16:21:59.622Z"
   },
   {
    "duration": 79,
    "start_time": "2022-03-16T16:21:59.643Z"
   },
   {
    "duration": 68,
    "start_time": "2022-03-16T16:21:59.723Z"
   },
   {
    "duration": 75,
    "start_time": "2022-03-16T16:21:59.793Z"
   },
   {
    "duration": 12,
    "start_time": "2022-03-16T16:21:59.870Z"
   },
   {
    "duration": 6,
    "start_time": "2022-03-16T16:21:59.884Z"
   },
   {
    "duration": 8,
    "start_time": "2022-03-16T16:21:59.892Z"
   },
   {
    "duration": 36,
    "start_time": "2022-03-16T16:21:59.901Z"
   },
   {
    "duration": 19,
    "start_time": "2022-03-16T16:21:59.939Z"
   },
   {
    "duration": 9,
    "start_time": "2022-03-16T16:21:59.960Z"
   },
   {
    "duration": 239,
    "start_time": "2022-03-16T16:21:59.971Z"
   },
   {
    "duration": 790,
    "start_time": "2022-03-28T17:25:37.398Z"
   },
   {
    "duration": 10,
    "start_time": "2022-03-28T17:25:38.193Z"
   },
   {
    "duration": 180,
    "start_time": "2022-03-28T17:25:38.205Z"
   },
   {
    "duration": 65,
    "start_time": "2022-03-28T17:25:38.387Z"
   },
   {
    "duration": 69,
    "start_time": "2022-03-28T17:25:38.455Z"
   },
   {
    "duration": 16,
    "start_time": "2022-03-28T17:25:38.526Z"
   },
   {
    "duration": 12,
    "start_time": "2022-03-28T17:25:38.544Z"
   },
   {
    "duration": 41,
    "start_time": "2022-03-28T17:25:38.558Z"
   },
   {
    "duration": 9,
    "start_time": "2022-03-28T17:25:38.601Z"
   },
   {
    "duration": 26,
    "start_time": "2022-03-28T17:25:38.612Z"
   },
   {
    "duration": 5,
    "start_time": "2022-03-28T17:25:38.640Z"
   },
   {
    "duration": 132,
    "start_time": "2022-03-28T17:25:38.647Z"
   },
   {
    "duration": 25,
    "start_time": "2022-03-28T17:26:21.834Z"
   },
   {
    "duration": 2456,
    "start_time": "2022-03-28T17:27:26.128Z"
   },
   {
    "duration": 43,
    "start_time": "2022-03-28T17:28:15.825Z"
   },
   {
    "duration": 55,
    "start_time": "2022-03-28T17:31:42.656Z"
   },
   {
    "duration": 170,
    "start_time": "2022-03-28T17:32:22.001Z"
   },
   {
    "duration": 9,
    "start_time": "2022-03-28T17:32:22.779Z"
   },
   {
    "duration": 123,
    "start_time": "2022-03-28T17:32:23.551Z"
   },
   {
    "duration": 60,
    "start_time": "2022-03-28T17:32:25.716Z"
   },
   {
    "duration": 50,
    "start_time": "2022-03-28T17:32:29.053Z"
   },
   {
    "duration": 48,
    "start_time": "2022-03-28T17:33:28.189Z"
   },
   {
    "duration": 157,
    "start_time": "2022-03-28T17:33:35.873Z"
   },
   {
    "duration": 8,
    "start_time": "2022-03-28T17:33:36.592Z"
   },
   {
    "duration": 117,
    "start_time": "2022-03-28T17:33:37.326Z"
   },
   {
    "duration": 60,
    "start_time": "2022-03-28T17:33:38.369Z"
   },
   {
    "duration": 48,
    "start_time": "2022-03-28T17:33:40.796Z"
   },
   {
    "duration": 15,
    "start_time": "2022-03-28T17:33:55.542Z"
   },
   {
    "duration": 9,
    "start_time": "2022-03-28T17:34:49.061Z"
   },
   {
    "duration": 7,
    "start_time": "2022-03-28T17:34:52.640Z"
   },
   {
    "duration": 10,
    "start_time": "2022-03-28T17:34:54.802Z"
   },
   {
    "duration": 22,
    "start_time": "2022-03-28T17:34:58.838Z"
   },
   {
    "duration": 6,
    "start_time": "2022-03-28T17:35:05.876Z"
   },
   {
    "duration": 46,
    "start_time": "2022-03-28T17:35:10.714Z"
   },
   {
    "duration": 6,
    "start_time": "2022-03-28T17:36:16.107Z"
   },
   {
    "duration": 12,
    "start_time": "2022-03-28T17:36:35.176Z"
   },
   {
    "duration": 12,
    "start_time": "2022-03-28T17:36:42.436Z"
   },
   {
    "duration": 976,
    "start_time": "2022-03-28T17:37:17.821Z"
   },
   {
    "duration": 10,
    "start_time": "2022-03-28T17:37:18.800Z"
   },
   {
    "duration": 189,
    "start_time": "2022-03-28T17:37:18.813Z"
   },
   {
    "duration": 82,
    "start_time": "2022-03-28T17:37:19.005Z"
   },
   {
    "duration": 51,
    "start_time": "2022-03-28T17:37:19.090Z"
   },
   {
    "duration": 41,
    "start_time": "2022-03-28T17:37:19.144Z"
   },
   {
    "duration": 10,
    "start_time": "2022-03-28T17:37:19.188Z"
   },
   {
    "duration": 19,
    "start_time": "2022-03-28T17:37:19.201Z"
   },
   {
    "duration": 21,
    "start_time": "2022-03-28T17:37:19.222Z"
   },
   {
    "duration": 57,
    "start_time": "2022-03-28T17:37:19.246Z"
   },
   {
    "duration": 9,
    "start_time": "2022-03-28T17:37:19.305Z"
   },
   {
    "duration": 22,
    "start_time": "2022-03-28T17:37:19.317Z"
   },
   {
    "duration": 952,
    "start_time": "2022-03-28T17:38:53.907Z"
   },
   {
    "duration": 21,
    "start_time": "2022-03-28T17:38:54.863Z"
   },
   {
    "duration": 267,
    "start_time": "2022-03-28T17:38:54.887Z"
   },
   {
    "duration": 77,
    "start_time": "2022-03-28T17:38:55.158Z"
   },
   {
    "duration": 66,
    "start_time": "2022-03-28T17:38:55.237Z"
   },
   {
    "duration": 15,
    "start_time": "2022-03-28T17:38:55.305Z"
   },
   {
    "duration": 12,
    "start_time": "2022-03-28T17:38:55.322Z"
   },
   {
    "duration": 48,
    "start_time": "2022-03-28T17:38:55.337Z"
   },
   {
    "duration": 11,
    "start_time": "2022-03-28T17:38:55.388Z"
   },
   {
    "duration": 29,
    "start_time": "2022-03-28T17:38:55.404Z"
   },
   {
    "duration": 47,
    "start_time": "2022-03-28T17:38:55.436Z"
   },
   {
    "duration": 20,
    "start_time": "2022-03-28T17:38:55.486Z"
   },
   {
    "duration": 829,
    "start_time": "2022-03-28T17:40:23.564Z"
   },
   {
    "duration": 9,
    "start_time": "2022-03-28T17:40:24.396Z"
   },
   {
    "duration": 295,
    "start_time": "2022-03-28T17:40:24.407Z"
   },
   {
    "duration": 61,
    "start_time": "2022-03-28T17:40:24.705Z"
   },
   {
    "duration": 51,
    "start_time": "2022-03-28T17:40:24.785Z"
   },
   {
    "duration": 16,
    "start_time": "2022-03-28T17:40:24.839Z"
   },
   {
    "duration": 8,
    "start_time": "2022-03-28T17:40:24.884Z"
   },
   {
    "duration": 33,
    "start_time": "2022-03-28T17:40:24.895Z"
   },
   {
    "duration": 42,
    "start_time": "2022-03-28T17:40:24.930Z"
   },
   {
    "duration": 76,
    "start_time": "2022-03-28T17:40:24.975Z"
   },
   {
    "duration": 22,
    "start_time": "2022-03-28T17:40:25.054Z"
   },
   {
    "duration": 59,
    "start_time": "2022-03-28T17:40:25.078Z"
   },
   {
    "duration": 934,
    "start_time": "2022-03-28T17:41:48.828Z"
   },
   {
    "duration": 18,
    "start_time": "2022-03-28T17:41:49.765Z"
   },
   {
    "duration": 178,
    "start_time": "2022-03-28T17:41:49.786Z"
   },
   {
    "duration": 73,
    "start_time": "2022-03-28T17:41:49.967Z"
   },
   {
    "duration": 69,
    "start_time": "2022-03-28T17:41:50.042Z"
   },
   {
    "duration": 13,
    "start_time": "2022-03-28T17:41:50.113Z"
   },
   {
    "duration": 24,
    "start_time": "2022-03-28T17:41:50.128Z"
   },
   {
    "duration": 18,
    "start_time": "2022-03-28T17:41:50.154Z"
   },
   {
    "duration": 10,
    "start_time": "2022-03-28T17:41:50.185Z"
   },
   {
    "duration": 26,
    "start_time": "2022-03-28T17:41:50.200Z"
   },
   {
    "duration": 6,
    "start_time": "2022-03-28T17:41:50.229Z"
   },
   {
    "duration": 55,
    "start_time": "2022-03-28T17:41:50.237Z"
   },
   {
    "duration": 65,
    "start_time": "2022-03-28T17:42:55.892Z"
   },
   {
    "duration": 6,
    "start_time": "2022-03-28T17:45:36.502Z"
   },
   {
    "duration": 6,
    "start_time": "2022-03-28T17:57:53.899Z"
   },
   {
    "duration": 885,
    "start_time": "2022-03-28T17:58:09.463Z"
   },
   {
    "duration": 9,
    "start_time": "2022-03-28T17:58:10.351Z"
   },
   {
    "duration": 225,
    "start_time": "2022-03-28T17:58:10.363Z"
   },
   {
    "duration": 62,
    "start_time": "2022-03-28T17:58:10.594Z"
   },
   {
    "duration": 70,
    "start_time": "2022-03-28T17:58:10.658Z"
   },
   {
    "duration": 19,
    "start_time": "2022-03-28T17:58:10.731Z"
   },
   {
    "duration": 40,
    "start_time": "2022-03-28T17:58:10.753Z"
   },
   {
    "duration": 18,
    "start_time": "2022-03-28T17:58:10.796Z"
   },
   {
    "duration": 12,
    "start_time": "2022-03-28T17:58:10.817Z"
   },
   {
    "duration": 53,
    "start_time": "2022-03-28T17:58:10.832Z"
   },
   {
    "duration": 14,
    "start_time": "2022-03-28T17:58:10.887Z"
   },
   {
    "duration": 14,
    "start_time": "2022-03-28T17:58:10.907Z"
   },
   {
    "duration": 88,
    "start_time": "2022-03-28T17:58:10.924Z"
   },
   {
    "duration": 38,
    "start_time": "2022-03-28T17:59:02.318Z"
   },
   {
    "duration": 67,
    "start_time": "2022-03-28T18:15:29.560Z"
   },
   {
    "duration": 151,
    "start_time": "2022-03-28T18:24:28.790Z"
   },
   {
    "duration": 102,
    "start_time": "2022-03-28T18:24:47.364Z"
   },
   {
    "duration": 46,
    "start_time": "2022-03-28T18:27:05.725Z"
   },
   {
    "duration": 72,
    "start_time": "2022-03-28T18:44:32.740Z"
   },
   {
    "duration": 830,
    "start_time": "2022-03-28T18:44:42.157Z"
   },
   {
    "duration": 8,
    "start_time": "2022-03-28T18:44:42.990Z"
   },
   {
    "duration": 179,
    "start_time": "2022-03-28T18:44:43.001Z"
   },
   {
    "duration": 59,
    "start_time": "2022-03-28T18:44:43.184Z"
   },
   {
    "duration": 71,
    "start_time": "2022-03-28T18:44:43.245Z"
   },
   {
    "duration": 13,
    "start_time": "2022-03-28T18:44:43.318Z"
   },
   {
    "duration": 31,
    "start_time": "2022-03-28T18:44:43.333Z"
   },
   {
    "duration": 22,
    "start_time": "2022-03-28T18:44:43.366Z"
   },
   {
    "duration": 26,
    "start_time": "2022-03-28T18:44:43.390Z"
   },
   {
    "duration": 23,
    "start_time": "2022-03-28T18:44:43.420Z"
   },
   {
    "duration": 8,
    "start_time": "2022-03-28T18:44:43.445Z"
   },
   {
    "duration": 6,
    "start_time": "2022-03-28T18:44:43.474Z"
   },
   {
    "duration": 51,
    "start_time": "2022-03-28T18:44:43.482Z"
   },
   {
    "duration": 51,
    "start_time": "2022-03-28T18:44:43.536Z"
   },
   {
    "duration": 132,
    "start_time": "2022-03-28T18:44:43.589Z"
   },
   {
    "duration": 1134,
    "start_time": "2022-04-12T11:51:50.820Z"
   },
   {
    "duration": 8,
    "start_time": "2022-04-12T11:51:52.572Z"
   },
   {
    "duration": 89,
    "start_time": "2022-04-12T11:51:53.753Z"
   },
   {
    "duration": 48,
    "start_time": "2022-04-12T11:51:54.591Z"
   },
   {
    "duration": 35,
    "start_time": "2022-04-12T11:51:55.374Z"
   },
   {
    "duration": 10,
    "start_time": "2022-04-12T11:51:56.194Z"
   },
   {
    "duration": 7,
    "start_time": "2022-04-12T11:51:57.360Z"
   },
   {
    "duration": 6,
    "start_time": "2022-04-12T11:51:58.624Z"
   },
   {
    "duration": 7,
    "start_time": "2022-04-12T11:52:00.901Z"
   },
   {
    "duration": 21,
    "start_time": "2022-04-12T11:52:02.172Z"
   },
   {
    "duration": 131,
    "start_time": "2022-04-12T11:52:04.921Z"
   },
   {
    "duration": 82,
    "start_time": "2022-04-12T11:52:20.393Z"
   },
   {
    "duration": 25,
    "start_time": "2022-04-12T11:52:48.052Z"
   },
   {
    "duration": 9,
    "start_time": "2022-04-12T11:56:06.902Z"
   },
   {
    "duration": 6,
    "start_time": "2022-04-12T11:56:22.712Z"
   },
   {
    "duration": 912,
    "start_time": "2022-04-12T13:40:00.469Z"
   },
   {
    "duration": 8,
    "start_time": "2022-04-12T13:40:01.383Z"
   },
   {
    "duration": 114,
    "start_time": "2022-04-12T13:40:01.393Z"
   },
   {
    "duration": 62,
    "start_time": "2022-04-12T13:40:01.511Z"
   },
   {
    "duration": 58,
    "start_time": "2022-04-12T13:40:01.575Z"
   },
   {
    "duration": 11,
    "start_time": "2022-04-12T13:40:01.636Z"
   },
   {
    "duration": 17,
    "start_time": "2022-04-12T13:40:01.650Z"
   },
   {
    "duration": 15,
    "start_time": "2022-04-12T13:40:01.670Z"
   },
   {
    "duration": 16,
    "start_time": "2022-04-12T13:40:01.687Z"
   },
   {
    "duration": 40,
    "start_time": "2022-04-12T13:40:01.708Z"
   },
   {
    "duration": 12,
    "start_time": "2022-04-12T13:40:01.750Z"
   },
   {
    "duration": 24,
    "start_time": "2022-04-12T13:40:01.764Z"
   },
   {
    "duration": 150,
    "start_time": "2022-04-12T13:40:01.790Z"
   },
   {
    "duration": 0,
    "start_time": "2022-04-12T13:40:01.943Z"
   },
   {
    "duration": 0,
    "start_time": "2022-04-12T13:40:01.945Z"
   },
   {
    "duration": 0,
    "start_time": "2022-04-12T13:40:01.946Z"
   },
   {
    "duration": 0,
    "start_time": "2022-04-12T13:40:01.947Z"
   },
   {
    "duration": 0,
    "start_time": "2022-04-12T13:40:01.948Z"
   },
   {
    "duration": 0,
    "start_time": "2022-04-12T13:40:01.950Z"
   },
   {
    "duration": 0,
    "start_time": "2022-04-12T13:40:01.951Z"
   },
   {
    "duration": 0,
    "start_time": "2022-04-12T13:40:01.952Z"
   },
   {
    "duration": 0,
    "start_time": "2022-04-12T13:40:01.953Z"
   },
   {
    "duration": 0,
    "start_time": "2022-04-12T13:40:01.954Z"
   },
   {
    "duration": 0,
    "start_time": "2022-04-12T13:40:01.955Z"
   },
   {
    "duration": 0,
    "start_time": "2022-04-12T13:40:01.956Z"
   },
   {
    "duration": 0,
    "start_time": "2022-04-12T13:40:01.957Z"
   },
   {
    "duration": 0,
    "start_time": "2022-04-12T13:40:01.958Z"
   },
   {
    "duration": 0,
    "start_time": "2022-04-12T13:40:01.959Z"
   },
   {
    "duration": 0,
    "start_time": "2022-04-12T13:40:01.960Z"
   },
   {
    "duration": 0,
    "start_time": "2022-04-12T13:40:01.961Z"
   },
   {
    "duration": 0,
    "start_time": "2022-04-12T13:40:01.962Z"
   },
   {
    "duration": 0,
    "start_time": "2022-04-12T13:40:01.963Z"
   },
   {
    "duration": 0,
    "start_time": "2022-04-12T13:40:01.964Z"
   },
   {
    "duration": 0,
    "start_time": "2022-04-12T13:40:01.966Z"
   },
   {
    "duration": 8,
    "start_time": "2022-04-12T13:42:01.429Z"
   },
   {
    "duration": 8,
    "start_time": "2022-04-12T13:44:30.460Z"
   },
   {
    "duration": 895,
    "start_time": "2022-04-12T13:44:34.867Z"
   },
   {
    "duration": 7,
    "start_time": "2022-04-12T13:44:35.764Z"
   },
   {
    "duration": 106,
    "start_time": "2022-04-12T13:44:35.773Z"
   },
   {
    "duration": 60,
    "start_time": "2022-04-12T13:44:35.881Z"
   },
   {
    "duration": 36,
    "start_time": "2022-04-12T13:44:35.943Z"
   },
   {
    "duration": 11,
    "start_time": "2022-04-12T13:44:35.980Z"
   },
   {
    "duration": 9,
    "start_time": "2022-04-12T13:44:35.992Z"
   },
   {
    "duration": 36,
    "start_time": "2022-04-12T13:44:36.003Z"
   },
   {
    "duration": 9,
    "start_time": "2022-04-12T13:44:36.041Z"
   },
   {
    "duration": 19,
    "start_time": "2022-04-12T13:44:36.053Z"
   },
   {
    "duration": 7,
    "start_time": "2022-04-12T13:44:36.074Z"
   },
   {
    "duration": 5,
    "start_time": "2022-04-12T13:44:36.083Z"
   },
   {
    "duration": 72,
    "start_time": "2022-04-12T13:44:36.089Z"
   },
   {
    "duration": 25,
    "start_time": "2022-04-12T13:44:36.163Z"
   },
   {
    "duration": 56,
    "start_time": "2022-04-12T13:44:36.190Z"
   },
   {
    "duration": 205,
    "start_time": "2022-04-12T13:44:36.248Z"
   },
   {
    "duration": 25,
    "start_time": "2022-04-12T13:44:36.455Z"
   },
   {
    "duration": 2319,
    "start_time": "2022-04-12T13:44:36.482Z"
   },
   {
    "duration": 2906,
    "start_time": "2022-04-12T13:44:38.803Z"
   },
   {
    "duration": 183,
    "start_time": "2022-04-12T13:44:41.711Z"
   },
   {
    "duration": 379,
    "start_time": "2022-04-12T13:44:41.896Z"
   },
   {
    "duration": 958,
    "start_time": "2022-04-12T13:44:42.277Z"
   },
   {
    "duration": 173,
    "start_time": "2022-04-12T13:44:43.237Z"
   },
   {
    "duration": 201,
    "start_time": "2022-04-12T13:44:43.412Z"
   },
   {
    "duration": 142,
    "start_time": "2022-04-12T13:44:43.614Z"
   },
   {
    "duration": 40,
    "start_time": "2022-04-12T13:44:43.758Z"
   },
   {
    "duration": 105,
    "start_time": "2022-04-12T13:44:43.800Z"
   },
   {
    "duration": 0,
    "start_time": "2022-04-12T13:44:43.907Z"
   },
   {
    "duration": 0,
    "start_time": "2022-04-12T13:44:43.908Z"
   },
   {
    "duration": 0,
    "start_time": "2022-04-12T13:44:43.909Z"
   },
   {
    "duration": 0,
    "start_time": "2022-04-12T13:44:43.910Z"
   },
   {
    "duration": 0,
    "start_time": "2022-04-12T13:44:43.912Z"
   },
   {
    "duration": 0,
    "start_time": "2022-04-12T13:44:43.913Z"
   },
   {
    "duration": 0,
    "start_time": "2022-04-12T13:44:43.914Z"
   },
   {
    "duration": 14,
    "start_time": "2022-04-12T13:46:14.824Z"
   },
   {
    "duration": 501,
    "start_time": "2022-04-12T13:46:58.897Z"
   },
   {
    "duration": 16,
    "start_time": "2022-04-12T13:49:14.451Z"
   },
   {
    "duration": 1578,
    "start_time": "2022-04-12T13:50:11.795Z"
   },
   {
    "duration": 8,
    "start_time": "2022-04-12T13:50:13.376Z"
   },
   {
    "duration": 111,
    "start_time": "2022-04-12T13:50:13.386Z"
   },
   {
    "duration": 64,
    "start_time": "2022-04-12T13:50:13.500Z"
   },
   {
    "duration": 39,
    "start_time": "2022-04-12T13:50:13.566Z"
   },
   {
    "duration": 37,
    "start_time": "2022-04-12T13:50:13.607Z"
   },
   {
    "duration": 38,
    "start_time": "2022-04-12T13:50:13.645Z"
   },
   {
    "duration": 16,
    "start_time": "2022-04-12T13:50:13.685Z"
   },
   {
    "duration": 24,
    "start_time": "2022-04-12T13:50:13.703Z"
   },
   {
    "duration": 46,
    "start_time": "2022-04-12T13:50:13.731Z"
   },
   {
    "duration": 8,
    "start_time": "2022-04-12T13:50:13.779Z"
   },
   {
    "duration": 10,
    "start_time": "2022-04-12T13:50:13.790Z"
   },
   {
    "duration": 56,
    "start_time": "2022-04-12T13:50:13.802Z"
   },
   {
    "duration": 32,
    "start_time": "2022-04-12T13:50:13.861Z"
   },
   {
    "duration": 54,
    "start_time": "2022-04-12T13:50:13.895Z"
   },
   {
    "duration": 214,
    "start_time": "2022-04-12T13:50:13.951Z"
   },
   {
    "duration": 28,
    "start_time": "2022-04-12T13:50:14.167Z"
   },
   {
    "duration": 2433,
    "start_time": "2022-04-12T13:50:14.197Z"
   },
   {
    "duration": 3360,
    "start_time": "2022-04-12T13:50:16.632Z"
   },
   {
    "duration": 192,
    "start_time": "2022-04-12T13:50:19.994Z"
   },
   {
    "duration": 421,
    "start_time": "2022-04-12T13:50:20.188Z"
   },
   {
    "duration": 767,
    "start_time": "2022-04-12T13:50:20.611Z"
   },
   {
    "duration": 190,
    "start_time": "2022-04-12T13:50:21.380Z"
   },
   {
    "duration": 215,
    "start_time": "2022-04-12T13:50:21.572Z"
   },
   {
    "duration": 160,
    "start_time": "2022-04-12T13:50:21.790Z"
   },
   {
    "duration": 415,
    "start_time": "2022-04-12T13:50:21.953Z"
   },
   {
    "duration": 137,
    "start_time": "2022-04-12T13:50:22.370Z"
   },
   {
    "duration": 0,
    "start_time": "2022-04-12T13:50:22.509Z"
   },
   {
    "duration": 0,
    "start_time": "2022-04-12T13:50:22.510Z"
   },
   {
    "duration": 0,
    "start_time": "2022-04-12T13:50:22.511Z"
   },
   {
    "duration": 0,
    "start_time": "2022-04-12T13:50:22.512Z"
   },
   {
    "duration": 0,
    "start_time": "2022-04-12T13:50:22.513Z"
   },
   {
    "duration": 0,
    "start_time": "2022-04-12T13:50:22.514Z"
   },
   {
    "duration": 0,
    "start_time": "2022-04-12T13:50:22.516Z"
   },
   {
    "duration": 3164,
    "start_time": "2022-04-12T13:51:15.974Z"
   },
   {
    "duration": 139,
    "start_time": "2022-04-12T13:57:06.725Z"
   },
   {
    "duration": 3185,
    "start_time": "2022-04-12T13:57:15.436Z"
   },
   {
    "duration": 3357,
    "start_time": "2022-04-12T13:57:54.130Z"
   },
   {
    "duration": 3163,
    "start_time": "2022-04-12T14:02:07.864Z"
   },
   {
    "duration": 47,
    "start_time": "2022-04-13T13:03:50.301Z"
   },
   {
    "duration": 1478,
    "start_time": "2022-04-13T13:03:57.363Z"
   },
   {
    "duration": 5,
    "start_time": "2022-04-13T13:03:58.843Z"
   },
   {
    "duration": 86,
    "start_time": "2022-04-13T13:03:58.849Z"
   },
   {
    "duration": 37,
    "start_time": "2022-04-13T13:03:58.937Z"
   },
   {
    "duration": 41,
    "start_time": "2022-04-13T13:03:58.976Z"
   },
   {
    "duration": 9,
    "start_time": "2022-04-13T13:03:59.018Z"
   },
   {
    "duration": 8,
    "start_time": "2022-04-13T13:03:59.028Z"
   },
   {
    "duration": 5,
    "start_time": "2022-04-13T13:03:59.037Z"
   },
   {
    "duration": 9,
    "start_time": "2022-04-13T13:03:59.043Z"
   },
   {
    "duration": 15,
    "start_time": "2022-04-13T13:03:59.054Z"
   },
   {
    "duration": 39,
    "start_time": "2022-04-13T13:03:59.070Z"
   },
   {
    "duration": 5,
    "start_time": "2022-04-13T13:03:59.111Z"
   },
   {
    "duration": 26,
    "start_time": "2022-04-13T13:03:59.117Z"
   },
   {
    "duration": 19,
    "start_time": "2022-04-13T13:03:59.144Z"
   },
   {
    "duration": 55,
    "start_time": "2022-04-13T13:03:59.164Z"
   },
   {
    "duration": 188,
    "start_time": "2022-04-13T13:03:59.220Z"
   },
   {
    "duration": 21,
    "start_time": "2022-04-13T13:03:59.410Z"
   },
   {
    "duration": 1837,
    "start_time": "2022-04-13T13:03:59.432Z"
   },
   {
    "duration": 2550,
    "start_time": "2022-04-13T13:04:01.271Z"
   },
   {
    "duration": 146,
    "start_time": "2022-04-13T13:04:03.823Z"
   },
   {
    "duration": 312,
    "start_time": "2022-04-13T13:04:03.971Z"
   },
   {
    "duration": 638,
    "start_time": "2022-04-13T13:04:04.284Z"
   },
   {
    "duration": 138,
    "start_time": "2022-04-13T13:04:04.924Z"
   },
   {
    "duration": 168,
    "start_time": "2022-04-13T13:04:05.064Z"
   },
   {
    "duration": 115,
    "start_time": "2022-04-13T13:04:05.234Z"
   },
   {
    "duration": 310,
    "start_time": "2022-04-13T13:04:05.350Z"
   },
   {
    "duration": 2894,
    "start_time": "2022-04-13T13:04:05.661Z"
   },
   {
    "duration": 20,
    "start_time": "2022-04-13T13:04:08.558Z"
   },
   {
    "duration": 257,
    "start_time": "2022-04-13T13:04:08.579Z"
   },
   {
    "duration": 517,
    "start_time": "2022-04-13T13:04:08.838Z"
   },
   {
    "duration": 125,
    "start_time": "2022-04-13T13:04:09.357Z"
   },
   {
    "duration": 421,
    "start_time": "2022-04-13T13:04:09.484Z"
   },
   {
    "duration": 282,
    "start_time": "2022-04-13T13:04:09.907Z"
   },
   {
    "duration": 209,
    "start_time": "2022-04-13T13:04:10.191Z"
   },
   {
    "duration": 1400,
    "start_time": "2022-04-13T13:05:10.191Z"
   },
   {
    "duration": 6,
    "start_time": "2022-04-13T13:05:11.602Z"
   },
   {
    "duration": 76,
    "start_time": "2022-04-13T13:05:11.610Z"
   },
   {
    "duration": 50,
    "start_time": "2022-04-13T13:05:11.689Z"
   },
   {
    "duration": 29,
    "start_time": "2022-04-13T13:05:11.740Z"
   },
   {
    "duration": 38,
    "start_time": "2022-04-13T13:05:11.771Z"
   },
   {
    "duration": 11,
    "start_time": "2022-04-13T13:05:11.811Z"
   },
   {
    "duration": 5,
    "start_time": "2022-04-13T13:05:11.824Z"
   },
   {
    "duration": 6,
    "start_time": "2022-04-13T13:05:11.831Z"
   },
   {
    "duration": 15,
    "start_time": "2022-04-13T13:05:11.840Z"
   },
   {
    "duration": 5,
    "start_time": "2022-04-13T13:05:11.856Z"
   },
   {
    "duration": 3,
    "start_time": "2022-04-13T13:05:11.863Z"
   },
   {
    "duration": 59,
    "start_time": "2022-04-13T13:05:11.868Z"
   },
   {
    "duration": 21,
    "start_time": "2022-04-13T13:05:11.929Z"
   },
   {
    "duration": 32,
    "start_time": "2022-04-13T13:05:11.951Z"
   },
   {
    "duration": 185,
    "start_time": "2022-04-13T13:05:12.008Z"
   },
   {
    "duration": 22,
    "start_time": "2022-04-13T13:05:12.195Z"
   },
   {
    "duration": 1818,
    "start_time": "2022-04-13T13:05:12.219Z"
   },
   {
    "duration": 2518,
    "start_time": "2022-04-13T13:05:14.039Z"
   },
   {
    "duration": 146,
    "start_time": "2022-04-13T13:05:16.559Z"
   },
   {
    "duration": 319,
    "start_time": "2022-04-13T13:05:16.707Z"
   },
   {
    "duration": 635,
    "start_time": "2022-04-13T13:05:17.028Z"
   },
   {
    "duration": 156,
    "start_time": "2022-04-13T13:05:17.665Z"
   },
   {
    "duration": 164,
    "start_time": "2022-04-13T13:05:17.823Z"
   },
   {
    "duration": 114,
    "start_time": "2022-04-13T13:05:17.989Z"
   },
   {
    "duration": 303,
    "start_time": "2022-04-13T13:05:18.105Z"
   },
   {
    "duration": 20,
    "start_time": "2022-04-13T13:07:13.663Z"
   },
   {
    "duration": 151,
    "start_time": "2022-04-13T13:07:13.700Z"
   },
   {
    "duration": 555,
    "start_time": "2022-04-13T13:07:13.852Z"
   },
   {
    "duration": 124,
    "start_time": "2022-04-13T13:07:14.409Z"
   },
   {
    "duration": 427,
    "start_time": "2022-04-13T13:07:14.535Z"
   },
   {
    "duration": 200,
    "start_time": "2022-04-13T13:07:14.964Z"
   },
   {
    "duration": 210,
    "start_time": "2022-04-13T13:07:15.166Z"
   },
   {
    "duration": 367,
    "start_time": "2022-04-13T13:07:56.257Z"
   },
   {
    "duration": 45,
    "start_time": "2022-04-13T13:08:46.239Z"
   },
   {
    "duration": 1324,
    "start_time": "2022-04-13T13:08:51.821Z"
   },
   {
    "duration": 6,
    "start_time": "2022-04-13T13:08:53.147Z"
   },
   {
    "duration": 82,
    "start_time": "2022-04-13T13:08:53.154Z"
   },
   {
    "duration": 38,
    "start_time": "2022-04-13T13:08:53.238Z"
   },
   {
    "duration": 51,
    "start_time": "2022-04-13T13:08:53.277Z"
   },
   {
    "duration": 8,
    "start_time": "2022-04-13T13:08:53.330Z"
   },
   {
    "duration": 7,
    "start_time": "2022-04-13T13:08:53.339Z"
   },
   {
    "duration": 6,
    "start_time": "2022-04-13T13:08:53.347Z"
   },
   {
    "duration": 6,
    "start_time": "2022-04-13T13:08:53.355Z"
   },
   {
    "duration": 44,
    "start_time": "2022-04-13T13:08:53.364Z"
   },
   {
    "duration": 7,
    "start_time": "2022-04-13T13:08:53.410Z"
   },
   {
    "duration": 12,
    "start_time": "2022-04-13T13:08:53.418Z"
   },
   {
    "duration": 27,
    "start_time": "2022-04-13T13:08:53.431Z"
   },
   {
    "duration": 18,
    "start_time": "2022-04-13T13:08:53.460Z"
   },
   {
    "duration": 49,
    "start_time": "2022-04-13T13:08:53.479Z"
   },
   {
    "duration": 188,
    "start_time": "2022-04-13T13:08:53.530Z"
   },
   {
    "duration": 19,
    "start_time": "2022-04-13T13:08:53.720Z"
   },
   {
    "duration": 1833,
    "start_time": "2022-04-13T13:08:53.741Z"
   },
   {
    "duration": 2502,
    "start_time": "2022-04-13T13:08:55.576Z"
   },
   {
    "duration": 152,
    "start_time": "2022-04-13T13:08:58.080Z"
   },
   {
    "duration": 326,
    "start_time": "2022-04-13T13:08:58.233Z"
   },
   {
    "duration": 622,
    "start_time": "2022-04-13T13:08:58.561Z"
   },
   {
    "duration": 145,
    "start_time": "2022-04-13T13:08:59.185Z"
   },
   {
    "duration": 157,
    "start_time": "2022-04-13T13:08:59.332Z"
   },
   {
    "duration": 120,
    "start_time": "2022-04-13T13:08:59.491Z"
   },
   {
    "duration": 272,
    "start_time": "2022-04-13T13:08:59.612Z"
   },
   {
    "duration": 26301,
    "start_time": "2022-04-13T13:08:59.885Z"
   },
   {
    "duration": 24,
    "start_time": "2022-04-13T13:09:26.199Z"
   },
   {
    "duration": 153,
    "start_time": "2022-04-13T13:09:26.224Z"
   },
   {
    "duration": 728,
    "start_time": "2022-04-13T13:09:26.379Z"
   },
   {
    "duration": 124,
    "start_time": "2022-04-13T13:09:27.109Z"
   },
   {
    "duration": 424,
    "start_time": "2022-04-13T13:09:27.235Z"
   },
   {
    "duration": 207,
    "start_time": "2022-04-13T13:09:27.660Z"
   },
   {
    "duration": 238,
    "start_time": "2022-04-13T13:09:27.869Z"
   },
   {
    "duration": 2601,
    "start_time": "2022-04-13T13:09:28.696Z"
   },
   {
    "duration": 1678,
    "start_time": "2022-04-14T10:31:20.590Z"
   },
   {
    "duration": 7,
    "start_time": "2022-04-14T10:31:22.271Z"
   },
   {
    "duration": 100,
    "start_time": "2022-04-14T10:31:22.280Z"
   },
   {
    "duration": 61,
    "start_time": "2022-04-14T10:31:22.382Z"
   },
   {
    "duration": 39,
    "start_time": "2022-04-14T10:31:22.445Z"
   },
   {
    "duration": 11,
    "start_time": "2022-04-14T10:31:22.486Z"
   },
   {
    "duration": 8,
    "start_time": "2022-04-14T10:31:22.519Z"
   },
   {
    "duration": 18,
    "start_time": "2022-04-14T10:31:22.529Z"
   },
   {
    "duration": 14,
    "start_time": "2022-04-14T10:31:22.550Z"
   },
   {
    "duration": 50,
    "start_time": "2022-04-14T10:31:22.569Z"
   },
   {
    "duration": 10,
    "start_time": "2022-04-14T10:31:22.622Z"
   },
   {
    "duration": 12,
    "start_time": "2022-04-14T10:31:22.634Z"
   },
   {
    "duration": 42,
    "start_time": "2022-04-14T10:31:22.648Z"
   },
   {
    "duration": 43,
    "start_time": "2022-04-14T10:31:22.692Z"
   },
   {
    "duration": 34,
    "start_time": "2022-04-14T10:31:22.737Z"
   },
   {
    "duration": 227,
    "start_time": "2022-04-14T10:31:22.773Z"
   },
   {
    "duration": 36,
    "start_time": "2022-04-14T10:31:23.002Z"
   },
   {
    "duration": 2106,
    "start_time": "2022-04-14T10:31:23.040Z"
   },
   {
    "duration": 2899,
    "start_time": "2022-04-14T10:31:25.148Z"
   },
   {
    "duration": 170,
    "start_time": "2022-04-14T10:31:28.049Z"
   },
   {
    "duration": 374,
    "start_time": "2022-04-14T10:31:28.220Z"
   },
   {
    "duration": 725,
    "start_time": "2022-04-14T10:31:28.595Z"
   },
   {
    "duration": 168,
    "start_time": "2022-04-14T10:31:29.322Z"
   },
   {
    "duration": 218,
    "start_time": "2022-04-14T10:31:29.491Z"
   },
   {
    "duration": 127,
    "start_time": "2022-04-14T10:31:29.718Z"
   },
   {
    "duration": 401,
    "start_time": "2022-04-14T10:31:29.848Z"
   },
   {
    "duration": 128,
    "start_time": "2022-04-14T10:31:30.251Z"
   },
   {
    "duration": 0,
    "start_time": "2022-04-14T10:31:30.381Z"
   },
   {
    "duration": 0,
    "start_time": "2022-04-14T10:31:30.382Z"
   },
   {
    "duration": 0,
    "start_time": "2022-04-14T10:31:30.384Z"
   },
   {
    "duration": 0,
    "start_time": "2022-04-14T10:31:30.385Z"
   },
   {
    "duration": 0,
    "start_time": "2022-04-14T10:31:30.386Z"
   },
   {
    "duration": 0,
    "start_time": "2022-04-14T10:31:30.387Z"
   },
   {
    "duration": 0,
    "start_time": "2022-04-14T10:31:30.389Z"
   },
   {
    "duration": 15,
    "start_time": "2022-04-14T10:31:46.775Z"
   },
   {
    "duration": 23,
    "start_time": "2022-04-14T10:31:57.699Z"
   },
   {
    "duration": 18,
    "start_time": "2022-04-14T10:32:11.567Z"
   },
   {
    "duration": 142,
    "start_time": "2022-04-14T10:32:32.051Z"
   },
   {
    "duration": 294,
    "start_time": "2022-04-14T10:40:13.692Z"
   },
   {
    "duration": 476,
    "start_time": "2022-04-14T10:50:34.502Z"
   },
   {
    "duration": 315,
    "start_time": "2022-04-14T10:51:33.363Z"
   },
   {
    "duration": 313,
    "start_time": "2022-04-14T10:51:57.016Z"
   },
   {
    "duration": 3359,
    "start_time": "2022-04-14T10:54:55.875Z"
   },
   {
    "duration": 1506,
    "start_time": "2022-04-14T11:02:57.113Z"
   },
   {
    "duration": 6,
    "start_time": "2022-04-14T11:02:58.622Z"
   },
   {
    "duration": 105,
    "start_time": "2022-04-14T11:02:58.630Z"
   },
   {
    "duration": 45,
    "start_time": "2022-04-14T11:02:58.737Z"
   },
   {
    "duration": 59,
    "start_time": "2022-04-14T11:02:58.785Z"
   },
   {
    "duration": 10,
    "start_time": "2022-04-14T11:02:58.846Z"
   },
   {
    "duration": 18,
    "start_time": "2022-04-14T11:02:58.858Z"
   },
   {
    "duration": 15,
    "start_time": "2022-04-14T11:02:58.878Z"
   },
   {
    "duration": 26,
    "start_time": "2022-04-14T11:02:58.895Z"
   },
   {
    "duration": 23,
    "start_time": "2022-04-14T11:02:58.924Z"
   },
   {
    "duration": 8,
    "start_time": "2022-04-14T11:02:58.949Z"
   },
   {
    "duration": 19,
    "start_time": "2022-04-14T11:02:58.959Z"
   },
   {
    "duration": 49,
    "start_time": "2022-04-14T11:02:58.980Z"
   },
   {
    "duration": 24,
    "start_time": "2022-04-14T11:02:59.033Z"
   },
   {
    "duration": 60,
    "start_time": "2022-04-14T11:02:59.059Z"
   },
   {
    "duration": 210,
    "start_time": "2022-04-14T11:02:59.121Z"
   },
   {
    "duration": 25,
    "start_time": "2022-04-14T11:02:59.333Z"
   },
   {
    "duration": 2252,
    "start_time": "2022-04-14T11:02:59.360Z"
   },
   {
    "duration": 3293,
    "start_time": "2022-04-14T11:03:01.618Z"
   },
   {
    "duration": 186,
    "start_time": "2022-04-14T11:03:04.913Z"
   },
   {
    "duration": 461,
    "start_time": "2022-04-14T11:03:05.102Z"
   },
   {
    "duration": 844,
    "start_time": "2022-04-14T11:03:05.565Z"
   },
   {
    "duration": 178,
    "start_time": "2022-04-14T11:03:06.419Z"
   },
   {
    "duration": 199,
    "start_time": "2022-04-14T11:03:06.599Z"
   },
   {
    "duration": 149,
    "start_time": "2022-04-14T11:03:06.800Z"
   },
   {
    "duration": 400,
    "start_time": "2022-04-14T11:03:06.953Z"
   },
   {
    "duration": 3455,
    "start_time": "2022-04-14T11:03:07.354Z"
   },
   {
    "duration": 26,
    "start_time": "2022-04-14T11:03:10.811Z"
   },
   {
    "duration": 200,
    "start_time": "2022-04-14T11:03:10.839Z"
   },
   {
    "duration": 628,
    "start_time": "2022-04-14T11:03:11.042Z"
   },
   {
    "duration": 168,
    "start_time": "2022-04-14T11:03:11.672Z"
   },
   {
    "duration": 715,
    "start_time": "2022-04-14T11:03:11.842Z"
   },
   {
    "duration": 296,
    "start_time": "2022-04-14T11:03:12.559Z"
   },
   {
    "duration": 355,
    "start_time": "2022-04-14T11:03:12.857Z"
   }
  ],
  "kernelspec": {
   "display_name": "Python 3",
   "language": "python",
   "name": "python3"
  },
  "language_info": {
   "codemirror_mode": {
    "name": "ipython",
    "version": 3
   },
   "file_extension": ".py",
   "mimetype": "text/x-python",
   "name": "python",
   "nbconvert_exporter": "python",
   "pygments_lexer": "ipython3",
   "version": "3.8.7"
  },
  "toc": {
   "base_numbering": 1,
   "nav_menu": {},
   "number_sections": true,
   "sideBar": true,
   "skip_h1_title": true,
   "title_cell": "Содержание",
   "title_sidebar": "Contents",
   "toc_cell": true,
   "toc_position": {},
   "toc_section_display": true,
   "toc_window_display": true
  }
 },
 "nbformat": 4,
 "nbformat_minor": 4
}
