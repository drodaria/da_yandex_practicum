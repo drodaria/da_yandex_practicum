{
 "cells": [
  {
   "cell_type": "markdown",
   "metadata": {
    "id": "E0vqbgi9ay0H"
   },
   "source": [
    "<b><font size=5><center>Сравнение музыкальных предпочтений пользователей Яндекс.Музыка в Москве и Санкт-Петербурге</center></font></b>"
   ]
  },
  {
   "cell_type": "markdown",
   "metadata": {},
   "source": [
    "### Суть проекта"
   ]
  },
  {
   "cell_type": "markdown",
   "metadata": {
    "id": "VUC88oWjTJw2"
   },
   "source": [
    "Сравнение Москвы и Петербурга окружено мифами. Например:\n",
    " * Москва — мегаполис, подчинённый жёсткому ритму рабочей недели;\n",
    " * Петербург — культурная столица, со своими вкусами.\n",
    "\n",
    "На данных Яндекс.Музыки вы сравните поведение пользователей двух столиц.\n",
    "\n",
    "**Цель исследования** — проверьте три гипотезы:\n",
    "1. Активность пользователей зависит от дня недели. Причём в Москве и Петербурге это проявляется по-разному.\n",
    "2. В понедельник утром в Москве преобладают одни жанры, а в Петербурге — другие. Так же и вечером пятницы преобладают разные жанры — в зависимости от города. \n",
    "3. Москва и Петербург предпочитают разные жанры музыки. В Москве чаще слушают поп-музыку, в Петербурге — русский рэп.\n",
    "\n",
    "\n",
    " \n",
    "Исследование пройдёт в три этапа:\n",
    " 1. Обзор данных.\n",
    " 2. Предобработка данных.\n",
    " 3. Проверка гипотез.\n",
    "\n"
   ]
  },
  {
   "cell_type": "markdown",
   "metadata": {},
   "source": [
    "### Описание данных"
   ]
  },
  {
   "cell_type": "markdown",
   "metadata": {},
   "source": [
    "- `userID` — идентификатор пользователя;\n",
    "- `Track` — название трека;\n",
    "- `artist` — имя исполнителя;\n",
    "- `genre` — название жанра;\n",
    "- `City` — город пользователя;\n",
    "- `time` — время начала прослушивания;\n",
    "- `Day` — день недели."
   ]
  },
  {
   "cell_type": "markdown",
   "metadata": {
    "id": "Ml1hmfXC_Zcs"
   },
   "source": [
    "### Обзор данных"
   ]
  },
  {
   "cell_type": "code",
   "execution_count": 1,
   "metadata": {
    "id": "AXN7PHPN_Zcs"
   },
   "outputs": [],
   "source": [
    "# импорт библиотеки pandas\n",
    "import pandas as pd"
   ]
  },
  {
   "cell_type": "code",
   "execution_count": 2,
   "metadata": {
    "id": "fFVu7vqh_Zct"
   },
   "outputs": [],
   "source": [
    "# чтение файла с данными и сохранение в df\n",
    "df = pd.read_csv(r\"C:\\Users\\mi\\Downloads\\yandex_music_project.csv\")"
   ]
  },
  {
   "cell_type": "code",
   "execution_count": 3,
   "metadata": {
    "id": "oWTVX3gW_Zct"
   },
   "outputs": [
    {
     "data": {
      "text/html": [
       "<div>\n",
       "<style scoped>\n",
       "    .dataframe tbody tr th:only-of-type {\n",
       "        vertical-align: middle;\n",
       "    }\n",
       "\n",
       "    .dataframe tbody tr th {\n",
       "        vertical-align: top;\n",
       "    }\n",
       "\n",
       "    .dataframe thead th {\n",
       "        text-align: right;\n",
       "    }\n",
       "</style>\n",
       "<table border=\"1\" class=\"dataframe\">\n",
       "  <thead>\n",
       "    <tr style=\"text-align: right;\">\n",
       "      <th></th>\n",
       "      <th>userID</th>\n",
       "      <th>Track</th>\n",
       "      <th>artist</th>\n",
       "      <th>genre</th>\n",
       "      <th>City</th>\n",
       "      <th>time</th>\n",
       "      <th>Day</th>\n",
       "    </tr>\n",
       "  </thead>\n",
       "  <tbody>\n",
       "    <tr>\n",
       "      <th>0</th>\n",
       "      <td>FFB692EC</td>\n",
       "      <td>Kamigata To Boots</td>\n",
       "      <td>The Mass Missile</td>\n",
       "      <td>rock</td>\n",
       "      <td>Saint-Petersburg</td>\n",
       "      <td>20:28:33</td>\n",
       "      <td>Wednesday</td>\n",
       "    </tr>\n",
       "    <tr>\n",
       "      <th>1</th>\n",
       "      <td>55204538</td>\n",
       "      <td>Delayed Because of Accident</td>\n",
       "      <td>Andreas Rönnberg</td>\n",
       "      <td>rock</td>\n",
       "      <td>Moscow</td>\n",
       "      <td>14:07:09</td>\n",
       "      <td>Friday</td>\n",
       "    </tr>\n",
       "    <tr>\n",
       "      <th>2</th>\n",
       "      <td>20EC38</td>\n",
       "      <td>Funiculì funiculà</td>\n",
       "      <td>Mario Lanza</td>\n",
       "      <td>pop</td>\n",
       "      <td>Saint-Petersburg</td>\n",
       "      <td>20:58:07</td>\n",
       "      <td>Wednesday</td>\n",
       "    </tr>\n",
       "    <tr>\n",
       "      <th>3</th>\n",
       "      <td>A3DD03C9</td>\n",
       "      <td>Dragons in the Sunset</td>\n",
       "      <td>Fire + Ice</td>\n",
       "      <td>folk</td>\n",
       "      <td>Saint-Petersburg</td>\n",
       "      <td>08:37:09</td>\n",
       "      <td>Monday</td>\n",
       "    </tr>\n",
       "    <tr>\n",
       "      <th>4</th>\n",
       "      <td>E2DC1FAE</td>\n",
       "      <td>Soul People</td>\n",
       "      <td>Space Echo</td>\n",
       "      <td>dance</td>\n",
       "      <td>Moscow</td>\n",
       "      <td>08:34:34</td>\n",
       "      <td>Monday</td>\n",
       "    </tr>\n",
       "    <tr>\n",
       "      <th>5</th>\n",
       "      <td>842029A1</td>\n",
       "      <td>Преданная</td>\n",
       "      <td>IMPERVTOR</td>\n",
       "      <td>rusrap</td>\n",
       "      <td>Saint-Petersburg</td>\n",
       "      <td>13:09:41</td>\n",
       "      <td>Friday</td>\n",
       "    </tr>\n",
       "    <tr>\n",
       "      <th>6</th>\n",
       "      <td>4CB90AA5</td>\n",
       "      <td>True</td>\n",
       "      <td>Roman Messer</td>\n",
       "      <td>dance</td>\n",
       "      <td>Moscow</td>\n",
       "      <td>13:00:07</td>\n",
       "      <td>Wednesday</td>\n",
       "    </tr>\n",
       "    <tr>\n",
       "      <th>7</th>\n",
       "      <td>F03E1C1F</td>\n",
       "      <td>Feeling This Way</td>\n",
       "      <td>Polina Griffith</td>\n",
       "      <td>dance</td>\n",
       "      <td>Moscow</td>\n",
       "      <td>20:47:49</td>\n",
       "      <td>Wednesday</td>\n",
       "    </tr>\n",
       "    <tr>\n",
       "      <th>8</th>\n",
       "      <td>8FA1D3BE</td>\n",
       "      <td>И вновь продолжается бой</td>\n",
       "      <td>NaN</td>\n",
       "      <td>ruspop</td>\n",
       "      <td>Moscow</td>\n",
       "      <td>09:17:40</td>\n",
       "      <td>Friday</td>\n",
       "    </tr>\n",
       "    <tr>\n",
       "      <th>9</th>\n",
       "      <td>E772D5C0</td>\n",
       "      <td>Pessimist</td>\n",
       "      <td>NaN</td>\n",
       "      <td>dance</td>\n",
       "      <td>Saint-Petersburg</td>\n",
       "      <td>21:20:49</td>\n",
       "      <td>Wednesday</td>\n",
       "    </tr>\n",
       "  </tbody>\n",
       "</table>\n",
       "</div>"
      ],
      "text/plain": [
       "     userID                        Track            artist   genre  \\\n",
       "0  FFB692EC            Kamigata To Boots  The Mass Missile    rock   \n",
       "1  55204538  Delayed Because of Accident  Andreas Rönnberg    rock   \n",
       "2    20EC38            Funiculì funiculà       Mario Lanza     pop   \n",
       "3  A3DD03C9        Dragons in the Sunset        Fire + Ice    folk   \n",
       "4  E2DC1FAE                  Soul People        Space Echo   dance   \n",
       "5  842029A1                    Преданная         IMPERVTOR  rusrap   \n",
       "6  4CB90AA5                         True      Roman Messer   dance   \n",
       "7  F03E1C1F             Feeling This Way   Polina Griffith   dance   \n",
       "8  8FA1D3BE     И вновь продолжается бой               NaN  ruspop   \n",
       "9  E772D5C0                    Pessimist               NaN   dance   \n",
       "\n",
       "             City        time        Day  \n",
       "0  Saint-Petersburg  20:28:33  Wednesday  \n",
       "1            Moscow  14:07:09     Friday  \n",
       "2  Saint-Petersburg  20:58:07  Wednesday  \n",
       "3  Saint-Petersburg  08:37:09     Monday  \n",
       "4            Moscow  08:34:34     Monday  \n",
       "5  Saint-Petersburg  13:09:41     Friday  \n",
       "6            Moscow  13:00:07  Wednesday  \n",
       "7            Moscow  20:47:49  Wednesday  \n",
       "8            Moscow  09:17:40     Friday  \n",
       "9  Saint-Petersburg  21:20:49  Wednesday  "
      ]
     },
     "execution_count": 3,
     "metadata": {},
     "output_type": "execute_result"
    }
   ],
   "source": [
    "# получение первых 10 строк таблицы df\n",
    "df.head(10)"
   ]
  },
  {
   "cell_type": "code",
   "execution_count": 4,
   "metadata": {
    "id": "DSf2kIb-_Zct"
   },
   "outputs": [
    {
     "name": "stdout",
     "output_type": "stream",
     "text": [
      "<class 'pandas.core.frame.DataFrame'>\n",
      "RangeIndex: 65079 entries, 0 to 65078\n",
      "Data columns (total 7 columns):\n",
      " #   Column    Non-Null Count  Dtype \n",
      "---  ------    --------------  ----- \n",
      " 0     userID  65079 non-null  object\n",
      " 1   Track     63848 non-null  object\n",
      " 2   artist    57876 non-null  object\n",
      " 3   genre     63881 non-null  object\n",
      " 4     City    65079 non-null  object\n",
      " 5   time      65079 non-null  object\n",
      " 6   Day       65079 non-null  object\n",
      "dtypes: object(7)\n",
      "memory usage: 3.5+ MB\n"
     ]
    }
   ],
   "source": [
    "# получение общей информации о данных в таблице df\n",
    "df.info()"
   ]
  },
  {
   "cell_type": "markdown",
   "metadata": {
    "id": "TaQ2Iwbr_Zct"
   },
   "source": [
    "Итак, в таблице семь столбцов. Тип данных во всех столбцах — `object`.\n",
    "\n",
    "\n",
    "В названиях колонок видны три нарушения стиля:\n",
    "1. Строчные буквы сочетаются с прописными.\n",
    "2. Встречаются пробелы.\n",
    "3. Найдите ещё одну проблему в названии колонок и опишите её в этом пункте.\n",
    "\n",
    "\n",
    "\n",
    "Количество значений в столбцах различается. Значит, в данных есть пропущенные значения.\n"
   ]
  },
  {
   "cell_type": "markdown",
   "metadata": {
    "id": "MCB6-dXG_Zct"
   },
   "source": [
    "**Выводы**\n",
    "\n",
    "В каждой строке таблицы — данные о прослушанном треке. Часть колонок описывает саму композицию: название, исполнителя и жанр. Остальные данные рассказывают о пользователе: из какого он города, когда он слушал музыку. \n",
    "\n",
    "Предварительно можно утверждать, что, данных достаточно для проверки гипотез. Но встречаются пропуски в данных, а в названиях колонок — расхождения с хорошим стилем.\n",
    "\n",
    "Чтобы двигаться дальше, нужно устранить проблемы в данных."
   ]
  },
  {
   "cell_type": "markdown",
   "metadata": {
    "id": "SjYF6Ub9_Zct"
   },
   "source": [
    "### Предобработка данных"
   ]
  },
  {
   "cell_type": "code",
   "execution_count": 5,
   "metadata": {
    "id": "oKOTdF_Q_Zct"
   },
   "outputs": [
    {
     "data": {
      "text/plain": [
       "Index(['  userID', 'Track', 'artist', 'genre', '  City  ', 'time', 'Day'], dtype='object')"
      ]
     },
     "execution_count": 5,
     "metadata": {},
     "output_type": "execute_result"
    }
   ],
   "source": [
    "# перечень названий столбцов таблицы df\n",
    "df.columns"
   ]
  },
  {
   "cell_type": "code",
   "execution_count": 6,
   "metadata": {
    "id": "ISlFqs5y_Zct"
   },
   "outputs": [],
   "source": [
    "# переименование столбцов\n",
    "columns = ['  userID', 'Track', 'artist', 'genre', '  City  ', 'time', 'Day']\n",
    "df = df.rename(columns={'  userID': 'user_id', 'Track': 'track', '  City  ': 'city', 'Day': 'day'})\n"
   ]
  },
  {
   "cell_type": "code",
   "execution_count": 7,
   "metadata": {
    "id": "d4NOAmTW_Zct"
   },
   "outputs": [
    {
     "data": {
      "text/plain": [
       "Index(['user_id', 'track', 'artist', 'genre', 'city', 'time', 'day'], dtype='object')"
      ]
     },
     "execution_count": 7,
     "metadata": {},
     "output_type": "execute_result"
    }
   ],
   "source": [
    "# проверка результатов - перечень названий столбцов\n",
    "df.columns"
   ]
  },
  {
   "cell_type": "markdown",
   "metadata": {
    "id": "5ISfbcfY_Zct"
   },
   "source": [
    "### Пропуски значений\n"
   ]
  },
  {
   "cell_type": "code",
   "execution_count": 8,
   "metadata": {
    "id": "RskX29qr_Zct"
   },
   "outputs": [
    {
     "data": {
      "text/plain": [
       "user_id       0\n",
       "track      1231\n",
       "artist     7203\n",
       "genre      1198\n",
       "city          0\n",
       "time          0\n",
       "day           0\n",
       "dtype: int64"
      ]
     },
     "execution_count": 8,
     "metadata": {},
     "output_type": "execute_result"
    }
   ],
   "source": [
    "# подсчёт пропусков\n",
    "df.isna().sum()"
   ]
  },
  {
   "cell_type": "markdown",
   "metadata": {
    "id": "qubhgnlO_Zct"
   },
   "source": [
    "Не все пропущенные значения влияют на исследование. Так в `track` и `artist` пропуски не важны для вашей работы. Достаточно заменить их явными обозначениями.\n",
    "\n",
    "Но пропуски в `genre` могут помешать сравнению музыкальных вкусов в Москве и Санкт-Петербурге. На практике было бы правильно установить причину пропусков и восстановить данные. Такой возможности нет в учебном проекте. Придётся:\n",
    "* заполнить и эти пропуски явными обозначениями,\n",
    "* оценить, насколько они повредят расчётам. "
   ]
  },
  {
   "cell_type": "code",
   "execution_count": 9,
   "metadata": {
    "id": "KplB5qWs_Zct"
   },
   "outputs": [],
   "source": [
    "# перебор названий столбцов в цикле и замена пропущенных значений на 'unknown'\n",
    "columns_to_replace = ['track', 'artist', 'genre']\n",
    "for column in columns_to_replace:\n",
    "    df[column] = df[column].fillna('unknown') "
   ]
  },
  {
   "cell_type": "code",
   "execution_count": 10,
   "metadata": {
    "id": "Tq4nYRX4_Zct"
   },
   "outputs": [
    {
     "data": {
      "text/plain": [
       "user_id    0\n",
       "track      0\n",
       "artist     0\n",
       "genre      0\n",
       "city       0\n",
       "time       0\n",
       "day        0\n",
       "dtype: int64"
      ]
     },
     "execution_count": 10,
     "metadata": {},
     "output_type": "execute_result"
    }
   ],
   "source": [
    "# подсчёт пропусков\n",
    "df.isna().sum()"
   ]
  },
  {
   "cell_type": "markdown",
   "metadata": {
    "id": "BWKRtBJ3_Zct"
   },
   "source": [
    "### Дубликаты"
   ]
  },
  {
   "cell_type": "code",
   "execution_count": 11,
   "metadata": {
    "id": "36eES_S0_Zct"
   },
   "outputs": [
    {
     "data": {
      "text/plain": [
       "3826"
      ]
     },
     "execution_count": 11,
     "metadata": {},
     "output_type": "execute_result"
    }
   ],
   "source": [
    "# подсчёт явных дубликатов\n",
    "df.duplicated().sum()"
   ]
  },
  {
   "cell_type": "code",
   "execution_count": 12,
   "metadata": {
    "id": "exFHq6tt_Zct"
   },
   "outputs": [],
   "source": [
    "# удаление явных дубликатов (с удалением старых индексов и формированием новых)\n",
    "df = df.drop_duplicates().reset_index(drop=True)"
   ]
  },
  {
   "cell_type": "code",
   "execution_count": 13,
   "metadata": {
    "id": "-8PuNWQ0_Zct"
   },
   "outputs": [
    {
     "data": {
      "text/plain": [
       "0"
      ]
     },
     "execution_count": 13,
     "metadata": {},
     "output_type": "execute_result"
    }
   ],
   "source": [
    "# проверка на отсутствие дубликатов\n",
    "df.duplicated().sum()"
   ]
  },
  {
   "cell_type": "markdown",
   "metadata": {
    "id": "QlFBsxAr_Zct"
   },
   "source": [
    "Теперь избавимся от неявных дубликатов в колонке `genre`. Например, название одного и того же жанра может быть записано немного по-разному. Такие ошибки тоже повлияют на результат исследования."
   ]
  },
  {
   "cell_type": "code",
   "execution_count": 14,
   "metadata": {
    "id": "JIUcqzZN_Zct"
   },
   "outputs": [
    {
     "data": {
      "text/plain": [
       "array(['acid', 'acoustic', 'action', 'adult', 'africa', 'afrikaans',\n",
       "       'alternative', 'alternativepunk', 'ambient', 'americana',\n",
       "       'animated', 'anime', 'arabesk', 'arabic', 'arena',\n",
       "       'argentinetango', 'art', 'audiobook', 'author', 'avantgarde',\n",
       "       'axé', 'baile', 'balkan', 'beats', 'bigroom', 'black', 'bluegrass',\n",
       "       'blues', 'bollywood', 'bossa', 'brazilian', 'breakbeat', 'breaks',\n",
       "       'broadway', 'cantautori', 'cantopop', 'canzone', 'caribbean',\n",
       "       'caucasian', 'celtic', 'chamber', 'chanson', 'children', 'chill',\n",
       "       'chinese', 'choral', 'christian', 'christmas', 'classical',\n",
       "       'classicmetal', 'club', 'colombian', 'comedy', 'conjazz',\n",
       "       'contemporary', 'country', 'cuban', 'dance', 'dancehall',\n",
       "       'dancepop', 'dark', 'death', 'deep', 'deutschrock', 'deutschspr',\n",
       "       'dirty', 'disco', 'dnb', 'documentary', 'downbeat', 'downtempo',\n",
       "       'drum', 'dub', 'dubstep', 'eastern', 'easy', 'electronic',\n",
       "       'electropop', 'emo', 'entehno', 'epicmetal', 'estrada', 'ethnic',\n",
       "       'eurofolk', 'european', 'experimental', 'extrememetal', 'fado',\n",
       "       'fairytail', 'film', 'fitness', 'flamenco', 'folk', 'folklore',\n",
       "       'folkmetal', 'folkrock', 'folktronica', 'forró', 'frankreich',\n",
       "       'französisch', 'french', 'funk', 'future', 'gangsta', 'garage',\n",
       "       'german', 'ghazal', 'gitarre', 'glitch', 'gospel', 'gothic',\n",
       "       'grime', 'grunge', 'gypsy', 'handsup', \"hard'n'heavy\", 'hardcore',\n",
       "       'hardstyle', 'hardtechno', 'hip', 'hip-hop', 'hiphop',\n",
       "       'historisch', 'holiday', 'hop', 'horror', 'house', 'hymn', 'idm',\n",
       "       'independent', 'indian', 'indie', 'indipop', 'industrial',\n",
       "       'inspirational', 'instrumental', 'international', 'irish', 'jam',\n",
       "       'japanese', 'jazz', 'jewish', 'jpop', 'jungle', 'k-pop',\n",
       "       'karadeniz', 'karaoke', 'kayokyoku', 'korean', 'laiko', 'latin',\n",
       "       'latino', 'leftfield', 'local', 'lounge', 'loungeelectronic',\n",
       "       'lovers', 'malaysian', 'mandopop', 'marschmusik', 'meditative',\n",
       "       'mediterranean', 'melodic', 'metal', 'metalcore', 'mexican',\n",
       "       'middle', 'minimal', 'miscellaneous', 'modern', 'mood', 'mpb',\n",
       "       'muslim', 'native', 'neoklassik', 'neue', 'new', 'newage',\n",
       "       'newwave', 'nu', 'nujazz', 'numetal', 'oceania', 'old', 'opera',\n",
       "       'orchestral', 'other', 'piano', 'podcasts', 'pop', 'popdance',\n",
       "       'popelectronic', 'popeurodance', 'poprussian', 'post',\n",
       "       'posthardcore', 'postrock', 'power', 'progmetal', 'progressive',\n",
       "       'psychedelic', 'punjabi', 'punk', 'quebecois', 'ragga', 'ram',\n",
       "       'rancheras', 'rap', 'rave', 'reggae', 'reggaeton', 'regional',\n",
       "       'relax', 'religious', 'retro', 'rhythm', 'rnb', 'rnr', 'rock',\n",
       "       'rockabilly', 'rockalternative', 'rockindie', 'rockother',\n",
       "       'romance', 'roots', 'ruspop', 'rusrap', 'rusrock', 'russian',\n",
       "       'salsa', 'samba', 'scenic', 'schlager', 'self', 'sertanejo',\n",
       "       'shanson', 'shoegazing', 'showtunes', 'singer', 'ska', 'skarock',\n",
       "       'slow', 'smooth', 'soft', 'soul', 'soulful', 'sound', 'soundtrack',\n",
       "       'southern', 'specialty', 'speech', 'spiritual', 'sport',\n",
       "       'stonerrock', 'surf', 'swing', 'synthpop', 'synthrock',\n",
       "       'sängerportrait', 'tango', 'tanzorchester', 'taraftar', 'tatar',\n",
       "       'tech', 'techno', 'teen', 'thrash', 'top', 'traditional',\n",
       "       'tradjazz', 'trance', 'tribal', 'trip', 'triphop', 'tropical',\n",
       "       'türk', 'türkçe', 'ukrrock', 'unknown', 'urban', 'uzbek',\n",
       "       'variété', 'vi', 'videogame', 'vocal', 'western', 'world',\n",
       "       'worldbeat', 'ïîï', 'электроника'], dtype=object)"
      ]
     },
     "execution_count": 14,
     "metadata": {},
     "output_type": "execute_result"
    }
   ],
   "source": [
    "# Просмотр уникальных названий жанров\n",
    "genre_column = df['genre'].sort_values() \n",
    "genre_column.unique()"
   ]
  },
  {
   "cell_type": "code",
   "execution_count": 15,
   "metadata": {
    "id": "ErNDkmns_Zct"
   },
   "outputs": [],
   "source": [
    "# Функция для замены неявных дубликатов\n",
    "def replace_wrong_genres(wrong_genres, correct_genre):\n",
    "    for wrong_genre in wrong_genres:\n",
    "        df['genre'] = df['genre'].replace(wrong_genre, correct_genre)"
   ]
  },
  {
   "cell_type": "code",
   "execution_count": 16,
   "metadata": {
    "id": "YN5i2hpmSo09"
   },
   "outputs": [],
   "source": [
    "# Устранение неявных дубликатов\n",
    "wrong_genres = ['hip', 'hop', 'hip-hop']\n",
    "correct_genre = 'hiphop'\n",
    "\n",
    "replace_wrong_genres(wrong_genres, correct_genre)"
   ]
  },
  {
   "cell_type": "code",
   "execution_count": 17,
   "metadata": {
    "id": "wvixALnFG15m"
   },
   "outputs": [
    {
     "data": {
      "text/plain": [
       "array(['acid', 'acoustic', 'action', 'adult', 'africa', 'afrikaans',\n",
       "       'alternative', 'alternativepunk', 'ambient', 'americana',\n",
       "       'animated', 'anime', 'arabesk', 'arabic', 'arena',\n",
       "       'argentinetango', 'art', 'audiobook', 'author', 'avantgarde',\n",
       "       'axé', 'baile', 'balkan', 'beats', 'bigroom', 'black', 'bluegrass',\n",
       "       'blues', 'bollywood', 'bossa', 'brazilian', 'breakbeat', 'breaks',\n",
       "       'broadway', 'cantautori', 'cantopop', 'canzone', 'caribbean',\n",
       "       'caucasian', 'celtic', 'chamber', 'chanson', 'children', 'chill',\n",
       "       'chinese', 'choral', 'christian', 'christmas', 'classical',\n",
       "       'classicmetal', 'club', 'colombian', 'comedy', 'conjazz',\n",
       "       'contemporary', 'country', 'cuban', 'dance', 'dancehall',\n",
       "       'dancepop', 'dark', 'death', 'deep', 'deutschrock', 'deutschspr',\n",
       "       'dirty', 'disco', 'dnb', 'documentary', 'downbeat', 'downtempo',\n",
       "       'drum', 'dub', 'dubstep', 'eastern', 'easy', 'electronic',\n",
       "       'electropop', 'emo', 'entehno', 'epicmetal', 'estrada', 'ethnic',\n",
       "       'eurofolk', 'european', 'experimental', 'extrememetal', 'fado',\n",
       "       'fairytail', 'film', 'fitness', 'flamenco', 'folk', 'folklore',\n",
       "       'folkmetal', 'folkrock', 'folktronica', 'forró', 'frankreich',\n",
       "       'französisch', 'french', 'funk', 'future', 'gangsta', 'garage',\n",
       "       'german', 'ghazal', 'gitarre', 'glitch', 'gospel', 'gothic',\n",
       "       'grime', 'grunge', 'gypsy', 'handsup', \"hard'n'heavy\", 'hardcore',\n",
       "       'hardstyle', 'hardtechno', 'hiphop', 'historisch', 'holiday',\n",
       "       'horror', 'house', 'hymn', 'idm', 'independent', 'indian', 'indie',\n",
       "       'indipop', 'industrial', 'inspirational', 'instrumental',\n",
       "       'international', 'irish', 'jam', 'japanese', 'jazz', 'jewish',\n",
       "       'jpop', 'jungle', 'k-pop', 'karadeniz', 'karaoke', 'kayokyoku',\n",
       "       'korean', 'laiko', 'latin', 'latino', 'leftfield', 'local',\n",
       "       'lounge', 'loungeelectronic', 'lovers', 'malaysian', 'mandopop',\n",
       "       'marschmusik', 'meditative', 'mediterranean', 'melodic', 'metal',\n",
       "       'metalcore', 'mexican', 'middle', 'minimal', 'miscellaneous',\n",
       "       'modern', 'mood', 'mpb', 'muslim', 'native', 'neoklassik', 'neue',\n",
       "       'new', 'newage', 'newwave', 'nu', 'nujazz', 'numetal', 'oceania',\n",
       "       'old', 'opera', 'orchestral', 'other', 'piano', 'podcasts', 'pop',\n",
       "       'popdance', 'popelectronic', 'popeurodance', 'poprussian', 'post',\n",
       "       'posthardcore', 'postrock', 'power', 'progmetal', 'progressive',\n",
       "       'psychedelic', 'punjabi', 'punk', 'quebecois', 'ragga', 'ram',\n",
       "       'rancheras', 'rap', 'rave', 'reggae', 'reggaeton', 'regional',\n",
       "       'relax', 'religious', 'retro', 'rhythm', 'rnb', 'rnr', 'rock',\n",
       "       'rockabilly', 'rockalternative', 'rockindie', 'rockother',\n",
       "       'romance', 'roots', 'ruspop', 'rusrap', 'rusrock', 'russian',\n",
       "       'salsa', 'samba', 'scenic', 'schlager', 'self', 'sertanejo',\n",
       "       'shanson', 'shoegazing', 'showtunes', 'singer', 'ska', 'skarock',\n",
       "       'slow', 'smooth', 'soft', 'soul', 'soulful', 'sound', 'soundtrack',\n",
       "       'southern', 'specialty', 'speech', 'spiritual', 'sport',\n",
       "       'stonerrock', 'surf', 'swing', 'synthpop', 'synthrock',\n",
       "       'sängerportrait', 'tango', 'tanzorchester', 'taraftar', 'tatar',\n",
       "       'tech', 'techno', 'teen', 'thrash', 'top', 'traditional',\n",
       "       'tradjazz', 'trance', 'tribal', 'trip', 'triphop', 'tropical',\n",
       "       'türk', 'türkçe', 'ukrrock', 'unknown', 'urban', 'uzbek',\n",
       "       'variété', 'vi', 'videogame', 'vocal', 'western', 'world',\n",
       "       'worldbeat', 'ïîï', 'электроника'], dtype=object)"
      ]
     },
     "execution_count": 17,
     "metadata": {},
     "output_type": "execute_result"
    }
   ],
   "source": [
    "# Повторная проверка на неявные дубликаты\n",
    "genre_column = df['genre'].sort_values() \n",
    "genre_column.unique()"
   ]
  },
  {
   "cell_type": "markdown",
   "metadata": {
    "id": "jz6a9-7HQUDd"
   },
   "source": [
    "**Выводы**\n",
    "\n",
    "Предобработка обнаружила три проблемы в данных:\n",
    "\n",
    "- нарушения в стиле заголовков,\n",
    "- пропущенные значения,\n",
    "- дубликаты — явные и неявные.\n",
    "\n",
    "Мы исправили заголовки, чтобы упростить работу с таблицей. Без дубликатов исследование станет более точным.\n",
    "\n",
    "Пропущенные значения Мы заменили на `'unknown'`. Ещё предстоит увидеть, не повредят ли исследованию пропуски в колонке `genre`.\n",
    "\n",
    "Теперь можно перейти к проверке гипотез. "
   ]
  },
  {
   "cell_type": "markdown",
   "metadata": {
    "id": "WttZHXH0SqKk"
   },
   "source": [
    "## Проверка гипотез"
   ]
  },
  {
   "cell_type": "markdown",
   "metadata": {
    "id": "Im936VVi_Zcu"
   },
   "source": [
    "### Сравнение поведения пользователей двух столиц"
   ]
  },
  {
   "cell_type": "markdown",
   "metadata": {
    "id": "nwt_MuaL_Zcu"
   },
   "source": [
    "Первая гипотеза утверждает, что пользователи по-разному слушают музыку в Москве и Санкт-Петербурге. Проверим это предположение по данным о трёх днях недели — понедельнике, среде и пятнице. Для этого:\n",
    "\n",
    "* Разделим пользователей Москвы и Санкт-Петербурга\n",
    "* Сравним, сколько треков послушала каждая группа пользователей в понедельник, среду и пятницу.\n"
   ]
  },
  {
   "cell_type": "code",
   "execution_count": 18,
   "metadata": {
    "id": "0_Qs96oh_Zcu"
   },
   "outputs": [
    {
     "name": "stdout",
     "output_type": "stream",
     "text": [
      "city\n",
      "Moscow              42741\n",
      "Saint-Petersburg    18512\n",
      "Name: track, dtype: int64\n"
     ]
    }
   ],
   "source": [
    "# Подсчёт прослушиваний в каждом городе\n",
    "\n",
    "group_bycity = df.groupby('city')['track'].count()\n",
    "print(group_bycity)\n",
    " "
   ]
  },
  {
   "cell_type": "markdown",
   "metadata": {
    "id": "dzli3w8o_Zcu"
   },
   "source": [
    "В Москве прослушиваний больше, чем в Петербурге. Из этого не следует, что московские пользователи чаще слушают музыку. Просто самих пользователей в Москве больше.\n",
    "\n",
    "Теперь сгруппируем данные по дню недели и подсчитайте прослушивания в понедельник, среду и пятницу.\n"
   ]
  },
  {
   "cell_type": "code",
   "execution_count": 19,
   "metadata": {
    "id": "uZMKjiJz_Zcu"
   },
   "outputs": [
    {
     "name": "stdout",
     "output_type": "stream",
     "text": [
      "day\n",
      "Friday       21840\n",
      "Monday       21354\n",
      "Wednesday    18059\n",
      "Name: track, dtype: int64\n"
     ]
    }
   ],
   "source": [
    "# Подсчёт прослушиваний в каждый из трёх дней\n",
    "group_bydays = df.groupby('day')['track'].count()\n",
    "print(group_bydays)"
   ]
  },
  {
   "cell_type": "markdown",
   "metadata": {
    "id": "cC2tNrlL_Zcu"
   },
   "source": [
    "В среднем пользователи из двух городов менее активны по средам. Но картина может измениться, если рассмотреть каждый город в отдельности."
   ]
  },
  {
   "cell_type": "code",
   "execution_count": 20,
   "metadata": {
    "id": "Nz3GdQB1_Zcu"
   },
   "outputs": [],
   "source": [
    "# создание функции для подсчета треков\n",
    "\n",
    "def number_tracks(day, city):\n",
    "    track_list = df[df['day'] == day] \n",
    "    track_list = track_list[track_list['city'] == city]\n",
    "    track_list_count = track_list['user_id'].count()\n",
    "    \n",
    "    return track_list_count\n",
    "    "
   ]
  },
  {
   "cell_type": "code",
   "execution_count": 21,
   "metadata": {
    "id": "rJcRATNQ_Zcu"
   },
   "outputs": [
    {
     "data": {
      "text/plain": [
       "15740"
      ]
     },
     "execution_count": 21,
     "metadata": {},
     "output_type": "execute_result"
    }
   ],
   "source": [
    "# количество прослушиваний в Москве по понедельникам\n",
    "number_tracks('Monday', 'Moscow')"
   ]
  },
  {
   "cell_type": "code",
   "execution_count": 22,
   "metadata": {
    "id": "hq_ncZ5T_Zcu"
   },
   "outputs": [
    {
     "data": {
      "text/plain": [
       "5614"
      ]
     },
     "execution_count": 22,
     "metadata": {},
     "output_type": "execute_result"
    }
   ],
   "source": [
    "# количество прослушиваний в Санкт-Петербурге по понедельникам\n",
    "number_tracks('Monday', 'Saint-Petersburg')"
   ]
  },
  {
   "cell_type": "code",
   "execution_count": 23,
   "metadata": {
    "id": "_NTy2VPU_Zcu"
   },
   "outputs": [
    {
     "data": {
      "text/plain": [
       "11056"
      ]
     },
     "execution_count": 23,
     "metadata": {},
     "output_type": "execute_result"
    }
   ],
   "source": [
    "# количество прослушиваний в Москве по средам\n",
    "number_tracks('Wednesday', 'Moscow')"
   ]
  },
  {
   "cell_type": "code",
   "execution_count": 24,
   "metadata": {
    "id": "j2y3TAwo_Zcu"
   },
   "outputs": [
    {
     "data": {
      "text/plain": [
       "7003"
      ]
     },
     "execution_count": 24,
     "metadata": {},
     "output_type": "execute_result"
    }
   ],
   "source": [
    "# количество прослушиваний в Санкт-Петербурге по средам\n",
    "number_tracks('Wednesday', 'Saint-Petersburg')"
   ]
  },
  {
   "cell_type": "code",
   "execution_count": 25,
   "metadata": {
    "id": "vYDw5u_K_Zcu"
   },
   "outputs": [
    {
     "data": {
      "text/plain": [
       "15945"
      ]
     },
     "execution_count": 25,
     "metadata": {},
     "output_type": "execute_result"
    }
   ],
   "source": [
    "# количество прослушиваний в Москве по пятницам\n",
    "number_tracks('Friday', 'Moscow')"
   ]
  },
  {
   "cell_type": "code",
   "execution_count": 26,
   "metadata": {
    "id": "8_yzFtW3_Zcu"
   },
   "outputs": [
    {
     "data": {
      "text/plain": [
       "5895"
      ]
     },
     "execution_count": 26,
     "metadata": {},
     "output_type": "execute_result"
    }
   ],
   "source": [
    "# количество прослушиваний в Санкт-Петербурге по пятницам\n",
    "number_tracks('Friday', 'Saint-Petersburg')"
   ]
  },
  {
   "cell_type": "markdown",
   "metadata": {
    "id": "7QXffbO-_Zcu"
   },
   "source": [
    "Создайте c помощью конструктора `pd.DataFrame` таблицу, где\n",
    "* названия колонок — `['city', 'monday', 'wednesday', 'friday']`;\n",
    "* данные — результаты, которые вы получили с помощью `number_tracks`."
   ]
  },
  {
   "cell_type": "code",
   "execution_count": 27,
   "metadata": {
    "id": "APAcLpOr_Zcu"
   },
   "outputs": [
    {
     "data": {
      "text/html": [
       "<div>\n",
       "<style scoped>\n",
       "    .dataframe tbody tr th:only-of-type {\n",
       "        vertical-align: middle;\n",
       "    }\n",
       "\n",
       "    .dataframe tbody tr th {\n",
       "        vertical-align: top;\n",
       "    }\n",
       "\n",
       "    .dataframe thead th {\n",
       "        text-align: right;\n",
       "    }\n",
       "</style>\n",
       "<table border=\"1\" class=\"dataframe\">\n",
       "  <thead>\n",
       "    <tr style=\"text-align: right;\">\n",
       "      <th></th>\n",
       "      <th>city</th>\n",
       "      <th>monday</th>\n",
       "      <th>wednesday</th>\n",
       "      <th>friday</th>\n",
       "    </tr>\n",
       "  </thead>\n",
       "  <tbody>\n",
       "    <tr>\n",
       "      <th>0</th>\n",
       "      <td>Moscow</td>\n",
       "      <td>15740</td>\n",
       "      <td>11056</td>\n",
       "      <td>15945</td>\n",
       "    </tr>\n",
       "    <tr>\n",
       "      <th>1</th>\n",
       "      <td>Saint-Petersburg</td>\n",
       "      <td>5614</td>\n",
       "      <td>7003</td>\n",
       "      <td>5895</td>\n",
       "    </tr>\n",
       "  </tbody>\n",
       "</table>\n",
       "</div>"
      ],
      "text/plain": [
       "               city  monday  wednesday  friday\n",
       "0            Moscow   15740      11056   15945\n",
       "1  Saint-Petersburg    5614       7003    5895"
      ]
     },
     "execution_count": 27,
     "metadata": {},
     "output_type": "execute_result"
    }
   ],
   "source": [
    "# Таблица с результатами\n",
    "data = [['Moscow', 15740, 11056, 15945],['Saint-Petersburg', 5614, 7003, 5895]]\n",
    "columns = ['city', 'monday', 'wednesday', 'friday']\n",
    "pd.DataFrame(data=data, columns=columns)"
   ]
  },
  {
   "cell_type": "markdown",
   "metadata": {
    "id": "-EgPIHYu_Zcu"
   },
   "source": [
    "**Выводы**\n",
    "\n",
    "Данные показывают разницу поведения пользователей:\n",
    "\n",
    "- В Москве пик прослушиваний приходится на понедельник и пятницу, а в среду заметен спад.\n",
    "- В Петербурге, наоборот, больше слушают музыку по средам. Активность в понедельник и пятницу здесь почти в равной мере уступает среде.\n",
    "\n",
    "Значит, данные говорят в пользу первой гипотезы."
   ]
  },
  {
   "cell_type": "markdown",
   "metadata": {
    "id": "atZAxtq4_Zcu"
   },
   "source": [
    "### Музыка в начале и в конце недели"
   ]
  },
  {
   "cell_type": "markdown",
   "metadata": {
    "id": "eXrQqXFH_Zcu"
   },
   "source": [
    "Согласно второй гипотезе, утром в понедельник в Москве преобладают одни жанры, а в Петербурге — другие. Так же и вечером пятницы преобладают разные жанры — в зависимости от города."
   ]
  },
  {
   "cell_type": "markdown",
   "metadata": {
    "id": "S8UcW6Hw_Zcu"
   },
   "source": [
    "Сохраним таблицы с данными в две переменные:\n",
    "* по Москве — в `moscow_general`;\n",
    "* по Санкт-Петербургу — в `spb_general`."
   ]
  },
  {
   "cell_type": "code",
   "execution_count": 28,
   "metadata": {
    "id": "qeaFfM_P_Zcu"
   },
   "outputs": [],
   "source": [
    "# получение таблицы moscow_general из тех строк таблицы df, \n",
    "# для которых значение в столбце 'city' равно 'Moscow'\n",
    "moscow_general = df[df['city'] == 'Moscow']"
   ]
  },
  {
   "cell_type": "code",
   "execution_count": 29,
   "metadata": {
    "id": "ORaVRKto_Zcu"
   },
   "outputs": [],
   "source": [
    "# получение таблицы spb_general из тех строк таблицы df,\n",
    "# для которых значение в столбце 'city' равно 'Saint-Petersburg'\n",
    "spb_general = df[df['city'] == 'Saint-Petersburg']"
   ]
  },
  {
   "cell_type": "markdown",
   "metadata": {
    "id": "MEJV-CX2_Zcu"
   },
   "source": [
    "Создадим функцию `genre_weekday()` с четырьмя параметрами:\n",
    "* таблица (датафрейм) с данными,\n",
    "* день недели,\n",
    "* начальная временная метка в формате 'hh:mm', \n",
    "* последняя временная метка в формате 'hh:mm'.\n",
    "\n",
    "Функция должна вернуть информацию о топ-10 жанров тех треков, которые прослушивали в указанный день, в промежутке между двумя отметками времени."
   ]
  },
  {
   "cell_type": "code",
   "execution_count": 30,
   "metadata": {
    "id": "laJT9BYl_Zcu"
   },
   "outputs": [],
   "source": [
    "def genre_weekday(table, day, time1, time2):\n",
    "    genre_df = table[table['day'] == day]\n",
    "    genre_df = genre_df[genre_df['time'] > time1]\n",
    "    genre_df = genre_df[genre_df['time'] < time2]\n",
    "    genre_df_count = genre_df.groupby('genre')['track'].count()\n",
    "    genre_df_sorted = genre_df_count.sort_values(ascending=False)\n",
    "    \n",
    "    return genre_df_sorted.head(10)\n"
   ]
  },
  {
   "cell_type": "markdown",
   "metadata": {
    "id": "la2s2_PF_Zcu"
   },
   "source": [
    "Cравним результаты функции `genre_weekday()` для Москвы и Санкт-Петербурга в понедельник утром (с 7:00 до 11:00) и в пятницу вечером (с 17:00 до 23:00):"
   ]
  },
  {
   "cell_type": "code",
   "execution_count": 31,
   "metadata": {
    "id": "yz7itPUQ_Zcu"
   },
   "outputs": [
    {
     "data": {
      "text/plain": [
       "genre\n",
       "pop            781\n",
       "dance          549\n",
       "electronic     480\n",
       "rock           474\n",
       "hiphop         286\n",
       "ruspop         186\n",
       "world          181\n",
       "rusrap         175\n",
       "alternative    164\n",
       "unknown        161\n",
       "Name: track, dtype: int64"
      ]
     },
     "execution_count": 31,
     "metadata": {},
     "output_type": "execute_result"
    }
   ],
   "source": [
    "# вызов функции для утра понедельника в Москве\n",
    "genre_weekday(moscow_general, 'Monday', '07:00', '11:00')"
   ]
  },
  {
   "cell_type": "code",
   "execution_count": 32,
   "metadata": {
    "id": "kwUcHPdy_Zcu"
   },
   "outputs": [
    {
     "data": {
      "text/plain": [
       "genre\n",
       "pop            218\n",
       "dance          182\n",
       "rock           162\n",
       "electronic     147\n",
       "hiphop          80\n",
       "ruspop          64\n",
       "alternative     58\n",
       "rusrap          55\n",
       "jazz            44\n",
       "classical       40\n",
       "Name: track, dtype: int64"
      ]
     },
     "execution_count": 32,
     "metadata": {},
     "output_type": "execute_result"
    }
   ],
   "source": [
    "# вызов функции для утра понедельника в Петербурге\n",
    "genre_weekday(spb_general, 'Monday', '07:00', '11:00')"
   ]
  },
  {
   "cell_type": "code",
   "execution_count": 33,
   "metadata": {
    "id": "EzXVRE1o_Zcu"
   },
   "outputs": [
    {
     "data": {
      "text/plain": [
       "genre\n",
       "pop            713\n",
       "rock           517\n",
       "dance          495\n",
       "electronic     482\n",
       "hiphop         273\n",
       "world          208\n",
       "ruspop         170\n",
       "alternative    163\n",
       "classical      163\n",
       "rusrap         142\n",
       "Name: track, dtype: int64"
      ]
     },
     "execution_count": 33,
     "metadata": {},
     "output_type": "execute_result"
    }
   ],
   "source": [
    "# вызов функции для вечера пятницы в Москве\n",
    "genre_weekday(moscow_general, 'Friday', '17:00', '23:00')"
   ]
  },
  {
   "cell_type": "code",
   "execution_count": 34,
   "metadata": {
    "id": "JZaEKu5v_Zcu"
   },
   "outputs": [
    {
     "data": {
      "text/plain": [
       "genre\n",
       "pop            256\n",
       "electronic     216\n",
       "rock           216\n",
       "dance          210\n",
       "hiphop          97\n",
       "alternative     63\n",
       "jazz            61\n",
       "classical       60\n",
       "rusrap          59\n",
       "world           54\n",
       "Name: track, dtype: int64"
      ]
     },
     "execution_count": 34,
     "metadata": {},
     "output_type": "execute_result"
    }
   ],
   "source": [
    "# вызов функции для вечера пятницы в Петербурге\n",
    "genre_weekday(spb_general, 'Friday', '17:00', '23:00')"
   ]
  },
  {
   "cell_type": "markdown",
   "metadata": {
    "id": "wrCe4MNX_Zcu"
   },
   "source": [
    "**Выводы**\n",
    "\n",
    "Если сравнить топ-10 жанров в понедельник утром, можно сделать такие выводы:\n",
    "\n",
    "1. В Москве и Петербурге слушают похожую музыку. Единственное отличие — в московский рейтинг вошёл жанр “world”, а в петербургский — джаз и классика.\n",
    "\n",
    "2. В Москве пропущенных значений оказалось так много, что значение `'unknown'` заняло десятое место среди самых популярных жанров. Значит, пропущенные значения занимают существенную долю в данных и угрожают достоверности исследования.\n",
    "\n",
    "Вечер пятницы не меняет эту картину. Некоторые жанры поднимаются немного выше, другие спускаются, но в целом топ-10 остаётся тем же самым.\n",
    "\n",
    "Таким образом, вторая гипотеза подтвердилась лишь частично:\n",
    "* Пользователи слушают похожую музыку в начале недели и в конце.\n",
    "* Разница между Москвой и Петербургом не слишком выражена. В Москве чаще слушают русскую популярную музыку, в Петербурге — джаз.\n",
    "\n",
    "Однако пропуски в данных ставят под сомнение этот результат. В Москве их так много, что рейтинг топ-10 мог бы выглядеть иначе, если бы не утерянные  данные о жанрах."
   ]
  },
  {
   "cell_type": "markdown",
   "metadata": {
    "id": "JolODAqr_Zcu"
   },
   "source": [
    "### Жанровые предпочтения в Москве и Петербурге\n",
    "\n",
    "Гипотеза: Петербург — столица рэпа, музыку этого жанра там слушают чаще, чем в Москве.  А Москва — город контрастов, в котором, тем не менее, преобладает поп-музыка."
   ]
  },
  {
   "cell_type": "markdown",
   "metadata": {
    "id": "DlegSvaT_Zcu"
   },
   "source": [
    "Сгруппируем таблицу `moscow_general` по жанру и посчитаем прослушивания треков каждого жанра методом `count()`. Затем отсортируем результат в порядке убывания и сохраним его в таблице `moscow_genres`."
   ]
  },
  {
   "cell_type": "code",
   "execution_count": 35,
   "metadata": {
    "id": "r19lIPke_Zcu"
   },
   "outputs": [],
   "source": [
    "moscow_genres = moscow_general.groupby('genre')['track'].count().sort_values(ascending=False)"
   ]
  },
  {
   "cell_type": "code",
   "execution_count": 36,
   "metadata": {
    "id": "WhCSooF8_Zcv"
   },
   "outputs": [
    {
     "data": {
      "text/plain": [
       "genre\n",
       "pop            5892\n",
       "dance          4435\n",
       "rock           3965\n",
       "electronic     3786\n",
       "hiphop         2096\n",
       "classical      1616\n",
       "world          1432\n",
       "alternative    1379\n",
       "ruspop         1372\n",
       "rusrap         1161\n",
       "Name: track, dtype: int64"
      ]
     },
     "execution_count": 36,
     "metadata": {},
     "output_type": "execute_result"
    }
   ],
   "source": [
    "# просмотр первых 10 строк moscow_genres\n",
    "moscow_genres.head(10)"
   ]
  },
  {
   "cell_type": "markdown",
   "metadata": {
    "id": "cnPG2vnN_Zcv"
   },
   "source": [
    "Теперь повторим то же и для Петербурга.\n"
   ]
  },
  {
   "cell_type": "code",
   "execution_count": 37,
   "metadata": {
    "id": "gluLIpE7_Zcv"
   },
   "outputs": [],
   "source": [
    "spb_genres = spb_general.groupby('genre')['track'].count().sort_values(ascending=False)"
   ]
  },
  {
   "cell_type": "code",
   "execution_count": 38,
   "metadata": {
    "id": "uaGJHjVU_Zcv"
   },
   "outputs": [
    {
     "data": {
      "text/plain": [
       "genre\n",
       "pop            2431\n",
       "dance          1932\n",
       "rock           1879\n",
       "electronic     1736\n",
       "hiphop          960\n",
       "alternative     649\n",
       "classical       646\n",
       "rusrap          564\n",
       "ruspop          538\n",
       "world           515\n",
       "Name: track, dtype: int64"
      ]
     },
     "execution_count": 38,
     "metadata": {},
     "output_type": "execute_result"
    }
   ],
   "source": [
    "# просмотр первых 10 строк spb_genres\n",
    "spb_genres.head(10)"
   ]
  },
  {
   "cell_type": "markdown",
   "metadata": {
    "id": "RY51YJYu_Zcv"
   },
   "source": [
    "**Выводы**"
   ]
  },
  {
   "cell_type": "markdown",
   "metadata": {
    "id": "nVhnJEm__Zcv"
   },
   "source": [
    "Гипотеза частично подтвердилась:\n",
    "* Поп-музыка — самый популярный жанр в Москве, как и предполагала гипотеза. Более того, в топ-10 жанров встречается близкий жанр — русская популярная музыка.\n",
    "* Вопреки ожиданиям, рэп одинаково популярен в Москве и Петербурге. \n"
   ]
  },
  {
   "cell_type": "markdown",
   "metadata": {
    "id": "ykKQ0N65_Zcv"
   },
   "source": [
    "## Итоги исследования"
   ]
  },
  {
   "cell_type": "markdown",
   "metadata": {
    "id": "tjUwbHb3_Zcv"
   },
   "source": [
    "Мы проверили три гипотезы и установили:\n",
    "\n",
    "1. День недели по-разному влияет на активность пользователей в Москве и Петербурге. \n",
    "\n",
    "Первая гипотеза полностью подтвердилась.\n",
    "\n",
    "2. Музыкальные предпочтения не сильно меняются в течение недели — будь то Москва или Петербург. Небольшие различия заметны в начале недели, по понедельникам:\n",
    "* в Москве слушают музыку жанра “world”,\n",
    "* в Петербурге — джаз и классику.\n",
    "\n",
    "Таким образом, вторая гипотеза подтвердилась лишь отчасти. Этот результат мог оказаться иным, если бы не пропуски в данных.\n",
    "\n",
    "3. Во вкусах пользователей Москвы и Петербурга больше общего чем различий. Вопреки ожиданиям, предпочтения жанров в Петербурге напоминают московские.\n",
    "\n",
    "Третья гипотеза не подтвердилась. Если различия в предпочтениях и существуют, на основной массе пользователей они незаметны.\n"
   ]
  }
 ],
 "metadata": {
  "ExecuteTimeLog": [
   {
    "duration": 363,
    "start_time": "2022-01-30T12:32:00.696Z"
   },
   {
    "duration": 750,
    "start_time": "2022-01-30T12:32:08.745Z"
   },
   {
    "duration": 185,
    "start_time": "2022-01-30T12:32:13.143Z"
   },
   {
    "duration": 26,
    "start_time": "2022-01-30T12:32:16.327Z"
   },
   {
    "duration": 45,
    "start_time": "2022-01-30T12:32:23.060Z"
   },
   {
    "duration": 5,
    "start_time": "2022-01-30T12:33:49.291Z"
   },
   {
    "duration": 27,
    "start_time": "2022-01-30T12:36:22.792Z"
   },
   {
    "duration": 6,
    "start_time": "2022-01-30T12:36:33.585Z"
   },
   {
    "duration": 31,
    "start_time": "2022-01-30T12:38:43.827Z"
   },
   {
    "duration": 23,
    "start_time": "2022-01-30T12:42:53.365Z"
   },
   {
    "duration": 30,
    "start_time": "2022-01-30T12:43:05.578Z"
   },
   {
    "duration": 84,
    "start_time": "2022-01-30T12:43:37.778Z"
   },
   {
    "duration": 102,
    "start_time": "2022-01-30T12:44:18.149Z"
   },
   {
    "duration": 114,
    "start_time": "2022-01-30T12:44:25.385Z"
   },
   {
    "duration": 10,
    "start_time": "2022-01-30T12:45:25.741Z"
   },
   {
    "duration": 383,
    "start_time": "2022-01-30T12:48:25.824Z"
   },
   {
    "duration": 57,
    "start_time": "2022-01-30T12:50:53.061Z"
   },
   {
    "duration": 56,
    "start_time": "2022-01-30T12:51:17.659Z"
   },
   {
    "duration": 63,
    "start_time": "2022-01-30T12:54:49.135Z"
   },
   {
    "duration": 57,
    "start_time": "2022-01-30T12:54:55.621Z"
   },
   {
    "duration": 14,
    "start_time": "2022-01-30T13:00:43.338Z"
   },
   {
    "duration": 4,
    "start_time": "2022-01-30T13:01:13.939Z"
   },
   {
    "duration": 13,
    "start_time": "2022-01-30T13:01:16.645Z"
   },
   {
    "duration": 9,
    "start_time": "2022-01-30T13:01:46.855Z"
   },
   {
    "duration": 4,
    "start_time": "2022-01-30T13:04:11.990Z"
   },
   {
    "duration": 14,
    "start_time": "2022-01-30T13:04:15.027Z"
   },
   {
    "duration": 8,
    "start_time": "2022-01-30T13:04:18.730Z"
   },
   {
    "duration": 8207,
    "start_time": "2022-01-30T13:04:46.735Z"
   },
   {
    "duration": 96,
    "start_time": "2022-01-30T13:05:12.086Z"
   },
   {
    "duration": 106,
    "start_time": "2022-02-01T05:48:00.055Z"
   },
   {
    "duration": 101,
    "start_time": "2022-02-01T05:48:18.090Z"
   },
   {
    "duration": 343,
    "start_time": "2022-02-01T05:48:26.840Z"
   },
   {
    "duration": 223,
    "start_time": "2022-02-01T05:49:40.642Z"
   },
   {
    "duration": 227,
    "start_time": "2022-02-01T05:51:09.998Z"
   },
   {
    "duration": 697,
    "start_time": "2022-02-01T05:51:14.675Z"
   },
   {
    "duration": 181,
    "start_time": "2022-02-01T05:51:16.868Z"
   },
   {
    "duration": 27,
    "start_time": "2022-02-01T05:51:21.474Z"
   },
   {
    "duration": 31,
    "start_time": "2022-02-01T05:51:24.111Z"
   },
   {
    "duration": 5,
    "start_time": "2022-02-01T05:51:27.558Z"
   },
   {
    "duration": 25,
    "start_time": "2022-02-01T05:51:28.425Z"
   },
   {
    "duration": 5,
    "start_time": "2022-02-01T05:51:29.490Z"
   },
   {
    "duration": 30,
    "start_time": "2022-02-01T05:51:31.121Z"
   },
   {
    "duration": 23,
    "start_time": "2022-02-01T05:51:33.041Z"
   },
   {
    "duration": 30,
    "start_time": "2022-02-01T05:51:34.346Z"
   },
   {
    "duration": 82,
    "start_time": "2022-02-01T05:51:36.658Z"
   },
   {
    "duration": 95,
    "start_time": "2022-02-01T05:51:37.927Z"
   },
   {
    "duration": 74,
    "start_time": "2022-02-01T05:51:39.398Z"
   },
   {
    "duration": 57,
    "start_time": "2022-02-01T05:51:42.229Z"
   },
   {
    "duration": 5,
    "start_time": "2022-02-01T05:51:45.831Z"
   },
   {
    "duration": 14,
    "start_time": "2022-02-01T05:51:47.033Z"
   },
   {
    "duration": 54,
    "start_time": "2022-02-01T05:51:48.647Z"
   },
   {
    "duration": 7,
    "start_time": "2022-02-01T05:51:58.866Z"
   },
   {
    "duration": 8,
    "start_time": "2022-02-01T05:52:22.675Z"
   },
   {
    "duration": 6662,
    "start_time": "2022-02-01T05:52:55.882Z"
   },
   {
    "duration": 6155,
    "start_time": "2022-02-01T05:53:32.940Z"
   },
   {
    "duration": 13,
    "start_time": "2022-02-01T05:55:46.566Z"
   },
   {
    "duration": 13,
    "start_time": "2022-02-01T05:56:50.434Z"
   },
   {
    "duration": 15,
    "start_time": "2022-02-01T05:57:27.544Z"
   },
   {
    "duration": 15,
    "start_time": "2022-02-01T05:57:58.059Z"
   },
   {
    "duration": 16,
    "start_time": "2022-02-01T05:59:34.868Z"
   },
   {
    "duration": 13,
    "start_time": "2022-02-01T05:59:51.707Z"
   },
   {
    "duration": 17,
    "start_time": "2022-02-01T05:59:58.909Z"
   },
   {
    "duration": 3,
    "start_time": "2022-02-01T06:01:55.087Z"
   },
   {
    "duration": 190,
    "start_time": "2022-02-01T06:29:57.311Z"
   },
   {
    "duration": 133,
    "start_time": "2022-02-01T06:30:04.789Z"
   },
   {
    "duration": 128,
    "start_time": "2022-02-01T06:30:27.394Z"
   },
   {
    "duration": 668,
    "start_time": "2022-02-01T06:31:49.325Z"
   },
   {
    "duration": 6,
    "start_time": "2022-02-01T06:31:56.016Z"
   },
   {
    "duration": 5,
    "start_time": "2022-02-01T06:32:17.322Z"
   },
   {
    "duration": 329,
    "start_time": "2022-02-01T06:32:44.884Z"
   },
   {
    "duration": 373,
    "start_time": "2022-02-01T06:32:59.346Z"
   },
   {
    "duration": 389,
    "start_time": "2022-02-01T06:33:14.318Z"
   },
   {
    "duration": 26,
    "start_time": "2022-02-01T06:34:07.028Z"
   },
   {
    "duration": 19,
    "start_time": "2022-02-01T06:34:29.507Z"
   },
   {
    "duration": 19,
    "start_time": "2022-02-01T06:34:45.512Z"
   },
   {
    "duration": 4,
    "start_time": "2022-02-01T06:34:51.444Z"
   },
   {
    "duration": 20,
    "start_time": "2022-02-01T06:35:10.273Z"
   },
   {
    "duration": 25,
    "start_time": "2022-02-01T06:35:26.112Z"
   },
   {
    "duration": 4,
    "start_time": "2022-02-01T06:35:29.834Z"
   },
   {
    "duration": 21,
    "start_time": "2022-02-01T06:35:54.890Z"
   },
   {
    "duration": 235,
    "start_time": "2022-02-01T06:40:01.020Z"
   },
   {
    "duration": 13,
    "start_time": "2022-02-01T06:40:43.772Z"
   },
   {
    "duration": 15,
    "start_time": "2022-02-01T06:43:48.314Z"
   },
   {
    "duration": 15,
    "start_time": "2022-02-01T06:44:43.152Z"
   },
   {
    "duration": 15,
    "start_time": "2022-02-01T06:44:46.050Z"
   },
   {
    "duration": 31,
    "start_time": "2022-02-01T06:45:17.201Z"
   },
   {
    "duration": 16,
    "start_time": "2022-02-01T06:45:32.602Z"
   },
   {
    "duration": 28,
    "start_time": "2022-02-01T06:46:08.879Z"
   },
   {
    "duration": 13,
    "start_time": "2022-02-01T06:46:14.326Z"
   },
   {
    "duration": 240,
    "start_time": "2022-02-01T07:01:51.703Z"
   },
   {
    "duration": 6,
    "start_time": "2022-02-01T07:02:08.518Z"
   },
   {
    "duration": -538,
    "start_time": "2022-02-01T07:02:17.926Z"
   },
   {
    "duration": 14,
    "start_time": "2022-02-01T07:02:43.685Z"
   },
   {
    "duration": 15,
    "start_time": "2022-02-01T07:02:44.171Z"
   },
   {
    "duration": 5,
    "start_time": "2022-02-01T07:02:45.514Z"
   },
   {
    "duration": 7559,
    "start_time": "2022-02-01T07:02:47.388Z"
   },
   {
    "duration": 9,
    "start_time": "2022-02-01T07:03:43.767Z"
   },
   {
    "duration": 7,
    "start_time": "2022-02-01T07:07:02.094Z"
   },
   {
    "duration": 36,
    "start_time": "2022-02-01T07:07:03.905Z"
   },
   {
    "duration": 6,
    "start_time": "2022-02-01T07:09:05.321Z"
   },
   {
    "duration": 27,
    "start_time": "2022-02-01T07:09:06.763Z"
   },
   {
    "duration": 18,
    "start_time": "2022-02-01T07:09:33.983Z"
   },
   {
    "duration": 24,
    "start_time": "2022-02-01T07:10:05.362Z"
   },
   {
    "duration": 18,
    "start_time": "2022-02-01T07:10:24.059Z"
   },
   {
    "duration": 3,
    "start_time": "2022-02-01T07:14:38.636Z"
   },
   {
    "duration": 260,
    "start_time": "2022-02-01T07:14:41.316Z"
   },
   {
    "duration": 31,
    "start_time": "2022-02-01T07:17:11.716Z"
   },
   {
    "duration": 12,
    "start_time": "2022-02-01T07:17:31.185Z"
   },
   {
    "duration": 27,
    "start_time": "2022-02-01T07:19:08.153Z"
   },
   {
    "duration": 29,
    "start_time": "2022-02-01T07:19:10.719Z"
   },
   {
    "duration": 13,
    "start_time": "2022-02-01T07:19:11.165Z"
   },
   {
    "duration": 4,
    "start_time": "2022-02-01T07:20:44.295Z"
   },
   {
    "duration": 24,
    "start_time": "2022-02-01T07:20:44.753Z"
   },
   {
    "duration": 33,
    "start_time": "2022-02-01T07:20:55.682Z"
   },
   {
    "duration": 12,
    "start_time": "2022-02-01T07:20:56.900Z"
   },
   {
    "duration": 29,
    "start_time": "2022-02-01T07:21:15.070Z"
   },
   {
    "duration": 12,
    "start_time": "2022-02-01T07:21:16.762Z"
   },
   {
    "duration": 29,
    "start_time": "2022-02-01T07:22:14.353Z"
   },
   {
    "duration": 12,
    "start_time": "2022-02-01T07:22:15.460Z"
   },
   {
    "duration": 18,
    "start_time": "2022-02-01T07:23:03.296Z"
   },
   {
    "duration": 13,
    "start_time": "2022-02-01T07:23:20.682Z"
   },
   {
    "duration": 688,
    "start_time": "2022-02-10T12:32:57.676Z"
   },
   {
    "duration": 160,
    "start_time": "2022-02-10T12:32:58.367Z"
   },
   {
    "duration": 20,
    "start_time": "2022-02-10T12:32:58.530Z"
   },
   {
    "duration": 38,
    "start_time": "2022-02-10T12:32:58.552Z"
   },
   {
    "duration": 28,
    "start_time": "2022-02-10T12:32:58.592Z"
   },
   {
    "duration": 27,
    "start_time": "2022-02-10T12:32:58.622Z"
   },
   {
    "duration": 15,
    "start_time": "2022-02-10T12:32:58.651Z"
   },
   {
    "duration": 51,
    "start_time": "2022-02-10T12:32:58.668Z"
   },
   {
    "duration": 36,
    "start_time": "2022-02-10T12:32:58.723Z"
   },
   {
    "duration": 48,
    "start_time": "2022-02-10T12:32:58.763Z"
   },
   {
    "duration": 76,
    "start_time": "2022-02-10T12:32:58.813Z"
   },
   {
    "duration": 100,
    "start_time": "2022-02-10T12:32:58.891Z"
   },
   {
    "duration": 63,
    "start_time": "2022-02-10T12:32:58.994Z"
   },
   {
    "duration": 59,
    "start_time": "2022-02-10T12:32:59.059Z"
   },
   {
    "duration": 4,
    "start_time": "2022-02-10T12:32:59.120Z"
   },
   {
    "duration": 23,
    "start_time": "2022-02-10T12:32:59.126Z"
   },
   {
    "duration": 99,
    "start_time": "2022-02-10T12:32:59.151Z"
   },
   {
    "duration": 17,
    "start_time": "2022-02-10T12:32:59.252Z"
   },
   {
    "duration": 36,
    "start_time": "2022-02-10T12:32:59.271Z"
   },
   {
    "duration": 4,
    "start_time": "2022-02-10T12:32:59.310Z"
   },
   {
    "duration": 29,
    "start_time": "2022-02-10T12:32:59.316Z"
   },
   {
    "duration": 17,
    "start_time": "2022-02-10T12:32:59.346Z"
   },
   {
    "duration": 35,
    "start_time": "2022-02-10T12:32:59.365Z"
   },
   {
    "duration": 16,
    "start_time": "2022-02-10T12:32:59.408Z"
   },
   {
    "duration": 20,
    "start_time": "2022-02-10T12:32:59.426Z"
   },
   {
    "duration": 17,
    "start_time": "2022-02-10T12:32:59.448Z"
   },
   {
    "duration": 74,
    "start_time": "2022-02-10T12:32:59.468Z"
   },
   {
    "duration": 151,
    "start_time": "2022-02-10T12:32:59.552Z"
   },
   {
    "duration": 131,
    "start_time": "2022-02-10T12:32:59.709Z"
   },
   {
    "duration": 84,
    "start_time": "2022-02-10T12:32:59.843Z"
   },
   {
    "duration": 38,
    "start_time": "2022-02-10T12:32:59.929Z"
   },
   {
    "duration": 15,
    "start_time": "2022-02-10T12:32:59.968Z"
   },
   {
    "duration": 20,
    "start_time": "2022-02-10T12:32:59.985Z"
   },
   {
    "duration": 15,
    "start_time": "2022-02-10T12:33:00.007Z"
   },
   {
    "duration": 34,
    "start_time": "2022-02-10T12:33:00.024Z"
   },
   {
    "duration": 18,
    "start_time": "2022-02-10T12:33:00.060Z"
   },
   {
    "duration": 27,
    "start_time": "2022-02-10T12:33:00.080Z"
   },
   {
    "duration": 12,
    "start_time": "2022-02-10T12:33:00.110Z"
   },
   {
    "duration": 555,
    "start_time": "2022-02-11T12:06:01.972Z"
   },
   {
    "duration": 148,
    "start_time": "2022-02-11T12:06:02.613Z"
   },
   {
    "duration": 18,
    "start_time": "2022-02-11T12:06:02.951Z"
   },
   {
    "duration": 25,
    "start_time": "2022-02-11T12:06:03.252Z"
   },
   {
    "duration": 5,
    "start_time": "2022-02-11T12:06:07.164Z"
   },
   {
    "duration": 23,
    "start_time": "2022-02-11T12:06:09.434Z"
   },
   {
    "duration": 4,
    "start_time": "2022-02-11T12:06:09.757Z"
   },
   {
    "duration": 37,
    "start_time": "2022-02-11T12:06:10.412Z"
   },
   {
    "duration": 21,
    "start_time": "2022-02-11T12:06:11.017Z"
   },
   {
    "duration": 23,
    "start_time": "2022-02-11T12:06:11.324Z"
   },
   {
    "duration": 61,
    "start_time": "2022-02-11T12:06:11.883Z"
   },
   {
    "duration": 72,
    "start_time": "2022-02-11T12:06:12.284Z"
   },
   {
    "duration": 54,
    "start_time": "2022-02-11T12:06:12.707Z"
   },
   {
    "duration": 39,
    "start_time": "2022-02-11T12:06:13.616Z"
   },
   {
    "duration": 3,
    "start_time": "2022-02-11T12:06:14.943Z"
   },
   {
    "duration": 10,
    "start_time": "2022-02-11T12:06:15.848Z"
   },
   {
    "duration": 38,
    "start_time": "2022-02-11T12:06:16.453Z"
   },
   {
    "duration": 9,
    "start_time": "2022-02-11T12:06:18.604Z"
   },
   {
    "duration": 9,
    "start_time": "2022-02-11T12:06:19.211Z"
   },
   {
    "duration": 10,
    "start_time": "2022-02-11T12:10:19.015Z"
   },
   {
    "duration": 10,
    "start_time": "2022-02-11T12:10:20.858Z"
   },
   {
    "duration": 11,
    "start_time": "2022-02-11T12:10:49.582Z"
   },
   {
    "duration": 10,
    "start_time": "2022-02-11T12:11:02.529Z"
   },
   {
    "duration": 3,
    "start_time": "2022-02-11T12:11:08.308Z"
   },
   {
    "duration": 17,
    "start_time": "2022-02-11T12:11:11.103Z"
   },
   {
    "duration": 16,
    "start_time": "2022-02-11T12:11:11.938Z"
   },
   {
    "duration": 16,
    "start_time": "2022-02-11T12:11:12.875Z"
   },
   {
    "duration": 16,
    "start_time": "2022-02-11T12:11:13.071Z"
   },
   {
    "duration": 18,
    "start_time": "2022-02-11T12:11:14.536Z"
   },
   {
    "duration": 16,
    "start_time": "2022-02-11T12:11:16.293Z"
   },
   {
    "duration": 9,
    "start_time": "2022-02-11T12:11:45.876Z"
   },
   {
    "duration": 11,
    "start_time": "2022-02-11T12:11:47.847Z"
   },
   {
    "duration": 10,
    "start_time": "2022-02-11T12:11:48.343Z"
   },
   {
    "duration": 3,
    "start_time": "2022-02-11T12:11:49.567Z"
   },
   {
    "duration": 22,
    "start_time": "2022-02-11T12:11:52.139Z"
   },
   {
    "duration": 15,
    "start_time": "2022-02-11T12:11:52.619Z"
   },
   {
    "duration": 16,
    "start_time": "2022-02-11T12:11:53.184Z"
   },
   {
    "duration": 14,
    "start_time": "2022-02-11T12:11:53.815Z"
   },
   {
    "duration": 23,
    "start_time": "2022-02-11T12:11:56.547Z"
   },
   {
    "duration": 7,
    "start_time": "2022-02-11T12:11:57.412Z"
   },
   {
    "duration": 224,
    "start_time": "2022-02-11T12:20:27.797Z"
   },
   {
    "duration": 149,
    "start_time": "2022-02-11T12:20:37.503Z"
   },
   {
    "duration": 8,
    "start_time": "2022-02-11T12:21:27.701Z"
   },
   {
    "duration": 9,
    "start_time": "2022-02-11T12:22:24.933Z"
   },
   {
    "duration": 5,
    "start_time": "2022-02-11T12:22:27.537Z"
   },
   {
    "duration": 8,
    "start_time": "2022-02-11T12:23:41.925Z"
   },
   {
    "duration": 5,
    "start_time": "2022-02-11T12:23:43.365Z"
   },
   {
    "duration": 47,
    "start_time": "2022-02-11T12:27:12.919Z"
   },
   {
    "duration": 43,
    "start_time": "2022-02-11T12:27:19.040Z"
   },
   {
    "duration": 52,
    "start_time": "2022-02-11T12:27:35.876Z"
   },
   {
    "duration": 806,
    "start_time": "2022-02-11T14:31:40.298Z"
   },
   {
    "duration": 185,
    "start_time": "2022-02-11T14:31:41.106Z"
   },
   {
    "duration": 34,
    "start_time": "2022-02-11T14:31:41.294Z"
   },
   {
    "duration": 33,
    "start_time": "2022-02-11T14:31:41.331Z"
   },
   {
    "duration": 5,
    "start_time": "2022-02-11T14:31:41.366Z"
   },
   {
    "duration": 60,
    "start_time": "2022-02-11T14:31:41.373Z"
   },
   {
    "duration": 5,
    "start_time": "2022-02-11T14:31:41.436Z"
   },
   {
    "duration": 34,
    "start_time": "2022-02-11T14:31:41.444Z"
   },
   {
    "duration": 55,
    "start_time": "2022-02-11T14:31:41.484Z"
   },
   {
    "duration": 30,
    "start_time": "2022-02-11T14:31:41.542Z"
   },
   {
    "duration": 112,
    "start_time": "2022-02-11T14:31:41.574Z"
   },
   {
    "duration": 111,
    "start_time": "2022-02-11T14:31:41.688Z"
   },
   {
    "duration": 86,
    "start_time": "2022-02-11T14:31:41.801Z"
   },
   {
    "duration": 65,
    "start_time": "2022-02-11T14:31:41.889Z"
   },
   {
    "duration": 4,
    "start_time": "2022-02-11T14:31:41.956Z"
   },
   {
    "duration": 15,
    "start_time": "2022-02-11T14:31:41.962Z"
   },
   {
    "duration": 89,
    "start_time": "2022-02-11T14:31:41.979Z"
   },
   {
    "duration": 16,
    "start_time": "2022-02-11T14:31:42.070Z"
   },
   {
    "duration": 34,
    "start_time": "2022-02-11T14:31:42.089Z"
   },
   {
    "duration": 5,
    "start_time": "2022-02-11T14:31:42.126Z"
   },
   {
    "duration": 27,
    "start_time": "2022-02-11T14:31:42.133Z"
   },
   {
    "duration": 19,
    "start_time": "2022-02-11T14:31:42.163Z"
   },
   {
    "duration": 56,
    "start_time": "2022-02-11T14:31:42.184Z"
   },
   {
    "duration": 18,
    "start_time": "2022-02-11T14:31:42.243Z"
   },
   {
    "duration": 21,
    "start_time": "2022-02-11T14:31:42.264Z"
   },
   {
    "duration": 48,
    "start_time": "2022-02-11T14:31:42.288Z"
   },
   {
    "duration": 12,
    "start_time": "2022-02-11T14:31:42.343Z"
   },
   {
    "duration": 17,
    "start_time": "2022-02-11T14:31:42.358Z"
   },
   {
    "duration": 55,
    "start_time": "2022-02-11T14:31:42.378Z"
   },
   {
    "duration": 7,
    "start_time": "2022-02-11T14:31:42.435Z"
   },
   {
    "duration": 27,
    "start_time": "2022-02-11T14:31:42.445Z"
   },
   {
    "duration": 50,
    "start_time": "2022-02-11T14:31:42.476Z"
   },
   {
    "duration": 22,
    "start_time": "2022-02-11T14:31:42.529Z"
   },
   {
    "duration": 16,
    "start_time": "2022-02-11T14:31:42.553Z"
   },
   {
    "duration": 51,
    "start_time": "2022-02-11T14:31:42.572Z"
   },
   {
    "duration": 6,
    "start_time": "2022-02-11T14:31:42.626Z"
   },
   {
    "duration": 9,
    "start_time": "2022-02-11T14:31:42.635Z"
   },
   {
    "duration": 7,
    "start_time": "2022-02-11T14:31:42.647Z"
   }
  ],
  "colab": {
   "collapsed_sections": [
    "E0vqbgi9ay0H",
    "VUC88oWjTJw2"
   ],
   "name": "yandex_music_project_2021.2.ipynb",
   "provenance": []
  },
  "kernelspec": {
   "display_name": "Python 3",
   "language": "python",
   "name": "python3"
  },
  "language_info": {
   "codemirror_mode": {
    "name": "ipython",
    "version": 3
   },
   "file_extension": ".py",
   "mimetype": "text/x-python",
   "name": "python",
   "nbconvert_exporter": "python",
   "pygments_lexer": "ipython3",
   "version": "3.8.7"
  },
  "toc": {
   "base_numbering": 1,
   "nav_menu": {},
   "number_sections": true,
   "sideBar": true,
   "skip_h1_title": true,
   "title_cell": "Table of Contents",
   "title_sidebar": "Contents",
   "toc_cell": false,
   "toc_position": {},
   "toc_section_display": true,
   "toc_window_display": true
  }
 },
 "nbformat": 4,
 "nbformat_minor": 1
}
