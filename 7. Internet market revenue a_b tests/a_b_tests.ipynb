{
 "cells": [
  {
   "cell_type": "markdown",
   "id": "religious-transsexual",
   "metadata": {},
   "source": [
    "<b><font size=5><center>Анализ результатов А/В тестирования с целью увеличения выручки</center></font></b>"
   ]
  },
  {
   "cell_type": "markdown",
   "id": "41091621-e7f3-4592-b268-defdc70911d6",
   "metadata": {},
   "source": [
    "### Суть проекта"
   ]
  },
  {
   "cell_type": "markdown",
   "id": "c3d7e3a5-6ce0-4b5e-a0a4-0a318a133866",
   "metadata": {},
   "source": [
    "Вы — аналитик крупного интернет-магазина. Вместе с отделом маркетинга вы подготовили список гипотез для увеличения выручки.\n",
    "Приоритизируйте гипотезы, запустите A/B-тест и проанализируйте результаты. "
   ]
  },
  {
   "cell_type": "markdown",
   "id": "b19af2fd-88c2-49f4-97f2-9d7186c2f787",
   "metadata": {},
   "source": [
    "### Описание проекта"
   ]
  },
  {
   "cell_type": "markdown",
   "id": "668e5157-d3ce-4bec-a107-9bbb825d3b51",
   "metadata": {},
   "source": [
    "В ходе выполнения проекта мы провели приоритизацию гипотез по параметрам ICE и RICE. Во второй части проекта мы получили данные тестов двух групп и проанализировали их на статистические различия конверсии и среднего чека по сырым данным, обработали аномалии и проанализировали те же показатели уже по очищенным данным."
   ]
  },
  {
   "cell_type": "markdown",
   "id": "da7bbf4d-06ac-4d6c-902a-88d6698b14f6",
   "metadata": {},
   "source": [
    "### Приоритизация гипотез"
   ]
  },
  {
   "cell_type": "markdown",
   "id": "killing-image",
   "metadata": {},
   "source": [
    "#### Описание датасета"
   ]
  },
  {
   "cell_type": "markdown",
   "id": "traditional-istanbul",
   "metadata": {},
   "source": [
    "- `Hypothesis` — краткое описание гипотезы;\n",
    "- `Reach` — охват пользователей по 10-балльной шкале;\n",
    "- `Impact` — влияние на пользователей по 10-балльной шкале;\n",
    "- `Confidence` — уверенность в гипотезе по 10-балльной шкале;\n",
    "- `Efforts` — затраты ресурсов на проверку гипотезы по 10-балльной шкале. Чем больше значение Efforts, тем дороже проверка гипотезы."
   ]
  },
  {
   "cell_type": "code",
   "execution_count": 1,
   "id": "3c337330-7fc7-43fd-97b2-6f107e6a2c1f",
   "metadata": {},
   "outputs": [],
   "source": [
    "import pandas as pd               #импорт библиотек\n",
    "import numpy as np\n",
    "import matplotlib.pyplot as plt\n",
    "import scipy.stats as stats\n",
    "import datetime as dt\n",
    "import warnings\n",
    "warnings.filterwarnings('ignore')"
   ]
  },
  {
   "cell_type": "code",
   "execution_count": 2,
   "id": "067e2ab0-b11c-488c-a38e-ed03024b0a62",
   "metadata": {},
   "outputs": [
    {
     "data": {
      "text/html": [
       "<div>\n",
       "<style scoped>\n",
       "    .dataframe tbody tr th:only-of-type {\n",
       "        vertical-align: middle;\n",
       "    }\n",
       "\n",
       "    .dataframe tbody tr th {\n",
       "        vertical-align: top;\n",
       "    }\n",
       "\n",
       "    .dataframe thead th {\n",
       "        text-align: right;\n",
       "    }\n",
       "</style>\n",
       "<table border=\"1\" class=\"dataframe\">\n",
       "  <thead>\n",
       "    <tr style=\"text-align: right;\">\n",
       "      <th></th>\n",
       "      <th>Hypothesis</th>\n",
       "      <th>Reach</th>\n",
       "      <th>Impact</th>\n",
       "      <th>Confidence</th>\n",
       "      <th>Efforts</th>\n",
       "    </tr>\n",
       "  </thead>\n",
       "  <tbody>\n",
       "    <tr>\n",
       "      <th>0</th>\n",
       "      <td>Добавить два новых канала привлечения трафика, что позволит привлекать на 30% больше пользователей</td>\n",
       "      <td>3</td>\n",
       "      <td>10</td>\n",
       "      <td>8</td>\n",
       "      <td>6</td>\n",
       "    </tr>\n",
       "    <tr>\n",
       "      <th>1</th>\n",
       "      <td>Запустить собственную службу доставки, что сократит срок доставки заказов</td>\n",
       "      <td>2</td>\n",
       "      <td>5</td>\n",
       "      <td>4</td>\n",
       "      <td>10</td>\n",
       "    </tr>\n",
       "    <tr>\n",
       "      <th>2</th>\n",
       "      <td>Добавить блоки рекомендаций товаров на сайт интернет магазина, чтобы повысить конверсию и средни...</td>\n",
       "      <td>8</td>\n",
       "      <td>3</td>\n",
       "      <td>7</td>\n",
       "      <td>3</td>\n",
       "    </tr>\n",
       "    <tr>\n",
       "      <th>3</th>\n",
       "      <td>Изменить структура категорий, что увеличит конверсию, т.к. пользователи быстрее найдут нужный товар</td>\n",
       "      <td>8</td>\n",
       "      <td>3</td>\n",
       "      <td>3</td>\n",
       "      <td>8</td>\n",
       "    </tr>\n",
       "    <tr>\n",
       "      <th>4</th>\n",
       "      <td>Изменить цвет фона главной страницы, чтобы увеличить вовлеченность пользователей</td>\n",
       "      <td>3</td>\n",
       "      <td>1</td>\n",
       "      <td>1</td>\n",
       "      <td>1</td>\n",
       "    </tr>\n",
       "    <tr>\n",
       "      <th>5</th>\n",
       "      <td>Добавить страницу отзывов клиентов о магазине, что позволит увеличить количество заказов</td>\n",
       "      <td>3</td>\n",
       "      <td>2</td>\n",
       "      <td>2</td>\n",
       "      <td>3</td>\n",
       "    </tr>\n",
       "    <tr>\n",
       "      <th>6</th>\n",
       "      <td>Показать на главной странице баннеры с актуальными акциями и распродажами, чтобы увеличить конве...</td>\n",
       "      <td>5</td>\n",
       "      <td>3</td>\n",
       "      <td>8</td>\n",
       "      <td>3</td>\n",
       "    </tr>\n",
       "    <tr>\n",
       "      <th>7</th>\n",
       "      <td>Добавить форму подписки на все основные страницы, чтобы собрать базу клиентов для email-рассылок</td>\n",
       "      <td>10</td>\n",
       "      <td>7</td>\n",
       "      <td>8</td>\n",
       "      <td>5</td>\n",
       "    </tr>\n",
       "    <tr>\n",
       "      <th>8</th>\n",
       "      <td>Запустить акцию, дающую скидку на товар в день рождения</td>\n",
       "      <td>1</td>\n",
       "      <td>9</td>\n",
       "      <td>9</td>\n",
       "      <td>5</td>\n",
       "    </tr>\n",
       "  </tbody>\n",
       "</table>\n",
       "</div>"
      ],
      "text/plain": [
       "                                                                                            Hypothesis  \\\n",
       "0   Добавить два новых канала привлечения трафика, что позволит привлекать на 30% больше пользователей   \n",
       "1                            Запустить собственную службу доставки, что сократит срок доставки заказов   \n",
       "2  Добавить блоки рекомендаций товаров на сайт интернет магазина, чтобы повысить конверсию и средни...   \n",
       "3  Изменить структура категорий, что увеличит конверсию, т.к. пользователи быстрее найдут нужный товар   \n",
       "4                     Изменить цвет фона главной страницы, чтобы увеличить вовлеченность пользователей   \n",
       "5             Добавить страницу отзывов клиентов о магазине, что позволит увеличить количество заказов   \n",
       "6  Показать на главной странице баннеры с актуальными акциями и распродажами, чтобы увеличить конве...   \n",
       "7     Добавить форму подписки на все основные страницы, чтобы собрать базу клиентов для email-рассылок   \n",
       "8                                              Запустить акцию, дающую скидку на товар в день рождения   \n",
       "\n",
       "   Reach  Impact  Confidence  Efforts  \n",
       "0      3      10           8        6  \n",
       "1      2       5           4       10  \n",
       "2      8       3           7        3  \n",
       "3      8       3           3        8  \n",
       "4      3       1           1        1  \n",
       "5      3       2           2        3  \n",
       "6      5       3           8        3  \n",
       "7     10       7           8        5  \n",
       "8      1       9           9        5  "
      ]
     },
     "execution_count": 2,
     "metadata": {},
     "output_type": "execute_result"
    }
   ],
   "source": [
    "data = pd.read_csv(r\"C:\\Users\\mi\\Downloads\\hypothesis.csv\")        #извлечение данных\n",
    "\n",
    "pd.options.display.max_colwidth = 100\n",
    "data"
   ]
  },
  {
   "cell_type": "markdown",
   "id": "8ca527c0-f358-40f0-b308-984fcca0296c",
   "metadata": {},
   "source": [
    "    Применим фреймворк ICE для приоритизации гипотез. Отсортируем их по убыванию приоритета.\n",
    "    Применим фреймворк RICE для приоритизации гипотез. Отсортируем их по убыванию приоритета."
   ]
  },
  {
   "cell_type": "code",
   "execution_count": 3,
   "id": "d27d06dd-cb9a-4a30-b04d-8b56e9d14230",
   "metadata": {},
   "outputs": [
    {
     "data": {
      "text/html": [
       "<div>\n",
       "<style scoped>\n",
       "    .dataframe tbody tr th:only-of-type {\n",
       "        vertical-align: middle;\n",
       "    }\n",
       "\n",
       "    .dataframe tbody tr th {\n",
       "        vertical-align: top;\n",
       "    }\n",
       "\n",
       "    .dataframe thead th {\n",
       "        text-align: right;\n",
       "    }\n",
       "</style>\n",
       "<table border=\"1\" class=\"dataframe\">\n",
       "  <thead>\n",
       "    <tr style=\"text-align: right;\">\n",
       "      <th></th>\n",
       "      <th>Hypothesis</th>\n",
       "      <th>ICE</th>\n",
       "    </tr>\n",
       "  </thead>\n",
       "  <tbody>\n",
       "    <tr>\n",
       "      <th>8</th>\n",
       "      <td>Запустить акцию, дающую скидку на товар в день рождения</td>\n",
       "      <td>16.200000</td>\n",
       "    </tr>\n",
       "    <tr>\n",
       "      <th>0</th>\n",
       "      <td>Добавить два новых канала привлечения трафика, что позволит привлекать на 30% больше пользователей</td>\n",
       "      <td>13.333333</td>\n",
       "    </tr>\n",
       "    <tr>\n",
       "      <th>7</th>\n",
       "      <td>Добавить форму подписки на все основные страницы, чтобы собрать базу клиентов для email-рассылок</td>\n",
       "      <td>11.200000</td>\n",
       "    </tr>\n",
       "    <tr>\n",
       "      <th>6</th>\n",
       "      <td>Показать на главной странице баннеры с актуальными акциями и распродажами, чтобы увеличить конве...</td>\n",
       "      <td>8.000000</td>\n",
       "    </tr>\n",
       "    <tr>\n",
       "      <th>2</th>\n",
       "      <td>Добавить блоки рекомендаций товаров на сайт интернет магазина, чтобы повысить конверсию и средни...</td>\n",
       "      <td>7.000000</td>\n",
       "    </tr>\n",
       "    <tr>\n",
       "      <th>1</th>\n",
       "      <td>Запустить собственную службу доставки, что сократит срок доставки заказов</td>\n",
       "      <td>2.000000</td>\n",
       "    </tr>\n",
       "    <tr>\n",
       "      <th>5</th>\n",
       "      <td>Добавить страницу отзывов клиентов о магазине, что позволит увеличить количество заказов</td>\n",
       "      <td>1.333333</td>\n",
       "    </tr>\n",
       "    <tr>\n",
       "      <th>3</th>\n",
       "      <td>Изменить структура категорий, что увеличит конверсию, т.к. пользователи быстрее найдут нужный товар</td>\n",
       "      <td>1.125000</td>\n",
       "    </tr>\n",
       "    <tr>\n",
       "      <th>4</th>\n",
       "      <td>Изменить цвет фона главной страницы, чтобы увеличить вовлеченность пользователей</td>\n",
       "      <td>1.000000</td>\n",
       "    </tr>\n",
       "  </tbody>\n",
       "</table>\n",
       "</div>"
      ],
      "text/plain": [
       "                                                                                            Hypothesis  \\\n",
       "8                                              Запустить акцию, дающую скидку на товар в день рождения   \n",
       "0   Добавить два новых канала привлечения трафика, что позволит привлекать на 30% больше пользователей   \n",
       "7     Добавить форму подписки на все основные страницы, чтобы собрать базу клиентов для email-рассылок   \n",
       "6  Показать на главной странице баннеры с актуальными акциями и распродажами, чтобы увеличить конве...   \n",
       "2  Добавить блоки рекомендаций товаров на сайт интернет магазина, чтобы повысить конверсию и средни...   \n",
       "1                            Запустить собственную службу доставки, что сократит срок доставки заказов   \n",
       "5             Добавить страницу отзывов клиентов о магазине, что позволит увеличить количество заказов   \n",
       "3  Изменить структура категорий, что увеличит конверсию, т.к. пользователи быстрее найдут нужный товар   \n",
       "4                     Изменить цвет фона главной страницы, чтобы увеличить вовлеченность пользователей   \n",
       "\n",
       "         ICE  \n",
       "8  16.200000  \n",
       "0  13.333333  \n",
       "7  11.200000  \n",
       "6   8.000000  \n",
       "2   7.000000  \n",
       "1   2.000000  \n",
       "5   1.333333  \n",
       "3   1.125000  \n",
       "4   1.000000  "
      ]
     },
     "execution_count": 3,
     "metadata": {},
     "output_type": "execute_result"
    }
   ],
   "source": [
    "data['ICE'] = (data['Impact'] * data['Confidence']) / data['Efforts']  # применение фреймворка ICE\n",
    "\n",
    "pd.options.display.max_colwidth = 100\n",
    "data[['Hypothesis', 'ICE']].sort_values(by='ICE', ascending=False)"
   ]
  },
  {
   "cell_type": "code",
   "execution_count": 4,
   "id": "d8faaa31-119c-4987-9452-208923a5e750",
   "metadata": {},
   "outputs": [
    {
     "data": {
      "text/html": [
       "<div>\n",
       "<style scoped>\n",
       "    .dataframe tbody tr th:only-of-type {\n",
       "        vertical-align: middle;\n",
       "    }\n",
       "\n",
       "    .dataframe tbody tr th {\n",
       "        vertical-align: top;\n",
       "    }\n",
       "\n",
       "    .dataframe thead th {\n",
       "        text-align: right;\n",
       "    }\n",
       "</style>\n",
       "<table border=\"1\" class=\"dataframe\">\n",
       "  <thead>\n",
       "    <tr style=\"text-align: right;\">\n",
       "      <th></th>\n",
       "      <th>Hypothesis</th>\n",
       "      <th>RICE</th>\n",
       "    </tr>\n",
       "  </thead>\n",
       "  <tbody>\n",
       "    <tr>\n",
       "      <th>7</th>\n",
       "      <td>Добавить форму подписки на все основные страницы, чтобы собрать базу клиентов для email-рассылок</td>\n",
       "      <td>112.0</td>\n",
       "    </tr>\n",
       "    <tr>\n",
       "      <th>2</th>\n",
       "      <td>Добавить блоки рекомендаций товаров на сайт интернет магазина, чтобы повысить конверсию и средни...</td>\n",
       "      <td>56.0</td>\n",
       "    </tr>\n",
       "    <tr>\n",
       "      <th>0</th>\n",
       "      <td>Добавить два новых канала привлечения трафика, что позволит привлекать на 30% больше пользователей</td>\n",
       "      <td>40.0</td>\n",
       "    </tr>\n",
       "    <tr>\n",
       "      <th>6</th>\n",
       "      <td>Показать на главной странице баннеры с актуальными акциями и распродажами, чтобы увеличить конве...</td>\n",
       "      <td>40.0</td>\n",
       "    </tr>\n",
       "    <tr>\n",
       "      <th>8</th>\n",
       "      <td>Запустить акцию, дающую скидку на товар в день рождения</td>\n",
       "      <td>16.2</td>\n",
       "    </tr>\n",
       "    <tr>\n",
       "      <th>3</th>\n",
       "      <td>Изменить структура категорий, что увеличит конверсию, т.к. пользователи быстрее найдут нужный товар</td>\n",
       "      <td>9.0</td>\n",
       "    </tr>\n",
       "    <tr>\n",
       "      <th>1</th>\n",
       "      <td>Запустить собственную службу доставки, что сократит срок доставки заказов</td>\n",
       "      <td>4.0</td>\n",
       "    </tr>\n",
       "    <tr>\n",
       "      <th>5</th>\n",
       "      <td>Добавить страницу отзывов клиентов о магазине, что позволит увеличить количество заказов</td>\n",
       "      <td>4.0</td>\n",
       "    </tr>\n",
       "    <tr>\n",
       "      <th>4</th>\n",
       "      <td>Изменить цвет фона главной страницы, чтобы увеличить вовлеченность пользователей</td>\n",
       "      <td>3.0</td>\n",
       "    </tr>\n",
       "  </tbody>\n",
       "</table>\n",
       "</div>"
      ],
      "text/plain": [
       "                                                                                            Hypothesis  \\\n",
       "7     Добавить форму подписки на все основные страницы, чтобы собрать базу клиентов для email-рассылок   \n",
       "2  Добавить блоки рекомендаций товаров на сайт интернет магазина, чтобы повысить конверсию и средни...   \n",
       "0   Добавить два новых канала привлечения трафика, что позволит привлекать на 30% больше пользователей   \n",
       "6  Показать на главной странице баннеры с актуальными акциями и распродажами, чтобы увеличить конве...   \n",
       "8                                              Запустить акцию, дающую скидку на товар в день рождения   \n",
       "3  Изменить структура категорий, что увеличит конверсию, т.к. пользователи быстрее найдут нужный товар   \n",
       "1                            Запустить собственную службу доставки, что сократит срок доставки заказов   \n",
       "5             Добавить страницу отзывов клиентов о магазине, что позволит увеличить количество заказов   \n",
       "4                     Изменить цвет фона главной страницы, чтобы увеличить вовлеченность пользователей   \n",
       "\n",
       "    RICE  \n",
       "7  112.0  \n",
       "2   56.0  \n",
       "0   40.0  \n",
       "6   40.0  \n",
       "8   16.2  \n",
       "3    9.0  \n",
       "1    4.0  \n",
       "5    4.0  \n",
       "4    3.0  "
      ]
     },
     "execution_count": 4,
     "metadata": {},
     "output_type": "execute_result"
    }
   ],
   "source": [
    "data['RICE'] = (data['Reach'] * data['Impact'] * data['Confidence']) / data['Efforts']\n",
    "\n",
    "pd.options.display.max_colwidth = 100\n",
    "data[['Hypothesis', 'RICE']].sort_values(by='RICE', ascending=False)\n"
   ]
  },
  {
   "cell_type": "markdown",
   "id": "dae59954-a280-4247-8b1e-63d45e576f07",
   "metadata": {},
   "source": [
    "### Вывод"
   ]
  },
  {
   "cell_type": "markdown",
   "id": "94b6de72-de5b-44d8-bb18-144e82337b93",
   "metadata": {},
   "source": [
    "После применения фреймворка ICE лидирует гипотезы 8, 0 и 7. После того, как применяем фреймворк RICE гипотеза 7 сильно вырывается вперед. По всей видимости у нее очень большой параметр Reach в силу того, что изменения охватят очень большое количество пользователей по сравнению с другими гипотезами. "
   ]
  },
  {
   "cell_type": "markdown",
   "id": "4de95e6b-9128-47aa-a312-a0c683c9a612",
   "metadata": {},
   "source": [
    "### Анализ А/В теста"
   ]
  },
  {
   "cell_type": "markdown",
   "id": "lyric-airport",
   "metadata": {},
   "source": [
    "#### Описание датасетов"
   ]
  },
  {
   "cell_type": "markdown",
   "id": "searching-transaction",
   "metadata": {},
   "source": [
    "Датасет `orders`:\n",
    "- `transactionId` — идентификатор заказа;\n",
    "- `visitorId` — идентификатор пользователя, совершившего заказ;\n",
    "- `date` — дата, когда был совершён заказ;\n",
    "- `revenue` — выручка заказа;\n",
    "- `group` — группа A/B-теста, в которую попал заказ.\n",
    "\n",
    "Датасет `visitors`:\n",
    "- `date` — дата;\n",
    "- `group` — группа A/B-теста;\n",
    "- `visitors` — количество пользователей в указанную дату в указанной группе A/B-теста"
   ]
  },
  {
   "cell_type": "markdown",
   "id": "4e50f579-cc1b-4e78-9829-b23d6a92c3fd",
   "metadata": {},
   "source": [
    "Извлекаем результаты уже проведенных тестов"
   ]
  },
  {
   "cell_type": "code",
   "execution_count": 5,
   "id": "02b6b03c-5048-478a-a232-cc56b2767edb",
   "metadata": {},
   "outputs": [
    {
     "data": {
      "text/html": [
       "<div>\n",
       "<style scoped>\n",
       "    .dataframe tbody tr th:only-of-type {\n",
       "        vertical-align: middle;\n",
       "    }\n",
       "\n",
       "    .dataframe tbody tr th {\n",
       "        vertical-align: top;\n",
       "    }\n",
       "\n",
       "    .dataframe thead th {\n",
       "        text-align: right;\n",
       "    }\n",
       "</style>\n",
       "<table border=\"1\" class=\"dataframe\">\n",
       "  <thead>\n",
       "    <tr style=\"text-align: right;\">\n",
       "      <th></th>\n",
       "      <th>date</th>\n",
       "      <th>group</th>\n",
       "      <th>visitors</th>\n",
       "    </tr>\n",
       "  </thead>\n",
       "  <tbody>\n",
       "    <tr>\n",
       "      <th>0</th>\n",
       "      <td>2019-08-01</td>\n",
       "      <td>A</td>\n",
       "      <td>719</td>\n",
       "    </tr>\n",
       "    <tr>\n",
       "      <th>1</th>\n",
       "      <td>2019-08-02</td>\n",
       "      <td>A</td>\n",
       "      <td>619</td>\n",
       "    </tr>\n",
       "    <tr>\n",
       "      <th>2</th>\n",
       "      <td>2019-08-03</td>\n",
       "      <td>A</td>\n",
       "      <td>507</td>\n",
       "    </tr>\n",
       "    <tr>\n",
       "      <th>3</th>\n",
       "      <td>2019-08-04</td>\n",
       "      <td>A</td>\n",
       "      <td>717</td>\n",
       "    </tr>\n",
       "    <tr>\n",
       "      <th>4</th>\n",
       "      <td>2019-08-05</td>\n",
       "      <td>A</td>\n",
       "      <td>756</td>\n",
       "    </tr>\n",
       "  </tbody>\n",
       "</table>\n",
       "</div>"
      ],
      "text/plain": [
       "         date group  visitors\n",
       "0  2019-08-01     A       719\n",
       "1  2019-08-02     A       619\n",
       "2  2019-08-03     A       507\n",
       "3  2019-08-04     A       717\n",
       "4  2019-08-05     A       756"
      ]
     },
     "metadata": {},
     "output_type": "display_data"
    },
    {
     "data": {
      "text/html": [
       "<div>\n",
       "<style scoped>\n",
       "    .dataframe tbody tr th:only-of-type {\n",
       "        vertical-align: middle;\n",
       "    }\n",
       "\n",
       "    .dataframe tbody tr th {\n",
       "        vertical-align: top;\n",
       "    }\n",
       "\n",
       "    .dataframe thead th {\n",
       "        text-align: right;\n",
       "    }\n",
       "</style>\n",
       "<table border=\"1\" class=\"dataframe\">\n",
       "  <thead>\n",
       "    <tr style=\"text-align: right;\">\n",
       "      <th></th>\n",
       "      <th>transactionId</th>\n",
       "      <th>visitorId</th>\n",
       "      <th>date</th>\n",
       "      <th>revenue</th>\n",
       "      <th>group</th>\n",
       "    </tr>\n",
       "  </thead>\n",
       "  <tbody>\n",
       "    <tr>\n",
       "      <th>0</th>\n",
       "      <td>3667963787</td>\n",
       "      <td>3312258926</td>\n",
       "      <td>2019-08-15</td>\n",
       "      <td>1650</td>\n",
       "      <td>B</td>\n",
       "    </tr>\n",
       "    <tr>\n",
       "      <th>1</th>\n",
       "      <td>2804400009</td>\n",
       "      <td>3642806036</td>\n",
       "      <td>2019-08-15</td>\n",
       "      <td>730</td>\n",
       "      <td>B</td>\n",
       "    </tr>\n",
       "    <tr>\n",
       "      <th>2</th>\n",
       "      <td>2961555356</td>\n",
       "      <td>4069496402</td>\n",
       "      <td>2019-08-15</td>\n",
       "      <td>400</td>\n",
       "      <td>A</td>\n",
       "    </tr>\n",
       "    <tr>\n",
       "      <th>3</th>\n",
       "      <td>3797467345</td>\n",
       "      <td>1196621759</td>\n",
       "      <td>2019-08-15</td>\n",
       "      <td>9759</td>\n",
       "      <td>B</td>\n",
       "    </tr>\n",
       "    <tr>\n",
       "      <th>4</th>\n",
       "      <td>2282983706</td>\n",
       "      <td>2322279887</td>\n",
       "      <td>2019-08-15</td>\n",
       "      <td>2308</td>\n",
       "      <td>B</td>\n",
       "    </tr>\n",
       "  </tbody>\n",
       "</table>\n",
       "</div>"
      ],
      "text/plain": [
       "   transactionId   visitorId        date  revenue group\n",
       "0     3667963787  3312258926  2019-08-15     1650     B\n",
       "1     2804400009  3642806036  2019-08-15      730     B\n",
       "2     2961555356  4069496402  2019-08-15      400     A\n",
       "3     3797467345  1196621759  2019-08-15     9759     B\n",
       "4     2282983706  2322279887  2019-08-15     2308     B"
      ]
     },
     "execution_count": 5,
     "metadata": {},
     "output_type": "execute_result"
    }
   ],
   "source": [
    "visitors = pd.read_csv(r\"C:\\Users\\mi\\Downloads\\visitors.csv\") #извлечение данных\n",
    "orders = pd.read_csv(r\"C:\\Users\\mi\\Downloads\\orders.csv\")\n",
    "\n",
    "    \n",
    "display(visitors.head())\n",
    "orders.head()"
   ]
  },
  {
   "cell_type": "code",
   "execution_count": 6,
   "id": "dea3db40-7134-44c9-9e0d-4bab761dc51f",
   "metadata": {},
   "outputs": [],
   "source": [
    "visitors['date'] = pd.to_datetime(visitors['date'])   # приведение даты к нужному формату\n",
    "orders['date'] = pd.to_datetime(orders['date'])"
   ]
  },
  {
   "cell_type": "code",
   "execution_count": 7,
   "id": "0e01fc24",
   "metadata": {},
   "outputs": [
    {
     "name": "stdout",
     "output_type": "stream",
     "text": [
      "date        0\n",
      "group       0\n",
      "visitors    0\n",
      "dtype: int64\n"
     ]
    },
    {
     "data": {
      "text/plain": [
       "transactionId    0\n",
       "visitorId        0\n",
       "date             0\n",
       "revenue          0\n",
       "group            0\n",
       "dtype: int64"
      ]
     },
     "execution_count": 7,
     "metadata": {},
     "output_type": "execute_result"
    }
   ],
   "source": [
    "print(visitors.isna().sum()) # проверка на пропуски\n",
    "orders.isna().sum()"
   ]
  },
  {
   "cell_type": "code",
   "execution_count": 8,
   "id": "b18cf659",
   "metadata": {},
   "outputs": [
    {
     "name": "stdout",
     "output_type": "stream",
     "text": [
      "<class 'pandas.core.frame.DataFrame'>\n",
      "RangeIndex: 62 entries, 0 to 61\n",
      "Data columns (total 3 columns):\n",
      " #   Column    Non-Null Count  Dtype         \n",
      "---  ------    --------------  -----         \n",
      " 0   date      62 non-null     datetime64[ns]\n",
      " 1   group     62 non-null     object        \n",
      " 2   visitors  62 non-null     int64         \n",
      "dtypes: datetime64[ns](1), int64(1), object(1)\n",
      "memory usage: 1.6+ KB\n",
      "None\n",
      "<class 'pandas.core.frame.DataFrame'>\n",
      "RangeIndex: 1197 entries, 0 to 1196\n",
      "Data columns (total 5 columns):\n",
      " #   Column         Non-Null Count  Dtype         \n",
      "---  ------         --------------  -----         \n",
      " 0   transactionId  1197 non-null   int64         \n",
      " 1   visitorId      1197 non-null   int64         \n",
      " 2   date           1197 non-null   datetime64[ns]\n",
      " 3   revenue        1197 non-null   int64         \n",
      " 4   group          1197 non-null   object        \n",
      "dtypes: datetime64[ns](1), int64(3), object(1)\n",
      "memory usage: 46.9+ KB\n"
     ]
    }
   ],
   "source": [
    "print(visitors.info())  # проверка на тип данных\n",
    "orders.info()"
   ]
  },
  {
   "cell_type": "code",
   "execution_count": 9,
   "id": "e48b16da",
   "metadata": {},
   "outputs": [
    {
     "name": "stdout",
     "output_type": "stream",
     "text": [
      "0\n"
     ]
    },
    {
     "data": {
      "text/plain": [
       "0"
      ]
     },
     "execution_count": 9,
     "metadata": {},
     "output_type": "execute_result"
    }
   ],
   "source": [
    "print(visitors.duplicated().sum()) # проверка на дубликаты\n",
    "orders.duplicated().sum()"
   ]
  },
  {
   "cell_type": "markdown",
   "id": "6f8ef301",
   "metadata": {},
   "source": [
    "Выгруженные данные в датафрейме visitors содержат дату, группу и количество пользователей в указанную  дату в указанной группе А/В теста. Пропусков и дубликатов в датафрейме не обнаружено.\n",
    "Данные в датафрейме orders содержат идентификатор заказа, идентификатор пользователя, дату, выручку заказа и группу А/В теста. В нем также не обнаружено дубликатов и пропусков."
   ]
  },
  {
   "cell_type": "markdown",
   "id": "6ed3b01d",
   "metadata": {},
   "source": [
    "Изучим данные более детально"
   ]
  },
  {
   "cell_type": "code",
   "execution_count": 10,
   "id": "c1a9075d",
   "metadata": {},
   "outputs": [
    {
     "name": "stdout",
     "output_type": "stream",
     "text": [
      "['A' 'B']\n"
     ]
    }
   ],
   "source": [
    "print(visitors['group'].unique()) # проверка количества групп "
   ]
  },
  {
   "cell_type": "code",
   "execution_count": 11,
   "id": "3b0d351e",
   "metadata": {
    "scrolled": true
   },
   "outputs": [
    {
     "name": "stdout",
     "output_type": "stream",
     "text": [
      "2019-08-01 00:00:00\n",
      "2019-08-31 00:00:00\n"
     ]
    }
   ],
   "source": [
    "print(visitors['date'].min())  # даты начала и окончания теста\n",
    "print(visitors['date'].max()) "
   ]
  },
  {
   "cell_type": "code",
   "execution_count": 12,
   "id": "d5a43d7d",
   "metadata": {
    "scrolled": true
   },
   "outputs": [
    {
     "name": "stdout",
     "output_type": "stream",
     "text": [
      "       visitorId\n",
      "group           \n",
      "A            557\n",
      "B            640\n"
     ]
    }
   ],
   "source": [
    "print(orders.groupby('group').agg({'visitorId': 'count'})) # подсчет количества пользователей в каждой группе"
   ]
  },
  {
   "cell_type": "code",
   "execution_count": 13,
   "id": "eba0da5c",
   "metadata": {},
   "outputs": [
    {
     "data": {
      "text/html": [
       "<div>\n",
       "<style scoped>\n",
       "    .dataframe tbody tr th:only-of-type {\n",
       "        vertical-align: middle;\n",
       "    }\n",
       "\n",
       "    .dataframe tbody tr th {\n",
       "        vertical-align: top;\n",
       "    }\n",
       "\n",
       "    .dataframe thead th {\n",
       "        text-align: right;\n",
       "    }\n",
       "</style>\n",
       "<table border=\"1\" class=\"dataframe\">\n",
       "  <thead>\n",
       "    <tr style=\"text-align: right;\">\n",
       "      <th></th>\n",
       "      <th>groups</th>\n",
       "      <th>group_names</th>\n",
       "    </tr>\n",
       "    <tr>\n",
       "      <th>visitorId</th>\n",
       "      <th></th>\n",
       "      <th></th>\n",
       "    </tr>\n",
       "  </thead>\n",
       "  <tbody>\n",
       "    <tr>\n",
       "      <th>8300375</th>\n",
       "      <td>2</td>\n",
       "      <td>[B, A]</td>\n",
       "    </tr>\n",
       "    <tr>\n",
       "      <th>199603092</th>\n",
       "      <td>2</td>\n",
       "      <td>[A, B]</td>\n",
       "    </tr>\n",
       "    <tr>\n",
       "      <th>232979603</th>\n",
       "      <td>2</td>\n",
       "      <td>[B, A]</td>\n",
       "    </tr>\n",
       "    <tr>\n",
       "      <th>237748145</th>\n",
       "      <td>2</td>\n",
       "      <td>[B, A]</td>\n",
       "    </tr>\n",
       "    <tr>\n",
       "      <th>276558944</th>\n",
       "      <td>2</td>\n",
       "      <td>[B, A]</td>\n",
       "    </tr>\n",
       "  </tbody>\n",
       "</table>\n",
       "</div>"
      ],
      "text/plain": [
       "           groups group_names\n",
       "visitorId                    \n",
       "8300375         2      [B, A]\n",
       "199603092       2      [A, B]\n",
       "232979603       2      [B, A]\n",
       "237748145       2      [B, A]\n",
       "276558944       2      [B, A]"
      ]
     },
     "metadata": {},
     "output_type": "display_data"
    },
    {
     "data": {
      "text/html": [
       "<div>\n",
       "<style scoped>\n",
       "    .dataframe tbody tr th:only-of-type {\n",
       "        vertical-align: middle;\n",
       "    }\n",
       "\n",
       "    .dataframe tbody tr th {\n",
       "        vertical-align: top;\n",
       "    }\n",
       "\n",
       "    .dataframe thead th {\n",
       "        text-align: right;\n",
       "    }\n",
       "</style>\n",
       "<table border=\"1\" class=\"dataframe\">\n",
       "  <thead>\n",
       "    <tr style=\"text-align: right;\">\n",
       "      <th></th>\n",
       "      <th>transactionId</th>\n",
       "      <th>visitorId</th>\n",
       "      <th>date</th>\n",
       "      <th>revenue</th>\n",
       "      <th>group</th>\n",
       "    </tr>\n",
       "  </thead>\n",
       "  <tbody>\n",
       "    <tr>\n",
       "      <th>0</th>\n",
       "      <td>3667963787</td>\n",
       "      <td>3312258926</td>\n",
       "      <td>2019-08-15</td>\n",
       "      <td>1650</td>\n",
       "      <td>B</td>\n",
       "    </tr>\n",
       "    <tr>\n",
       "      <th>1</th>\n",
       "      <td>2804400009</td>\n",
       "      <td>3642806036</td>\n",
       "      <td>2019-08-15</td>\n",
       "      <td>730</td>\n",
       "      <td>B</td>\n",
       "    </tr>\n",
       "    <tr>\n",
       "      <th>3</th>\n",
       "      <td>3797467345</td>\n",
       "      <td>1196621759</td>\n",
       "      <td>2019-08-15</td>\n",
       "      <td>9759</td>\n",
       "      <td>B</td>\n",
       "    </tr>\n",
       "    <tr>\n",
       "      <th>4</th>\n",
       "      <td>2282983706</td>\n",
       "      <td>2322279887</td>\n",
       "      <td>2019-08-15</td>\n",
       "      <td>2308</td>\n",
       "      <td>B</td>\n",
       "    </tr>\n",
       "    <tr>\n",
       "      <th>5</th>\n",
       "      <td>182168103</td>\n",
       "      <td>935554773</td>\n",
       "      <td>2019-08-15</td>\n",
       "      <td>2210</td>\n",
       "      <td>B</td>\n",
       "    </tr>\n",
       "  </tbody>\n",
       "</table>\n",
       "</div>"
      ],
      "text/plain": [
       "   transactionId   visitorId       date  revenue group\n",
       "0     3667963787  3312258926 2019-08-15     1650     B\n",
       "1     2804400009  3642806036 2019-08-15      730     B\n",
       "3     3797467345  1196621759 2019-08-15     9759     B\n",
       "4     2282983706  2322279887 2019-08-15     2308     B\n",
       "5      182168103   935554773 2019-08-15     2210     B"
      ]
     },
     "execution_count": 13,
     "metadata": {},
     "output_type": "execute_result"
    }
   ],
   "source": [
    "duplicated_users = orders.groupby('visitorId').agg({'group': ['nunique', 'unique']})\n",
    "duplicated_users.columns = ['groups', 'group_names']\n",
    "duplicated_users = duplicated_users.query('groups > 1')\n",
    "display(duplicated_users.head())\n",
    "\n",
    "# очистка двойных пользователей\n",
    "orders = orders.query('visitorId not in @duplicated_users.index')\n",
    "orders.head()"
   ]
  },
  {
   "cell_type": "markdown",
   "id": "3ad4c2b0",
   "metadata": {},
   "source": [
    "Еще раз проверим количество пользователей в группах"
   ]
  },
  {
   "cell_type": "code",
   "execution_count": 14,
   "id": "cb7ddbdb",
   "metadata": {},
   "outputs": [
    {
     "name": "stdout",
     "output_type": "stream",
     "text": [
      "       visitorId\n",
      "group           \n",
      "A            468\n",
      "B            548\n"
     ]
    }
   ],
   "source": [
    "print(orders.groupby('group').agg({'visitorId': 'count'}))"
   ]
  },
  {
   "cell_type": "markdown",
   "id": "bfa4b3d7",
   "metadata": {},
   "source": [
    "В А/В тесте участвовало 2 группы. Тест проводился в течение месяца с 01.08.2019 по 31.08.2019. После обнаружения и очистки пользоваталей, попавших в обе группы в группе А осталось 468 пользоваталей, в группе В - 548."
   ]
  },
  {
   "cell_type": "markdown",
   "id": "b9bc84b6-bb8d-4aec-89ab-2342313ad835",
   "metadata": {},
   "source": [
    "Объединим данные для дальнейшего анализа"
   ]
  },
  {
   "cell_type": "code",
   "execution_count": 15,
   "id": "3ecbf6f1-9e94-4804-9298-ed1f0cfe3a1b",
   "metadata": {},
   "outputs": [
    {
     "name": "stdout",
     "output_type": "stream",
     "text": [
      "        date group  orders  buyers  revenue  visitors\n",
      "0 2019-08-01     A      23      19   142779       719\n",
      "1 2019-08-01     B      17      17    59758       713\n",
      "2 2019-08-02     A      42      36   234381      1338\n",
      "3 2019-08-02     B      40      39   221801      1294\n",
      "4 2019-08-03     A      66      60   346854      1845\n"
     ]
    }
   ],
   "source": [
    "# создаем массив уникальных пар значений дат и групп теста\n",
    "datesGroups = orders[['date','group']].drop_duplicates()\n",
    "\n",
    "# получаем агрегированные кумулятивные по дням данные о заказах \n",
    "ordersAggregated = datesGroups.apply(\n",
    "                                     lambda x: orders[np.logical_and(orders['date'] <= x['date'], orders['group'] == x['group'])]\n",
    "                                     .agg({'date' : 'max', 'group' : 'max', 'transactionId' : 'nunique', 'visitorId' : 'nunique', 'revenue' : 'sum'}), axis=1\n",
    "                                    ).sort_values(by=['date','group'])\n",
    "\n",
    "# получаем агрегированные кумулятивные по дням данные о посетителях интернет-магазина \n",
    "visitorsAggregated = datesGroups.apply(\n",
    "                                       lambda x: visitors[np.logical_and(visitors['date'] <= x['date'], visitors['group'] == x['group'])]\n",
    "                                       .agg({'date' : 'max', 'group' : 'max', 'visitors' : 'sum'}), axis=1\n",
    "                                      ).sort_values(by=['date','group'])\n",
    "\n",
    "# объединяем кумулятивные данные в одной таблице и присваиваем ее столбцам понятные названия\n",
    "cumulativeData = ordersAggregated.merge(visitorsAggregated, left_on=['date', 'group'], right_on=['date', 'group'])\n",
    "cumulativeData.columns = ['date', 'group', 'orders', 'buyers', 'revenue', 'visitors']\n",
    "\n",
    "print(cumulativeData.head(5)) "
   ]
  },
  {
   "cell_type": "markdown",
   "id": "0d65c4ec-27c0-458a-8120-5acacb9fe256",
   "metadata": {},
   "source": [
    "Построим график кумулятивной выручки по группам"
   ]
  },
  {
   "cell_type": "code",
   "execution_count": 16,
   "id": "ec7a36eb-6199-48b8-b7ec-6d12ebe5d44c",
   "metadata": {},
   "outputs": [
    {
     "data": {
      "text/plain": [
       "<matplotlib.legend.Legend at 0x1c9de295a30>"
      ]
     },
     "execution_count": 16,
     "metadata": {},
     "output_type": "execute_result"
    },
    {
     "data": {
      "image/png": "[encoded data removed]",
      "text/plain": [
       "<Figure size 432x288 with 1 Axes>"
      ]
     },
     "metadata": {
      "needs_background": "light"
     },
     "output_type": "display_data"
    }
   ],
   "source": [
    "# датафрейм с кумулятивным количеством заказов и кумулятивной выручкой по дням в группе А\n",
    "cumulativeRevenueA = cumulativeData[cumulativeData['group']=='A'][['date','revenue', 'orders']]\n",
    "\n",
    "# датафрейм с кумулятивным количеством заказов и кумулятивной выручкой по дням в группе B\n",
    "cumulativeRevenueB = cumulativeData[cumulativeData['group']=='B'][['date','revenue', 'orders']]\n",
    "\n",
    "# Строим график выручки группы А\n",
    "plt.plot(cumulativeRevenueA['date'], cumulativeRevenueA['revenue'], label='A')\n",
    "\n",
    "# Строим график выручки группы B\n",
    "plt.plot(cumulativeRevenueB['date'], cumulativeRevenueB['revenue'], label='B')\n",
    "\n",
    "plt.title('Кумулятивная выручка по группам')\n",
    "plt.xlabel('Дата')\n",
    "plt.ylabel('Выручка')\n",
    "plt.xticks(rotation=45)\n",
    "plt.legend() "
   ]
  },
  {
   "cell_type": "markdown",
   "id": "cbc5bdbe-2570-4c9e-9300-6162ce641870",
   "metadata": {},
   "source": [
    "Выручка почти равномерно увеличивается в течение всего теста, особенно у группы А.\n",
    "График группы В в одной точке очень резко растет. Это может сигнализировать о всплеске числа заказов, либо о появлении очень дорогих заказов в выборке."
   ]
  },
  {
   "cell_type": "markdown",
   "id": "748882e9",
   "metadata": {},
   "source": [
    "Построим график кумулятивного среднего чека по дням для каждой группы."
   ]
  },
  {
   "cell_type": "code",
   "execution_count": 17,
   "id": "d1645569",
   "metadata": {},
   "outputs": [
    {
     "data": {
      "text/plain": [
       "<matplotlib.legend.Legend at 0x1c9e07c9d60>"
      ]
     },
     "execution_count": 17,
     "metadata": {},
     "output_type": "execute_result"
    },
    {
     "data": {
      "image/png": "[encoded data removed]",
      "text/plain": [
       "<Figure size 432x288 with 1 Axes>"
      ]
     },
     "metadata": {
      "needs_background": "light"
     },
     "output_type": "display_data"
    }
   ],
   "source": [
    "plt.plot(cumulativeRevenueA['date'], cumulativeRevenueA['revenue']/cumulativeRevenueA['orders'], label='A')\n",
    "plt.plot(cumulativeRevenueB['date'], cumulativeRevenueB['revenue']/cumulativeRevenueB['orders'], label='B')\n",
    "\n",
    "\n",
    "plt.title('Кумулятивный средный чек по дням')\n",
    "plt.xlabel('Дата')\n",
    "plt.ylabel('Средний чек')\n",
    "plt.xticks(rotation=45)\n",
    "plt.legend() "
   ]
  },
  {
   "cell_type": "markdown",
   "id": "2a1d652c",
   "metadata": {},
   "source": [
    "На данном графике опять заметен характерный скачок у группы В. У группы А средний чек относительно стабилен большую часть теста."
   ]
  },
  {
   "cell_type": "markdown",
   "id": "0eacca84-7165-420f-a586-c6505735fafb",
   "metadata": {},
   "source": [
    "Построим график относительного изменения кумулятивного среднего чека группы B к группе A"
   ]
  },
  {
   "cell_type": "code",
   "execution_count": 18,
   "id": "cb2c0112-5ace-4962-8660-6c18c9d3506c",
   "metadata": {},
   "outputs": [
    {
     "data": {
      "text/plain": [
       "<matplotlib.lines.Line2D at 0x1c9e086d3d0>"
      ]
     },
     "execution_count": 18,
     "metadata": {},
     "output_type": "execute_result"
    },
    {
     "data": {
      "image/png": "[encoded data removed]",
      "text/plain": [
       "<Figure size 432x288 with 1 Axes>"
      ]
     },
     "metadata": {
      "needs_background": "light"
     },
     "output_type": "display_data"
    }
   ],
   "source": [
    "mergedCumulativeRevenue = cumulativeRevenueA.merge(cumulativeRevenueB, left_on='date', right_on='date', how='left', suffixes=['A', 'B'])\n",
    "\n",
    "# cтроим отношение средних чеков\n",
    "plt.plot(mergedCumulativeRevenue['date'], (mergedCumulativeRevenue['revenueB']/mergedCumulativeRevenue['ordersB'])/(mergedCumulativeRevenue['revenueA']/mergedCumulativeRevenue['ordersA'])-1)\n",
    "\n",
    "# добавляем ось X, подписи и меняем угол наклона подписи\n",
    "plt.title('Относительное изменение кумулятивного среднего чека группы B к группе A')\n",
    "plt.xlabel('Дата')\n",
    "plt.ylabel('Отношение средних чеков')\n",
    "plt.xticks(rotation=45)\n",
    "plt.axhline(y=0, color='black', linestyle='--')"
   ]
  },
  {
   "cell_type": "markdown",
   "id": "d72ad6ba-2970-4aa8-97e1-6b62628742e6",
   "metadata": {},
   "source": [
    "В некоторые даты результаты теста сильно резко менялись. Возможно именно в эти даны были совершены аномальные заказы."
   ]
  },
  {
   "cell_type": "markdown",
   "id": "2f07554e-f306-4d9f-90bc-dc5a808ef3b2",
   "metadata": {},
   "source": [
    "Построим график кумулятивной конверсии по группам."
   ]
  },
  {
   "cell_type": "code",
   "execution_count": 19,
   "id": "f6bbf223-8fd5-48b5-885c-34e352069c1d",
   "metadata": {},
   "outputs": [
    {
     "data": {
      "text/plain": [
       "(18109.0, 18140.0, 0.0, 0.04)"
      ]
     },
     "execution_count": 19,
     "metadata": {},
     "output_type": "execute_result"
    },
    {
     "data": {
      "image/png": "[encoded data removed]",
      "text/plain": [
       "<Figure size 432x288 with 1 Axes>"
      ]
     },
     "metadata": {
      "needs_background": "light"
     },
     "output_type": "display_data"
    }
   ],
   "source": [
    "# создадим столбец с конверссией\n",
    "cumulativeData['conversion'] = cumulativeData['orders']/cumulativeData['visitors']\n",
    "\n",
    "# отделяем данные по группе A\n",
    "cumulativeDataA = cumulativeData[cumulativeData['group']=='A']\n",
    "\n",
    "# отделяем данные по группе B\n",
    "cumulativeDataB = cumulativeData[cumulativeData['group']=='B']\n",
    "\n",
    "# строим графики\n",
    "plt.plot(cumulativeDataA['date'], cumulativeDataA['conversion'], label='A')\n",
    "plt.plot(cumulativeDataB['date'], cumulativeDataB['conversion'], label='B')\n",
    "\n",
    "plt.title('Кумулятивная конверсия по группам')\n",
    "plt.xlabel('Дата')\n",
    "plt.ylabel('Конверсия')\n",
    "plt.xticks(rotation=45)\n",
    "plt.legend()\n",
    "\n",
    "# задаем масштаб осей\n",
    "plt.axis([dt.datetime(2019, 8, 1), dt.datetime(2019, 9, 1), 0, 0.04])"
   ]
  },
  {
   "cell_type": "markdown",
   "id": "950d3486-b6e0-4cd0-a5aa-60023b7fbed0",
   "metadata": {},
   "source": [
    "В самом начале теста конверсия группы А была выше, через несколько дней группа В взяла уверенное лидерство, которое стабильно держалось примерно на одном уровне до конца теста."
   ]
  },
  {
   "cell_type": "markdown",
   "id": "7bbe381a-609a-4f8a-a558-3bc880341d30",
   "metadata": {},
   "source": [
    "Построим график относительного изменения кумулятивной конверсии группы B к группе A."
   ]
  },
  {
   "cell_type": "code",
   "execution_count": 20,
   "id": "68f9b516-ea0e-402c-a601-ade886c58e2a",
   "metadata": {},
   "outputs": [
    {
     "data": {
      "text/plain": [
       "(18109.0, 18140.0, -0.5, 0.5)"
      ]
     },
     "execution_count": 20,
     "metadata": {},
     "output_type": "execute_result"
    },
    {
     "data": {
      "image/png": "[encoded data removed]",
      "text/plain": [
       "<Figure size 432x288 with 1 Axes>"
      ]
     },
     "metadata": {
      "needs_background": "light"
     },
     "output_type": "display_data"
    }
   ],
   "source": [
    "mergedCumulativeConversions = cumulativeDataA[['date','conversion']].merge(cumulativeDataB[['date','conversion']], left_on='date', right_on='date', how='left', suffixes=['A', 'B'])\n",
    "\n",
    "plt.plot(mergedCumulativeConversions['date'], mergedCumulativeConversions['conversionB']/mergedCumulativeConversions['conversionA']-1)\n",
    "plt.xticks(rotation=45)\n",
    "plt.title('Относительное изменение кумулятивной конверсии группы B к группе A')\n",
    "plt.xlabel('Дата')\n",
    "plt.ylabel('Отношение конверсий')\n",
    "\n",
    "plt.axhline(y=0, color='black', linestyle='--')\n",
    "plt.axhline(y=0.15, color='grey', linestyle='--')\n",
    "plt.axis([dt.datetime(2019, 8, 1), dt.datetime(2019, 9, 1), -0.5, 0.5])"
   ]
  },
  {
   "cell_type": "markdown",
   "id": "496397c0-691e-4195-bf91-f5157f3c17db",
   "metadata": {},
   "source": [
    "Практически с самого начала группа B лидирует по конверсии и зафиксировалась около прироста примерно в 15 % относительно группы А"
   ]
  },
  {
   "cell_type": "markdown",
   "id": "38bd83fc-9f4b-4d57-b771-523ad538d93b",
   "metadata": {},
   "source": [
    "Построим точечный график количества заказов по пользователям"
   ]
  },
  {
   "cell_type": "code",
   "execution_count": 21,
   "id": "6a696681-540a-420b-8e8b-f2e49f15ef5b",
   "metadata": {},
   "outputs": [
    {
     "name": "stdout",
     "output_type": "stream",
     "text": [
      "      visitorId  orders\n",
      "908  3967698036       3\n",
      "55    249864742       3\n",
      "478  2108163459       3\n",
      "687  2988190573       3\n",
      "890  3908431265       3\n",
      "138   611059232       3\n",
      "632  2742574263       3\n",
      "157   678354126       2\n",
      "323  1404560065       2\n",
      "452  1985475298       2\n",
      "<matplotlib.collections.PathCollection object at 0x000001C9E09A9F10>\n"
     ]
    },
    {
     "data": {
      "image/png": "[encoded data removed]",
      "text/plain": [
       "<Figure size 432x288 with 1 Axes>"
      ]
     },
     "metadata": {
      "needs_background": "light"
     },
     "output_type": "display_data"
    }
   ],
   "source": [
    "ordersByUsers = (\n",
    "    orders.groupby('visitorId', as_index=False)\n",
    "    .agg({'transactionId': 'nunique'})\n",
    ")\n",
    "ordersByUsers.columns = ['visitorId', 'orders']\n",
    "\n",
    "print(ordersByUsers.sort_values(by='orders', ascending=False).head(10))\n",
    "\n",
    "# серия из чисел от 0 до количества наблюдений в ordersByUsers\n",
    "x_values = pd.Series(range(0, len(ordersByUsers)))\n",
    "\n",
    "print(plt.scatter(x_values, ordersByUsers['orders']))"
   ]
  },
  {
   "cell_type": "markdown",
   "id": "4906a3b3-fcb7-4599-8787-f57e63e716ab",
   "metadata": {},
   "source": [
    "Пользователей, заказавших более 2 раз, очень мало. Проверим, можно ли считать их аномальными."
   ]
  },
  {
   "cell_type": "markdown",
   "id": "4951bd80-03d7-479e-93c3-cd94b82c93b3",
   "metadata": {},
   "source": [
    "Посчитаем 95-й и 99-й перцентили количества заказов на пользователя."
   ]
  },
  {
   "cell_type": "code",
   "execution_count": 22,
   "id": "6c376535-ad76-4ff3-8659-9f2585b5f65c",
   "metadata": {},
   "outputs": [
    {
     "name": "stdout",
     "output_type": "stream",
     "text": [
      "[1. 2.]\n"
     ]
    }
   ],
   "source": [
    "print(np.percentile(ordersByUsers['orders'], [95, 99]))"
   ]
  },
  {
   "cell_type": "markdown",
   "id": "358acc7d-563a-49b0-82d4-0959c61bbd38",
   "metadata": {},
   "source": [
    "Не более 5% совершили больше 2 заказов. И только 1 % совершил более 4 заказов."
   ]
  },
  {
   "cell_type": "markdown",
   "id": "5d0759c7-ffa1-42de-a937-149d7b5b4fc4",
   "metadata": {},
   "source": [
    "Построим точечный график стоимостей заказов."
   ]
  },
  {
   "cell_type": "code",
   "execution_count": 23,
   "id": "8eae184c-4930-4abb-9f7e-9972abb83c58",
   "metadata": {},
   "outputs": [
    {
     "name": "stdout",
     "output_type": "stream",
     "text": [
      "      transactionId   visitorId       date  revenue group\n",
      "425       590470918  1920142716 2019-08-19  1294500     B\n",
      "1196     3936777065  2108080724 2019-08-15   202740     B\n",
      "1136      666610489  1307669133 2019-08-13    92550     A\n",
      "744      3668308183   888512513 2019-08-27    86620     B\n",
      "743      3603576309  4133034833 2019-08-09    67990     A\n",
      "1103     1348774318  1164614297 2019-08-12    66350     A\n",
      "1099      316924019   148427295 2019-08-12    65710     A\n",
      "949      1347999392   887908475 2019-08-21    60450     A\n",
      "940      2420050534  4003628586 2019-08-08    58550     B\n",
      "131      3163614039  2254586615 2019-08-22    53904     A\n",
      "<matplotlib.collections.PathCollection object at 0x000001C9E0A23970>\n"
     ]
    },
    {
     "data": {
      "image/png": "[encoded data removed]",
      "text/plain": [
       "<Figure size 432x288 with 1 Axes>"
      ]
     },
     "metadata": {
      "needs_background": "light"
     },
     "output_type": "display_data"
    }
   ],
   "source": [
    "print(orders.sort_values(by='revenue', ascending=False).head(10))\n",
    "\n",
    "x_values = pd.Series(range(0, len(orders['revenue'])))\n",
    "\n",
    "print(plt.scatter(x_values, orders['revenue']))"
   ]
  },
  {
   "cell_type": "markdown",
   "id": "acd47c2f-9f6e-4b98-82db-4275fad08249",
   "metadata": {},
   "source": [
    "Наблюдается пара выбросов в районе 2 млн и 200 тысяч."
   ]
  },
  {
   "cell_type": "markdown",
   "id": "27c3a509-6ce7-4815-b9fc-d3688cbdf8cd",
   "metadata": {},
   "source": [
    "Посчитаем 95-й и 99-й перцентили стоимости заказов."
   ]
  },
  {
   "cell_type": "code",
   "execution_count": 24,
   "id": "e0ebfa97-27db-48be-a486-3cd1322467cd",
   "metadata": {},
   "outputs": [
    {
     "name": "stdout",
     "output_type": "stream",
     "text": [
      "[26785. 53904.]\n"
     ]
    }
   ],
   "source": [
    "print(np.percentile(orders['revenue'], [95, 99]))"
   ]
  },
  {
   "cell_type": "markdown",
   "id": "32f19995-4301-4daf-941c-ac2d1b644e7e",
   "metadata": {},
   "source": [
    "Не более чем у 5% стоимость заказа больше 28 тысяч. И не более чем у 1% чек дороже 58233 тысяч."
   ]
  },
  {
   "cell_type": "markdown",
   "id": "49e100ac",
   "metadata": {},
   "source": [
    "Примем за аномальных пользователей тех, кто совершил от 2 заказов или совершил заказ дороже 40 000 рублей. Так мы уберём 5% пользователей с наибольшим числом заказов и от 1% до 5% пользователей с дорогими заказами. Далее при очистке данных сделаем срезы пользователей с числом заказов больше 2 и пользователей, совершивших заказы дороже 40 000."
   ]
  },
  {
   "cell_type": "markdown",
   "id": "7cb73e1e-f859-4e8b-9d94-2a9e73a11908",
   "metadata": {},
   "source": [
    "Посчитаем статистическую значимость различий в конверсии между группами по «сырым» данным. Для провеки здесь и далее будем использовать U-критерий Манна-Уитни. Критический уровень значимости определим на уровне 0.05.\n",
    "Сформулируем гипотезы. Нулевая: различий в конверсии между группами нет. Альтернативная: различия в конверсии между группами есть."
   ]
  },
  {
   "cell_type": "code",
   "execution_count": 25,
   "id": "31ee66ad-1041-4e37-8720-92d532aac7d6",
   "metadata": {},
   "outputs": [
    {
     "name": "stdout",
     "output_type": "stream",
     "text": [
      "P-value: 0.01102\n",
      "Относительный прирост конверсии: 0.160\n"
     ]
    }
   ],
   "source": [
    "visitorsADaily = visitors[visitors['group'] == 'A'][['date', 'visitors']]\n",
    "visitorsADaily.columns = ['date', 'visitorsPerDateA']\n",
    "\n",
    "visitorsACummulative = visitorsADaily.apply(\n",
    "    lambda x: visitorsADaily[visitorsADaily['date'] <= x['date']].agg(\n",
    "        {'date': 'max', 'visitorsPerDateA': 'sum'}\n",
    "    ),\n",
    "    axis=1,\n",
    ")\n",
    "visitorsACummulative.columns = ['date', 'visitorsCummulativeA']\n",
    "\n",
    "visitorsBDaily = visitors[visitors['group'] == 'B'][['date', 'visitors']]\n",
    "visitorsBDaily.columns = ['date', 'visitorsPerDateB']\n",
    "\n",
    "visitorsBCummulative = visitorsBDaily.apply(\n",
    "    lambda x: visitorsBDaily[visitorsBDaily['date'] <= x['date']].agg(\n",
    "        {'date': 'max', 'visitorsPerDateB': 'sum'}\n",
    "    ),\n",
    "    axis=1,\n",
    ")\n",
    "visitorsBCummulative.columns = ['date', 'visitorsCummulativeB']\n",
    "\n",
    "ordersADaily = (\n",
    "    orders[orders['group'] == 'A'][['date', 'transactionId', 'visitorId', 'revenue']]\n",
    "    .groupby('date', as_index=False)\n",
    "    .agg({'transactionId': pd.Series.nunique, 'revenue': 'sum'})\n",
    ")\n",
    "ordersADaily.columns = ['date', 'ordersPerDateA', 'revenuePerDateA']\n",
    "\n",
    "ordersACummulative = ordersADaily.apply(\n",
    "    lambda x: ordersADaily[ordersADaily['date'] <= x['date']].agg(\n",
    "        {'date': 'max', 'ordersPerDateA': 'sum', 'revenuePerDateA': 'sum'}\n",
    "    ),\n",
    "    axis=1,\n",
    ").sort_values(by=['date'])\n",
    "ordersACummulative.columns = [\n",
    "    'date',\n",
    "    'ordersCummulativeA',\n",
    "    'revenueCummulativeA',\n",
    "]\n",
    "\n",
    "ordersBDaily = (\n",
    "    orders[orders['group'] == 'B'][['date', 'transactionId', 'visitorId', 'revenue']]\n",
    "    .groupby('date', as_index=False)\n",
    "    .agg({'transactionId': pd.Series.nunique, 'revenue': 'sum'})\n",
    ")\n",
    "ordersBDaily.columns = ['date', 'ordersPerDateB', 'revenuePerDateB']\n",
    "\n",
    "ordersBCummulative = ordersBDaily.apply(\n",
    "    lambda x: ordersBDaily[ordersBDaily['date'] <= x['date']].agg(\n",
    "        {'date': 'max', 'ordersPerDateB': 'sum', 'revenuePerDateB': 'sum'}\n",
    "    ),\n",
    "    axis=1,\n",
    ").sort_values(by=['date'])\n",
    "ordersBCummulative.columns = [\n",
    "    'date',\n",
    "    'ordersCummulativeB',\n",
    "    'revenueCummulativeB',\n",
    "]\n",
    "\n",
    "data = (\n",
    "    ordersADaily.merge(\n",
    "        ordersBDaily, left_on='date', right_on='date', how='left'\n",
    "    )\n",
    "    .merge(ordersACummulative, left_on='date', right_on='date', how='left')\n",
    "    .merge(ordersBCummulative, left_on='date', right_on='date', how='left')\n",
    "    .merge(visitorsADaily, left_on='date', right_on='date', how='left')\n",
    "    .merge(visitorsBDaily, left_on='date', right_on='date', how='left')\n",
    "    .merge(visitorsACummulative, left_on='date', right_on='date', how='left')\n",
    "    .merge(visitorsBCummulative, left_on='date', right_on='date', how='left')\n",
    ")\n",
    "\n",
    "\n",
    "ordersByUsersA = (\n",
    "    orders[orders['group'] == 'A']\n",
    "    .groupby('visitorId', as_index=False)\n",
    "    .agg({'transactionId': pd.Series.nunique})\n",
    ")\n",
    "ordersByUsersA.columns = ['userId', 'orders']\n",
    "\n",
    "ordersByUsersB = (\n",
    "    orders[orders['group'] == 'B']\n",
    "    .groupby('visitorId', as_index=False)\n",
    "    .agg({'transactionId': pd.Series.nunique})\n",
    ")\n",
    "ordersByUsersB.columns = ['userId', 'orders'] \n",
    "\n",
    "sampleA = pd.concat([ordersByUsersA['orders'],pd.Series(0, index=np.arange(data['visitorsPerDateA'].sum() - len(ordersByUsersA['orders'])), name='orders')],axis=0)\n",
    "\n",
    "sampleB = pd.concat([ordersByUsersB['orders'],pd.Series(0, index=np.arange(data['visitorsPerDateB'].sum() - len(ordersByUsersB['orders'])), name='orders')],axis=0)\n",
    "\n",
    "ordersByUsersA = (\n",
    "    orders[orders['group'] == 'A']\n",
    "    .groupby('visitorId', as_index=False)\n",
    "    .agg({'transactionId': pd.Series.nunique})\n",
    ")\n",
    "ordersByUsersA.columns = ['userId', 'orders']\n",
    "\n",
    "ordersByUsersB = (\n",
    "    orders[orders['group'] == 'B']\n",
    "    .groupby('visitorId', as_index=False)\n",
    "    .agg({'transactionId': pd.Series.nunique})\n",
    ")\n",
    "ordersByUsersB.columns = ['userId', 'orders']\n",
    "\n",
    "sampleA = pd.concat(\n",
    "    [\n",
    "        ordersByUsersA['orders'],\n",
    "        pd.Series(\n",
    "            0,\n",
    "            index=np.arange(\n",
    "                data['visitorsPerDateA'].sum() - len(ordersByUsersA['orders'])\n",
    "            ),\n",
    "            name='orders',\n",
    "        ),\n",
    "    ],\n",
    "    axis=0,\n",
    ")\n",
    "\n",
    "sampleB = pd.concat(\n",
    "    [\n",
    "        ordersByUsersB['orders'],\n",
    "        pd.Series(\n",
    "            0,\n",
    "            index=np.arange(\n",
    "                data['visitorsPerDateB'].sum() - len(ordersByUsersB['orders'])\n",
    "            ),\n",
    "            name='orders',\n",
    "        ),\n",
    "    ],\n",
    "    axis=0,\n",
    ")\n",
    "\n",
    "print('P-value:', \"{0:.5f}\".format(stats.mannwhitneyu(sampleA, sampleB)[1]))\n",
    "\n",
    "print('Относительный прирост конверсии:', \"{0:.3f}\".format(sampleB.mean() / sampleA.mean() - 1))"
   ]
  },
  {
   "cell_type": "markdown",
   "id": "4b56f0a0-eaf9-4ec6-aee1-a5761d5791f9",
   "metadata": {},
   "source": [
    "P-value меньше 0.05, поэтому нулевую гипотезу можно отвергнуть. Судя по анализу сырых данных, в конверсии между группами есть статистически значимые различия. Относительный прирост конверсии группы В к конверсии группы А = 13%"
   ]
  },
  {
   "cell_type": "markdown",
   "id": "83e93529-1d09-4c82-a2e8-6205b126ca33",
   "metadata": {},
   "source": [
    "Посчитаем статистическую значимость различий в среднем чеке заказа между группами по «сырым» данным. Нулевая гипотеза: различий в среднем чеке между группами нет. Альтернативная гипотеза: различия в среднем чеке между группами есть. "
   ]
  },
  {
   "cell_type": "code",
   "execution_count": 26,
   "id": "1eecf243-dd70-4f10-937e-5cd483fc36d8",
   "metadata": {},
   "outputs": [
    {
     "name": "stdout",
     "output_type": "stream",
     "text": [
      "P-value: 0.829\n",
      "Относительное различие среднего чека между группами: 0.287\n"
     ]
    }
   ],
   "source": [
    "print('P-value:', '{0:.3f}'.format(stats.mannwhitneyu(orders[orders['group']=='A']['revenue'], orders[orders['group']=='B']['revenue'])[1]))\n",
    "print('Относительное различие среднего чека между группами:', '{0:.3f}'.format(orders[orders['group']=='B']['revenue'].mean()/orders[orders['group']=='A']['revenue'].mean()-1)) "
   ]
  },
  {
   "cell_type": "markdown",
   "id": "2860aefd-20e5-41b5-a919-d4deef7207b2",
   "metadata": {},
   "source": [
    "P-value больше 0.05, значит нулевую гипотезу отвергнуть не получится - статистически значимых различий в среднем чеке между группами нет. Относительное различие среднего чека между группами - 28%"
   ]
  },
  {
   "cell_type": "markdown",
   "id": "dc2d4ff5-b647-4354-b573-2d840d6f914b",
   "metadata": {},
   "source": [
    "Посчитаем статистическую значимость различий в конверсии между группами по «очищенным» данным."
   ]
  },
  {
   "cell_type": "markdown",
   "id": "c5aac85a",
   "metadata": {},
   "source": [
    "Напомню, что мы решили принять за аномальных пользователей тех, кто совершил от 2 заказов или совершил заказ дороже 40 000 рублей. Так мы уберём 5% пользователей с наибольшим числом заказов и от 1% до 5% пользователей с дорогими заказами. Сделаем срезы пользователей с числом заказов больше 2 и пользователей, совершивших заказы дороже 40 000."
   ]
  },
  {
   "cell_type": "code",
   "execution_count": 27,
   "id": "4f1b31d6-1908-4026-81e6-99911de48e7e",
   "metadata": {},
   "outputs": [
    {
     "name": "stdout",
     "output_type": "stream",
     "text": [
      "1099    148427295\n",
      "33      249864742\n",
      "684     358944393\n",
      "648     382846391\n",
      "58      611059232\n",
      "dtype: int64\n"
     ]
    },
    {
     "data": {
      "text/plain": [
       "30"
      ]
     },
     "execution_count": 27,
     "metadata": {},
     "output_type": "execute_result"
    }
   ],
   "source": [
    "# подготовка очищенных данных\n",
    "usersWithManyOrders = pd.concat(\n",
    "    [\n",
    "        ordersByUsersA[ordersByUsersA['orders'] > 2]['userId'], # отсев 5% пользователей с наибольшим числом заказов\n",
    "        ordersByUsersB[ordersByUsersB['orders'] > 2]['userId'],\n",
    "    ],\n",
    "    axis=0,\n",
    ")\n",
    "usersWithExpensiveOrders = orders[orders['revenue'] > 40000]['visitorId'] # отсев от 1% до 5% заказов с наибольшей стоимостью\n",
    "abnormalUsers = (\n",
    "    pd.concat([usersWithManyOrders, usersWithExpensiveOrders], axis=0)\n",
    "    .drop_duplicates()\n",
    "    .sort_values()\n",
    ")\n",
    "print(abnormalUsers.head(5))\n",
    "abnormalUsers.shape[0]"
   ]
  },
  {
   "cell_type": "markdown",
   "id": "ee7aeb40",
   "metadata": {},
   "source": [
    "Сформулируем гипотезы. Нулевая: различий в конверсии между группами нет. Альтернативная: различия в конверсии между группами есть."
   ]
  },
  {
   "cell_type": "code",
   "execution_count": 28,
   "id": "22505a16-8e16-4a10-960a-0cafb51e3fa0",
   "metadata": {},
   "outputs": [
    {
     "name": "stdout",
     "output_type": "stream",
     "text": [
      "P-value: 0.00442\n",
      "Относительный прирост конверсии: 0.205\n"
     ]
    }
   ],
   "source": [
    "sampleAFiltered = pd.concat(\n",
    "    [\n",
    "        ordersByUsersA[\n",
    "            np.logical_not(ordersByUsersA['userId'].isin(abnormalUsers))\n",
    "        ]['orders'],\n",
    "        pd.Series(\n",
    "            0,\n",
    "            index=np.arange(\n",
    "                data['visitorsPerDateA'].sum() - len(ordersByUsersA['orders'])\n",
    "            ),\n",
    "            name='orders',\n",
    "        ),\n",
    "    ],\n",
    "    axis=0,\n",
    ")\n",
    "\n",
    "sampleBFiltered = pd.concat(\n",
    "    [\n",
    "        ordersByUsersB[\n",
    "            np.logical_not(ordersByUsersB['userId'].isin(abnormalUsers))\n",
    "        ]['orders'],\n",
    "        pd.Series(\n",
    "            0,\n",
    "            index=np.arange(\n",
    "                data['visitorsPerDateB'].sum() - len(ordersByUsersB['orders'])\n",
    "            ),\n",
    "            name='orders',\n",
    "        ),\n",
    "    ],\n",
    "    axis=0,\n",
    ")\n",
    "\n",
    "print('P-value:', '{0:.5f}'.format(stats.mannwhitneyu(sampleAFiltered, sampleBFiltered)[1]))\n",
    "print('Относительный прирост конверсии:', '{0:.3f}'.format(sampleBFiltered.mean()/sampleAFiltered.mean()-1)) "
   ]
  },
  {
   "cell_type": "markdown",
   "id": "b1b0ffab-d54e-4c6c-b2b8-fde5dda447f8",
   "metadata": {},
   "source": [
    "Как и в случае с сырыми данными, статистическая значимость достигнута. Особых различий в результах по сырым данным или очищенным нет. В обоих случаях группа В показывает намного лучшие результаты, чем группа А."
   ]
  },
  {
   "cell_type": "markdown",
   "id": "5436eafb-c415-4926-84c1-e9c935c30913",
   "metadata": {},
   "source": [
    "Посчитаем статистическую значимость различий в среднем чеке заказа между группами по «очищенным» данным.  Нулевая гипотеза: различий в среднем чеке между группами нет. Альтернативная гипотеза: различия в среднем чеке между группами есть. "
   ]
  },
  {
   "cell_type": "code",
   "execution_count": 29,
   "id": "7933b519-3a15-49b4-aeba-ff03cb24cebc",
   "metadata": {},
   "outputs": [
    {
     "name": "stdout",
     "output_type": "stream",
     "text": [
      "P-value: 0.937\n",
      "Относительное различие среднего чека между группами: 0.055\n"
     ]
    }
   ],
   "source": [
    "print('P-value:',\n",
    "    '{0:.3f}'.format(\n",
    "        stats.mannwhitneyu(\n",
    "            orders[\n",
    "                np.logical_and(\n",
    "                    orders['group'] == 'A',\n",
    "                    np.logical_not(orders['visitorId'].isin(abnormalUsers)),\n",
    "                )\n",
    "            ]['revenue'],\n",
    "            orders[\n",
    "                np.logical_and(\n",
    "                    orders['group'] == 'B',\n",
    "                    np.logical_not(orders['visitorId'].isin(abnormalUsers)),\n",
    "                )\n",
    "            ]['revenue'],\n",
    "        )[1]\n",
    "    )\n",
    ")\n",
    "\n",
    "print('Относительное различие среднего чека между группами:',\n",
    "    \"{0:.3f}\".format(\n",
    "        orders[\n",
    "            np.logical_and(\n",
    "                orders['group'] == 'B',\n",
    "                np.logical_not(orders['visitorId'].isin(abnormalUsers)),\n",
    "            )\n",
    "        ]['revenue'].mean()\n",
    "        / orders[\n",
    "            np.logical_and(\n",
    "                orders['group'] == 'A',\n",
    "                np.logical_not(orders['visitorId'].isin(abnormalUsers)),\n",
    "            )\n",
    "        ]['revenue'].mean()\n",
    "        - 1\n",
    "    )\n",
    ") "
   ]
  },
  {
   "cell_type": "markdown",
   "id": "7463a800-7373-48cd-9835-71f16e3fee64",
   "metadata": {},
   "source": [
    "Очистка не повлияла на статистическую значимость различия среднего чека заказов между группами - p-value стало даже еще больше 0.05. Зато сильно упало относительное различие среднего чека."
   ]
  },
  {
   "cell_type": "markdown",
   "id": "e892e667-6f3e-4afd-ab9b-a0fc199253a6",
   "metadata": {},
   "source": [
    "### Вывод"
   ]
  },
  {
   "cell_type": "markdown",
   "id": "a3f57961-7d2a-41cb-86ba-9685e3e6dee4",
   "metadata": {},
   "source": [
    "На данном этате после анализа результатов теста предлагается принять решение остановить тест, зафиксировать победу группы B. И до, и после очистки данных группа В показывает значительный прирост выручки относительно группы А. При том, что существенных различий в среднем чеке между группами не наблюдается. Дальнейший тест вряд ли покажет друие результаты и не имеет смысла."
   ]
  },
  {
   "cell_type": "code",
   "execution_count": null,
   "id": "fcdc3533",
   "metadata": {},
   "outputs": [],
   "source": []
  }
 ],
 "metadata": {
  "ExecuteTimeLog": [
   {
    "duration": 1052,
    "start_time": "2022-05-24T12:25:28.036Z"
   },
   {
    "duration": 35,
    "start_time": "2022-05-24T12:25:29.090Z"
   },
   {
    "duration": 11,
    "start_time": "2022-05-24T12:25:29.128Z"
   },
   {
    "duration": 14,
    "start_time": "2022-05-24T12:25:29.141Z"
   },
   {
    "duration": 61,
    "start_time": "2022-05-24T12:25:29.156Z"
   },
   {
    "duration": 6,
    "start_time": "2022-05-24T12:25:29.218Z"
   },
   {
    "duration": 298,
    "start_time": "2022-05-24T12:25:29.225Z"
   },
   {
    "duration": 309,
    "start_time": "2022-05-24T12:25:29.524Z"
   },
   {
    "duration": 355,
    "start_time": "2022-05-24T12:25:29.835Z"
   },
   {
    "duration": 181,
    "start_time": "2022-05-24T12:25:30.201Z"
   },
   {
    "duration": 296,
    "start_time": "2022-05-24T12:25:30.384Z"
   },
   {
    "duration": 121,
    "start_time": "2022-05-24T12:25:30.682Z"
   },
   {
    "duration": 5,
    "start_time": "2022-05-24T12:25:30.805Z"
   },
   {
    "duration": 146,
    "start_time": "2022-05-24T12:25:30.811Z"
   },
   {
    "duration": 4,
    "start_time": "2022-05-24T12:25:30.959Z"
   },
   {
    "duration": 582,
    "start_time": "2022-05-24T12:25:30.965Z"
   },
   {
    "duration": 9,
    "start_time": "2022-05-24T12:25:31.548Z"
   },
   {
    "duration": 9,
    "start_time": "2022-05-24T12:25:31.558Z"
   },
   {
    "duration": 48,
    "start_time": "2022-05-24T12:25:31.568Z"
   },
   {
    "duration": 13,
    "start_time": "2022-05-24T12:25:31.618Z"
   },
   {
    "duration": 1323,
    "start_time": "2022-05-24T12:45:23.192Z"
   },
   {
    "duration": 90,
    "start_time": "2022-05-24T12:45:24.517Z"
   },
   {
    "duration": 18,
    "start_time": "2022-05-24T12:45:32.021Z"
   },
   {
    "duration": 9,
    "start_time": "2022-05-24T12:45:33.383Z"
   },
   {
    "duration": 7,
    "start_time": "2022-05-24T12:45:40.452Z"
   },
   {
    "duration": 13,
    "start_time": "2022-05-24T12:45:51.656Z"
   },
   {
    "duration": 53,
    "start_time": "2022-05-24T12:46:07.104Z"
   },
   {
    "duration": 15,
    "start_time": "2022-05-24T12:46:09.365Z"
   },
   {
    "duration": 16,
    "start_time": "2022-05-24T12:46:10.937Z"
   },
   {
    "duration": 114,
    "start_time": "2022-05-24T13:12:15.833Z"
   },
   {
    "duration": 3,
    "start_time": "2022-05-24T13:12:24.788Z"
   },
   {
    "duration": 67,
    "start_time": "2022-05-24T13:12:25.470Z"
   },
   {
    "duration": 13,
    "start_time": "2022-05-24T13:12:26.491Z"
   },
   {
    "duration": 13,
    "start_time": "2022-05-24T13:12:26.834Z"
   },
   {
    "duration": 211,
    "start_time": "2022-05-24T13:12:30.306Z"
   },
   {
    "duration": 7,
    "start_time": "2022-05-24T13:12:31.462Z"
   },
   {
    "duration": 10,
    "start_time": "2022-05-24T13:12:32.528Z"
   },
   {
    "duration": 20,
    "start_time": "2022-05-24T13:13:21.531Z"
   },
   {
    "duration": 18,
    "start_time": "2022-05-24T13:13:40.508Z"
   },
   {
    "duration": 9,
    "start_time": "2022-05-24T13:14:41.912Z"
   },
   {
    "duration": 5,
    "start_time": "2022-05-24T13:19:33.288Z"
   },
   {
    "duration": 6,
    "start_time": "2022-05-24T13:20:21.591Z"
   },
   {
    "duration": 4,
    "start_time": "2022-05-24T13:20:29.023Z"
   },
   {
    "duration": 5,
    "start_time": "2022-05-24T13:21:14.196Z"
   },
   {
    "duration": 5,
    "start_time": "2022-05-24T13:21:55.497Z"
   },
   {
    "duration": 6,
    "start_time": "2022-05-24T13:22:16.419Z"
   },
   {
    "duration": 6,
    "start_time": "2022-05-24T13:22:23.719Z"
   },
   {
    "duration": 5,
    "start_time": "2022-05-24T13:23:02.955Z"
   },
   {
    "duration": 7,
    "start_time": "2022-05-24T13:25:45.689Z"
   },
   {
    "duration": 7,
    "start_time": "2022-05-24T13:27:05.321Z"
   },
   {
    "duration": 12,
    "start_time": "2022-05-24T13:34:53.345Z"
   },
   {
    "duration": 71,
    "start_time": "2022-05-24T13:35:01.651Z"
   },
   {
    "duration": 89,
    "start_time": "2022-05-24T13:35:08.717Z"
   },
   {
    "duration": 64,
    "start_time": "2022-05-24T13:35:26.551Z"
   },
   {
    "duration": 3,
    "start_time": "2022-05-24T13:35:36.198Z"
   },
   {
    "duration": 434,
    "start_time": "2022-05-24T13:35:36.827Z"
   },
   {
    "duration": 11,
    "start_time": "2022-05-24T13:35:37.644Z"
   },
   {
    "duration": 15,
    "start_time": "2022-05-24T13:35:37.935Z"
   },
   {
    "duration": 140,
    "start_time": "2022-05-24T13:35:39.941Z"
   },
   {
    "duration": 6,
    "start_time": "2022-05-24T13:35:40.237Z"
   },
   {
    "duration": 9,
    "start_time": "2022-05-24T13:35:41.587Z"
   },
   {
    "duration": 19,
    "start_time": "2022-05-24T13:35:42.171Z"
   },
   {
    "duration": 11,
    "start_time": "2022-05-24T13:35:43.014Z"
   },
   {
    "duration": 4,
    "start_time": "2022-05-24T13:35:46.285Z"
   },
   {
    "duration": 4,
    "start_time": "2022-05-24T13:35:49.755Z"
   },
   {
    "duration": 6,
    "start_time": "2022-05-24T13:35:50.489Z"
   },
   {
    "duration": 79,
    "start_time": "2022-05-24T13:35:51.521Z"
   },
   {
    "duration": 7,
    "start_time": "2022-05-24T13:36:30.522Z"
   },
   {
    "duration": 36,
    "start_time": "2022-05-24T13:42:40.841Z"
   },
   {
    "duration": 289,
    "start_time": "2022-05-24T13:43:04.258Z"
   },
   {
    "duration": 294,
    "start_time": "2022-05-24T13:44:16.717Z"
   },
   {
    "duration": 505,
    "start_time": "2022-05-24T13:48:33.449Z"
   },
   {
    "duration": 340,
    "start_time": "2022-05-24T13:49:37.133Z"
   },
   {
    "duration": 45,
    "start_time": "2022-05-24T13:55:59.806Z"
   },
   {
    "duration": 200,
    "start_time": "2022-05-24T13:56:06.748Z"
   },
   {
    "duration": 214,
    "start_time": "2022-05-24T13:57:26.212Z"
   },
   {
    "duration": 360,
    "start_time": "2022-05-24T14:01:53.764Z"
   },
   {
    "duration": 233,
    "start_time": "2022-05-24T14:02:37.124Z"
   },
   {
    "duration": 258,
    "start_time": "2022-05-24T14:02:56.827Z"
   },
   {
    "duration": 324,
    "start_time": "2022-05-24T14:03:45.964Z"
   },
   {
    "duration": 526,
    "start_time": "2022-05-24T14:14:51.226Z"
   },
   {
    "duration": 476,
    "start_time": "2022-05-24T14:18:52.715Z"
   },
   {
    "duration": 9,
    "start_time": "2022-05-24T14:20:00.661Z"
   },
   {
    "duration": 12,
    "start_time": "2022-05-24T14:24:56.125Z"
   },
   {
    "duration": 1139,
    "start_time": "2022-05-24T14:25:05.995Z"
   },
   {
    "duration": 38,
    "start_time": "2022-05-24T14:25:07.136Z"
   },
   {
    "duration": 12,
    "start_time": "2022-05-24T14:25:07.176Z"
   },
   {
    "duration": 11,
    "start_time": "2022-05-24T14:25:07.190Z"
   },
   {
    "duration": 58,
    "start_time": "2022-05-24T14:25:07.202Z"
   },
   {
    "duration": 6,
    "start_time": "2022-05-24T14:25:07.261Z"
   },
   {
    "duration": 13,
    "start_time": "2022-05-24T14:25:07.269Z"
   },
   {
    "duration": 18,
    "start_time": "2022-05-24T14:25:07.284Z"
   },
   {
    "duration": 7,
    "start_time": "2022-05-24T14:25:07.304Z"
   },
   {
    "duration": 4,
    "start_time": "2022-05-24T14:25:07.314Z"
   },
   {
    "duration": 11,
    "start_time": "2022-05-24T14:25:07.319Z"
   },
   {
    "duration": 10,
    "start_time": "2022-05-24T14:25:07.332Z"
   },
   {
    "duration": 139,
    "start_time": "2022-05-24T14:25:07.344Z"
   },
   {
    "duration": 16,
    "start_time": "2022-05-24T14:25:07.485Z"
   },
   {
    "duration": 387,
    "start_time": "2022-05-24T14:25:07.504Z"
   },
   {
    "duration": 342,
    "start_time": "2022-05-24T14:25:07.893Z"
   },
   {
    "duration": 270,
    "start_time": "2022-05-24T14:25:08.237Z"
   },
   {
    "duration": 277,
    "start_time": "2022-05-24T14:25:08.509Z"
   },
   {
    "duration": 216,
    "start_time": "2022-05-24T14:25:08.787Z"
   },
   {
    "duration": 293,
    "start_time": "2022-05-24T14:25:09.004Z"
   },
   {
    "duration": 143,
    "start_time": "2022-05-24T14:25:09.299Z"
   },
   {
    "duration": 4,
    "start_time": "2022-05-24T14:25:09.444Z"
   },
   {
    "duration": 138,
    "start_time": "2022-05-24T14:25:09.449Z"
   },
   {
    "duration": 5,
    "start_time": "2022-05-24T14:25:09.594Z"
   },
   {
    "duration": 464,
    "start_time": "2022-05-24T14:25:09.601Z"
   },
   {
    "duration": 11,
    "start_time": "2022-05-24T14:25:10.067Z"
   },
   {
    "duration": 28,
    "start_time": "2022-05-24T14:25:10.079Z"
   },
   {
    "duration": 31,
    "start_time": "2022-05-24T14:25:10.110Z"
   },
   {
    "duration": 12,
    "start_time": "2022-05-24T14:25:10.143Z"
   },
   {
    "duration": 32,
    "start_time": "2022-05-24T14:28:35.594Z"
   },
   {
    "duration": 14,
    "start_time": "2022-05-24T14:29:15.954Z"
   },
   {
    "duration": 1183,
    "start_time": "2022-05-25T12:30:53.917Z"
   },
   {
    "duration": 46,
    "start_time": "2022-05-25T12:30:55.103Z"
   },
   {
    "duration": 18,
    "start_time": "2022-05-25T12:30:55.152Z"
   },
   {
    "duration": 13,
    "start_time": "2022-05-25T12:30:55.173Z"
   },
   {
    "duration": 71,
    "start_time": "2022-05-25T12:30:55.188Z"
   },
   {
    "duration": 6,
    "start_time": "2022-05-25T12:30:55.261Z"
   },
   {
    "duration": 16,
    "start_time": "2022-05-25T12:30:55.270Z"
   },
   {
    "duration": 22,
    "start_time": "2022-05-25T12:30:55.288Z"
   },
   {
    "duration": 11,
    "start_time": "2022-05-25T12:30:55.312Z"
   },
   {
    "duration": 6,
    "start_time": "2022-05-25T12:30:55.326Z"
   },
   {
    "duration": 8,
    "start_time": "2022-05-25T12:30:55.334Z"
   },
   {
    "duration": 14,
    "start_time": "2022-05-25T12:30:55.343Z"
   },
   {
    "duration": 153,
    "start_time": "2022-05-25T12:30:55.360Z"
   },
   {
    "duration": 9,
    "start_time": "2022-05-25T12:30:55.517Z"
   },
   {
    "duration": 391,
    "start_time": "2022-05-25T12:30:55.527Z"
   },
   {
    "duration": 339,
    "start_time": "2022-05-25T12:30:55.920Z"
   },
   {
    "duration": 275,
    "start_time": "2022-05-25T12:30:56.260Z"
   },
   {
    "duration": 338,
    "start_time": "2022-05-25T12:30:56.537Z"
   },
   {
    "duration": 247,
    "start_time": "2022-05-25T12:30:56.877Z"
   },
   {
    "duration": 336,
    "start_time": "2022-05-25T12:30:57.126Z"
   },
   {
    "duration": 148,
    "start_time": "2022-05-25T12:30:57.464Z"
   },
   {
    "duration": 5,
    "start_time": "2022-05-25T12:30:57.614Z"
   },
   {
    "duration": 142,
    "start_time": "2022-05-25T12:30:57.621Z"
   },
   {
    "duration": 5,
    "start_time": "2022-05-25T12:30:57.766Z"
   },
   {
    "duration": 493,
    "start_time": "2022-05-25T12:30:57.773Z"
   },
   {
    "duration": 11,
    "start_time": "2022-05-25T12:30:58.268Z"
   },
   {
    "duration": 32,
    "start_time": "2022-05-25T12:30:58.281Z"
   },
   {
    "duration": 36,
    "start_time": "2022-05-25T12:30:58.316Z"
   },
   {
    "duration": 16,
    "start_time": "2022-05-25T12:30:58.354Z"
   }
  ],
  "kernelspec": {
   "display_name": "Python 3",
   "language": "python",
   "name": "python3"
  },
  "language_info": {
   "codemirror_mode": {
    "name": "ipython",
    "version": 3
   },
   "file_extension": ".py",
   "mimetype": "text/x-python",
   "name": "python",
   "nbconvert_exporter": "python",
   "pygments_lexer": "ipython3",
   "version": "3.8.7"
  },
  "toc": {
   "base_numbering": 1,
   "nav_menu": {},
   "number_sections": false,
   "sideBar": true,
   "skip_h1_title": false,
   "title_cell": "Table of Contents",
   "title_sidebar": "Contents",
   "toc_cell": false,
   "toc_position": {},
   "toc_section_display": true,
   "toc_window_display": true
  }
 },
 "nbformat": 4,
 "nbformat_minor": 5
}
