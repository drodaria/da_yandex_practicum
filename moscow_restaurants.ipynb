{
 "cells": [
  {
   "cell_type": "markdown",
   "id": "a6c35786-2b68-4b7f-a904-fd373e270656",
   "metadata": {},
   "source": [
    "<b><font size=5><center>Рынок заведений общественного питания Москвы</center></font></b>"
   ]
  },
  {
   "cell_type": "markdown",
   "id": "263c2eed-e42e-4c46-86d5-0091125464ff",
   "metadata": {},
   "source": [
    "### Суть проекта"
   ]
  },
  {
   "cell_type": "markdown",
   "id": "3136aa40-0d52-4402-96ba-e5549dbc952b",
   "metadata": {},
   "source": [
    "Вы решили открыть небольшое кафе в Москве. Оно оригинальное — гостей должны обслуживать роботы. Проект многообещающий, но дорогой. Вместе с партнёрами вы решились обратиться к инвесторам. Их интересует текущее положение дел на рынке — сможете ли вы снискать популярность на долгое время, когда все зеваки насмотрятся на роботов-официантов?\n",
    "Вы — гуру аналитики, и партнёры просят вас подготовить исследование рынка. У вас есть открытые данные о заведениях общественного питания в Москве."
   ]
  },
  {
   "cell_type": "markdown",
   "id": "dedicated-baltimore",
   "metadata": {},
   "source": [
    "### Описание данных"
   ]
  },
  {
   "cell_type": "markdown",
   "id": "cardiac-poverty",
   "metadata": {},
   "source": [
    "Таблица `rest_data`:\n",
    "- id — идентификатор объекта;\n",
    "- object_name — название объекта общественного питания;\n",
    "- chain — сетевой ресторан;\n",
    "- object_type — тип объекта общественного питания;\n",
    "- address — адрес;\n",
    "- number — количество посадочных мест."
   ]
  },
  {
   "cell_type": "markdown",
   "id": "6cf3fd4f-9be8-423d-88d9-8d529299afb6",
   "metadata": {},
   "source": [
    "### Описание проекта"
   ]
  },
  {
   "cell_type": "markdown",
   "id": "1eb64443-117f-45ea-a6d9-e2f8b273a91b",
   "metadata": {},
   "source": [
    "В ходе выполнения проекта мы получили и проверили данные. Исследовали соотношение видов объектов общественного питания по количеству, соотношение сетевых и несетевых заведений по количеству. Узнали, для какого вида объекта общественного питания характерно сетевое распространение и что характерно для сетевых заведений: много заведений с небольшим числом посадочных мест в каждом или мало заведений с большим количеством посадочных мест. Для каждого вида объекта общественного питания описали среднее количество посадочных мест. Проверили, какой вид предоставляет в среднем самое большое количество посадочных мест. Построили график топ-10 улиц по количеству объектов общественного питания и нашли число улиц с одним объектом общественного питания, разбили по районам с использованием внешней информации. По итоговым данным подготовили презентацию."
   ]
  },
  {
   "cell_type": "markdown",
   "id": "096fa605-33ee-4101-aaae-a6a7eb4acbf4",
   "metadata": {},
   "source": [
    "### Извлечение данных"
   ]
  },
  {
   "cell_type": "code",
   "execution_count": 1,
   "id": "79d7d1f3-3eda-4356-86ed-109ade6177c1",
   "metadata": {},
   "outputs": [],
   "source": [
    "import pandas as pd                    # импорт библиотек\n",
    "import numpy as np\n",
    "import matplotlib.pyplot as plt\n",
    "import scipy.stats as stats\n",
    "import datetime as dt\n",
    "import seaborn as sns\n",
    "import plotly.express as px \n",
    "from plotly import graph_objects as go\n",
    "import warnings\n",
    "warnings.filterwarnings('ignore')"
   ]
  },
  {
   "cell_type": "code",
   "execution_count": 2,
   "id": "bdee0124-cdee-4ccb-bfd8-a527d29ea84f",
   "metadata": {},
   "outputs": [
    {
     "data": {
      "text/html": [
       "<div>\n",
       "<style scoped>\n",
       "    .dataframe tbody tr th:only-of-type {\n",
       "        vertical-align: middle;\n",
       "    }\n",
       "\n",
       "    .dataframe tbody tr th {\n",
       "        vertical-align: top;\n",
       "    }\n",
       "\n",
       "    .dataframe thead th {\n",
       "        text-align: right;\n",
       "    }\n",
       "</style>\n",
       "<table border=\"1\" class=\"dataframe\">\n",
       "  <thead>\n",
       "    <tr style=\"text-align: right;\">\n",
       "      <th></th>\n",
       "      <th>id</th>\n",
       "      <th>object_name</th>\n",
       "      <th>chain</th>\n",
       "      <th>object_type</th>\n",
       "      <th>address</th>\n",
       "      <th>number</th>\n",
       "    </tr>\n",
       "  </thead>\n",
       "  <tbody>\n",
       "    <tr>\n",
       "      <th>0</th>\n",
       "      <td>151635</td>\n",
       "      <td>СМЕТАНА</td>\n",
       "      <td>нет</td>\n",
       "      <td>кафе</td>\n",
       "      <td>город Москва, улица Егора Абакумова, дом 9</td>\n",
       "      <td>48</td>\n",
       "    </tr>\n",
       "    <tr>\n",
       "      <th>1</th>\n",
       "      <td>77874</td>\n",
       "      <td>Родник</td>\n",
       "      <td>нет</td>\n",
       "      <td>кафе</td>\n",
       "      <td>город Москва, улица Талалихина, дом 2/1, корпус 1</td>\n",
       "      <td>35</td>\n",
       "    </tr>\n",
       "    <tr>\n",
       "      <th>2</th>\n",
       "      <td>24309</td>\n",
       "      <td>Кафе «Академия»</td>\n",
       "      <td>нет</td>\n",
       "      <td>кафе</td>\n",
       "      <td>город Москва, Абельмановская улица, дом 6</td>\n",
       "      <td>95</td>\n",
       "    </tr>\n",
       "    <tr>\n",
       "      <th>3</th>\n",
       "      <td>21894</td>\n",
       "      <td>ПИЦЦЕТОРИЯ</td>\n",
       "      <td>да</td>\n",
       "      <td>кафе</td>\n",
       "      <td>город Москва, Абрамцевская улица, дом 1</td>\n",
       "      <td>40</td>\n",
       "    </tr>\n",
       "    <tr>\n",
       "      <th>4</th>\n",
       "      <td>119365</td>\n",
       "      <td>Кафе «Вишневая метель»</td>\n",
       "      <td>нет</td>\n",
       "      <td>кафе</td>\n",
       "      <td>город Москва, Абрамцевская улица, дом 9, корпус 1</td>\n",
       "      <td>50</td>\n",
       "    </tr>\n",
       "  </tbody>\n",
       "</table>\n",
       "</div>"
      ],
      "text/plain": [
       "       id             object_name chain object_type  \\\n",
       "0  151635                 СМЕТАНА   нет        кафе   \n",
       "1   77874                  Родник   нет        кафе   \n",
       "2   24309         Кафе «Академия»   нет        кафе   \n",
       "3   21894              ПИЦЦЕТОРИЯ    да        кафе   \n",
       "4  119365  Кафе «Вишневая метель»   нет        кафе   \n",
       "\n",
       "                                             address  number  \n",
       "0         город Москва, улица Егора Абакумова, дом 9      48  \n",
       "1  город Москва, улица Талалихина, дом 2/1, корпус 1      35  \n",
       "2          город Москва, Абельмановская улица, дом 6      95  \n",
       "3            город Москва, Абрамцевская улица, дом 1      40  \n",
       "4  город Москва, Абрамцевская улица, дом 9, корпус 1      50  "
      ]
     },
     "execution_count": 2,
     "metadata": {},
     "output_type": "execute_result"
    }
   ],
   "source": [
    "data = pd.read_csv(r\"C:\\Users\\mi\\Downloads\\rest_data.csv\")          # выгрузка датафрейма\n",
    "\n",
    "data.head()"
   ]
  },
  {
   "cell_type": "code",
   "execution_count": 3,
   "id": "721f0a8a-b9fd-4d4e-b5ea-716d8d56341a",
   "metadata": {},
   "outputs": [
    {
     "name": "stdout",
     "output_type": "stream",
     "text": [
      "<class 'pandas.core.frame.DataFrame'>\n",
      "RangeIndex: 15366 entries, 0 to 15365\n",
      "Data columns (total 6 columns):\n",
      " #   Column       Non-Null Count  Dtype \n",
      "---  ------       --------------  ----- \n",
      " 0   id           15366 non-null  int64 \n",
      " 1   object_name  15366 non-null  object\n",
      " 2   chain        15366 non-null  object\n",
      " 3   object_type  15366 non-null  object\n",
      " 4   address      15366 non-null  object\n",
      " 5   number       15366 non-null  int64 \n",
      "dtypes: int64(2), object(4)\n",
      "memory usage: 720.4+ KB\n"
     ]
    }
   ],
   "source": [
    "data.info()    # основная информация о датафрейме"
   ]
  },
  {
   "cell_type": "code",
   "execution_count": 4,
   "id": "fa22763b-924c-4cc1-8875-438e8ca8317a",
   "metadata": {},
   "outputs": [
    {
     "data": {
      "text/plain": [
       "85"
      ]
     },
     "execution_count": 4,
     "metadata": {},
     "output_type": "execute_result"
    }
   ],
   "source": [
    "data['object_name'] = data['object_name'].str.lower()\n",
    "data[['object_name', 'chain', 'object_type', 'address', 'number']].duplicated().sum()  # проверка на дубликаты"
   ]
  },
  {
   "cell_type": "markdown",
   "id": "e750b1c9",
   "metadata": {},
   "source": [
    "Если привести все названия к нижнему регистру и откинуть id каждого объекта, можно найти 85 дубликатов. Зачистим их."
   ]
  },
  {
   "cell_type": "code",
   "execution_count": 5,
   "id": "a94a5277",
   "metadata": {},
   "outputs": [
    {
     "data": {
      "text/plain": [
       "0"
      ]
     },
     "execution_count": 5,
     "metadata": {},
     "output_type": "execute_result"
    }
   ],
   "source": [
    "data.drop_duplicates(subset=['object_name', 'chain', 'object_type', 'address', 'number'], inplace=True)\n",
    "data[['object_name', 'chain', 'object_type', 'address', 'number']].duplicated().sum() # финальная проверка на пропуски"
   ]
  },
  {
   "cell_type": "code",
   "execution_count": 6,
   "id": "4fec2e4a-0bfd-43c9-b0ea-c81063c56d6f",
   "metadata": {},
   "outputs": [
    {
     "data": {
      "text/plain": [
       "id             0\n",
       "object_name    0\n",
       "chain          0\n",
       "object_type    0\n",
       "address        0\n",
       "number         0\n",
       "dtype: int64"
      ]
     },
     "execution_count": 6,
     "metadata": {},
     "output_type": "execute_result"
    }
   ],
   "source": [
    "data.isna().sum() # проверка на пропуски"
   ]
  },
  {
   "cell_type": "markdown",
   "id": "fe5186a0-bb25-4fa0-b4c3-bcaa2fb2d8de",
   "metadata": {},
   "source": [
    "Выгруженный датафрейм data состоит из 6 столбцов и 15366 строк. Пропусков и дубликатов в нем не обнаружено. Все типы данных в порядке. Столбцы датафрейма содержат следующую информацию:\n",
    "    id — идентификатор объекта;\n",
    "    object_name — название объекта общественного питания;\n",
    "    chain — сетевой ресторан;\n",
    "    object_type — тип объекта общественного питания;\n",
    "    address — адрес;\n",
    "    number — количество посадочных мест."
   ]
  },
  {
   "cell_type": "markdown",
   "id": "fa849719",
   "metadata": {},
   "source": [
    "Проанализируем численные столбцы на аномальность"
   ]
  },
  {
   "cell_type": "code",
   "execution_count": 7,
   "id": "64784e2b",
   "metadata": {},
   "outputs": [
    {
     "name": "stdout",
     "output_type": "stream",
     "text": [
      "223439\n",
      "838\n"
     ]
    }
   ],
   "source": [
    "print(data['id'].max()) # максимальное и минимальное значение столбца с id\n",
    "print(data['id'].min())"
   ]
  },
  {
   "cell_type": "code",
   "execution_count": 8,
   "id": "39a3fd4e",
   "metadata": {},
   "outputs": [
    {
     "name": "stdout",
     "output_type": "stream",
     "text": [
      "1700\n",
      "0\n"
     ]
    }
   ],
   "source": [
    "print(data['number'].max()) # максимальное и минимальное значение столбца с количеством посадочных мест\n",
    "print(data['number'].min())"
   ]
  },
  {
   "cell_type": "code",
   "execution_count": 9,
   "id": "3ff163ee",
   "metadata": {},
   "outputs": [
    {
     "data": {
      "text/html": [
       "<div>\n",
       "<style scoped>\n",
       "    .dataframe tbody tr th:only-of-type {\n",
       "        vertical-align: middle;\n",
       "    }\n",
       "\n",
       "    .dataframe tbody tr th {\n",
       "        vertical-align: top;\n",
       "    }\n",
       "\n",
       "    .dataframe thead th {\n",
       "        text-align: right;\n",
       "    }\n",
       "</style>\n",
       "<table border=\"1\" class=\"dataframe\">\n",
       "  <thead>\n",
       "    <tr style=\"text-align: right;\">\n",
       "      <th></th>\n",
       "      <th>id</th>\n",
       "      <th>object_name</th>\n",
       "      <th>chain</th>\n",
       "      <th>object_type</th>\n",
       "      <th>address</th>\n",
       "      <th>number</th>\n",
       "    </tr>\n",
       "  </thead>\n",
       "  <tbody>\n",
       "    <tr>\n",
       "      <th>12723</th>\n",
       "      <td>199696</td>\n",
       "      <td>arena by soho family</td>\n",
       "      <td>нет</td>\n",
       "      <td>бар</td>\n",
       "      <td>город Москва, Кутузовский проспект, дом 36, ст...</td>\n",
       "      <td>1700</td>\n",
       "    </tr>\n",
       "  </tbody>\n",
       "</table>\n",
       "</div>"
      ],
      "text/plain": [
       "           id           object_name chain object_type  \\\n",
       "12723  199696  arena by soho family   нет         бар   \n",
       "\n",
       "                                                 address  number  \n",
       "12723  город Москва, Кутузовский проспект, дом 36, ст...    1700  "
      ]
     },
     "execution_count": 9,
     "metadata": {},
     "output_type": "execute_result"
    }
   ],
   "source": [
    "data.query('number == 1700') # проверка максимального значения посадочных мест"
   ]
  },
  {
   "cell_type": "markdown",
   "id": "e6acb2c1",
   "metadata": {},
   "source": [
    "Числовые значения в столбцах адекватные - нет отрицательных значений (что не допустимо). Максимальное значение в столбце с посадочными местами - 1700. Это достаточно много, но теоретически возможно и показалось подозрительным. При проверке выяснилось, что это большой бар для мероприятий. Так что все цифры в норме, диапазон адекватен, выбросов нет."
   ]
  },
  {
   "cell_type": "markdown",
   "id": "88b3a70b-a564-4ad9-a8b5-594ad752191e",
   "metadata": {},
   "source": [
    "### Анализ данных"
   ]
  },
  {
   "cell_type": "markdown",
   "id": "78979667-a24b-4b06-95e6-cec89203f2cb",
   "metadata": {},
   "source": [
    "Исследуем соотношение видов объектов общественного питания по количеству. Построим график."
   ]
  },
  {
   "cell_type": "code",
   "execution_count": 10,
   "id": "af5622c6-9776-4e3e-acd5-fc4bcc451294",
   "metadata": {},
   "outputs": [
    {
     "data": {
      "text/html": [
       "<div>\n",
       "<style scoped>\n",
       "    .dataframe tbody tr th:only-of-type {\n",
       "        vertical-align: middle;\n",
       "    }\n",
       "\n",
       "    .dataframe tbody tr th {\n",
       "        vertical-align: top;\n",
       "    }\n",
       "\n",
       "    .dataframe thead th {\n",
       "        text-align: right;\n",
       "    }\n",
       "</style>\n",
       "<table border=\"1\" class=\"dataframe\">\n",
       "  <thead>\n",
       "    <tr style=\"text-align: right;\">\n",
       "      <th></th>\n",
       "      <th>object_type</th>\n",
       "      <th>id</th>\n",
       "    </tr>\n",
       "  </thead>\n",
       "  <tbody>\n",
       "    <tr>\n",
       "      <th>0</th>\n",
       "      <td>кафе</td>\n",
       "      <td>6071</td>\n",
       "    </tr>\n",
       "    <tr>\n",
       "      <th>1</th>\n",
       "      <td>столовая</td>\n",
       "      <td>2584</td>\n",
       "    </tr>\n",
       "    <tr>\n",
       "      <th>2</th>\n",
       "      <td>ресторан</td>\n",
       "      <td>2282</td>\n",
       "    </tr>\n",
       "    <tr>\n",
       "      <th>3</th>\n",
       "      <td>предприятие быстрого обслуживания</td>\n",
       "      <td>1897</td>\n",
       "    </tr>\n",
       "    <tr>\n",
       "      <th>4</th>\n",
       "      <td>бар</td>\n",
       "      <td>855</td>\n",
       "    </tr>\n",
       "    <tr>\n",
       "      <th>5</th>\n",
       "      <td>буфет</td>\n",
       "      <td>576</td>\n",
       "    </tr>\n",
       "    <tr>\n",
       "      <th>6</th>\n",
       "      <td>кафетерий</td>\n",
       "      <td>395</td>\n",
       "    </tr>\n",
       "    <tr>\n",
       "      <th>7</th>\n",
       "      <td>закусочная</td>\n",
       "      <td>348</td>\n",
       "    </tr>\n",
       "    <tr>\n",
       "      <th>8</th>\n",
       "      <td>магазин (отдел кулинарии)</td>\n",
       "      <td>273</td>\n",
       "    </tr>\n",
       "  </tbody>\n",
       "</table>\n",
       "</div>"
      ],
      "text/plain": [
       "                         object_type    id\n",
       "0                               кафе  6071\n",
       "1                           столовая  2584\n",
       "2                           ресторан  2282\n",
       "3  предприятие быстрого обслуживания  1897\n",
       "4                                бар   855\n",
       "5                              буфет   576\n",
       "6                          кафетерий   395\n",
       "7                         закусочная   348\n",
       "8          магазин (отдел кулинарии)   273"
      ]
     },
     "metadata": {},
     "output_type": "display_data"
    },
    {
     "data": {
      "image/png": "[encoded data removed]",
      "text/plain": [
       "<Figure size 432x288 with 1 Axes>"
      ]
     },
     "metadata": {},
     "output_type": "display_data"
    }
   ],
   "source": [
    "type_perc = data.groupby('object_type').agg({'id': 'count'}).sort_values(by='id', ascending=False).reset_index()\n",
    "labels = list(data['object_type'].unique())\n",
    "vals = type_perc['id']\n",
    "\n",
    "display(type_perc)\n",
    "\n",
    "plt.pie(vals, labels= labels)\n",
    "plt.title('Соотношение видов объектов общественного питания по количеству')\n",
    "plt.show()"
   ]
  },
  {
   "cell_type": "markdown",
   "id": "b2fc2320-1166-4138-b226-a8e1c8749bee",
   "metadata": {},
   "source": [
    "Больше всего в Москве кафе. Меньше всего магазинов и закусочных."
   ]
  },
  {
   "cell_type": "markdown",
   "id": "1732a8aa-5fab-470b-8c99-680fc4b9d9ea",
   "metadata": {},
   "source": [
    "Исследуем соотношение сетевых и несетевых заведений по количеству. Построим график."
   ]
  },
  {
   "cell_type": "code",
   "execution_count": 11,
   "id": "c9a3ded8-7c12-4aa9-bd82-899583601314",
   "metadata": {},
   "outputs": [
    {
     "data": {
      "text/html": [
       "<div>\n",
       "<style scoped>\n",
       "    .dataframe tbody tr th:only-of-type {\n",
       "        vertical-align: middle;\n",
       "    }\n",
       "\n",
       "    .dataframe tbody tr th {\n",
       "        vertical-align: top;\n",
       "    }\n",
       "\n",
       "    .dataframe thead th {\n",
       "        text-align: right;\n",
       "    }\n",
       "</style>\n",
       "<table border=\"1\" class=\"dataframe\">\n",
       "  <thead>\n",
       "    <tr style=\"text-align: right;\">\n",
       "      <th></th>\n",
       "      <th>chain</th>\n",
       "      <th>id</th>\n",
       "    </tr>\n",
       "  </thead>\n",
       "  <tbody>\n",
       "    <tr>\n",
       "      <th>0</th>\n",
       "      <td>нет</td>\n",
       "      <td>12317</td>\n",
       "    </tr>\n",
       "    <tr>\n",
       "      <th>1</th>\n",
       "      <td>да</td>\n",
       "      <td>2964</td>\n",
       "    </tr>\n",
       "  </tbody>\n",
       "</table>\n",
       "</div>"
      ],
      "text/plain": [
       "  chain     id\n",
       "0   нет  12317\n",
       "1    да   2964"
      ]
     },
     "metadata": {},
     "output_type": "display_data"
    },
    {
     "data": {
      "image/png": "[encoded data removed]",
      "text/plain": [
       "<Figure size 432x288 with 1 Axes>"
      ]
     },
     "metadata": {},
     "output_type": "display_data"
    }
   ],
   "source": [
    "chain_perc = data.groupby('chain').agg({'id': 'count'}).sort_values(by='id', ascending=False).reset_index()\n",
    "labels = ['Не сетевые', 'Сетевые']\n",
    "vals = chain_perc['id']\n",
    "display(chain_perc)\n",
    "\n",
    "plt.pie(vals, labels=labels)\n",
    "plt.title('Соотношение сетевых и несетевых заведений по количеству')\n",
    "plt.show()"
   ]
  },
  {
   "cell_type": "markdown",
   "id": "2be0671a-9135-499b-8f4a-bc4ae6b2617f",
   "metadata": {},
   "source": [
    "На рынке Москвы подавляющиее большинство заведений общепита - не сетевые"
   ]
  },
  {
   "cell_type": "markdown",
   "id": "17639926-fe33-4714-a33b-1edf7c74b93b",
   "metadata": {},
   "source": [
    "Выясним, для какого вида объекта общественного питания характерно сетевое распространение"
   ]
  },
  {
   "cell_type": "code",
   "execution_count": 12,
   "id": "9eac6add-928f-4b9f-965b-c524cf77df64",
   "metadata": {},
   "outputs": [
    {
     "data": {
      "image/png": "[encoded data removed]",
      "text/plain": [
       "<Figure size 432x288 with 1 Axes>"
      ]
     },
     "metadata": {
      "needs_background": "light"
     },
     "output_type": "display_data"
    }
   ],
   "source": [
    "chain_data = data.groupby(['object_type', 'chain']).agg({'id': 'count'}).sort_values(by='object_type',  ascending=False).reset_index()\n",
    "\n",
    "sns.barplot(x='object_type', y='id', hue='chain', data=chain_data)\n",
    "plt.xticks(rotation=90)\n",
    "plt.show()"
   ]
  },
  {
   "cell_type": "markdown",
   "id": "ffffd1d5-13c4-4f09-9f74-2dec69cf9892",
   "metadata": {},
   "source": [
    "Сетевое распространение более характерно для предприятий быстрого обслуживания."
   ]
  },
  {
   "cell_type": "markdown",
   "id": "1d2804f4-586c-40d8-97a3-95da09fae1df",
   "metadata": {},
   "source": [
    "Выясним, что характерно для сетевых заведений: много заведений с небольшим числом посадочных мест в каждом или мало заведений с большим количеством посадочных мест"
   ]
  },
  {
   "cell_type": "code",
   "execution_count": 13,
   "id": "a8016598-bcef-40c0-b5d2-2bd3f772b969",
   "metadata": {},
   "outputs": [
    {
     "data": {
      "text/plain": [
       "[Text(0, 0.5, 'Заведения')]"
      ]
     },
     "execution_count": 13,
     "metadata": {},
     "output_type": "execute_result"
    },
    {
     "data": {
      "image/png": "[encoded data removed]",
      "text/plain": [
       "<Figure size 432x288 with 1 Axes>"
      ]
     },
     "metadata": {
      "needs_background": "light"
     },
     "output_type": "display_data"
    }
   ],
   "source": [
    "number_type = data.query('chain == \"да\"').groupby('number').agg({'id': 'count'}).sort_values(by='number',  ascending=False).reset_index()\n",
    "\n",
    "ax = sns.scatterplot(x='number', y='id', data=number_type)\n",
    "ax.set(title=\"Количественное распределение посадочных мест в сетевых заведениях\")\n",
    "ax.set(xlabel='Посадочные места')\n",
    "ax.set(ylabel='Заведения')"
   ]
  },
  {
   "cell_type": "markdown",
   "id": "689a031d-65ba-4d5c-810f-36c157f7523f",
   "metadata": {},
   "source": [
    "Для сетевых заведений Москвы более характерно большое количество заведений с небольшим числом посадочных мест в каждом."
   ]
  },
  {
   "cell_type": "markdown",
   "id": "273384df-3aee-448b-a836-5f42ba346097",
   "metadata": {},
   "source": [
    "Для каждого вида объекта общественного питания опишем среднее количество посадочных мест. Посмотрим, какой вид предоставляет в среднем самое большое количество посадочных мест. Построим графики."
   ]
  },
  {
   "cell_type": "code",
   "execution_count": 14,
   "id": "a5da4543-d1e6-42c6-b3ab-1451c7a02393",
   "metadata": {},
   "outputs": [
    {
     "data": {
      "text/html": [
       "<div>\n",
       "<style scoped>\n",
       "    .dataframe tbody tr th:only-of-type {\n",
       "        vertical-align: middle;\n",
       "    }\n",
       "\n",
       "    .dataframe tbody tr th {\n",
       "        vertical-align: top;\n",
       "    }\n",
       "\n",
       "    .dataframe thead th {\n",
       "        text-align: right;\n",
       "    }\n",
       "</style>\n",
       "<table border=\"1\" class=\"dataframe\">\n",
       "  <thead>\n",
       "    <tr style=\"text-align: right;\">\n",
       "      <th></th>\n",
       "      <th>object_type</th>\n",
       "      <th>number</th>\n",
       "    </tr>\n",
       "  </thead>\n",
       "  <tbody>\n",
       "    <tr>\n",
       "      <th>0</th>\n",
       "      <td>столовая</td>\n",
       "      <td>130.337848</td>\n",
       "    </tr>\n",
       "    <tr>\n",
       "      <th>1</th>\n",
       "      <td>ресторан</td>\n",
       "      <td>96.884750</td>\n",
       "    </tr>\n",
       "    <tr>\n",
       "      <th>2</th>\n",
       "      <td>буфет</td>\n",
       "      <td>51.425347</td>\n",
       "    </tr>\n",
       "    <tr>\n",
       "      <th>3</th>\n",
       "      <td>бар</td>\n",
       "      <td>43.533333</td>\n",
       "    </tr>\n",
       "    <tr>\n",
       "      <th>4</th>\n",
       "      <td>кафе</td>\n",
       "      <td>39.785703</td>\n",
       "    </tr>\n",
       "    <tr>\n",
       "      <th>5</th>\n",
       "      <td>предприятие быстрого обслуживания</td>\n",
       "      <td>20.808645</td>\n",
       "    </tr>\n",
       "    <tr>\n",
       "      <th>6</th>\n",
       "      <td>кафетерий</td>\n",
       "      <td>9.184810</td>\n",
       "    </tr>\n",
       "    <tr>\n",
       "      <th>7</th>\n",
       "      <td>закусочная</td>\n",
       "      <td>7.847701</td>\n",
       "    </tr>\n",
       "    <tr>\n",
       "      <th>8</th>\n",
       "      <td>магазин (отдел кулинарии)</td>\n",
       "      <td>5.589744</td>\n",
       "    </tr>\n",
       "  </tbody>\n",
       "</table>\n",
       "</div>"
      ],
      "text/plain": [
       "                         object_type      number\n",
       "0                           столовая  130.337848\n",
       "1                           ресторан   96.884750\n",
       "2                              буфет   51.425347\n",
       "3                                бар   43.533333\n",
       "4                               кафе   39.785703\n",
       "5  предприятие быстрого обслуживания   20.808645\n",
       "6                          кафетерий    9.184810\n",
       "7                         закусочная    7.847701\n",
       "8          магазин (отдел кулинарии)    5.589744"
      ]
     },
     "metadata": {},
     "output_type": "display_data"
    },
    {
     "data": {
      "image/png": "[encoded data removed]",
      "text/plain": [
       "<Figure size 432x288 with 1 Axes>"
      ]
     },
     "metadata": {
      "needs_background": "light"
     },
     "output_type": "display_data"
    }
   ],
   "source": [
    "number_mean = data.groupby('object_type').agg({'number': 'mean'}).sort_values(by='number',  ascending=False).reset_index()\n",
    "display(number_mean)\n",
    "\n",
    "labels = list(number_mean['object_type'].unique())\n",
    "vals = number_mean['number']\n",
    "\n",
    "with plt.style.context('seaborn-muted'):\n",
    "    plt.bar(labels, vals)\n",
    "    plt.xticks(rotation=90)\n",
    "    plt.title('Среднее количество посадочных мест по виду объекта')\n",
    "    plt.show()"
   ]
  },
  {
   "cell_type": "markdown",
   "id": "32334361-8089-40c7-8e91-376dfaa7b1f3",
   "metadata": {},
   "source": [
    "В среднем больше всего посадочных мест наблюдается в столовых и ресторанах."
   ]
  },
  {
   "cell_type": "markdown",
   "id": "34894d85-99b7-41ad-8697-f2dffbeed761",
   "metadata": {},
   "source": [
    "Выделим в отдельный столбец информацию об улице из столбца address"
   ]
  },
  {
   "cell_type": "code",
   "execution_count": 15,
   "id": "1735662c-562e-4751-a8b6-feee8085a01d",
   "metadata": {},
   "outputs": [
    {
     "data": {
      "text/html": [
       "<div>\n",
       "<style scoped>\n",
       "    .dataframe tbody tr th:only-of-type {\n",
       "        vertical-align: middle;\n",
       "    }\n",
       "\n",
       "    .dataframe tbody tr th {\n",
       "        vertical-align: top;\n",
       "    }\n",
       "\n",
       "    .dataframe thead th {\n",
       "        text-align: right;\n",
       "    }\n",
       "</style>\n",
       "<table border=\"1\" class=\"dataframe\">\n",
       "  <thead>\n",
       "    <tr style=\"text-align: right;\">\n",
       "      <th></th>\n",
       "      <th>id</th>\n",
       "      <th>object_name</th>\n",
       "      <th>chain</th>\n",
       "      <th>object_type</th>\n",
       "      <th>address</th>\n",
       "      <th>number</th>\n",
       "      <th>street</th>\n",
       "    </tr>\n",
       "  </thead>\n",
       "  <tbody>\n",
       "    <tr>\n",
       "      <th>0</th>\n",
       "      <td>151635</td>\n",
       "      <td>сметана</td>\n",
       "      <td>нет</td>\n",
       "      <td>кафе</td>\n",
       "      <td>город Москва, улица Егора Абакумова, дом 9</td>\n",
       "      <td>48</td>\n",
       "      <td>улица Егора Абакумова</td>\n",
       "    </tr>\n",
       "    <tr>\n",
       "      <th>1</th>\n",
       "      <td>77874</td>\n",
       "      <td>родник</td>\n",
       "      <td>нет</td>\n",
       "      <td>кафе</td>\n",
       "      <td>город Москва, улица Талалихина, дом 2/1, корпус 1</td>\n",
       "      <td>35</td>\n",
       "      <td>улица Талалихина</td>\n",
       "    </tr>\n",
       "    <tr>\n",
       "      <th>2</th>\n",
       "      <td>24309</td>\n",
       "      <td>кафе «академия»</td>\n",
       "      <td>нет</td>\n",
       "      <td>кафе</td>\n",
       "      <td>город Москва, Абельмановская улица, дом 6</td>\n",
       "      <td>95</td>\n",
       "      <td>Абельмановская улица</td>\n",
       "    </tr>\n",
       "    <tr>\n",
       "      <th>3</th>\n",
       "      <td>21894</td>\n",
       "      <td>пиццетория</td>\n",
       "      <td>да</td>\n",
       "      <td>кафе</td>\n",
       "      <td>город Москва, Абрамцевская улица, дом 1</td>\n",
       "      <td>40</td>\n",
       "      <td>Абрамцевская улица</td>\n",
       "    </tr>\n",
       "    <tr>\n",
       "      <th>4</th>\n",
       "      <td>119365</td>\n",
       "      <td>кафе «вишневая метель»</td>\n",
       "      <td>нет</td>\n",
       "      <td>кафе</td>\n",
       "      <td>город Москва, Абрамцевская улица, дом 9, корпус 1</td>\n",
       "      <td>50</td>\n",
       "      <td>Абрамцевская улица</td>\n",
       "    </tr>\n",
       "  </tbody>\n",
       "</table>\n",
       "</div>"
      ],
      "text/plain": [
       "       id             object_name chain object_type  \\\n",
       "0  151635                 сметана   нет        кафе   \n",
       "1   77874                  родник   нет        кафе   \n",
       "2   24309         кафе «академия»   нет        кафе   \n",
       "3   21894              пиццетория    да        кафе   \n",
       "4  119365  кафе «вишневая метель»   нет        кафе   \n",
       "\n",
       "                                             address  number  \\\n",
       "0         город Москва, улица Егора Абакумова, дом 9      48   \n",
       "1  город Москва, улица Талалихина, дом 2/1, корпус 1      35   \n",
       "2          город Москва, Абельмановская улица, дом 6      95   \n",
       "3            город Москва, Абрамцевская улица, дом 1      40   \n",
       "4  город Москва, Абрамцевская улица, дом 9, корпус 1      50   \n",
       "\n",
       "                  street  \n",
       "0  улица Егора Абакумова  \n",
       "1       улица Талалихина  \n",
       "2   Абельмановская улица  \n",
       "3     Абрамцевская улица  \n",
       "4     Абрамцевская улица  "
      ]
     },
     "execution_count": 15,
     "metadata": {},
     "output_type": "execute_result"
    }
   ],
   "source": [
    "data['street'] = data['address'].str.extract(r'(?:,\\s+)(.+?)(?:,)')\n",
    "data.head()"
   ]
  },
  {
   "cell_type": "markdown",
   "id": "88cdea7a-b48a-489d-998c-52f624435733",
   "metadata": {},
   "source": [
    "Построим график топ-10 улиц по количеству объектов общественного питания. Воспользуемся внешней информацией и узнаем, в каких районах Москвы находятся эти улицы"
   ]
  },
  {
   "cell_type": "code",
   "execution_count": 16,
   "id": "a8171b7c-7e42-4c97-b768-a4254c4d5eae",
   "metadata": {},
   "outputs": [
    {
     "data": {
      "text/html": [
       "<div>\n",
       "<style scoped>\n",
       "    .dataframe tbody tr th:only-of-type {\n",
       "        vertical-align: middle;\n",
       "    }\n",
       "\n",
       "    .dataframe tbody tr th {\n",
       "        vertical-align: top;\n",
       "    }\n",
       "\n",
       "    .dataframe thead th {\n",
       "        text-align: right;\n",
       "    }\n",
       "</style>\n",
       "<table border=\"1\" class=\"dataframe\">\n",
       "  <thead>\n",
       "    <tr style=\"text-align: right;\">\n",
       "      <th></th>\n",
       "      <th>street</th>\n",
       "      <th>number</th>\n",
       "    </tr>\n",
       "  </thead>\n",
       "  <tbody>\n",
       "    <tr>\n",
       "      <th>0</th>\n",
       "      <td>город Зеленоград</td>\n",
       "      <td>232</td>\n",
       "    </tr>\n",
       "    <tr>\n",
       "      <th>1</th>\n",
       "      <td>проспект Мира</td>\n",
       "      <td>203</td>\n",
       "    </tr>\n",
       "    <tr>\n",
       "      <th>2</th>\n",
       "      <td>Профсоюзная улица</td>\n",
       "      <td>181</td>\n",
       "    </tr>\n",
       "    <tr>\n",
       "      <th>3</th>\n",
       "      <td>Ленинградский проспект</td>\n",
       "      <td>170</td>\n",
       "    </tr>\n",
       "    <tr>\n",
       "      <th>4</th>\n",
       "      <td>Пресненская набережная</td>\n",
       "      <td>167</td>\n",
       "    </tr>\n",
       "    <tr>\n",
       "      <th>5</th>\n",
       "      <td>Варшавское шоссе</td>\n",
       "      <td>161</td>\n",
       "    </tr>\n",
       "    <tr>\n",
       "      <th>6</th>\n",
       "      <td>Ленинский проспект</td>\n",
       "      <td>147</td>\n",
       "    </tr>\n",
       "    <tr>\n",
       "      <th>7</th>\n",
       "      <td>поселение Сосенское</td>\n",
       "      <td>137</td>\n",
       "    </tr>\n",
       "    <tr>\n",
       "      <th>8</th>\n",
       "      <td>проспект Вернадского</td>\n",
       "      <td>128</td>\n",
       "    </tr>\n",
       "    <tr>\n",
       "      <th>9</th>\n",
       "      <td>Кутузовский проспект</td>\n",
       "      <td>114</td>\n",
       "    </tr>\n",
       "  </tbody>\n",
       "</table>\n",
       "</div>"
      ],
      "text/plain": [
       "                   street  number\n",
       "0        город Зеленоград     232\n",
       "1           проспект Мира     203\n",
       "2       Профсоюзная улица     181\n",
       "3  Ленинградский проспект     170\n",
       "4  Пресненская набережная     167\n",
       "5        Варшавское шоссе     161\n",
       "6      Ленинский проспект     147\n",
       "7     поселение Сосенское     137\n",
       "8    проспект Вернадского     128\n",
       "9    Кутузовский проспект     114"
      ]
     },
     "metadata": {},
     "output_type": "display_data"
    },
    {
     "data": {
      "image/png": "[encoded data removed]",
      "text/plain": [
       "<Figure size 432x288 with 1 Axes>"
      ]
     },
     "metadata": {
      "needs_background": "light"
     },
     "output_type": "display_data"
    }
   ],
   "source": [
    "top_streets = data['street'].value_counts().sort_values(ascending=False).head(10).reset_index()\n",
    "top_streets.columns = ['street', 'number']\n",
    "\n",
    "display(top_streets)\n",
    "labels = list(top_streets['street'])\n",
    "vals = list(top_streets['number'])\n",
    "\n",
    "with plt.style.context('seaborn-muted'):\n",
    "    plt.bar(labels, vals)\n",
    "    plt.xticks(rotation=90)\n",
    "    plt.title('Топ-10 улиц по количеству заведений')\n",
    "    plt.show()"
   ]
  },
  {
   "cell_type": "markdown",
   "id": "7687086a-7c98-43de-aebb-3e38b83f965b",
   "metadata": {
    "tags": []
   },
   "source": [
    "Самыми \"густонаселенными\" оказались Зеленоград и проспект Мира"
   ]
  },
  {
   "cell_type": "markdown",
   "id": "b59e3a35-6d5f-4b7b-b803-917c3911cf62",
   "metadata": {},
   "source": [
    "Изучим, в каких районах находятся данные улицы из ТОП-10. Для этого воспользуемся внешними данными"
   ]
  },
  {
   "cell_type": "code",
   "execution_count": 17,
   "id": "f7da2531-abb3-41ab-9f23-642de2696ce2",
   "metadata": {},
   "outputs": [
    {
     "data": {
      "text/html": [
       "<div>\n",
       "<style scoped>\n",
       "    .dataframe tbody tr th:only-of-type {\n",
       "        vertical-align: middle;\n",
       "    }\n",
       "\n",
       "    .dataframe tbody tr th {\n",
       "        vertical-align: top;\n",
       "    }\n",
       "\n",
       "    .dataframe thead th {\n",
       "        text-align: right;\n",
       "    }\n",
       "</style>\n",
       "<table border=\"1\" class=\"dataframe\">\n",
       "  <thead>\n",
       "    <tr style=\"text-align: right;\">\n",
       "      <th></th>\n",
       "      <th>streetname</th>\n",
       "      <th>areaid</th>\n",
       "      <th>okrug</th>\n",
       "      <th>area</th>\n",
       "    </tr>\n",
       "  </thead>\n",
       "  <tbody>\n",
       "    <tr>\n",
       "      <th>0</th>\n",
       "      <td>Выставочный переулок</td>\n",
       "      <td>17</td>\n",
       "      <td>ЦАО</td>\n",
       "      <td>Пресненский район</td>\n",
       "    </tr>\n",
       "    <tr>\n",
       "      <th>1</th>\n",
       "      <td>улица Гашека</td>\n",
       "      <td>17</td>\n",
       "      <td>ЦАО</td>\n",
       "      <td>Пресненский район</td>\n",
       "    </tr>\n",
       "    <tr>\n",
       "      <th>2</th>\n",
       "      <td>Большая Никитская улица</td>\n",
       "      <td>17</td>\n",
       "      <td>ЦАО</td>\n",
       "      <td>Пресненский район</td>\n",
       "    </tr>\n",
       "    <tr>\n",
       "      <th>3</th>\n",
       "      <td>Глубокий переулок</td>\n",
       "      <td>17</td>\n",
       "      <td>ЦАО</td>\n",
       "      <td>Пресненский район</td>\n",
       "    </tr>\n",
       "    <tr>\n",
       "      <th>4</th>\n",
       "      <td>Большой Гнездниковский переулок</td>\n",
       "      <td>17</td>\n",
       "      <td>ЦАО</td>\n",
       "      <td>Пресненский район</td>\n",
       "    </tr>\n",
       "    <tr>\n",
       "      <th>...</th>\n",
       "      <td>...</td>\n",
       "      <td>...</td>\n",
       "      <td>...</td>\n",
       "      <td>...</td>\n",
       "    </tr>\n",
       "    <tr>\n",
       "      <th>4393</th>\n",
       "      <td>Вознесенский проезд</td>\n",
       "      <td>17</td>\n",
       "      <td>ЦАО</td>\n",
       "      <td>Пресненский район</td>\n",
       "    </tr>\n",
       "    <tr>\n",
       "      <th>4394</th>\n",
       "      <td>Волков переулок</td>\n",
       "      <td>17</td>\n",
       "      <td>ЦАО</td>\n",
       "      <td>Пресненский район</td>\n",
       "    </tr>\n",
       "    <tr>\n",
       "      <th>4395</th>\n",
       "      <td>Поварская улица</td>\n",
       "      <td>17</td>\n",
       "      <td>ЦАО</td>\n",
       "      <td>Пресненский район</td>\n",
       "    </tr>\n",
       "    <tr>\n",
       "      <th>4396</th>\n",
       "      <td>Кудринская площадь</td>\n",
       "      <td>17</td>\n",
       "      <td>ЦАО</td>\n",
       "      <td>Пресненский район</td>\n",
       "    </tr>\n",
       "    <tr>\n",
       "      <th>4397</th>\n",
       "      <td>Вспольный переулок</td>\n",
       "      <td>17</td>\n",
       "      <td>ЦАО</td>\n",
       "      <td>Пресненский район</td>\n",
       "    </tr>\n",
       "  </tbody>\n",
       "</table>\n",
       "<p>4398 rows × 4 columns</p>\n",
       "</div>"
      ],
      "text/plain": [
       "                           streetname  areaid okrug               area\n",
       "0                Выставочный переулок      17   ЦАО  Пресненский район\n",
       "1                        улица Гашека      17   ЦАО  Пресненский район\n",
       "2             Большая Никитская улица      17   ЦАО  Пресненский район\n",
       "3                   Глубокий переулок      17   ЦАО  Пресненский район\n",
       "4     Большой Гнездниковский переулок      17   ЦАО  Пресненский район\n",
       "...                               ...     ...   ...                ...\n",
       "4393              Вознесенский проезд      17   ЦАО  Пресненский район\n",
       "4394                  Волков переулок      17   ЦАО  Пресненский район\n",
       "4395                  Поварская улица      17   ЦАО  Пресненский район\n",
       "4396               Кудринская площадь      17   ЦАО  Пресненский район\n",
       "4397               Вспольный переулок      17   ЦАО  Пресненский район\n",
       "\n",
       "[4398 rows x 4 columns]"
      ]
     },
     "execution_count": 17,
     "metadata": {},
     "output_type": "execute_result"
    }
   ],
   "source": [
    "from io import BytesIO                                                       # импорт внешней таблицы с улицами и районами\n",
    "import requests\n",
    "spreadsheet_id = '1RUIl83reqwSD8vUlfERBW-VWwoWHn2Jj10c-UFuLMXY'\n",
    "file_name = 'https://docs.google.com/spreadsheets/d/{}/export?format=csv'.format(spreadsheet_id)\n",
    "r = requests.get(file_name)\n",
    "areas = pd.read_csv(BytesIO(r.content))\n",
    "areas['streetname'] = areas['streetname'].str.strip()\n",
    "areas['area'] = areas['area'].str.strip()\n",
    "areas['okrug'] = areas['okrug'].str.strip()\n",
    "areas"
   ]
  },
  {
   "cell_type": "code",
   "execution_count": 18,
   "id": "97d1340b-9f9b-470a-94f8-c8562fddb8bb",
   "metadata": {},
   "outputs": [
    {
     "data": {
      "text/html": [
       "<div>\n",
       "<style scoped>\n",
       "    .dataframe tbody tr th:only-of-type {\n",
       "        vertical-align: middle;\n",
       "    }\n",
       "\n",
       "    .dataframe tbody tr th {\n",
       "        vertical-align: top;\n",
       "    }\n",
       "\n",
       "    .dataframe thead th {\n",
       "        text-align: right;\n",
       "    }\n",
       "</style>\n",
       "<table border=\"1\" class=\"dataframe\">\n",
       "  <thead>\n",
       "    <tr style=\"text-align: right;\">\n",
       "      <th></th>\n",
       "      <th>street</th>\n",
       "      <th>number</th>\n",
       "      <th>streetname</th>\n",
       "      <th>okrug</th>\n",
       "      <th>area</th>\n",
       "    </tr>\n",
       "  </thead>\n",
       "  <tbody>\n",
       "    <tr>\n",
       "      <th>0</th>\n",
       "      <td>город Зеленоград</td>\n",
       "      <td>232</td>\n",
       "      <td>город Зеленоград</td>\n",
       "      <td>Зеленоград</td>\n",
       "      <td>Район Крюково</td>\n",
       "    </tr>\n",
       "    <tr>\n",
       "      <th>1</th>\n",
       "      <td>город Зеленоград</td>\n",
       "      <td>232</td>\n",
       "      <td>город Зеленоград</td>\n",
       "      <td>Зеленоград</td>\n",
       "      <td>Район Матушкино-Савелки</td>\n",
       "    </tr>\n",
       "    <tr>\n",
       "      <th>2</th>\n",
       "      <td>город Зеленоград</td>\n",
       "      <td>232</td>\n",
       "      <td>город Зеленоград</td>\n",
       "      <td>Зеленоград</td>\n",
       "      <td>Панфиловский район</td>\n",
       "    </tr>\n",
       "    <tr>\n",
       "      <th>3</th>\n",
       "      <td>проспект Мира</td>\n",
       "      <td>203</td>\n",
       "      <td>проспект Мира</td>\n",
       "      <td>СВАО</td>\n",
       "      <td>Алексеевский район</td>\n",
       "    </tr>\n",
       "    <tr>\n",
       "      <th>4</th>\n",
       "      <td>проспект Мира</td>\n",
       "      <td>203</td>\n",
       "      <td>проспект Мира</td>\n",
       "      <td>СВАО</td>\n",
       "      <td>Ярославский Район</td>\n",
       "    </tr>\n",
       "  </tbody>\n",
       "</table>\n",
       "</div>"
      ],
      "text/plain": [
       "             street  number        streetname       okrug  \\\n",
       "0  город Зеленоград     232  город Зеленоград  Зеленоград   \n",
       "1  город Зеленоград     232  город Зеленоград  Зеленоград   \n",
       "2  город Зеленоград     232  город Зеленоград  Зеленоград   \n",
       "3     проспект Мира     203     проспект Мира        СВАО   \n",
       "4     проспект Мира     203     проспект Мира        СВАО   \n",
       "\n",
       "                      area  \n",
       "0            Район Крюково  \n",
       "1  Район Матушкино-Савелки  \n",
       "2       Панфиловский район  \n",
       "3       Алексеевский район  \n",
       "4        Ярославский Район  "
      ]
     },
     "metadata": {},
     "output_type": "display_data"
    },
    {
     "data": {
      "text/plain": [
       "Район Теплый Стан             2\n",
       "Ломоносовский район           2\n",
       "Район Гагаринский             2\n",
       "Район Тропарево-Никулино      2\n",
       "Район Проспект Вернадского    2\n",
       "Обручевский район             2\n",
       "Донской район                 2\n",
       "Район Крюково                 1\n",
       "Район Нагатино-Садовники      1\n",
       "Район Чертаново Северное      1\n",
       "Name: area, dtype: int64"
      ]
     },
     "execution_count": 18,
     "metadata": {},
     "output_type": "execute_result"
    }
   ],
   "source": [
    "top_10_area = top_streets.merge(areas[['streetname', 'okrug', 'area']], left_on='street', right_on='streetname') # объединение датафреймов с топ-10 улиц и районами, в которых они пролегают\n",
    "display(top_10_area.head())\n",
    "top_10_area['area'].value_counts().head(10)"
   ]
  },
  {
   "cell_type": "markdown",
   "id": "e37ef4d4-15cc-418c-a236-81c344e19625",
   "metadata": {},
   "source": [
    "Больше всего улиц с наибольшим количеством заведений пролегает через районы Теплый Стан, Ломоносовский, Гагаринский, Тропарево-Никулино, Проспект Вернадского, Обручевский и Донской"
   ]
  },
  {
   "cell_type": "markdown",
   "id": "a2304e6f-73eb-4960-a572-62a4520b1b88",
   "metadata": {},
   "source": [
    "Найдем число улиц с одним объектом общественного питания. Воспользуемся внешней информацией узнаем, в каких районах Москвы находятся эти улицы"
   ]
  },
  {
   "cell_type": "code",
   "execution_count": 19,
   "id": "b90bebdf-a0bd-4fb2-9c09-0930d725b7ba",
   "metadata": {},
   "outputs": [
    {
     "name": "stdout",
     "output_type": "stream",
     "text": [
      "Число улиц с одним объектом общественного питания: 571\n"
     ]
    },
    {
     "data": {
      "text/html": [
       "<div>\n",
       "<style scoped>\n",
       "    .dataframe tbody tr th:only-of-type {\n",
       "        vertical-align: middle;\n",
       "    }\n",
       "\n",
       "    .dataframe tbody tr th {\n",
       "        vertical-align: top;\n",
       "    }\n",
       "\n",
       "    .dataframe thead th {\n",
       "        text-align: right;\n",
       "    }\n",
       "</style>\n",
       "<table border=\"1\" class=\"dataframe\">\n",
       "  <thead>\n",
       "    <tr style=\"text-align: right;\">\n",
       "      <th></th>\n",
       "      <th>street</th>\n",
       "      <th>number</th>\n",
       "    </tr>\n",
       "  </thead>\n",
       "  <tbody>\n",
       "    <tr>\n",
       "      <th>1317</th>\n",
       "      <td>Петровско-Разумовская аллея</td>\n",
       "      <td>1</td>\n",
       "    </tr>\n",
       "    <tr>\n",
       "      <th>1318</th>\n",
       "      <td>2-й Щемиловский переулок</td>\n",
       "      <td>1</td>\n",
       "    </tr>\n",
       "    <tr>\n",
       "      <th>1319</th>\n",
       "      <td>Авиационный переулок</td>\n",
       "      <td>1</td>\n",
       "    </tr>\n",
       "    <tr>\n",
       "      <th>1320</th>\n",
       "      <td>2-й Полевой переулок</td>\n",
       "      <td>1</td>\n",
       "    </tr>\n",
       "    <tr>\n",
       "      <th>1321</th>\n",
       "      <td>улица Васильцовский Стан</td>\n",
       "      <td>1</td>\n",
       "    </tr>\n",
       "    <tr>\n",
       "      <th>1322</th>\n",
       "      <td>Иваньковское шоссе</td>\n",
       "      <td>1</td>\n",
       "    </tr>\n",
       "    <tr>\n",
       "      <th>1323</th>\n",
       "      <td>улица Щорса</td>\n",
       "      <td>1</td>\n",
       "    </tr>\n",
       "    <tr>\n",
       "      <th>1324</th>\n",
       "      <td>2-й Неопалимовский переулок</td>\n",
       "      <td>1</td>\n",
       "    </tr>\n",
       "    <tr>\n",
       "      <th>1325</th>\n",
       "      <td>Вербная улица</td>\n",
       "      <td>1</td>\n",
       "    </tr>\n",
       "    <tr>\n",
       "      <th>1326</th>\n",
       "      <td>поселение Филимонковское</td>\n",
       "      <td>1</td>\n",
       "    </tr>\n",
       "  </tbody>\n",
       "</table>\n",
       "</div>"
      ],
      "text/plain": [
       "                           street  number\n",
       "1317  Петровско-Разумовская аллея       1\n",
       "1318     2-й Щемиловский переулок       1\n",
       "1319         Авиационный переулок       1\n",
       "1320         2-й Полевой переулок       1\n",
       "1321     улица Васильцовский Стан       1\n",
       "1322           Иваньковское шоссе       1\n",
       "1323                  улица Щорса       1\n",
       "1324  2-й Неопалимовский переулок       1\n",
       "1325                Вербная улица       1\n",
       "1326     поселение Филимонковское       1"
      ]
     },
     "execution_count": 19,
     "metadata": {},
     "output_type": "execute_result"
    }
   ],
   "source": [
    "one_inst_street = data['street'].value_counts().sort_values(ascending=False).reset_index()\n",
    "one_inst_street.columns = ['street', 'number']\n",
    "one_inst_street = one_inst_street.query('number == 1')\n",
    "print('Число улиц с одним объектом общественного питания:', len(one_inst_street))\n",
    "\n",
    "one_inst_street.head(10)"
   ]
  },
  {
   "cell_type": "markdown",
   "id": "a117b479-c1e3-481b-9526-8ac5fb15a8f1",
   "metadata": {},
   "source": [
    "Также объединим эту таблицу с данными о районах и посмотрим, какие районы наименее популярные"
   ]
  },
  {
   "cell_type": "code",
   "execution_count": 20,
   "id": "741347c2-35fa-48d3-a566-86a190ab83d2",
   "metadata": {},
   "outputs": [
    {
     "data": {
      "text/html": [
       "<div>\n",
       "<style scoped>\n",
       "    .dataframe tbody tr th:only-of-type {\n",
       "        vertical-align: middle;\n",
       "    }\n",
       "\n",
       "    .dataframe tbody tr th {\n",
       "        vertical-align: top;\n",
       "    }\n",
       "\n",
       "    .dataframe thead th {\n",
       "        text-align: right;\n",
       "    }\n",
       "</style>\n",
       "<table border=\"1\" class=\"dataframe\">\n",
       "  <thead>\n",
       "    <tr style=\"text-align: right;\">\n",
       "      <th></th>\n",
       "      <th>street</th>\n",
       "      <th>number</th>\n",
       "      <th>streetname</th>\n",
       "      <th>okrug</th>\n",
       "      <th>area</th>\n",
       "    </tr>\n",
       "  </thead>\n",
       "  <tbody>\n",
       "    <tr>\n",
       "      <th>0</th>\n",
       "      <td>Петровско-Разумовская аллея</td>\n",
       "      <td>1</td>\n",
       "      <td>Петровско-Разумовская аллея</td>\n",
       "      <td>САО</td>\n",
       "      <td>Район Аэропорт</td>\n",
       "    </tr>\n",
       "    <tr>\n",
       "      <th>1</th>\n",
       "      <td>2-й Щемиловский переулок</td>\n",
       "      <td>1</td>\n",
       "      <td>2-й Щемиловский переулок</td>\n",
       "      <td>ЦАО</td>\n",
       "      <td>Тверской район</td>\n",
       "    </tr>\n",
       "    <tr>\n",
       "      <th>2</th>\n",
       "      <td>Авиационный переулок</td>\n",
       "      <td>1</td>\n",
       "      <td>Авиационный переулок</td>\n",
       "      <td>САО</td>\n",
       "      <td>Район Аэропорт</td>\n",
       "    </tr>\n",
       "    <tr>\n",
       "      <th>3</th>\n",
       "      <td>2-й Полевой переулок</td>\n",
       "      <td>1</td>\n",
       "      <td>2-й Полевой переулок</td>\n",
       "      <td>ВАО</td>\n",
       "      <td>Район Сокольники</td>\n",
       "    </tr>\n",
       "    <tr>\n",
       "      <th>4</th>\n",
       "      <td>улица Васильцовский Стан</td>\n",
       "      <td>1</td>\n",
       "      <td>улица Васильцовский Стан</td>\n",
       "      <td>ЮВАО</td>\n",
       "      <td>Рязанский район</td>\n",
       "    </tr>\n",
       "  </tbody>\n",
       "</table>\n",
       "</div>"
      ],
      "text/plain": [
       "                        street  number                   streetname okrug  \\\n",
       "0  Петровско-Разумовская аллея       1  Петровско-Разумовская аллея   САО   \n",
       "1     2-й Щемиловский переулок       1     2-й Щемиловский переулок   ЦАО   \n",
       "2         Авиационный переулок       1         Авиационный переулок   САО   \n",
       "3         2-й Полевой переулок       1         2-й Полевой переулок   ВАО   \n",
       "4     улица Васильцовский Стан       1     улица Васильцовский Стан  ЮВАО   \n",
       "\n",
       "               area  \n",
       "0    Район Аэропорт  \n",
       "1    Тверской район  \n",
       "2    Район Аэропорт  \n",
       "3  Район Сокольники  \n",
       "4   Рязанский район  "
      ]
     },
     "metadata": {},
     "output_type": "display_data"
    },
    {
     "data": {
      "text/plain": [
       "Таганский район        27\n",
       "Район Хамовники        26\n",
       "Басманный район        25\n",
       "Тверской район         20\n",
       "Пресненский район      19\n",
       "Район Марьина роща     18\n",
       "Район Арбат            17\n",
       "Мещанский район        16\n",
       "Район Сокольники       15\n",
       "Район Замоскворечье    14\n",
       "Name: area, dtype: int64"
      ]
     },
     "execution_count": 20,
     "metadata": {},
     "output_type": "execute_result"
    }
   ],
   "source": [
    "one_inst_street_area = one_inst_street.merge(areas[['streetname', 'okrug', 'area']], left_on='street', right_on='streetname') # объединение датафреймов с топ-10 улиц и районами, в которых они пролегают\n",
    "display(one_inst_street_area.head())\n",
    "one_inst_street_area['area'].value_counts().head(10)\n"
   ]
  },
  {
   "cell_type": "markdown",
   "id": "44f556e4-eb76-4690-b074-0300f6e75314",
   "metadata": {},
   "source": [
    "По числу улиц с одним заведением лидирую Таганский район, Хамовники и Басманный район. Данные районы расположены в центре. Такую статистику можно объяснить тем, что в этих районах много старых маленьких и коротких улочек, в которых будет трудно и нецелесообразно размещать много заведений, да и аренда там дорогая."
   ]
  },
  {
   "cell_type": "markdown",
   "id": "79dd46ee-ea1c-4eb4-b7c6-2b8804413a79",
   "metadata": {},
   "source": [
    "### Вывод"
   ]
  },
  {
   "cell_type": "markdown",
   "id": "fa2006db-de9a-4d00-b962-5932bb0514f6",
   "metadata": {},
   "source": [
    "    В ходе выполнения проекта мы получили и проверили данные. Исследовали соотношение видов объектов общественного питания по количеству, соотношение сетевых и несетевых заведений по количеству. Узнали, для какого вида объекта общественного питания характерно сетевое распространение и что характерно для сетевых заведений: много заведений с небольшим числом посадочных мест в каждом или мало заведений с большим количеством посадочных мест. Для каждого вида объекта общественного питания описали среднее количество посадочных мест. Проверили, какой вид предоставляет в среднем самое большое количество посадочных мест. Построили график топ-10 улиц по количеству объектов общественного питания и нашли число улиц с одним объектом общественного питания, разбили по районам с использованием внешней информации. По итоговым данным подготовили презентацию.\n",
    "    В общем в Москве по соотношению видов преобладают кафе, столовые и рестораны, среди которых несетевых заведений - подавляющее большинство. Если рассматривать только сетевые заведения, то для них характерно большое количество заведений с небольшим числом посадочных мест в каждом, а также в них преобладают кафе, фастфуд и рестораны. Самое большое количество посадочных мест в среднем наблюдается в столовых, ресторанах и буфетах. Если рассматривать расположение изучаемых заведений, то по количеству мест общепита лидируют улицы Зеленограда и проспект Мира - берут площадью и протяженностью. В разрезе районов больше всего улиц с наибольшим количеством заведений пролегает через районы Теплый Стан, Ломоносовский, Гагаринский, Тропарево-Никулино, Проспект Вернадского, Обручевский и Донской. В то время, как самые \"малонаселенные\" районы (районы с самым большим количеством улиц, имеющих лишь одно заведение) - Таганский, Хамовники и Басманный. По полученным данным можно сделать вывод, что наилучший вариант для Москвы с точки зрения наименьшей конкуренции и наибольшей прибыли - это несетевой ресторан с большим количеством посадочных мест в Таганском районе."
   ]
  },
  {
   "cell_type": "markdown",
   "id": "2499b63c-060e-4789-8cc6-8d8abf81e7ac",
   "metadata": {},
   "source": [
    "Презентация: https://disk.yandex.ru/i/VphiI1obVmNVEQ"
   ]
  },
  {
   "cell_type": "code",
   "execution_count": null,
   "id": "189539a2",
   "metadata": {},
   "outputs": [],
   "source": []
  }
 ],
 "metadata": {
  "ExecuteTimeLog": [
   {
    "duration": 1399,
    "start_time": "2022-05-31T06:22:07.384Z"
   },
   {
    "duration": 91,
    "start_time": "2022-05-31T06:22:08.785Z"
   },
   {
    "duration": 13,
    "start_time": "2022-05-31T06:22:08.878Z"
   },
   {
    "duration": 50,
    "start_time": "2022-05-31T06:22:08.893Z"
   },
   {
    "duration": 15,
    "start_time": "2022-05-31T06:22:08.947Z"
   },
   {
    "duration": 257,
    "start_time": "2022-05-31T06:22:08.968Z"
   },
   {
    "duration": 118,
    "start_time": "2022-05-31T06:22:09.227Z"
   },
   {
    "duration": 219,
    "start_time": "2022-05-31T06:22:09.353Z"
   },
   {
    "duration": 205,
    "start_time": "2022-05-31T06:22:09.577Z"
   },
   {
    "duration": 221,
    "start_time": "2022-05-31T06:22:09.784Z"
   },
   {
    "duration": 60,
    "start_time": "2022-05-31T06:22:10.007Z"
   },
   {
    "duration": 229,
    "start_time": "2022-05-31T06:22:10.069Z"
   },
   {
    "duration": 1505,
    "start_time": "2022-05-31T06:22:10.300Z"
   },
   {
    "duration": 25,
    "start_time": "2022-05-31T06:22:11.809Z"
   },
   {
    "duration": 26,
    "start_time": "2022-05-31T06:22:11.836Z"
   },
   {
    "duration": 40,
    "start_time": "2022-05-31T06:22:11.865Z"
   },
   {
    "duration": 1432,
    "start_time": "2022-05-31T12:08:51.058Z"
   },
   {
    "duration": 307,
    "start_time": "2022-05-31T12:08:52.492Z"
   },
   {
    "duration": 18,
    "start_time": "2022-05-31T12:08:52.802Z"
   },
   {
    "duration": 24,
    "start_time": "2022-05-31T12:08:53.453Z"
   },
   {
    "duration": 9,
    "start_time": "2022-05-31T12:08:54.983Z"
   },
   {
    "duration": 15,
    "start_time": "2022-05-31T12:09:25.329Z"
   },
   {
    "duration": 15,
    "start_time": "2022-05-31T12:09:44.678Z"
   },
   {
    "duration": 24,
    "start_time": "2022-05-31T12:10:01.066Z"
   },
   {
    "duration": 32,
    "start_time": "2022-05-31T12:10:52.994Z"
   },
   {
    "duration": 34,
    "start_time": "2022-05-31T12:11:02.956Z"
   },
   {
    "duration": 50,
    "start_time": "2022-05-31T12:11:08.198Z"
   },
   {
    "duration": 25,
    "start_time": "2022-05-31T12:11:36.662Z"
   },
   {
    "duration": 123,
    "start_time": "2022-05-31T12:13:34.485Z"
   },
   {
    "duration": 45,
    "start_time": "2022-05-31T12:16:36.193Z"
   },
   {
    "duration": 40,
    "start_time": "2022-05-31T12:16:47.641Z"
   },
   {
    "duration": 17,
    "start_time": "2022-05-31T12:16:59.614Z"
   },
   {
    "duration": 29,
    "start_time": "2022-05-31T12:17:24.866Z"
   },
   {
    "duration": 510,
    "start_time": "2022-05-31T12:18:04.400Z"
   },
   {
    "duration": 40,
    "start_time": "2022-05-31T12:18:12.989Z"
   },
   {
    "duration": 1213,
    "start_time": "2022-05-31T12:19:40.997Z"
   },
   {
    "duration": 86,
    "start_time": "2022-05-31T12:19:42.212Z"
   },
   {
    "duration": 15,
    "start_time": "2022-05-31T12:19:42.300Z"
   },
   {
    "duration": 35,
    "start_time": "2022-05-31T12:19:42.317Z"
   },
   {
    "duration": 27,
    "start_time": "2022-05-31T12:19:42.353Z"
   },
   {
    "duration": 8,
    "start_time": "2022-05-31T12:19:42.382Z"
   },
   {
    "duration": 262,
    "start_time": "2022-05-31T12:19:42.391Z"
   },
   {
    "duration": 108,
    "start_time": "2022-05-31T12:19:42.657Z"
   },
   {
    "duration": 270,
    "start_time": "2022-05-31T12:19:42.767Z"
   },
   {
    "duration": 202,
    "start_time": "2022-05-31T12:19:43.040Z"
   },
   {
    "duration": 185,
    "start_time": "2022-05-31T12:19:43.244Z"
   },
   {
    "duration": 43,
    "start_time": "2022-05-31T12:19:43.433Z"
   },
   {
    "duration": 188,
    "start_time": "2022-05-31T12:19:43.479Z"
   },
   {
    "duration": 1268,
    "start_time": "2022-05-31T12:19:43.669Z"
   },
   {
    "duration": 28,
    "start_time": "2022-05-31T12:19:44.939Z"
   },
   {
    "duration": 17,
    "start_time": "2022-05-31T12:19:44.969Z"
   },
   {
    "duration": 46,
    "start_time": "2022-05-31T12:19:44.988Z"
   },
   {
    "duration": 33,
    "start_time": "2022-05-31T12:22:27.101Z"
   },
   {
    "duration": 6,
    "start_time": "2022-05-31T12:25:06.336Z"
   },
   {
    "duration": 4,
    "start_time": "2022-05-31T12:25:27.230Z"
   },
   {
    "duration": 5,
    "start_time": "2022-05-31T12:26:22.912Z"
   },
   {
    "duration": 15,
    "start_time": "2022-05-31T12:31:07.455Z"
   },
   {
    "duration": 658,
    "start_time": "2022-05-31T12:52:11.861Z"
   },
   {
    "duration": 187,
    "start_time": "2022-05-31T12:52:38.614Z"
   },
   {
    "duration": 18,
    "start_time": "2022-05-31T12:54:15.327Z"
   },
   {
    "duration": 196,
    "start_time": "2022-05-31T12:54:19.296Z"
   },
   {
    "duration": 14,
    "start_time": "2022-05-31T12:54:39.372Z"
   },
   {
    "duration": 170,
    "start_time": "2022-05-31T12:54:47.376Z"
   },
   {
    "duration": 386,
    "start_time": "2022-05-31T12:57:44.903Z"
   },
   {
    "duration": 125,
    "start_time": "2022-05-31T12:58:02.360Z"
   },
   {
    "duration": 424,
    "start_time": "2022-05-31T12:58:31.798Z"
   },
   {
    "duration": 401,
    "start_time": "2022-05-31T12:58:37.927Z"
   },
   {
    "duration": 191,
    "start_time": "2022-05-31T12:59:02.779Z"
   },
   {
    "duration": 189,
    "start_time": "2022-05-31T13:00:52.989Z"
   },
   {
    "duration": 161,
    "start_time": "2022-05-31T13:01:12.513Z"
   },
   {
    "duration": 290,
    "start_time": "2022-05-31T13:01:49.664Z"
   },
   {
    "duration": 198,
    "start_time": "2022-05-31T13:05:12.073Z"
   },
   {
    "duration": 32,
    "start_time": "2022-05-31T13:09:15.054Z"
   },
   {
    "duration": 192,
    "start_time": "2022-05-31T13:09:23.234Z"
   },
   {
    "duration": 214,
    "start_time": "2022-05-31T13:14:09.368Z"
   },
   {
    "duration": 224,
    "start_time": "2022-05-31T13:14:49.477Z"
   },
   {
    "duration": 231,
    "start_time": "2022-05-31T13:15:28.382Z"
   },
   {
    "duration": 262,
    "start_time": "2022-05-31T13:15:43.042Z"
   },
   {
    "duration": 252,
    "start_time": "2022-05-31T13:15:54.771Z"
   }
  ],
  "kernelspec": {
   "display_name": "Python 3",
   "language": "python",
   "name": "python3"
  },
  "language_info": {
   "codemirror_mode": {
    "name": "ipython",
    "version": 3
   },
   "file_extension": ".py",
   "mimetype": "text/x-python",
   "name": "python",
   "nbconvert_exporter": "python",
   "pygments_lexer": "ipython3",
   "version": "3.8.7"
  },
  "toc": {
   "base_numbering": 1,
   "nav_menu": {},
   "number_sections": true,
   "sideBar": true,
   "skip_h1_title": true,
   "title_cell": "Table of Contents",
   "title_sidebar": "Contents",
   "toc_cell": false,
   "toc_position": {},
   "toc_section_display": true,
   "toc_window_display": false
  }
 },
 "nbformat": 4,
 "nbformat_minor": 5
}
